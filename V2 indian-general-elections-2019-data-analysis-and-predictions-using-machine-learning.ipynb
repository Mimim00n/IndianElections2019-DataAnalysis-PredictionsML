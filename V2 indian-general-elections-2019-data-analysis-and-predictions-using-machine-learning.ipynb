
{
 "cells": [
  {
   "cell_type": "markdown",
   "metadata": {},
   "source": [
    "# Indian General Elections 2019: Data Analysis And Prediction Using Machine Learning\n",
    "\n",
    "<img src=\"https://www.ft.com/__origami/service/image/v2/images/raw/http%3A%2F%2Fcom.ft.imagepublish.upp-prod-us.s3.amazonaws.com%2F5c2322c8-7deb-11e9-81d2-f785092ab560?fit=scale-down&source=next&width=700\" width=\"1000\">\n",
    "\n",
    "## Table Of Contents\n",
    "\n",
    "1. Introduction\n",
    "2. Environment Setup\n",
    "3. Gathering The Data\n",
    "4. Features\n",
    "5. Data Preprocessing and Basic Exploratory Data Analysis (EDA)\n",
    "6. Data Analysis <br>\n",
    "    6.1 Lok sabha 2019: Election results<br>\n",
    "    6.2 Party-wise vote share<br>\n",
    "    6.3 Age distribution of candidates<br>\n",
    "    6.4 Caste distribution of candidates<br>\n",
    "    6.5 Criminal records of candidates<br>\n",
    "    6.6 Key battlegrounds of the election<br>\n",
    "7. Preparing the data <br>\n",
    "    7.1 Scaling the data<br>\n",
    "    7.2 Resampling the data<br>\n",
    "8. Machine learning model experimentation - classification\n",
    "9. Evaluating the model - classification<br>\n",
    "    9.1 Classification report<br>\n",
    "    9.2 Confusion matrix<br>\n",
    "    9.3 ROC Curve<br>\n",
    "10. Conclusion"
   ]
  },
  {
   "cell_type": "markdown",
   "metadata": {},
   "source": [
    "## 1. Introduction\n",
    "\n",
    "<p> <img src=\"https://upload.wikimedia.org/wikipedia/commons/thumb/3/33/March_2020_Parliament_Lok_sabha.svg/1200px-March_2020_Parliament_Lok_sabha.svg.png\", style=\"float:top\", width=\"300\", height=\"180\"> </p>\n",
    "<br>\n",
    "<p> The 2019 Indian general election was held in seven phases from 11 April to 19 May 2019 to constitute the 17th Lok Sabha. The votes were counted, and the result was declared on 23 May. About 911 million people were eligible to vote, and voter turnout was over 67 percent – the highest ever and the highest ever participation by women voters.\n",
    "The Bharatiya Janata Party won 303 seats, further increasing its substantial majority, and the BJP-led National Democratic Alliance (NDA) won 353 seats. The BJP won 37.36% of votes, while the NDA's combined ballot was 45% of the 60.37 crore votes that were polled. The Indian National Congress won just 52 seats, and the Congress-led United Progressive Alliance won 91. Other parties and their alliances won 98 seats. </p>\n",
    "<br>\n",
    "<p> In this notebook, I have used data visualization tools such as Matplotlib, Plotly, and Seaborn to visualize how India's people voted during the 2019 elections. I have also experimented with Random Forest Classifier, Support Vector Machine, and K-Nearest Neighbor machine learning models to make predictions. The models' hyperparameters were first tuned manually, and then GridSearchCV was used to find the most optimum results. I have also evaluated the performance metrics of these models and compared them with each other. </p>"
   ]
  },
  {
   "cell_type": "markdown",
   "metadata": {},
   "source": [
    "## 2. Environment Setup"
   ]
  },
  {
   "cell_type": "code",
   "execution_count": 52,
   "metadata": {},
   "outputs": [
    {
     "data": {
      "text/html": [
       "        <script type=\"text/javascript\">\n",
       "        window.PlotlyConfig = {MathJaxConfig: 'local'};\n",
       "        if (window.MathJax) {MathJax.Hub.Config({SVG: {font: \"STIX-Web\"}});}\n",
       "        if (typeof require !== 'undefined') {\n",
       "        require.undef(\"plotly\");\n",
       "        requirejs.config({\n",
       "            paths: {\n",
       "                'plotly': ['https://cdn.plot.ly/plotly-2.2.0.min']\n",
       "            }\n",
       "        });\n",
       "        require(['plotly'], function(Plotly) {\n",
       "            window._Plotly = Plotly;\n",
       "        });\n",
       "        }\n",
       "        </script>\n",
       "        "
      ]
     },
     "metadata": {},
     "output_type": "display_data"
    }
   ],
   "source": [
    "# Import numpy, pandas for data manipulation\n",
    "import numpy as np\n",
    "import pandas as pd\n",
    "from collections import Counter\n",
    "import time\n",
    "\n",
    "# Import plotly, matplotlib and seaborn as visualization tools\n",
    "import matplotlib.pyplot as plt\n",
    "from plotly import tools\n",
    "import chart_studio.plotly as py\n",
    "import plotly.graph_objs as go\n",
    "import plotly.figure_factory as ff\n",
    "import plotly.express as px\n",
    "from plotly.subplots import make_subplots\n",
    "from plotly.offline import download_plotlyjs, init_notebook_mode\n",
    "import seaborn as sns\n",
    "\n",
    "# Import for resampling the data\n",
    "from imblearn.over_sampling import SMOTE\n",
    "\n",
    "# Import for scaling the data\n",
    "from sklearn.preprocessing import MinMaxScaler, OrdinalEncoder, LabelEncoder\n",
    "\n",
    "# Import machine learning models\n",
    "from sklearn.ensemble import RandomForestClassifier, GradientBoostingClassifier, AdaBoostClassifier\n",
    "from sklearn.svm import SVC\n",
    "from sklearn.neighbors import KNeighborsClassifier\n",
    "from sklearn.linear_model import LogisticRegression\n",
    "import xgboost as xgb\n",
    "from catboost import CatBoostClassifier\n",
    "import lightgbm as lgb\n",
    "from sklearn.tree import DecisionTreeClassifier\n",
    "\n",
    "# Import model evaluation metrics\n",
    "from sklearn.metrics import classification_report, confusion_matrix, plot_roc_curve\n",
    "from sklearn.metrics import accuracy_score, precision_score, recall_score, f1_score\n",
    "from sklearn.model_selection import train_test_split, cross_val_score\n",
    "from sklearn.model_selection import RandomizedSearchCV, GridSearchCV\n",
    "\n",
    "# Plot should appear inside the jupyter notebook\n",
    "%matplotlib inline\n",
    "\n",
    "init_notebook_mode(connected=True)"
   ]
  },
  {
   "cell_type": "markdown",
   "metadata": {},
   "source": [
    "## 3. Gathering The Data\n",
    "\n",
    "The data for this project has been collected from Kaggle:\n",
    "https://www.kaggle.com/prakrutchauhan/indian-candidates-for-general-election-2019"
   ]
  },
  {
   "cell_type": "code",
   "execution_count": 5,
   "metadata": {
    "scrolled": true
   },
   "outputs": [
    {
     "data": {
      "text/html": [
       "<div>\n",
       "<style scoped>\n",
       "    .dataframe tbody tr th:only-of-type {\n",
       "        vertical-align: middle;\n",
       "    }\n",
       "\n",
       "    .dataframe tbody tr th {\n",
       "        vertical-align: top;\n",
       "    }\n",
       "\n",
       "    .dataframe thead th {\n",
       "        text-align: right;\n",
       "    }\n",
       "</style>\n",
       "<table border=\"1\" class=\"dataframe\">\n",
       "  <thead>\n",
       "    <tr style=\"text-align: right;\">\n",
       "      <th></th>\n",
       "      <th>STATE</th>\n",
       "      <th>CONSTITUENCY</th>\n",
       "      <th>NAME</th>\n",
       "      <th>WINNER</th>\n",
       "      <th>PARTY</th>\n",
       "      <th>SYMBOL</th>\n",
       "      <th>GENDER</th>\n",
       "      <th>CRIMINAL\\r\\nCASES</th>\n",
       "      <th>AGE</th>\n",
       "      <th>CATEGORY</th>\n",
       "      <th>EDUCATION</th>\n",
       "      <th>ASSETS</th>\n",
       "      <th>LIABILITIES</th>\n",
       "      <th>GENERAL\\r\\nVOTES</th>\n",
       "      <th>POSTAL\\r\\nVOTES</th>\n",
       "      <th>TOTAL\\r\\nVOTES</th>\n",
       "      <th>OVER TOTAL ELECTORS \\r\\nIN CONSTITUENCY</th>\n",
       "      <th>OVER TOTAL VOTES POLLED \\r\\nIN CONSTITUENCY</th>\n",
       "      <th>TOTAL ELECTORS</th>\n",
       "    </tr>\n",
       "  </thead>\n",
       "  <tbody>\n",
       "    <tr>\n",
       "      <th>0</th>\n",
       "      <td>Telangana</td>\n",
       "      <td>ADILABAD</td>\n",
       "      <td>SOYAM BAPU RAO</td>\n",
       "      <td>1</td>\n",
       "      <td>BJP</td>\n",
       "      <td>Lotus</td>\n",
       "      <td>MALE</td>\n",
       "      <td>52</td>\n",
       "      <td>52.0</td>\n",
       "      <td>ST</td>\n",
       "      <td>12th Pass</td>\n",
       "      <td>Rs 30,99,414\\r\\n ~ 30 Lacs+</td>\n",
       "      <td>Rs 2,31,450\\r\\n ~ 2 Lacs+</td>\n",
       "      <td>376892</td>\n",
       "      <td>482</td>\n",
       "      <td>377374</td>\n",
       "      <td>25.330684</td>\n",
       "      <td>35.468248</td>\n",
       "      <td>1489790</td>\n",
       "    </tr>\n",
       "    <tr>\n",
       "      <th>1</th>\n",
       "      <td>Telangana</td>\n",
       "      <td>ADILABAD</td>\n",
       "      <td>Godam Nagesh</td>\n",
       "      <td>0</td>\n",
       "      <td>TRS</td>\n",
       "      <td>Car</td>\n",
       "      <td>MALE</td>\n",
       "      <td>0</td>\n",
       "      <td>54.0</td>\n",
       "      <td>ST</td>\n",
       "      <td>Post Graduate</td>\n",
       "      <td>Rs 1,84,77,888\\r\\n ~ 1 Crore+</td>\n",
       "      <td>Rs 8,47,000\\r\\n ~ 8 Lacs+</td>\n",
       "      <td>318665</td>\n",
       "      <td>149</td>\n",
       "      <td>318814</td>\n",
       "      <td>21.399929</td>\n",
       "      <td>29.964370</td>\n",
       "      <td>1489790</td>\n",
       "    </tr>\n",
       "    <tr>\n",
       "      <th>2</th>\n",
       "      <td>Telangana</td>\n",
       "      <td>ADILABAD</td>\n",
       "      <td>RATHOD RAMESH</td>\n",
       "      <td>0</td>\n",
       "      <td>INC</td>\n",
       "      <td>Hand</td>\n",
       "      <td>MALE</td>\n",
       "      <td>3</td>\n",
       "      <td>52.0</td>\n",
       "      <td>ST</td>\n",
       "      <td>12th Pass</td>\n",
       "      <td>Rs 3,64,91,000\\r\\n ~ 3 Crore+</td>\n",
       "      <td>Rs 1,53,00,000\\r\\n ~ 1 Crore+</td>\n",
       "      <td>314057</td>\n",
       "      <td>181</td>\n",
       "      <td>314238</td>\n",
       "      <td>21.092771</td>\n",
       "      <td>29.534285</td>\n",
       "      <td>1489790</td>\n",
       "    </tr>\n",
       "    <tr>\n",
       "      <th>3</th>\n",
       "      <td>Telangana</td>\n",
       "      <td>ADILABAD</td>\n",
       "      <td>NOTA</td>\n",
       "      <td>0</td>\n",
       "      <td>NOTA</td>\n",
       "      <td>NaN</td>\n",
       "      <td>NaN</td>\n",
       "      <td>NaN</td>\n",
       "      <td>NaN</td>\n",
       "      <td>NaN</td>\n",
       "      <td>NaN</td>\n",
       "      <td>NaN</td>\n",
       "      <td>NaN</td>\n",
       "      <td>13030</td>\n",
       "      <td>6</td>\n",
       "      <td>13036</td>\n",
       "      <td>0.875023</td>\n",
       "      <td>1.225214</td>\n",
       "      <td>1489790</td>\n",
       "    </tr>\n",
       "    <tr>\n",
       "      <th>4</th>\n",
       "      <td>Uttar Pradesh</td>\n",
       "      <td>AGRA</td>\n",
       "      <td>Satyapal Singh Baghel</td>\n",
       "      <td>1</td>\n",
       "      <td>BJP</td>\n",
       "      <td>Lotus</td>\n",
       "      <td>MALE</td>\n",
       "      <td>5</td>\n",
       "      <td>58.0</td>\n",
       "      <td>SC</td>\n",
       "      <td>Doctorate</td>\n",
       "      <td>Rs 7,42,74,036\\r\\n ~ 7 Crore+</td>\n",
       "      <td>Rs 86,06,522\\r\\n ~ 86 Lacs+</td>\n",
       "      <td>644459</td>\n",
       "      <td>2416</td>\n",
       "      <td>646875</td>\n",
       "      <td>33.383823</td>\n",
       "      <td>56.464615</td>\n",
       "      <td>1937690</td>\n",
       "    </tr>\n",
       "  </tbody>\n",
       "</table>\n",
       "</div>"
      ],
      "text/plain": [
       "           STATE CONSTITUENCY                   NAME  WINNER PARTY SYMBOL  \\\n",
       "0      Telangana     ADILABAD         SOYAM BAPU RAO       1   BJP  Lotus   \n",
       "1      Telangana     ADILABAD           Godam Nagesh       0   TRS    Car   \n",
       "2      Telangana     ADILABAD          RATHOD RAMESH       0   INC   Hand   \n",
       "3      Telangana     ADILABAD                   NOTA       0  NOTA    NaN   \n",
       "4  Uttar Pradesh         AGRA  Satyapal Singh Baghel       1   BJP  Lotus   \n",
       "\n",
       "  GENDER CRIMINAL\\r\\nCASES   AGE CATEGORY      EDUCATION  \\\n",
       "0   MALE                52  52.0       ST      12th Pass   \n",
       "1   MALE                 0  54.0       ST  Post Graduate   \n",
       "2   MALE                 3  52.0       ST      12th Pass   \n",
       "3    NaN               NaN   NaN      NaN            NaN   \n",
       "4   MALE                 5  58.0       SC      Doctorate   \n",
       "\n",
       "                          ASSETS                    LIABILITIES  \\\n",
       "0    Rs 30,99,414\\r\\n ~ 30 Lacs+      Rs 2,31,450\\r\\n ~ 2 Lacs+   \n",
       "1  Rs 1,84,77,888\\r\\n ~ 1 Crore+      Rs 8,47,000\\r\\n ~ 8 Lacs+   \n",
       "2  Rs 3,64,91,000\\r\\n ~ 3 Crore+  Rs 1,53,00,000\\r\\n ~ 1 Crore+   \n",
       "3                            NaN                            NaN   \n",
       "4  Rs 7,42,74,036\\r\\n ~ 7 Crore+    Rs 86,06,522\\r\\n ~ 86 Lacs+   \n",
       "\n",
       "   GENERAL\\r\\nVOTES  POSTAL\\r\\nVOTES  TOTAL\\r\\nVOTES  \\\n",
       "0            376892              482          377374   \n",
       "1            318665              149          318814   \n",
       "2            314057              181          314238   \n",
       "3             13030                6           13036   \n",
       "4            644459             2416          646875   \n",
       "\n",
       "   OVER TOTAL ELECTORS \\r\\nIN CONSTITUENCY  \\\n",
       "0                                25.330684   \n",
       "1                                21.399929   \n",
       "2                                21.092771   \n",
       "3                                 0.875023   \n",
       "4                                33.383823   \n",
       "\n",
       "   OVER TOTAL VOTES POLLED \\r\\nIN CONSTITUENCY  TOTAL ELECTORS  \n",
       "0                                    35.468248         1489790  \n",
       "1                                    29.964370         1489790  \n",
       "2                                    29.534285         1489790  \n",
       "3                                     1.225214         1489790  \n",
       "4                                    56.464615         1937690  "
      ]
     },
     "execution_count": 5,
     "metadata": {},
     "output_type": "execute_result"
    }
   ],
   "source": [
    "# Loading the dataset\n",
    "df = pd.read_csv(\"data/LS_2.0.csv\")\n",
    "df.head()"
   ]
  },
  {
   "cell_type": "code",
   "execution_count": 6,
   "metadata": {},
   "outputs": [],
   "source": [
    "df.replace({'Not Available': np.nan}, inplace=True)"
   ]
  },
  {
   "cell_type": "markdown",
   "metadata": {},
   "source": [
    "## 4. Features\n",
    "\n",
    "- STATE\n",
    "- CONSTITUENCY\n",
    "- NAME\n",
    "- WINNER\n",
    "- PARTY\n",
    "- SYMBOL\n",
    "- GENDER\n",
    "- CRIMINAL CASES\n",
    "- AGE\n",
    "- CATEGORY\n",
    "- EDUCATION\n",
    "- ASSETS\n",
    "- LIABILITIES\n",
    "- GENERAL VOTES \n",
    "- POSTAL VOTES\n",
    "- TOTAL VOTES\n",
    "- OVER TOTAL ELECTORS IN CONSTITUENCY\n",
    "- OVER TOTAL VOTES POLLED IN CONSTITUENCY\n",
    "- TOTAL ELECTORS"
   ]
  },
  {
   "cell_type": "markdown",
   "metadata": {},
   "source": [
    "## 5. Data Preprocessing and Exploratory Data Analysis (EDA)"
   ]
  },
  {
   "cell_type": "code",
   "execution_count": 7,
   "metadata": {},
   "outputs": [
    {
     "name": "stdout",
     "output_type": "stream",
     "text": [
      "<class 'pandas.core.frame.DataFrame'>\n",
      "RangeIndex: 2263 entries, 0 to 2262\n",
      "Data columns (total 19 columns):\n",
      " #   Column                                     Non-Null Count  Dtype  \n",
      "---  ------                                     --------------  -----  \n",
      " 0   STATE                                      2263 non-null   object \n",
      " 1   CONSTITUENCY                               2263 non-null   object \n",
      " 2   NAME                                       2263 non-null   object \n",
      " 3   WINNER                                     2263 non-null   int64  \n",
      " 4   PARTY                                      2263 non-null   object \n",
      " 5   SYMBOL                                     2018 non-null   object \n",
      " 6   GENDER                                     2018 non-null   object \n",
      " 7   CRIMINAL\r\n",
      "CASES                            1996 non-null   object \n",
      " 8   AGE                                        2018 non-null   float64\n",
      " 9   CATEGORY                                   2018 non-null   object \n",
      " 10  EDUCATION                                  1996 non-null   object \n",
      " 11  ASSETS                                     1996 non-null   object \n",
      " 12  LIABILITIES                                1996 non-null   object \n",
      " 13  GENERAL\r\n",
      "VOTES                             2263 non-null   int64  \n",
      " 14  POSTAL\r\n",
      "VOTES                              2263 non-null   int64  \n",
      " 15  TOTAL\r\n",
      "VOTES                               2263 non-null   int64  \n",
      " 16  OVER TOTAL ELECTORS \r\n",
      "IN CONSTITUENCY      2263 non-null   float64\n",
      " 17  OVER TOTAL VOTES POLLED \r\n",
      "IN CONSTITUENCY  2263 non-null   float64\n",
      " 18  TOTAL ELECTORS                             2263 non-null   int64  \n",
      "dtypes: float64(3), int64(5), object(11)\n",
      "memory usage: 336.0+ KB\n"
     ]
    }
   ],
   "source": [
    "df.info()"
   ]
  },
  {
   "cell_type": "code",
   "execution_count": 8,
   "metadata": {},
   "outputs": [],
   "source": [
    "df.columns = df.columns.str.replace('\\r','')\n",
    "df.columns = df.columns.str.replace('\\n','')"
   ]
  },
  {
   "cell_type": "code",
   "execution_count": 9,
   "metadata": {},
   "outputs": [
    {
     "data": {
      "text/html": [
       "<div>\n",
       "<style scoped>\n",
       "    .dataframe tbody tr th:only-of-type {\n",
       "        vertical-align: middle;\n",
       "    }\n",
       "\n",
       "    .dataframe tbody tr th {\n",
       "        vertical-align: top;\n",
       "    }\n",
       "\n",
       "    .dataframe thead th {\n",
       "        text-align: right;\n",
       "    }\n",
       "</style>\n",
       "<table border=\"1\" class=\"dataframe\">\n",
       "  <thead>\n",
       "    <tr style=\"text-align: right;\">\n",
       "      <th></th>\n",
       "      <th>WINNER</th>\n",
       "      <th>AGE</th>\n",
       "      <th>GENERALVOTES</th>\n",
       "      <th>POSTALVOTES</th>\n",
       "      <th>TOTALVOTES</th>\n",
       "      <th>OVER TOTAL ELECTORS IN CONSTITUENCY</th>\n",
       "      <th>OVER TOTAL VOTES POLLED IN CONSTITUENCY</th>\n",
       "      <th>TOTAL ELECTORS</th>\n",
       "    </tr>\n",
       "  </thead>\n",
       "  <tbody>\n",
       "    <tr>\n",
       "      <th>count</th>\n",
       "      <td>2263.000000</td>\n",
       "      <td>2018.000000</td>\n",
       "      <td>2.263000e+03</td>\n",
       "      <td>2263.000000</td>\n",
       "      <td>2.263000e+03</td>\n",
       "      <td>2263.000000</td>\n",
       "      <td>2263.000000</td>\n",
       "      <td>2.263000e+03</td>\n",
       "    </tr>\n",
       "    <tr>\n",
       "      <th>mean</th>\n",
       "      <td>0.238179</td>\n",
       "      <td>52.273538</td>\n",
       "      <td>2.615991e+05</td>\n",
       "      <td>990.710561</td>\n",
       "      <td>2.625898e+05</td>\n",
       "      <td>15.811412</td>\n",
       "      <td>23.190525</td>\n",
       "      <td>1.658016e+06</td>\n",
       "    </tr>\n",
       "    <tr>\n",
       "      <th>std</th>\n",
       "      <td>0.426064</td>\n",
       "      <td>11.869373</td>\n",
       "      <td>2.549906e+05</td>\n",
       "      <td>1602.839174</td>\n",
       "      <td>2.559822e+05</td>\n",
       "      <td>14.962861</td>\n",
       "      <td>21.564758</td>\n",
       "      <td>3.145187e+05</td>\n",
       "    </tr>\n",
       "    <tr>\n",
       "      <th>min</th>\n",
       "      <td>0.000000</td>\n",
       "      <td>25.000000</td>\n",
       "      <td>1.339000e+03</td>\n",
       "      <td>0.000000</td>\n",
       "      <td>1.342000e+03</td>\n",
       "      <td>0.097941</td>\n",
       "      <td>1.000039</td>\n",
       "      <td>5.518900e+04</td>\n",
       "    </tr>\n",
       "    <tr>\n",
       "      <th>25%</th>\n",
       "      <td>0.000000</td>\n",
       "      <td>43.250000</td>\n",
       "      <td>2.103450e+04</td>\n",
       "      <td>57.000000</td>\n",
       "      <td>2.116250e+04</td>\n",
       "      <td>1.296518</td>\n",
       "      <td>1.899502</td>\n",
       "      <td>1.530014e+06</td>\n",
       "    </tr>\n",
       "    <tr>\n",
       "      <th>50%</th>\n",
       "      <td>0.000000</td>\n",
       "      <td>52.000000</td>\n",
       "      <td>1.539340e+05</td>\n",
       "      <td>316.000000</td>\n",
       "      <td>1.544890e+05</td>\n",
       "      <td>10.510553</td>\n",
       "      <td>16.221721</td>\n",
       "      <td>1.679030e+06</td>\n",
       "    </tr>\n",
       "    <tr>\n",
       "      <th>75%</th>\n",
       "      <td>0.000000</td>\n",
       "      <td>61.000000</td>\n",
       "      <td>4.858040e+05</td>\n",
       "      <td>1385.000000</td>\n",
       "      <td>4.872315e+05</td>\n",
       "      <td>29.468185</td>\n",
       "      <td>42.590233</td>\n",
       "      <td>1.816857e+06</td>\n",
       "    </tr>\n",
       "    <tr>\n",
       "      <th>max</th>\n",
       "      <td>1.000000</td>\n",
       "      <td>86.000000</td>\n",
       "      <td>1.066824e+06</td>\n",
       "      <td>19367.000000</td>\n",
       "      <td>1.068569e+06</td>\n",
       "      <td>51.951012</td>\n",
       "      <td>74.411856</td>\n",
       "      <td>3.150313e+06</td>\n",
       "    </tr>\n",
       "  </tbody>\n",
       "</table>\n",
       "</div>"
      ],
      "text/plain": [
       "            WINNER          AGE  GENERALVOTES   POSTALVOTES    TOTALVOTES  \\\n",
       "count  2263.000000  2018.000000  2.263000e+03   2263.000000  2.263000e+03   \n",
       "mean      0.238179    52.273538  2.615991e+05    990.710561  2.625898e+05   \n",
       "std       0.426064    11.869373  2.549906e+05   1602.839174  2.559822e+05   \n",
       "min       0.000000    25.000000  1.339000e+03      0.000000  1.342000e+03   \n",
       "25%       0.000000    43.250000  2.103450e+04     57.000000  2.116250e+04   \n",
       "50%       0.000000    52.000000  1.539340e+05    316.000000  1.544890e+05   \n",
       "75%       0.000000    61.000000  4.858040e+05   1385.000000  4.872315e+05   \n",
       "max       1.000000    86.000000  1.066824e+06  19367.000000  1.068569e+06   \n",
       "\n",
       "       OVER TOTAL ELECTORS IN CONSTITUENCY  \\\n",
       "count                          2263.000000   \n",
       "mean                             15.811412   \n",
       "std                              14.962861   \n",
       "min                               0.097941   \n",
       "25%                               1.296518   \n",
       "50%                              10.510553   \n",
       "75%                              29.468185   \n",
       "max                              51.951012   \n",
       "\n",
       "       OVER TOTAL VOTES POLLED IN CONSTITUENCY  TOTAL ELECTORS  \n",
       "count                              2263.000000    2.263000e+03  \n",
       "mean                                 23.190525    1.658016e+06  \n",
       "std                                  21.564758    3.145187e+05  \n",
       "min                                   1.000039    5.518900e+04  \n",
       "25%                                   1.899502    1.530014e+06  \n",
       "50%                                  16.221721    1.679030e+06  \n",
       "75%                                  42.590233    1.816857e+06  \n",
       "max                                  74.411856    3.150313e+06  "
      ]
     },
     "execution_count": 9,
     "metadata": {},
     "output_type": "execute_result"
    }
   ],
   "source": [
    "df.describe()"
   ]
  },
  {
   "cell_type": "code",
   "execution_count": 10,
   "metadata": {},
   "outputs": [
    {
     "data": {
      "text/plain": [
       "STATE                                      0\n",
       "CONSTITUENCY                               0\n",
       "NAME                                       0\n",
       "WINNER                                     0\n",
       "PARTY                                      0\n",
       "SYMBOL                                     0\n",
       "GENDER                                     0\n",
       "CRIMINALCASES                              0\n",
       "AGE                                        0\n",
       "CATEGORY                                   0\n",
       "EDUCATION                                  0\n",
       "ASSETS                                     0\n",
       "LIABILITIES                                0\n",
       "GENERALVOTES                               0\n",
       "POSTALVOTES                                0\n",
       "TOTALVOTES                                 0\n",
       "OVER TOTAL ELECTORS IN CONSTITUENCY        0\n",
       "OVER TOTAL VOTES POLLED IN CONSTITUENCY    0\n",
       "TOTAL ELECTORS                             0\n",
       "dtype: int64"
      ]
     },
     "execution_count": 10,
     "metadata": {},
     "output_type": "execute_result"
    }
   ],
   "source": [
    "# Checking to see if the dataset contains any null values. We need to exclude NOTA votes while checking it.\n",
    "df = df[df['PARTY']!= 'NOTA']\n",
    "df = df.dropna()\n",
    "df.isna().sum()"
   ]
  },
  {
   "cell_type": "code",
   "execution_count": 11,
   "metadata": {},
   "outputs": [
    {
     "data": {
      "text/html": [
       "<div>\n",
       "<style scoped>\n",
       "    .dataframe tbody tr th:only-of-type {\n",
       "        vertical-align: middle;\n",
       "    }\n",
       "\n",
       "    .dataframe tbody tr th {\n",
       "        vertical-align: top;\n",
       "    }\n",
       "\n",
       "    .dataframe thead th {\n",
       "        text-align: right;\n",
       "    }\n",
       "</style>\n",
       "<table border=\"1\" class=\"dataframe\">\n",
       "  <thead>\n",
       "    <tr style=\"text-align: right;\">\n",
       "      <th></th>\n",
       "      <th>STATE</th>\n",
       "      <th>CONSTITUENCY</th>\n",
       "      <th>NAME</th>\n",
       "      <th>WINNER</th>\n",
       "      <th>PARTY</th>\n",
       "      <th>SYMBOL</th>\n",
       "      <th>GENDER</th>\n",
       "      <th>CRIMINALCASES</th>\n",
       "      <th>AGE</th>\n",
       "      <th>CATEGORY</th>\n",
       "      <th>EDUCATION</th>\n",
       "      <th>ASSETS</th>\n",
       "      <th>LIABILITIES</th>\n",
       "      <th>GENERALVOTES</th>\n",
       "      <th>POSTALVOTES</th>\n",
       "      <th>TOTALVOTES</th>\n",
       "      <th>OVER TOTAL ELECTORS IN CONSTITUENCY</th>\n",
       "      <th>OVER TOTAL VOTES POLLED IN CONSTITUENCY</th>\n",
       "      <th>TOTAL ELECTORS</th>\n",
       "    </tr>\n",
       "  </thead>\n",
       "  <tbody>\n",
       "    <tr>\n",
       "      <th>0</th>\n",
       "      <td>Telangana</td>\n",
       "      <td>ADILABAD</td>\n",
       "      <td>SOYAM BAPU RAO</td>\n",
       "      <td>1</td>\n",
       "      <td>BJP</td>\n",
       "      <td>Lotus</td>\n",
       "      <td>MALE</td>\n",
       "      <td>52</td>\n",
       "      <td>52.0</td>\n",
       "      <td>ST</td>\n",
       "      <td>12th Pass</td>\n",
       "      <td>Rs 30,99,414\\r\\n ~ 30 Lacs+</td>\n",
       "      <td>Rs 2,31,450\\r\\n ~ 2 Lacs+</td>\n",
       "      <td>376892</td>\n",
       "      <td>482</td>\n",
       "      <td>377374</td>\n",
       "      <td>25.330684</td>\n",
       "      <td>35.468248</td>\n",
       "      <td>1489790</td>\n",
       "    </tr>\n",
       "    <tr>\n",
       "      <th>1</th>\n",
       "      <td>Telangana</td>\n",
       "      <td>ADILABAD</td>\n",
       "      <td>Godam Nagesh</td>\n",
       "      <td>0</td>\n",
       "      <td>TRS</td>\n",
       "      <td>Car</td>\n",
       "      <td>MALE</td>\n",
       "      <td>0</td>\n",
       "      <td>54.0</td>\n",
       "      <td>ST</td>\n",
       "      <td>Post Graduate</td>\n",
       "      <td>Rs 1,84,77,888\\r\\n ~ 1 Crore+</td>\n",
       "      <td>Rs 8,47,000\\r\\n ~ 8 Lacs+</td>\n",
       "      <td>318665</td>\n",
       "      <td>149</td>\n",
       "      <td>318814</td>\n",
       "      <td>21.399929</td>\n",
       "      <td>29.964370</td>\n",
       "      <td>1489790</td>\n",
       "    </tr>\n",
       "    <tr>\n",
       "      <th>2</th>\n",
       "      <td>Telangana</td>\n",
       "      <td>ADILABAD</td>\n",
       "      <td>RATHOD RAMESH</td>\n",
       "      <td>0</td>\n",
       "      <td>INC</td>\n",
       "      <td>Hand</td>\n",
       "      <td>MALE</td>\n",
       "      <td>3</td>\n",
       "      <td>52.0</td>\n",
       "      <td>ST</td>\n",
       "      <td>12th Pass</td>\n",
       "      <td>Rs 3,64,91,000\\r\\n ~ 3 Crore+</td>\n",
       "      <td>Rs 1,53,00,000\\r\\n ~ 1 Crore+</td>\n",
       "      <td>314057</td>\n",
       "      <td>181</td>\n",
       "      <td>314238</td>\n",
       "      <td>21.092771</td>\n",
       "      <td>29.534285</td>\n",
       "      <td>1489790</td>\n",
       "    </tr>\n",
       "    <tr>\n",
       "      <th>4</th>\n",
       "      <td>Uttar Pradesh</td>\n",
       "      <td>AGRA</td>\n",
       "      <td>Satyapal Singh Baghel</td>\n",
       "      <td>1</td>\n",
       "      <td>BJP</td>\n",
       "      <td>Lotus</td>\n",
       "      <td>MALE</td>\n",
       "      <td>5</td>\n",
       "      <td>58.0</td>\n",
       "      <td>SC</td>\n",
       "      <td>Doctorate</td>\n",
       "      <td>Rs 7,42,74,036\\r\\n ~ 7 Crore+</td>\n",
       "      <td>Rs 86,06,522\\r\\n ~ 86 Lacs+</td>\n",
       "      <td>644459</td>\n",
       "      <td>2416</td>\n",
       "      <td>646875</td>\n",
       "      <td>33.383823</td>\n",
       "      <td>56.464615</td>\n",
       "      <td>1937690</td>\n",
       "    </tr>\n",
       "    <tr>\n",
       "      <th>5</th>\n",
       "      <td>Uttar Pradesh</td>\n",
       "      <td>AGRA</td>\n",
       "      <td>Manoj Kumar Soni</td>\n",
       "      <td>0</td>\n",
       "      <td>BSP</td>\n",
       "      <td>Elephant</td>\n",
       "      <td>MALE</td>\n",
       "      <td>0</td>\n",
       "      <td>47.0</td>\n",
       "      <td>SC</td>\n",
       "      <td>Post Graduate</td>\n",
       "      <td>Rs 13,37,84,385\\r\\n ~ 13 Crore+</td>\n",
       "      <td>Rs 2,22,51,891\\r\\n ~ 2 Crore+</td>\n",
       "      <td>434199</td>\n",
       "      <td>1130</td>\n",
       "      <td>435329</td>\n",
       "      <td>22.466390</td>\n",
       "      <td>37.999125</td>\n",
       "      <td>1937690</td>\n",
       "    </tr>\n",
       "    <tr>\n",
       "      <th>6</th>\n",
       "      <td>Uttar Pradesh</td>\n",
       "      <td>AGRA</td>\n",
       "      <td>Preeta Harit</td>\n",
       "      <td>0</td>\n",
       "      <td>INC</td>\n",
       "      <td>Hand</td>\n",
       "      <td>FEMALE</td>\n",
       "      <td>0</td>\n",
       "      <td>54.0</td>\n",
       "      <td>SC</td>\n",
       "      <td>Post Graduate</td>\n",
       "      <td>Rs 5,50,75,753\\r\\n ~ 5 Crore+</td>\n",
       "      <td>Rs 0\\r\\n ~</td>\n",
       "      <td>44877</td>\n",
       "      <td>272</td>\n",
       "      <td>45149</td>\n",
       "      <td>2.330042</td>\n",
       "      <td>3.940979</td>\n",
       "      <td>1937690</td>\n",
       "    </tr>\n",
       "    <tr>\n",
       "      <th>7</th>\n",
       "      <td>Maharashtra</td>\n",
       "      <td>AHMADNAGAR</td>\n",
       "      <td>Dr. SUJAY RADHAKRISHNA VIKHEPATIL</td>\n",
       "      <td>1</td>\n",
       "      <td>BJP</td>\n",
       "      <td>Lotus</td>\n",
       "      <td>MALE</td>\n",
       "      <td>0</td>\n",
       "      <td>37.0</td>\n",
       "      <td>GENERAL</td>\n",
       "      <td>Doctorate</td>\n",
       "      <td>Rs 16,86,64,576\\r\\n ~ 16 Crore+</td>\n",
       "      <td>Rs 26,23,964\\r\\n ~ 26 Lacs+</td>\n",
       "      <td>696961</td>\n",
       "      <td>7699</td>\n",
       "      <td>704660</td>\n",
       "      <td>37.856533</td>\n",
       "      <td>58.425159</td>\n",
       "      <td>1861396</td>\n",
       "    </tr>\n",
       "    <tr>\n",
       "      <th>8</th>\n",
       "      <td>Maharashtra</td>\n",
       "      <td>AHMADNAGAR</td>\n",
       "      <td>SANGRAM ARUNKAKA JAGTAP</td>\n",
       "      <td>0</td>\n",
       "      <td>NCP</td>\n",
       "      <td>Clock</td>\n",
       "      <td>MALE</td>\n",
       "      <td>1</td>\n",
       "      <td>34.0</td>\n",
       "      <td>GENERAL</td>\n",
       "      <td>Graduate</td>\n",
       "      <td>Rs 9,44,88,381\\r\\n ~ 9 Crore+</td>\n",
       "      <td>Rs 3,25,49,132\\r\\n ~ 3 Crore+</td>\n",
       "      <td>419364</td>\n",
       "      <td>3822</td>\n",
       "      <td>423186</td>\n",
       "      <td>22.734872</td>\n",
       "      <td>35.087431</td>\n",
       "      <td>1861396</td>\n",
       "    </tr>\n",
       "    <tr>\n",
       "      <th>9</th>\n",
       "      <td>Maharashtra</td>\n",
       "      <td>AHMADNAGAR</td>\n",
       "      <td>SUDHAKAR LAXMAN AVHAD</td>\n",
       "      <td>0</td>\n",
       "      <td>VBA</td>\n",
       "      <td>Cup &amp; Saucer</td>\n",
       "      <td>MALE</td>\n",
       "      <td>0</td>\n",
       "      <td>62.0</td>\n",
       "      <td>GENERAL</td>\n",
       "      <td>Graduate</td>\n",
       "      <td>Rs 1,39,49,000\\r\\n ~ 1 Crore+</td>\n",
       "      <td>Rs 14,00,000\\r\\n ~ 14 Lacs+</td>\n",
       "      <td>31644</td>\n",
       "      <td>163</td>\n",
       "      <td>31807</td>\n",
       "      <td>1.708771</td>\n",
       "      <td>2.637200</td>\n",
       "      <td>1861396</td>\n",
       "    </tr>\n",
       "    <tr>\n",
       "      <th>10</th>\n",
       "      <td>Gujarat</td>\n",
       "      <td>AHMEDABAD EAST</td>\n",
       "      <td>Patel Hasmukhbhai Somabhai</td>\n",
       "      <td>1</td>\n",
       "      <td>BJP</td>\n",
       "      <td>Lotus</td>\n",
       "      <td>MALE</td>\n",
       "      <td>0</td>\n",
       "      <td>58.0</td>\n",
       "      <td>GENERAL</td>\n",
       "      <td>Others</td>\n",
       "      <td>Rs 7,46,99,690\\r\\n ~ 7 Crore+</td>\n",
       "      <td>Rs 62,52,577\\r\\n ~ 62 Lacs+</td>\n",
       "      <td>745810</td>\n",
       "      <td>4024</td>\n",
       "      <td>749834</td>\n",
       "      <td>41.384970</td>\n",
       "      <td>67.005462</td>\n",
       "      <td>1811851</td>\n",
       "    </tr>\n",
       "  </tbody>\n",
       "</table>\n",
       "</div>"
      ],
      "text/plain": [
       "            STATE    CONSTITUENCY                               NAME  WINNER  \\\n",
       "0       Telangana        ADILABAD                     SOYAM BAPU RAO       1   \n",
       "1       Telangana        ADILABAD                       Godam Nagesh       0   \n",
       "2       Telangana        ADILABAD                      RATHOD RAMESH       0   \n",
       "4   Uttar Pradesh            AGRA              Satyapal Singh Baghel       1   \n",
       "5   Uttar Pradesh            AGRA                   Manoj Kumar Soni       0   \n",
       "6   Uttar Pradesh            AGRA                       Preeta Harit       0   \n",
       "7     Maharashtra      AHMADNAGAR  Dr. SUJAY RADHAKRISHNA VIKHEPATIL       1   \n",
       "8     Maharashtra      AHMADNAGAR            SANGRAM ARUNKAKA JAGTAP       0   \n",
       "9     Maharashtra      AHMADNAGAR              SUDHAKAR LAXMAN AVHAD       0   \n",
       "10        Gujarat  AHMEDABAD EAST         Patel Hasmukhbhai Somabhai       1   \n",
       "\n",
       "   PARTY        SYMBOL  GENDER CRIMINALCASES   AGE CATEGORY      EDUCATION  \\\n",
       "0    BJP         Lotus    MALE            52  52.0       ST      12th Pass   \n",
       "1    TRS           Car    MALE             0  54.0       ST  Post Graduate   \n",
       "2    INC          Hand    MALE             3  52.0       ST      12th Pass   \n",
       "4    BJP         Lotus    MALE             5  58.0       SC      Doctorate   \n",
       "5    BSP      Elephant    MALE             0  47.0       SC  Post Graduate   \n",
       "6    INC          Hand  FEMALE             0  54.0       SC  Post Graduate   \n",
       "7    BJP         Lotus    MALE             0  37.0  GENERAL      Doctorate   \n",
       "8    NCP         Clock    MALE             1  34.0  GENERAL       Graduate   \n",
       "9    VBA  Cup & Saucer    MALE             0  62.0  GENERAL       Graduate   \n",
       "10   BJP         Lotus    MALE             0  58.0  GENERAL         Others   \n",
       "\n",
       "                             ASSETS                    LIABILITIES  \\\n",
       "0       Rs 30,99,414\\r\\n ~ 30 Lacs+      Rs 2,31,450\\r\\n ~ 2 Lacs+   \n",
       "1     Rs 1,84,77,888\\r\\n ~ 1 Crore+      Rs 8,47,000\\r\\n ~ 8 Lacs+   \n",
       "2     Rs 3,64,91,000\\r\\n ~ 3 Crore+  Rs 1,53,00,000\\r\\n ~ 1 Crore+   \n",
       "4     Rs 7,42,74,036\\r\\n ~ 7 Crore+    Rs 86,06,522\\r\\n ~ 86 Lacs+   \n",
       "5   Rs 13,37,84,385\\r\\n ~ 13 Crore+  Rs 2,22,51,891\\r\\n ~ 2 Crore+   \n",
       "6     Rs 5,50,75,753\\r\\n ~ 5 Crore+                     Rs 0\\r\\n ~   \n",
       "7   Rs 16,86,64,576\\r\\n ~ 16 Crore+    Rs 26,23,964\\r\\n ~ 26 Lacs+   \n",
       "8     Rs 9,44,88,381\\r\\n ~ 9 Crore+  Rs 3,25,49,132\\r\\n ~ 3 Crore+   \n",
       "9     Rs 1,39,49,000\\r\\n ~ 1 Crore+    Rs 14,00,000\\r\\n ~ 14 Lacs+   \n",
       "10    Rs 7,46,99,690\\r\\n ~ 7 Crore+    Rs 62,52,577\\r\\n ~ 62 Lacs+   \n",
       "\n",
       "    GENERALVOTES  POSTALVOTES  TOTALVOTES  \\\n",
       "0         376892          482      377374   \n",
       "1         318665          149      318814   \n",
       "2         314057          181      314238   \n",
       "4         644459         2416      646875   \n",
       "5         434199         1130      435329   \n",
       "6          44877          272       45149   \n",
       "7         696961         7699      704660   \n",
       "8         419364         3822      423186   \n",
       "9          31644          163       31807   \n",
       "10        745810         4024      749834   \n",
       "\n",
       "    OVER TOTAL ELECTORS IN CONSTITUENCY  \\\n",
       "0                             25.330684   \n",
       "1                             21.399929   \n",
       "2                             21.092771   \n",
       "4                             33.383823   \n",
       "5                             22.466390   \n",
       "6                              2.330042   \n",
       "7                             37.856533   \n",
       "8                             22.734872   \n",
       "9                              1.708771   \n",
       "10                            41.384970   \n",
       "\n",
       "    OVER TOTAL VOTES POLLED IN CONSTITUENCY  TOTAL ELECTORS  \n",
       "0                                 35.468248         1489790  \n",
       "1                                 29.964370         1489790  \n",
       "2                                 29.534285         1489790  \n",
       "4                                 56.464615         1937690  \n",
       "5                                 37.999125         1937690  \n",
       "6                                  3.940979         1937690  \n",
       "7                                 58.425159         1861396  \n",
       "8                                 35.087431         1861396  \n",
       "9                                  2.637200         1861396  \n",
       "10                                67.005462         1811851  "
      ]
     },
     "execution_count": 11,
     "metadata": {},
     "output_type": "execute_result"
    }
   ],
   "source": [
    "df.head(10)"
   ]
  },
  {
   "cell_type": "code",
   "execution_count": 12,
   "metadata": {},
   "outputs": [
    {
     "data": {
      "text/plain": [
       "STATE                                       object\n",
       "CONSTITUENCY                                object\n",
       "NAME                                        object\n",
       "WINNER                                       int64\n",
       "PARTY                                       object\n",
       "SYMBOL                                      object\n",
       "GENDER                                      object\n",
       "CRIMINALCASES                               object\n",
       "AGE                                        float64\n",
       "CATEGORY                                    object\n",
       "EDUCATION                                   object\n",
       "ASSETS                                      object\n",
       "LIABILITIES                                 object\n",
       "GENERALVOTES                                 int64\n",
       "POSTALVOTES                                  int64\n",
       "TOTALVOTES                                   int64\n",
       "OVER TOTAL ELECTORS IN CONSTITUENCY        float64\n",
       "OVER TOTAL VOTES POLLED IN CONSTITUENCY    float64\n",
       "TOTAL ELECTORS                               int64\n",
       "dtype: object"
      ]
     },
     "execution_count": 12,
     "metadata": {},
     "output_type": "execute_result"
    }
   ],
   "source": [
    "df.dtypes"
   ]
  },
  {
   "cell_type": "code",
   "execution_count": 13,
   "metadata": {},
   "outputs": [],
   "source": [
    "def value_cleaner(x):\n",
    "    try:\n",
    "        str_temp = (x.split('Rs')[1].split('\\n')[0].strip())\n",
    "        str_temp_2 = ''\n",
    "        for i in str_temp.split(\",\"):\n",
    "            str_temp_2 = str_temp_2+i\n",
    "        return str_temp_2\n",
    "    except:\n",
    "        x = 0\n",
    "        return x\n",
    "df['ASSETS'] = df['ASSETS'].apply((value_cleaner))\n",
    "df['LIABILITIES'] = df['LIABILITIES'].apply((value_cleaner))"
   ]
  },
  {
   "cell_type": "code",
   "execution_count": 14,
   "metadata": {},
   "outputs": [
    {
     "data": {
      "text/plain": [
       "Post Graduate            502\n",
       "Graduate                 441\n",
       "Graduate Professional    336\n",
       "12th Pass                256\n",
       "10th Pass                196\n",
       "8th Pass                  78\n",
       "Doctorate                 73\n",
       "Others                    50\n",
       "Literate                  30\n",
       "5th Pass                  28\n",
       "Illiterate                 5\n",
       "Post Graduate\\r\\n          1\n",
       "Name: EDUCATION, dtype: int64"
      ]
     },
     "execution_count": 14,
     "metadata": {},
     "output_type": "execute_result"
    }
   ],
   "source": [
    "df['EDUCATION'].value_counts()"
   ]
  },
  {
   "cell_type": "code",
   "execution_count": 15,
   "metadata": {},
   "outputs": [],
   "source": [
    "# Removing the \\n from 'Post Graduate\\n'\n",
    "df['EDUCATION'].replace(to_replace='Post Graduate\\r\\n', value='Post Graduate', inplace=True)\n",
    "\n",
    "# 'Graduate Professional' are Graduates, so replacing 'Graduate Professional' with 'Graduate'\n",
    "df['EDUCATION'].replace(to_replace='Graduate Professional', value='Graduate', inplace=True)\n",
    "\n",
    "# 'Literate' = 8th Pass in our society\n",
    "df['EDUCATION'].replace(to_replace='Literate', value='8th Pass', inplace=True)\n",
    "\n",
    "# Any education level below 8th pass is illiterate\n",
    "df['EDUCATION'].replace(to_replace='5th Pass', value='Illiterate', inplace=True)"
   ]
  },
  {
   "cell_type": "code",
   "execution_count": 16,
   "metadata": {},
   "outputs": [
    {
     "data": {
      "text/html": [
       "<div>\n",
       "<style scoped>\n",
       "    .dataframe tbody tr th:only-of-type {\n",
       "        vertical-align: middle;\n",
       "    }\n",
       "\n",
       "    .dataframe tbody tr th {\n",
       "        vertical-align: top;\n",
       "    }\n",
       "\n",
       "    .dataframe thead th {\n",
       "        text-align: right;\n",
       "    }\n",
       "</style>\n",
       "<table border=\"1\" class=\"dataframe\">\n",
       "  <thead>\n",
       "    <tr style=\"text-align: right;\">\n",
       "      <th></th>\n",
       "      <th>STATE</th>\n",
       "      <th>CONSTITUENCY</th>\n",
       "      <th>NAME</th>\n",
       "      <th>WINNER</th>\n",
       "      <th>PARTY</th>\n",
       "      <th>SYMBOL</th>\n",
       "      <th>GENDER</th>\n",
       "      <th>CRIMINALCASES</th>\n",
       "      <th>AGE</th>\n",
       "      <th>CATEGORY</th>\n",
       "      <th>EDUCATION</th>\n",
       "      <th>ASSETS</th>\n",
       "      <th>LIABILITIES</th>\n",
       "      <th>GENERALVOTES</th>\n",
       "      <th>POSTALVOTES</th>\n",
       "      <th>TOTALVOTES</th>\n",
       "      <th>OVER TOTAL ELECTORS IN CONSTITUENCY</th>\n",
       "      <th>OVER TOTAL VOTES POLLED IN CONSTITUENCY</th>\n",
       "      <th>TOTAL ELECTORS</th>\n",
       "    </tr>\n",
       "  </thead>\n",
       "  <tbody>\n",
       "    <tr>\n",
       "      <th>0</th>\n",
       "      <td>Telangana</td>\n",
       "      <td>ADILABAD</td>\n",
       "      <td>SOYAM BAPU RAO</td>\n",
       "      <td>1</td>\n",
       "      <td>BJP</td>\n",
       "      <td>Lotus</td>\n",
       "      <td>MALE</td>\n",
       "      <td>52</td>\n",
       "      <td>52.0</td>\n",
       "      <td>ST</td>\n",
       "      <td>12th Pass</td>\n",
       "      <td>3099414</td>\n",
       "      <td>231450</td>\n",
       "      <td>376892</td>\n",
       "      <td>482</td>\n",
       "      <td>377374</td>\n",
       "      <td>25.330684</td>\n",
       "      <td>35.468248</td>\n",
       "      <td>1489790</td>\n",
       "    </tr>\n",
       "    <tr>\n",
       "      <th>1</th>\n",
       "      <td>Telangana</td>\n",
       "      <td>ADILABAD</td>\n",
       "      <td>Godam Nagesh</td>\n",
       "      <td>0</td>\n",
       "      <td>TRS</td>\n",
       "      <td>Car</td>\n",
       "      <td>MALE</td>\n",
       "      <td>0</td>\n",
       "      <td>54.0</td>\n",
       "      <td>ST</td>\n",
       "      <td>Post Graduate</td>\n",
       "      <td>18477888</td>\n",
       "      <td>847000</td>\n",
       "      <td>318665</td>\n",
       "      <td>149</td>\n",
       "      <td>318814</td>\n",
       "      <td>21.399929</td>\n",
       "      <td>29.964370</td>\n",
       "      <td>1489790</td>\n",
       "    </tr>\n",
       "    <tr>\n",
       "      <th>2</th>\n",
       "      <td>Telangana</td>\n",
       "      <td>ADILABAD</td>\n",
       "      <td>RATHOD RAMESH</td>\n",
       "      <td>0</td>\n",
       "      <td>INC</td>\n",
       "      <td>Hand</td>\n",
       "      <td>MALE</td>\n",
       "      <td>3</td>\n",
       "      <td>52.0</td>\n",
       "      <td>ST</td>\n",
       "      <td>12th Pass</td>\n",
       "      <td>36491000</td>\n",
       "      <td>15300000</td>\n",
       "      <td>314057</td>\n",
       "      <td>181</td>\n",
       "      <td>314238</td>\n",
       "      <td>21.092771</td>\n",
       "      <td>29.534285</td>\n",
       "      <td>1489790</td>\n",
       "    </tr>\n",
       "    <tr>\n",
       "      <th>4</th>\n",
       "      <td>Uttar Pradesh</td>\n",
       "      <td>AGRA</td>\n",
       "      <td>Satyapal Singh Baghel</td>\n",
       "      <td>1</td>\n",
       "      <td>BJP</td>\n",
       "      <td>Lotus</td>\n",
       "      <td>MALE</td>\n",
       "      <td>5</td>\n",
       "      <td>58.0</td>\n",
       "      <td>SC</td>\n",
       "      <td>Doctorate</td>\n",
       "      <td>74274036</td>\n",
       "      <td>8606522</td>\n",
       "      <td>644459</td>\n",
       "      <td>2416</td>\n",
       "      <td>646875</td>\n",
       "      <td>33.383823</td>\n",
       "      <td>56.464615</td>\n",
       "      <td>1937690</td>\n",
       "    </tr>\n",
       "    <tr>\n",
       "      <th>5</th>\n",
       "      <td>Uttar Pradesh</td>\n",
       "      <td>AGRA</td>\n",
       "      <td>Manoj Kumar Soni</td>\n",
       "      <td>0</td>\n",
       "      <td>BSP</td>\n",
       "      <td>Elephant</td>\n",
       "      <td>MALE</td>\n",
       "      <td>0</td>\n",
       "      <td>47.0</td>\n",
       "      <td>SC</td>\n",
       "      <td>Post Graduate</td>\n",
       "      <td>133784385</td>\n",
       "      <td>22251891</td>\n",
       "      <td>434199</td>\n",
       "      <td>1130</td>\n",
       "      <td>435329</td>\n",
       "      <td>22.466390</td>\n",
       "      <td>37.999125</td>\n",
       "      <td>1937690</td>\n",
       "    </tr>\n",
       "  </tbody>\n",
       "</table>\n",
       "</div>"
      ],
      "text/plain": [
       "           STATE CONSTITUENCY                   NAME  WINNER PARTY    SYMBOL  \\\n",
       "0      Telangana     ADILABAD         SOYAM BAPU RAO       1   BJP     Lotus   \n",
       "1      Telangana     ADILABAD           Godam Nagesh       0   TRS       Car   \n",
       "2      Telangana     ADILABAD          RATHOD RAMESH       0   INC      Hand   \n",
       "4  Uttar Pradesh         AGRA  Satyapal Singh Baghel       1   BJP     Lotus   \n",
       "5  Uttar Pradesh         AGRA       Manoj Kumar Soni       0   BSP  Elephant   \n",
       "\n",
       "  GENDER CRIMINALCASES   AGE CATEGORY      EDUCATION     ASSETS LIABILITIES  \\\n",
       "0   MALE            52  52.0       ST      12th Pass    3099414      231450   \n",
       "1   MALE             0  54.0       ST  Post Graduate   18477888      847000   \n",
       "2   MALE             3  52.0       ST      12th Pass   36491000    15300000   \n",
       "4   MALE             5  58.0       SC      Doctorate   74274036     8606522   \n",
       "5   MALE             0  47.0       SC  Post Graduate  133784385    22251891   \n",
       "\n",
       "   GENERALVOTES  POSTALVOTES  TOTALVOTES  OVER TOTAL ELECTORS IN CONSTITUENCY  \\\n",
       "0        376892          482      377374                            25.330684   \n",
       "1        318665          149      318814                            21.399929   \n",
       "2        314057          181      314238                            21.092771   \n",
       "4        644459         2416      646875                            33.383823   \n",
       "5        434199         1130      435329                            22.466390   \n",
       "\n",
       "   OVER TOTAL VOTES POLLED IN CONSTITUENCY  TOTAL ELECTORS  \n",
       "0                                35.468248         1489790  \n",
       "1                                29.964370         1489790  \n",
       "2                                29.534285         1489790  \n",
       "4                                56.464615         1937690  \n",
       "5                                37.999125         1937690  "
      ]
     },
     "execution_count": 16,
     "metadata": {},
     "output_type": "execute_result"
    }
   ],
   "source": [
    "df.head()"
   ]
  },
  {
   "cell_type": "code",
   "execution_count": 17,
   "metadata": {},
   "outputs": [
    {
     "data": {
      "text/plain": [
       "STATE                                       object\n",
       "CONSTITUENCY                                object\n",
       "NAME                                        object\n",
       "WINNER                                       int64\n",
       "PARTY                                       object\n",
       "SYMBOL                                      object\n",
       "GENDER                                      object\n",
       "CRIMINALCASES                               object\n",
       "AGE                                        float64\n",
       "CATEGORY                                    object\n",
       "EDUCATION                                   object\n",
       "ASSETS                                      object\n",
       "LIABILITIES                                 object\n",
       "GENERALVOTES                                 int64\n",
       "POSTALVOTES                                  int64\n",
       "TOTALVOTES                                   int64\n",
       "OVER TOTAL ELECTORS IN CONSTITUENCY        float64\n",
       "OVER TOTAL VOTES POLLED IN CONSTITUENCY    float64\n",
       "TOTAL ELECTORS                               int64\n",
       "dtype: object"
      ]
     },
     "execution_count": 17,
     "metadata": {},
     "output_type": "execute_result"
    }
   ],
   "source": [
    "df.dtypes"
   ]
  },
  {
   "cell_type": "code",
   "execution_count": 18,
   "metadata": {},
   "outputs": [],
   "source": [
    "df['CRIMINALCASES'] = df['CRIMINALCASES'].astype(int, errors='raise')\n",
    "df['ASSETS'] = df['ASSETS'].astype(float, errors='raise')\n",
    "df['LIABILITIES'] = df['LIABILITIES'].astype(float, errors='raise')"
   ]
  },
  {
   "cell_type": "code",
   "execution_count": 19,
   "metadata": {},
   "outputs": [
    {
     "data": {
      "text/html": [
       "<div>\n",
       "<style scoped>\n",
       "    .dataframe tbody tr th:only-of-type {\n",
       "        vertical-align: middle;\n",
       "    }\n",
       "\n",
       "    .dataframe tbody tr th {\n",
       "        vertical-align: top;\n",
       "    }\n",
       "\n",
       "    .dataframe thead th {\n",
       "        text-align: right;\n",
       "    }\n",
       "</style>\n",
       "<table border=\"1\" class=\"dataframe\">\n",
       "  <thead>\n",
       "    <tr style=\"text-align: right;\">\n",
       "      <th></th>\n",
       "      <th>STATE</th>\n",
       "      <th>CONSTITUENCY</th>\n",
       "      <th>NAME</th>\n",
       "      <th>WINNER</th>\n",
       "      <th>PARTY</th>\n",
       "      <th>SYMBOL</th>\n",
       "      <th>GENDER</th>\n",
       "      <th>CRIMINALCASES</th>\n",
       "      <th>AGE</th>\n",
       "      <th>CATEGORY</th>\n",
       "      <th>EDUCATION</th>\n",
       "      <th>ASSETS</th>\n",
       "      <th>LIABILITIES</th>\n",
       "      <th>GENERALVOTES</th>\n",
       "      <th>POSTALVOTES</th>\n",
       "      <th>TOTALVOTES</th>\n",
       "      <th>OVER TOTAL ELECTORS IN CONSTITUENCY</th>\n",
       "      <th>OVER TOTAL VOTES POLLED IN CONSTITUENCY</th>\n",
       "      <th>TOTAL ELECTORS</th>\n",
       "    </tr>\n",
       "  </thead>\n",
       "  <tbody>\n",
       "    <tr>\n",
       "      <th>0</th>\n",
       "      <td>Telangana</td>\n",
       "      <td>ADILABAD</td>\n",
       "      <td>SOYAM BAPU RAO</td>\n",
       "      <td>1</td>\n",
       "      <td>BJP</td>\n",
       "      <td>Lotus</td>\n",
       "      <td>MALE</td>\n",
       "      <td>52</td>\n",
       "      <td>52.0</td>\n",
       "      <td>ST</td>\n",
       "      <td>12th Pass</td>\n",
       "      <td>3099414.0</td>\n",
       "      <td>231450.0</td>\n",
       "      <td>376892</td>\n",
       "      <td>482</td>\n",
       "      <td>377374</td>\n",
       "      <td>25.330684</td>\n",
       "      <td>35.468248</td>\n",
       "      <td>1489790</td>\n",
       "    </tr>\n",
       "    <tr>\n",
       "      <th>1</th>\n",
       "      <td>Telangana</td>\n",
       "      <td>ADILABAD</td>\n",
       "      <td>Godam Nagesh</td>\n",
       "      <td>0</td>\n",
       "      <td>TRS</td>\n",
       "      <td>Car</td>\n",
       "      <td>MALE</td>\n",
       "      <td>0</td>\n",
       "      <td>54.0</td>\n",
       "      <td>ST</td>\n",
       "      <td>Post Graduate</td>\n",
       "      <td>18477888.0</td>\n",
       "      <td>847000.0</td>\n",
       "      <td>318665</td>\n",
       "      <td>149</td>\n",
       "      <td>318814</td>\n",
       "      <td>21.399929</td>\n",
       "      <td>29.964370</td>\n",
       "      <td>1489790</td>\n",
       "    </tr>\n",
       "    <tr>\n",
       "      <th>2</th>\n",
       "      <td>Telangana</td>\n",
       "      <td>ADILABAD</td>\n",
       "      <td>RATHOD RAMESH</td>\n",
       "      <td>0</td>\n",
       "      <td>INC</td>\n",
       "      <td>Hand</td>\n",
       "      <td>MALE</td>\n",
       "      <td>3</td>\n",
       "      <td>52.0</td>\n",
       "      <td>ST</td>\n",
       "      <td>12th Pass</td>\n",
       "      <td>36491000.0</td>\n",
       "      <td>15300000.0</td>\n",
       "      <td>314057</td>\n",
       "      <td>181</td>\n",
       "      <td>314238</td>\n",
       "      <td>21.092771</td>\n",
       "      <td>29.534285</td>\n",
       "      <td>1489790</td>\n",
       "    </tr>\n",
       "    <tr>\n",
       "      <th>4</th>\n",
       "      <td>Uttar Pradesh</td>\n",
       "      <td>AGRA</td>\n",
       "      <td>Satyapal Singh Baghel</td>\n",
       "      <td>1</td>\n",
       "      <td>BJP</td>\n",
       "      <td>Lotus</td>\n",
       "      <td>MALE</td>\n",
       "      <td>5</td>\n",
       "      <td>58.0</td>\n",
       "      <td>SC</td>\n",
       "      <td>Doctorate</td>\n",
       "      <td>74274036.0</td>\n",
       "      <td>8606522.0</td>\n",
       "      <td>644459</td>\n",
       "      <td>2416</td>\n",
       "      <td>646875</td>\n",
       "      <td>33.383823</td>\n",
       "      <td>56.464615</td>\n",
       "      <td>1937690</td>\n",
       "    </tr>\n",
       "    <tr>\n",
       "      <th>5</th>\n",
       "      <td>Uttar Pradesh</td>\n",
       "      <td>AGRA</td>\n",
       "      <td>Manoj Kumar Soni</td>\n",
       "      <td>0</td>\n",
       "      <td>BSP</td>\n",
       "      <td>Elephant</td>\n",
       "      <td>MALE</td>\n",
       "      <td>0</td>\n",
       "      <td>47.0</td>\n",
       "      <td>SC</td>\n",
       "      <td>Post Graduate</td>\n",
       "      <td>133784385.0</td>\n",
       "      <td>22251891.0</td>\n",
       "      <td>434199</td>\n",
       "      <td>1130</td>\n",
       "      <td>435329</td>\n",
       "      <td>22.466390</td>\n",
       "      <td>37.999125</td>\n",
       "      <td>1937690</td>\n",
       "    </tr>\n",
       "  </tbody>\n",
       "</table>\n",
       "</div>"
      ],
      "text/plain": [
       "           STATE CONSTITUENCY                   NAME  WINNER PARTY    SYMBOL  \\\n",
       "0      Telangana     ADILABAD         SOYAM BAPU RAO       1   BJP     Lotus   \n",
       "1      Telangana     ADILABAD           Godam Nagesh       0   TRS       Car   \n",
       "2      Telangana     ADILABAD          RATHOD RAMESH       0   INC      Hand   \n",
       "4  Uttar Pradesh         AGRA  Satyapal Singh Baghel       1   BJP     Lotus   \n",
       "5  Uttar Pradesh         AGRA       Manoj Kumar Soni       0   BSP  Elephant   \n",
       "\n",
       "  GENDER  CRIMINALCASES   AGE CATEGORY      EDUCATION       ASSETS  \\\n",
       "0   MALE             52  52.0       ST      12th Pass    3099414.0   \n",
       "1   MALE              0  54.0       ST  Post Graduate   18477888.0   \n",
       "2   MALE              3  52.0       ST      12th Pass   36491000.0   \n",
       "4   MALE              5  58.0       SC      Doctorate   74274036.0   \n",
       "5   MALE              0  47.0       SC  Post Graduate  133784385.0   \n",
       "\n",
       "   LIABILITIES  GENERALVOTES  POSTALVOTES  TOTALVOTES  \\\n",
       "0     231450.0        376892          482      377374   \n",
       "1     847000.0        318665          149      318814   \n",
       "2   15300000.0        314057          181      314238   \n",
       "4    8606522.0        644459         2416      646875   \n",
       "5   22251891.0        434199         1130      435329   \n",
       "\n",
       "   OVER TOTAL ELECTORS IN CONSTITUENCY  \\\n",
       "0                            25.330684   \n",
       "1                            21.399929   \n",
       "2                            21.092771   \n",
       "4                            33.383823   \n",
       "5                            22.466390   \n",
       "\n",
       "   OVER TOTAL VOTES POLLED IN CONSTITUENCY  TOTAL ELECTORS  \n",
       "0                                35.468248         1489790  \n",
       "1                                29.964370         1489790  \n",
       "2                                29.534285         1489790  \n",
       "4                                56.464615         1937690  \n",
       "5                                37.999125         1937690  "
      ]
     },
     "execution_count": 19,
     "metadata": {},
     "output_type": "execute_result"
    }
   ],
   "source": [
    "df.head()"
   ]
  },
  {
   "cell_type": "markdown",
   "metadata": {},
   "source": [
    "## 6. Data Analysis"
   ]
  },
  {
   "cell_type": "markdown",
   "metadata": {},
   "source": [
    "### 6.1 State and Constituency by total electors"
   ]
  },
  {
   "cell_type": "code",
   "execution_count": 20,
   "metadata": {},
   "outputs": [
    {
     "data": {
      "application/vnd.plotly.v1+json": {
       "config": {
        "plotlyServerURL": "https://plot.ly"
       },
       "data": [
        {
         "branchvalues": "total",
         "customdata": [
          [
           1489790
          ],
          [
           1937690
          ],
          [
           1861396
          ],
          [
           1811851
          ],
          [
           1643317
          ],
          [
           1876346
          ],
          [
           1766121
          ],
          [
           1865169
          ],
          [
           1356701
          ],
          [
           1266794
          ],
          [
           1887127
          ],
          [
           1648383
          ],
          [
           1716160
          ],
          [
           1337808
          ],
          [
           1888524
          ],
          [
           1459556
          ],
          [
           1853711
          ],
          [
           1785657
          ],
          [
           1743515
          ],
          [
           1833091
          ],
          [
           1628451
          ],
          [
           1507875
          ],
          [
           1646435
          ],
          [
           1521363
          ],
          [
           1655870
          ],
          [
           1698876
          ],
          [
           1664160
          ],
          [
           1397779
          ],
          [
           318471
          ],
          [
           1785605
          ],
          [
           1500016
          ],
          [
           1764726
          ],
          [
           1449150
          ],
          [
           1805439
          ],
          [
           2089353
          ],
          [
           1451418
          ],
          [
           339788
          ],
          [
           463775
          ],
          [
           1615865
          ],
          [
           1541145
          ],
          [
           1350710
          ],
          [
           1742883
          ],
          [
           1886284
          ],
          [
           795945
          ],
          [
           1789168
          ],
          [
           1891576
          ],
          [
           1704010
          ],
          [
           1616476
          ],
          [
           1638378
          ],
          [
           1729908
          ],
          [
           1767725
          ],
          [
           1531781
          ],
          [
           1822625
          ],
          [
           1431704
          ],
          [
           1697384
          ],
          [
           1702024
          ],
          [
           2204817
          ],
          [
           2849250
          ],
          [
           2497458
          ],
          [
           2215489
          ],
          [
           1704632
          ],
          [
           1699394
          ],
          [
           1648906
          ],
          [
           1751258
          ],
          [
           1975368
          ],
          [
           1468671
          ],
          [
           1816830
          ],
          [
           2114663
          ],
          [
           1317738
          ],
          [
           1718252
          ],
          [
           1733578
          ],
          [
           1698089
          ],
          [
           1826526
          ],
          [
           1797655
          ],
          [
           1596290
          ],
          [
           1941231
          ],
          [
           1685149
          ],
          [
           1436431
          ],
          [
           1678357
          ],
          [
           1379122
          ],
          [
           1845223
          ],
          [
           1621671
          ],
          [
           2045405
          ],
          [
           1958382
          ],
          [
           1779350
          ],
          [
           1751734
          ],
          [
           1502455
          ],
          [
           1737437
          ],
          [
           1942514
          ],
          [
           1661661
          ],
          [
           1823820
          ],
          [
           1811556
          ],
          [
           1943794
          ],
          [
           1564519
          ],
          [
           1768297
          ],
          [
           1997328
          ],
          [
           1765334
          ],
          [
           1890100
          ],
          [
           1654317
          ],
          [
           1628033
          ],
          [
           2142861
          ],
          [
           1699678
          ],
          [
           1775095
          ],
          [
           1797587
          ],
          [
           1664125
          ],
          [
           1851628
          ],
          [
           1876953
          ],
          [
           1699219
          ],
          [
           1627199
          ],
          [
           1744446
          ],
          [
           1705073
          ],
          [
           1787925
          ],
          [
           1762918
          ],
          [
           1829373
          ],
          [
           1230197
          ],
          [
           1686333
          ],
          [
           1756837
          ],
          [
           646729
          ],
          [
           1562283
          ],
          [
           1910188
          ],
          [
           1425218
          ],
          [
           1332300
          ],
          [
           1487681
          ],
          [
           1973533
          ],
          [
           2443112
          ],
          [
           1514783
          ],
          [
           1671253
          ],
          [
           1480222
          ],
          [
           1808780
          ],
          [
           1612556
          ],
          [
           1760633
          ],
          [
           1566499
          ],
          [
           2015911
          ],
          [
           2019104
          ],
          [
           1958904
          ],
          [
           1814200
          ],
          [
           1364038
          ],
          [
           1518996
          ],
          [
           250029
          ],
          [
           1598939
          ],
          [
           1724976
          ],
          [
           121740
          ],
          [
           1768777
          ],
          [
           1654811
          ],
          [
           1611317
          ],
          [
           1730289
          ],
          [
           1633064
          ],
          [
           1754195
          ],
          [
           1760503
          ],
          [
           2072634
          ],
          [
           1786151
          ],
          [
           1485804
          ],
          [
           1727311
          ],
          [
           1644674
          ],
          [
           1504403
          ],
          [
           1858566
          ],
          [
           1908173
          ],
          [
           1719190
          ],
          [
           1314319
          ],
          [
           1541881
          ],
          [
           1732936
          ],
          [
           1885433
          ],
          [
           1566196
          ],
          [
           1397253
          ],
          [
           1940269
          ],
          [
           2039302
          ],
          [
           1594950
          ],
          [
           1245972
          ],
          [
           1462246
          ],
          [
           1621295
          ],
          [
           1757984
          ],
          [
           1821785
          ],
          [
           2071816
          ],
          [
           1541971
          ],
          [
           1708585
          ],
          [
           1502861
          ],
          [
           1839312
          ],
          [
           1718837
          ],
          [
           1790510
          ],
          [
           1618419
          ],
          [
           1581366
          ],
          [
           1945772
          ],
          [
           1943486
          ],
          [
           1355796
          ],
          [
           2181319
          ],
          [
           2302960
          ],
          [
           1704596
          ],
          [
           1800002
          ],
          [
           2728978
          ],
          [
           1881077
          ],
          [
           1991651
          ],
          [
           1649413
          ],
          [
           1716766
          ],
          [
           1770248
          ],
          [
           1839514
          ],
          [
           1981197
          ],
          [
           1945765
          ],
          [
           1675724
          ],
          [
           1706119
          ],
          [
           1595284
          ],
          [
           2150728
          ],
          [
           2000744
          ],
          [
           1823664
          ],
          [
           1362269
          ],
          [
           1749100
          ],
          [
           1807119
          ],
          [
           1840738
          ],
          [
           1652999
          ],
          [
           1864320
          ],
          [
           1776555
          ],
          [
           1708510
          ],
          [
           1667465
          ],
          [
           1578218
          ],
          [
           1733729
          ],
          [
           1631817
          ],
          [
           1766601
          ],
          [
           1706141
          ],
          [
           1597500
          ],
          [
           1633925
          ],
          [
           1957931
          ],
          [
           1204191
          ],
          [
           2350580
          ],
          [
           937464
          ],
          [
           1819893
          ],
          [
           1816857
          ],
          [
           1643595
          ],
          [
           1588454
          ],
          [
           2127021
          ],
          [
           1952542
          ],
          [
           1475007
          ],
          [
           1617018
          ],
          [
           1933358
          ],
          [
           1931400
          ],
          [
           1867220
          ],
          [
           2071244
          ],
          [
           1735464
          ],
          [
           2047302
          ],
          [
           1657166
          ],
          [
           1703279
          ],
          [
           1718814
          ],
          [
           1616213
          ],
          [
           1897134
          ],
          [
           1867976
          ],
          [
           1648355
          ],
          [
           1903870
          ],
          [
           1852417
          ],
          [
           2040739
          ],
          [
           1641868
          ],
          [
           1937882
          ],
          [
           1956755
          ],
          [
           1365035
          ],
          [
           1642864
          ],
          [
           1744321
          ],
          [
           1570330
          ],
          [
           1666703
          ],
          [
           1805946
          ],
          [
           1563930
          ],
          [
           1611056
          ],
          [
           1734938
          ],
          [
           1528938
          ],
          [
           1965676
          ],
          [
           1643992
          ],
          [
           1288666
          ],
          [
           1427338
          ],
          [
           1558952
          ],
          [
           1874824
          ],
          [
           1501250
          ],
          [
           1266550
          ],
          [
           1632983
          ],
          [
           1660147
          ],
          [
           1771254
          ],
          [
           1810574
          ],
          [
           1340173
          ],
          [
           1651543
          ],
          [
           1904193
          ],
          [
           1387286
          ],
          [
           1363937
          ],
          [
           1653353
          ],
          [
           1787120
          ],
          [
           1710916
          ],
          [
           1516688
          ],
          [
           1638842
          ],
          [
           1676454
          ],
          [
           1842095
          ],
          [
           1513809
          ],
          [
           1909055
          ],
          [
           1834385
          ],
          [
           1804028
          ],
          [
           1770699
          ],
          [
           1202664
          ],
          [
           1659651
          ],
          [
           1814125
          ],
          [
           1776358
          ],
          [
           1629961
          ],
          [
           1880496
          ],
          [
           1728851
          ],
          [
           1444082
          ],
          [
           1296720
          ],
          [
           1736693
          ],
          [
           1434384
          ],
          [
           1508840
          ],
          [
           1948010
          ],
          [
           1206698
          ],
          [
           1318024
          ],
          [
           1530404
          ],
          [
           1631698
          ],
          [
           1573009
          ],
          [
           1657335
          ],
          [
           1761564
          ],
          [
           179232
          ],
          [
           1708013
          ],
          [
           55189
          ],
          [
           1751980
          ],
          [
           1886657
          ],
          [
           1234286
          ],
          [
           2040367
          ],
          [
           1683325
          ],
          [
           1848306
          ],
          [
           1473347
          ],
          [
           1909574
          ],
          [
           1884883
          ],
          [
           1792798
          ],
          [
           1539026
          ],
          [
           1424385
          ],
          [
           1807768
          ],
          [
           1915408
          ],
          [
           1637951
          ],
          [
           1506102
          ],
          [
           1648869
          ],
          [
           1723236
          ],
          [
           1370544
          ],
          [
           1575590
          ],
          [
           1685955
          ],
          [
           3150313
          ],
          [
           1281462
          ],
          [
           1951267
          ],
          [
           1760875
          ],
          [
           1712004
          ],
          [
           1800237
          ],
          [
           1807893
          ],
          [
           1652096
          ],
          [
           2298080
          ],
          [
           1308102
          ],
          [
           1484842
          ],
          [
           1493205
          ],
          [
           1603318
          ],
          [
           1674236
          ],
          [
           1892931
          ],
          [
           1845150
          ],
          [
           1796932
          ],
          [
           792464
          ],
          [
           2023431
          ],
          [
           1958939
          ],
          [
           1837723
          ],
          [
           1647350
          ],
          [
           1679891
          ],
          [
           1588693
          ],
          [
           1732263
          ],
          [
           1554176
          ],
          [
           1440380
          ],
          [
           1888025
          ],
          [
           1725187
          ],
          [
           1698003
          ],
          [
           1730553
          ],
          [
           1896333
          ],
          [
           1461004
          ],
          [
           1213777
          ],
          [
           1303649
          ],
          [
           1588111
          ],
          [
           1933169
          ],
          [
           1586117
          ],
          [
           2161096
          ],
          [
           1828433
          ],
          [
           2114809
          ],
          [
           1585980
          ],
          [
           1413599
          ],
          [
           1719322
          ],
          [
           1871099
          ],
          [
           1603220
          ],
          [
           1670391
          ],
          [
           1439691
          ],
          [
           1885064
          ],
          [
           1971658
          ],
          [
           1899747
          ],
          [
           1672845
          ],
          [
           1617470
          ],
          [
           1366060
          ],
          [
           1553385
          ],
          [
           2290492
          ],
          [
           556761
          ],
          [
           2378995
          ],
          [
           1794648
          ],
          [
           1556469
          ],
          [
           1889740
          ],
          [
           1022099
          ],
          [
           1323010
          ],
          [
           1881441
          ],
          [
           1885600
          ],
          [
           2161663
          ],
          [
           1744762
          ],
          [
           1985228
          ],
          [
           1633824
          ],
          [
           1925479
          ],
          [
           1807043
          ],
          [
           1382741
          ],
          [
           1739600
          ],
          [
           2146008
          ],
          [
           1479091
          ],
          [
           1391853
          ],
          [
           2010477
          ],
          [
           1761207
          ],
          [
           1520504
          ],
          [
           1356803
          ],
          [
           1662368
          ],
          [
           1708759
          ],
          [
           973410
          ],
          [
           2075824
          ],
          [
           1562331
          ],
          [
           1765312
          ],
          [
           1645884
          ],
          [
           1658672
          ],
          [
           1702248
          ],
          [
           1928204
          ],
          [
           1652965
          ],
          [
           1601220
          ],
          [
           1733805
          ],
          [
           2111738
          ],
          [
           1534256
          ],
          [
           1546938
          ],
          [
           1694329
          ],
          [
           1884339
          ],
          [
           1454436
          ],
          [
           1716459
          ],
          [
           1912911
          ],
          [
           1559740
          ],
          [
           1679506
          ],
          [
           1922764
          ],
          [
           1762252
          ],
          [
           1915959
          ],
          [
           1851112
          ],
          [
           1455577
          ],
          [
           1775051
          ],
          [
           1679534
          ],
          [
           1723538
          ],
          [
           1737133
          ],
          [
           1801717
          ],
          [
           1583129
          ],
          [
           1739082
          ],
          [
           1612512
          ],
          [
           1667282
          ],
          [
           1679030
          ],
          [
           1468530
          ],
          [
           1828764
          ],
          [
           1809109
          ],
          [
           1529431
          ],
          [
           1962903
          ],
          [
           1667253
          ],
          [
           1655239
          ],
          [
           1787878
          ],
          [
           1848489
          ],
          [
           1575064
          ],
          [
           1968276
          ],
          [
           1656474
          ],
          [
           2114201
          ],
          [
           1686215
          ],
          [
           1197806
          ],
          [
           1259085
          ],
          [
           1676668
          ],
          [
           1587079
          ],
          [
           2175529
          ],
          [
           1914739
          ],
          [
           1845547
          ],
          [
           2041612
          ],
          [
           434128
          ],
          [
           1195720
          ],
          [
           1269917
          ],
          [
           1803349
          ],
          [
           1752454
          ],
          [
           1666126
          ],
          [
           1552019
          ],
          [
           1799551
          ],
          [
           1851654
          ],
          [
           1592611
          ],
          [
           2067463
          ],
          [
           579352
          ],
          [
           1785472
          ],
          [
           1553860
          ],
          [
           1294671
          ],
          [
           2253448
          ],
          [
           1775196
          ],
          [
           1531525
          ],
          [
           1690620
          ],
          [
           1655704
          ],
          [
           1849429
          ],
          [
           1694646
          ],
          [
           1493543
          ],
          [
           1492317
          ],
          [
           1499639
          ],
          [
           2370903
          ],
          [
           1461052
          ],
          [
           1561040
          ],
          [
           1946870
          ],
          [
           1371427
          ],
          [
           1427783
          ],
          [
           1337110
          ],
          [
           1647399
          ],
          [
           1508963
          ],
          [
           1547800
          ],
          [
           1650453
          ],
          [
           1530014
          ],
          [
           1473862
          ],
          [
           1945992
          ],
          [
           1261861
          ],
          [
           1352857
          ],
          [
           1608545
          ],
          [
           716990
          ],
          [
           2069559
          ],
          [
           1685816
          ],
          [
           1513806
          ],
          [
           1612300
          ],
          [
           1661229
          ],
          [
           1614988
          ],
          [
           2191465
          ],
          [
           1556599
          ],
          [
           1288926
          ],
          [
           1794896
          ],
          [
           1735983
          ],
          [
           1665502
          ],
          [
           1671030
          ],
          [
           1856791
          ],
          [
           1741604
          ],
          [
           1652994
          ],
          [
           1444335
          ],
          [
           1484256
          ],
          [
           1829300
          ],
          [
           1503980
          ],
          [
           1666770
          ],
          [
           1743283
          ],
          [
           1359679
          ],
          [
           2371644
          ],
          [
           1916185
          ],
          [
           1498666
          ],
          [
           318471
          ],
          [
           1582400.9717934993
          ],
          [
           411346.8832798424
          ],
          [
           1644353.1150737212
          ],
          [
           1772123.4583131715
          ],
          [
           646729
          ],
          [
           1698986.6878278088
          ],
          [
           250029
          ],
          [
           121740
          ],
          [
           568281.104982515
          ],
          [
           1731423.3247479957
          ],
          [
           1805054.9374463586
          ],
          [
           1330051.2265762947
          ],
          [
           1479420.1213534693
          ],
          [
           1592357.041634522
          ],
          [
           1864447.0147089066
          ],
          [
           1313543.2125966665
          ],
          [
           55189
          ],
          [
           1792314.1201794483
          ],
          [
           1854902.7101187361
          ],
          [
           981609.2246572323
          ],
          [
           1017765.7952784527
          ],
          [
           792464
          ],
          [
           2100878.067652333
          ],
          [
           1213777
          ],
          [
           1550561.8931075688
          ],
          [
           973410
          ],
          [
           1608761.8167242955
          ],
          [
           1959342.8479804182
          ],
          [
           434128
          ],
          [
           1567181.864860669
          ],
          [
           1815183.074099372
          ],
          [
           1308942.396759421
          ],
          [
           1843504.556146671
          ],
          [
           1617600.669871884
          ],
          [
           1670124.3478314995
          ]
         ],
         "domain": {
          "x": [
           0,
           1
          ],
          "y": [
           0,
           1
          ]
         },
         "hovertemplate": "labels=%{label}<br>TOTAL ELECTORS_sum=%{value}<br>parent=%{parent}<br>id=%{id}<br>TOTAL ELECTORS=%{color}<extra></extra>",
         "ids": [
          "Telangana/ADILABAD",
          "Uttar Pradesh/AGRA",
          "Maharashtra/AHMADNAGAR",
          "Gujarat/AHMEDABAD EAST",
          "Gujarat/AHMEDABAD WEST",
          "Rajasthan/AJMER",
          "Uttar Pradesh/AKBARPUR",
          "Maharashtra/AKOLA",
          "Kerala/ALAPPUZHA",
          "Kerala/ALATHUR",
          "Uttar Pradesh/ALIGARH",
          "West Bengal/ALIPURDUARS",
          "Uttar Pradesh/ALLAHABAD",
          "Uttarakhand/ALMORA",
          "Rajasthan/ALWAR",
          "Andhra Pradesh/AMALAPURAM",
          "Haryana/AMBALA",
          "Uttar Pradesh/AMBEDKAR NAGAR",
          "Uttar Pradesh/AMETHI",
          "Maharashtra/AMRAVATI",
          "Gujarat/AMRELI",
          "Punjab/AMRITSAR",
          "Uttar Pradesh/AMROHA",
          "Andhra Pradesh/ANAKAPALLI",
          "Gujarat/ANAND",
          "Punjab/ANANDPUR SAHIB",
          "Andhra Pradesh/ANANTAPUR",
          "Jammu & Kashmir/ANANTNAG",
          "Andaman & Nicobar Islands/ANDAMAN & NICOBAR ISLANDS",
          "Uttar Pradesh/AONLA",
          "Tamil Nadu/ARAKKONAM",
          "West Bengal/ARAMBAGH",
          "Tamil Nadu/ARANI",
          "Bihar/ARARIA",
          "Bihar/ARRAH",
          "Andhra Pradesh/ARUKU",
          "Arunachal Pradesh/ARUNACHAL EAST",
          "Arunachal Pradesh/ARUNACHAL WEST",
          "West Bengal/ASANSOL",
          "Odisha/ASKA",
          "Kerala/ATTINGAL",
          "Bihar/AURANGABAD",
          "Maharashtra/AURANGABAD",
          "Assam/AUTONOMOUS DISTRICT",
          "Uttar Pradesh/AZAMGARH",
          "Uttar Pradesh/BADAUN",
          "Karnataka/BAGALKOT",
          "Uttar Pradesh/BAGHPAT",
          "West Bengal/BAHARAMPUR",
          "Uttar Pradesh/BAHRAICH",
          "Madhya Pradesh/BALAGHAT",
          "Odisha/BALASORE",
          "Uttar Pradesh/BALLIA",
          "West Bengal/BALURGHAT",
          "Gujarat/BANASKANTHA",
          "Uttar Pradesh/BANDA",
          "Karnataka/BANGALORE CENTRAL",
          "Karnataka/BANGALORE NORTH",
          "Karnataka/BANGALORE RURAL",
          "Karnataka/BANGALORE SOUTH",
          "West Bengal/BANGAON",
          "Bihar/BANKA",
          "West Bengal/BANKURA",
          "Uttar Pradesh/BANSGAON",
          "Rajasthan/BANSWARA",
          "Andhra Pradesh/BAPATLA",
          "Uttar Pradesh/BARABANKI",
          "Maharashtra/BARAMATI",
          "Jammu & Kashmir/BARAMULLA",
          "West Bengal/BARASAT",
          "West Bengal/BARDHAMAN DURGAPUR",
          "West Bengal/BARDHAMAN PURBA",
          "Gujarat/BARDOLI",
          "Uttar Pradesh/BAREILLY",
          "Odisha/BARGARH",
          "Rajasthan/BARMER",
          "Assam/BARPETA",
          "West Bengal/BARRACKPORE",
          "West Bengal/BASIRHAT",
          "Chhattisgarh/BASTAR",
          "Uttar Pradesh/BASTI",
          "Punjab/BATHINDA",
          "Maharashtra/BEED",
          "Bihar/BEGUSARAI",
          "Karnataka/BELGAUM",
          "Karnataka/BELLARY",
          "Odisha/BERHAMPUR",
          "Madhya Pradesh/BETUL",
          "Uttar Pradesh/BHADOHI",
          "Odisha/BHADRAK",
          "Bihar/BHAGALPUR",
          "Maharashtra/BHANDARA - GONDIYA",
          "Rajasthan/BHARATPUR",
          "Gujarat/BHARUCH",
          "Gujarat/BHAVNAGAR",
          "Rajasthan/BHILWARA",
          "Madhya Pradesh/BHIND",
          "Maharashtra/BHIWANDI",
          "Haryana/BHIWANI-MAHENDRAGARH",
          "Telangana/BHONGIR",
          "Madhya Pradesh/BHOPAL",
          "Odisha/BHUBANESWAR",
          "Karnataka/BIDAR",
          "Karnataka/BIJAPUR",
          "Uttar Pradesh/BIJNOR",
          "Rajasthan/BIKANER (SC)",
          "Chhattisgarh/BILASPUR",
          "West Bengal/BIRBHUM",
          "West Bengal/BISHNUPUR",
          "Odisha/BOLANGIR",
          "West Bengal/BOLPUR",
          "Uttar Pradesh/BULANDSHAHR",
          "Maharashtra/BULDHANA",
          "Bihar/BUXAR",
          "Kerala/CHALAKUDY",
          "Karnataka/CHAMARAJANAGAR",
          "Uttar Pradesh/CHANDAULI",
          "Chandigarh/CHANDIGARH",
          "NCT OF Delhi/CHANDNI CHOWK",
          "Maharashtra/CHANDRAPUR",
          "Jharkhand/CHATRA",
          "Tamil Nadu/CHENNAI CENTRAL",
          "Tamil Nadu/CHENNAI NORTH",
          "Tamil Nadu/CHENNAI SOUTH",
          "Telangana/CHEVELLA",
          "Madhya Pradesh/CHHINDWARA",
          "Gujarat/CHHOTA UDAIPUR",
          "Tamil Nadu/CHIDAMBARAM",
          "Karnataka/CHIKKBALLAPUR",
          "Karnataka/CHIKKODI",
          "Karnataka/CHITRADURGA",
          "Andhra Pradesh/CHITTOOR",
          "Rajasthan/CHITTORGARH",
          "Rajasthan/CHURU",
          "Tamil Nadu/COIMBATORE",
          "West Bengal/COOCH BEHAR",
          "Tamil Nadu/CUDDALORE",
          "Odisha/CUTTACK",
          "Dadra & Nagar Haveli/DADRA AND NAGAR HAVELI",
          "Gujarat/DAHOD",
          "Karnataka/DAKSHINA KANNADA",
          "Daman & Diu/DAMAN & DIU",
          "Madhya Pradesh/DAMOH",
          "Bihar/DARBHANGA",
          "West Bengal/DARJEELING",
          "Rajasthan/DAUSA",
          "Karnataka/DAVANAGERE",
          "Uttar Pradesh/DEORIA",
          "Madhya Pradesh/DEWAS",
          "Jharkhand/DHANBAD",
          "Madhya Pradesh/DHAR",
          "Tamil Nadu/DHARMAPURI",
          "Karnataka/DHARWAD",
          "Uttar Pradesh/DHAURAHRA",
          "Odisha/DHENKANAL",
          "Assam/DHUBRI",
          "Maharashtra/DHULE",
          "West Bengal/DIAMOND HARBOUR",
          "Assam/DIBRUGARH",
          "Tamil Nadu/DINDIGUL",
          "Maharashtra/DINDORI",
          "Uttar Pradesh/DOMARIYAGANJ",
          "West Bengal/DUM DUM",
          "Jharkhand/DUMKA",
          "Chhattisgarh/DURG",
          "NCT OF Delhi/EAST DELHI",
          "Andhra Pradesh/ELURU",
          "Kerala/ERNAKULAM",
          "Tamil Nadu/ERODE",
          "Uttar Pradesh/ETAH",
          "Uttar Pradesh/ETAWAH",
          "Uttar Pradesh/FAIZABAD",
          "Haryana/FARIDABAD",
          "Punjab/FARIDKOT",
          "Uttar Pradesh/FARRUKHABAD",
          "Punjab/FATEHGARH SAHIB",
          "Uttar Pradesh/FATEHPUR",
          "Uttar Pradesh/FATEHPUR SIKRI",
          "Uttar Pradesh/FIROZABAD",
          "Punjab/FIROZPUR",
          "Maharashtra/GADCHIROLI-CHIMUR",
          "Gujarat/GANDHINAGAR",
          "Rajasthan/GANGANAGAR",
          "Uttarakhand/GARHWAL",
          "Assam/GAUHATI",
          "Uttar Pradesh/GAUTAM BUDDHA NAGAR",
          "Bihar/GAYA (SC)",
          "West Bengal/GHATAL",
          "Uttar Pradesh/GHAZIABAD",
          "Uttar Pradesh/GHAZIPUR",
          "Uttar Pradesh/GHOSI",
          "Jharkhand/GIRIDIH",
          "Jharkhand/GODDA",
          "Uttar Pradesh/GONDA",
          "Bihar/GOPALGANJ (SC)",
          "Uttar Pradesh/GORAKHPUR",
          "Karnataka/GULBARGA",
          "Madhya Pradesh/GUNA",
          "Andhra Pradesh/GUNTUR",
          "Punjab/GURDASPUR",
          "Haryana/GURGAON",
          "Madhya Pradesh/GWALIOR",
          "Bihar/HAJIPUR (SC)",
          "Himachal Pradesh/HAMIRPUR",
          "Uttar Pradesh/HAMIRPUR",
          "Uttar Pradesh/HARDOI",
          "Uttarakhand/HARDWAR",
          "Karnataka/HASSAN",
          "Uttar Pradesh/HATHRAS",
          "Maharashtra/HATKANANGLE",
          "Karnataka/HAVERI",
          "Jharkhand/HAZARIBAGH",
          "Andhra Pradesh/HINDUPUR",
          "Maharashtra/HINGOLI",
          "Haryana/HISAR",
          "West Bengal/HOOGHLY",
          "Madhya Pradesh/HOSHANGABAD",
          "Punjab/HOSHIARPUR",
          "West Bengal/HOWRAH",
          "Telangana/HYDERABAD",
          "Kerala/IDUKKI",
          "Madhya Pradesh/INDORE",
          "Manipur/INNER MANIPUR",
          "Madhya Pradesh/JABALPUR",
          "West Bengal/JADAVPUR",
          "Odisha/JAGATSINGHPUR",
          "Bihar/JAHANABAD",
          "Rajasthan/JAIPUR",
          "Rajasthan/JAIPUR RURAL",
          "Odisha/JAJPUR",
          "Punjab/JALANDHAR",
          "Uttar Pradesh/JALAUN",
          "Maharashtra/JALGAON",
          "Maharashtra/JALNA",
          "Rajasthan/JALORE",
          "West Bengal/JALPAIGURI",
          "Jammu & Kashmir/JAMMU",
          "Gujarat/JAMNAGAR",
          "Jharkhand/JAMSHEDPUR",
          "Bihar/JAMUI (SC)",
          "West Bengal/JANGIPUR",
          "Chhattisgarh/JANJGIR-CHAMPA",
          "Uttar Pradesh/JAUNPUR",
          "West Bengal/JAYNAGAR",
          "Rajasthan/JHALAWAR-BARAN",
          "Bihar/JHANJHARPUR",
          "Uttar Pradesh/JHANSI",
          "West Bengal/JHARGRAM",
          "Rajasthan/JHUNJHUNU",
          "Rajasthan/JODHPUR",
          "Assam/JORHAT",
          "Gujarat/JUNAGADH",
          "Gujarat/KACHCHH",
          "Andhra Pradesh/KADAPA",
          "Uttar Pradesh/KAIRANA",
          "Uttar Pradesh/KAISERGANJ",
          "Andhra Pradesh/KAKINADA",
          "Odisha/KALAHANDI",
          "Assam/KALIABOR",
          "Tamil Nadu/KALLAKURICHI",
          "Maharashtra/KALYAN",
          "Tamil Nadu/KANCHEEPURAM",
          "Odisha/KANDHAMAL",
          "Himachal Pradesh/KANGRA",
          "Chhattisgarh/KANKER",
          "Uttar Pradesh/KANNAUJ",
          "Tamil Nadu/KANNIYAKUMARI",
          "Kerala/KANNUR",
          "Uttar Pradesh/KANPUR",
          "West Bengal/KANTHI",
          "Bihar/KARAKAT",
          "Rajasthan/KARAULI-DHOLPUR",
          "Assam/KARIMGANJ",
          "Telangana/KARIMNAGAR",
          "Haryana/KARNAL",
          "Tamil Nadu/KARUR",
          "Kerala/KASARAGOD",
          "Bihar/KATIHAR",
          "Uttar Pradesh/KAUSHAMBI",
          "Odisha/KENDRAPARA",
          "Odisha/KEONJHAR",
          "Punjab/KHADOOR SAHIB",
          "Bihar/KHAGARIA",
          "Madhya Pradesh/KHAJURAHO",
          "Telangana/KHAMMAM",
          "Madhya Pradesh/KHANDWA",
          "Madhya Pradesh/KHARGONE",
          "Gujarat/KHEDA",
          "Uttar Pradesh/KHERI",
          "Jharkhand/KHUNTI",
          "Bihar/KISHANGANJ",
          "Jharkhand/KODARMA",
          "Assam/KOKRAJHAR",
          "Karnataka/KOLAR",
          "Maharashtra/KOLHAPUR",
          "West Bengal/KOLKATA DAKSHIN",
          "West Bengal/KOLKATA UTTAR",
          "Kerala/KOLLAM",
          "Karnataka/KOPPAL",
          "Odisha/KORAPUT",
          "Chhattisgarh/KORBA",
          "Rajasthan/KOTA",
          "Kerala/KOTTAYAM",
          "Kerala/KOZHIKODE",
          "Tamil Nadu/KRISHNAGIRI",
          "West Bengal/KRISHNANAGAR",
          "Andhra Pradesh/KURNOOL",
          "Haryana/KURUKSHETRA",
          "Uttar Pradesh/KUSHI NAGAR",
          "Jammu & Kashmir/LADAKH",
          "Assam/LAKHIMPUR",
          "Lakshadweep/LAKSHADWEEP",
          "Uttar Pradesh/LALGANJ",
          "Maharashtra/LATUR",
          "Jharkhand/LOHARDAGA",
          "Uttar Pradesh/LUCKNOW",
          "Punjab/LUDHIANA",
          "Uttar Pradesh/MACHHLISHAHR",
          "Andhra Pradesh/MACHILIPATNAM",
          "Maharashtra/MADHA",
          "Bihar/MADHEPURA",
          "Bihar/MADHUBANI",
          "Tamil Nadu/MADURAI",
          "Telangana/MAHABUBABAD",
          "Bihar/MAHARAJGANJ",
          "Uttar Pradesh/MAHARAJGANJ",
          "Chhattisgarh/MAHASAMUND",
          "Telangana/MAHBUBNAGAR",
          "Gujarat/MAHESANA",
          "Uttar Pradesh/MAINPURI",
          "Kerala/MALAPPURAM",
          "West Bengal/MALDAHA DAKSHIN",
          "West Bengal/MALDAHA UTTAR",
          "Telangana/MALKAJGIRI",
          "Himachal Pradesh/MANDI",
          "Madhya Pradesh/MANDLA",
          "Madhya Pradesh/MANDSOUR",
          "Karnataka/MANDYA",
          "Assam/MANGALDOI",
          "Uttar Pradesh/MATHURA",
          "West Bengal/MATHURAPUR",
          "Maharashtra/MAVAL",
          "Kerala/MAVELIKKARA",
          "Tamil Nadu/MAYILADUTHURAI",
          "Odisha/MAYURBHANJ",
          "Telangana/MEDAK",
          "West Bengal/MEDINIPUR",
          "Uttar Pradesh/MEERUT",
          "Uttar Pradesh/MIRZAPUR",
          "Uttar Pradesh/MISRIKH",
          "Mizoram/MIZORAM",
          "Uttar Pradesh/MOHANLALGANJ",
          "Uttar Pradesh/MORADABAD",
          "Madhya Pradesh/MORENA",
          "Maharashtra/MUMBAI NORTH",
          "Maharashtra/MUMBAI NORTH CENTRAL",
          "Maharashtra/MUMBAI NORTH EAST",
          "Maharashtra/MUMBAI NORTH WEST",
          "Maharashtra/MUMBAI SOUTH",
          "Maharashtra/MUMBAI SOUTH CENTRAL",
          "Bihar/MUNGER",
          "West Bengal/MURSHIDABAD",
          "Uttar Pradesh/MUZAFFARNAGAR",
          "Bihar/MUZAFFARPUR",
          "Karnataka/MYSORE",
          "Odisha/NABARANGPUR",
          "Nagaland/NAGALAND",
          "Tamil Nadu/NAGAPATTINAM",
          "Telangana/NAGARKURNOOL",
          "Rajasthan/NAGAUR",
          "Uttar Pradesh/NAGINA",
          "Maharashtra/NAGPUR",
          "Uttarakhand/NAINITAL-UDHAMSINGH NAGAR",
          "Bihar/NALANDA",
          "Telangana/NALGONDA",
          "Tamil Nadu/NAMAKKAL",
          "Maharashtra/NANDED",
          "Maharashtra/NANDURBAR",
          "Andhra Pradesh/NANDYAL",
          "Andhra Pradesh/NARASARAOPET",
          "Andhra Pradesh/NARSAPURAM",
          "Maharashtra/NASHIK",
          "Gujarat/NAVSARI",
          "Bihar/NAWADA",
          "Andhra Pradesh/NELLORE",
          "NCT OF Delhi/NEW DELHI",
          "Tamil Nadu/NILGIRIS",
          "Telangana/NIZAMABAD",
          "NCT OF Delhi/NORTH EAST DELHI",
          "Goa/NORTH GOA",
          "NCT OF Delhi/NORTH WEST DELHI",
          "Assam/NOWGONG",
          "Andhra Pradesh/ONGOLE",
          "Maharashtra/OSMANABAD",
          "Manipur/OUTER MANIPUR",
          "Kerala/PALAKKAD",
          "Jharkhand/PALAMAU",
          "Maharashtra/PALGHAR",
          "Rajasthan/PALI",
          "Gujarat/PANCHMAHAL",
          "Maharashtra/PARBHANI",
          "Bihar/PASCHIM CHAMPARAN",
          "Bihar/PATALIPUTRA",
          "Gujarat/PATAN",
          "Kerala/PATHANAMTHITTA",
          "Punjab/PATIALA",
          "Bihar/PATNA SAHIB",
          "Telangana/PEDDAPALLE",
          "Tamil Nadu/PERAMBALUR",
          "Uttar Pradesh/PHULPUR",
          "Uttar Pradesh/PILIBHIT",
          "Tamil Nadu/POLLACHI",
          "Kerala/PONNANI",
          "Gujarat/PORBANDAR",
          "Uttar Pradesh/PRATAPGARH",
          "Puducherry/PUDUCHERRY",
          "Maharashtra/PUNE",
          "Odisha/PURI",
          "Bihar/PURNIA",
          "West Bengal/PURULIA",
          "Bihar/PURVI CHAMPARAN",
          "Uttar Pradesh/RAE BARELI",
          "Karnataka/RAICHUR",
          "Maharashtra/RAIGAD",
          "West Bengal/RAIGANJ",
          "Chhattisgarh/RAIGARH",
          "Chhattisgarh/RAIPUR",
          "Andhra Pradesh/RAJAHMUNDRY",
          "Andhra Pradesh/RAJAMPET",
          "Madhya Pradesh/RAJGARH",
          "Gujarat/RAJKOT",
          "Jharkhand/RAJMAHAL",
          "Chhattisgarh/RAJNANDGAON",
          "Rajasthan/RAJSAMAND",
          "Tamil Nadu/RAMANATHAPURAM",
          "Uttar Pradesh/RAMPUR",
          "Maharashtra/RAMTEK",
          "West Bengal/RANAGHAT",
          "Jharkhand/RANCHI",
          "Madhya Pradesh/RATLAM",
          "Maharashtra/RATNAGIRI - SINDHUDURG",
          "Maharashtra/RAVER",
          "Madhya Pradesh/REWA",
          "Uttar Pradesh/ROBERTSGANJ",
          "Haryana/ROHTAK",
          "Gujarat/SABARKANTHA",
          "Madhya Pradesh/SAGAR",
          "Uttar Pradesh/SAHARANPUR",
          "Tamil Nadu/SALEM",
          "Uttar Pradesh/SALEMPUR",
          "Bihar/SAMASTIPUR (SC)",
          "Odisha/SAMBALPUR",
          "Uttar Pradesh/SAMBHAL",
          "Maharashtra/SANGLI",
          "Punjab/SANGRUR",
          "Uttar Pradesh/SANT KABIR NAGAR",
          "Bihar/SARAN",
          "Chhattisgarh/SARGUJA",
          "Bihar/SASARAM (SC)",
          "Maharashtra/SATARA",
          "Madhya Pradesh/SATNA",
          "Telangana/SECUNDRABAD",
          "Madhya Pradesh/SHAHDOL",
          "Uttar Pradesh/SHAHJAHANPUR",
          "Bihar/SHEOHAR",
          "Meghalaya/SHILLONG",
          "Himachal Pradesh/SHIMLA",
          "Karnataka/SHIMOGA",
          "Maharashtra/SHIRDI",
          "Maharashtra/SHIRUR",
          "Uttar Pradesh/SHRAWASTI",
          "Madhya Pradesh/SIDHI",
          "Rajasthan/SIKAR",
          "Sikkim/SIKKIM",
          "Assam/SILCHAR",
          "Jharkhand/SINGHBHUM",
          "Haryana/SIRSA",
          "Bihar/SITAMARHI",
          "Uttar Pradesh/SITAPUR",
          "Tamil Nadu/SIVAGANGA",
          "Bihar/SIWAN",
          "Maharashtra/SOLAPUR",
          "Haryana/SONIPAT",
          "NCT OF Delhi/SOUTH DELHI",
          "Goa/SOUTH GOA",
          "West Bengal/SRERAMPUR",
          "Andhra Pradesh/SRIKAKULAM",
          "Jammu & Kashmir/SRINAGAR",
          "Tamil Nadu/SRIPERUMBUDUR",
          "Uttar Pradesh/SULTANPUR",
          "Odisha/SUNDARGARH",
          "Bihar/SUPAUL",
          "Gujarat/SURAT",
          "Gujarat/SURENDRANAGAR",
          "West Bengal/TAMLUK",
          "Uttarakhand/TEHRI GARHWAL",
          "Tamil Nadu/TENKASI",
          "Assam/TEZPUR",
          "Maharashtra/THANE",
          "Tamil Nadu/THANJAVUR",
          "Tamil Nadu/THENI",
          "Tamil Nadu/THIRUVALLUR",
          "Kerala/THIRUVANANTHAPURAM",
          "Tamil Nadu/THOOTHUKKUDI",
          "Kerala/THRISSUR",
          "Madhya Pradesh/TIKAMGARH",
          "Tamil Nadu/TIRUCHIRAPPALLI",
          "Tamil Nadu/TIRUNELVELI",
          "Andhra Pradesh/TIRUPATI",
          "Tamil Nadu/TIRUPPUR",
          "Tamil Nadu/TIRUVANNAMALAI",
          "Rajasthan/TONK-SAWAI MADHOPUR",
          "Tripura/TRIPURA EAST",
          "Tripura/TRIPURA WEST",
          "Karnataka/TUMKUR",
          "Meghalaya/TURA",
          "Rajasthan/UDAIPUR",
          "Jammu & Kashmir/UDHAMPUR",
          "Karnataka/UDUPI CHIKMAGALUR",
          "Bihar/UJIARPUR",
          "Madhya Pradesh/UJJAIN",
          "West Bengal/ULUBERIA",
          "Uttar Pradesh/UNNAO",
          "Karnataka/UTTARA KANNADA",
          "Kerala/VADAKARA",
          "Gujarat/VADODARA",
          "Bihar/VAISHALI",
          "Bihar/VALMIKI NAGAR",
          "Gujarat/VALSAD",
          "Uttar Pradesh/VARANASI",
          "Madhya Pradesh/VIDISHA",
          "Andhra Pradesh/VIJAYAWADA",
          "Tamil Nadu/VILUPPURAM",
          "Tamil Nadu/VIRUDHUNAGAR",
          "Andhra Pradesh/VISAKHAPATNAM",
          "Andhra Pradesh/VIZIANAGARAM",
          "Telangana/WARANGAL",
          "Maharashtra/WARDHA",
          "Kerala/WAYANAD",
          "NCT OF Delhi/WEST DELHI",
          "Maharashtra/YAVATMAL-WASHIM",
          "Telangana/ZAHIRABAD",
          "Andaman & Nicobar Islands",
          "Andhra Pradesh",
          "Arunachal Pradesh",
          "Assam",
          "Bihar",
          "Chandigarh",
          "Chhattisgarh",
          "Dadra & Nagar Haveli",
          "Daman & Diu",
          "Goa",
          "Gujarat",
          "Haryana",
          "Himachal Pradesh",
          "Jammu & Kashmir",
          "Jharkhand",
          "Karnataka",
          "Kerala",
          "Lakshadweep",
          "Madhya Pradesh",
          "Maharashtra",
          "Manipur",
          "Meghalaya",
          "Mizoram",
          "NCT OF Delhi",
          "Nagaland",
          "Odisha",
          "Puducherry",
          "Punjab",
          "Rajasthan",
          "Sikkim",
          "Tamil Nadu",
          "Telangana",
          "Tripura",
          "Uttar Pradesh",
          "Uttarakhand",
          "West Bengal"
         ],
         "labels": [
          "ADILABAD",
          "AGRA",
          "AHMADNAGAR",
          "AHMEDABAD EAST",
          "AHMEDABAD WEST",
          "AJMER",
          "AKBARPUR",
          "AKOLA",
          "ALAPPUZHA",
          "ALATHUR",
          "ALIGARH",
          "ALIPURDUARS",
          "ALLAHABAD",
          "ALMORA",
          "ALWAR",
          "AMALAPURAM",
          "AMBALA",
          "AMBEDKAR NAGAR",
          "AMETHI",
          "AMRAVATI",
          "AMRELI",
          "AMRITSAR",
          "AMROHA",
          "ANAKAPALLI",
          "ANAND",
          "ANANDPUR SAHIB",
          "ANANTAPUR",
          "ANANTNAG",
          "ANDAMAN & NICOBAR ISLANDS",
          "AONLA",
          "ARAKKONAM",
          "ARAMBAGH",
          "ARANI",
          "ARARIA",
          "ARRAH",
          "ARUKU",
          "ARUNACHAL EAST",
          "ARUNACHAL WEST",
          "ASANSOL",
          "ASKA",
          "ATTINGAL",
          "AURANGABAD",
          "AURANGABAD",
          "AUTONOMOUS DISTRICT",
          "AZAMGARH",
          "BADAUN",
          "BAGALKOT",
          "BAGHPAT",
          "BAHARAMPUR",
          "BAHRAICH",
          "BALAGHAT",
          "BALASORE",
          "BALLIA",
          "BALURGHAT",
          "BANASKANTHA",
          "BANDA",
          "BANGALORE CENTRAL",
          "BANGALORE NORTH",
          "BANGALORE RURAL",
          "BANGALORE SOUTH",
          "BANGAON",
          "BANKA",
          "BANKURA",
          "BANSGAON",
          "BANSWARA",
          "BAPATLA",
          "BARABANKI",
          "BARAMATI",
          "BARAMULLA",
          "BARASAT",
          "BARDHAMAN DURGAPUR",
          "BARDHAMAN PURBA",
          "BARDOLI",
          "BAREILLY",
          "BARGARH",
          "BARMER",
          "BARPETA",
          "BARRACKPORE",
          "BASIRHAT",
          "BASTAR",
          "BASTI",
          "BATHINDA",
          "BEED",
          "BEGUSARAI",
          "BELGAUM",
          "BELLARY",
          "BERHAMPUR",
          "BETUL",
          "BHADOHI",
          "BHADRAK",
          "BHAGALPUR",
          "BHANDARA - GONDIYA",
          "BHARATPUR",
          "BHARUCH",
          "BHAVNAGAR",
          "BHILWARA",
          "BHIND",
          "BHIWANDI",
          "BHIWANI-MAHENDRAGARH",
          "BHONGIR",
          "BHOPAL",
          "BHUBANESWAR",
          "BIDAR",
          "BIJAPUR",
          "BIJNOR",
          "BIKANER (SC)",
          "BILASPUR",
          "BIRBHUM",
          "BISHNUPUR",
          "BOLANGIR",
          "BOLPUR",
          "BULANDSHAHR",
          "BULDHANA",
          "BUXAR",
          "CHALAKUDY",
          "CHAMARAJANAGAR",
          "CHANDAULI",
          "CHANDIGARH",
          "CHANDNI CHOWK",
          "CHANDRAPUR",
          "CHATRA",
          "CHENNAI CENTRAL",
          "CHENNAI NORTH",
          "CHENNAI SOUTH",
          "CHEVELLA",
          "CHHINDWARA",
          "CHHOTA UDAIPUR",
          "CHIDAMBARAM",
          "CHIKKBALLAPUR",
          "CHIKKODI",
          "CHITRADURGA",
          "CHITTOOR",
          "CHITTORGARH",
          "CHURU",
          "COIMBATORE",
          "COOCH BEHAR",
          "CUDDALORE",
          "CUTTACK",
          "DADRA AND NAGAR HAVELI",
          "DAHOD",
          "DAKSHINA KANNADA",
          "DAMAN & DIU",
          "DAMOH",
          "DARBHANGA",
          "DARJEELING",
          "DAUSA",
          "DAVANAGERE",
          "DEORIA",
          "DEWAS",
          "DHANBAD",
          "DHAR",
          "DHARMAPURI",
          "DHARWAD",
          "DHAURAHRA",
          "DHENKANAL",
          "DHUBRI",
          "DHULE",
          "DIAMOND HARBOUR",
          "DIBRUGARH",
          "DINDIGUL",
          "DINDORI",
          "DOMARIYAGANJ",
          "DUM DUM",
          "DUMKA",
          "DURG",
          "EAST DELHI",
          "ELURU",
          "ERNAKULAM",
          "ERODE",
          "ETAH",
          "ETAWAH",
          "FAIZABAD",
          "FARIDABAD",
          "FARIDKOT",
          "FARRUKHABAD",
          "FATEHGARH SAHIB",
          "FATEHPUR",
          "FATEHPUR SIKRI",
          "FIROZABAD",
          "FIROZPUR",
          "GADCHIROLI-CHIMUR",
          "GANDHINAGAR",
          "GANGANAGAR",
          "GARHWAL",
          "GAUHATI",
          "GAUTAM BUDDHA NAGAR",
          "GAYA (SC)",
          "GHATAL",
          "GHAZIABAD",
          "GHAZIPUR",
          "GHOSI",
          "GIRIDIH",
          "GODDA",
          "GONDA",
          "GOPALGANJ (SC)",
          "GORAKHPUR",
          "GULBARGA",
          "GUNA",
          "GUNTUR",
          "GURDASPUR",
          "GURGAON",
          "GWALIOR",
          "HAJIPUR (SC)",
          "HAMIRPUR",
          "HAMIRPUR",
          "HARDOI",
          "HARDWAR",
          "HASSAN",
          "HATHRAS",
          "HATKANANGLE",
          "HAVERI",
          "HAZARIBAGH",
          "HINDUPUR",
          "HINGOLI",
          "HISAR",
          "HOOGHLY",
          "HOSHANGABAD",
          "HOSHIARPUR",
          "HOWRAH",
          "HYDERABAD",
          "IDUKKI",
          "INDORE",
          "INNER MANIPUR",
          "JABALPUR",
          "JADAVPUR",
          "JAGATSINGHPUR",
          "JAHANABAD",
          "JAIPUR",
          "JAIPUR RURAL",
          "JAJPUR",
          "JALANDHAR",
          "JALAUN",
          "JALGAON",
          "JALNA",
          "JALORE",
          "JALPAIGURI",
          "JAMMU",
          "JAMNAGAR",
          "JAMSHEDPUR",
          "JAMUI (SC)",
          "JANGIPUR",
          "JANJGIR-CHAMPA",
          "JAUNPUR",
          "JAYNAGAR",
          "JHALAWAR-BARAN",
          "JHANJHARPUR",
          "JHANSI",
          "JHARGRAM",
          "JHUNJHUNU",
          "JODHPUR",
          "JORHAT",
          "JUNAGADH",
          "KACHCHH",
          "KADAPA",
          "KAIRANA",
          "KAISERGANJ",
          "KAKINADA",
          "KALAHANDI",
          "KALIABOR",
          "KALLAKURICHI",
          "KALYAN",
          "KANCHEEPURAM",
          "KANDHAMAL",
          "KANGRA",
          "KANKER",
          "KANNAUJ",
          "KANNIYAKUMARI",
          "KANNUR",
          "KANPUR",
          "KANTHI",
          "KARAKAT",
          "KARAULI-DHOLPUR",
          "KARIMGANJ",
          "KARIMNAGAR",
          "KARNAL",
          "KARUR",
          "KASARAGOD",
          "KATIHAR",
          "KAUSHAMBI",
          "KENDRAPARA",
          "KEONJHAR",
          "KHADOOR SAHIB",
          "KHAGARIA",
          "KHAJURAHO",
          "KHAMMAM",
          "KHANDWA",
          "KHARGONE",
          "KHEDA",
          "KHERI",
          "KHUNTI",
          "KISHANGANJ",
          "KODARMA",
          "KOKRAJHAR",
          "KOLAR",
          "KOLHAPUR",
          "KOLKATA DAKSHIN",
          "KOLKATA UTTAR",
          "KOLLAM",
          "KOPPAL",
          "KORAPUT",
          "KORBA",
          "KOTA",
          "KOTTAYAM",
          "KOZHIKODE",
          "KRISHNAGIRI",
          "KRISHNANAGAR",
          "KURNOOL",
          "KURUKSHETRA",
          "KUSHI NAGAR",
          "LADAKH",
          "LAKHIMPUR",
          "LAKSHADWEEP",
          "LALGANJ",
          "LATUR",
          "LOHARDAGA",
          "LUCKNOW",
          "LUDHIANA",
          "MACHHLISHAHR",
          "MACHILIPATNAM",
          "MADHA",
          "MADHEPURA",
          "MADHUBANI",
          "MADURAI",
          "MAHABUBABAD",
          "MAHARAJGANJ",
          "MAHARAJGANJ",
          "MAHASAMUND",
          "MAHBUBNAGAR",
          "MAHESANA",
          "MAINPURI",
          "MALAPPURAM",
          "MALDAHA DAKSHIN",
          "MALDAHA UTTAR",
          "MALKAJGIRI",
          "MANDI",
          "MANDLA",
          "MANDSOUR",
          "MANDYA",
          "MANGALDOI",
          "MATHURA",
          "MATHURAPUR",
          "MAVAL",
          "MAVELIKKARA",
          "MAYILADUTHURAI",
          "MAYURBHANJ",
          "MEDAK",
          "MEDINIPUR",
          "MEERUT",
          "MIRZAPUR",
          "MISRIKH",
          "MIZORAM",
          "MOHANLALGANJ",
          "MORADABAD",
          "MORENA",
          "MUMBAI NORTH",
          "MUMBAI NORTH CENTRAL",
          "MUMBAI NORTH EAST",
          "MUMBAI NORTH WEST",
          "MUMBAI SOUTH",
          "MUMBAI SOUTH CENTRAL",
          "MUNGER",
          "MURSHIDABAD",
          "MUZAFFARNAGAR",
          "MUZAFFARPUR",
          "MYSORE",
          "NABARANGPUR",
          "NAGALAND",
          "NAGAPATTINAM",
          "NAGARKURNOOL",
          "NAGAUR",
          "NAGINA",
          "NAGPUR",
          "NAINITAL-UDHAMSINGH NAGAR",
          "NALANDA",
          "NALGONDA",
          "NAMAKKAL",
          "NANDED",
          "NANDURBAR",
          "NANDYAL",
          "NARASARAOPET",
          "NARSAPURAM",
          "NASHIK",
          "NAVSARI",
          "NAWADA",
          "NELLORE",
          "NEW DELHI",
          "NILGIRIS",
          "NIZAMABAD",
          "NORTH EAST DELHI",
          "NORTH GOA",
          "NORTH WEST DELHI",
          "NOWGONG",
          "ONGOLE",
          "OSMANABAD",
          "OUTER MANIPUR",
          "PALAKKAD",
          "PALAMAU",
          "PALGHAR",
          "PALI",
          "PANCHMAHAL",
          "PARBHANI",
          "PASCHIM CHAMPARAN",
          "PATALIPUTRA",
          "PATAN",
          "PATHANAMTHITTA",
          "PATIALA",
          "PATNA SAHIB",
          "PEDDAPALLE",
          "PERAMBALUR",
          "PHULPUR",
          "PILIBHIT",
          "POLLACHI",
          "PONNANI",
          "PORBANDAR",
          "PRATAPGARH",
          "PUDUCHERRY",
          "PUNE",
          "PURI",
          "PURNIA",
          "PURULIA",
          "PURVI CHAMPARAN",
          "RAE BARELI",
          "RAICHUR",
          "RAIGAD",
          "RAIGANJ",
          "RAIGARH",
          "RAIPUR",
          "RAJAHMUNDRY",
          "RAJAMPET",
          "RAJGARH",
          "RAJKOT",
          "RAJMAHAL",
          "RAJNANDGAON",
          "RAJSAMAND",
          "RAMANATHAPURAM",
          "RAMPUR",
          "RAMTEK",
          "RANAGHAT",
          "RANCHI",
          "RATLAM",
          "RATNAGIRI - SINDHUDURG",
          "RAVER",
          "REWA",
          "ROBERTSGANJ",
          "ROHTAK",
          "SABARKANTHA",
          "SAGAR",
          "SAHARANPUR",
          "SALEM",
          "SALEMPUR",
          "SAMASTIPUR (SC)",
          "SAMBALPUR",
          "SAMBHAL",
          "SANGLI",
          "SANGRUR",
          "SANT KABIR NAGAR",
          "SARAN",
          "SARGUJA",
          "SASARAM (SC)",
          "SATARA",
          "SATNA",
          "SECUNDRABAD",
          "SHAHDOL",
          "SHAHJAHANPUR",
          "SHEOHAR",
          "SHILLONG",
          "SHIMLA",
          "SHIMOGA",
          "SHIRDI",
          "SHIRUR",
          "SHRAWASTI",
          "SIDHI",
          "SIKAR",
          "SIKKIM",
          "SILCHAR",
          "SINGHBHUM",
          "SIRSA",
          "SITAMARHI",
          "SITAPUR",
          "SIVAGANGA",
          "SIWAN",
          "SOLAPUR",
          "SONIPAT",
          "SOUTH DELHI",
          "SOUTH GOA",
          "SRERAMPUR",
          "SRIKAKULAM",
          "SRINAGAR",
          "SRIPERUMBUDUR",
          "SULTANPUR",
          "SUNDARGARH",
          "SUPAUL",
          "SURAT",
          "SURENDRANAGAR",
          "TAMLUK",
          "TEHRI GARHWAL",
          "TENKASI",
          "TEZPUR",
          "THANE",
          "THANJAVUR",
          "THENI",
          "THIRUVALLUR",
          "THIRUVANANTHAPURAM",
          "THOOTHUKKUDI",
          "THRISSUR",
          "TIKAMGARH",
          "TIRUCHIRAPPALLI",
          "TIRUNELVELI",
          "TIRUPATI",
          "TIRUPPUR",
          "TIRUVANNAMALAI",
          "TONK-SAWAI MADHOPUR",
          "TRIPURA EAST",
          "TRIPURA WEST",
          "TUMKUR",
          "TURA",
          "UDAIPUR",
          "UDHAMPUR",
          "UDUPI CHIKMAGALUR",
          "UJIARPUR",
          "UJJAIN",
          "ULUBERIA",
          "UNNAO",
          "UTTARA KANNADA",
          "VADAKARA",
          "VADODARA",
          "VAISHALI",
          "VALMIKI NAGAR",
          "VALSAD",
          "VARANASI",
          "VIDISHA",
          "VIJAYAWADA",
          "VILUPPURAM",
          "VIRUDHUNAGAR",
          "VISAKHAPATNAM",
          "VIZIANAGARAM",
          "WARANGAL",
          "WARDHA",
          "WAYANAD",
          "WEST DELHI",
          "YAVATMAL-WASHIM",
          "ZAHIRABAD",
          "Andaman & Nicobar Islands",
          "Andhra Pradesh",
          "Arunachal Pradesh",
          "Assam",
          "Bihar",
          "Chandigarh",
          "Chhattisgarh",
          "Dadra & Nagar Haveli",
          "Daman & Diu",
          "Goa",
          "Gujarat",
          "Haryana",
          "Himachal Pradesh",
          "Jammu & Kashmir",
          "Jharkhand",
          "Karnataka",
          "Kerala",
          "Lakshadweep",
          "Madhya Pradesh",
          "Maharashtra",
          "Manipur",
          "Meghalaya",
          "Mizoram",
          "NCT OF Delhi",
          "Nagaland",
          "Odisha",
          "Puducherry",
          "Punjab",
          "Rajasthan",
          "Sikkim",
          "Tamil Nadu",
          "Telangana",
          "Tripura",
          "Uttar Pradesh",
          "Uttarakhand",
          "West Bengal"
         ],
         "marker": {
          "coloraxis": "coloraxis",
          "colors": [
           1489790,
           1937690,
           1861396,
           1811851,
           1643317,
           1876346,
           1766121,
           1865169,
           1356701,
           1266794,
           1887127,
           1648383,
           1716160,
           1337808,
           1888524,
           1459556,
           1853711,
           1785657,
           1743515,
           1833091,
           1628451,
           1507875,
           1646435,
           1521363,
           1655870,
           1698876,
           1664160,
           1397779,
           318471,
           1785605,
           1500016,
           1764726,
           1449150,
           1805439,
           2089353,
           1451418,
           339788,
           463775,
           1615865,
           1541145,
           1350710,
           1742883,
           1886284,
           795945,
           1789168,
           1891576,
           1704010,
           1616476,
           1638378,
           1729908,
           1767725,
           1531781,
           1822625,
           1431704,
           1697384,
           1702024,
           2204817,
           2849250,
           2497458,
           2215489,
           1704632,
           1699394,
           1648906,
           1751258,
           1975368,
           1468671,
           1816830,
           2114663,
           1317738,
           1718252,
           1733578,
           1698089,
           1826526,
           1797655,
           1596290,
           1941231,
           1685149,
           1436431,
           1678357,
           1379122,
           1845223,
           1621671,
           2045405,
           1958382,
           1779350,
           1751734,
           1502455,
           1737437,
           1942514,
           1661661,
           1823820,
           1811556,
           1943794,
           1564519,
           1768297,
           1997328,
           1765334,
           1890100,
           1654317,
           1628033,
           2142861,
           1699678,
           1775095,
           1797587,
           1664125,
           1851628,
           1876953,
           1699219,
           1627199,
           1744446,
           1705073,
           1787925,
           1762918,
           1829373,
           1230197,
           1686333,
           1756837,
           646729,
           1562283,
           1910188,
           1425218,
           1332300,
           1487681,
           1973533,
           2443112,
           1514783,
           1671253,
           1480222,
           1808780,
           1612556,
           1760633,
           1566499,
           2015911,
           2019104,
           1958904,
           1814200,
           1364038,
           1518996,
           250029,
           1598939,
           1724976,
           121740,
           1768777,
           1654811,
           1611317,
           1730289,
           1633064,
           1754195,
           1760503,
           2072634,
           1786151,
           1485804,
           1727311,
           1644674,
           1504403,
           1858566,
           1908173,
           1719190,
           1314319,
           1541881,
           1732936,
           1885433,
           1566196,
           1397253,
           1940269,
           2039302,
           1594950,
           1245972,
           1462246,
           1621295,
           1757984,
           1821785,
           2071816,
           1541971,
           1708585,
           1502861,
           1839312,
           1718837,
           1790510,
           1618419,
           1581366,
           1945772,
           1943486,
           1355796,
           2181319,
           2302960,
           1704596,
           1800002,
           2728978,
           1881077,
           1991651,
           1649413,
           1716766,
           1770248,
           1839514,
           1981197,
           1945765,
           1675724,
           1706119,
           1595284,
           2150728,
           2000744,
           1823664,
           1362269,
           1749100,
           1807119,
           1840738,
           1652999,
           1864320,
           1776555,
           1708510,
           1667465,
           1578218,
           1733729,
           1631817,
           1766601,
           1706141,
           1597500,
           1633925,
           1957931,
           1204191,
           2350580,
           937464,
           1819893,
           1816857,
           1643595,
           1588454,
           2127021,
           1952542,
           1475007,
           1617018,
           1933358,
           1931400,
           1867220,
           2071244,
           1735464,
           2047302,
           1657166,
           1703279,
           1718814,
           1616213,
           1897134,
           1867976,
           1648355,
           1903870,
           1852417,
           2040739,
           1641868,
           1937882,
           1956755,
           1365035,
           1642864,
           1744321,
           1570330,
           1666703,
           1805946,
           1563930,
           1611056,
           1734938,
           1528938,
           1965676,
           1643992,
           1288666,
           1427338,
           1558952,
           1874824,
           1501250,
           1266550,
           1632983,
           1660147,
           1771254,
           1810574,
           1340173,
           1651543,
           1904193,
           1387286,
           1363937,
           1653353,
           1787120,
           1710916,
           1516688,
           1638842,
           1676454,
           1842095,
           1513809,
           1909055,
           1834385,
           1804028,
           1770699,
           1202664,
           1659651,
           1814125,
           1776358,
           1629961,
           1880496,
           1728851,
           1444082,
           1296720,
           1736693,
           1434384,
           1508840,
           1948010,
           1206698,
           1318024,
           1530404,
           1631698,
           1573009,
           1657335,
           1761564,
           179232,
           1708013,
           55189,
           1751980,
           1886657,
           1234286,
           2040367,
           1683325,
           1848306,
           1473347,
           1909574,
           1884883,
           1792798,
           1539026,
           1424385,
           1807768,
           1915408,
           1637951,
           1506102,
           1648869,
           1723236,
           1370544,
           1575590,
           1685955,
           3150313,
           1281462,
           1951267,
           1760875,
           1712004,
           1800237,
           1807893,
           1652096,
           2298080,
           1308102,
           1484842,
           1493205,
           1603318,
           1674236,
           1892931,
           1845150,
           1796932,
           792464,
           2023431,
           1958939,
           1837723,
           1647350,
           1679891,
           1588693,
           1732263,
           1554176,
           1440380,
           1888025,
           1725187,
           1698003,
           1730553,
           1896333,
           1461004,
           1213777,
           1303649,
           1588111,
           1933169,
           1586117,
           2161096,
           1828433,
           2114809,
           1585980,
           1413599,
           1719322,
           1871099,
           1603220,
           1670391,
           1439691,
           1885064,
           1971658,
           1899747,
           1672845,
           1617470,
           1366060,
           1553385,
           2290492,
           556761,
           2378995,
           1794648,
           1556469,
           1889740,
           1022099,
           1323010,
           1881441,
           1885600,
           2161663,
           1744762,
           1985228,
           1633824,
           1925479,
           1807043,
           1382741,
           1739600,
           2146008,
           1479091,
           1391853,
           2010477,
           1761207,
           1520504,
           1356803,
           1662368,
           1708759,
           973410,
           2075824,
           1562331,
           1765312,
           1645884,
           1658672,
           1702248,
           1928204,
           1652965,
           1601220,
           1733805,
           2111738,
           1534256,
           1546938,
           1694329,
           1884339,
           1454436,
           1716459,
           1912911,
           1559740,
           1679506,
           1922764,
           1762252,
           1915959,
           1851112,
           1455577,
           1775051,
           1679534,
           1723538,
           1737133,
           1801717,
           1583129,
           1739082,
           1612512,
           1667282,
           1679030,
           1468530,
           1828764,
           1809109,
           1529431,
           1962903,
           1667253,
           1655239,
           1787878,
           1848489,
           1575064,
           1968276,
           1656474,
           2114201,
           1686215,
           1197806,
           1259085,
           1676668,
           1587079,
           2175529,
           1914739,
           1845547,
           2041612,
           434128,
           1195720,
           1269917,
           1803349,
           1752454,
           1666126,
           1552019,
           1799551,
           1851654,
           1592611,
           2067463,
           579352,
           1785472,
           1553860,
           1294671,
           2253448,
           1775196,
           1531525,
           1690620,
           1655704,
           1849429,
           1694646,
           1493543,
           1492317,
           1499639,
           2370903,
           1461052,
           1561040,
           1946870,
           1371427,
           1427783,
           1337110,
           1647399,
           1508963,
           1547800,
           1650453,
           1530014,
           1473862,
           1945992,
           1261861,
           1352857,
           1608545,
           716990,
           2069559,
           1685816,
           1513806,
           1612300,
           1661229,
           1614988,
           2191465,
           1556599,
           1288926,
           1794896,
           1735983,
           1665502,
           1671030,
           1856791,
           1741604,
           1652994,
           1444335,
           1484256,
           1829300,
           1503980,
           1666770,
           1743283,
           1359679,
           2371644,
           1916185,
           1498666,
           318471,
           1582400.9717934993,
           411346.8832798424,
           1644353.1150737212,
           1772123.4583131715,
           646729,
           1698986.6878278088,
           250029,
           121740,
           568281.104982515,
           1731423.3247479957,
           1805054.9374463586,
           1330051.2265762947,
           1479420.1213534693,
           1592357.041634522,
           1864447.0147089066,
           1313543.2125966665,
           55189,
           1792314.1201794483,
           1854902.7101187361,
           981609.2246572323,
           1017765.7952784527,
           792464,
           2100878.067652333,
           1213777,
           1550561.8931075688,
           973410,
           1608761.8167242955,
           1959342.8479804182,
           434128,
           1567181.864860669,
           1815183.074099372,
           1308942.396759421,
           1843504.556146671,
           1617600.669871884,
           1670124.3478314995
          ]
         },
         "name": "",
         "parents": [
          "Telangana",
          "Uttar Pradesh",
          "Maharashtra",
          "Gujarat",
          "Gujarat",
          "Rajasthan",
          "Uttar Pradesh",
          "Maharashtra",
          "Kerala",
          "Kerala",
          "Uttar Pradesh",
          "West Bengal",
          "Uttar Pradesh",
          "Uttarakhand",
          "Rajasthan",
          "Andhra Pradesh",
          "Haryana",
          "Uttar Pradesh",
          "Uttar Pradesh",
          "Maharashtra",
          "Gujarat",
          "Punjab",
          "Uttar Pradesh",
          "Andhra Pradesh",
          "Gujarat",
          "Punjab",
          "Andhra Pradesh",
          "Jammu & Kashmir",
          "Andaman & Nicobar Islands",
          "Uttar Pradesh",
          "Tamil Nadu",
          "West Bengal",
          "Tamil Nadu",
          "Bihar",
          "Bihar",
          "Andhra Pradesh",
          "Arunachal Pradesh",
          "Arunachal Pradesh",
          "West Bengal",
          "Odisha",
          "Kerala",
          "Bihar",
          "Maharashtra",
          "Assam",
          "Uttar Pradesh",
          "Uttar Pradesh",
          "Karnataka",
          "Uttar Pradesh",
          "West Bengal",
          "Uttar Pradesh",
          "Madhya Pradesh",
          "Odisha",
          "Uttar Pradesh",
          "West Bengal",
          "Gujarat",
          "Uttar Pradesh",
          "Karnataka",
          "Karnataka",
          "Karnataka",
          "Karnataka",
          "West Bengal",
          "Bihar",
          "West Bengal",
          "Uttar Pradesh",
          "Rajasthan",
          "Andhra Pradesh",
          "Uttar Pradesh",
          "Maharashtra",
          "Jammu & Kashmir",
          "West Bengal",
          "West Bengal",
          "West Bengal",
          "Gujarat",
          "Uttar Pradesh",
          "Odisha",
          "Rajasthan",
          "Assam",
          "West Bengal",
          "West Bengal",
          "Chhattisgarh",
          "Uttar Pradesh",
          "Punjab",
          "Maharashtra",
          "Bihar",
          "Karnataka",
          "Karnataka",
          "Odisha",
          "Madhya Pradesh",
          "Uttar Pradesh",
          "Odisha",
          "Bihar",
          "Maharashtra",
          "Rajasthan",
          "Gujarat",
          "Gujarat",
          "Rajasthan",
          "Madhya Pradesh",
          "Maharashtra",
          "Haryana",
          "Telangana",
          "Madhya Pradesh",
          "Odisha",
          "Karnataka",
          "Karnataka",
          "Uttar Pradesh",
          "Rajasthan",
          "Chhattisgarh",
          "West Bengal",
          "West Bengal",
          "Odisha",
          "West Bengal",
          "Uttar Pradesh",
          "Maharashtra",
          "Bihar",
          "Kerala",
          "Karnataka",
          "Uttar Pradesh",
          "Chandigarh",
          "NCT OF Delhi",
          "Maharashtra",
          "Jharkhand",
          "Tamil Nadu",
          "Tamil Nadu",
          "Tamil Nadu",
          "Telangana",
          "Madhya Pradesh",
          "Gujarat",
          "Tamil Nadu",
          "Karnataka",
          "Karnataka",
          "Karnataka",
          "Andhra Pradesh",
          "Rajasthan",
          "Rajasthan",
          "Tamil Nadu",
          "West Bengal",
          "Tamil Nadu",
          "Odisha",
          "Dadra & Nagar Haveli",
          "Gujarat",
          "Karnataka",
          "Daman & Diu",
          "Madhya Pradesh",
          "Bihar",
          "West Bengal",
          "Rajasthan",
          "Karnataka",
          "Uttar Pradesh",
          "Madhya Pradesh",
          "Jharkhand",
          "Madhya Pradesh",
          "Tamil Nadu",
          "Karnataka",
          "Uttar Pradesh",
          "Odisha",
          "Assam",
          "Maharashtra",
          "West Bengal",
          "Assam",
          "Tamil Nadu",
          "Maharashtra",
          "Uttar Pradesh",
          "West Bengal",
          "Jharkhand",
          "Chhattisgarh",
          "NCT OF Delhi",
          "Andhra Pradesh",
          "Kerala",
          "Tamil Nadu",
          "Uttar Pradesh",
          "Uttar Pradesh",
          "Uttar Pradesh",
          "Haryana",
          "Punjab",
          "Uttar Pradesh",
          "Punjab",
          "Uttar Pradesh",
          "Uttar Pradesh",
          "Uttar Pradesh",
          "Punjab",
          "Maharashtra",
          "Gujarat",
          "Rajasthan",
          "Uttarakhand",
          "Assam",
          "Uttar Pradesh",
          "Bihar",
          "West Bengal",
          "Uttar Pradesh",
          "Uttar Pradesh",
          "Uttar Pradesh",
          "Jharkhand",
          "Jharkhand",
          "Uttar Pradesh",
          "Bihar",
          "Uttar Pradesh",
          "Karnataka",
          "Madhya Pradesh",
          "Andhra Pradesh",
          "Punjab",
          "Haryana",
          "Madhya Pradesh",
          "Bihar",
          "Himachal Pradesh",
          "Uttar Pradesh",
          "Uttar Pradesh",
          "Uttarakhand",
          "Karnataka",
          "Uttar Pradesh",
          "Maharashtra",
          "Karnataka",
          "Jharkhand",
          "Andhra Pradesh",
          "Maharashtra",
          "Haryana",
          "West Bengal",
          "Madhya Pradesh",
          "Punjab",
          "West Bengal",
          "Telangana",
          "Kerala",
          "Madhya Pradesh",
          "Manipur",
          "Madhya Pradesh",
          "West Bengal",
          "Odisha",
          "Bihar",
          "Rajasthan",
          "Rajasthan",
          "Odisha",
          "Punjab",
          "Uttar Pradesh",
          "Maharashtra",
          "Maharashtra",
          "Rajasthan",
          "West Bengal",
          "Jammu & Kashmir",
          "Gujarat",
          "Jharkhand",
          "Bihar",
          "West Bengal",
          "Chhattisgarh",
          "Uttar Pradesh",
          "West Bengal",
          "Rajasthan",
          "Bihar",
          "Uttar Pradesh",
          "West Bengal",
          "Rajasthan",
          "Rajasthan",
          "Assam",
          "Gujarat",
          "Gujarat",
          "Andhra Pradesh",
          "Uttar Pradesh",
          "Uttar Pradesh",
          "Andhra Pradesh",
          "Odisha",
          "Assam",
          "Tamil Nadu",
          "Maharashtra",
          "Tamil Nadu",
          "Odisha",
          "Himachal Pradesh",
          "Chhattisgarh",
          "Uttar Pradesh",
          "Tamil Nadu",
          "Kerala",
          "Uttar Pradesh",
          "West Bengal",
          "Bihar",
          "Rajasthan",
          "Assam",
          "Telangana",
          "Haryana",
          "Tamil Nadu",
          "Kerala",
          "Bihar",
          "Uttar Pradesh",
          "Odisha",
          "Odisha",
          "Punjab",
          "Bihar",
          "Madhya Pradesh",
          "Telangana",
          "Madhya Pradesh",
          "Madhya Pradesh",
          "Gujarat",
          "Uttar Pradesh",
          "Jharkhand",
          "Bihar",
          "Jharkhand",
          "Assam",
          "Karnataka",
          "Maharashtra",
          "West Bengal",
          "West Bengal",
          "Kerala",
          "Karnataka",
          "Odisha",
          "Chhattisgarh",
          "Rajasthan",
          "Kerala",
          "Kerala",
          "Tamil Nadu",
          "West Bengal",
          "Andhra Pradesh",
          "Haryana",
          "Uttar Pradesh",
          "Jammu & Kashmir",
          "Assam",
          "Lakshadweep",
          "Uttar Pradesh",
          "Maharashtra",
          "Jharkhand",
          "Uttar Pradesh",
          "Punjab",
          "Uttar Pradesh",
          "Andhra Pradesh",
          "Maharashtra",
          "Bihar",
          "Bihar",
          "Tamil Nadu",
          "Telangana",
          "Bihar",
          "Uttar Pradesh",
          "Chhattisgarh",
          "Telangana",
          "Gujarat",
          "Uttar Pradesh",
          "Kerala",
          "West Bengal",
          "West Bengal",
          "Telangana",
          "Himachal Pradesh",
          "Madhya Pradesh",
          "Madhya Pradesh",
          "Karnataka",
          "Assam",
          "Uttar Pradesh",
          "West Bengal",
          "Maharashtra",
          "Kerala",
          "Tamil Nadu",
          "Odisha",
          "Telangana",
          "West Bengal",
          "Uttar Pradesh",
          "Uttar Pradesh",
          "Uttar Pradesh",
          "Mizoram",
          "Uttar Pradesh",
          "Uttar Pradesh",
          "Madhya Pradesh",
          "Maharashtra",
          "Maharashtra",
          "Maharashtra",
          "Maharashtra",
          "Maharashtra",
          "Maharashtra",
          "Bihar",
          "West Bengal",
          "Uttar Pradesh",
          "Bihar",
          "Karnataka",
          "Odisha",
          "Nagaland",
          "Tamil Nadu",
          "Telangana",
          "Rajasthan",
          "Uttar Pradesh",
          "Maharashtra",
          "Uttarakhand",
          "Bihar",
          "Telangana",
          "Tamil Nadu",
          "Maharashtra",
          "Maharashtra",
          "Andhra Pradesh",
          "Andhra Pradesh",
          "Andhra Pradesh",
          "Maharashtra",
          "Gujarat",
          "Bihar",
          "Andhra Pradesh",
          "NCT OF Delhi",
          "Tamil Nadu",
          "Telangana",
          "NCT OF Delhi",
          "Goa",
          "NCT OF Delhi",
          "Assam",
          "Andhra Pradesh",
          "Maharashtra",
          "Manipur",
          "Kerala",
          "Jharkhand",
          "Maharashtra",
          "Rajasthan",
          "Gujarat",
          "Maharashtra",
          "Bihar",
          "Bihar",
          "Gujarat",
          "Kerala",
          "Punjab",
          "Bihar",
          "Telangana",
          "Tamil Nadu",
          "Uttar Pradesh",
          "Uttar Pradesh",
          "Tamil Nadu",
          "Kerala",
          "Gujarat",
          "Uttar Pradesh",
          "Puducherry",
          "Maharashtra",
          "Odisha",
          "Bihar",
          "West Bengal",
          "Bihar",
          "Uttar Pradesh",
          "Karnataka",
          "Maharashtra",
          "West Bengal",
          "Chhattisgarh",
          "Chhattisgarh",
          "Andhra Pradesh",
          "Andhra Pradesh",
          "Madhya Pradesh",
          "Gujarat",
          "Jharkhand",
          "Chhattisgarh",
          "Rajasthan",
          "Tamil Nadu",
          "Uttar Pradesh",
          "Maharashtra",
          "West Bengal",
          "Jharkhand",
          "Madhya Pradesh",
          "Maharashtra",
          "Maharashtra",
          "Madhya Pradesh",
          "Uttar Pradesh",
          "Haryana",
          "Gujarat",
          "Madhya Pradesh",
          "Uttar Pradesh",
          "Tamil Nadu",
          "Uttar Pradesh",
          "Bihar",
          "Odisha",
          "Uttar Pradesh",
          "Maharashtra",
          "Punjab",
          "Uttar Pradesh",
          "Bihar",
          "Chhattisgarh",
          "Bihar",
          "Maharashtra",
          "Madhya Pradesh",
          "Telangana",
          "Madhya Pradesh",
          "Uttar Pradesh",
          "Bihar",
          "Meghalaya",
          "Himachal Pradesh",
          "Karnataka",
          "Maharashtra",
          "Maharashtra",
          "Uttar Pradesh",
          "Madhya Pradesh",
          "Rajasthan",
          "Sikkim",
          "Assam",
          "Jharkhand",
          "Haryana",
          "Bihar",
          "Uttar Pradesh",
          "Tamil Nadu",
          "Bihar",
          "Maharashtra",
          "Haryana",
          "NCT OF Delhi",
          "Goa",
          "West Bengal",
          "Andhra Pradesh",
          "Jammu & Kashmir",
          "Tamil Nadu",
          "Uttar Pradesh",
          "Odisha",
          "Bihar",
          "Gujarat",
          "Gujarat",
          "West Bengal",
          "Uttarakhand",
          "Tamil Nadu",
          "Assam",
          "Maharashtra",
          "Tamil Nadu",
          "Tamil Nadu",
          "Tamil Nadu",
          "Kerala",
          "Tamil Nadu",
          "Kerala",
          "Madhya Pradesh",
          "Tamil Nadu",
          "Tamil Nadu",
          "Andhra Pradesh",
          "Tamil Nadu",
          "Tamil Nadu",
          "Rajasthan",
          "Tripura",
          "Tripura",
          "Karnataka",
          "Meghalaya",
          "Rajasthan",
          "Jammu & Kashmir",
          "Karnataka",
          "Bihar",
          "Madhya Pradesh",
          "West Bengal",
          "Uttar Pradesh",
          "Karnataka",
          "Kerala",
          "Gujarat",
          "Bihar",
          "Bihar",
          "Gujarat",
          "Uttar Pradesh",
          "Madhya Pradesh",
          "Andhra Pradesh",
          "Tamil Nadu",
          "Tamil Nadu",
          "Andhra Pradesh",
          "Andhra Pradesh",
          "Telangana",
          "Maharashtra",
          "Kerala",
          "NCT OF Delhi",
          "Maharashtra",
          "Telangana",
          "",
          "",
          "",
          "",
          "",
          "",
          "",
          "",
          "",
          "",
          "",
          "",
          "",
          "",
          "",
          "",
          "",
          "",
          "",
          "",
          "",
          "",
          "",
          "",
          "",
          "",
          "",
          "",
          "",
          "",
          "",
          "",
          "",
          "",
          "",
          ""
         ],
         "type": "sunburst",
         "values": [
          4469370,
          5813070,
          5584188,
          3623702,
          4929951,
          7505384,
          5298363,
          5595507,
          4070103,
          3800382,
          5661381,
          6593532,
          6864640,
          4013424,
          5665572,
          4378668,
          7414844,
          5356971,
          3487030,
          7332364,
          4885353,
          6031500,
          4939305,
          6085452,
          3311740,
          6795504,
          6656640,
          8386674,
          1592355,
          5356815,
          7500080,
          7058904,
          7245750,
          3610878,
          8357412,
          10159926,
          1698940,
          2318875,
          8079325,
          4623435,
          4052130,
          15685947,
          7545136,
          3979725,
          3578336,
          5674728,
          3408020,
          3232952,
          8191890,
          5189724,
          7070900,
          4595343,
          5467875,
          5726816,
          8486920,
          6808096,
          6614451,
          5698500,
          7492374,
          4430978,
          6818528,
          11895758,
          6595624,
          3502516,
          9876840,
          5874684,
          5450490,
          6343989,
          9224166,
          6873008,
          6934312,
          6792356,
          3653052,
          5392965,
          4788870,
          5823693,
          6740596,
          5745724,
          6713428,
          9653854,
          7380892,
          6486684,
          8181620,
          7833528,
          3558700,
          3503468,
          4507365,
          5212311,
          5827542,
          4984983,
          3647640,
          9057780,
          5831382,
          6258076,
          3536594,
          7989312,
          5296002,
          7560400,
          6617268,
          8140165,
          4285722,
          5099034,
          5325285,
          7190348,
          4992375,
          5554884,
          5630859,
          8496095,
          6508796,
          6977784,
          8525365,
          5363775,
          5288754,
          7317492,
          3690591,
          5058999,
          7027348,
          2586916,
          4686849,
          5730564,
          11401744,
          6661500,
          7438405,
          9867665,
          7329336,
          6059132,
          5013759,
          5920888,
          7235120,
          4837668,
          3521266,
          6265996,
          4031822,
          8076416,
          9794520,
          7256800,
          6820190,
          4556988,
          1500174,
          6395756,
          5174928,
          365220,
          5306331,
          6619244,
          8056585,
          5190867,
          3266128,
          1754195,
          5281509,
          4145268,
          5358453,
          7429020,
          3454622,
          4934022,
          4513209,
          5575698,
          5724519,
          6876760,
          2628638,
          4625643,
          6931744,
          5656299,
          6264784,
          8383518,
          5820807,
          8157208,
          4784850,
          3737916,
          7311230,
          3242590,
          5273952,
          5465355,
          6215448,
          6167884,
          5125755,
          6011444,
          5517936,
          5156511,
          5371530,
          6473676,
          7906830,
          3891544,
          5830458,
          2711592,
          6543957,
          6908880,
          18750556,
          7200008,
          8186934,
          7524308,
          9958255,
          3298826,
          8583830,
          5310744,
          11037084,
          5943591,
          3891530,
          5027172,
          6824476,
          6381136,
          6452184,
          6002232,
          10941984,
          2724538,
          6996400,
          5421357,
          5522214,
          4958997,
          5592960,
          5329665,
          3417020,
          8337325,
          6312872,
          6934916,
          6527268,
          7066404,
          5118423,
          6390000,
          6535700,
          7831724,
          3612573,
          4701160,
          4687320,
          5459679,
          5450571,
          4930785,
          11119178,
          4254042,
          3905084,
          4425021,
          6468072,
          7733432,
          5794200,
          5601660,
          4142488,
          6941856,
          4094604,
          3314332,
          3406558,
          8594070,
          8081065,
          5691402,
          5603928,
          8241775,
          3807740,
          11114502,
          6122217,
          6567472,
          3875764,
          3913510,
          4095105,
          4928592,
          3488642,
          3140660,
          5000109,
          3611892,
          4691790,
          8055280,
          5204814,
          6115752,
          7862704,
          6575968,
          3865998,
          2854676,
          3117904,
          3749648,
          6005000,
          3799650,
          4898949,
          6640588,
          10627524,
          5431722,
          4020519,
          6606172,
          9520965,
          6936430,
          4091811,
          3306706,
          7148480,
          5132748,
          4550064,
          6555368,
          11735178,
          5526285,
          9082854,
          5727165,
          7337540,
          3608056,
          7082796,
          4810656,
          6638604,
          7256500,
          8881790,
          3259922,
          5641488,
          6915404,
          5776328,
          3890160,
          3473386,
          10040688,
          7544200,
          3896020,
          3620094,
          3954072,
          6121616,
          6526792,
          7865045,
          8286675,
          5284692,
          716928,
          5124039,
          165567,
          7007920,
          5659971,
          7405716,
          6121101,
          6733300,
          5544918,
          4420041,
          7638296,
          7539532,
          8963990,
          7695130,
          9970695,
          9038840,
          5746224,
          4913853,
          4518306,
          3297738,
          3446472,
          5482176,
          4726770,
          6743820,
          12601252,
          3844386,
          9756335,
          3521750,
          5136012,
          5400711,
          5423679,
          6608384,
          6894240,
          3924306,
          7424210,
          5972820,
          9619908,
          6696944,
          5678793,
          7380600,
          5390796,
          3962320,
          6070293,
          5876817,
          5513169,
          4942050,
          5039673,
          4766079,
          5196789,
          4662528,
          5761520,
          13216175,
          6900748,
          3396006,
          6922212,
          5688999,
          5844016,
          3641331,
          6518245,
          7940555,
          5799507,
          4758351,
          8644384,
          5485299,
          12688854,
          6343920,
          7067995,
          5157966,
          7484396,
          6412880,
          6681564,
          7198455,
          7540256,
          3943316,
          7598988,
          5018535,
          4852410,
          5464240,
          4660155,
          9161968,
          1670283,
          7136985,
          3589296,
          4669407,
          5669220,
          5110495,
          3969030,
          13170087,
          9428000,
          4323326,
          3489524,
          7940912,
          6535296,
          5776437,
          3614086,
          4148223,
          6958400,
          4292016,
          7395455,
          5567412,
          6031431,
          3522414,
          7602520,
          5427212,
          4987104,
          6835036,
          2920230,
          6227472,
          4686993,
          8826560,
          6583536,
          8293360,
          3404496,
          5784612,
          6611860,
          6404880,
          5201415,
          4223476,
          6137024,
          6187752,
          3388658,
          5653017,
          7272180,
          5149377,
          7651644,
          7798700,
          5038518,
          7691056,
          7049008,
          5747877,
          5553336,
          8733462,
          5325153,
          6718136,
          10341228,
          6948532,
          5405151,
          4749387,
          5217246,
          8062560,
          6669128,
          11753210,
          4405590,
          5486292,
          5427327,
          7647155,
          5888709,
          6669012,
          6620956,
          7151512,
          5545467,
          4725192,
          7873104,
          8282370,
          6342603,
          13489720,
          3593418,
          2518170,
          3353336,
          9522474,
          6526587,
          7658956,
          9227735,
          6124836,
          1736512,
          2391440,
          7619502,
          9016745,
          10514724,
          4998378,
          7760095,
          8997755,
          5554962,
          6370444,
          8269852,
          1738056,
          7141888,
          6215440,
          5178684,
          11267240,
          7100784,
          6126100,
          13524960,
          3311408,
          7397716,
          6778584,
          4480629,
          7461585,
          4498917,
          7112709,
          8766312,
          6244160,
          11681220,
          4114281,
          7138915,
          4011330,
          4942197,
          7544815,
          7739000,
          8252265,
          7650070,
          7369310,
          5837976,
          5047444,
          5411428,
          4825635,
          2150970,
          10347795,
          8429080,
          4541418,
          12898400,
          3322458,
          6459952,
          6574395,
          3113198,
          3866778,
          3589792,
          10415898,
          9993012,
          5013090,
          5570373,
          5224812,
          8264970,
          8666010,
          5937024,
          9146500,
          6015920,
          8333850,
          6973132,
          2719358,
          7114932,
          11497110,
          4495998,
          1592355,
          157661812,
          4017815,
          68675245,
          373933748,
          2586916,
          63568103,
          1500174,
          365220,
          3408339,
          119028011,
          73370373,
          11941770,
          36030136,
          100839587,
          131214920,
          79982176,
          165567,
          163695551,
          321123079,
          9797815,
          5744388,
          3962320,
          49380204,
          3641331,
          112683114,
          2920230,
          85100123,
          144688084,
          1736512,
          280796425,
          127212819,
          10458872,
          451766863,
          22213158,
          288147109
         ]
        }
       ],
       "layout": {
        "coloraxis": {
         "colorbar": {
          "title": {
           "text": "TOTAL ELECTORS"
          }
         },
         "colorscale": [
          [
           0,
           "rgb(236, 218, 154)"
          ],
          [
           0.16666666666666666,
           "rgb(239, 196, 126)"
          ],
          [
           0.3333333333333333,
           "rgb(243, 173, 106)"
          ],
          [
           0.5,
           "rgb(247, 148, 93)"
          ],
          [
           0.6666666666666666,
           "rgb(249, 123, 87)"
          ],
          [
           0.8333333333333334,
           "rgb(246, 99, 86)"
          ],
          [
           1,
           "rgb(238, 77, 90)"
          ]
         ]
        },
        "font": {
         "color": "#351f39",
         "family": "Courier New"
        },
        "legend": {
         "tracegroupgap": 0
        },
        "margin": {
         "t": 60
        },
        "template": {
         "data": {
          "bar": [
           {
            "error_x": {
             "color": "#2a3f5f"
            },
            "error_y": {
             "color": "#2a3f5f"
            },
            "marker": {
             "line": {
              "color": "#E5ECF6",
              "width": 0.5
             },
             "pattern": {
              "fillmode": "overlay",
              "size": 10,
              "solidity": 0.2
             }
            },
            "type": "bar"
           }
          ],
          "barpolar": [
           {
            "marker": {
             "line": {
              "color": "#E5ECF6",
              "width": 0.5
             },
             "pattern": {
              "fillmode": "overlay",
              "size": 10,
              "solidity": 0.2
             }
            },
            "type": "barpolar"
           }
          ],
          "carpet": [
           {
            "aaxis": {
             "endlinecolor": "#2a3f5f",
             "gridcolor": "white",
             "linecolor": "white",
             "minorgridcolor": "white",
             "startlinecolor": "#2a3f5f"
            },
            "baxis": {
             "endlinecolor": "#2a3f5f",
             "gridcolor": "white",
             "linecolor": "white",
             "minorgridcolor": "white",
             "startlinecolor": "#2a3f5f"
            },
            "type": "carpet"
           }
          ],
          "choropleth": [
           {
            "colorbar": {
             "outlinewidth": 0,
             "ticks": ""
            },
            "type": "choropleth"
           }
          ],
          "contour": [
           {
            "colorbar": {
             "outlinewidth": 0,
             "ticks": ""
            },
            "colorscale": [
             [
              0,
              "#0d0887"
             ],
             [
              0.1111111111111111,
              "#46039f"
             ],
             [
              0.2222222222222222,
              "#7201a8"
             ],
             [
              0.3333333333333333,
              "#9c179e"
             ],
             [
              0.4444444444444444,
              "#bd3786"
             ],
             [
              0.5555555555555556,
              "#d8576b"
             ],
             [
              0.6666666666666666,
              "#ed7953"
             ],
             [
              0.7777777777777778,
              "#fb9f3a"
             ],
             [
              0.8888888888888888,
              "#fdca26"
             ],
             [
              1,
              "#f0f921"
             ]
            ],
            "type": "contour"
           }
          ],
          "contourcarpet": [
           {
            "colorbar": {
             "outlinewidth": 0,
             "ticks": ""
            },
            "type": "contourcarpet"
           }
          ],
          "heatmap": [
           {
            "colorbar": {
             "outlinewidth": 0,
             "ticks": ""
            },
            "colorscale": [
             [
              0,
              "#0d0887"
             ],
             [
              0.1111111111111111,
              "#46039f"
             ],
             [
              0.2222222222222222,
              "#7201a8"
             ],
             [
              0.3333333333333333,
              "#9c179e"
             ],
             [
              0.4444444444444444,
              "#bd3786"
             ],
             [
              0.5555555555555556,
              "#d8576b"
             ],
             [
              0.6666666666666666,
              "#ed7953"
             ],
             [
              0.7777777777777778,
              "#fb9f3a"
             ],
             [
              0.8888888888888888,
              "#fdca26"
             ],
             [
              1,
              "#f0f921"
             ]
            ],
            "type": "heatmap"
           }
          ],
          "heatmapgl": [
           {
            "colorbar": {
             "outlinewidth": 0,
             "ticks": ""
            },
            "colorscale": [
             [
              0,
              "#0d0887"
             ],
             [
              0.1111111111111111,
              "#46039f"
             ],
             [
              0.2222222222222222,
              "#7201a8"
             ],
             [
              0.3333333333333333,
              "#9c179e"
             ],
             [
              0.4444444444444444,
              "#bd3786"
             ],
             [
              0.5555555555555556,
              "#d8576b"
             ],
             [
              0.6666666666666666,
              "#ed7953"
             ],
             [
              0.7777777777777778,
              "#fb9f3a"
             ],
             [
              0.8888888888888888,
              "#fdca26"
             ],
             [
              1,
              "#f0f921"
             ]
            ],
            "type": "heatmapgl"
           }
          ],
          "histogram": [
           {
            "marker": {
             "pattern": {
              "fillmode": "overlay",
              "size": 10,
              "solidity": 0.2
             }
            },
            "type": "histogram"
           }
          ],
          "histogram2d": [
           {
            "colorbar": {
             "outlinewidth": 0,
             "ticks": ""
            },
            "colorscale": [
             [
              0,
              "#0d0887"
             ],
             [
              0.1111111111111111,
              "#46039f"
             ],
             [
              0.2222222222222222,
              "#7201a8"
             ],
             [
              0.3333333333333333,
              "#9c179e"
             ],
             [
              0.4444444444444444,
              "#bd3786"
             ],
             [
              0.5555555555555556,
              "#d8576b"
             ],
             [
              0.6666666666666666,
              "#ed7953"
             ],
             [
              0.7777777777777778,
              "#fb9f3a"
             ],
             [
              0.8888888888888888,
              "#fdca26"
             ],
             [
              1,
              "#f0f921"
             ]
            ],
            "type": "histogram2d"
           }
          ],
          "histogram2dcontour": [
           {
            "colorbar": {
             "outlinewidth": 0,
             "ticks": ""
            },
            "colorscale": [
             [
              0,
              "#0d0887"
             ],
             [
              0.1111111111111111,
              "#46039f"
             ],
             [
              0.2222222222222222,
              "#7201a8"
             ],
             [
              0.3333333333333333,
              "#9c179e"
             ],
             [
              0.4444444444444444,
              "#bd3786"
             ],
             [
              0.5555555555555556,
              "#d8576b"
             ],
             [
              0.6666666666666666,
              "#ed7953"
             ],
             [
              0.7777777777777778,
              "#fb9f3a"
             ],
             [
              0.8888888888888888,
              "#fdca26"
             ],
             [
              1,
              "#f0f921"
             ]
            ],
            "type": "histogram2dcontour"
           }
          ],
          "mesh3d": [
           {
            "colorbar": {
             "outlinewidth": 0,
             "ticks": ""
            },
            "type": "mesh3d"
           }
          ],
          "parcoords": [
           {
            "line": {
             "colorbar": {
              "outlinewidth": 0,
              "ticks": ""
             }
            },
            "type": "parcoords"
           }
          ],
          "pie": [
           {
            "automargin": true,
            "type": "pie"
           }
          ],
          "scatter": [
           {
            "marker": {
             "colorbar": {
              "outlinewidth": 0,
              "ticks": ""
             }
            },
            "type": "scatter"
           }
          ],
          "scatter3d": [
           {
            "line": {
             "colorbar": {
              "outlinewidth": 0,
              "ticks": ""
             }
            },
            "marker": {
             "colorbar": {
              "outlinewidth": 0,
              "ticks": ""
             }
            },
            "type": "scatter3d"
           }
          ],
          "scattercarpet": [
           {
            "marker": {
             "colorbar": {
              "outlinewidth": 0,
              "ticks": ""
             }
            },
            "type": "scattercarpet"
           }
          ],
          "scattergeo": [
           {
            "marker": {
             "colorbar": {
              "outlinewidth": 0,
              "ticks": ""
             }
            },
            "type": "scattergeo"
           }
          ],
          "scattergl": [
           {
            "marker": {
             "colorbar": {
              "outlinewidth": 0,
              "ticks": ""
             }
            },
            "type": "scattergl"
           }
          ],
          "scattermapbox": [
           {
            "marker": {
             "colorbar": {
              "outlinewidth": 0,
              "ticks": ""
             }
            },
            "type": "scattermapbox"
           }
          ],
          "scatterpolar": [
           {
            "marker": {
             "colorbar": {
              "outlinewidth": 0,
              "ticks": ""
             }
            },
            "type": "scatterpolar"
           }
          ],
          "scatterpolargl": [
           {
            "marker": {
             "colorbar": {
              "outlinewidth": 0,
              "ticks": ""
             }
            },
            "type": "scatterpolargl"
           }
          ],
          "scatterternary": [
           {
            "marker": {
             "colorbar": {
              "outlinewidth": 0,
              "ticks": ""
             }
            },
            "type": "scatterternary"
           }
          ],
          "surface": [
           {
            "colorbar": {
             "outlinewidth": 0,
             "ticks": ""
            },
            "colorscale": [
             [
              0,
              "#0d0887"
             ],
             [
              0.1111111111111111,
              "#46039f"
             ],
             [
              0.2222222222222222,
              "#7201a8"
             ],
             [
              0.3333333333333333,
              "#9c179e"
             ],
             [
              0.4444444444444444,
              "#bd3786"
             ],
             [
              0.5555555555555556,
              "#d8576b"
             ],
             [
              0.6666666666666666,
              "#ed7953"
             ],
             [
              0.7777777777777778,
              "#fb9f3a"
             ],
             [
              0.8888888888888888,
              "#fdca26"
             ],
             [
              1,
              "#f0f921"
             ]
            ],
            "type": "surface"
           }
          ],
          "table": [
           {
            "cells": {
             "fill": {
              "color": "#EBF0F8"
             },
             "line": {
              "color": "white"
             }
            },
            "header": {
             "fill": {
              "color": "#C8D4E3"
             },
             "line": {
              "color": "white"
             }
            },
            "type": "table"
           }
          ]
         },
         "layout": {
          "annotationdefaults": {
           "arrowcolor": "#2a3f5f",
           "arrowhead": 0,
           "arrowwidth": 1
          },
          "autotypenumbers": "strict",
          "coloraxis": {
           "colorbar": {
            "outlinewidth": 0,
            "ticks": ""
           }
          },
          "colorscale": {
           "diverging": [
            [
             0,
             "#8e0152"
            ],
            [
             0.1,
             "#c51b7d"
            ],
            [
             0.2,
             "#de77ae"
            ],
            [
             0.3,
             "#f1b6da"
            ],
            [
             0.4,
             "#fde0ef"
            ],
            [
             0.5,
             "#f7f7f7"
            ],
            [
             0.6,
             "#e6f5d0"
            ],
            [
             0.7,
             "#b8e186"
            ],
            [
             0.8,
             "#7fbc41"
            ],
            [
             0.9,
             "#4d9221"
            ],
            [
             1,
             "#276419"
            ]
           ],
           "sequential": [
            [
             0,
             "#0d0887"
            ],
            [
             0.1111111111111111,
             "#46039f"
            ],
            [
             0.2222222222222222,
             "#7201a8"
            ],
            [
             0.3333333333333333,
             "#9c179e"
            ],
            [
             0.4444444444444444,
             "#bd3786"
            ],
            [
             0.5555555555555556,
             "#d8576b"
            ],
            [
             0.6666666666666666,
             "#ed7953"
            ],
            [
             0.7777777777777778,
             "#fb9f3a"
            ],
            [
             0.8888888888888888,
             "#fdca26"
            ],
            [
             1,
             "#f0f921"
            ]
           ],
           "sequentialminus": [
            [
             0,
             "#0d0887"
            ],
            [
             0.1111111111111111,
             "#46039f"
            ],
            [
             0.2222222222222222,
             "#7201a8"
            ],
            [
             0.3333333333333333,
             "#9c179e"
            ],
            [
             0.4444444444444444,
             "#bd3786"
            ],
            [
             0.5555555555555556,
             "#d8576b"
            ],
            [
             0.6666666666666666,
             "#ed7953"
            ],
            [
             0.7777777777777778,
             "#fb9f3a"
            ],
            [
             0.8888888888888888,
             "#fdca26"
            ],
            [
             1,
             "#f0f921"
            ]
           ]
          },
          "colorway": [
           "#636efa",
           "#EF553B",
           "#00cc96",
           "#ab63fa",
           "#FFA15A",
           "#19d3f3",
           "#FF6692",
           "#B6E880",
           "#FF97FF",
           "#FECB52"
          ],
          "font": {
           "color": "#2a3f5f"
          },
          "geo": {
           "bgcolor": "white",
           "lakecolor": "white",
           "landcolor": "#E5ECF6",
           "showlakes": true,
           "showland": true,
           "subunitcolor": "white"
          },
          "hoverlabel": {
           "align": "left"
          },
          "hovermode": "closest",
          "mapbox": {
           "style": "light"
          },
          "paper_bgcolor": "white",
          "plot_bgcolor": "#E5ECF6",
          "polar": {
           "angularaxis": {
            "gridcolor": "white",
            "linecolor": "white",
            "ticks": ""
           },
           "bgcolor": "#E5ECF6",
           "radialaxis": {
            "gridcolor": "white",
            "linecolor": "white",
            "ticks": ""
           }
          },
          "scene": {
           "xaxis": {
            "backgroundcolor": "#E5ECF6",
            "gridcolor": "white",
            "gridwidth": 2,
            "linecolor": "white",
            "showbackground": true,
            "ticks": "",
            "zerolinecolor": "white"
           },
           "yaxis": {
            "backgroundcolor": "#E5ECF6",
            "gridcolor": "white",
            "gridwidth": 2,
            "linecolor": "white",
            "showbackground": true,
            "ticks": "",
            "zerolinecolor": "white"
           },
           "zaxis": {
            "backgroundcolor": "#E5ECF6",
            "gridcolor": "white",
            "gridwidth": 2,
            "linecolor": "white",
            "showbackground": true,
            "ticks": "",
            "zerolinecolor": "white"
           }
          },
          "shapedefaults": {
           "line": {
            "color": "#2a3f5f"
           }
          },
          "ternary": {
           "aaxis": {
            "gridcolor": "white",
            "linecolor": "white",
            "ticks": ""
           },
           "baxis": {
            "gridcolor": "white",
            "linecolor": "white",
            "ticks": ""
           },
           "bgcolor": "#E5ECF6",
           "caxis": {
            "gridcolor": "white",
            "linecolor": "white",
            "ticks": ""
           }
          },
          "title": {
           "x": 0.05
          },
          "xaxis": {
           "automargin": true,
           "gridcolor": "white",
           "linecolor": "white",
           "ticks": "",
           "title": {
            "standoff": 15
           },
           "zerolinecolor": "white",
           "zerolinewidth": 2
          },
          "yaxis": {
           "automargin": true,
           "gridcolor": "white",
           "linecolor": "white",
           "ticks": "",
           "title": {
            "standoff": 15
           },
           "zerolinecolor": "white",
           "zerolinewidth": 2
          }
         }
        },
        "title": {
         "font": {
          "color": "#351f39",
          "family": "Courier New"
         },
         "text": "State and Constituency by total electors"
        },
        "xaxis": {
         "title": {
          "text": "Party"
         }
        },
        "yaxis": {
         "title": {
          "text": "Seats"
         }
        }
       }
      },
      "text/html": [
       "<div>                            <div id=\"7396a6f8-6f0d-4966-85e3-0535f44f1fbc\" class=\"plotly-graph-div\" style=\"height:525px; width:100%;\"></div>            <script type=\"text/javascript\">                require([\"plotly\"], function(Plotly) {                    window.PLOTLYENV=window.PLOTLYENV || {};                                    if (document.getElementById(\"7396a6f8-6f0d-4966-85e3-0535f44f1fbc\")) {                    Plotly.newPlot(                        \"7396a6f8-6f0d-4966-85e3-0535f44f1fbc\",                        [{\"branchvalues\":\"total\",\"customdata\":[[1489790.0],[1937690.0],[1861396.0],[1811851.0],[1643317.0],[1876346.0],[1766121.0],[1865169.0],[1356701.0],[1266794.0],[1887127.0],[1648383.0],[1716160.0],[1337808.0],[1888524.0],[1459556.0],[1853711.0],[1785657.0],[1743515.0],[1833091.0],[1628451.0],[1507875.0],[1646435.0],[1521363.0],[1655870.0],[1698876.0],[1664160.0],[1397779.0],[318471.0],[1785605.0],[1500016.0],[1764726.0],[1449150.0],[1805439.0],[2089353.0],[1451418.0],[339788.0],[463775.0],[1615865.0],[1541145.0],[1350710.0],[1742883.0],[1886284.0],[795945.0],[1789168.0],[1891576.0],[1704010.0],[1616476.0],[1638378.0],[1729908.0],[1767725.0],[1531781.0],[1822625.0],[1431704.0],[1697384.0],[1702024.0],[2204817.0],[2849250.0],[2497458.0],[2215489.0],[1704632.0],[1699394.0],[1648906.0],[1751258.0],[1975368.0],[1468671.0],[1816830.0],[2114663.0],[1317738.0],[1718252.0],[1733578.0],[1698089.0],[1826526.0],[1797655.0],[1596290.0],[1941231.0],[1685149.0],[1436431.0],[1678357.0],[1379122.0],[1845223.0],[1621671.0],[2045405.0],[1958382.0],[1779350.0],[1751734.0],[1502455.0],[1737437.0],[1942514.0],[1661661.0],[1823820.0],[1811556.0],[1943794.0],[1564519.0],[1768297.0],[1997328.0],[1765334.0],[1890100.0],[1654317.0],[1628033.0],[2142861.0],[1699678.0],[1775095.0],[1797587.0],[1664125.0],[1851628.0],[1876953.0],[1699219.0],[1627199.0],[1744446.0],[1705073.0],[1787925.0],[1762918.0],[1829373.0],[1230197.0],[1686333.0],[1756837.0],[646729.0],[1562283.0],[1910188.0],[1425218.0],[1332300.0],[1487681.0],[1973533.0],[2443112.0],[1514783.0],[1671253.0],[1480222.0],[1808780.0],[1612556.0],[1760633.0],[1566499.0],[2015911.0],[2019104.0],[1958904.0],[1814200.0],[1364038.0],[1518996.0],[250029.0],[1598939.0],[1724976.0],[121740.0],[1768777.0],[1654811.0],[1611317.0],[1730289.0],[1633064.0],[1754195.0],[1760503.0],[2072634.0],[1786151.0],[1485804.0],[1727311.0],[1644674.0],[1504403.0],[1858566.0],[1908173.0],[1719190.0],[1314319.0],[1541881.0],[1732936.0],[1885433.0],[1566196.0],[1397253.0],[1940269.0],[2039302.0],[1594950.0],[1245972.0],[1462246.0],[1621295.0],[1757984.0],[1821785.0],[2071816.0],[1541971.0],[1708585.0],[1502861.0],[1839312.0],[1718837.0],[1790510.0],[1618419.0],[1581366.0],[1945772.0],[1943486.0],[1355796.0],[2181319.0],[2302960.0],[1704596.0],[1800002.0],[2728978.0],[1881077.0],[1991651.0],[1649413.0],[1716766.0],[1770248.0],[1839514.0],[1981197.0],[1945765.0],[1675724.0],[1706119.0],[1595284.0],[2150728.0],[2000744.0],[1823664.0],[1362269.0],[1749100.0],[1807119.0],[1840738.0],[1652999.0],[1864320.0],[1776555.0],[1708510.0],[1667465.0],[1578218.0],[1733729.0],[1631817.0],[1766601.0],[1706141.0],[1597500.0],[1633925.0],[1957931.0],[1204191.0],[2350580.0],[937464.0],[1819893.0],[1816857.0],[1643595.0],[1588454.0],[2127021.0],[1952542.0],[1475007.0],[1617018.0],[1933358.0],[1931400.0],[1867220.0],[2071244.0],[1735464.0],[2047302.0],[1657166.0],[1703279.0],[1718814.0],[1616213.0],[1897134.0],[1867976.0],[1648355.0],[1903870.0],[1852417.0],[2040739.0],[1641868.0],[1937882.0],[1956755.0],[1365035.0],[1642864.0],[1744321.0],[1570330.0],[1666703.0],[1805946.0],[1563930.0],[1611056.0],[1734938.0],[1528938.0],[1965676.0],[1643992.0],[1288666.0],[1427338.0],[1558952.0],[1874824.0],[1501250.0],[1266550.0],[1632983.0],[1660147.0],[1771254.0],[1810574.0],[1340173.0],[1651543.0],[1904193.0],[1387286.0],[1363937.0],[1653353.0],[1787120.0],[1710916.0],[1516688.0],[1638842.0],[1676454.0],[1842095.0],[1513809.0],[1909055.0],[1834385.0],[1804028.0],[1770699.0],[1202664.0],[1659651.0],[1814125.0],[1776358.0],[1629961.0],[1880496.0],[1728851.0],[1444082.0],[1296720.0],[1736693.0],[1434384.0],[1508840.0],[1948010.0],[1206698.0],[1318024.0],[1530404.0],[1631698.0],[1573009.0],[1657335.0],[1761564.0],[179232.0],[1708013.0],[55189.0],[1751980.0],[1886657.0],[1234286.0],[2040367.0],[1683325.0],[1848306.0],[1473347.0],[1909574.0],[1884883.0],[1792798.0],[1539026.0],[1424385.0],[1807768.0],[1915408.0],[1637951.0],[1506102.0],[1648869.0],[1723236.0],[1370544.0],[1575590.0],[1685955.0],[3150313.0],[1281462.0],[1951267.0],[1760875.0],[1712004.0],[1800237.0],[1807893.0],[1652096.0],[2298080.0],[1308102.0],[1484842.0],[1493205.0],[1603318.0],[1674236.0],[1892931.0],[1845150.0],[1796932.0],[792464.0],[2023431.0],[1958939.0],[1837723.0],[1647350.0],[1679891.0],[1588693.0],[1732263.0],[1554176.0],[1440380.0],[1888025.0],[1725187.0],[1698003.0],[1730553.0],[1896333.0],[1461004.0],[1213777.0],[1303649.0],[1588111.0],[1933169.0],[1586117.0],[2161096.0],[1828433.0],[2114809.0],[1585980.0],[1413599.0],[1719322.0],[1871099.0],[1603220.0],[1670391.0],[1439691.0],[1885064.0],[1971658.0],[1899747.0],[1672845.0],[1617470.0],[1366060.0],[1553385.0],[2290492.0],[556761.0],[2378995.0],[1794648.0],[1556469.0],[1889740.0],[1022099.0],[1323010.0],[1881441.0],[1885600.0],[2161663.0],[1744762.0],[1985228.0],[1633824.0],[1925479.0],[1807043.0],[1382741.0],[1739600.0],[2146008.0],[1479091.0],[1391853.0],[2010477.0],[1761207.0],[1520504.0],[1356803.0],[1662368.0],[1708759.0],[973410.0],[2075824.0],[1562331.0],[1765312.0],[1645884.0],[1658672.0],[1702248.0],[1928204.0],[1652965.0],[1601220.0],[1733805.0],[2111738.0],[1534256.0],[1546938.0],[1694329.0],[1884339.0],[1454436.0],[1716459.0],[1912911.0],[1559740.0],[1679506.0],[1922764.0],[1762252.0],[1915959.0],[1851112.0],[1455577.0],[1775051.0],[1679534.0],[1723538.0],[1737133.0],[1801717.0],[1583129.0],[1739082.0],[1612512.0],[1667282.0],[1679030.0],[1468530.0],[1828764.0],[1809109.0],[1529431.0],[1962903.0],[1667253.0],[1655239.0],[1787878.0],[1848489.0],[1575064.0],[1968276.0],[1656474.0],[2114201.0],[1686215.0],[1197806.0],[1259085.0],[1676668.0],[1587079.0],[2175529.0],[1914739.0],[1845547.0],[2041612.0],[434128.0],[1195720.0],[1269917.0],[1803349.0],[1752454.0],[1666126.0],[1552019.0],[1799551.0],[1851654.0],[1592611.0],[2067463.0],[579352.0],[1785472.0],[1553860.0],[1294671.0],[2253448.0],[1775196.0],[1531525.0],[1690620.0],[1655704.0],[1849429.0],[1694646.0],[1493543.0],[1492317.0],[1499639.0],[2370903.0],[1461052.0],[1561040.0],[1946870.0],[1371427.0],[1427783.0],[1337110.0],[1647399.0],[1508963.0],[1547800.0],[1650453.0],[1530014.0],[1473862.0],[1945992.0],[1261861.0],[1352857.0],[1608545.0],[716990.0],[2069559.0],[1685816.0],[1513806.0],[1612300.0],[1661229.0],[1614988.0],[2191465.0],[1556599.0],[1288926.0],[1794896.0],[1735983.0],[1665502.0],[1671030.0],[1856791.0],[1741604.0],[1652994.0],[1444335.0],[1484256.0],[1829300.0],[1503980.0],[1666770.0],[1743283.0],[1359679.0],[2371644.0],[1916185.0],[1498666.0],[318471.0],[1582400.9717934993],[411346.8832798424],[1644353.1150737212],[1772123.4583131715],[646729.0],[1698986.6878278088],[250029.0],[121740.0],[568281.104982515],[1731423.3247479957],[1805054.9374463586],[1330051.2265762947],[1479420.1213534693],[1592357.041634522],[1864447.0147089066],[1313543.2125966665],[55189.0],[1792314.1201794483],[1854902.7101187361],[981609.2246572323],[1017765.7952784527],[792464.0],[2100878.067652333],[1213777.0],[1550561.8931075688],[973410.0],[1608761.8167242955],[1959342.8479804182],[434128.0],[1567181.864860669],[1815183.074099372],[1308942.396759421],[1843504.556146671],[1617600.669871884],[1670124.3478314995]],\"domain\":{\"x\":[0.0,1.0],\"y\":[0.0,1.0]},\"hovertemplate\":\"labels=%{label}<br>TOTAL ELECTORS_sum=%{value}<br>parent=%{parent}<br>id=%{id}<br>TOTAL ELECTORS=%{color}<extra></extra>\",\"ids\":[\"Telangana/ADILABAD\",\"Uttar Pradesh/AGRA\",\"Maharashtra/AHMADNAGAR\",\"Gujarat/AHMEDABAD EAST\",\"Gujarat/AHMEDABAD WEST\",\"Rajasthan/AJMER\",\"Uttar Pradesh/AKBARPUR\",\"Maharashtra/AKOLA\",\"Kerala/ALAPPUZHA\",\"Kerala/ALATHUR\",\"Uttar Pradesh/ALIGARH\",\"West Bengal/ALIPURDUARS\",\"Uttar Pradesh/ALLAHABAD\",\"Uttarakhand/ALMORA\",\"Rajasthan/ALWAR\",\"Andhra Pradesh/AMALAPURAM\",\"Haryana/AMBALA\",\"Uttar Pradesh/AMBEDKAR NAGAR\",\"Uttar Pradesh/AMETHI\",\"Maharashtra/AMRAVATI\",\"Gujarat/AMRELI\",\"Punjab/AMRITSAR\",\"Uttar Pradesh/AMROHA\",\"Andhra Pradesh/ANAKAPALLI\",\"Gujarat/ANAND\",\"Punjab/ANANDPUR SAHIB\",\"Andhra Pradesh/ANANTAPUR\",\"Jammu & Kashmir/ANANTNAG\",\"Andaman & Nicobar Islands/ANDAMAN & NICOBAR ISLANDS\",\"Uttar Pradesh/AONLA\",\"Tamil Nadu/ARAKKONAM\",\"West Bengal/ARAMBAGH\",\"Tamil Nadu/ARANI\",\"Bihar/ARARIA\",\"Bihar/ARRAH\",\"Andhra Pradesh/ARUKU\",\"Arunachal Pradesh/ARUNACHAL EAST\",\"Arunachal Pradesh/ARUNACHAL WEST\",\"West Bengal/ASANSOL\",\"Odisha/ASKA\",\"Kerala/ATTINGAL\",\"Bihar/AURANGABAD\",\"Maharashtra/AURANGABAD\",\"Assam/AUTONOMOUS DISTRICT\",\"Uttar Pradesh/AZAMGARH\",\"Uttar Pradesh/BADAUN\",\"Karnataka/BAGALKOT\",\"Uttar Pradesh/BAGHPAT\",\"West Bengal/BAHARAMPUR\",\"Uttar Pradesh/BAHRAICH\",\"Madhya Pradesh/BALAGHAT\",\"Odisha/BALASORE\",\"Uttar Pradesh/BALLIA\",\"West Bengal/BALURGHAT\",\"Gujarat/BANASKANTHA\",\"Uttar Pradesh/BANDA\",\"Karnataka/BANGALORE CENTRAL\",\"Karnataka/BANGALORE NORTH\",\"Karnataka/BANGALORE RURAL\",\"Karnataka/BANGALORE SOUTH\",\"West Bengal/BANGAON\",\"Bihar/BANKA\",\"West Bengal/BANKURA\",\"Uttar Pradesh/BANSGAON\",\"Rajasthan/BANSWARA\",\"Andhra Pradesh/BAPATLA\",\"Uttar Pradesh/BARABANKI\",\"Maharashtra/BARAMATI\",\"Jammu & Kashmir/BARAMULLA\",\"West Bengal/BARASAT\",\"West Bengal/BARDHAMAN DURGAPUR\",\"West Bengal/BARDHAMAN PURBA\",\"Gujarat/BARDOLI\",\"Uttar Pradesh/BAREILLY\",\"Odisha/BARGARH\",\"Rajasthan/BARMER\",\"Assam/BARPETA\",\"West Bengal/BARRACKPORE\",\"West Bengal/BASIRHAT\",\"Chhattisgarh/BASTAR\",\"Uttar Pradesh/BASTI\",\"Punjab/BATHINDA\",\"Maharashtra/BEED\",\"Bihar/BEGUSARAI\",\"Karnataka/BELGAUM\",\"Karnataka/BELLARY\",\"Odisha/BERHAMPUR\",\"Madhya Pradesh/BETUL\",\"Uttar Pradesh/BHADOHI\",\"Odisha/BHADRAK\",\"Bihar/BHAGALPUR\",\"Maharashtra/BHANDARA - GONDIYA\",\"Rajasthan/BHARATPUR\",\"Gujarat/BHARUCH\",\"Gujarat/BHAVNAGAR\",\"Rajasthan/BHILWARA\",\"Madhya Pradesh/BHIND\",\"Maharashtra/BHIWANDI\",\"Haryana/BHIWANI-MAHENDRAGARH\",\"Telangana/BHONGIR\",\"Madhya Pradesh/BHOPAL\",\"Odisha/BHUBANESWAR\",\"Karnataka/BIDAR\",\"Karnataka/BIJAPUR\",\"Uttar Pradesh/BIJNOR\",\"Rajasthan/BIKANER (SC)\",\"Chhattisgarh/BILASPUR\",\"West Bengal/BIRBHUM\",\"West Bengal/BISHNUPUR\",\"Odisha/BOLANGIR\",\"West Bengal/BOLPUR\",\"Uttar Pradesh/BULANDSHAHR\",\"Maharashtra/BULDHANA\",\"Bihar/BUXAR\",\"Kerala/CHALAKUDY\",\"Karnataka/CHAMARAJANAGAR\",\"Uttar Pradesh/CHANDAULI\",\"Chandigarh/CHANDIGARH\",\"NCT OF Delhi/CHANDNI CHOWK\",\"Maharashtra/CHANDRAPUR\",\"Jharkhand/CHATRA\",\"Tamil Nadu/CHENNAI CENTRAL\",\"Tamil Nadu/CHENNAI NORTH\",\"Tamil Nadu/CHENNAI SOUTH\",\"Telangana/CHEVELLA\",\"Madhya Pradesh/CHHINDWARA\",\"Gujarat/CHHOTA UDAIPUR\",\"Tamil Nadu/CHIDAMBARAM\",\"Karnataka/CHIKKBALLAPUR\",\"Karnataka/CHIKKODI\",\"Karnataka/CHITRADURGA\",\"Andhra Pradesh/CHITTOOR\",\"Rajasthan/CHITTORGARH\",\"Rajasthan/CHURU\",\"Tamil Nadu/COIMBATORE\",\"West Bengal/COOCH BEHAR\",\"Tamil Nadu/CUDDALORE\",\"Odisha/CUTTACK\",\"Dadra & Nagar Haveli/DADRA AND NAGAR HAVELI\",\"Gujarat/DAHOD\",\"Karnataka/DAKSHINA KANNADA\",\"Daman & Diu/DAMAN & DIU\",\"Madhya Pradesh/DAMOH\",\"Bihar/DARBHANGA\",\"West Bengal/DARJEELING\",\"Rajasthan/DAUSA\",\"Karnataka/DAVANAGERE\",\"Uttar Pradesh/DEORIA\",\"Madhya Pradesh/DEWAS\",\"Jharkhand/DHANBAD\",\"Madhya Pradesh/DHAR\",\"Tamil Nadu/DHARMAPURI\",\"Karnataka/DHARWAD\",\"Uttar Pradesh/DHAURAHRA\",\"Odisha/DHENKANAL\",\"Assam/DHUBRI\",\"Maharashtra/DHULE\",\"West Bengal/DIAMOND HARBOUR\",\"Assam/DIBRUGARH\",\"Tamil Nadu/DINDIGUL\",\"Maharashtra/DINDORI\",\"Uttar Pradesh/DOMARIYAGANJ\",\"West Bengal/DUM DUM\",\"Jharkhand/DUMKA\",\"Chhattisgarh/DURG\",\"NCT OF Delhi/EAST DELHI\",\"Andhra Pradesh/ELURU\",\"Kerala/ERNAKULAM\",\"Tamil Nadu/ERODE\",\"Uttar Pradesh/ETAH\",\"Uttar Pradesh/ETAWAH\",\"Uttar Pradesh/FAIZABAD\",\"Haryana/FARIDABAD\",\"Punjab/FARIDKOT\",\"Uttar Pradesh/FARRUKHABAD\",\"Punjab/FATEHGARH SAHIB\",\"Uttar Pradesh/FATEHPUR\",\"Uttar Pradesh/FATEHPUR SIKRI\",\"Uttar Pradesh/FIROZABAD\",\"Punjab/FIROZPUR\",\"Maharashtra/GADCHIROLI-CHIMUR\",\"Gujarat/GANDHINAGAR\",\"Rajasthan/GANGANAGAR\",\"Uttarakhand/GARHWAL\",\"Assam/GAUHATI\",\"Uttar Pradesh/GAUTAM BUDDHA NAGAR\",\"Bihar/GAYA (SC)\",\"West Bengal/GHATAL\",\"Uttar Pradesh/GHAZIABAD\",\"Uttar Pradesh/GHAZIPUR\",\"Uttar Pradesh/GHOSI\",\"Jharkhand/GIRIDIH\",\"Jharkhand/GODDA\",\"Uttar Pradesh/GONDA\",\"Bihar/GOPALGANJ (SC)\",\"Uttar Pradesh/GORAKHPUR\",\"Karnataka/GULBARGA\",\"Madhya Pradesh/GUNA\",\"Andhra Pradesh/GUNTUR\",\"Punjab/GURDASPUR\",\"Haryana/GURGAON\",\"Madhya Pradesh/GWALIOR\",\"Bihar/HAJIPUR (SC)\",\"Himachal Pradesh/HAMIRPUR\",\"Uttar Pradesh/HAMIRPUR\",\"Uttar Pradesh/HARDOI\",\"Uttarakhand/HARDWAR\",\"Karnataka/HASSAN\",\"Uttar Pradesh/HATHRAS\",\"Maharashtra/HATKANANGLE\",\"Karnataka/HAVERI\",\"Jharkhand/HAZARIBAGH\",\"Andhra Pradesh/HINDUPUR\",\"Maharashtra/HINGOLI\",\"Haryana/HISAR\",\"West Bengal/HOOGHLY\",\"Madhya Pradesh/HOSHANGABAD\",\"Punjab/HOSHIARPUR\",\"West Bengal/HOWRAH\",\"Telangana/HYDERABAD\",\"Kerala/IDUKKI\",\"Madhya Pradesh/INDORE\",\"Manipur/INNER MANIPUR\",\"Madhya Pradesh/JABALPUR\",\"West Bengal/JADAVPUR\",\"Odisha/JAGATSINGHPUR\",\"Bihar/JAHANABAD\",\"Rajasthan/JAIPUR\",\"Rajasthan/JAIPUR RURAL\",\"Odisha/JAJPUR\",\"Punjab/JALANDHAR\",\"Uttar Pradesh/JALAUN\",\"Maharashtra/JALGAON\",\"Maharashtra/JALNA\",\"Rajasthan/JALORE\",\"West Bengal/JALPAIGURI\",\"Jammu & Kashmir/JAMMU\",\"Gujarat/JAMNAGAR\",\"Jharkhand/JAMSHEDPUR\",\"Bihar/JAMUI (SC)\",\"West Bengal/JANGIPUR\",\"Chhattisgarh/JANJGIR-CHAMPA\",\"Uttar Pradesh/JAUNPUR\",\"West Bengal/JAYNAGAR\",\"Rajasthan/JHALAWAR-BARAN\",\"Bihar/JHANJHARPUR\",\"Uttar Pradesh/JHANSI\",\"West Bengal/JHARGRAM\",\"Rajasthan/JHUNJHUNU\",\"Rajasthan/JODHPUR\",\"Assam/JORHAT\",\"Gujarat/JUNAGADH\",\"Gujarat/KACHCHH\",\"Andhra Pradesh/KADAPA\",\"Uttar Pradesh/KAIRANA\",\"Uttar Pradesh/KAISERGANJ\",\"Andhra Pradesh/KAKINADA\",\"Odisha/KALAHANDI\",\"Assam/KALIABOR\",\"Tamil Nadu/KALLAKURICHI\",\"Maharashtra/KALYAN\",\"Tamil Nadu/KANCHEEPURAM\",\"Odisha/KANDHAMAL\",\"Himachal Pradesh/KANGRA\",\"Chhattisgarh/KANKER\",\"Uttar Pradesh/KANNAUJ\",\"Tamil Nadu/KANNIYAKUMARI\",\"Kerala/KANNUR\",\"Uttar Pradesh/KANPUR\",\"West Bengal/KANTHI\",\"Bihar/KARAKAT\",\"Rajasthan/KARAULI-DHOLPUR\",\"Assam/KARIMGANJ\",\"Telangana/KARIMNAGAR\",\"Haryana/KARNAL\",\"Tamil Nadu/KARUR\",\"Kerala/KASARAGOD\",\"Bihar/KATIHAR\",\"Uttar Pradesh/KAUSHAMBI\",\"Odisha/KENDRAPARA\",\"Odisha/KEONJHAR\",\"Punjab/KHADOOR SAHIB\",\"Bihar/KHAGARIA\",\"Madhya Pradesh/KHAJURAHO\",\"Telangana/KHAMMAM\",\"Madhya Pradesh/KHANDWA\",\"Madhya Pradesh/KHARGONE\",\"Gujarat/KHEDA\",\"Uttar Pradesh/KHERI\",\"Jharkhand/KHUNTI\",\"Bihar/KISHANGANJ\",\"Jharkhand/KODARMA\",\"Assam/KOKRAJHAR\",\"Karnataka/KOLAR\",\"Maharashtra/KOLHAPUR\",\"West Bengal/KOLKATA DAKSHIN\",\"West Bengal/KOLKATA UTTAR\",\"Kerala/KOLLAM\",\"Karnataka/KOPPAL\",\"Odisha/KORAPUT\",\"Chhattisgarh/KORBA\",\"Rajasthan/KOTA\",\"Kerala/KOTTAYAM\",\"Kerala/KOZHIKODE\",\"Tamil Nadu/KRISHNAGIRI\",\"West Bengal/KRISHNANAGAR\",\"Andhra Pradesh/KURNOOL\",\"Haryana/KURUKSHETRA\",\"Uttar Pradesh/KUSHI NAGAR\",\"Jammu & Kashmir/LADAKH\",\"Assam/LAKHIMPUR\",\"Lakshadweep/LAKSHADWEEP\",\"Uttar Pradesh/LALGANJ\",\"Maharashtra/LATUR\",\"Jharkhand/LOHARDAGA\",\"Uttar Pradesh/LUCKNOW\",\"Punjab/LUDHIANA\",\"Uttar Pradesh/MACHHLISHAHR\",\"Andhra Pradesh/MACHILIPATNAM\",\"Maharashtra/MADHA\",\"Bihar/MADHEPURA\",\"Bihar/MADHUBANI\",\"Tamil Nadu/MADURAI\",\"Telangana/MAHABUBABAD\",\"Bihar/MAHARAJGANJ\",\"Uttar Pradesh/MAHARAJGANJ\",\"Chhattisgarh/MAHASAMUND\",\"Telangana/MAHBUBNAGAR\",\"Gujarat/MAHESANA\",\"Uttar Pradesh/MAINPURI\",\"Kerala/MALAPPURAM\",\"West Bengal/MALDAHA DAKSHIN\",\"West Bengal/MALDAHA UTTAR\",\"Telangana/MALKAJGIRI\",\"Himachal Pradesh/MANDI\",\"Madhya Pradesh/MANDLA\",\"Madhya Pradesh/MANDSOUR\",\"Karnataka/MANDYA\",\"Assam/MANGALDOI\",\"Uttar Pradesh/MATHURA\",\"West Bengal/MATHURAPUR\",\"Maharashtra/MAVAL\",\"Kerala/MAVELIKKARA\",\"Tamil Nadu/MAYILADUTHURAI\",\"Odisha/MAYURBHANJ\",\"Telangana/MEDAK\",\"West Bengal/MEDINIPUR\",\"Uttar Pradesh/MEERUT\",\"Uttar Pradesh/MIRZAPUR\",\"Uttar Pradesh/MISRIKH\",\"Mizoram/MIZORAM\",\"Uttar Pradesh/MOHANLALGANJ\",\"Uttar Pradesh/MORADABAD\",\"Madhya Pradesh/MORENA\",\"Maharashtra/MUMBAI NORTH\",\"Maharashtra/MUMBAI NORTH CENTRAL\",\"Maharashtra/MUMBAI NORTH EAST\",\"Maharashtra/MUMBAI NORTH WEST\",\"Maharashtra/MUMBAI SOUTH\",\"Maharashtra/MUMBAI SOUTH CENTRAL\",\"Bihar/MUNGER\",\"West Bengal/MURSHIDABAD\",\"Uttar Pradesh/MUZAFFARNAGAR\",\"Bihar/MUZAFFARPUR\",\"Karnataka/MYSORE\",\"Odisha/NABARANGPUR\",\"Nagaland/NAGALAND\",\"Tamil Nadu/NAGAPATTINAM\",\"Telangana/NAGARKURNOOL\",\"Rajasthan/NAGAUR\",\"Uttar Pradesh/NAGINA\",\"Maharashtra/NAGPUR\",\"Uttarakhand/NAINITAL-UDHAMSINGH NAGAR\",\"Bihar/NALANDA\",\"Telangana/NALGONDA\",\"Tamil Nadu/NAMAKKAL\",\"Maharashtra/NANDED\",\"Maharashtra/NANDURBAR\",\"Andhra Pradesh/NANDYAL\",\"Andhra Pradesh/NARASARAOPET\",\"Andhra Pradesh/NARSAPURAM\",\"Maharashtra/NASHIK\",\"Gujarat/NAVSARI\",\"Bihar/NAWADA\",\"Andhra Pradesh/NELLORE\",\"NCT OF Delhi/NEW DELHI\",\"Tamil Nadu/NILGIRIS\",\"Telangana/NIZAMABAD\",\"NCT OF Delhi/NORTH EAST DELHI\",\"Goa/NORTH GOA\",\"NCT OF Delhi/NORTH WEST DELHI\",\"Assam/NOWGONG\",\"Andhra Pradesh/ONGOLE\",\"Maharashtra/OSMANABAD\",\"Manipur/OUTER MANIPUR\",\"Kerala/PALAKKAD\",\"Jharkhand/PALAMAU\",\"Maharashtra/PALGHAR\",\"Rajasthan/PALI\",\"Gujarat/PANCHMAHAL\",\"Maharashtra/PARBHANI\",\"Bihar/PASCHIM CHAMPARAN\",\"Bihar/PATALIPUTRA\",\"Gujarat/PATAN\",\"Kerala/PATHANAMTHITTA\",\"Punjab/PATIALA\",\"Bihar/PATNA SAHIB\",\"Telangana/PEDDAPALLE\",\"Tamil Nadu/PERAMBALUR\",\"Uttar Pradesh/PHULPUR\",\"Uttar Pradesh/PILIBHIT\",\"Tamil Nadu/POLLACHI\",\"Kerala/PONNANI\",\"Gujarat/PORBANDAR\",\"Uttar Pradesh/PRATAPGARH\",\"Puducherry/PUDUCHERRY\",\"Maharashtra/PUNE\",\"Odisha/PURI\",\"Bihar/PURNIA\",\"West Bengal/PURULIA\",\"Bihar/PURVI CHAMPARAN\",\"Uttar Pradesh/RAE BARELI\",\"Karnataka/RAICHUR\",\"Maharashtra/RAIGAD\",\"West Bengal/RAIGANJ\",\"Chhattisgarh/RAIGARH\",\"Chhattisgarh/RAIPUR\",\"Andhra Pradesh/RAJAHMUNDRY\",\"Andhra Pradesh/RAJAMPET\",\"Madhya Pradesh/RAJGARH\",\"Gujarat/RAJKOT\",\"Jharkhand/RAJMAHAL\",\"Chhattisgarh/RAJNANDGAON\",\"Rajasthan/RAJSAMAND\",\"Tamil Nadu/RAMANATHAPURAM\",\"Uttar Pradesh/RAMPUR\",\"Maharashtra/RAMTEK\",\"West Bengal/RANAGHAT\",\"Jharkhand/RANCHI\",\"Madhya Pradesh/RATLAM\",\"Maharashtra/RATNAGIRI - SINDHUDURG\",\"Maharashtra/RAVER\",\"Madhya Pradesh/REWA\",\"Uttar Pradesh/ROBERTSGANJ\",\"Haryana/ROHTAK\",\"Gujarat/SABARKANTHA\",\"Madhya Pradesh/SAGAR\",\"Uttar Pradesh/SAHARANPUR\",\"Tamil Nadu/SALEM\",\"Uttar Pradesh/SALEMPUR\",\"Bihar/SAMASTIPUR (SC)\",\"Odisha/SAMBALPUR\",\"Uttar Pradesh/SAMBHAL\",\"Maharashtra/SANGLI\",\"Punjab/SANGRUR\",\"Uttar Pradesh/SANT KABIR NAGAR\",\"Bihar/SARAN\",\"Chhattisgarh/SARGUJA\",\"Bihar/SASARAM (SC)\",\"Maharashtra/SATARA\",\"Madhya Pradesh/SATNA\",\"Telangana/SECUNDRABAD\",\"Madhya Pradesh/SHAHDOL\",\"Uttar Pradesh/SHAHJAHANPUR\",\"Bihar/SHEOHAR\",\"Meghalaya/SHILLONG\",\"Himachal Pradesh/SHIMLA\",\"Karnataka/SHIMOGA\",\"Maharashtra/SHIRDI\",\"Maharashtra/SHIRUR\",\"Uttar Pradesh/SHRAWASTI\",\"Madhya Pradesh/SIDHI\",\"Rajasthan/SIKAR\",\"Sikkim/SIKKIM\",\"Assam/SILCHAR\",\"Jharkhand/SINGHBHUM\",\"Haryana/SIRSA\",\"Bihar/SITAMARHI\",\"Uttar Pradesh/SITAPUR\",\"Tamil Nadu/SIVAGANGA\",\"Bihar/SIWAN\",\"Maharashtra/SOLAPUR\",\"Haryana/SONIPAT\",\"NCT OF Delhi/SOUTH DELHI\",\"Goa/SOUTH GOA\",\"West Bengal/SRERAMPUR\",\"Andhra Pradesh/SRIKAKULAM\",\"Jammu & Kashmir/SRINAGAR\",\"Tamil Nadu/SRIPERUMBUDUR\",\"Uttar Pradesh/SULTANPUR\",\"Odisha/SUNDARGARH\",\"Bihar/SUPAUL\",\"Gujarat/SURAT\",\"Gujarat/SURENDRANAGAR\",\"West Bengal/TAMLUK\",\"Uttarakhand/TEHRI GARHWAL\",\"Tamil Nadu/TENKASI\",\"Assam/TEZPUR\",\"Maharashtra/THANE\",\"Tamil Nadu/THANJAVUR\",\"Tamil Nadu/THENI\",\"Tamil Nadu/THIRUVALLUR\",\"Kerala/THIRUVANANTHAPURAM\",\"Tamil Nadu/THOOTHUKKUDI\",\"Kerala/THRISSUR\",\"Madhya Pradesh/TIKAMGARH\",\"Tamil Nadu/TIRUCHIRAPPALLI\",\"Tamil Nadu/TIRUNELVELI\",\"Andhra Pradesh/TIRUPATI\",\"Tamil Nadu/TIRUPPUR\",\"Tamil Nadu/TIRUVANNAMALAI\",\"Rajasthan/TONK-SAWAI MADHOPUR\",\"Tripura/TRIPURA EAST\",\"Tripura/TRIPURA WEST\",\"Karnataka/TUMKUR\",\"Meghalaya/TURA\",\"Rajasthan/UDAIPUR\",\"Jammu & Kashmir/UDHAMPUR\",\"Karnataka/UDUPI CHIKMAGALUR\",\"Bihar/UJIARPUR\",\"Madhya Pradesh/UJJAIN\",\"West Bengal/ULUBERIA\",\"Uttar Pradesh/UNNAO\",\"Karnataka/UTTARA KANNADA\",\"Kerala/VADAKARA\",\"Gujarat/VADODARA\",\"Bihar/VAISHALI\",\"Bihar/VALMIKI NAGAR\",\"Gujarat/VALSAD\",\"Uttar Pradesh/VARANASI\",\"Madhya Pradesh/VIDISHA\",\"Andhra Pradesh/VIJAYAWADA\",\"Tamil Nadu/VILUPPURAM\",\"Tamil Nadu/VIRUDHUNAGAR\",\"Andhra Pradesh/VISAKHAPATNAM\",\"Andhra Pradesh/VIZIANAGARAM\",\"Telangana/WARANGAL\",\"Maharashtra/WARDHA\",\"Kerala/WAYANAD\",\"NCT OF Delhi/WEST DELHI\",\"Maharashtra/YAVATMAL-WASHIM\",\"Telangana/ZAHIRABAD\",\"Andaman & Nicobar Islands\",\"Andhra Pradesh\",\"Arunachal Pradesh\",\"Assam\",\"Bihar\",\"Chandigarh\",\"Chhattisgarh\",\"Dadra & Nagar Haveli\",\"Daman & Diu\",\"Goa\",\"Gujarat\",\"Haryana\",\"Himachal Pradesh\",\"Jammu & Kashmir\",\"Jharkhand\",\"Karnataka\",\"Kerala\",\"Lakshadweep\",\"Madhya Pradesh\",\"Maharashtra\",\"Manipur\",\"Meghalaya\",\"Mizoram\",\"NCT OF Delhi\",\"Nagaland\",\"Odisha\",\"Puducherry\",\"Punjab\",\"Rajasthan\",\"Sikkim\",\"Tamil Nadu\",\"Telangana\",\"Tripura\",\"Uttar Pradesh\",\"Uttarakhand\",\"West Bengal\"],\"labels\":[\"ADILABAD\",\"AGRA\",\"AHMADNAGAR\",\"AHMEDABAD EAST\",\"AHMEDABAD WEST\",\"AJMER\",\"AKBARPUR\",\"AKOLA\",\"ALAPPUZHA\",\"ALATHUR\",\"ALIGARH\",\"ALIPURDUARS\",\"ALLAHABAD\",\"ALMORA\",\"ALWAR\",\"AMALAPURAM\",\"AMBALA\",\"AMBEDKAR NAGAR\",\"AMETHI\",\"AMRAVATI\",\"AMRELI\",\"AMRITSAR\",\"AMROHA\",\"ANAKAPALLI\",\"ANAND\",\"ANANDPUR SAHIB\",\"ANANTAPUR\",\"ANANTNAG\",\"ANDAMAN & NICOBAR ISLANDS\",\"AONLA\",\"ARAKKONAM\",\"ARAMBAGH\",\"ARANI\",\"ARARIA\",\"ARRAH\",\"ARUKU\",\"ARUNACHAL EAST\",\"ARUNACHAL WEST\",\"ASANSOL\",\"ASKA\",\"ATTINGAL\",\"AURANGABAD\",\"AURANGABAD\",\"AUTONOMOUS DISTRICT\",\"AZAMGARH\",\"BADAUN\",\"BAGALKOT\",\"BAGHPAT\",\"BAHARAMPUR\",\"BAHRAICH\",\"BALAGHAT\",\"BALASORE\",\"BALLIA\",\"BALURGHAT\",\"BANASKANTHA\",\"BANDA\",\"BANGALORE CENTRAL\",\"BANGALORE NORTH\",\"BANGALORE RURAL\",\"BANGALORE SOUTH\",\"BANGAON\",\"BANKA\",\"BANKURA\",\"BANSGAON\",\"BANSWARA\",\"BAPATLA\",\"BARABANKI\",\"BARAMATI\",\"BARAMULLA\",\"BARASAT\",\"BARDHAMAN DURGAPUR\",\"BARDHAMAN PURBA\",\"BARDOLI\",\"BAREILLY\",\"BARGARH\",\"BARMER\",\"BARPETA\",\"BARRACKPORE\",\"BASIRHAT\",\"BASTAR\",\"BASTI\",\"BATHINDA\",\"BEED\",\"BEGUSARAI\",\"BELGAUM\",\"BELLARY\",\"BERHAMPUR\",\"BETUL\",\"BHADOHI\",\"BHADRAK\",\"BHAGALPUR\",\"BHANDARA - GONDIYA\",\"BHARATPUR\",\"BHARUCH\",\"BHAVNAGAR\",\"BHILWARA\",\"BHIND\",\"BHIWANDI\",\"BHIWANI-MAHENDRAGARH\",\"BHONGIR\",\"BHOPAL\",\"BHUBANESWAR\",\"BIDAR\",\"BIJAPUR\",\"BIJNOR\",\"BIKANER (SC)\",\"BILASPUR\",\"BIRBHUM\",\"BISHNUPUR\",\"BOLANGIR\",\"BOLPUR\",\"BULANDSHAHR\",\"BULDHANA\",\"BUXAR\",\"CHALAKUDY\",\"CHAMARAJANAGAR\",\"CHANDAULI\",\"CHANDIGARH\",\"CHANDNI CHOWK\",\"CHANDRAPUR\",\"CHATRA\",\"CHENNAI CENTRAL\",\"CHENNAI NORTH\",\"CHENNAI SOUTH\",\"CHEVELLA\",\"CHHINDWARA\",\"CHHOTA UDAIPUR\",\"CHIDAMBARAM\",\"CHIKKBALLAPUR\",\"CHIKKODI\",\"CHITRADURGA\",\"CHITTOOR\",\"CHITTORGARH\",\"CHURU\",\"COIMBATORE\",\"COOCH BEHAR\",\"CUDDALORE\",\"CUTTACK\",\"DADRA AND NAGAR HAVELI\",\"DAHOD\",\"DAKSHINA KANNADA\",\"DAMAN & DIU\",\"DAMOH\",\"DARBHANGA\",\"DARJEELING\",\"DAUSA\",\"DAVANAGERE\",\"DEORIA\",\"DEWAS\",\"DHANBAD\",\"DHAR\",\"DHARMAPURI\",\"DHARWAD\",\"DHAURAHRA\",\"DHENKANAL\",\"DHUBRI\",\"DHULE\",\"DIAMOND HARBOUR\",\"DIBRUGARH\",\"DINDIGUL\",\"DINDORI\",\"DOMARIYAGANJ\",\"DUM DUM\",\"DUMKA\",\"DURG\",\"EAST DELHI\",\"ELURU\",\"ERNAKULAM\",\"ERODE\",\"ETAH\",\"ETAWAH\",\"FAIZABAD\",\"FARIDABAD\",\"FARIDKOT\",\"FARRUKHABAD\",\"FATEHGARH SAHIB\",\"FATEHPUR\",\"FATEHPUR SIKRI\",\"FIROZABAD\",\"FIROZPUR\",\"GADCHIROLI-CHIMUR\",\"GANDHINAGAR\",\"GANGANAGAR\",\"GARHWAL\",\"GAUHATI\",\"GAUTAM BUDDHA NAGAR\",\"GAYA (SC)\",\"GHATAL\",\"GHAZIABAD\",\"GHAZIPUR\",\"GHOSI\",\"GIRIDIH\",\"GODDA\",\"GONDA\",\"GOPALGANJ (SC)\",\"GORAKHPUR\",\"GULBARGA\",\"GUNA\",\"GUNTUR\",\"GURDASPUR\",\"GURGAON\",\"GWALIOR\",\"HAJIPUR (SC)\",\"HAMIRPUR\",\"HAMIRPUR\",\"HARDOI\",\"HARDWAR\",\"HASSAN\",\"HATHRAS\",\"HATKANANGLE\",\"HAVERI\",\"HAZARIBAGH\",\"HINDUPUR\",\"HINGOLI\",\"HISAR\",\"HOOGHLY\",\"HOSHANGABAD\",\"HOSHIARPUR\",\"HOWRAH\",\"HYDERABAD\",\"IDUKKI\",\"INDORE\",\"INNER MANIPUR\",\"JABALPUR\",\"JADAVPUR\",\"JAGATSINGHPUR\",\"JAHANABAD\",\"JAIPUR\",\"JAIPUR RURAL\",\"JAJPUR\",\"JALANDHAR\",\"JALAUN\",\"JALGAON\",\"JALNA\",\"JALORE\",\"JALPAIGURI\",\"JAMMU\",\"JAMNAGAR\",\"JAMSHEDPUR\",\"JAMUI (SC)\",\"JANGIPUR\",\"JANJGIR-CHAMPA\",\"JAUNPUR\",\"JAYNAGAR\",\"JHALAWAR-BARAN\",\"JHANJHARPUR\",\"JHANSI\",\"JHARGRAM\",\"JHUNJHUNU\",\"JODHPUR\",\"JORHAT\",\"JUNAGADH\",\"KACHCHH\",\"KADAPA\",\"KAIRANA\",\"KAISERGANJ\",\"KAKINADA\",\"KALAHANDI\",\"KALIABOR\",\"KALLAKURICHI\",\"KALYAN\",\"KANCHEEPURAM\",\"KANDHAMAL\",\"KANGRA\",\"KANKER\",\"KANNAUJ\",\"KANNIYAKUMARI\",\"KANNUR\",\"KANPUR\",\"KANTHI\",\"KARAKAT\",\"KARAULI-DHOLPUR\",\"KARIMGANJ\",\"KARIMNAGAR\",\"KARNAL\",\"KARUR\",\"KASARAGOD\",\"KATIHAR\",\"KAUSHAMBI\",\"KENDRAPARA\",\"KEONJHAR\",\"KHADOOR SAHIB\",\"KHAGARIA\",\"KHAJURAHO\",\"KHAMMAM\",\"KHANDWA\",\"KHARGONE\",\"KHEDA\",\"KHERI\",\"KHUNTI\",\"KISHANGANJ\",\"KODARMA\",\"KOKRAJHAR\",\"KOLAR\",\"KOLHAPUR\",\"KOLKATA DAKSHIN\",\"KOLKATA UTTAR\",\"KOLLAM\",\"KOPPAL\",\"KORAPUT\",\"KORBA\",\"KOTA\",\"KOTTAYAM\",\"KOZHIKODE\",\"KRISHNAGIRI\",\"KRISHNANAGAR\",\"KURNOOL\",\"KURUKSHETRA\",\"KUSHI NAGAR\",\"LADAKH\",\"LAKHIMPUR\",\"LAKSHADWEEP\",\"LALGANJ\",\"LATUR\",\"LOHARDAGA\",\"LUCKNOW\",\"LUDHIANA\",\"MACHHLISHAHR\",\"MACHILIPATNAM\",\"MADHA\",\"MADHEPURA\",\"MADHUBANI\",\"MADURAI\",\"MAHABUBABAD\",\"MAHARAJGANJ\",\"MAHARAJGANJ\",\"MAHASAMUND\",\"MAHBUBNAGAR\",\"MAHESANA\",\"MAINPURI\",\"MALAPPURAM\",\"MALDAHA DAKSHIN\",\"MALDAHA UTTAR\",\"MALKAJGIRI\",\"MANDI\",\"MANDLA\",\"MANDSOUR\",\"MANDYA\",\"MANGALDOI\",\"MATHURA\",\"MATHURAPUR\",\"MAVAL\",\"MAVELIKKARA\",\"MAYILADUTHURAI\",\"MAYURBHANJ\",\"MEDAK\",\"MEDINIPUR\",\"MEERUT\",\"MIRZAPUR\",\"MISRIKH\",\"MIZORAM\",\"MOHANLALGANJ\",\"MORADABAD\",\"MORENA\",\"MUMBAI NORTH\",\"MUMBAI NORTH CENTRAL\",\"MUMBAI NORTH EAST\",\"MUMBAI NORTH WEST\",\"MUMBAI SOUTH\",\"MUMBAI SOUTH CENTRAL\",\"MUNGER\",\"MURSHIDABAD\",\"MUZAFFARNAGAR\",\"MUZAFFARPUR\",\"MYSORE\",\"NABARANGPUR\",\"NAGALAND\",\"NAGAPATTINAM\",\"NAGARKURNOOL\",\"NAGAUR\",\"NAGINA\",\"NAGPUR\",\"NAINITAL-UDHAMSINGH NAGAR\",\"NALANDA\",\"NALGONDA\",\"NAMAKKAL\",\"NANDED\",\"NANDURBAR\",\"NANDYAL\",\"NARASARAOPET\",\"NARSAPURAM\",\"NASHIK\",\"NAVSARI\",\"NAWADA\",\"NELLORE\",\"NEW DELHI\",\"NILGIRIS\",\"NIZAMABAD\",\"NORTH EAST DELHI\",\"NORTH GOA\",\"NORTH WEST DELHI\",\"NOWGONG\",\"ONGOLE\",\"OSMANABAD\",\"OUTER MANIPUR\",\"PALAKKAD\",\"PALAMAU\",\"PALGHAR\",\"PALI\",\"PANCHMAHAL\",\"PARBHANI\",\"PASCHIM CHAMPARAN\",\"PATALIPUTRA\",\"PATAN\",\"PATHANAMTHITTA\",\"PATIALA\",\"PATNA SAHIB\",\"PEDDAPALLE\",\"PERAMBALUR\",\"PHULPUR\",\"PILIBHIT\",\"POLLACHI\",\"PONNANI\",\"PORBANDAR\",\"PRATAPGARH\",\"PUDUCHERRY\",\"PUNE\",\"PURI\",\"PURNIA\",\"PURULIA\",\"PURVI CHAMPARAN\",\"RAE BARELI\",\"RAICHUR\",\"RAIGAD\",\"RAIGANJ\",\"RAIGARH\",\"RAIPUR\",\"RAJAHMUNDRY\",\"RAJAMPET\",\"RAJGARH\",\"RAJKOT\",\"RAJMAHAL\",\"RAJNANDGAON\",\"RAJSAMAND\",\"RAMANATHAPURAM\",\"RAMPUR\",\"RAMTEK\",\"RANAGHAT\",\"RANCHI\",\"RATLAM\",\"RATNAGIRI - SINDHUDURG\",\"RAVER\",\"REWA\",\"ROBERTSGANJ\",\"ROHTAK\",\"SABARKANTHA\",\"SAGAR\",\"SAHARANPUR\",\"SALEM\",\"SALEMPUR\",\"SAMASTIPUR (SC)\",\"SAMBALPUR\",\"SAMBHAL\",\"SANGLI\",\"SANGRUR\",\"SANT KABIR NAGAR\",\"SARAN\",\"SARGUJA\",\"SASARAM (SC)\",\"SATARA\",\"SATNA\",\"SECUNDRABAD\",\"SHAHDOL\",\"SHAHJAHANPUR\",\"SHEOHAR\",\"SHILLONG\",\"SHIMLA\",\"SHIMOGA\",\"SHIRDI\",\"SHIRUR\",\"SHRAWASTI\",\"SIDHI\",\"SIKAR\",\"SIKKIM\",\"SILCHAR\",\"SINGHBHUM\",\"SIRSA\",\"SITAMARHI\",\"SITAPUR\",\"SIVAGANGA\",\"SIWAN\",\"SOLAPUR\",\"SONIPAT\",\"SOUTH DELHI\",\"SOUTH GOA\",\"SRERAMPUR\",\"SRIKAKULAM\",\"SRINAGAR\",\"SRIPERUMBUDUR\",\"SULTANPUR\",\"SUNDARGARH\",\"SUPAUL\",\"SURAT\",\"SURENDRANAGAR\",\"TAMLUK\",\"TEHRI GARHWAL\",\"TENKASI\",\"TEZPUR\",\"THANE\",\"THANJAVUR\",\"THENI\",\"THIRUVALLUR\",\"THIRUVANANTHAPURAM\",\"THOOTHUKKUDI\",\"THRISSUR\",\"TIKAMGARH\",\"TIRUCHIRAPPALLI\",\"TIRUNELVELI\",\"TIRUPATI\",\"TIRUPPUR\",\"TIRUVANNAMALAI\",\"TONK-SAWAI MADHOPUR\",\"TRIPURA EAST\",\"TRIPURA WEST\",\"TUMKUR\",\"TURA\",\"UDAIPUR\",\"UDHAMPUR\",\"UDUPI CHIKMAGALUR\",\"UJIARPUR\",\"UJJAIN\",\"ULUBERIA\",\"UNNAO\",\"UTTARA KANNADA\",\"VADAKARA\",\"VADODARA\",\"VAISHALI\",\"VALMIKI NAGAR\",\"VALSAD\",\"VARANASI\",\"VIDISHA\",\"VIJAYAWADA\",\"VILUPPURAM\",\"VIRUDHUNAGAR\",\"VISAKHAPATNAM\",\"VIZIANAGARAM\",\"WARANGAL\",\"WARDHA\",\"WAYANAD\",\"WEST DELHI\",\"YAVATMAL-WASHIM\",\"ZAHIRABAD\",\"Andaman & Nicobar Islands\",\"Andhra Pradesh\",\"Arunachal Pradesh\",\"Assam\",\"Bihar\",\"Chandigarh\",\"Chhattisgarh\",\"Dadra & Nagar Haveli\",\"Daman & Diu\",\"Goa\",\"Gujarat\",\"Haryana\",\"Himachal Pradesh\",\"Jammu & Kashmir\",\"Jharkhand\",\"Karnataka\",\"Kerala\",\"Lakshadweep\",\"Madhya Pradesh\",\"Maharashtra\",\"Manipur\",\"Meghalaya\",\"Mizoram\",\"NCT OF Delhi\",\"Nagaland\",\"Odisha\",\"Puducherry\",\"Punjab\",\"Rajasthan\",\"Sikkim\",\"Tamil Nadu\",\"Telangana\",\"Tripura\",\"Uttar Pradesh\",\"Uttarakhand\",\"West Bengal\"],\"marker\":{\"coloraxis\":\"coloraxis\",\"colors\":[1489790.0,1937690.0,1861396.0,1811851.0,1643317.0,1876346.0,1766121.0,1865169.0,1356701.0,1266794.0,1887127.0,1648383.0,1716160.0,1337808.0,1888524.0,1459556.0,1853711.0,1785657.0,1743515.0,1833091.0,1628451.0,1507875.0,1646435.0,1521363.0,1655870.0,1698876.0,1664160.0,1397779.0,318471.0,1785605.0,1500016.0,1764726.0,1449150.0,1805439.0,2089353.0,1451418.0,339788.0,463775.0,1615865.0,1541145.0,1350710.0,1742883.0,1886284.0,795945.0,1789168.0,1891576.0,1704010.0,1616476.0,1638378.0,1729908.0,1767725.0,1531781.0,1822625.0,1431704.0,1697384.0,1702024.0,2204817.0,2849250.0,2497458.0,2215489.0,1704632.0,1699394.0,1648906.0,1751258.0,1975368.0,1468671.0,1816830.0,2114663.0,1317738.0,1718252.0,1733578.0,1698089.0,1826526.0,1797655.0,1596290.0,1941231.0,1685149.0,1436431.0,1678357.0,1379122.0,1845223.0,1621671.0,2045405.0,1958382.0,1779350.0,1751734.0,1502455.0,1737437.0,1942514.0,1661661.0,1823820.0,1811556.0,1943794.0,1564519.0,1768297.0,1997328.0,1765334.0,1890100.0,1654317.0,1628033.0,2142861.0,1699678.0,1775095.0,1797587.0,1664125.0,1851628.0,1876953.0,1699219.0,1627199.0,1744446.0,1705073.0,1787925.0,1762918.0,1829373.0,1230197.0,1686333.0,1756837.0,646729.0,1562283.0,1910188.0,1425218.0,1332300.0,1487681.0,1973533.0,2443112.0,1514783.0,1671253.0,1480222.0,1808780.0,1612556.0,1760633.0,1566499.0,2015911.0,2019104.0,1958904.0,1814200.0,1364038.0,1518996.0,250029.0,1598939.0,1724976.0,121740.0,1768777.0,1654811.0,1611317.0,1730289.0,1633064.0,1754195.0,1760503.0,2072634.0,1786151.0,1485804.0,1727311.0,1644674.0,1504403.0,1858566.0,1908173.0,1719190.0,1314319.0,1541881.0,1732936.0,1885433.0,1566196.0,1397253.0,1940269.0,2039302.0,1594950.0,1245972.0,1462246.0,1621295.0,1757984.0,1821785.0,2071816.0,1541971.0,1708585.0,1502861.0,1839312.0,1718837.0,1790510.0,1618419.0,1581366.0,1945772.0,1943486.0,1355796.0,2181319.0,2302960.0,1704596.0,1800002.0,2728978.0,1881077.0,1991651.0,1649413.0,1716766.0,1770248.0,1839514.0,1981197.0,1945765.0,1675724.0,1706119.0,1595284.0,2150728.0,2000744.0,1823664.0,1362269.0,1749100.0,1807119.0,1840738.0,1652999.0,1864320.0,1776555.0,1708510.0,1667465.0,1578218.0,1733729.0,1631817.0,1766601.0,1706141.0,1597500.0,1633925.0,1957931.0,1204191.0,2350580.0,937464.0,1819893.0,1816857.0,1643595.0,1588454.0,2127021.0,1952542.0,1475007.0,1617018.0,1933358.0,1931400.0,1867220.0,2071244.0,1735464.0,2047302.0,1657166.0,1703279.0,1718814.0,1616213.0,1897134.0,1867976.0,1648355.0,1903870.0,1852417.0,2040739.0,1641868.0,1937882.0,1956755.0,1365035.0,1642864.0,1744321.0,1570330.0,1666703.0,1805946.0,1563930.0,1611056.0,1734938.0,1528938.0,1965676.0,1643992.0,1288666.0,1427338.0,1558952.0,1874824.0,1501250.0,1266550.0,1632983.0,1660147.0,1771254.0,1810574.0,1340173.0,1651543.0,1904193.0,1387286.0,1363937.0,1653353.0,1787120.0,1710916.0,1516688.0,1638842.0,1676454.0,1842095.0,1513809.0,1909055.0,1834385.0,1804028.0,1770699.0,1202664.0,1659651.0,1814125.0,1776358.0,1629961.0,1880496.0,1728851.0,1444082.0,1296720.0,1736693.0,1434384.0,1508840.0,1948010.0,1206698.0,1318024.0,1530404.0,1631698.0,1573009.0,1657335.0,1761564.0,179232.0,1708013.0,55189.0,1751980.0,1886657.0,1234286.0,2040367.0,1683325.0,1848306.0,1473347.0,1909574.0,1884883.0,1792798.0,1539026.0,1424385.0,1807768.0,1915408.0,1637951.0,1506102.0,1648869.0,1723236.0,1370544.0,1575590.0,1685955.0,3150313.0,1281462.0,1951267.0,1760875.0,1712004.0,1800237.0,1807893.0,1652096.0,2298080.0,1308102.0,1484842.0,1493205.0,1603318.0,1674236.0,1892931.0,1845150.0,1796932.0,792464.0,2023431.0,1958939.0,1837723.0,1647350.0,1679891.0,1588693.0,1732263.0,1554176.0,1440380.0,1888025.0,1725187.0,1698003.0,1730553.0,1896333.0,1461004.0,1213777.0,1303649.0,1588111.0,1933169.0,1586117.0,2161096.0,1828433.0,2114809.0,1585980.0,1413599.0,1719322.0,1871099.0,1603220.0,1670391.0,1439691.0,1885064.0,1971658.0,1899747.0,1672845.0,1617470.0,1366060.0,1553385.0,2290492.0,556761.0,2378995.0,1794648.0,1556469.0,1889740.0,1022099.0,1323010.0,1881441.0,1885600.0,2161663.0,1744762.0,1985228.0,1633824.0,1925479.0,1807043.0,1382741.0,1739600.0,2146008.0,1479091.0,1391853.0,2010477.0,1761207.0,1520504.0,1356803.0,1662368.0,1708759.0,973410.0,2075824.0,1562331.0,1765312.0,1645884.0,1658672.0,1702248.0,1928204.0,1652965.0,1601220.0,1733805.0,2111738.0,1534256.0,1546938.0,1694329.0,1884339.0,1454436.0,1716459.0,1912911.0,1559740.0,1679506.0,1922764.0,1762252.0,1915959.0,1851112.0,1455577.0,1775051.0,1679534.0,1723538.0,1737133.0,1801717.0,1583129.0,1739082.0,1612512.0,1667282.0,1679030.0,1468530.0,1828764.0,1809109.0,1529431.0,1962903.0,1667253.0,1655239.0,1787878.0,1848489.0,1575064.0,1968276.0,1656474.0,2114201.0,1686215.0,1197806.0,1259085.0,1676668.0,1587079.0,2175529.0,1914739.0,1845547.0,2041612.0,434128.0,1195720.0,1269917.0,1803349.0,1752454.0,1666126.0,1552019.0,1799551.0,1851654.0,1592611.0,2067463.0,579352.0,1785472.0,1553860.0,1294671.0,2253448.0,1775196.0,1531525.0,1690620.0,1655704.0,1849429.0,1694646.0,1493543.0,1492317.0,1499639.0,2370903.0,1461052.0,1561040.0,1946870.0,1371427.0,1427783.0,1337110.0,1647399.0,1508963.0,1547800.0,1650453.0,1530014.0,1473862.0,1945992.0,1261861.0,1352857.0,1608545.0,716990.0,2069559.0,1685816.0,1513806.0,1612300.0,1661229.0,1614988.0,2191465.0,1556599.0,1288926.0,1794896.0,1735983.0,1665502.0,1671030.0,1856791.0,1741604.0,1652994.0,1444335.0,1484256.0,1829300.0,1503980.0,1666770.0,1743283.0,1359679.0,2371644.0,1916185.0,1498666.0,318471.0,1582400.9717934993,411346.8832798424,1644353.1150737212,1772123.4583131715,646729.0,1698986.6878278088,250029.0,121740.0,568281.104982515,1731423.3247479957,1805054.9374463586,1330051.2265762947,1479420.1213534693,1592357.041634522,1864447.0147089066,1313543.2125966665,55189.0,1792314.1201794483,1854902.7101187361,981609.2246572323,1017765.7952784527,792464.0,2100878.067652333,1213777.0,1550561.8931075688,973410.0,1608761.8167242955,1959342.8479804182,434128.0,1567181.864860669,1815183.074099372,1308942.396759421,1843504.556146671,1617600.669871884,1670124.3478314995]},\"name\":\"\",\"parents\":[\"Telangana\",\"Uttar Pradesh\",\"Maharashtra\",\"Gujarat\",\"Gujarat\",\"Rajasthan\",\"Uttar Pradesh\",\"Maharashtra\",\"Kerala\",\"Kerala\",\"Uttar Pradesh\",\"West Bengal\",\"Uttar Pradesh\",\"Uttarakhand\",\"Rajasthan\",\"Andhra Pradesh\",\"Haryana\",\"Uttar Pradesh\",\"Uttar Pradesh\",\"Maharashtra\",\"Gujarat\",\"Punjab\",\"Uttar Pradesh\",\"Andhra Pradesh\",\"Gujarat\",\"Punjab\",\"Andhra Pradesh\",\"Jammu & Kashmir\",\"Andaman & Nicobar Islands\",\"Uttar Pradesh\",\"Tamil Nadu\",\"West Bengal\",\"Tamil Nadu\",\"Bihar\",\"Bihar\",\"Andhra Pradesh\",\"Arunachal Pradesh\",\"Arunachal Pradesh\",\"West Bengal\",\"Odisha\",\"Kerala\",\"Bihar\",\"Maharashtra\",\"Assam\",\"Uttar Pradesh\",\"Uttar Pradesh\",\"Karnataka\",\"Uttar Pradesh\",\"West Bengal\",\"Uttar Pradesh\",\"Madhya Pradesh\",\"Odisha\",\"Uttar Pradesh\",\"West Bengal\",\"Gujarat\",\"Uttar Pradesh\",\"Karnataka\",\"Karnataka\",\"Karnataka\",\"Karnataka\",\"West Bengal\",\"Bihar\",\"West Bengal\",\"Uttar Pradesh\",\"Rajasthan\",\"Andhra Pradesh\",\"Uttar Pradesh\",\"Maharashtra\",\"Jammu & Kashmir\",\"West Bengal\",\"West Bengal\",\"West Bengal\",\"Gujarat\",\"Uttar Pradesh\",\"Odisha\",\"Rajasthan\",\"Assam\",\"West Bengal\",\"West Bengal\",\"Chhattisgarh\",\"Uttar Pradesh\",\"Punjab\",\"Maharashtra\",\"Bihar\",\"Karnataka\",\"Karnataka\",\"Odisha\",\"Madhya Pradesh\",\"Uttar Pradesh\",\"Odisha\",\"Bihar\",\"Maharashtra\",\"Rajasthan\",\"Gujarat\",\"Gujarat\",\"Rajasthan\",\"Madhya Pradesh\",\"Maharashtra\",\"Haryana\",\"Telangana\",\"Madhya Pradesh\",\"Odisha\",\"Karnataka\",\"Karnataka\",\"Uttar Pradesh\",\"Rajasthan\",\"Chhattisgarh\",\"West Bengal\",\"West Bengal\",\"Odisha\",\"West Bengal\",\"Uttar Pradesh\",\"Maharashtra\",\"Bihar\",\"Kerala\",\"Karnataka\",\"Uttar Pradesh\",\"Chandigarh\",\"NCT OF Delhi\",\"Maharashtra\",\"Jharkhand\",\"Tamil Nadu\",\"Tamil Nadu\",\"Tamil Nadu\",\"Telangana\",\"Madhya Pradesh\",\"Gujarat\",\"Tamil Nadu\",\"Karnataka\",\"Karnataka\",\"Karnataka\",\"Andhra Pradesh\",\"Rajasthan\",\"Rajasthan\",\"Tamil Nadu\",\"West Bengal\",\"Tamil Nadu\",\"Odisha\",\"Dadra & Nagar Haveli\",\"Gujarat\",\"Karnataka\",\"Daman & Diu\",\"Madhya Pradesh\",\"Bihar\",\"West Bengal\",\"Rajasthan\",\"Karnataka\",\"Uttar Pradesh\",\"Madhya Pradesh\",\"Jharkhand\",\"Madhya Pradesh\",\"Tamil Nadu\",\"Karnataka\",\"Uttar Pradesh\",\"Odisha\",\"Assam\",\"Maharashtra\",\"West Bengal\",\"Assam\",\"Tamil Nadu\",\"Maharashtra\",\"Uttar Pradesh\",\"West Bengal\",\"Jharkhand\",\"Chhattisgarh\",\"NCT OF Delhi\",\"Andhra Pradesh\",\"Kerala\",\"Tamil Nadu\",\"Uttar Pradesh\",\"Uttar Pradesh\",\"Uttar Pradesh\",\"Haryana\",\"Punjab\",\"Uttar Pradesh\",\"Punjab\",\"Uttar Pradesh\",\"Uttar Pradesh\",\"Uttar Pradesh\",\"Punjab\",\"Maharashtra\",\"Gujarat\",\"Rajasthan\",\"Uttarakhand\",\"Assam\",\"Uttar Pradesh\",\"Bihar\",\"West Bengal\",\"Uttar Pradesh\",\"Uttar Pradesh\",\"Uttar Pradesh\",\"Jharkhand\",\"Jharkhand\",\"Uttar Pradesh\",\"Bihar\",\"Uttar Pradesh\",\"Karnataka\",\"Madhya Pradesh\",\"Andhra Pradesh\",\"Punjab\",\"Haryana\",\"Madhya Pradesh\",\"Bihar\",\"Himachal Pradesh\",\"Uttar Pradesh\",\"Uttar Pradesh\",\"Uttarakhand\",\"Karnataka\",\"Uttar Pradesh\",\"Maharashtra\",\"Karnataka\",\"Jharkhand\",\"Andhra Pradesh\",\"Maharashtra\",\"Haryana\",\"West Bengal\",\"Madhya Pradesh\",\"Punjab\",\"West Bengal\",\"Telangana\",\"Kerala\",\"Madhya Pradesh\",\"Manipur\",\"Madhya Pradesh\",\"West Bengal\",\"Odisha\",\"Bihar\",\"Rajasthan\",\"Rajasthan\",\"Odisha\",\"Punjab\",\"Uttar Pradesh\",\"Maharashtra\",\"Maharashtra\",\"Rajasthan\",\"West Bengal\",\"Jammu & Kashmir\",\"Gujarat\",\"Jharkhand\",\"Bihar\",\"West Bengal\",\"Chhattisgarh\",\"Uttar Pradesh\",\"West Bengal\",\"Rajasthan\",\"Bihar\",\"Uttar Pradesh\",\"West Bengal\",\"Rajasthan\",\"Rajasthan\",\"Assam\",\"Gujarat\",\"Gujarat\",\"Andhra Pradesh\",\"Uttar Pradesh\",\"Uttar Pradesh\",\"Andhra Pradesh\",\"Odisha\",\"Assam\",\"Tamil Nadu\",\"Maharashtra\",\"Tamil Nadu\",\"Odisha\",\"Himachal Pradesh\",\"Chhattisgarh\",\"Uttar Pradesh\",\"Tamil Nadu\",\"Kerala\",\"Uttar Pradesh\",\"West Bengal\",\"Bihar\",\"Rajasthan\",\"Assam\",\"Telangana\",\"Haryana\",\"Tamil Nadu\",\"Kerala\",\"Bihar\",\"Uttar Pradesh\",\"Odisha\",\"Odisha\",\"Punjab\",\"Bihar\",\"Madhya Pradesh\",\"Telangana\",\"Madhya Pradesh\",\"Madhya Pradesh\",\"Gujarat\",\"Uttar Pradesh\",\"Jharkhand\",\"Bihar\",\"Jharkhand\",\"Assam\",\"Karnataka\",\"Maharashtra\",\"West Bengal\",\"West Bengal\",\"Kerala\",\"Karnataka\",\"Odisha\",\"Chhattisgarh\",\"Rajasthan\",\"Kerala\",\"Kerala\",\"Tamil Nadu\",\"West Bengal\",\"Andhra Pradesh\",\"Haryana\",\"Uttar Pradesh\",\"Jammu & Kashmir\",\"Assam\",\"Lakshadweep\",\"Uttar Pradesh\",\"Maharashtra\",\"Jharkhand\",\"Uttar Pradesh\",\"Punjab\",\"Uttar Pradesh\",\"Andhra Pradesh\",\"Maharashtra\",\"Bihar\",\"Bihar\",\"Tamil Nadu\",\"Telangana\",\"Bihar\",\"Uttar Pradesh\",\"Chhattisgarh\",\"Telangana\",\"Gujarat\",\"Uttar Pradesh\",\"Kerala\",\"West Bengal\",\"West Bengal\",\"Telangana\",\"Himachal Pradesh\",\"Madhya Pradesh\",\"Madhya Pradesh\",\"Karnataka\",\"Assam\",\"Uttar Pradesh\",\"West Bengal\",\"Maharashtra\",\"Kerala\",\"Tamil Nadu\",\"Odisha\",\"Telangana\",\"West Bengal\",\"Uttar Pradesh\",\"Uttar Pradesh\",\"Uttar Pradesh\",\"Mizoram\",\"Uttar Pradesh\",\"Uttar Pradesh\",\"Madhya Pradesh\",\"Maharashtra\",\"Maharashtra\",\"Maharashtra\",\"Maharashtra\",\"Maharashtra\",\"Maharashtra\",\"Bihar\",\"West Bengal\",\"Uttar Pradesh\",\"Bihar\",\"Karnataka\",\"Odisha\",\"Nagaland\",\"Tamil Nadu\",\"Telangana\",\"Rajasthan\",\"Uttar Pradesh\",\"Maharashtra\",\"Uttarakhand\",\"Bihar\",\"Telangana\",\"Tamil Nadu\",\"Maharashtra\",\"Maharashtra\",\"Andhra Pradesh\",\"Andhra Pradesh\",\"Andhra Pradesh\",\"Maharashtra\",\"Gujarat\",\"Bihar\",\"Andhra Pradesh\",\"NCT OF Delhi\",\"Tamil Nadu\",\"Telangana\",\"NCT OF Delhi\",\"Goa\",\"NCT OF Delhi\",\"Assam\",\"Andhra Pradesh\",\"Maharashtra\",\"Manipur\",\"Kerala\",\"Jharkhand\",\"Maharashtra\",\"Rajasthan\",\"Gujarat\",\"Maharashtra\",\"Bihar\",\"Bihar\",\"Gujarat\",\"Kerala\",\"Punjab\",\"Bihar\",\"Telangana\",\"Tamil Nadu\",\"Uttar Pradesh\",\"Uttar Pradesh\",\"Tamil Nadu\",\"Kerala\",\"Gujarat\",\"Uttar Pradesh\",\"Puducherry\",\"Maharashtra\",\"Odisha\",\"Bihar\",\"West Bengal\",\"Bihar\",\"Uttar Pradesh\",\"Karnataka\",\"Maharashtra\",\"West Bengal\",\"Chhattisgarh\",\"Chhattisgarh\",\"Andhra Pradesh\",\"Andhra Pradesh\",\"Madhya Pradesh\",\"Gujarat\",\"Jharkhand\",\"Chhattisgarh\",\"Rajasthan\",\"Tamil Nadu\",\"Uttar Pradesh\",\"Maharashtra\",\"West Bengal\",\"Jharkhand\",\"Madhya Pradesh\",\"Maharashtra\",\"Maharashtra\",\"Madhya Pradesh\",\"Uttar Pradesh\",\"Haryana\",\"Gujarat\",\"Madhya Pradesh\",\"Uttar Pradesh\",\"Tamil Nadu\",\"Uttar Pradesh\",\"Bihar\",\"Odisha\",\"Uttar Pradesh\",\"Maharashtra\",\"Punjab\",\"Uttar Pradesh\",\"Bihar\",\"Chhattisgarh\",\"Bihar\",\"Maharashtra\",\"Madhya Pradesh\",\"Telangana\",\"Madhya Pradesh\",\"Uttar Pradesh\",\"Bihar\",\"Meghalaya\",\"Himachal Pradesh\",\"Karnataka\",\"Maharashtra\",\"Maharashtra\",\"Uttar Pradesh\",\"Madhya Pradesh\",\"Rajasthan\",\"Sikkim\",\"Assam\",\"Jharkhand\",\"Haryana\",\"Bihar\",\"Uttar Pradesh\",\"Tamil Nadu\",\"Bihar\",\"Maharashtra\",\"Haryana\",\"NCT OF Delhi\",\"Goa\",\"West Bengal\",\"Andhra Pradesh\",\"Jammu & Kashmir\",\"Tamil Nadu\",\"Uttar Pradesh\",\"Odisha\",\"Bihar\",\"Gujarat\",\"Gujarat\",\"West Bengal\",\"Uttarakhand\",\"Tamil Nadu\",\"Assam\",\"Maharashtra\",\"Tamil Nadu\",\"Tamil Nadu\",\"Tamil Nadu\",\"Kerala\",\"Tamil Nadu\",\"Kerala\",\"Madhya Pradesh\",\"Tamil Nadu\",\"Tamil Nadu\",\"Andhra Pradesh\",\"Tamil Nadu\",\"Tamil Nadu\",\"Rajasthan\",\"Tripura\",\"Tripura\",\"Karnataka\",\"Meghalaya\",\"Rajasthan\",\"Jammu & Kashmir\",\"Karnataka\",\"Bihar\",\"Madhya Pradesh\",\"West Bengal\",\"Uttar Pradesh\",\"Karnataka\",\"Kerala\",\"Gujarat\",\"Bihar\",\"Bihar\",\"Gujarat\",\"Uttar Pradesh\",\"Madhya Pradesh\",\"Andhra Pradesh\",\"Tamil Nadu\",\"Tamil Nadu\",\"Andhra Pradesh\",\"Andhra Pradesh\",\"Telangana\",\"Maharashtra\",\"Kerala\",\"NCT OF Delhi\",\"Maharashtra\",\"Telangana\",\"\",\"\",\"\",\"\",\"\",\"\",\"\",\"\",\"\",\"\",\"\",\"\",\"\",\"\",\"\",\"\",\"\",\"\",\"\",\"\",\"\",\"\",\"\",\"\",\"\",\"\",\"\",\"\",\"\",\"\",\"\",\"\",\"\",\"\",\"\",\"\"],\"type\":\"sunburst\",\"values\":[4469370,5813070,5584188,3623702,4929951,7505384,5298363,5595507,4070103,3800382,5661381,6593532,6864640,4013424,5665572,4378668,7414844,5356971,3487030,7332364,4885353,6031500,4939305,6085452,3311740,6795504,6656640,8386674,1592355,5356815,7500080,7058904,7245750,3610878,8357412,10159926,1698940,2318875,8079325,4623435,4052130,15685947,7545136,3979725,3578336,5674728,3408020,3232952,8191890,5189724,7070900,4595343,5467875,5726816,8486920,6808096,6614451,5698500,7492374,4430978,6818528,11895758,6595624,3502516,9876840,5874684,5450490,6343989,9224166,6873008,6934312,6792356,3653052,5392965,4788870,5823693,6740596,5745724,6713428,9653854,7380892,6486684,8181620,7833528,3558700,3503468,4507365,5212311,5827542,4984983,3647640,9057780,5831382,6258076,3536594,7989312,5296002,7560400,6617268,8140165,4285722,5099034,5325285,7190348,4992375,5554884,5630859,8496095,6508796,6977784,8525365,5363775,5288754,7317492,3690591,5058999,7027348,2586916,4686849,5730564,11401744,6661500,7438405,9867665,7329336,6059132,5013759,5920888,7235120,4837668,3521266,6265996,4031822,8076416,9794520,7256800,6820190,4556988,1500174,6395756,5174928,365220,5306331,6619244,8056585,5190867,3266128,1754195,5281509,4145268,5358453,7429020,3454622,4934022,4513209,5575698,5724519,6876760,2628638,4625643,6931744,5656299,6264784,8383518,5820807,8157208,4784850,3737916,7311230,3242590,5273952,5465355,6215448,6167884,5125755,6011444,5517936,5156511,5371530,6473676,7906830,3891544,5830458,2711592,6543957,6908880,18750556,7200008,8186934,7524308,9958255,3298826,8583830,5310744,11037084,5943591,3891530,5027172,6824476,6381136,6452184,6002232,10941984,2724538,6996400,5421357,5522214,4958997,5592960,5329665,3417020,8337325,6312872,6934916,6527268,7066404,5118423,6390000,6535700,7831724,3612573,4701160,4687320,5459679,5450571,4930785,11119178,4254042,3905084,4425021,6468072,7733432,5794200,5601660,4142488,6941856,4094604,3314332,3406558,8594070,8081065,5691402,5603928,8241775,3807740,11114502,6122217,6567472,3875764,3913510,4095105,4928592,3488642,3140660,5000109,3611892,4691790,8055280,5204814,6115752,7862704,6575968,3865998,2854676,3117904,3749648,6005000,3799650,4898949,6640588,10627524,5431722,4020519,6606172,9520965,6936430,4091811,3306706,7148480,5132748,4550064,6555368,11735178,5526285,9082854,5727165,7337540,3608056,7082796,4810656,6638604,7256500,8881790,3259922,5641488,6915404,5776328,3890160,3473386,10040688,7544200,3896020,3620094,3954072,6121616,6526792,7865045,8286675,5284692,716928,5124039,165567,7007920,5659971,7405716,6121101,6733300,5544918,4420041,7638296,7539532,8963990,7695130,9970695,9038840,5746224,4913853,4518306,3297738,3446472,5482176,4726770,6743820,12601252,3844386,9756335,3521750,5136012,5400711,5423679,6608384,6894240,3924306,7424210,5972820,9619908,6696944,5678793,7380600,5390796,3962320,6070293,5876817,5513169,4942050,5039673,4766079,5196789,4662528,5761520,13216175,6900748,3396006,6922212,5688999,5844016,3641331,6518245,7940555,5799507,4758351,8644384,5485299,12688854,6343920,7067995,5157966,7484396,6412880,6681564,7198455,7540256,3943316,7598988,5018535,4852410,5464240,4660155,9161968,1670283,7136985,3589296,4669407,5669220,5110495,3969030,13170087,9428000,4323326,3489524,7940912,6535296,5776437,3614086,4148223,6958400,4292016,7395455,5567412,6031431,3522414,7602520,5427212,4987104,6835036,2920230,6227472,4686993,8826560,6583536,8293360,3404496,5784612,6611860,6404880,5201415,4223476,6137024,6187752,3388658,5653017,7272180,5149377,7651644,7798700,5038518,7691056,7049008,5747877,5553336,8733462,5325153,6718136,10341228,6948532,5405151,4749387,5217246,8062560,6669128,11753210,4405590,5486292,5427327,7647155,5888709,6669012,6620956,7151512,5545467,4725192,7873104,8282370,6342603,13489720,3593418,2518170,3353336,9522474,6526587,7658956,9227735,6124836,1736512,2391440,7619502,9016745,10514724,4998378,7760095,8997755,5554962,6370444,8269852,1738056,7141888,6215440,5178684,11267240,7100784,6126100,13524960,3311408,7397716,6778584,4480629,7461585,4498917,7112709,8766312,6244160,11681220,4114281,7138915,4011330,4942197,7544815,7739000,8252265,7650070,7369310,5837976,5047444,5411428,4825635,2150970,10347795,8429080,4541418,12898400,3322458,6459952,6574395,3113198,3866778,3589792,10415898,9993012,5013090,5570373,5224812,8264970,8666010,5937024,9146500,6015920,8333850,6973132,2719358,7114932,11497110,4495998,1592355,157661812,4017815,68675245,373933748,2586916,63568103,1500174,365220,3408339,119028011,73370373,11941770,36030136,100839587,131214920,79982176,165567,163695551,321123079,9797815,5744388,3962320,49380204,3641331,112683114,2920230,85100123,144688084,1736512,280796425,127212819,10458872,451766863,22213158,288147109]}],                        {\"coloraxis\":{\"colorbar\":{\"title\":{\"text\":\"TOTAL ELECTORS\"}},\"colorscale\":[[0.0,\"rgb(236, 218, 154)\"],[0.16666666666666666,\"rgb(239, 196, 126)\"],[0.3333333333333333,\"rgb(243, 173, 106)\"],[0.5,\"rgb(247, 148, 93)\"],[0.6666666666666666,\"rgb(249, 123, 87)\"],[0.8333333333333334,\"rgb(246, 99, 86)\"],[1.0,\"rgb(238, 77, 90)\"]]},\"font\":{\"color\":\"#351f39\",\"family\":\"Courier New\"},\"legend\":{\"tracegroupgap\":0},\"margin\":{\"t\":60},\"template\":{\"data\":{\"bar\":[{\"error_x\":{\"color\":\"#2a3f5f\"},\"error_y\":{\"color\":\"#2a3f5f\"},\"marker\":{\"line\":{\"color\":\"#E5ECF6\",\"width\":0.5},\"pattern\":{\"fillmode\":\"overlay\",\"size\":10,\"solidity\":0.2}},\"type\":\"bar\"}],\"barpolar\":[{\"marker\":{\"line\":{\"color\":\"#E5ECF6\",\"width\":0.5},\"pattern\":{\"fillmode\":\"overlay\",\"size\":10,\"solidity\":0.2}},\"type\":\"barpolar\"}],\"carpet\":[{\"aaxis\":{\"endlinecolor\":\"#2a3f5f\",\"gridcolor\":\"white\",\"linecolor\":\"white\",\"minorgridcolor\":\"white\",\"startlinecolor\":\"#2a3f5f\"},\"baxis\":{\"endlinecolor\":\"#2a3f5f\",\"gridcolor\":\"white\",\"linecolor\":\"white\",\"minorgridcolor\":\"white\",\"startlinecolor\":\"#2a3f5f\"},\"type\":\"carpet\"}],\"choropleth\":[{\"colorbar\":{\"outlinewidth\":0,\"ticks\":\"\"},\"type\":\"choropleth\"}],\"contour\":[{\"colorbar\":{\"outlinewidth\":0,\"ticks\":\"\"},\"colorscale\":[[0.0,\"#0d0887\"],[0.1111111111111111,\"#46039f\"],[0.2222222222222222,\"#7201a8\"],[0.3333333333333333,\"#9c179e\"],[0.4444444444444444,\"#bd3786\"],[0.5555555555555556,\"#d8576b\"],[0.6666666666666666,\"#ed7953\"],[0.7777777777777778,\"#fb9f3a\"],[0.8888888888888888,\"#fdca26\"],[1.0,\"#f0f921\"]],\"type\":\"contour\"}],\"contourcarpet\":[{\"colorbar\":{\"outlinewidth\":0,\"ticks\":\"\"},\"type\":\"contourcarpet\"}],\"heatmap\":[{\"colorbar\":{\"outlinewidth\":0,\"ticks\":\"\"},\"colorscale\":[[0.0,\"#0d0887\"],[0.1111111111111111,\"#46039f\"],[0.2222222222222222,\"#7201a8\"],[0.3333333333333333,\"#9c179e\"],[0.4444444444444444,\"#bd3786\"],[0.5555555555555556,\"#d8576b\"],[0.6666666666666666,\"#ed7953\"],[0.7777777777777778,\"#fb9f3a\"],[0.8888888888888888,\"#fdca26\"],[1.0,\"#f0f921\"]],\"type\":\"heatmap\"}],\"heatmapgl\":[{\"colorbar\":{\"outlinewidth\":0,\"ticks\":\"\"},\"colorscale\":[[0.0,\"#0d0887\"],[0.1111111111111111,\"#46039f\"],[0.2222222222222222,\"#7201a8\"],[0.3333333333333333,\"#9c179e\"],[0.4444444444444444,\"#bd3786\"],[0.5555555555555556,\"#d8576b\"],[0.6666666666666666,\"#ed7953\"],[0.7777777777777778,\"#fb9f3a\"],[0.8888888888888888,\"#fdca26\"],[1.0,\"#f0f921\"]],\"type\":\"heatmapgl\"}],\"histogram\":[{\"marker\":{\"pattern\":{\"fillmode\":\"overlay\",\"size\":10,\"solidity\":0.2}},\"type\":\"histogram\"}],\"histogram2d\":[{\"colorbar\":{\"outlinewidth\":0,\"ticks\":\"\"},\"colorscale\":[[0.0,\"#0d0887\"],[0.1111111111111111,\"#46039f\"],[0.2222222222222222,\"#7201a8\"],[0.3333333333333333,\"#9c179e\"],[0.4444444444444444,\"#bd3786\"],[0.5555555555555556,\"#d8576b\"],[0.6666666666666666,\"#ed7953\"],[0.7777777777777778,\"#fb9f3a\"],[0.8888888888888888,\"#fdca26\"],[1.0,\"#f0f921\"]],\"type\":\"histogram2d\"}],\"histogram2dcontour\":[{\"colorbar\":{\"outlinewidth\":0,\"ticks\":\"\"},\"colorscale\":[[0.0,\"#0d0887\"],[0.1111111111111111,\"#46039f\"],[0.2222222222222222,\"#7201a8\"],[0.3333333333333333,\"#9c179e\"],[0.4444444444444444,\"#bd3786\"],[0.5555555555555556,\"#d8576b\"],[0.6666666666666666,\"#ed7953\"],[0.7777777777777778,\"#fb9f3a\"],[0.8888888888888888,\"#fdca26\"],[1.0,\"#f0f921\"]],\"type\":\"histogram2dcontour\"}],\"mesh3d\":[{\"colorbar\":{\"outlinewidth\":0,\"ticks\":\"\"},\"type\":\"mesh3d\"}],\"parcoords\":[{\"line\":{\"colorbar\":{\"outlinewidth\":0,\"ticks\":\"\"}},\"type\":\"parcoords\"}],\"pie\":[{\"automargin\":true,\"type\":\"pie\"}],\"scatter\":[{\"marker\":{\"colorbar\":{\"outlinewidth\":0,\"ticks\":\"\"}},\"type\":\"scatter\"}],\"scatter3d\":[{\"line\":{\"colorbar\":{\"outlinewidth\":0,\"ticks\":\"\"}},\"marker\":{\"colorbar\":{\"outlinewidth\":0,\"ticks\":\"\"}},\"type\":\"scatter3d\"}],\"scattercarpet\":[{\"marker\":{\"colorbar\":{\"outlinewidth\":0,\"ticks\":\"\"}},\"type\":\"scattercarpet\"}],\"scattergeo\":[{\"marker\":{\"colorbar\":{\"outlinewidth\":0,\"ticks\":\"\"}},\"type\":\"scattergeo\"}],\"scattergl\":[{\"marker\":{\"colorbar\":{\"outlinewidth\":0,\"ticks\":\"\"}},\"type\":\"scattergl\"}],\"scattermapbox\":[{\"marker\":{\"colorbar\":{\"outlinewidth\":0,\"ticks\":\"\"}},\"type\":\"scattermapbox\"}],\"scatterpolar\":[{\"marker\":{\"colorbar\":{\"outlinewidth\":0,\"ticks\":\"\"}},\"type\":\"scatterpolar\"}],\"scatterpolargl\":[{\"marker\":{\"colorbar\":{\"outlinewidth\":0,\"ticks\":\"\"}},\"type\":\"scatterpolargl\"}],\"scatterternary\":[{\"marker\":{\"colorbar\":{\"outlinewidth\":0,\"ticks\":\"\"}},\"type\":\"scatterternary\"}],\"surface\":[{\"colorbar\":{\"outlinewidth\":0,\"ticks\":\"\"},\"colorscale\":[[0.0,\"#0d0887\"],[0.1111111111111111,\"#46039f\"],[0.2222222222222222,\"#7201a8\"],[0.3333333333333333,\"#9c179e\"],[0.4444444444444444,\"#bd3786\"],[0.5555555555555556,\"#d8576b\"],[0.6666666666666666,\"#ed7953\"],[0.7777777777777778,\"#fb9f3a\"],[0.8888888888888888,\"#fdca26\"],[1.0,\"#f0f921\"]],\"type\":\"surface\"}],\"table\":[{\"cells\":{\"fill\":{\"color\":\"#EBF0F8\"},\"line\":{\"color\":\"white\"}},\"header\":{\"fill\":{\"color\":\"#C8D4E3\"},\"line\":{\"color\":\"white\"}},\"type\":\"table\"}]},\"layout\":{\"annotationdefaults\":{\"arrowcolor\":\"#2a3f5f\",\"arrowhead\":0,\"arrowwidth\":1},\"autotypenumbers\":\"strict\",\"coloraxis\":{\"colorbar\":{\"outlinewidth\":0,\"ticks\":\"\"}},\"colorscale\":{\"diverging\":[[0,\"#8e0152\"],[0.1,\"#c51b7d\"],[0.2,\"#de77ae\"],[0.3,\"#f1b6da\"],[0.4,\"#fde0ef\"],[0.5,\"#f7f7f7\"],[0.6,\"#e6f5d0\"],[0.7,\"#b8e186\"],[0.8,\"#7fbc41\"],[0.9,\"#4d9221\"],[1,\"#276419\"]],\"sequential\":[[0.0,\"#0d0887\"],[0.1111111111111111,\"#46039f\"],[0.2222222222222222,\"#7201a8\"],[0.3333333333333333,\"#9c179e\"],[0.4444444444444444,\"#bd3786\"],[0.5555555555555556,\"#d8576b\"],[0.6666666666666666,\"#ed7953\"],[0.7777777777777778,\"#fb9f3a\"],[0.8888888888888888,\"#fdca26\"],[1.0,\"#f0f921\"]],\"sequentialminus\":[[0.0,\"#0d0887\"],[0.1111111111111111,\"#46039f\"],[0.2222222222222222,\"#7201a8\"],[0.3333333333333333,\"#9c179e\"],[0.4444444444444444,\"#bd3786\"],[0.5555555555555556,\"#d8576b\"],[0.6666666666666666,\"#ed7953\"],[0.7777777777777778,\"#fb9f3a\"],[0.8888888888888888,\"#fdca26\"],[1.0,\"#f0f921\"]]},\"colorway\":[\"#636efa\",\"#EF553B\",\"#00cc96\",\"#ab63fa\",\"#FFA15A\",\"#19d3f3\",\"#FF6692\",\"#B6E880\",\"#FF97FF\",\"#FECB52\"],\"font\":{\"color\":\"#2a3f5f\"},\"geo\":{\"bgcolor\":\"white\",\"lakecolor\":\"white\",\"landcolor\":\"#E5ECF6\",\"showlakes\":true,\"showland\":true,\"subunitcolor\":\"white\"},\"hoverlabel\":{\"align\":\"left\"},\"hovermode\":\"closest\",\"mapbox\":{\"style\":\"light\"},\"paper_bgcolor\":\"white\",\"plot_bgcolor\":\"#E5ECF6\",\"polar\":{\"angularaxis\":{\"gridcolor\":\"white\",\"linecolor\":\"white\",\"ticks\":\"\"},\"bgcolor\":\"#E5ECF6\",\"radialaxis\":{\"gridcolor\":\"white\",\"linecolor\":\"white\",\"ticks\":\"\"}},\"scene\":{\"xaxis\":{\"backgroundcolor\":\"#E5ECF6\",\"gridcolor\":\"white\",\"gridwidth\":2,\"linecolor\":\"white\",\"showbackground\":true,\"ticks\":\"\",\"zerolinecolor\":\"white\"},\"yaxis\":{\"backgroundcolor\":\"#E5ECF6\",\"gridcolor\":\"white\",\"gridwidth\":2,\"linecolor\":\"white\",\"showbackground\":true,\"ticks\":\"\",\"zerolinecolor\":\"white\"},\"zaxis\":{\"backgroundcolor\":\"#E5ECF6\",\"gridcolor\":\"white\",\"gridwidth\":2,\"linecolor\":\"white\",\"showbackground\":true,\"ticks\":\"\",\"zerolinecolor\":\"white\"}},\"shapedefaults\":{\"line\":{\"color\":\"#2a3f5f\"}},\"ternary\":{\"aaxis\":{\"gridcolor\":\"white\",\"linecolor\":\"white\",\"ticks\":\"\"},\"baxis\":{\"gridcolor\":\"white\",\"linecolor\":\"white\",\"ticks\":\"\"},\"bgcolor\":\"#E5ECF6\",\"caxis\":{\"gridcolor\":\"white\",\"linecolor\":\"white\",\"ticks\":\"\"}},\"title\":{\"x\":0.05},\"xaxis\":{\"automargin\":true,\"gridcolor\":\"white\",\"linecolor\":\"white\",\"ticks\":\"\",\"title\":{\"standoff\":15},\"zerolinecolor\":\"white\",\"zerolinewidth\":2},\"yaxis\":{\"automargin\":true,\"gridcolor\":\"white\",\"linecolor\":\"white\",\"ticks\":\"\",\"title\":{\"standoff\":15},\"zerolinecolor\":\"white\",\"zerolinewidth\":2}}},\"title\":{\"font\":{\"color\":\"#351f39\",\"family\":\"Courier New\"},\"text\":\"State and Constituency by total electors\"},\"xaxis\":{\"title\":{\"text\":\"Party\"}},\"yaxis\":{\"title\":{\"text\":\"Seats\"}}},                        {\"responsive\": true}                    ).then(function(){\n",
       "                            \n",
       "var gd = document.getElementById('7396a6f8-6f0d-4966-85e3-0535f44f1fbc');\n",
       "var x = new MutationObserver(function (mutations, observer) {{\n",
       "        var display = window.getComputedStyle(gd).display;\n",
       "        if (!display || display === 'none') {{\n",
       "            console.log([gd, 'removed!']);\n",
       "            Plotly.purge(gd);\n",
       "            observer.disconnect();\n",
       "        }}\n",
       "}});\n",
       "\n",
       "// Listen for the removal of the full notebook cells\n",
       "var notebookContainer = gd.closest('#notebook-container');\n",
       "if (notebookContainer) {{\n",
       "    x.observe(notebookContainer, {childList: true});\n",
       "}}\n",
       "\n",
       "// Listen for the clearing of the current output cell\n",
       "var outputEl = gd.closest('.output');\n",
       "if (outputEl) {{\n",
       "    x.observe(outputEl, {childList: true});\n",
       "}}\n",
       "\n",
       "                        })                };                });            </script>        </div>"
      ]
     },
     "metadata": {},
     "output_type": "display_data"
    }
   ],
   "source": [
    "state_df = df[['STATE','CONSTITUENCY','TOTAL ELECTORS']]\n",
    "state_fig = px.sunburst(state_df, \n",
    "                        path=['STATE','CONSTITUENCY'], \n",
    "                        values='TOTAL ELECTORS',\n",
    "                        color='TOTAL ELECTORS',\n",
    "                        color_continuous_scale='Oryel')\n",
    "state_fig.update_layout(title_text='State and Constituency by total electors',\n",
    "                       font_family=\"Courier New\",\n",
    "                         font_color=\"#351f39\",\n",
    "                         title_font_family=\"Courier New\",\n",
    "                         title_font_color=\"#351f39\",\n",
    "                         xaxis_title=\"Party\",\n",
    "                         yaxis_title=\"Seats\")\n",
    "state_fig.show()"
   ]
  },
  {
   "cell_type": "markdown",
   "metadata": {},
   "source": [
    "### 6.2 Lok Sabha 2019 Election Results : Top 20 Political Parties"
   ]
  },
  {
   "cell_type": "code",
   "execution_count": 21,
   "metadata": {},
   "outputs": [
    {
     "data": {
      "application/vnd.plotly.v1+json": {
       "config": {
        "plotlyServerURL": "https://plot.ly"
       },
       "data": [
        {
         "alignmentgroup": "True",
         "hovertemplate": "x=%{x}<br>y=%{y}<br>color=%{marker.color}<extra></extra>",
         "legendgroup": "",
         "marker": {
          "color": [
           300,
           52,
           23,
           22,
           22,
           18,
           16,
           11,
           11,
           9,
           6,
           5,
           5,
           5,
           4,
           3,
           3,
           3,
           2,
           2
          ],
          "coloraxis": "coloraxis",
          "pattern": {
           "shape": ""
          }
         },
         "name": "",
         "offsetgroup": "",
         "orientation": "v",
         "showlegend": false,
         "textposition": "auto",
         "type": "bar",
         "x": [
          "BJP",
          "INC",
          "DMK",
          "AITC",
          "YSRCP",
          "SHS",
          "JD(U)",
          "BJD",
          "BSP",
          "TRS",
          "LJP",
          "NCP",
          "SP",
          "CPI(M)",
          "IND",
          "IUML",
          "TDP",
          "JKN",
          "ADAL",
          "AIMIM"
         ],
         "xaxis": "x",
         "y": [
          300,
          52,
          23,
          22,
          22,
          18,
          16,
          11,
          11,
          9,
          6,
          5,
          5,
          5,
          4,
          3,
          3,
          3,
          2,
          2
         ],
         "yaxis": "y"
        }
       ],
       "layout": {
        "barmode": "relative",
        "coloraxis": {
         "colorbar": {
          "title": {
           "text": "color"
          }
         },
         "colorscale": [
          [
           0,
           "rgb(236, 218, 154)"
          ],
          [
           0.16666666666666666,
           "rgb(239, 196, 126)"
          ],
          [
           0.3333333333333333,
           "rgb(243, 173, 106)"
          ],
          [
           0.5,
           "rgb(247, 148, 93)"
          ],
          [
           0.6666666666666666,
           "rgb(249, 123, 87)"
          ],
          [
           0.8333333333333334,
           "rgb(246, 99, 86)"
          ],
          [
           1,
           "rgb(238, 77, 90)"
          ]
         ]
        },
        "font": {
         "color": "#351f39",
         "family": "Courier New"
        },
        "height": 500,
        "legend": {
         "tracegroupgap": 0
        },
        "margin": {
         "t": 60
        },
        "template": {
         "data": {
          "bar": [
           {
            "error_x": {
             "color": "#2a3f5f"
            },
            "error_y": {
             "color": "#2a3f5f"
            },
            "marker": {
             "line": {
              "color": "#E5ECF6",
              "width": 0.5
             },
             "pattern": {
              "fillmode": "overlay",
              "size": 10,
              "solidity": 0.2
             }
            },
            "type": "bar"
           }
          ],
          "barpolar": [
           {
            "marker": {
             "line": {
              "color": "#E5ECF6",
              "width": 0.5
             },
             "pattern": {
              "fillmode": "overlay",
              "size": 10,
              "solidity": 0.2
             }
            },
            "type": "barpolar"
           }
          ],
          "carpet": [
           {
            "aaxis": {
             "endlinecolor": "#2a3f5f",
             "gridcolor": "white",
             "linecolor": "white",
             "minorgridcolor": "white",
             "startlinecolor": "#2a3f5f"
            },
            "baxis": {
             "endlinecolor": "#2a3f5f",
             "gridcolor": "white",
             "linecolor": "white",
             "minorgridcolor": "white",
             "startlinecolor": "#2a3f5f"
            },
            "type": "carpet"
           }
          ],
          "choropleth": [
           {
            "colorbar": {
             "outlinewidth": 0,
             "ticks": ""
            },
            "type": "choropleth"
           }
          ],
          "contour": [
           {
            "colorbar": {
             "outlinewidth": 0,
             "ticks": ""
            },
            "colorscale": [
             [
              0,
              "#0d0887"
             ],
             [
              0.1111111111111111,
              "#46039f"
             ],
             [
              0.2222222222222222,
              "#7201a8"
             ],
             [
              0.3333333333333333,
              "#9c179e"
             ],
             [
              0.4444444444444444,
              "#bd3786"
             ],
             [
              0.5555555555555556,
              "#d8576b"
             ],
             [
              0.6666666666666666,
              "#ed7953"
             ],
             [
              0.7777777777777778,
              "#fb9f3a"
             ],
             [
              0.8888888888888888,
              "#fdca26"
             ],
             [
              1,
              "#f0f921"
             ]
            ],
            "type": "contour"
           }
          ],
          "contourcarpet": [
           {
            "colorbar": {
             "outlinewidth": 0,
             "ticks": ""
            },
            "type": "contourcarpet"
           }
          ],
          "heatmap": [
           {
            "colorbar": {
             "outlinewidth": 0,
             "ticks": ""
            },
            "colorscale": [
             [
              0,
              "#0d0887"
             ],
             [
              0.1111111111111111,
              "#46039f"
             ],
             [
              0.2222222222222222,
              "#7201a8"
             ],
             [
              0.3333333333333333,
              "#9c179e"
             ],
             [
              0.4444444444444444,
              "#bd3786"
             ],
             [
              0.5555555555555556,
              "#d8576b"
             ],
             [
              0.6666666666666666,
              "#ed7953"
             ],
             [
              0.7777777777777778,
              "#fb9f3a"
             ],
             [
              0.8888888888888888,
              "#fdca26"
             ],
             [
              1,
              "#f0f921"
             ]
            ],
            "type": "heatmap"
           }
          ],
          "heatmapgl": [
           {
            "colorbar": {
             "outlinewidth": 0,
             "ticks": ""
            },
            "colorscale": [
             [
              0,
              "#0d0887"
             ],
             [
              0.1111111111111111,
              "#46039f"
             ],
             [
              0.2222222222222222,
              "#7201a8"
             ],
             [
              0.3333333333333333,
              "#9c179e"
             ],
             [
              0.4444444444444444,
              "#bd3786"
             ],
             [
              0.5555555555555556,
              "#d8576b"
             ],
             [
              0.6666666666666666,
              "#ed7953"
             ],
             [
              0.7777777777777778,
              "#fb9f3a"
             ],
             [
              0.8888888888888888,
              "#fdca26"
             ],
             [
              1,
              "#f0f921"
             ]
            ],
            "type": "heatmapgl"
           }
          ],
          "histogram": [
           {
            "marker": {
             "pattern": {
              "fillmode": "overlay",
              "size": 10,
              "solidity": 0.2
             }
            },
            "type": "histogram"
           }
          ],
          "histogram2d": [
           {
            "colorbar": {
             "outlinewidth": 0,
             "ticks": ""
            },
            "colorscale": [
             [
              0,
              "#0d0887"
             ],
             [
              0.1111111111111111,
              "#46039f"
             ],
             [
              0.2222222222222222,
              "#7201a8"
             ],
             [
              0.3333333333333333,
              "#9c179e"
             ],
             [
              0.4444444444444444,
              "#bd3786"
             ],
             [
              0.5555555555555556,
              "#d8576b"
             ],
             [
              0.6666666666666666,
              "#ed7953"
             ],
             [
              0.7777777777777778,
              "#fb9f3a"
             ],
             [
              0.8888888888888888,
              "#fdca26"
             ],
             [
              1,
              "#f0f921"
             ]
            ],
            "type": "histogram2d"
           }
          ],
          "histogram2dcontour": [
           {
            "colorbar": {
             "outlinewidth": 0,
             "ticks": ""
            },
            "colorscale": [
             [
              0,
              "#0d0887"
             ],
             [
              0.1111111111111111,
              "#46039f"
             ],
             [
              0.2222222222222222,
              "#7201a8"
             ],
             [
              0.3333333333333333,
              "#9c179e"
             ],
             [
              0.4444444444444444,
              "#bd3786"
             ],
             [
              0.5555555555555556,
              "#d8576b"
             ],
             [
              0.6666666666666666,
              "#ed7953"
             ],
             [
              0.7777777777777778,
              "#fb9f3a"
             ],
             [
              0.8888888888888888,
              "#fdca26"
             ],
             [
              1,
              "#f0f921"
             ]
            ],
            "type": "histogram2dcontour"
           }
          ],
          "mesh3d": [
           {
            "colorbar": {
             "outlinewidth": 0,
             "ticks": ""
            },
            "type": "mesh3d"
           }
          ],
          "parcoords": [
           {
            "line": {
             "colorbar": {
              "outlinewidth": 0,
              "ticks": ""
             }
            },
            "type": "parcoords"
           }
          ],
          "pie": [
           {
            "automargin": true,
            "type": "pie"
           }
          ],
          "scatter": [
           {
            "marker": {
             "colorbar": {
              "outlinewidth": 0,
              "ticks": ""
             }
            },
            "type": "scatter"
           }
          ],
          "scatter3d": [
           {
            "line": {
             "colorbar": {
              "outlinewidth": 0,
              "ticks": ""
             }
            },
            "marker": {
             "colorbar": {
              "outlinewidth": 0,
              "ticks": ""
             }
            },
            "type": "scatter3d"
           }
          ],
          "scattercarpet": [
           {
            "marker": {
             "colorbar": {
              "outlinewidth": 0,
              "ticks": ""
             }
            },
            "type": "scattercarpet"
           }
          ],
          "scattergeo": [
           {
            "marker": {
             "colorbar": {
              "outlinewidth": 0,
              "ticks": ""
             }
            },
            "type": "scattergeo"
           }
          ],
          "scattergl": [
           {
            "marker": {
             "colorbar": {
              "outlinewidth": 0,
              "ticks": ""
             }
            },
            "type": "scattergl"
           }
          ],
          "scattermapbox": [
           {
            "marker": {
             "colorbar": {
              "outlinewidth": 0,
              "ticks": ""
             }
            },
            "type": "scattermapbox"
           }
          ],
          "scatterpolar": [
           {
            "marker": {
             "colorbar": {
              "outlinewidth": 0,
              "ticks": ""
             }
            },
            "type": "scatterpolar"
           }
          ],
          "scatterpolargl": [
           {
            "marker": {
             "colorbar": {
              "outlinewidth": 0,
              "ticks": ""
             }
            },
            "type": "scatterpolargl"
           }
          ],
          "scatterternary": [
           {
            "marker": {
             "colorbar": {
              "outlinewidth": 0,
              "ticks": ""
             }
            },
            "type": "scatterternary"
           }
          ],
          "surface": [
           {
            "colorbar": {
             "outlinewidth": 0,
             "ticks": ""
            },
            "colorscale": [
             [
              0,
              "#0d0887"
             ],
             [
              0.1111111111111111,
              "#46039f"
             ],
             [
              0.2222222222222222,
              "#7201a8"
             ],
             [
              0.3333333333333333,
              "#9c179e"
             ],
             [
              0.4444444444444444,
              "#bd3786"
             ],
             [
              0.5555555555555556,
              "#d8576b"
             ],
             [
              0.6666666666666666,
              "#ed7953"
             ],
             [
              0.7777777777777778,
              "#fb9f3a"
             ],
             [
              0.8888888888888888,
              "#fdca26"
             ],
             [
              1,
              "#f0f921"
             ]
            ],
            "type": "surface"
           }
          ],
          "table": [
           {
            "cells": {
             "fill": {
              "color": "#EBF0F8"
             },
             "line": {
              "color": "white"
             }
            },
            "header": {
             "fill": {
              "color": "#C8D4E3"
             },
             "line": {
              "color": "white"
             }
            },
            "type": "table"
           }
          ]
         },
         "layout": {
          "annotationdefaults": {
           "arrowcolor": "#2a3f5f",
           "arrowhead": 0,
           "arrowwidth": 1
          },
          "autotypenumbers": "strict",
          "coloraxis": {
           "colorbar": {
            "outlinewidth": 0,
            "ticks": ""
           }
          },
          "colorscale": {
           "diverging": [
            [
             0,
             "#8e0152"
            ],
            [
             0.1,
             "#c51b7d"
            ],
            [
             0.2,
             "#de77ae"
            ],
            [
             0.3,
             "#f1b6da"
            ],
            [
             0.4,
             "#fde0ef"
            ],
            [
             0.5,
             "#f7f7f7"
            ],
            [
             0.6,
             "#e6f5d0"
            ],
            [
             0.7,
             "#b8e186"
            ],
            [
             0.8,
             "#7fbc41"
            ],
            [
             0.9,
             "#4d9221"
            ],
            [
             1,
             "#276419"
            ]
           ],
           "sequential": [
            [
             0,
             "#0d0887"
            ],
            [
             0.1111111111111111,
             "#46039f"
            ],
            [
             0.2222222222222222,
             "#7201a8"
            ],
            [
             0.3333333333333333,
             "#9c179e"
            ],
            [
             0.4444444444444444,
             "#bd3786"
            ],
            [
             0.5555555555555556,
             "#d8576b"
            ],
            [
             0.6666666666666666,
             "#ed7953"
            ],
            [
             0.7777777777777778,
             "#fb9f3a"
            ],
            [
             0.8888888888888888,
             "#fdca26"
            ],
            [
             1,
             "#f0f921"
            ]
           ],
           "sequentialminus": [
            [
             0,
             "#0d0887"
            ],
            [
             0.1111111111111111,
             "#46039f"
            ],
            [
             0.2222222222222222,
             "#7201a8"
            ],
            [
             0.3333333333333333,
             "#9c179e"
            ],
            [
             0.4444444444444444,
             "#bd3786"
            ],
            [
             0.5555555555555556,
             "#d8576b"
            ],
            [
             0.6666666666666666,
             "#ed7953"
            ],
            [
             0.7777777777777778,
             "#fb9f3a"
            ],
            [
             0.8888888888888888,
             "#fdca26"
            ],
            [
             1,
             "#f0f921"
            ]
           ]
          },
          "colorway": [
           "#636efa",
           "#EF553B",
           "#00cc96",
           "#ab63fa",
           "#FFA15A",
           "#19d3f3",
           "#FF6692",
           "#B6E880",
           "#FF97FF",
           "#FECB52"
          ],
          "font": {
           "color": "#2a3f5f"
          },
          "geo": {
           "bgcolor": "white",
           "lakecolor": "white",
           "landcolor": "#E5ECF6",
           "showlakes": true,
           "showland": true,
           "subunitcolor": "white"
          },
          "hoverlabel": {
           "align": "left"
          },
          "hovermode": "closest",
          "mapbox": {
           "style": "light"
          },
          "paper_bgcolor": "white",
          "plot_bgcolor": "#E5ECF6",
          "polar": {
           "angularaxis": {
            "gridcolor": "white",
            "linecolor": "white",
            "ticks": ""
           },
           "bgcolor": "#E5ECF6",
           "radialaxis": {
            "gridcolor": "white",
            "linecolor": "white",
            "ticks": ""
           }
          },
          "scene": {
           "xaxis": {
            "backgroundcolor": "#E5ECF6",
            "gridcolor": "white",
            "gridwidth": 2,
            "linecolor": "white",
            "showbackground": true,
            "ticks": "",
            "zerolinecolor": "white"
           },
           "yaxis": {
            "backgroundcolor": "#E5ECF6",
            "gridcolor": "white",
            "gridwidth": 2,
            "linecolor": "white",
            "showbackground": true,
            "ticks": "",
            "zerolinecolor": "white"
           },
           "zaxis": {
            "backgroundcolor": "#E5ECF6",
            "gridcolor": "white",
            "gridwidth": 2,
            "linecolor": "white",
            "showbackground": true,
            "ticks": "",
            "zerolinecolor": "white"
           }
          },
          "shapedefaults": {
           "line": {
            "color": "#2a3f5f"
           }
          },
          "ternary": {
           "aaxis": {
            "gridcolor": "white",
            "linecolor": "white",
            "ticks": ""
           },
           "baxis": {
            "gridcolor": "white",
            "linecolor": "white",
            "ticks": ""
           },
           "bgcolor": "#E5ECF6",
           "caxis": {
            "gridcolor": "white",
            "linecolor": "white",
            "ticks": ""
           }
          },
          "title": {
           "x": 0.05
          },
          "xaxis": {
           "automargin": true,
           "gridcolor": "white",
           "linecolor": "white",
           "ticks": "",
           "title": {
            "standoff": 15
           },
           "zerolinecolor": "white",
           "zerolinewidth": 2
          },
          "yaxis": {
           "automargin": true,
           "gridcolor": "white",
           "linecolor": "white",
           "ticks": "",
           "title": {
            "standoff": 15
           },
           "zerolinecolor": "white",
           "zerolinewidth": 2
          }
         }
        },
        "title": {
         "font": {
          "color": "#351f39",
          "family": "Courier New"
         },
         "text": "Top 20 Party-wise election results"
        },
        "xaxis": {
         "anchor": "y",
         "domain": [
          0,
          1
         ],
         "title": {
          "text": "Party"
         }
        },
        "yaxis": {
         "anchor": "x",
         "domain": [
          0,
          1
         ],
         "title": {
          "text": "Seats"
         }
        }
       }
      },
      "text/html": [
       "<div>                            <div id=\"99ad2f6b-c8a2-4251-be05-3fd3f3f60d1b\" class=\"plotly-graph-div\" style=\"height:500px; width:100%;\"></div>            <script type=\"text/javascript\">                require([\"plotly\"], function(Plotly) {                    window.PLOTLYENV=window.PLOTLYENV || {};                                    if (document.getElementById(\"99ad2f6b-c8a2-4251-be05-3fd3f3f60d1b\")) {                    Plotly.newPlot(                        \"99ad2f6b-c8a2-4251-be05-3fd3f3f60d1b\",                        [{\"alignmentgroup\":\"True\",\"hovertemplate\":\"x=%{x}<br>y=%{y}<br>color=%{marker.color}<extra></extra>\",\"legendgroup\":\"\",\"marker\":{\"color\":[300,52,23,22,22,18,16,11,11,9,6,5,5,5,4,3,3,3,2,2],\"coloraxis\":\"coloraxis\",\"pattern\":{\"shape\":\"\"}},\"name\":\"\",\"offsetgroup\":\"\",\"orientation\":\"v\",\"showlegend\":false,\"textposition\":\"auto\",\"type\":\"bar\",\"x\":[\"BJP\",\"INC\",\"DMK\",\"AITC\",\"YSRCP\",\"SHS\",\"JD(U)\",\"BJD\",\"BSP\",\"TRS\",\"LJP\",\"NCP\",\"SP\",\"CPI(M)\",\"IND\",\"IUML\",\"TDP\",\"JKN\",\"ADAL\",\"AIMIM\"],\"xaxis\":\"x\",\"y\":[300,52,23,22,22,18,16,11,11,9,6,5,5,5,4,3,3,3,2,2],\"yaxis\":\"y\"}],                        {\"barmode\":\"relative\",\"coloraxis\":{\"colorbar\":{\"title\":{\"text\":\"color\"}},\"colorscale\":[[0.0,\"rgb(236, 218, 154)\"],[0.16666666666666666,\"rgb(239, 196, 126)\"],[0.3333333333333333,\"rgb(243, 173, 106)\"],[0.5,\"rgb(247, 148, 93)\"],[0.6666666666666666,\"rgb(249, 123, 87)\"],[0.8333333333333334,\"rgb(246, 99, 86)\"],[1.0,\"rgb(238, 77, 90)\"]]},\"font\":{\"color\":\"#351f39\",\"family\":\"Courier New\"},\"height\":500,\"legend\":{\"tracegroupgap\":0},\"margin\":{\"t\":60},\"template\":{\"data\":{\"bar\":[{\"error_x\":{\"color\":\"#2a3f5f\"},\"error_y\":{\"color\":\"#2a3f5f\"},\"marker\":{\"line\":{\"color\":\"#E5ECF6\",\"width\":0.5},\"pattern\":{\"fillmode\":\"overlay\",\"size\":10,\"solidity\":0.2}},\"type\":\"bar\"}],\"barpolar\":[{\"marker\":{\"line\":{\"color\":\"#E5ECF6\",\"width\":0.5},\"pattern\":{\"fillmode\":\"overlay\",\"size\":10,\"solidity\":0.2}},\"type\":\"barpolar\"}],\"carpet\":[{\"aaxis\":{\"endlinecolor\":\"#2a3f5f\",\"gridcolor\":\"white\",\"linecolor\":\"white\",\"minorgridcolor\":\"white\",\"startlinecolor\":\"#2a3f5f\"},\"baxis\":{\"endlinecolor\":\"#2a3f5f\",\"gridcolor\":\"white\",\"linecolor\":\"white\",\"minorgridcolor\":\"white\",\"startlinecolor\":\"#2a3f5f\"},\"type\":\"carpet\"}],\"choropleth\":[{\"colorbar\":{\"outlinewidth\":0,\"ticks\":\"\"},\"type\":\"choropleth\"}],\"contour\":[{\"colorbar\":{\"outlinewidth\":0,\"ticks\":\"\"},\"colorscale\":[[0.0,\"#0d0887\"],[0.1111111111111111,\"#46039f\"],[0.2222222222222222,\"#7201a8\"],[0.3333333333333333,\"#9c179e\"],[0.4444444444444444,\"#bd3786\"],[0.5555555555555556,\"#d8576b\"],[0.6666666666666666,\"#ed7953\"],[0.7777777777777778,\"#fb9f3a\"],[0.8888888888888888,\"#fdca26\"],[1.0,\"#f0f921\"]],\"type\":\"contour\"}],\"contourcarpet\":[{\"colorbar\":{\"outlinewidth\":0,\"ticks\":\"\"},\"type\":\"contourcarpet\"}],\"heatmap\":[{\"colorbar\":{\"outlinewidth\":0,\"ticks\":\"\"},\"colorscale\":[[0.0,\"#0d0887\"],[0.1111111111111111,\"#46039f\"],[0.2222222222222222,\"#7201a8\"],[0.3333333333333333,\"#9c179e\"],[0.4444444444444444,\"#bd3786\"],[0.5555555555555556,\"#d8576b\"],[0.6666666666666666,\"#ed7953\"],[0.7777777777777778,\"#fb9f3a\"],[0.8888888888888888,\"#fdca26\"],[1.0,\"#f0f921\"]],\"type\":\"heatmap\"}],\"heatmapgl\":[{\"colorbar\":{\"outlinewidth\":0,\"ticks\":\"\"},\"colorscale\":[[0.0,\"#0d0887\"],[0.1111111111111111,\"#46039f\"],[0.2222222222222222,\"#7201a8\"],[0.3333333333333333,\"#9c179e\"],[0.4444444444444444,\"#bd3786\"],[0.5555555555555556,\"#d8576b\"],[0.6666666666666666,\"#ed7953\"],[0.7777777777777778,\"#fb9f3a\"],[0.8888888888888888,\"#fdca26\"],[1.0,\"#f0f921\"]],\"type\":\"heatmapgl\"}],\"histogram\":[{\"marker\":{\"pattern\":{\"fillmode\":\"overlay\",\"size\":10,\"solidity\":0.2}},\"type\":\"histogram\"}],\"histogram2d\":[{\"colorbar\":{\"outlinewidth\":0,\"ticks\":\"\"},\"colorscale\":[[0.0,\"#0d0887\"],[0.1111111111111111,\"#46039f\"],[0.2222222222222222,\"#7201a8\"],[0.3333333333333333,\"#9c179e\"],[0.4444444444444444,\"#bd3786\"],[0.5555555555555556,\"#d8576b\"],[0.6666666666666666,\"#ed7953\"],[0.7777777777777778,\"#fb9f3a\"],[0.8888888888888888,\"#fdca26\"],[1.0,\"#f0f921\"]],\"type\":\"histogram2d\"}],\"histogram2dcontour\":[{\"colorbar\":{\"outlinewidth\":0,\"ticks\":\"\"},\"colorscale\":[[0.0,\"#0d0887\"],[0.1111111111111111,\"#46039f\"],[0.2222222222222222,\"#7201a8\"],[0.3333333333333333,\"#9c179e\"],[0.4444444444444444,\"#bd3786\"],[0.5555555555555556,\"#d8576b\"],[0.6666666666666666,\"#ed7953\"],[0.7777777777777778,\"#fb9f3a\"],[0.8888888888888888,\"#fdca26\"],[1.0,\"#f0f921\"]],\"type\":\"histogram2dcontour\"}],\"mesh3d\":[{\"colorbar\":{\"outlinewidth\":0,\"ticks\":\"\"},\"type\":\"mesh3d\"}],\"parcoords\":[{\"line\":{\"colorbar\":{\"outlinewidth\":0,\"ticks\":\"\"}},\"type\":\"parcoords\"}],\"pie\":[{\"automargin\":true,\"type\":\"pie\"}],\"scatter\":[{\"marker\":{\"colorbar\":{\"outlinewidth\":0,\"ticks\":\"\"}},\"type\":\"scatter\"}],\"scatter3d\":[{\"line\":{\"colorbar\":{\"outlinewidth\":0,\"ticks\":\"\"}},\"marker\":{\"colorbar\":{\"outlinewidth\":0,\"ticks\":\"\"}},\"type\":\"scatter3d\"}],\"scattercarpet\":[{\"marker\":{\"colorbar\":{\"outlinewidth\":0,\"ticks\":\"\"}},\"type\":\"scattercarpet\"}],\"scattergeo\":[{\"marker\":{\"colorbar\":{\"outlinewidth\":0,\"ticks\":\"\"}},\"type\":\"scattergeo\"}],\"scattergl\":[{\"marker\":{\"colorbar\":{\"outlinewidth\":0,\"ticks\":\"\"}},\"type\":\"scattergl\"}],\"scattermapbox\":[{\"marker\":{\"colorbar\":{\"outlinewidth\":0,\"ticks\":\"\"}},\"type\":\"scattermapbox\"}],\"scatterpolar\":[{\"marker\":{\"colorbar\":{\"outlinewidth\":0,\"ticks\":\"\"}},\"type\":\"scatterpolar\"}],\"scatterpolargl\":[{\"marker\":{\"colorbar\":{\"outlinewidth\":0,\"ticks\":\"\"}},\"type\":\"scatterpolargl\"}],\"scatterternary\":[{\"marker\":{\"colorbar\":{\"outlinewidth\":0,\"ticks\":\"\"}},\"type\":\"scatterternary\"}],\"surface\":[{\"colorbar\":{\"outlinewidth\":0,\"ticks\":\"\"},\"colorscale\":[[0.0,\"#0d0887\"],[0.1111111111111111,\"#46039f\"],[0.2222222222222222,\"#7201a8\"],[0.3333333333333333,\"#9c179e\"],[0.4444444444444444,\"#bd3786\"],[0.5555555555555556,\"#d8576b\"],[0.6666666666666666,\"#ed7953\"],[0.7777777777777778,\"#fb9f3a\"],[0.8888888888888888,\"#fdca26\"],[1.0,\"#f0f921\"]],\"type\":\"surface\"}],\"table\":[{\"cells\":{\"fill\":{\"color\":\"#EBF0F8\"},\"line\":{\"color\":\"white\"}},\"header\":{\"fill\":{\"color\":\"#C8D4E3\"},\"line\":{\"color\":\"white\"}},\"type\":\"table\"}]},\"layout\":{\"annotationdefaults\":{\"arrowcolor\":\"#2a3f5f\",\"arrowhead\":0,\"arrowwidth\":1},\"autotypenumbers\":\"strict\",\"coloraxis\":{\"colorbar\":{\"outlinewidth\":0,\"ticks\":\"\"}},\"colorscale\":{\"diverging\":[[0,\"#8e0152\"],[0.1,\"#c51b7d\"],[0.2,\"#de77ae\"],[0.3,\"#f1b6da\"],[0.4,\"#fde0ef\"],[0.5,\"#f7f7f7\"],[0.6,\"#e6f5d0\"],[0.7,\"#b8e186\"],[0.8,\"#7fbc41\"],[0.9,\"#4d9221\"],[1,\"#276419\"]],\"sequential\":[[0.0,\"#0d0887\"],[0.1111111111111111,\"#46039f\"],[0.2222222222222222,\"#7201a8\"],[0.3333333333333333,\"#9c179e\"],[0.4444444444444444,\"#bd3786\"],[0.5555555555555556,\"#d8576b\"],[0.6666666666666666,\"#ed7953\"],[0.7777777777777778,\"#fb9f3a\"],[0.8888888888888888,\"#fdca26\"],[1.0,\"#f0f921\"]],\"sequentialminus\":[[0.0,\"#0d0887\"],[0.1111111111111111,\"#46039f\"],[0.2222222222222222,\"#7201a8\"],[0.3333333333333333,\"#9c179e\"],[0.4444444444444444,\"#bd3786\"],[0.5555555555555556,\"#d8576b\"],[0.6666666666666666,\"#ed7953\"],[0.7777777777777778,\"#fb9f3a\"],[0.8888888888888888,\"#fdca26\"],[1.0,\"#f0f921\"]]},\"colorway\":[\"#636efa\",\"#EF553B\",\"#00cc96\",\"#ab63fa\",\"#FFA15A\",\"#19d3f3\",\"#FF6692\",\"#B6E880\",\"#FF97FF\",\"#FECB52\"],\"font\":{\"color\":\"#2a3f5f\"},\"geo\":{\"bgcolor\":\"white\",\"lakecolor\":\"white\",\"landcolor\":\"#E5ECF6\",\"showlakes\":true,\"showland\":true,\"subunitcolor\":\"white\"},\"hoverlabel\":{\"align\":\"left\"},\"hovermode\":\"closest\",\"mapbox\":{\"style\":\"light\"},\"paper_bgcolor\":\"white\",\"plot_bgcolor\":\"#E5ECF6\",\"polar\":{\"angularaxis\":{\"gridcolor\":\"white\",\"linecolor\":\"white\",\"ticks\":\"\"},\"bgcolor\":\"#E5ECF6\",\"radialaxis\":{\"gridcolor\":\"white\",\"linecolor\":\"white\",\"ticks\":\"\"}},\"scene\":{\"xaxis\":{\"backgroundcolor\":\"#E5ECF6\",\"gridcolor\":\"white\",\"gridwidth\":2,\"linecolor\":\"white\",\"showbackground\":true,\"ticks\":\"\",\"zerolinecolor\":\"white\"},\"yaxis\":{\"backgroundcolor\":\"#E5ECF6\",\"gridcolor\":\"white\",\"gridwidth\":2,\"linecolor\":\"white\",\"showbackground\":true,\"ticks\":\"\",\"zerolinecolor\":\"white\"},\"zaxis\":{\"backgroundcolor\":\"#E5ECF6\",\"gridcolor\":\"white\",\"gridwidth\":2,\"linecolor\":\"white\",\"showbackground\":true,\"ticks\":\"\",\"zerolinecolor\":\"white\"}},\"shapedefaults\":{\"line\":{\"color\":\"#2a3f5f\"}},\"ternary\":{\"aaxis\":{\"gridcolor\":\"white\",\"linecolor\":\"white\",\"ticks\":\"\"},\"baxis\":{\"gridcolor\":\"white\",\"linecolor\":\"white\",\"ticks\":\"\"},\"bgcolor\":\"#E5ECF6\",\"caxis\":{\"gridcolor\":\"white\",\"linecolor\":\"white\",\"ticks\":\"\"}},\"title\":{\"x\":0.05},\"xaxis\":{\"automargin\":true,\"gridcolor\":\"white\",\"linecolor\":\"white\",\"ticks\":\"\",\"title\":{\"standoff\":15},\"zerolinecolor\":\"white\",\"zerolinewidth\":2},\"yaxis\":{\"automargin\":true,\"gridcolor\":\"white\",\"linecolor\":\"white\",\"ticks\":\"\",\"title\":{\"standoff\":15},\"zerolinecolor\":\"white\",\"zerolinewidth\":2}}},\"title\":{\"font\":{\"color\":\"#351f39\",\"family\":\"Courier New\"},\"text\":\"Top 20 Party-wise election results\"},\"xaxis\":{\"anchor\":\"y\",\"domain\":[0.0,1.0],\"title\":{\"text\":\"Party\"}},\"yaxis\":{\"anchor\":\"x\",\"domain\":[0.0,1.0],\"title\":{\"text\":\"Seats\"}}},                        {\"responsive\": true}                    ).then(function(){\n",
       "                            \n",
       "var gd = document.getElementById('99ad2f6b-c8a2-4251-be05-3fd3f3f60d1b');\n",
       "var x = new MutationObserver(function (mutations, observer) {{\n",
       "        var display = window.getComputedStyle(gd).display;\n",
       "        if (!display || display === 'none') {{\n",
       "            console.log([gd, 'removed!']);\n",
       "            Plotly.purge(gd);\n",
       "            observer.disconnect();\n",
       "        }}\n",
       "}});\n",
       "\n",
       "// Listen for the removal of the full notebook cells\n",
       "var notebookContainer = gd.closest('#notebook-container');\n",
       "if (notebookContainer) {{\n",
       "    x.observe(notebookContainer, {childList: true});\n",
       "}}\n",
       "\n",
       "// Listen for the clearing of the current output cell\n",
       "var outputEl = gd.closest('.output');\n",
       "if (outputEl) {{\n",
       "    x.observe(outputEl, {childList: true});\n",
       "}}\n",
       "\n",
       "                        })                };                });            </script>        </div>"
      ]
     },
     "metadata": {},
     "output_type": "display_data"
    }
   ],
   "source": [
    "# Number of seats won by each party\n",
    "result = df[df['WINNER'] == 1].groupby('PARTY')['WINNER'].size()\n",
    "result_df = pd.DataFrame(data=result).sort_values(by=\"WINNER\", ascending=False)\n",
    "result_df.reset_index(level=0, inplace=True)\n",
    "\n",
    "# Visualize the party-wise election results\n",
    "result_fig = px.bar(result_df, \n",
    "                    x=result_df['PARTY'][:20], \n",
    "                    y=result_df[\"WINNER\"][:20], \n",
    "                    color=result_df['WINNER'][:20], \n",
    "                    height=500,\n",
    "                    color_continuous_scale='Oryel')\n",
    "result_fig.update_layout(title_text='Top 20 Party-wise election results',\n",
    "                         font_family=\"Courier New\",\n",
    "                         font_color=\"#351f39\",\n",
    "                         title_font_family=\"Courier New\",\n",
    "                         title_font_color=\"#351f39\",\n",
    "                         xaxis_title=\"Party\",\n",
    "                         yaxis_title=\"Seats\")\n",
    "result_fig.show()"
   ]
  },
  {
   "cell_type": "markdown",
   "metadata": {},
   "source": [
    "Bharatiya Janata Party (BJP) emerged as the single largest party after winning 300 seats. BJP is also the single largest party in terms of total vote share in Lok Sabha Election 2019. Congress secured the second position after winning 52 seats. After the landslide victory of Bharatiya Janata Party in the 17th Lok Sabha election; Narendra Modi is the 15th Prime Minister of India. BJP got the thumping majority in the 17th Lok Sabha election.\n",
    "Worth to mention that maximum seats in Lok Sabha can be 552; comprises 530 from states, 20 from Union Territories and 2 nominated members. Currently, only 543 members are elected for Lok Sabha from different states and UTs for the 17th Lok Sabha. "
   ]
  },
  {
   "cell_type": "markdown",
   "metadata": {},
   "source": [
    "### 6.3 Party-Wise Vote Share"
   ]
  },
  {
   "cell_type": "code",
   "execution_count": 22,
   "metadata": {},
   "outputs": [
    {
     "data": {
      "application/vnd.plotly.v1+json": {
       "config": {
        "plotlyServerURL": "https://plot.ly"
       },
       "data": [
        {
         "labels": [
          "AITC",
          "BJP",
          "BSP",
          "INC",
          "Other",
          "SP"
         ],
         "marker": {
          "line": {
           "color": "#000000",
           "width": 2
          }
         },
         "pull": [
          0.1,
          0.1,
          0.1,
          0.1,
          0.1,
          0.1
         ],
         "type": "pie",
         "values": [
          24832104,
          228938556,
          20445870,
          119330534,
          178545701,
          15616282
         ]
        }
       ],
       "layout": {
        "font": {
         "color": "#351f39",
         "family": "Courier New"
        },
        "template": {
         "data": {
          "bar": [
           {
            "error_x": {
             "color": "#2a3f5f"
            },
            "error_y": {
             "color": "#2a3f5f"
            },
            "marker": {
             "line": {
              "color": "#E5ECF6",
              "width": 0.5
             },
             "pattern": {
              "fillmode": "overlay",
              "size": 10,
              "solidity": 0.2
             }
            },
            "type": "bar"
           }
          ],
          "barpolar": [
           {
            "marker": {
             "line": {
              "color": "#E5ECF6",
              "width": 0.5
             },
             "pattern": {
              "fillmode": "overlay",
              "size": 10,
              "solidity": 0.2
             }
            },
            "type": "barpolar"
           }
          ],
          "carpet": [
           {
            "aaxis": {
             "endlinecolor": "#2a3f5f",
             "gridcolor": "white",
             "linecolor": "white",
             "minorgridcolor": "white",
             "startlinecolor": "#2a3f5f"
            },
            "baxis": {
             "endlinecolor": "#2a3f5f",
             "gridcolor": "white",
             "linecolor": "white",
             "minorgridcolor": "white",
             "startlinecolor": "#2a3f5f"
            },
            "type": "carpet"
           }
          ],
          "choropleth": [
           {
            "colorbar": {
             "outlinewidth": 0,
             "ticks": ""
            },
            "type": "choropleth"
           }
          ],
          "contour": [
           {
            "colorbar": {
             "outlinewidth": 0,
             "ticks": ""
            },
            "colorscale": [
             [
              0,
              "#0d0887"
             ],
             [
              0.1111111111111111,
              "#46039f"
             ],
             [
              0.2222222222222222,
              "#7201a8"
             ],
             [
              0.3333333333333333,
              "#9c179e"
             ],
             [
              0.4444444444444444,
              "#bd3786"
             ],
             [
              0.5555555555555556,
              "#d8576b"
             ],
             [
              0.6666666666666666,
              "#ed7953"
             ],
             [
              0.7777777777777778,
              "#fb9f3a"
             ],
             [
              0.8888888888888888,
              "#fdca26"
             ],
             [
              1,
              "#f0f921"
             ]
            ],
            "type": "contour"
           }
          ],
          "contourcarpet": [
           {
            "colorbar": {
             "outlinewidth": 0,
             "ticks": ""
            },
            "type": "contourcarpet"
           }
          ],
          "heatmap": [
           {
            "colorbar": {
             "outlinewidth": 0,
             "ticks": ""
            },
            "colorscale": [
             [
              0,
              "#0d0887"
             ],
             [
              0.1111111111111111,
              "#46039f"
             ],
             [
              0.2222222222222222,
              "#7201a8"
             ],
             [
              0.3333333333333333,
              "#9c179e"
             ],
             [
              0.4444444444444444,
              "#bd3786"
             ],
             [
              0.5555555555555556,
              "#d8576b"
             ],
             [
              0.6666666666666666,
              "#ed7953"
             ],
             [
              0.7777777777777778,
              "#fb9f3a"
             ],
             [
              0.8888888888888888,
              "#fdca26"
             ],
             [
              1,
              "#f0f921"
             ]
            ],
            "type": "heatmap"
           }
          ],
          "heatmapgl": [
           {
            "colorbar": {
             "outlinewidth": 0,
             "ticks": ""
            },
            "colorscale": [
             [
              0,
              "#0d0887"
             ],
             [
              0.1111111111111111,
              "#46039f"
             ],
             [
              0.2222222222222222,
              "#7201a8"
             ],
             [
              0.3333333333333333,
              "#9c179e"
             ],
             [
              0.4444444444444444,
              "#bd3786"
             ],
             [
              0.5555555555555556,
              "#d8576b"
             ],
             [
              0.6666666666666666,
              "#ed7953"
             ],
             [
              0.7777777777777778,
              "#fb9f3a"
             ],
             [
              0.8888888888888888,
              "#fdca26"
             ],
             [
              1,
              "#f0f921"
             ]
            ],
            "type": "heatmapgl"
           }
          ],
          "histogram": [
           {
            "marker": {
             "pattern": {
              "fillmode": "overlay",
              "size": 10,
              "solidity": 0.2
             }
            },
            "type": "histogram"
           }
          ],
          "histogram2d": [
           {
            "colorbar": {
             "outlinewidth": 0,
             "ticks": ""
            },
            "colorscale": [
             [
              0,
              "#0d0887"
             ],
             [
              0.1111111111111111,
              "#46039f"
             ],
             [
              0.2222222222222222,
              "#7201a8"
             ],
             [
              0.3333333333333333,
              "#9c179e"
             ],
             [
              0.4444444444444444,
              "#bd3786"
             ],
             [
              0.5555555555555556,
              "#d8576b"
             ],
             [
              0.6666666666666666,
              "#ed7953"
             ],
             [
              0.7777777777777778,
              "#fb9f3a"
             ],
             [
              0.8888888888888888,
              "#fdca26"
             ],
             [
              1,
              "#f0f921"
             ]
            ],
            "type": "histogram2d"
           }
          ],
          "histogram2dcontour": [
           {
            "colorbar": {
             "outlinewidth": 0,
             "ticks": ""
            },
            "colorscale": [
             [
              0,
              "#0d0887"
             ],
             [
              0.1111111111111111,
              "#46039f"
             ],
             [
              0.2222222222222222,
              "#7201a8"
             ],
             [
              0.3333333333333333,
              "#9c179e"
             ],
             [
              0.4444444444444444,
              "#bd3786"
             ],
             [
              0.5555555555555556,
              "#d8576b"
             ],
             [
              0.6666666666666666,
              "#ed7953"
             ],
             [
              0.7777777777777778,
              "#fb9f3a"
             ],
             [
              0.8888888888888888,
              "#fdca26"
             ],
             [
              1,
              "#f0f921"
             ]
            ],
            "type": "histogram2dcontour"
           }
          ],
          "mesh3d": [
           {
            "colorbar": {
             "outlinewidth": 0,
             "ticks": ""
            },
            "type": "mesh3d"
           }
          ],
          "parcoords": [
           {
            "line": {
             "colorbar": {
              "outlinewidth": 0,
              "ticks": ""
             }
            },
            "type": "parcoords"
           }
          ],
          "pie": [
           {
            "automargin": true,
            "type": "pie"
           }
          ],
          "scatter": [
           {
            "marker": {
             "colorbar": {
              "outlinewidth": 0,
              "ticks": ""
             }
            },
            "type": "scatter"
           }
          ],
          "scatter3d": [
           {
            "line": {
             "colorbar": {
              "outlinewidth": 0,
              "ticks": ""
             }
            },
            "marker": {
             "colorbar": {
              "outlinewidth": 0,
              "ticks": ""
             }
            },
            "type": "scatter3d"
           }
          ],
          "scattercarpet": [
           {
            "marker": {
             "colorbar": {
              "outlinewidth": 0,
              "ticks": ""
             }
            },
            "type": "scattercarpet"
           }
          ],
          "scattergeo": [
           {
            "marker": {
             "colorbar": {
              "outlinewidth": 0,
              "ticks": ""
             }
            },
            "type": "scattergeo"
           }
          ],
          "scattergl": [
           {
            "marker": {
             "colorbar": {
              "outlinewidth": 0,
              "ticks": ""
             }
            },
            "type": "scattergl"
           }
          ],
          "scattermapbox": [
           {
            "marker": {
             "colorbar": {
              "outlinewidth": 0,
              "ticks": ""
             }
            },
            "type": "scattermapbox"
           }
          ],
          "scatterpolar": [
           {
            "marker": {
             "colorbar": {
              "outlinewidth": 0,
              "ticks": ""
             }
            },
            "type": "scatterpolar"
           }
          ],
          "scatterpolargl": [
           {
            "marker": {
             "colorbar": {
              "outlinewidth": 0,
              "ticks": ""
             }
            },
            "type": "scatterpolargl"
           }
          ],
          "scatterternary": [
           {
            "marker": {
             "colorbar": {
              "outlinewidth": 0,
              "ticks": ""
             }
            },
            "type": "scatterternary"
           }
          ],
          "surface": [
           {
            "colorbar": {
             "outlinewidth": 0,
             "ticks": ""
            },
            "colorscale": [
             [
              0,
              "#0d0887"
             ],
             [
              0.1111111111111111,
              "#46039f"
             ],
             [
              0.2222222222222222,
              "#7201a8"
             ],
             [
              0.3333333333333333,
              "#9c179e"
             ],
             [
              0.4444444444444444,
              "#bd3786"
             ],
             [
              0.5555555555555556,
              "#d8576b"
             ],
             [
              0.6666666666666666,
              "#ed7953"
             ],
             [
              0.7777777777777778,
              "#fb9f3a"
             ],
             [
              0.8888888888888888,
              "#fdca26"
             ],
             [
              1,
              "#f0f921"
             ]
            ],
            "type": "surface"
           }
          ],
          "table": [
           {
            "cells": {
             "fill": {
              "color": "#EBF0F8"
             },
             "line": {
              "color": "white"
             }
            },
            "header": {
             "fill": {
              "color": "#C8D4E3"
             },
             "line": {
              "color": "white"
             }
            },
            "type": "table"
           }
          ]
         },
         "layout": {
          "annotationdefaults": {
           "arrowcolor": "#2a3f5f",
           "arrowhead": 0,
           "arrowwidth": 1
          },
          "autotypenumbers": "strict",
          "coloraxis": {
           "colorbar": {
            "outlinewidth": 0,
            "ticks": ""
           }
          },
          "colorscale": {
           "diverging": [
            [
             0,
             "#8e0152"
            ],
            [
             0.1,
             "#c51b7d"
            ],
            [
             0.2,
             "#de77ae"
            ],
            [
             0.3,
             "#f1b6da"
            ],
            [
             0.4,
             "#fde0ef"
            ],
            [
             0.5,
             "#f7f7f7"
            ],
            [
             0.6,
             "#e6f5d0"
            ],
            [
             0.7,
             "#b8e186"
            ],
            [
             0.8,
             "#7fbc41"
            ],
            [
             0.9,
             "#4d9221"
            ],
            [
             1,
             "#276419"
            ]
           ],
           "sequential": [
            [
             0,
             "#0d0887"
            ],
            [
             0.1111111111111111,
             "#46039f"
            ],
            [
             0.2222222222222222,
             "#7201a8"
            ],
            [
             0.3333333333333333,
             "#9c179e"
            ],
            [
             0.4444444444444444,
             "#bd3786"
            ],
            [
             0.5555555555555556,
             "#d8576b"
            ],
            [
             0.6666666666666666,
             "#ed7953"
            ],
            [
             0.7777777777777778,
             "#fb9f3a"
            ],
            [
             0.8888888888888888,
             "#fdca26"
            ],
            [
             1,
             "#f0f921"
            ]
           ],
           "sequentialminus": [
            [
             0,
             "#0d0887"
            ],
            [
             0.1111111111111111,
             "#46039f"
            ],
            [
             0.2222222222222222,
             "#7201a8"
            ],
            [
             0.3333333333333333,
             "#9c179e"
            ],
            [
             0.4444444444444444,
             "#bd3786"
            ],
            [
             0.5555555555555556,
             "#d8576b"
            ],
            [
             0.6666666666666666,
             "#ed7953"
            ],
            [
             0.7777777777777778,
             "#fb9f3a"
            ],
            [
             0.8888888888888888,
             "#fdca26"
            ],
            [
             1,
             "#f0f921"
            ]
           ]
          },
          "colorway": [
           "#636efa",
           "#EF553B",
           "#00cc96",
           "#ab63fa",
           "#FFA15A",
           "#19d3f3",
           "#FF6692",
           "#B6E880",
           "#FF97FF",
           "#FECB52"
          ],
          "font": {
           "color": "#2a3f5f"
          },
          "geo": {
           "bgcolor": "white",
           "lakecolor": "white",
           "landcolor": "#E5ECF6",
           "showlakes": true,
           "showland": true,
           "subunitcolor": "white"
          },
          "hoverlabel": {
           "align": "left"
          },
          "hovermode": "closest",
          "mapbox": {
           "style": "light"
          },
          "paper_bgcolor": "white",
          "plot_bgcolor": "#E5ECF6",
          "polar": {
           "angularaxis": {
            "gridcolor": "white",
            "linecolor": "white",
            "ticks": ""
           },
           "bgcolor": "#E5ECF6",
           "radialaxis": {
            "gridcolor": "white",
            "linecolor": "white",
            "ticks": ""
           }
          },
          "scene": {
           "xaxis": {
            "backgroundcolor": "#E5ECF6",
            "gridcolor": "white",
            "gridwidth": 2,
            "linecolor": "white",
            "showbackground": true,
            "ticks": "",
            "zerolinecolor": "white"
           },
           "yaxis": {
            "backgroundcolor": "#E5ECF6",
            "gridcolor": "white",
            "gridwidth": 2,
            "linecolor": "white",
            "showbackground": true,
            "ticks": "",
            "zerolinecolor": "white"
           },
           "zaxis": {
            "backgroundcolor": "#E5ECF6",
            "gridcolor": "white",
            "gridwidth": 2,
            "linecolor": "white",
            "showbackground": true,
            "ticks": "",
            "zerolinecolor": "white"
           }
          },
          "shapedefaults": {
           "line": {
            "color": "#2a3f5f"
           }
          },
          "ternary": {
           "aaxis": {
            "gridcolor": "white",
            "linecolor": "white",
            "ticks": ""
           },
           "baxis": {
            "gridcolor": "white",
            "linecolor": "white",
            "ticks": ""
           },
           "bgcolor": "#E5ECF6",
           "caxis": {
            "gridcolor": "white",
            "linecolor": "white",
            "ticks": ""
           }
          },
          "title": {
           "x": 0.05
          },
          "xaxis": {
           "automargin": true,
           "gridcolor": "white",
           "linecolor": "white",
           "ticks": "",
           "title": {
            "standoff": 15
           },
           "zerolinecolor": "white",
           "zerolinewidth": 2
          },
          "yaxis": {
           "automargin": true,
           "gridcolor": "white",
           "linecolor": "white",
           "ticks": "",
           "title": {
            "standoff": 15
           },
           "zerolinecolor": "white",
           "zerolinewidth": 2
          }
         }
        },
        "title": {
         "font": {
          "color": "#351f39",
          "family": "Courier New"
         },
         "text": "Party-wise Vote Share"
        }
       }
      },
      "text/html": [
       "<div>                            <div id=\"a1dfc0e5-8296-42f0-b3cd-701ed693f994\" class=\"plotly-graph-div\" style=\"height:525px; width:100%;\"></div>            <script type=\"text/javascript\">                require([\"plotly\"], function(Plotly) {                    window.PLOTLYENV=window.PLOTLYENV || {};                                    if (document.getElementById(\"a1dfc0e5-8296-42f0-b3cd-701ed693f994\")) {                    Plotly.newPlot(                        \"a1dfc0e5-8296-42f0-b3cd-701ed693f994\",                        [{\"labels\":[\"AITC\",\"BJP\",\"BSP\",\"INC\",\"Other\",\"SP\"],\"marker\":{\"line\":{\"color\":\"#000000\",\"width\":2}},\"pull\":[0.1,0.1,0.1,0.1,0.1,0.1],\"type\":\"pie\",\"values\":[24832104,228938556,20445870,119330534,178545701,15616282]}],                        {\"font\":{\"color\":\"#351f39\",\"family\":\"Courier New\"},\"template\":{\"data\":{\"bar\":[{\"error_x\":{\"color\":\"#2a3f5f\"},\"error_y\":{\"color\":\"#2a3f5f\"},\"marker\":{\"line\":{\"color\":\"#E5ECF6\",\"width\":0.5},\"pattern\":{\"fillmode\":\"overlay\",\"size\":10,\"solidity\":0.2}},\"type\":\"bar\"}],\"barpolar\":[{\"marker\":{\"line\":{\"color\":\"#E5ECF6\",\"width\":0.5},\"pattern\":{\"fillmode\":\"overlay\",\"size\":10,\"solidity\":0.2}},\"type\":\"barpolar\"}],\"carpet\":[{\"aaxis\":{\"endlinecolor\":\"#2a3f5f\",\"gridcolor\":\"white\",\"linecolor\":\"white\",\"minorgridcolor\":\"white\",\"startlinecolor\":\"#2a3f5f\"},\"baxis\":{\"endlinecolor\":\"#2a3f5f\",\"gridcolor\":\"white\",\"linecolor\":\"white\",\"minorgridcolor\":\"white\",\"startlinecolor\":\"#2a3f5f\"},\"type\":\"carpet\"}],\"choropleth\":[{\"colorbar\":{\"outlinewidth\":0,\"ticks\":\"\"},\"type\":\"choropleth\"}],\"contour\":[{\"colorbar\":{\"outlinewidth\":0,\"ticks\":\"\"},\"colorscale\":[[0.0,\"#0d0887\"],[0.1111111111111111,\"#46039f\"],[0.2222222222222222,\"#7201a8\"],[0.3333333333333333,\"#9c179e\"],[0.4444444444444444,\"#bd3786\"],[0.5555555555555556,\"#d8576b\"],[0.6666666666666666,\"#ed7953\"],[0.7777777777777778,\"#fb9f3a\"],[0.8888888888888888,\"#fdca26\"],[1.0,\"#f0f921\"]],\"type\":\"contour\"}],\"contourcarpet\":[{\"colorbar\":{\"outlinewidth\":0,\"ticks\":\"\"},\"type\":\"contourcarpet\"}],\"heatmap\":[{\"colorbar\":{\"outlinewidth\":0,\"ticks\":\"\"},\"colorscale\":[[0.0,\"#0d0887\"],[0.1111111111111111,\"#46039f\"],[0.2222222222222222,\"#7201a8\"],[0.3333333333333333,\"#9c179e\"],[0.4444444444444444,\"#bd3786\"],[0.5555555555555556,\"#d8576b\"],[0.6666666666666666,\"#ed7953\"],[0.7777777777777778,\"#fb9f3a\"],[0.8888888888888888,\"#fdca26\"],[1.0,\"#f0f921\"]],\"type\":\"heatmap\"}],\"heatmapgl\":[{\"colorbar\":{\"outlinewidth\":0,\"ticks\":\"\"},\"colorscale\":[[0.0,\"#0d0887\"],[0.1111111111111111,\"#46039f\"],[0.2222222222222222,\"#7201a8\"],[0.3333333333333333,\"#9c179e\"],[0.4444444444444444,\"#bd3786\"],[0.5555555555555556,\"#d8576b\"],[0.6666666666666666,\"#ed7953\"],[0.7777777777777778,\"#fb9f3a\"],[0.8888888888888888,\"#fdca26\"],[1.0,\"#f0f921\"]],\"type\":\"heatmapgl\"}],\"histogram\":[{\"marker\":{\"pattern\":{\"fillmode\":\"overlay\",\"size\":10,\"solidity\":0.2}},\"type\":\"histogram\"}],\"histogram2d\":[{\"colorbar\":{\"outlinewidth\":0,\"ticks\":\"\"},\"colorscale\":[[0.0,\"#0d0887\"],[0.1111111111111111,\"#46039f\"],[0.2222222222222222,\"#7201a8\"],[0.3333333333333333,\"#9c179e\"],[0.4444444444444444,\"#bd3786\"],[0.5555555555555556,\"#d8576b\"],[0.6666666666666666,\"#ed7953\"],[0.7777777777777778,\"#fb9f3a\"],[0.8888888888888888,\"#fdca26\"],[1.0,\"#f0f921\"]],\"type\":\"histogram2d\"}],\"histogram2dcontour\":[{\"colorbar\":{\"outlinewidth\":0,\"ticks\":\"\"},\"colorscale\":[[0.0,\"#0d0887\"],[0.1111111111111111,\"#46039f\"],[0.2222222222222222,\"#7201a8\"],[0.3333333333333333,\"#9c179e\"],[0.4444444444444444,\"#bd3786\"],[0.5555555555555556,\"#d8576b\"],[0.6666666666666666,\"#ed7953\"],[0.7777777777777778,\"#fb9f3a\"],[0.8888888888888888,\"#fdca26\"],[1.0,\"#f0f921\"]],\"type\":\"histogram2dcontour\"}],\"mesh3d\":[{\"colorbar\":{\"outlinewidth\":0,\"ticks\":\"\"},\"type\":\"mesh3d\"}],\"parcoords\":[{\"line\":{\"colorbar\":{\"outlinewidth\":0,\"ticks\":\"\"}},\"type\":\"parcoords\"}],\"pie\":[{\"automargin\":true,\"type\":\"pie\"}],\"scatter\":[{\"marker\":{\"colorbar\":{\"outlinewidth\":0,\"ticks\":\"\"}},\"type\":\"scatter\"}],\"scatter3d\":[{\"line\":{\"colorbar\":{\"outlinewidth\":0,\"ticks\":\"\"}},\"marker\":{\"colorbar\":{\"outlinewidth\":0,\"ticks\":\"\"}},\"type\":\"scatter3d\"}],\"scattercarpet\":[{\"marker\":{\"colorbar\":{\"outlinewidth\":0,\"ticks\":\"\"}},\"type\":\"scattercarpet\"}],\"scattergeo\":[{\"marker\":{\"colorbar\":{\"outlinewidth\":0,\"ticks\":\"\"}},\"type\":\"scattergeo\"}],\"scattergl\":[{\"marker\":{\"colorbar\":{\"outlinewidth\":0,\"ticks\":\"\"}},\"type\":\"scattergl\"}],\"scattermapbox\":[{\"marker\":{\"colorbar\":{\"outlinewidth\":0,\"ticks\":\"\"}},\"type\":\"scattermapbox\"}],\"scatterpolar\":[{\"marker\":{\"colorbar\":{\"outlinewidth\":0,\"ticks\":\"\"}},\"type\":\"scatterpolar\"}],\"scatterpolargl\":[{\"marker\":{\"colorbar\":{\"outlinewidth\":0,\"ticks\":\"\"}},\"type\":\"scatterpolargl\"}],\"scatterternary\":[{\"marker\":{\"colorbar\":{\"outlinewidth\":0,\"ticks\":\"\"}},\"type\":\"scatterternary\"}],\"surface\":[{\"colorbar\":{\"outlinewidth\":0,\"ticks\":\"\"},\"colorscale\":[[0.0,\"#0d0887\"],[0.1111111111111111,\"#46039f\"],[0.2222222222222222,\"#7201a8\"],[0.3333333333333333,\"#9c179e\"],[0.4444444444444444,\"#bd3786\"],[0.5555555555555556,\"#d8576b\"],[0.6666666666666666,\"#ed7953\"],[0.7777777777777778,\"#fb9f3a\"],[0.8888888888888888,\"#fdca26\"],[1.0,\"#f0f921\"]],\"type\":\"surface\"}],\"table\":[{\"cells\":{\"fill\":{\"color\":\"#EBF0F8\"},\"line\":{\"color\":\"white\"}},\"header\":{\"fill\":{\"color\":\"#C8D4E3\"},\"line\":{\"color\":\"white\"}},\"type\":\"table\"}]},\"layout\":{\"annotationdefaults\":{\"arrowcolor\":\"#2a3f5f\",\"arrowhead\":0,\"arrowwidth\":1},\"autotypenumbers\":\"strict\",\"coloraxis\":{\"colorbar\":{\"outlinewidth\":0,\"ticks\":\"\"}},\"colorscale\":{\"diverging\":[[0,\"#8e0152\"],[0.1,\"#c51b7d\"],[0.2,\"#de77ae\"],[0.3,\"#f1b6da\"],[0.4,\"#fde0ef\"],[0.5,\"#f7f7f7\"],[0.6,\"#e6f5d0\"],[0.7,\"#b8e186\"],[0.8,\"#7fbc41\"],[0.9,\"#4d9221\"],[1,\"#276419\"]],\"sequential\":[[0.0,\"#0d0887\"],[0.1111111111111111,\"#46039f\"],[0.2222222222222222,\"#7201a8\"],[0.3333333333333333,\"#9c179e\"],[0.4444444444444444,\"#bd3786\"],[0.5555555555555556,\"#d8576b\"],[0.6666666666666666,\"#ed7953\"],[0.7777777777777778,\"#fb9f3a\"],[0.8888888888888888,\"#fdca26\"],[1.0,\"#f0f921\"]],\"sequentialminus\":[[0.0,\"#0d0887\"],[0.1111111111111111,\"#46039f\"],[0.2222222222222222,\"#7201a8\"],[0.3333333333333333,\"#9c179e\"],[0.4444444444444444,\"#bd3786\"],[0.5555555555555556,\"#d8576b\"],[0.6666666666666666,\"#ed7953\"],[0.7777777777777778,\"#fb9f3a\"],[0.8888888888888888,\"#fdca26\"],[1.0,\"#f0f921\"]]},\"colorway\":[\"#636efa\",\"#EF553B\",\"#00cc96\",\"#ab63fa\",\"#FFA15A\",\"#19d3f3\",\"#FF6692\",\"#B6E880\",\"#FF97FF\",\"#FECB52\"],\"font\":{\"color\":\"#2a3f5f\"},\"geo\":{\"bgcolor\":\"white\",\"lakecolor\":\"white\",\"landcolor\":\"#E5ECF6\",\"showlakes\":true,\"showland\":true,\"subunitcolor\":\"white\"},\"hoverlabel\":{\"align\":\"left\"},\"hovermode\":\"closest\",\"mapbox\":{\"style\":\"light\"},\"paper_bgcolor\":\"white\",\"plot_bgcolor\":\"#E5ECF6\",\"polar\":{\"angularaxis\":{\"gridcolor\":\"white\",\"linecolor\":\"white\",\"ticks\":\"\"},\"bgcolor\":\"#E5ECF6\",\"radialaxis\":{\"gridcolor\":\"white\",\"linecolor\":\"white\",\"ticks\":\"\"}},\"scene\":{\"xaxis\":{\"backgroundcolor\":\"#E5ECF6\",\"gridcolor\":\"white\",\"gridwidth\":2,\"linecolor\":\"white\",\"showbackground\":true,\"ticks\":\"\",\"zerolinecolor\":\"white\"},\"yaxis\":{\"backgroundcolor\":\"#E5ECF6\",\"gridcolor\":\"white\",\"gridwidth\":2,\"linecolor\":\"white\",\"showbackground\":true,\"ticks\":\"\",\"zerolinecolor\":\"white\"},\"zaxis\":{\"backgroundcolor\":\"#E5ECF6\",\"gridcolor\":\"white\",\"gridwidth\":2,\"linecolor\":\"white\",\"showbackground\":true,\"ticks\":\"\",\"zerolinecolor\":\"white\"}},\"shapedefaults\":{\"line\":{\"color\":\"#2a3f5f\"}},\"ternary\":{\"aaxis\":{\"gridcolor\":\"white\",\"linecolor\":\"white\",\"ticks\":\"\"},\"baxis\":{\"gridcolor\":\"white\",\"linecolor\":\"white\",\"ticks\":\"\"},\"bgcolor\":\"#E5ECF6\",\"caxis\":{\"gridcolor\":\"white\",\"linecolor\":\"white\",\"ticks\":\"\"}},\"title\":{\"x\":0.05},\"xaxis\":{\"automargin\":true,\"gridcolor\":\"white\",\"linecolor\":\"white\",\"ticks\":\"\",\"title\":{\"standoff\":15},\"zerolinecolor\":\"white\",\"zerolinewidth\":2},\"yaxis\":{\"automargin\":true,\"gridcolor\":\"white\",\"linecolor\":\"white\",\"ticks\":\"\",\"title\":{\"standoff\":15},\"zerolinecolor\":\"white\",\"zerolinewidth\":2}}},\"title\":{\"font\":{\"color\":\"#351f39\",\"family\":\"Courier New\"},\"text\":\"Party-wise Vote Share\"}},                        {\"responsive\": true}                    ).then(function(){\n",
       "                            \n",
       "var gd = document.getElementById('a1dfc0e5-8296-42f0-b3cd-701ed693f994');\n",
       "var x = new MutationObserver(function (mutations, observer) {{\n",
       "        var display = window.getComputedStyle(gd).display;\n",
       "        if (!display || display === 'none') {{\n",
       "            console.log([gd, 'removed!']);\n",
       "            Plotly.purge(gd);\n",
       "            observer.disconnect();\n",
       "        }}\n",
       "}});\n",
       "\n",
       "// Listen for the removal of the full notebook cells\n",
       "var notebookContainer = gd.closest('#notebook-container');\n",
       "if (notebookContainer) {{\n",
       "    x.observe(notebookContainer, {childList: true});\n",
       "}}\n",
       "\n",
       "// Listen for the clearing of the current output cell\n",
       "var outputEl = gd.closest('.output');\n",
       "if (outputEl) {{\n",
       "    x.observe(outputEl, {childList: true});\n",
       "}}\n",
       "\n",
       "                        })                };                });            </script>        </div>"
      ]
     },
     "metadata": {},
     "output_type": "display_data"
    }
   ],
   "source": [
    "# Create a dataframe with total number of votes won by each party\n",
    "result = df[df['WINNER'] == 1].groupby('PARTY')['WINNER'].size()\n",
    "vote_Share = df.groupby('PARTY')['TOTALVOTES'].sum()\n",
    "vote_Share_df = pd.DataFrame(data=vote_Share, index=vote_Share.index).sort_values(by=\"TOTALVOTES\", ascending=False)\n",
    "vote_Share_df.reset_index(level=0, inplace=True)\n",
    "\n",
    "# Sort out the top five parties according to the total number of votes\n",
    "vote_share_top5 = df.groupby('PARTY')['TOTALVOTES'].sum().nlargest(5).index.tolist()\n",
    "\n",
    "# Create a method to label parties as 'Other' if they are not top five in total number of votes.\n",
    "def sort_party(data):\n",
    "    '''\n",
    "    Method to label parties as 'Other' if they are not top five in total number of votes.\n",
    "    data: input rows\n",
    "    '''\n",
    "    if data['PARTY'] not in vote_share_top5:\n",
    "        return 'Other'\n",
    "    else:\n",
    "        return data['PARTY']\n",
    "\n",
    "# Calling the method\n",
    "df['Party New'] = df.apply(sort_party, axis=1)\n",
    "\n",
    "# Visualize Party-wise vote share\n",
    "vote_count = df.groupby('Party New')['TOTALVOTES'].sum()\n",
    "vote_count_fig = go.Figure(go.Pie(labels=vote_count.index, \n",
    "                                  values=vote_count.values,\n",
    "                                  pull=[0.1, 0.1, 0.1, 0.1, 0.1, 0.1],\n",
    "                                  marker=dict(line=dict(color=\"#000000\", \n",
    "                                                        width=2))))\n",
    "vote_count_fig.update_layout(title_text='Party-wise Vote Share',\n",
    "                             font_family=\"Courier New\",\n",
    "                             font_color=\"#351f39\",\n",
    "                             title_font_family=\"Courier New\",\n",
    "                             title_font_color=\"#351f39\")\n",
    "vote_count_fig.show()"
   ]
  },
  {
   "cell_type": "code",
   "execution_count": 23,
   "metadata": {},
   "outputs": [
    {
     "data": {
      "text/plain": [
       "Other    918\n",
       "BJP      420\n",
       "INC      411\n",
       "BSP      161\n",
       "AITC      47\n",
       "SP        39\n",
       "Name: Party New, dtype: int64"
      ]
     },
     "execution_count": 23,
     "metadata": {},
     "output_type": "execute_result"
    }
   ],
   "source": [
    "df['Party New'].value_counts()"
   ]
  },
  {
   "cell_type": "markdown",
   "metadata": {},
   "source": [
    "The Bharatiya Janata Party garnered 38.8% of the votes in the 2019 Lok Sabha elections. This is the highest vote share received by the party nation-wide in any Lok Sabha election since the party was (re)formed in 1980. In contrast, the Congress party failed to improve on its vote share from 2014 and gathered 20.2% of the total votes. The dominant victory of the BJP and its allies — by repeating the 2014 win, and then some — suggests that the era of coalitions (and/or a central government with a relatively weak national party in power) determining the balance of power at Delhi has decisively come to an end."
   ]
  },
  {
   "cell_type": "markdown",
   "metadata": {},
   "source": [
    "### 6.4 Age Distribution Of Candidates"
   ]
  },
  {
   "cell_type": "code",
   "execution_count": 24,
   "metadata": {},
   "outputs": [
    {
     "data": {
      "application/vnd.plotly.v1+json": {
       "config": {
        "plotlyServerURL": "https://plot.ly"
       },
       "data": [
        {
         "alignmentgroup": "True",
         "bingroup": "x",
         "hovertemplate": "AGE=%{x}<br>count=%{y}<extra></extra>",
         "legendgroup": "",
         "marker": {
          "color": "indianred",
          "pattern": {
           "shape": ""
          }
         },
         "name": "",
         "offsetgroup": "",
         "orientation": "v",
         "showlegend": false,
         "type": "histogram",
         "x": [
          52,
          54,
          52,
          58,
          47,
          54,
          37,
          34,
          62,
          58,
          38,
          69,
          68,
          66,
          64,
          40,
          60,
          60,
          64,
          46,
          58,
          60,
          64,
          60,
          54,
          52,
          64,
          32,
          44,
          61,
          46,
          51,
          62,
          43,
          52,
          42,
          44,
          69,
          63,
          49,
          77,
          46,
          60,
          41,
          35,
          47,
          31,
          46,
          28,
          59,
          67,
          56,
          55,
          61,
          38,
          71,
          36,
          43,
          48,
          33,
          71,
          47,
          56,
          64,
          42,
          47,
          46,
          67,
          58,
          55,
          43,
          58,
          35,
          52,
          43,
          56,
          65,
          54,
          65,
          53,
          69,
          62,
          51,
          48,
          45,
          29,
          58,
          65,
          60,
          59,
          53,
          60,
          45,
          52,
          46,
          61,
          49,
          43,
          50,
          57,
          64,
          71,
          55,
          43,
          40,
          61,
          33,
          55,
          59,
          41,
          46,
          63,
          55,
          37,
          41,
          52,
          50,
          66,
          36,
          81,
          70,
          26,
          72,
          49,
          54,
          46,
          61,
          37,
          54,
          69,
          47,
          38,
          68,
          47,
          51,
          56,
          42,
          45,
          48,
          65,
          59,
          37,
          62,
          70,
          47,
          47,
          63,
          56,
          49,
          53,
          50,
          34,
          55,
          67,
          41,
          56,
          62,
          42,
          43,
          35,
          58,
          46,
          49,
          76,
          68,
          61,
          39,
          45,
          40,
          34,
          40,
          66,
          68,
          38,
          63,
          40,
          63,
          55,
          55,
          38,
          66,
          73,
          60,
          38,
          66,
          53,
          68,
          62,
          64,
          51,
          46,
          62,
          56,
          51,
          39,
          52,
          50,
          40,
          70,
          75,
          39,
          49,
          33,
          59,
          74,
          59,
          37,
          55,
          39,
          53,
          66,
          46,
          52,
          59,
          43,
          28,
          64,
          37,
          51,
          55,
          28,
          58,
          65,
          61,
          44,
          46,
          38,
          50,
          65,
          72,
          67,
          40,
          42,
          62,
          62,
          65,
          43,
          31,
          26,
          42,
          65,
          64,
          65,
          51,
          68,
          34,
          49,
          34,
          43,
          71,
          67,
          54,
          59,
          55,
          65,
          48,
          60,
          68,
          61,
          57,
          67,
          73,
          50,
          39,
          61,
          61,
          58,
          37,
          49,
          53,
          70,
          63,
          61,
          59,
          69,
          51,
          45,
          55,
          39,
          44,
          66,
          44,
          65,
          57,
          68,
          47,
          44,
          28,
          42,
          51,
          70,
          38,
          46,
          42,
          55,
          38,
          29,
          40,
          45,
          65,
          50,
          42,
          52,
          41,
          33,
          54,
          36,
          48,
          62,
          57,
          66,
          32,
          59,
          27,
          63,
          69,
          67,
          65,
          68,
          44,
          52,
          55,
          31,
          44,
          44,
          59,
          59,
          42,
          49,
          42,
          41,
          43,
          50,
          64,
          37,
          68,
          56,
          39,
          59,
          56,
          61,
          37,
          73,
          40,
          55,
          50,
          62,
          52,
          40,
          42,
          45,
          28,
          67,
          58,
          62,
          69,
          27,
          64,
          43,
          30,
          46,
          55,
          60,
          46,
          54,
          44,
          49,
          71,
          49,
          63,
          71,
          50,
          57,
          65,
          66,
          42,
          33,
          36,
          53,
          55,
          59,
          65,
          55,
          47,
          51,
          51,
          47,
          49,
          63,
          54,
          51,
          49,
          38,
          39,
          72,
          67,
          57,
          45,
          45,
          49,
          63,
          53,
          61,
          47,
          44,
          42,
          50,
          58,
          58,
          58,
          57,
          66,
          75,
          50,
          34,
          66,
          71,
          59,
          71,
          58,
          42,
          62,
          43,
          52,
          32,
          66,
          70,
          78,
          44,
          64,
          74,
          52,
          43,
          64,
          48,
          55,
          62,
          52,
          40,
          36,
          43,
          66,
          41,
          52,
          41,
          54,
          31,
          48,
          49,
          65,
          62,
          33,
          44,
          56,
          31,
          40,
          26,
          55,
          54,
          59,
          58,
          44,
          57,
          56,
          45,
          47,
          53,
          48,
          56,
          46,
          55,
          49,
          76,
          79,
          65,
          48,
          55,
          72,
          49,
          62,
          64,
          68,
          67,
          60,
          45,
          43,
          68,
          42,
          58,
          41,
          57,
          68,
          61,
          55,
          36,
          68,
          33,
          66,
          61,
          38,
          48,
          69,
          49,
          40,
          44,
          62,
          63,
          67,
          56,
          46,
          40,
          35,
          33,
          31,
          52,
          58,
          64,
          51,
          52,
          34,
          57,
          63,
          44,
          42,
          59,
          57,
          34,
          49,
          67,
          58,
          64,
          33,
          71,
          65,
          46,
          49,
          71,
          54,
          36,
          67,
          51,
          69,
          35,
          65,
          43,
          69,
          58,
          65,
          38,
          61,
          41,
          50,
          57,
          30,
          43,
          56,
          52,
          45,
          63,
          42,
          58,
          59,
          77,
          63,
          52,
          50,
          66,
          45,
          46,
          31,
          43,
          48,
          49,
          48,
          67,
          52,
          42,
          52,
          40,
          44,
          70,
          53,
          68,
          37,
          37,
          71,
          53,
          67,
          37,
          39,
          72,
          60,
          45,
          44,
          45,
          59,
          61,
          25,
          37,
          50,
          37,
          48,
          46,
          59,
          55,
          35,
          51,
          65,
          72,
          52,
          43,
          43,
          41,
          58,
          70,
          54,
          35,
          45,
          64,
          55,
          68,
          62,
          62,
          43,
          78,
          61,
          78,
          61,
          50,
          54,
          66,
          65,
          66,
          44,
          35,
          52,
          62,
          63,
          52,
          68,
          44,
          68,
          32,
          64,
          56,
          56,
          49,
          54,
          55,
          48,
          66,
          44,
          59,
          54,
          61,
          48,
          63,
          74,
          55,
          50,
          67,
          52,
          53,
          59,
          42,
          30,
          55,
          73,
          49,
          61,
          27,
          46,
          48,
          38,
          53,
          49,
          52,
          36,
          56,
          63,
          33,
          67,
          76,
          34,
          65,
          59,
          59,
          46,
          36,
          78,
          53,
          70,
          64,
          50,
          52,
          47,
          53,
          46,
          82,
          36,
          53,
          52,
          62,
          61,
          41,
          29,
          40,
          46,
          44,
          51,
          58,
          64,
          60,
          77,
          43,
          48,
          41,
          53,
          52,
          50,
          53,
          59,
          65,
          37,
          49,
          69,
          60,
          58,
          71,
          56,
          50,
          66,
          49,
          32,
          33,
          47,
          41,
          44,
          45,
          42,
          68,
          64,
          43,
          61,
          55,
          46,
          59,
          70,
          60,
          28,
          60,
          29,
          61,
          68,
          71,
          38,
          51,
          56,
          52,
          72,
          55,
          74,
          73,
          42,
          34,
          50,
          63,
          41,
          60,
          48,
          56,
          60,
          44,
          46,
          31,
          26,
          58,
          45,
          70,
          54,
          57,
          54,
          39,
          68,
          70,
          49,
          68,
          42,
          64,
          60,
          44,
          61,
          49,
          67,
          46,
          46,
          37,
          49,
          49,
          57,
          58,
          67,
          59,
          69,
          40,
          59,
          56,
          63,
          78,
          30,
          37,
          68,
          54,
          55,
          56,
          68,
          60,
          60,
          54,
          38,
          38,
          68,
          61,
          44,
          49,
          41,
          45,
          61,
          50,
          72,
          82,
          40,
          69,
          60,
          46,
          56,
          55,
          40,
          63,
          50,
          65,
          50,
          65,
          42,
          44,
          51,
          62,
          62,
          61,
          56,
          56,
          44,
          60,
          56,
          62,
          37,
          56,
          51,
          60,
          32,
          58,
          48,
          59,
          53,
          65,
          52,
          42,
          60,
          65,
          42,
          48,
          53,
          43,
          67,
          64,
          50,
          48,
          48,
          63,
          51,
          29,
          65,
          45,
          53,
          54,
          59,
          47,
          56,
          48,
          48,
          54,
          58,
          64,
          51,
          38,
          50,
          44,
          42,
          36,
          55,
          48,
          40,
          52,
          34,
          61,
          48,
          48,
          64,
          62,
          66,
          55,
          49,
          62,
          58,
          52,
          60,
          43,
          42,
          36,
          41,
          57,
          44,
          51,
          69,
          40,
          32,
          52,
          54,
          35,
          44,
          36,
          26,
          51,
          55,
          66,
          37,
          67,
          45,
          61,
          52,
          39,
          41,
          68,
          67,
          41,
          55,
          70,
          69,
          70,
          71,
          74,
          61,
          77,
          46,
          38,
          65,
          64,
          56,
          63,
          45,
          48,
          43,
          49,
          31,
          44,
          46,
          66,
          37,
          47,
          59,
          52,
          38,
          51,
          62,
          31,
          41,
          56,
          43,
          73,
          53,
          52,
          42,
          65,
          61,
          52,
          51,
          68,
          49,
          57,
          61,
          52,
          37,
          55,
          65,
          25,
          49,
          43,
          48,
          65,
          65,
          33,
          52,
          40,
          31,
          27,
          35,
          44,
          38,
          49,
          39,
          39,
          62,
          64,
          54,
          47,
          46,
          61,
          66,
          45,
          60,
          43,
          55,
          39,
          33,
          54,
          58,
          60,
          29,
          71,
          68,
          50,
          57,
          40,
          50,
          54,
          54,
          55,
          42,
          50,
          61,
          46,
          28,
          50,
          69,
          56,
          50,
          26,
          44,
          71,
          54,
          47,
          37,
          61,
          58,
          53,
          44,
          70,
          55,
          50,
          57,
          58,
          55,
          57,
          64,
          38,
          40,
          33,
          63,
          61,
          67,
          45,
          27,
          65,
          52,
          45,
          45,
          44,
          56,
          75,
          66,
          64,
          68,
          66,
          55,
          39,
          58,
          67,
          37,
          50,
          44,
          40,
          57,
          70,
          52,
          67,
          42,
          48,
          58,
          49,
          66,
          59,
          57,
          26,
          50,
          65,
          55,
          33,
          37,
          54,
          61,
          53,
          51,
          51,
          43,
          36,
          64,
          44,
          43,
          45,
          29,
          57,
          59,
          59,
          52,
          57,
          53,
          41,
          26,
          47,
          67,
          68,
          56,
          43,
          48,
          69,
          32,
          58,
          70,
          70,
          50,
          68,
          44,
          42,
          50,
          78,
          43,
          67,
          71,
          51,
          57,
          49,
          63,
          57,
          30,
          39,
          49,
          36,
          42,
          52,
          38,
          39,
          55,
          33,
          45,
          37,
          38,
          49,
          54,
          55,
          36,
          55,
          41,
          51,
          47,
          67,
          51,
          66,
          33,
          60,
          59,
          38,
          71,
          73,
          79,
          60,
          67,
          30,
          54,
          48,
          72,
          54,
          63,
          59,
          39,
          47,
          69,
          51,
          50,
          59,
          43,
          60,
          32,
          48,
          59,
          58,
          57,
          43,
          40,
          59,
          45,
          55,
          31,
          36,
          45,
          67,
          55,
          70,
          66,
          63,
          80,
          46,
          42,
          63,
          55,
          29,
          47,
          56,
          53,
          64,
          74,
          64,
          39,
          27,
          46,
          54,
          41,
          47,
          47,
          53,
          46,
          54,
          49,
          61,
          33,
          54,
          67,
          50,
          64,
          68,
          60,
          68,
          37,
          54,
          41,
          64,
          52,
          44,
          53,
          62,
          41,
          59,
          36,
          54,
          59,
          49,
          60,
          60,
          67,
          32,
          61,
          59,
          61,
          65,
          48,
          48,
          38,
          52,
          46,
          46,
          50,
          50,
          75,
          54,
          46,
          67,
          43,
          68,
          47,
          79,
          51,
          41,
          65,
          48,
          38,
          50,
          46,
          42,
          34,
          57,
          69,
          56,
          64,
          46,
          78,
          50,
          41,
          70,
          40,
          42,
          62,
          46,
          40,
          43,
          57,
          59,
          62,
          75,
          38,
          63,
          41,
          36,
          25,
          61,
          66,
          68,
          43,
          53,
          45,
          47,
          47,
          41,
          55,
          56,
          69,
          62,
          56,
          47,
          47,
          57,
          71,
          46,
          60,
          46,
          61,
          60,
          33,
          33,
          55,
          63,
          61,
          45,
          54,
          70,
          44,
          57,
          54,
          57,
          60,
          42,
          31,
          61,
          33,
          58,
          60,
          57,
          69,
          33,
          35,
          75,
          52,
          64,
          57,
          48,
          58,
          71,
          59,
          48,
          45,
          61,
          38,
          64,
          47,
          36,
          53,
          33,
          67,
          70,
          60,
          67,
          51,
          55,
          43,
          55,
          59,
          55,
          66,
          43,
          41,
          61,
          47,
          81,
          38,
          43,
          66,
          52,
          59,
          57,
          70,
          53,
          59,
          46,
          65,
          61,
          49,
          35,
          47,
          39,
          59,
          36,
          56,
          64,
          43,
          49,
          48,
          48,
          68,
          51,
          47,
          40,
          28,
          65,
          33,
          51,
          63,
          55,
          34,
          43,
          65,
          69,
          59,
          68,
          52,
          39,
          37,
          52,
          54,
          41,
          39,
          39,
          58,
          42,
          46,
          64,
          62,
          62,
          42,
          49,
          74,
          68,
          68,
          47,
          64,
          73,
          42,
          60,
          52,
          42,
          36,
          77,
          55,
          36,
          58,
          62,
          58,
          38,
          39,
          43,
          49,
          47,
          40,
          35,
          49,
          72,
          61,
          40,
          36,
          57,
          57,
          44,
          48,
          45,
          57,
          51,
          68,
          29,
          72,
          68,
          62,
          35,
          59,
          45,
          51,
          43,
          66,
          32,
          29,
          49,
          34,
          56,
          58,
          73,
          69,
          30,
          42,
          34,
          55,
          72,
          51,
          62,
          53,
          37,
          64,
          67,
          61,
          50,
          48,
          64,
          61,
          58,
          43,
          42,
          58,
          57,
          53,
          36,
          45,
          55,
          55,
          42,
          68,
          42,
          48,
          58,
          50,
          67,
          61,
          48,
          36,
          63,
          56,
          32,
          65,
          51,
          60,
          45,
          48,
          76,
          45,
          44,
          39,
          59,
          38,
          37,
          30,
          64,
          57,
          56,
          53,
          61,
          29,
          58,
          56,
          25,
          56,
          56,
          60,
          67,
          77,
          62,
          68,
          28,
          65,
          38,
          62,
          74,
          28,
          32,
          31,
          59,
          39,
          62,
          34,
          36,
          49,
          66,
          67,
          64,
          28,
          55,
          64,
          56,
          41,
          51,
          32,
          67,
          46,
          38,
          51,
          65,
          47,
          67,
          44,
          48,
          49,
          44,
          28,
          57,
          57,
          55,
          62,
          54,
          61,
          58,
          64,
          46,
          37,
          25,
          40,
          32,
          47,
          61,
          62,
          86,
          64,
          78,
          54,
          38,
          36,
          45,
          68,
          43,
          74,
          46,
          30,
          54,
          60,
          58,
          61,
          44,
          53,
          55,
          72,
          44,
          40,
          63,
          74,
          35,
          48,
          53,
          44,
          63,
          56,
          66,
          62,
          58,
          32,
          58,
          44,
          32,
          50,
          31,
          65,
          27,
          42,
          48,
          47,
          69,
          52,
          73,
          44,
          51,
          30,
          31,
          51,
          51,
          54,
          52,
          48,
          78,
          46,
          52,
          56,
          64,
          39,
          69,
          58,
          32,
          38,
          64,
          36,
          49,
          52,
          54,
          63,
          41,
          63,
          39,
          48,
          63,
          67,
          61,
          63,
          30,
          42,
          33,
          58,
          48,
          46,
          35,
          57,
          29,
          25,
          31,
          31,
          51,
          43,
          37,
          49,
          50,
          58,
          47,
          33,
          48,
          55,
          48,
          58,
          53,
          45,
          47,
          61,
          27,
          46,
          59,
          33,
          46,
          54,
          46,
          47,
          63,
          77,
          64,
          62,
          72,
          28,
          44,
          57,
          30,
          33,
          52,
          73,
          52,
          56,
          62,
          42,
          44,
          60,
          32,
          52,
          53,
          53,
          83,
          58,
          41,
          43,
          77,
          49,
          46,
          41,
          59,
          62,
          43,
          67,
          42,
          58,
          39,
          60,
          48,
          73,
          46,
          52,
          26,
          50,
          32,
          27,
          41,
          58,
          45,
          50,
          79,
          35,
          36,
          42,
          50,
          31,
          73,
          68,
          60,
          59,
          44,
          66,
          32,
          32,
          44,
          41,
          60,
          68,
          57,
          46,
          47,
          68,
          52,
          62,
          44,
          63,
          53,
          39,
          70,
          59,
          51,
          69,
          66,
          35,
          42,
          43,
          48,
          63,
          66,
          76,
          51,
          57,
          52,
          55,
          59,
          58,
          64,
          60,
          65,
          47,
          56,
          69,
          70,
          60,
          33,
          53,
          54,
          47,
          55,
          41,
          53,
          63,
          60,
          64,
          52,
          44,
          71,
          56,
          46,
          65,
          50,
          45,
          59,
          47,
          41,
          44,
          61,
          75,
          30,
          43,
          50,
          60,
          76,
          50,
          58,
          62,
          42,
          78,
          86,
          74,
          38,
          53,
          55,
          54,
          59,
          65,
          51,
          53,
          62,
          54,
          59,
          60,
          62,
          52,
          50,
          43,
          53,
          56,
          49,
          31,
          51,
          42,
          64,
          41,
          47,
          56,
          57,
          56,
          58,
          40,
          63,
          61,
          61,
          51,
          39,
          62,
          66,
          43,
          56,
          44,
          48,
          72,
          26,
          36,
          46,
          46,
          62,
          32,
          42,
          54,
          35,
          38,
          69,
          54,
          54,
          68,
          47,
          49,
          65,
          43,
          51,
          53,
          48,
          66,
          48,
          58,
          58,
          66,
          55,
          30,
          48,
          64,
          44,
          47,
          45,
          36,
          52,
          29,
          53,
          58,
          48,
          57,
          67,
          39,
          52,
          51,
          56,
          65,
          45,
          37,
          65,
          53,
          63,
          37,
          48,
          50,
          41,
          64,
          47,
          46,
          64,
          37,
          64,
          28,
          43,
          63,
          49,
          47
         ],
         "xaxis": "x",
         "yaxis": "y"
        }
       ],
       "layout": {
        "barmode": "relative",
        "font": {
         "color": "#351f39",
         "family": "Courier New"
        },
        "legend": {
         "tracegroupgap": 0
        },
        "margin": {
         "t": 60
        },
        "template": {
         "data": {
          "bar": [
           {
            "error_x": {
             "color": "#2a3f5f"
            },
            "error_y": {
             "color": "#2a3f5f"
            },
            "marker": {
             "line": {
              "color": "#E5ECF6",
              "width": 0.5
             },
             "pattern": {
              "fillmode": "overlay",
              "size": 10,
              "solidity": 0.2
             }
            },
            "type": "bar"
           }
          ],
          "barpolar": [
           {
            "marker": {
             "line": {
              "color": "#E5ECF6",
              "width": 0.5
             },
             "pattern": {
              "fillmode": "overlay",
              "size": 10,
              "solidity": 0.2
             }
            },
            "type": "barpolar"
           }
          ],
          "carpet": [
           {
            "aaxis": {
             "endlinecolor": "#2a3f5f",
             "gridcolor": "white",
             "linecolor": "white",
             "minorgridcolor": "white",
             "startlinecolor": "#2a3f5f"
            },
            "baxis": {
             "endlinecolor": "#2a3f5f",
             "gridcolor": "white",
             "linecolor": "white",
             "minorgridcolor": "white",
             "startlinecolor": "#2a3f5f"
            },
            "type": "carpet"
           }
          ],
          "choropleth": [
           {
            "colorbar": {
             "outlinewidth": 0,
             "ticks": ""
            },
            "type": "choropleth"
           }
          ],
          "contour": [
           {
            "colorbar": {
             "outlinewidth": 0,
             "ticks": ""
            },
            "colorscale": [
             [
              0,
              "#0d0887"
             ],
             [
              0.1111111111111111,
              "#46039f"
             ],
             [
              0.2222222222222222,
              "#7201a8"
             ],
             [
              0.3333333333333333,
              "#9c179e"
             ],
             [
              0.4444444444444444,
              "#bd3786"
             ],
             [
              0.5555555555555556,
              "#d8576b"
             ],
             [
              0.6666666666666666,
              "#ed7953"
             ],
             [
              0.7777777777777778,
              "#fb9f3a"
             ],
             [
              0.8888888888888888,
              "#fdca26"
             ],
             [
              1,
              "#f0f921"
             ]
            ],
            "type": "contour"
           }
          ],
          "contourcarpet": [
           {
            "colorbar": {
             "outlinewidth": 0,
             "ticks": ""
            },
            "type": "contourcarpet"
           }
          ],
          "heatmap": [
           {
            "colorbar": {
             "outlinewidth": 0,
             "ticks": ""
            },
            "colorscale": [
             [
              0,
              "#0d0887"
             ],
             [
              0.1111111111111111,
              "#46039f"
             ],
             [
              0.2222222222222222,
              "#7201a8"
             ],
             [
              0.3333333333333333,
              "#9c179e"
             ],
             [
              0.4444444444444444,
              "#bd3786"
             ],
             [
              0.5555555555555556,
              "#d8576b"
             ],
             [
              0.6666666666666666,
              "#ed7953"
             ],
             [
              0.7777777777777778,
              "#fb9f3a"
             ],
             [
              0.8888888888888888,
              "#fdca26"
             ],
             [
              1,
              "#f0f921"
             ]
            ],
            "type": "heatmap"
           }
          ],
          "heatmapgl": [
           {
            "colorbar": {
             "outlinewidth": 0,
             "ticks": ""
            },
            "colorscale": [
             [
              0,
              "#0d0887"
             ],
             [
              0.1111111111111111,
              "#46039f"
             ],
             [
              0.2222222222222222,
              "#7201a8"
             ],
             [
              0.3333333333333333,
              "#9c179e"
             ],
             [
              0.4444444444444444,
              "#bd3786"
             ],
             [
              0.5555555555555556,
              "#d8576b"
             ],
             [
              0.6666666666666666,
              "#ed7953"
             ],
             [
              0.7777777777777778,
              "#fb9f3a"
             ],
             [
              0.8888888888888888,
              "#fdca26"
             ],
             [
              1,
              "#f0f921"
             ]
            ],
            "type": "heatmapgl"
           }
          ],
          "histogram": [
           {
            "marker": {
             "pattern": {
              "fillmode": "overlay",
              "size": 10,
              "solidity": 0.2
             }
            },
            "type": "histogram"
           }
          ],
          "histogram2d": [
           {
            "colorbar": {
             "outlinewidth": 0,
             "ticks": ""
            },
            "colorscale": [
             [
              0,
              "#0d0887"
             ],
             [
              0.1111111111111111,
              "#46039f"
             ],
             [
              0.2222222222222222,
              "#7201a8"
             ],
             [
              0.3333333333333333,
              "#9c179e"
             ],
             [
              0.4444444444444444,
              "#bd3786"
             ],
             [
              0.5555555555555556,
              "#d8576b"
             ],
             [
              0.6666666666666666,
              "#ed7953"
             ],
             [
              0.7777777777777778,
              "#fb9f3a"
             ],
             [
              0.8888888888888888,
              "#fdca26"
             ],
             [
              1,
              "#f0f921"
             ]
            ],
            "type": "histogram2d"
           }
          ],
          "histogram2dcontour": [
           {
            "colorbar": {
             "outlinewidth": 0,
             "ticks": ""
            },
            "colorscale": [
             [
              0,
              "#0d0887"
             ],
             [
              0.1111111111111111,
              "#46039f"
             ],
             [
              0.2222222222222222,
              "#7201a8"
             ],
             [
              0.3333333333333333,
              "#9c179e"
             ],
             [
              0.4444444444444444,
              "#bd3786"
             ],
             [
              0.5555555555555556,
              "#d8576b"
             ],
             [
              0.6666666666666666,
              "#ed7953"
             ],
             [
              0.7777777777777778,
              "#fb9f3a"
             ],
             [
              0.8888888888888888,
              "#fdca26"
             ],
             [
              1,
              "#f0f921"
             ]
            ],
            "type": "histogram2dcontour"
           }
          ],
          "mesh3d": [
           {
            "colorbar": {
             "outlinewidth": 0,
             "ticks": ""
            },
            "type": "mesh3d"
           }
          ],
          "parcoords": [
           {
            "line": {
             "colorbar": {
              "outlinewidth": 0,
              "ticks": ""
             }
            },
            "type": "parcoords"
           }
          ],
          "pie": [
           {
            "automargin": true,
            "type": "pie"
           }
          ],
          "scatter": [
           {
            "marker": {
             "colorbar": {
              "outlinewidth": 0,
              "ticks": ""
             }
            },
            "type": "scatter"
           }
          ],
          "scatter3d": [
           {
            "line": {
             "colorbar": {
              "outlinewidth": 0,
              "ticks": ""
             }
            },
            "marker": {
             "colorbar": {
              "outlinewidth": 0,
              "ticks": ""
             }
            },
            "type": "scatter3d"
           }
          ],
          "scattercarpet": [
           {
            "marker": {
             "colorbar": {
              "outlinewidth": 0,
              "ticks": ""
             }
            },
            "type": "scattercarpet"
           }
          ],
          "scattergeo": [
           {
            "marker": {
             "colorbar": {
              "outlinewidth": 0,
              "ticks": ""
             }
            },
            "type": "scattergeo"
           }
          ],
          "scattergl": [
           {
            "marker": {
             "colorbar": {
              "outlinewidth": 0,
              "ticks": ""
             }
            },
            "type": "scattergl"
           }
          ],
          "scattermapbox": [
           {
            "marker": {
             "colorbar": {
              "outlinewidth": 0,
              "ticks": ""
             }
            },
            "type": "scattermapbox"
           }
          ],
          "scatterpolar": [
           {
            "marker": {
             "colorbar": {
              "outlinewidth": 0,
              "ticks": ""
             }
            },
            "type": "scatterpolar"
           }
          ],
          "scatterpolargl": [
           {
            "marker": {
             "colorbar": {
              "outlinewidth": 0,
              "ticks": ""
             }
            },
            "type": "scatterpolargl"
           }
          ],
          "scatterternary": [
           {
            "marker": {
             "colorbar": {
              "outlinewidth": 0,
              "ticks": ""
             }
            },
            "type": "scatterternary"
           }
          ],
          "surface": [
           {
            "colorbar": {
             "outlinewidth": 0,
             "ticks": ""
            },
            "colorscale": [
             [
              0,
              "#0d0887"
             ],
             [
              0.1111111111111111,
              "#46039f"
             ],
             [
              0.2222222222222222,
              "#7201a8"
             ],
             [
              0.3333333333333333,
              "#9c179e"
             ],
             [
              0.4444444444444444,
              "#bd3786"
             ],
             [
              0.5555555555555556,
              "#d8576b"
             ],
             [
              0.6666666666666666,
              "#ed7953"
             ],
             [
              0.7777777777777778,
              "#fb9f3a"
             ],
             [
              0.8888888888888888,
              "#fdca26"
             ],
             [
              1,
              "#f0f921"
             ]
            ],
            "type": "surface"
           }
          ],
          "table": [
           {
            "cells": {
             "fill": {
              "color": "#EBF0F8"
             },
             "line": {
              "color": "white"
             }
            },
            "header": {
             "fill": {
              "color": "#C8D4E3"
             },
             "line": {
              "color": "white"
             }
            },
            "type": "table"
           }
          ]
         },
         "layout": {
          "annotationdefaults": {
           "arrowcolor": "#2a3f5f",
           "arrowhead": 0,
           "arrowwidth": 1
          },
          "autotypenumbers": "strict",
          "coloraxis": {
           "colorbar": {
            "outlinewidth": 0,
            "ticks": ""
           }
          },
          "colorscale": {
           "diverging": [
            [
             0,
             "#8e0152"
            ],
            [
             0.1,
             "#c51b7d"
            ],
            [
             0.2,
             "#de77ae"
            ],
            [
             0.3,
             "#f1b6da"
            ],
            [
             0.4,
             "#fde0ef"
            ],
            [
             0.5,
             "#f7f7f7"
            ],
            [
             0.6,
             "#e6f5d0"
            ],
            [
             0.7,
             "#b8e186"
            ],
            [
             0.8,
             "#7fbc41"
            ],
            [
             0.9,
             "#4d9221"
            ],
            [
             1,
             "#276419"
            ]
           ],
           "sequential": [
            [
             0,
             "#0d0887"
            ],
            [
             0.1111111111111111,
             "#46039f"
            ],
            [
             0.2222222222222222,
             "#7201a8"
            ],
            [
             0.3333333333333333,
             "#9c179e"
            ],
            [
             0.4444444444444444,
             "#bd3786"
            ],
            [
             0.5555555555555556,
             "#d8576b"
            ],
            [
             0.6666666666666666,
             "#ed7953"
            ],
            [
             0.7777777777777778,
             "#fb9f3a"
            ],
            [
             0.8888888888888888,
             "#fdca26"
            ],
            [
             1,
             "#f0f921"
            ]
           ],
           "sequentialminus": [
            [
             0,
             "#0d0887"
            ],
            [
             0.1111111111111111,
             "#46039f"
            ],
            [
             0.2222222222222222,
             "#7201a8"
            ],
            [
             0.3333333333333333,
             "#9c179e"
            ],
            [
             0.4444444444444444,
             "#bd3786"
            ],
            [
             0.5555555555555556,
             "#d8576b"
            ],
            [
             0.6666666666666666,
             "#ed7953"
            ],
            [
             0.7777777777777778,
             "#fb9f3a"
            ],
            [
             0.8888888888888888,
             "#fdca26"
            ],
            [
             1,
             "#f0f921"
            ]
           ]
          },
          "colorway": [
           "#636efa",
           "#EF553B",
           "#00cc96",
           "#ab63fa",
           "#FFA15A",
           "#19d3f3",
           "#FF6692",
           "#B6E880",
           "#FF97FF",
           "#FECB52"
          ],
          "font": {
           "color": "#2a3f5f"
          },
          "geo": {
           "bgcolor": "white",
           "lakecolor": "white",
           "landcolor": "#E5ECF6",
           "showlakes": true,
           "showland": true,
           "subunitcolor": "white"
          },
          "hoverlabel": {
           "align": "left"
          },
          "hovermode": "closest",
          "mapbox": {
           "style": "light"
          },
          "paper_bgcolor": "white",
          "plot_bgcolor": "#E5ECF6",
          "polar": {
           "angularaxis": {
            "gridcolor": "white",
            "linecolor": "white",
            "ticks": ""
           },
           "bgcolor": "#E5ECF6",
           "radialaxis": {
            "gridcolor": "white",
            "linecolor": "white",
            "ticks": ""
           }
          },
          "scene": {
           "xaxis": {
            "backgroundcolor": "#E5ECF6",
            "gridcolor": "white",
            "gridwidth": 2,
            "linecolor": "white",
            "showbackground": true,
            "ticks": "",
            "zerolinecolor": "white"
           },
           "yaxis": {
            "backgroundcolor": "#E5ECF6",
            "gridcolor": "white",
            "gridwidth": 2,
            "linecolor": "white",
            "showbackground": true,
            "ticks": "",
            "zerolinecolor": "white"
           },
           "zaxis": {
            "backgroundcolor": "#E5ECF6",
            "gridcolor": "white",
            "gridwidth": 2,
            "linecolor": "white",
            "showbackground": true,
            "ticks": "",
            "zerolinecolor": "white"
           }
          },
          "shapedefaults": {
           "line": {
            "color": "#2a3f5f"
           }
          },
          "ternary": {
           "aaxis": {
            "gridcolor": "white",
            "linecolor": "white",
            "ticks": ""
           },
           "baxis": {
            "gridcolor": "white",
            "linecolor": "white",
            "ticks": ""
           },
           "bgcolor": "#E5ECF6",
           "caxis": {
            "gridcolor": "white",
            "linecolor": "white",
            "ticks": ""
           }
          },
          "title": {
           "x": 0.05
          },
          "xaxis": {
           "automargin": true,
           "gridcolor": "white",
           "linecolor": "white",
           "ticks": "",
           "title": {
            "standoff": 15
           },
           "zerolinecolor": "white",
           "zerolinewidth": 2
          },
          "yaxis": {
           "automargin": true,
           "gridcolor": "white",
           "linecolor": "white",
           "ticks": "",
           "title": {
            "standoff": 15
           },
           "zerolinecolor": "white",
           "zerolinewidth": 2
          }
         }
        },
        "title": {
         "font": {
          "color": "#351f39",
          "family": "Courier New"
         },
         "text": "Age Distribution of Candidates"
        },
        "xaxis": {
         "anchor": "y",
         "domain": [
          0,
          1
         ],
         "title": {
          "text": "Distribution"
         }
        },
        "yaxis": {
         "anchor": "x",
         "domain": [
          0,
          1
         ],
         "title": {
          "text": "Age"
         }
        }
       }
      },
      "text/html": [
       "<div>                            <div id=\"7b8a6da3-e75e-4945-bce8-be4763ac22da\" class=\"plotly-graph-div\" style=\"height:525px; width:100%;\"></div>            <script type=\"text/javascript\">                require([\"plotly\"], function(Plotly) {                    window.PLOTLYENV=window.PLOTLYENV || {};                                    if (document.getElementById(\"7b8a6da3-e75e-4945-bce8-be4763ac22da\")) {                    Plotly.newPlot(                        \"7b8a6da3-e75e-4945-bce8-be4763ac22da\",                        [{\"alignmentgroup\":\"True\",\"bingroup\":\"x\",\"hovertemplate\":\"AGE=%{x}<br>count=%{y}<extra></extra>\",\"legendgroup\":\"\",\"marker\":{\"color\":\"indianred\",\"pattern\":{\"shape\":\"\"}},\"name\":\"\",\"offsetgroup\":\"\",\"orientation\":\"v\",\"showlegend\":false,\"type\":\"histogram\",\"x\":[52.0,54.0,52.0,58.0,47.0,54.0,37.0,34.0,62.0,58.0,38.0,69.0,68.0,66.0,64.0,40.0,60.0,60.0,64.0,46.0,58.0,60.0,64.0,60.0,54.0,52.0,64.0,32.0,44.0,61.0,46.0,51.0,62.0,43.0,52.0,42.0,44.0,69.0,63.0,49.0,77.0,46.0,60.0,41.0,35.0,47.0,31.0,46.0,28.0,59.0,67.0,56.0,55.0,61.0,38.0,71.0,36.0,43.0,48.0,33.0,71.0,47.0,56.0,64.0,42.0,47.0,46.0,67.0,58.0,55.0,43.0,58.0,35.0,52.0,43.0,56.0,65.0,54.0,65.0,53.0,69.0,62.0,51.0,48.0,45.0,29.0,58.0,65.0,60.0,59.0,53.0,60.0,45.0,52.0,46.0,61.0,49.0,43.0,50.0,57.0,64.0,71.0,55.0,43.0,40.0,61.0,33.0,55.0,59.0,41.0,46.0,63.0,55.0,37.0,41.0,52.0,50.0,66.0,36.0,81.0,70.0,26.0,72.0,49.0,54.0,46.0,61.0,37.0,54.0,69.0,47.0,38.0,68.0,47.0,51.0,56.0,42.0,45.0,48.0,65.0,59.0,37.0,62.0,70.0,47.0,47.0,63.0,56.0,49.0,53.0,50.0,34.0,55.0,67.0,41.0,56.0,62.0,42.0,43.0,35.0,58.0,46.0,49.0,76.0,68.0,61.0,39.0,45.0,40.0,34.0,40.0,66.0,68.0,38.0,63.0,40.0,63.0,55.0,55.0,38.0,66.0,73.0,60.0,38.0,66.0,53.0,68.0,62.0,64.0,51.0,46.0,62.0,56.0,51.0,39.0,52.0,50.0,40.0,70.0,75.0,39.0,49.0,33.0,59.0,74.0,59.0,37.0,55.0,39.0,53.0,66.0,46.0,52.0,59.0,43.0,28.0,64.0,37.0,51.0,55.0,28.0,58.0,65.0,61.0,44.0,46.0,38.0,50.0,65.0,72.0,67.0,40.0,42.0,62.0,62.0,65.0,43.0,31.0,26.0,42.0,65.0,64.0,65.0,51.0,68.0,34.0,49.0,34.0,43.0,71.0,67.0,54.0,59.0,55.0,65.0,48.0,60.0,68.0,61.0,57.0,67.0,73.0,50.0,39.0,61.0,61.0,58.0,37.0,49.0,53.0,70.0,63.0,61.0,59.0,69.0,51.0,45.0,55.0,39.0,44.0,66.0,44.0,65.0,57.0,68.0,47.0,44.0,28.0,42.0,51.0,70.0,38.0,46.0,42.0,55.0,38.0,29.0,40.0,45.0,65.0,50.0,42.0,52.0,41.0,33.0,54.0,36.0,48.0,62.0,57.0,66.0,32.0,59.0,27.0,63.0,69.0,67.0,65.0,68.0,44.0,52.0,55.0,31.0,44.0,44.0,59.0,59.0,42.0,49.0,42.0,41.0,43.0,50.0,64.0,37.0,68.0,56.0,39.0,59.0,56.0,61.0,37.0,73.0,40.0,55.0,50.0,62.0,52.0,40.0,42.0,45.0,28.0,67.0,58.0,62.0,69.0,27.0,64.0,43.0,30.0,46.0,55.0,60.0,46.0,54.0,44.0,49.0,71.0,49.0,63.0,71.0,50.0,57.0,65.0,66.0,42.0,33.0,36.0,53.0,55.0,59.0,65.0,55.0,47.0,51.0,51.0,47.0,49.0,63.0,54.0,51.0,49.0,38.0,39.0,72.0,67.0,57.0,45.0,45.0,49.0,63.0,53.0,61.0,47.0,44.0,42.0,50.0,58.0,58.0,58.0,57.0,66.0,75.0,50.0,34.0,66.0,71.0,59.0,71.0,58.0,42.0,62.0,43.0,52.0,32.0,66.0,70.0,78.0,44.0,64.0,74.0,52.0,43.0,64.0,48.0,55.0,62.0,52.0,40.0,36.0,43.0,66.0,41.0,52.0,41.0,54.0,31.0,48.0,49.0,65.0,62.0,33.0,44.0,56.0,31.0,40.0,26.0,55.0,54.0,59.0,58.0,44.0,57.0,56.0,45.0,47.0,53.0,48.0,56.0,46.0,55.0,49.0,76.0,79.0,65.0,48.0,55.0,72.0,49.0,62.0,64.0,68.0,67.0,60.0,45.0,43.0,68.0,42.0,58.0,41.0,57.0,68.0,61.0,55.0,36.0,68.0,33.0,66.0,61.0,38.0,48.0,69.0,49.0,40.0,44.0,62.0,63.0,67.0,56.0,46.0,40.0,35.0,33.0,31.0,52.0,58.0,64.0,51.0,52.0,34.0,57.0,63.0,44.0,42.0,59.0,57.0,34.0,49.0,67.0,58.0,64.0,33.0,71.0,65.0,46.0,49.0,71.0,54.0,36.0,67.0,51.0,69.0,35.0,65.0,43.0,69.0,58.0,65.0,38.0,61.0,41.0,50.0,57.0,30.0,43.0,56.0,52.0,45.0,63.0,42.0,58.0,59.0,77.0,63.0,52.0,50.0,66.0,45.0,46.0,31.0,43.0,48.0,49.0,48.0,67.0,52.0,42.0,52.0,40.0,44.0,70.0,53.0,68.0,37.0,37.0,71.0,53.0,67.0,37.0,39.0,72.0,60.0,45.0,44.0,45.0,59.0,61.0,25.0,37.0,50.0,37.0,48.0,46.0,59.0,55.0,35.0,51.0,65.0,72.0,52.0,43.0,43.0,41.0,58.0,70.0,54.0,35.0,45.0,64.0,55.0,68.0,62.0,62.0,43.0,78.0,61.0,78.0,61.0,50.0,54.0,66.0,65.0,66.0,44.0,35.0,52.0,62.0,63.0,52.0,68.0,44.0,68.0,32.0,64.0,56.0,56.0,49.0,54.0,55.0,48.0,66.0,44.0,59.0,54.0,61.0,48.0,63.0,74.0,55.0,50.0,67.0,52.0,53.0,59.0,42.0,30.0,55.0,73.0,49.0,61.0,27.0,46.0,48.0,38.0,53.0,49.0,52.0,36.0,56.0,63.0,33.0,67.0,76.0,34.0,65.0,59.0,59.0,46.0,36.0,78.0,53.0,70.0,64.0,50.0,52.0,47.0,53.0,46.0,82.0,36.0,53.0,52.0,62.0,61.0,41.0,29.0,40.0,46.0,44.0,51.0,58.0,64.0,60.0,77.0,43.0,48.0,41.0,53.0,52.0,50.0,53.0,59.0,65.0,37.0,49.0,69.0,60.0,58.0,71.0,56.0,50.0,66.0,49.0,32.0,33.0,47.0,41.0,44.0,45.0,42.0,68.0,64.0,43.0,61.0,55.0,46.0,59.0,70.0,60.0,28.0,60.0,29.0,61.0,68.0,71.0,38.0,51.0,56.0,52.0,72.0,55.0,74.0,73.0,42.0,34.0,50.0,63.0,41.0,60.0,48.0,56.0,60.0,44.0,46.0,31.0,26.0,58.0,45.0,70.0,54.0,57.0,54.0,39.0,68.0,70.0,49.0,68.0,42.0,64.0,60.0,44.0,61.0,49.0,67.0,46.0,46.0,37.0,49.0,49.0,57.0,58.0,67.0,59.0,69.0,40.0,59.0,56.0,63.0,78.0,30.0,37.0,68.0,54.0,55.0,56.0,68.0,60.0,60.0,54.0,38.0,38.0,68.0,61.0,44.0,49.0,41.0,45.0,61.0,50.0,72.0,82.0,40.0,69.0,60.0,46.0,56.0,55.0,40.0,63.0,50.0,65.0,50.0,65.0,42.0,44.0,51.0,62.0,62.0,61.0,56.0,56.0,44.0,60.0,56.0,62.0,37.0,56.0,51.0,60.0,32.0,58.0,48.0,59.0,53.0,65.0,52.0,42.0,60.0,65.0,42.0,48.0,53.0,43.0,67.0,64.0,50.0,48.0,48.0,63.0,51.0,29.0,65.0,45.0,53.0,54.0,59.0,47.0,56.0,48.0,48.0,54.0,58.0,64.0,51.0,38.0,50.0,44.0,42.0,36.0,55.0,48.0,40.0,52.0,34.0,61.0,48.0,48.0,64.0,62.0,66.0,55.0,49.0,62.0,58.0,52.0,60.0,43.0,42.0,36.0,41.0,57.0,44.0,51.0,69.0,40.0,32.0,52.0,54.0,35.0,44.0,36.0,26.0,51.0,55.0,66.0,37.0,67.0,45.0,61.0,52.0,39.0,41.0,68.0,67.0,41.0,55.0,70.0,69.0,70.0,71.0,74.0,61.0,77.0,46.0,38.0,65.0,64.0,56.0,63.0,45.0,48.0,43.0,49.0,31.0,44.0,46.0,66.0,37.0,47.0,59.0,52.0,38.0,51.0,62.0,31.0,41.0,56.0,43.0,73.0,53.0,52.0,42.0,65.0,61.0,52.0,51.0,68.0,49.0,57.0,61.0,52.0,37.0,55.0,65.0,25.0,49.0,43.0,48.0,65.0,65.0,33.0,52.0,40.0,31.0,27.0,35.0,44.0,38.0,49.0,39.0,39.0,62.0,64.0,54.0,47.0,46.0,61.0,66.0,45.0,60.0,43.0,55.0,39.0,33.0,54.0,58.0,60.0,29.0,71.0,68.0,50.0,57.0,40.0,50.0,54.0,54.0,55.0,42.0,50.0,61.0,46.0,28.0,50.0,69.0,56.0,50.0,26.0,44.0,71.0,54.0,47.0,37.0,61.0,58.0,53.0,44.0,70.0,55.0,50.0,57.0,58.0,55.0,57.0,64.0,38.0,40.0,33.0,63.0,61.0,67.0,45.0,27.0,65.0,52.0,45.0,45.0,44.0,56.0,75.0,66.0,64.0,68.0,66.0,55.0,39.0,58.0,67.0,37.0,50.0,44.0,40.0,57.0,70.0,52.0,67.0,42.0,48.0,58.0,49.0,66.0,59.0,57.0,26.0,50.0,65.0,55.0,33.0,37.0,54.0,61.0,53.0,51.0,51.0,43.0,36.0,64.0,44.0,43.0,45.0,29.0,57.0,59.0,59.0,52.0,57.0,53.0,41.0,26.0,47.0,67.0,68.0,56.0,43.0,48.0,69.0,32.0,58.0,70.0,70.0,50.0,68.0,44.0,42.0,50.0,78.0,43.0,67.0,71.0,51.0,57.0,49.0,63.0,57.0,30.0,39.0,49.0,36.0,42.0,52.0,38.0,39.0,55.0,33.0,45.0,37.0,38.0,49.0,54.0,55.0,36.0,55.0,41.0,51.0,47.0,67.0,51.0,66.0,33.0,60.0,59.0,38.0,71.0,73.0,79.0,60.0,67.0,30.0,54.0,48.0,72.0,54.0,63.0,59.0,39.0,47.0,69.0,51.0,50.0,59.0,43.0,60.0,32.0,48.0,59.0,58.0,57.0,43.0,40.0,59.0,45.0,55.0,31.0,36.0,45.0,67.0,55.0,70.0,66.0,63.0,80.0,46.0,42.0,63.0,55.0,29.0,47.0,56.0,53.0,64.0,74.0,64.0,39.0,27.0,46.0,54.0,41.0,47.0,47.0,53.0,46.0,54.0,49.0,61.0,33.0,54.0,67.0,50.0,64.0,68.0,60.0,68.0,37.0,54.0,41.0,64.0,52.0,44.0,53.0,62.0,41.0,59.0,36.0,54.0,59.0,49.0,60.0,60.0,67.0,32.0,61.0,59.0,61.0,65.0,48.0,48.0,38.0,52.0,46.0,46.0,50.0,50.0,75.0,54.0,46.0,67.0,43.0,68.0,47.0,79.0,51.0,41.0,65.0,48.0,38.0,50.0,46.0,42.0,34.0,57.0,69.0,56.0,64.0,46.0,78.0,50.0,41.0,70.0,40.0,42.0,62.0,46.0,40.0,43.0,57.0,59.0,62.0,75.0,38.0,63.0,41.0,36.0,25.0,61.0,66.0,68.0,43.0,53.0,45.0,47.0,47.0,41.0,55.0,56.0,69.0,62.0,56.0,47.0,47.0,57.0,71.0,46.0,60.0,46.0,61.0,60.0,33.0,33.0,55.0,63.0,61.0,45.0,54.0,70.0,44.0,57.0,54.0,57.0,60.0,42.0,31.0,61.0,33.0,58.0,60.0,57.0,69.0,33.0,35.0,75.0,52.0,64.0,57.0,48.0,58.0,71.0,59.0,48.0,45.0,61.0,38.0,64.0,47.0,36.0,53.0,33.0,67.0,70.0,60.0,67.0,51.0,55.0,43.0,55.0,59.0,55.0,66.0,43.0,41.0,61.0,47.0,81.0,38.0,43.0,66.0,52.0,59.0,57.0,70.0,53.0,59.0,46.0,65.0,61.0,49.0,35.0,47.0,39.0,59.0,36.0,56.0,64.0,43.0,49.0,48.0,48.0,68.0,51.0,47.0,40.0,28.0,65.0,33.0,51.0,63.0,55.0,34.0,43.0,65.0,69.0,59.0,68.0,52.0,39.0,37.0,52.0,54.0,41.0,39.0,39.0,58.0,42.0,46.0,64.0,62.0,62.0,42.0,49.0,74.0,68.0,68.0,47.0,64.0,73.0,42.0,60.0,52.0,42.0,36.0,77.0,55.0,36.0,58.0,62.0,58.0,38.0,39.0,43.0,49.0,47.0,40.0,35.0,49.0,72.0,61.0,40.0,36.0,57.0,57.0,44.0,48.0,45.0,57.0,51.0,68.0,29.0,72.0,68.0,62.0,35.0,59.0,45.0,51.0,43.0,66.0,32.0,29.0,49.0,34.0,56.0,58.0,73.0,69.0,30.0,42.0,34.0,55.0,72.0,51.0,62.0,53.0,37.0,64.0,67.0,61.0,50.0,48.0,64.0,61.0,58.0,43.0,42.0,58.0,57.0,53.0,36.0,45.0,55.0,55.0,42.0,68.0,42.0,48.0,58.0,50.0,67.0,61.0,48.0,36.0,63.0,56.0,32.0,65.0,51.0,60.0,45.0,48.0,76.0,45.0,44.0,39.0,59.0,38.0,37.0,30.0,64.0,57.0,56.0,53.0,61.0,29.0,58.0,56.0,25.0,56.0,56.0,60.0,67.0,77.0,62.0,68.0,28.0,65.0,38.0,62.0,74.0,28.0,32.0,31.0,59.0,39.0,62.0,34.0,36.0,49.0,66.0,67.0,64.0,28.0,55.0,64.0,56.0,41.0,51.0,32.0,67.0,46.0,38.0,51.0,65.0,47.0,67.0,44.0,48.0,49.0,44.0,28.0,57.0,57.0,55.0,62.0,54.0,61.0,58.0,64.0,46.0,37.0,25.0,40.0,32.0,47.0,61.0,62.0,86.0,64.0,78.0,54.0,38.0,36.0,45.0,68.0,43.0,74.0,46.0,30.0,54.0,60.0,58.0,61.0,44.0,53.0,55.0,72.0,44.0,40.0,63.0,74.0,35.0,48.0,53.0,44.0,63.0,56.0,66.0,62.0,58.0,32.0,58.0,44.0,32.0,50.0,31.0,65.0,27.0,42.0,48.0,47.0,69.0,52.0,73.0,44.0,51.0,30.0,31.0,51.0,51.0,54.0,52.0,48.0,78.0,46.0,52.0,56.0,64.0,39.0,69.0,58.0,32.0,38.0,64.0,36.0,49.0,52.0,54.0,63.0,41.0,63.0,39.0,48.0,63.0,67.0,61.0,63.0,30.0,42.0,33.0,58.0,48.0,46.0,35.0,57.0,29.0,25.0,31.0,31.0,51.0,43.0,37.0,49.0,50.0,58.0,47.0,33.0,48.0,55.0,48.0,58.0,53.0,45.0,47.0,61.0,27.0,46.0,59.0,33.0,46.0,54.0,46.0,47.0,63.0,77.0,64.0,62.0,72.0,28.0,44.0,57.0,30.0,33.0,52.0,73.0,52.0,56.0,62.0,42.0,44.0,60.0,32.0,52.0,53.0,53.0,83.0,58.0,41.0,43.0,77.0,49.0,46.0,41.0,59.0,62.0,43.0,67.0,42.0,58.0,39.0,60.0,48.0,73.0,46.0,52.0,26.0,50.0,32.0,27.0,41.0,58.0,45.0,50.0,79.0,35.0,36.0,42.0,50.0,31.0,73.0,68.0,60.0,59.0,44.0,66.0,32.0,32.0,44.0,41.0,60.0,68.0,57.0,46.0,47.0,68.0,52.0,62.0,44.0,63.0,53.0,39.0,70.0,59.0,51.0,69.0,66.0,35.0,42.0,43.0,48.0,63.0,66.0,76.0,51.0,57.0,52.0,55.0,59.0,58.0,64.0,60.0,65.0,47.0,56.0,69.0,70.0,60.0,33.0,53.0,54.0,47.0,55.0,41.0,53.0,63.0,60.0,64.0,52.0,44.0,71.0,56.0,46.0,65.0,50.0,45.0,59.0,47.0,41.0,44.0,61.0,75.0,30.0,43.0,50.0,60.0,76.0,50.0,58.0,62.0,42.0,78.0,86.0,74.0,38.0,53.0,55.0,54.0,59.0,65.0,51.0,53.0,62.0,54.0,59.0,60.0,62.0,52.0,50.0,43.0,53.0,56.0,49.0,31.0,51.0,42.0,64.0,41.0,47.0,56.0,57.0,56.0,58.0,40.0,63.0,61.0,61.0,51.0,39.0,62.0,66.0,43.0,56.0,44.0,48.0,72.0,26.0,36.0,46.0,46.0,62.0,32.0,42.0,54.0,35.0,38.0,69.0,54.0,54.0,68.0,47.0,49.0,65.0,43.0,51.0,53.0,48.0,66.0,48.0,58.0,58.0,66.0,55.0,30.0,48.0,64.0,44.0,47.0,45.0,36.0,52.0,29.0,53.0,58.0,48.0,57.0,67.0,39.0,52.0,51.0,56.0,65.0,45.0,37.0,65.0,53.0,63.0,37.0,48.0,50.0,41.0,64.0,47.0,46.0,64.0,37.0,64.0,28.0,43.0,63.0,49.0,47.0],\"xaxis\":\"x\",\"yaxis\":\"y\"}],                        {\"barmode\":\"relative\",\"font\":{\"color\":\"#351f39\",\"family\":\"Courier New\"},\"legend\":{\"tracegroupgap\":0},\"margin\":{\"t\":60},\"template\":{\"data\":{\"bar\":[{\"error_x\":{\"color\":\"#2a3f5f\"},\"error_y\":{\"color\":\"#2a3f5f\"},\"marker\":{\"line\":{\"color\":\"#E5ECF6\",\"width\":0.5},\"pattern\":{\"fillmode\":\"overlay\",\"size\":10,\"solidity\":0.2}},\"type\":\"bar\"}],\"barpolar\":[{\"marker\":{\"line\":{\"color\":\"#E5ECF6\",\"width\":0.5},\"pattern\":{\"fillmode\":\"overlay\",\"size\":10,\"solidity\":0.2}},\"type\":\"barpolar\"}],\"carpet\":[{\"aaxis\":{\"endlinecolor\":\"#2a3f5f\",\"gridcolor\":\"white\",\"linecolor\":\"white\",\"minorgridcolor\":\"white\",\"startlinecolor\":\"#2a3f5f\"},\"baxis\":{\"endlinecolor\":\"#2a3f5f\",\"gridcolor\":\"white\",\"linecolor\":\"white\",\"minorgridcolor\":\"white\",\"startlinecolor\":\"#2a3f5f\"},\"type\":\"carpet\"}],\"choropleth\":[{\"colorbar\":{\"outlinewidth\":0,\"ticks\":\"\"},\"type\":\"choropleth\"}],\"contour\":[{\"colorbar\":{\"outlinewidth\":0,\"ticks\":\"\"},\"colorscale\":[[0.0,\"#0d0887\"],[0.1111111111111111,\"#46039f\"],[0.2222222222222222,\"#7201a8\"],[0.3333333333333333,\"#9c179e\"],[0.4444444444444444,\"#bd3786\"],[0.5555555555555556,\"#d8576b\"],[0.6666666666666666,\"#ed7953\"],[0.7777777777777778,\"#fb9f3a\"],[0.8888888888888888,\"#fdca26\"],[1.0,\"#f0f921\"]],\"type\":\"contour\"}],\"contourcarpet\":[{\"colorbar\":{\"outlinewidth\":0,\"ticks\":\"\"},\"type\":\"contourcarpet\"}],\"heatmap\":[{\"colorbar\":{\"outlinewidth\":0,\"ticks\":\"\"},\"colorscale\":[[0.0,\"#0d0887\"],[0.1111111111111111,\"#46039f\"],[0.2222222222222222,\"#7201a8\"],[0.3333333333333333,\"#9c179e\"],[0.4444444444444444,\"#bd3786\"],[0.5555555555555556,\"#d8576b\"],[0.6666666666666666,\"#ed7953\"],[0.7777777777777778,\"#fb9f3a\"],[0.8888888888888888,\"#fdca26\"],[1.0,\"#f0f921\"]],\"type\":\"heatmap\"}],\"heatmapgl\":[{\"colorbar\":{\"outlinewidth\":0,\"ticks\":\"\"},\"colorscale\":[[0.0,\"#0d0887\"],[0.1111111111111111,\"#46039f\"],[0.2222222222222222,\"#7201a8\"],[0.3333333333333333,\"#9c179e\"],[0.4444444444444444,\"#bd3786\"],[0.5555555555555556,\"#d8576b\"],[0.6666666666666666,\"#ed7953\"],[0.7777777777777778,\"#fb9f3a\"],[0.8888888888888888,\"#fdca26\"],[1.0,\"#f0f921\"]],\"type\":\"heatmapgl\"}],\"histogram\":[{\"marker\":{\"pattern\":{\"fillmode\":\"overlay\",\"size\":10,\"solidity\":0.2}},\"type\":\"histogram\"}],\"histogram2d\":[{\"colorbar\":{\"outlinewidth\":0,\"ticks\":\"\"},\"colorscale\":[[0.0,\"#0d0887\"],[0.1111111111111111,\"#46039f\"],[0.2222222222222222,\"#7201a8\"],[0.3333333333333333,\"#9c179e\"],[0.4444444444444444,\"#bd3786\"],[0.5555555555555556,\"#d8576b\"],[0.6666666666666666,\"#ed7953\"],[0.7777777777777778,\"#fb9f3a\"],[0.8888888888888888,\"#fdca26\"],[1.0,\"#f0f921\"]],\"type\":\"histogram2d\"}],\"histogram2dcontour\":[{\"colorbar\":{\"outlinewidth\":0,\"ticks\":\"\"},\"colorscale\":[[0.0,\"#0d0887\"],[0.1111111111111111,\"#46039f\"],[0.2222222222222222,\"#7201a8\"],[0.3333333333333333,\"#9c179e\"],[0.4444444444444444,\"#bd3786\"],[0.5555555555555556,\"#d8576b\"],[0.6666666666666666,\"#ed7953\"],[0.7777777777777778,\"#fb9f3a\"],[0.8888888888888888,\"#fdca26\"],[1.0,\"#f0f921\"]],\"type\":\"histogram2dcontour\"}],\"mesh3d\":[{\"colorbar\":{\"outlinewidth\":0,\"ticks\":\"\"},\"type\":\"mesh3d\"}],\"parcoords\":[{\"line\":{\"colorbar\":{\"outlinewidth\":0,\"ticks\":\"\"}},\"type\":\"parcoords\"}],\"pie\":[{\"automargin\":true,\"type\":\"pie\"}],\"scatter\":[{\"marker\":{\"colorbar\":{\"outlinewidth\":0,\"ticks\":\"\"}},\"type\":\"scatter\"}],\"scatter3d\":[{\"line\":{\"colorbar\":{\"outlinewidth\":0,\"ticks\":\"\"}},\"marker\":{\"colorbar\":{\"outlinewidth\":0,\"ticks\":\"\"}},\"type\":\"scatter3d\"}],\"scattercarpet\":[{\"marker\":{\"colorbar\":{\"outlinewidth\":0,\"ticks\":\"\"}},\"type\":\"scattercarpet\"}],\"scattergeo\":[{\"marker\":{\"colorbar\":{\"outlinewidth\":0,\"ticks\":\"\"}},\"type\":\"scattergeo\"}],\"scattergl\":[{\"marker\":{\"colorbar\":{\"outlinewidth\":0,\"ticks\":\"\"}},\"type\":\"scattergl\"}],\"scattermapbox\":[{\"marker\":{\"colorbar\":{\"outlinewidth\":0,\"ticks\":\"\"}},\"type\":\"scattermapbox\"}],\"scatterpolar\":[{\"marker\":{\"colorbar\":{\"outlinewidth\":0,\"ticks\":\"\"}},\"type\":\"scatterpolar\"}],\"scatterpolargl\":[{\"marker\":{\"colorbar\":{\"outlinewidth\":0,\"ticks\":\"\"}},\"type\":\"scatterpolargl\"}],\"scatterternary\":[{\"marker\":{\"colorbar\":{\"outlinewidth\":0,\"ticks\":\"\"}},\"type\":\"scatterternary\"}],\"surface\":[{\"colorbar\":{\"outlinewidth\":0,\"ticks\":\"\"},\"colorscale\":[[0.0,\"#0d0887\"],[0.1111111111111111,\"#46039f\"],[0.2222222222222222,\"#7201a8\"],[0.3333333333333333,\"#9c179e\"],[0.4444444444444444,\"#bd3786\"],[0.5555555555555556,\"#d8576b\"],[0.6666666666666666,\"#ed7953\"],[0.7777777777777778,\"#fb9f3a\"],[0.8888888888888888,\"#fdca26\"],[1.0,\"#f0f921\"]],\"type\":\"surface\"}],\"table\":[{\"cells\":{\"fill\":{\"color\":\"#EBF0F8\"},\"line\":{\"color\":\"white\"}},\"header\":{\"fill\":{\"color\":\"#C8D4E3\"},\"line\":{\"color\":\"white\"}},\"type\":\"table\"}]},\"layout\":{\"annotationdefaults\":{\"arrowcolor\":\"#2a3f5f\",\"arrowhead\":0,\"arrowwidth\":1},\"autotypenumbers\":\"strict\",\"coloraxis\":{\"colorbar\":{\"outlinewidth\":0,\"ticks\":\"\"}},\"colorscale\":{\"diverging\":[[0,\"#8e0152\"],[0.1,\"#c51b7d\"],[0.2,\"#de77ae\"],[0.3,\"#f1b6da\"],[0.4,\"#fde0ef\"],[0.5,\"#f7f7f7\"],[0.6,\"#e6f5d0\"],[0.7,\"#b8e186\"],[0.8,\"#7fbc41\"],[0.9,\"#4d9221\"],[1,\"#276419\"]],\"sequential\":[[0.0,\"#0d0887\"],[0.1111111111111111,\"#46039f\"],[0.2222222222222222,\"#7201a8\"],[0.3333333333333333,\"#9c179e\"],[0.4444444444444444,\"#bd3786\"],[0.5555555555555556,\"#d8576b\"],[0.6666666666666666,\"#ed7953\"],[0.7777777777777778,\"#fb9f3a\"],[0.8888888888888888,\"#fdca26\"],[1.0,\"#f0f921\"]],\"sequentialminus\":[[0.0,\"#0d0887\"],[0.1111111111111111,\"#46039f\"],[0.2222222222222222,\"#7201a8\"],[0.3333333333333333,\"#9c179e\"],[0.4444444444444444,\"#bd3786\"],[0.5555555555555556,\"#d8576b\"],[0.6666666666666666,\"#ed7953\"],[0.7777777777777778,\"#fb9f3a\"],[0.8888888888888888,\"#fdca26\"],[1.0,\"#f0f921\"]]},\"colorway\":[\"#636efa\",\"#EF553B\",\"#00cc96\",\"#ab63fa\",\"#FFA15A\",\"#19d3f3\",\"#FF6692\",\"#B6E880\",\"#FF97FF\",\"#FECB52\"],\"font\":{\"color\":\"#2a3f5f\"},\"geo\":{\"bgcolor\":\"white\",\"lakecolor\":\"white\",\"landcolor\":\"#E5ECF6\",\"showlakes\":true,\"showland\":true,\"subunitcolor\":\"white\"},\"hoverlabel\":{\"align\":\"left\"},\"hovermode\":\"closest\",\"mapbox\":{\"style\":\"light\"},\"paper_bgcolor\":\"white\",\"plot_bgcolor\":\"#E5ECF6\",\"polar\":{\"angularaxis\":{\"gridcolor\":\"white\",\"linecolor\":\"white\",\"ticks\":\"\"},\"bgcolor\":\"#E5ECF6\",\"radialaxis\":{\"gridcolor\":\"white\",\"linecolor\":\"white\",\"ticks\":\"\"}},\"scene\":{\"xaxis\":{\"backgroundcolor\":\"#E5ECF6\",\"gridcolor\":\"white\",\"gridwidth\":2,\"linecolor\":\"white\",\"showbackground\":true,\"ticks\":\"\",\"zerolinecolor\":\"white\"},\"yaxis\":{\"backgroundcolor\":\"#E5ECF6\",\"gridcolor\":\"white\",\"gridwidth\":2,\"linecolor\":\"white\",\"showbackground\":true,\"ticks\":\"\",\"zerolinecolor\":\"white\"},\"zaxis\":{\"backgroundcolor\":\"#E5ECF6\",\"gridcolor\":\"white\",\"gridwidth\":2,\"linecolor\":\"white\",\"showbackground\":true,\"ticks\":\"\",\"zerolinecolor\":\"white\"}},\"shapedefaults\":{\"line\":{\"color\":\"#2a3f5f\"}},\"ternary\":{\"aaxis\":{\"gridcolor\":\"white\",\"linecolor\":\"white\",\"ticks\":\"\"},\"baxis\":{\"gridcolor\":\"white\",\"linecolor\":\"white\",\"ticks\":\"\"},\"bgcolor\":\"#E5ECF6\",\"caxis\":{\"gridcolor\":\"white\",\"linecolor\":\"white\",\"ticks\":\"\"}},\"title\":{\"x\":0.05},\"xaxis\":{\"automargin\":true,\"gridcolor\":\"white\",\"linecolor\":\"white\",\"ticks\":\"\",\"title\":{\"standoff\":15},\"zerolinecolor\":\"white\",\"zerolinewidth\":2},\"yaxis\":{\"automargin\":true,\"gridcolor\":\"white\",\"linecolor\":\"white\",\"ticks\":\"\",\"title\":{\"standoff\":15},\"zerolinecolor\":\"white\",\"zerolinewidth\":2}}},\"title\":{\"font\":{\"color\":\"#351f39\",\"family\":\"Courier New\"},\"text\":\"Age Distribution of Candidates\"},\"xaxis\":{\"anchor\":\"y\",\"domain\":[0.0,1.0],\"title\":{\"text\":\"Distribution\"}},\"yaxis\":{\"anchor\":\"x\",\"domain\":[0.0,1.0],\"title\":{\"text\":\"Age\"}}},                        {\"responsive\": true}                    ).then(function(){\n",
       "                            \n",
       "var gd = document.getElementById('7b8a6da3-e75e-4945-bce8-be4763ac22da');\n",
       "var x = new MutationObserver(function (mutations, observer) {{\n",
       "        var display = window.getComputedStyle(gd).display;\n",
       "        if (!display || display === 'none') {{\n",
       "            console.log([gd, 'removed!']);\n",
       "            Plotly.purge(gd);\n",
       "            observer.disconnect();\n",
       "        }}\n",
       "}});\n",
       "\n",
       "// Listen for the removal of the full notebook cells\n",
       "var notebookContainer = gd.closest('#notebook-container');\n",
       "if (notebookContainer) {{\n",
       "    x.observe(notebookContainer, {childList: true});\n",
       "}}\n",
       "\n",
       "// Listen for the clearing of the current output cell\n",
       "var outputEl = gd.closest('.output');\n",
       "if (outputEl) {{\n",
       "    x.observe(outputEl, {childList: true});\n",
       "}}\n",
       "\n",
       "                        })                };                });            </script>        </div>"
      ]
     },
     "metadata": {},
     "output_type": "display_data"
    }
   ],
   "source": [
    "# Visualize the age distribution of candidates\n",
    "age_distribution_fig = px.histogram(df, \n",
    "                                    x=\"AGE\",\n",
    "                                    color_discrete_sequence=['indianred'])\n",
    "age_distribution_fig.update_layout(title_text='Age Distribution of Candidates',\n",
    "                                   xaxis_title=\"Distribution\",\n",
    "                                   yaxis_title=\"Age\")\n",
    "age_distribution_fig.update_layout(font_family=\"Courier New\",\n",
    "                                   font_color=\"#351f39\",\n",
    "                                   title_font_family=\"Courier New\",\n",
    "                                   title_font_color=\"#351f39\")\n",
    "age_distribution_fig.show()"
   ]
  },
  {
   "cell_type": "markdown",
   "metadata": {},
   "source": [
    "### 6.5 Caste Distribution Of Candidates"
   ]
  },
  {
   "cell_type": "code",
   "execution_count": 25,
   "metadata": {},
   "outputs": [
    {
     "data": {
      "application/vnd.plotly.v1+json": {
       "config": {
        "plotlyServerURL": "https://plot.ly"
       },
       "data": [
        {
         "alignmentgroup": "True",
         "hovertemplate": "Category=Winner<br>CATEGORY=%{x}<br>WINNER=%{y}<extra></extra>",
         "legendgroup": "Winner",
         "marker": {
          "color": "#636efa",
          "pattern": {
           "shape": ""
          }
         },
         "name": "Winner",
         "offsetgroup": "Winner",
         "orientation": "v",
         "showlegend": true,
         "textposition": "auto",
         "type": "bar",
         "x": [
          "GENERAL",
          "SC",
          "ST"
         ],
         "xaxis": "x",
         "y": [
          399,
          85,
          55
         ],
         "yaxis": "y"
        },
        {
         "alignmentgroup": "True",
         "hovertemplate": "Category=Total<br>CATEGORY=%{x}<br>WINNER=%{y}<extra></extra>",
         "legendgroup": "Total",
         "marker": {
          "color": "#EF553B",
          "pattern": {
           "shape": ""
          }
         },
         "name": "Total",
         "offsetgroup": "Total",
         "orientation": "v",
         "showlegend": true,
         "textposition": "auto",
         "type": "bar",
         "x": [
          "GENERAL",
          "SC",
          "ST"
         ],
         "xaxis": "x",
         "y": [
          1373,
          380,
          243
         ],
         "yaxis": "y"
        }
       ],
       "layout": {
        "barmode": "group",
        "font": {
         "color": "#351f39",
         "family": "Courier New"
        },
        "legend": {
         "title": {
          "text": "Category"
         },
         "tracegroupgap": 0
        },
        "margin": {
         "t": 60
        },
        "template": {
         "data": {
          "bar": [
           {
            "error_x": {
             "color": "#2a3f5f"
            },
            "error_y": {
             "color": "#2a3f5f"
            },
            "marker": {
             "line": {
              "color": "#E5ECF6",
              "width": 0.5
             },
             "pattern": {
              "fillmode": "overlay",
              "size": 10,
              "solidity": 0.2
             }
            },
            "type": "bar"
           }
          ],
          "barpolar": [
           {
            "marker": {
             "line": {
              "color": "#E5ECF6",
              "width": 0.5
             },
             "pattern": {
              "fillmode": "overlay",
              "size": 10,
              "solidity": 0.2
             }
            },
            "type": "barpolar"
           }
          ],
          "carpet": [
           {
            "aaxis": {
             "endlinecolor": "#2a3f5f",
             "gridcolor": "white",
             "linecolor": "white",
             "minorgridcolor": "white",
             "startlinecolor": "#2a3f5f"
            },
            "baxis": {
             "endlinecolor": "#2a3f5f",
             "gridcolor": "white",
             "linecolor": "white",
             "minorgridcolor": "white",
             "startlinecolor": "#2a3f5f"
            },
            "type": "carpet"
           }
          ],
          "choropleth": [
           {
            "colorbar": {
             "outlinewidth": 0,
             "ticks": ""
            },
            "type": "choropleth"
           }
          ],
          "contour": [
           {
            "colorbar": {
             "outlinewidth": 0,
             "ticks": ""
            },
            "colorscale": [
             [
              0,
              "#0d0887"
             ],
             [
              0.1111111111111111,
              "#46039f"
             ],
             [
              0.2222222222222222,
              "#7201a8"
             ],
             [
              0.3333333333333333,
              "#9c179e"
             ],
             [
              0.4444444444444444,
              "#bd3786"
             ],
             [
              0.5555555555555556,
              "#d8576b"
             ],
             [
              0.6666666666666666,
              "#ed7953"
             ],
             [
              0.7777777777777778,
              "#fb9f3a"
             ],
             [
              0.8888888888888888,
              "#fdca26"
             ],
             [
              1,
              "#f0f921"
             ]
            ],
            "type": "contour"
           }
          ],
          "contourcarpet": [
           {
            "colorbar": {
             "outlinewidth": 0,
             "ticks": ""
            },
            "type": "contourcarpet"
           }
          ],
          "heatmap": [
           {
            "colorbar": {
             "outlinewidth": 0,
             "ticks": ""
            },
            "colorscale": [
             [
              0,
              "#0d0887"
             ],
             [
              0.1111111111111111,
              "#46039f"
             ],
             [
              0.2222222222222222,
              "#7201a8"
             ],
             [
              0.3333333333333333,
              "#9c179e"
             ],
             [
              0.4444444444444444,
              "#bd3786"
             ],
             [
              0.5555555555555556,
              "#d8576b"
             ],
             [
              0.6666666666666666,
              "#ed7953"
             ],
             [
              0.7777777777777778,
              "#fb9f3a"
             ],
             [
              0.8888888888888888,
              "#fdca26"
             ],
             [
              1,
              "#f0f921"
             ]
            ],
            "type": "heatmap"
           }
          ],
          "heatmapgl": [
           {
            "colorbar": {
             "outlinewidth": 0,
             "ticks": ""
            },
            "colorscale": [
             [
              0,
              "#0d0887"
             ],
             [
              0.1111111111111111,
              "#46039f"
             ],
             [
              0.2222222222222222,
              "#7201a8"
             ],
             [
              0.3333333333333333,
              "#9c179e"
             ],
             [
              0.4444444444444444,
              "#bd3786"
             ],
             [
              0.5555555555555556,
              "#d8576b"
             ],
             [
              0.6666666666666666,
              "#ed7953"
             ],
             [
              0.7777777777777778,
              "#fb9f3a"
             ],
             [
              0.8888888888888888,
              "#fdca26"
             ],
             [
              1,
              "#f0f921"
             ]
            ],
            "type": "heatmapgl"
           }
          ],
          "histogram": [
           {
            "marker": {
             "pattern": {
              "fillmode": "overlay",
              "size": 10,
              "solidity": 0.2
             }
            },
            "type": "histogram"
           }
          ],
          "histogram2d": [
           {
            "colorbar": {
             "outlinewidth": 0,
             "ticks": ""
            },
            "colorscale": [
             [
              0,
              "#0d0887"
             ],
             [
              0.1111111111111111,
              "#46039f"
             ],
             [
              0.2222222222222222,
              "#7201a8"
             ],
             [
              0.3333333333333333,
              "#9c179e"
             ],
             [
              0.4444444444444444,
              "#bd3786"
             ],
             [
              0.5555555555555556,
              "#d8576b"
             ],
             [
              0.6666666666666666,
              "#ed7953"
             ],
             [
              0.7777777777777778,
              "#fb9f3a"
             ],
             [
              0.8888888888888888,
              "#fdca26"
             ],
             [
              1,
              "#f0f921"
             ]
            ],
            "type": "histogram2d"
           }
          ],
          "histogram2dcontour": [
           {
            "colorbar": {
             "outlinewidth": 0,
             "ticks": ""
            },
            "colorscale": [
             [
              0,
              "#0d0887"
             ],
             [
              0.1111111111111111,
              "#46039f"
             ],
             [
              0.2222222222222222,
              "#7201a8"
             ],
             [
              0.3333333333333333,
              "#9c179e"
             ],
             [
              0.4444444444444444,
              "#bd3786"
             ],
             [
              0.5555555555555556,
              "#d8576b"
             ],
             [
              0.6666666666666666,
              "#ed7953"
             ],
             [
              0.7777777777777778,
              "#fb9f3a"
             ],
             [
              0.8888888888888888,
              "#fdca26"
             ],
             [
              1,
              "#f0f921"
             ]
            ],
            "type": "histogram2dcontour"
           }
          ],
          "mesh3d": [
           {
            "colorbar": {
             "outlinewidth": 0,
             "ticks": ""
            },
            "type": "mesh3d"
           }
          ],
          "parcoords": [
           {
            "line": {
             "colorbar": {
              "outlinewidth": 0,
              "ticks": ""
             }
            },
            "type": "parcoords"
           }
          ],
          "pie": [
           {
            "automargin": true,
            "type": "pie"
           }
          ],
          "scatter": [
           {
            "marker": {
             "colorbar": {
              "outlinewidth": 0,
              "ticks": ""
             }
            },
            "type": "scatter"
           }
          ],
          "scatter3d": [
           {
            "line": {
             "colorbar": {
              "outlinewidth": 0,
              "ticks": ""
             }
            },
            "marker": {
             "colorbar": {
              "outlinewidth": 0,
              "ticks": ""
             }
            },
            "type": "scatter3d"
           }
          ],
          "scattercarpet": [
           {
            "marker": {
             "colorbar": {
              "outlinewidth": 0,
              "ticks": ""
             }
            },
            "type": "scattercarpet"
           }
          ],
          "scattergeo": [
           {
            "marker": {
             "colorbar": {
              "outlinewidth": 0,
              "ticks": ""
             }
            },
            "type": "scattergeo"
           }
          ],
          "scattergl": [
           {
            "marker": {
             "colorbar": {
              "outlinewidth": 0,
              "ticks": ""
             }
            },
            "type": "scattergl"
           }
          ],
          "scattermapbox": [
           {
            "marker": {
             "colorbar": {
              "outlinewidth": 0,
              "ticks": ""
             }
            },
            "type": "scattermapbox"
           }
          ],
          "scatterpolar": [
           {
            "marker": {
             "colorbar": {
              "outlinewidth": 0,
              "ticks": ""
             }
            },
            "type": "scatterpolar"
           }
          ],
          "scatterpolargl": [
           {
            "marker": {
             "colorbar": {
              "outlinewidth": 0,
              "ticks": ""
             }
            },
            "type": "scatterpolargl"
           }
          ],
          "scatterternary": [
           {
            "marker": {
             "colorbar": {
              "outlinewidth": 0,
              "ticks": ""
             }
            },
            "type": "scatterternary"
           }
          ],
          "surface": [
           {
            "colorbar": {
             "outlinewidth": 0,
             "ticks": ""
            },
            "colorscale": [
             [
              0,
              "#0d0887"
             ],
             [
              0.1111111111111111,
              "#46039f"
             ],
             [
              0.2222222222222222,
              "#7201a8"
             ],
             [
              0.3333333333333333,
              "#9c179e"
             ],
             [
              0.4444444444444444,
              "#bd3786"
             ],
             [
              0.5555555555555556,
              "#d8576b"
             ],
             [
              0.6666666666666666,
              "#ed7953"
             ],
             [
              0.7777777777777778,
              "#fb9f3a"
             ],
             [
              0.8888888888888888,
              "#fdca26"
             ],
             [
              1,
              "#f0f921"
             ]
            ],
            "type": "surface"
           }
          ],
          "table": [
           {
            "cells": {
             "fill": {
              "color": "#EBF0F8"
             },
             "line": {
              "color": "white"
             }
            },
            "header": {
             "fill": {
              "color": "#C8D4E3"
             },
             "line": {
              "color": "white"
             }
            },
            "type": "table"
           }
          ]
         },
         "layout": {
          "annotationdefaults": {
           "arrowcolor": "#2a3f5f",
           "arrowhead": 0,
           "arrowwidth": 1
          },
          "autotypenumbers": "strict",
          "coloraxis": {
           "colorbar": {
            "outlinewidth": 0,
            "ticks": ""
           }
          },
          "colorscale": {
           "diverging": [
            [
             0,
             "#8e0152"
            ],
            [
             0.1,
             "#c51b7d"
            ],
            [
             0.2,
             "#de77ae"
            ],
            [
             0.3,
             "#f1b6da"
            ],
            [
             0.4,
             "#fde0ef"
            ],
            [
             0.5,
             "#f7f7f7"
            ],
            [
             0.6,
             "#e6f5d0"
            ],
            [
             0.7,
             "#b8e186"
            ],
            [
             0.8,
             "#7fbc41"
            ],
            [
             0.9,
             "#4d9221"
            ],
            [
             1,
             "#276419"
            ]
           ],
           "sequential": [
            [
             0,
             "#0d0887"
            ],
            [
             0.1111111111111111,
             "#46039f"
            ],
            [
             0.2222222222222222,
             "#7201a8"
            ],
            [
             0.3333333333333333,
             "#9c179e"
            ],
            [
             0.4444444444444444,
             "#bd3786"
            ],
            [
             0.5555555555555556,
             "#d8576b"
            ],
            [
             0.6666666666666666,
             "#ed7953"
            ],
            [
             0.7777777777777778,
             "#fb9f3a"
            ],
            [
             0.8888888888888888,
             "#fdca26"
            ],
            [
             1,
             "#f0f921"
            ]
           ],
           "sequentialminus": [
            [
             0,
             "#0d0887"
            ],
            [
             0.1111111111111111,
             "#46039f"
            ],
            [
             0.2222222222222222,
             "#7201a8"
            ],
            [
             0.3333333333333333,
             "#9c179e"
            ],
            [
             0.4444444444444444,
             "#bd3786"
            ],
            [
             0.5555555555555556,
             "#d8576b"
            ],
            [
             0.6666666666666666,
             "#ed7953"
            ],
            [
             0.7777777777777778,
             "#fb9f3a"
            ],
            [
             0.8888888888888888,
             "#fdca26"
            ],
            [
             1,
             "#f0f921"
            ]
           ]
          },
          "colorway": [
           "#636efa",
           "#EF553B",
           "#00cc96",
           "#ab63fa",
           "#FFA15A",
           "#19d3f3",
           "#FF6692",
           "#B6E880",
           "#FF97FF",
           "#FECB52"
          ],
          "font": {
           "color": "#2a3f5f"
          },
          "geo": {
           "bgcolor": "white",
           "lakecolor": "white",
           "landcolor": "#E5ECF6",
           "showlakes": true,
           "showland": true,
           "subunitcolor": "white"
          },
          "hoverlabel": {
           "align": "left"
          },
          "hovermode": "closest",
          "mapbox": {
           "style": "light"
          },
          "paper_bgcolor": "white",
          "plot_bgcolor": "#E5ECF6",
          "polar": {
           "angularaxis": {
            "gridcolor": "white",
            "linecolor": "white",
            "ticks": ""
           },
           "bgcolor": "#E5ECF6",
           "radialaxis": {
            "gridcolor": "white",
            "linecolor": "white",
            "ticks": ""
           }
          },
          "scene": {
           "xaxis": {
            "backgroundcolor": "#E5ECF6",
            "gridcolor": "white",
            "gridwidth": 2,
            "linecolor": "white",
            "showbackground": true,
            "ticks": "",
            "zerolinecolor": "white"
           },
           "yaxis": {
            "backgroundcolor": "#E5ECF6",
            "gridcolor": "white",
            "gridwidth": 2,
            "linecolor": "white",
            "showbackground": true,
            "ticks": "",
            "zerolinecolor": "white"
           },
           "zaxis": {
            "backgroundcolor": "#E5ECF6",
            "gridcolor": "white",
            "gridwidth": 2,
            "linecolor": "white",
            "showbackground": true,
            "ticks": "",
            "zerolinecolor": "white"
           }
          },
          "shapedefaults": {
           "line": {
            "color": "#2a3f5f"
           }
          },
          "ternary": {
           "aaxis": {
            "gridcolor": "white",
            "linecolor": "white",
            "ticks": ""
           },
           "baxis": {
            "gridcolor": "white",
            "linecolor": "white",
            "ticks": ""
           },
           "bgcolor": "#E5ECF6",
           "caxis": {
            "gridcolor": "white",
            "linecolor": "white",
            "ticks": ""
           }
          },
          "title": {
           "x": 0.05
          },
          "xaxis": {
           "automargin": true,
           "gridcolor": "white",
           "linecolor": "white",
           "ticks": "",
           "title": {
            "standoff": 15
           },
           "zerolinecolor": "white",
           "zerolinewidth": 2
          },
          "yaxis": {
           "automargin": true,
           "gridcolor": "white",
           "linecolor": "white",
           "ticks": "",
           "title": {
            "standoff": 15
           },
           "zerolinecolor": "white",
           "zerolinewidth": 2
          }
         }
        },
        "title": {
         "font": {
          "color": "#351f39",
          "family": "Courier New"
         },
         "text": "Caste distribution of candidates"
        },
        "xaxis": {
         "anchor": "y",
         "domain": [
          0,
          1
         ],
         "title": {
          "text": "Caste"
         }
        },
        "yaxis": {
         "anchor": "x",
         "domain": [
          0,
          1
         ],
         "title": {
          "text": "Count"
         }
        }
       }
      },
      "text/html": [
       "<div>                            <div id=\"255c6db4-02bb-422d-9d16-f9f379f02e83\" class=\"plotly-graph-div\" style=\"height:525px; width:100%;\"></div>            <script type=\"text/javascript\">                require([\"plotly\"], function(Plotly) {                    window.PLOTLYENV=window.PLOTLYENV || {};                                    if (document.getElementById(\"255c6db4-02bb-422d-9d16-f9f379f02e83\")) {                    Plotly.newPlot(                        \"255c6db4-02bb-422d-9d16-f9f379f02e83\",                        [{\"alignmentgroup\":\"True\",\"hovertemplate\":\"Category=Winner<br>CATEGORY=%{x}<br>WINNER=%{y}<extra></extra>\",\"legendgroup\":\"Winner\",\"marker\":{\"color\":\"#636efa\",\"pattern\":{\"shape\":\"\"}},\"name\":\"Winner\",\"offsetgroup\":\"Winner\",\"orientation\":\"v\",\"showlegend\":true,\"textposition\":\"auto\",\"type\":\"bar\",\"x\":[\"GENERAL\",\"SC\",\"ST\"],\"xaxis\":\"x\",\"y\":[399,85,55],\"yaxis\":\"y\"},{\"alignmentgroup\":\"True\",\"hovertemplate\":\"Category=Total<br>CATEGORY=%{x}<br>WINNER=%{y}<extra></extra>\",\"legendgroup\":\"Total\",\"marker\":{\"color\":\"#EF553B\",\"pattern\":{\"shape\":\"\"}},\"name\":\"Total\",\"offsetgroup\":\"Total\",\"orientation\":\"v\",\"showlegend\":true,\"textposition\":\"auto\",\"type\":\"bar\",\"x\":[\"GENERAL\",\"SC\",\"ST\"],\"xaxis\":\"x\",\"y\":[1373,380,243],\"yaxis\":\"y\"}],                        {\"barmode\":\"group\",\"font\":{\"color\":\"#351f39\",\"family\":\"Courier New\"},\"legend\":{\"title\":{\"text\":\"Category\"},\"tracegroupgap\":0},\"margin\":{\"t\":60},\"template\":{\"data\":{\"bar\":[{\"error_x\":{\"color\":\"#2a3f5f\"},\"error_y\":{\"color\":\"#2a3f5f\"},\"marker\":{\"line\":{\"color\":\"#E5ECF6\",\"width\":0.5},\"pattern\":{\"fillmode\":\"overlay\",\"size\":10,\"solidity\":0.2}},\"type\":\"bar\"}],\"barpolar\":[{\"marker\":{\"line\":{\"color\":\"#E5ECF6\",\"width\":0.5},\"pattern\":{\"fillmode\":\"overlay\",\"size\":10,\"solidity\":0.2}},\"type\":\"barpolar\"}],\"carpet\":[{\"aaxis\":{\"endlinecolor\":\"#2a3f5f\",\"gridcolor\":\"white\",\"linecolor\":\"white\",\"minorgridcolor\":\"white\",\"startlinecolor\":\"#2a3f5f\"},\"baxis\":{\"endlinecolor\":\"#2a3f5f\",\"gridcolor\":\"white\",\"linecolor\":\"white\",\"minorgridcolor\":\"white\",\"startlinecolor\":\"#2a3f5f\"},\"type\":\"carpet\"}],\"choropleth\":[{\"colorbar\":{\"outlinewidth\":0,\"ticks\":\"\"},\"type\":\"choropleth\"}],\"contour\":[{\"colorbar\":{\"outlinewidth\":0,\"ticks\":\"\"},\"colorscale\":[[0.0,\"#0d0887\"],[0.1111111111111111,\"#46039f\"],[0.2222222222222222,\"#7201a8\"],[0.3333333333333333,\"#9c179e\"],[0.4444444444444444,\"#bd3786\"],[0.5555555555555556,\"#d8576b\"],[0.6666666666666666,\"#ed7953\"],[0.7777777777777778,\"#fb9f3a\"],[0.8888888888888888,\"#fdca26\"],[1.0,\"#f0f921\"]],\"type\":\"contour\"}],\"contourcarpet\":[{\"colorbar\":{\"outlinewidth\":0,\"ticks\":\"\"},\"type\":\"contourcarpet\"}],\"heatmap\":[{\"colorbar\":{\"outlinewidth\":0,\"ticks\":\"\"},\"colorscale\":[[0.0,\"#0d0887\"],[0.1111111111111111,\"#46039f\"],[0.2222222222222222,\"#7201a8\"],[0.3333333333333333,\"#9c179e\"],[0.4444444444444444,\"#bd3786\"],[0.5555555555555556,\"#d8576b\"],[0.6666666666666666,\"#ed7953\"],[0.7777777777777778,\"#fb9f3a\"],[0.8888888888888888,\"#fdca26\"],[1.0,\"#f0f921\"]],\"type\":\"heatmap\"}],\"heatmapgl\":[{\"colorbar\":{\"outlinewidth\":0,\"ticks\":\"\"},\"colorscale\":[[0.0,\"#0d0887\"],[0.1111111111111111,\"#46039f\"],[0.2222222222222222,\"#7201a8\"],[0.3333333333333333,\"#9c179e\"],[0.4444444444444444,\"#bd3786\"],[0.5555555555555556,\"#d8576b\"],[0.6666666666666666,\"#ed7953\"],[0.7777777777777778,\"#fb9f3a\"],[0.8888888888888888,\"#fdca26\"],[1.0,\"#f0f921\"]],\"type\":\"heatmapgl\"}],\"histogram\":[{\"marker\":{\"pattern\":{\"fillmode\":\"overlay\",\"size\":10,\"solidity\":0.2}},\"type\":\"histogram\"}],\"histogram2d\":[{\"colorbar\":{\"outlinewidth\":0,\"ticks\":\"\"},\"colorscale\":[[0.0,\"#0d0887\"],[0.1111111111111111,\"#46039f\"],[0.2222222222222222,\"#7201a8\"],[0.3333333333333333,\"#9c179e\"],[0.4444444444444444,\"#bd3786\"],[0.5555555555555556,\"#d8576b\"],[0.6666666666666666,\"#ed7953\"],[0.7777777777777778,\"#fb9f3a\"],[0.8888888888888888,\"#fdca26\"],[1.0,\"#f0f921\"]],\"type\":\"histogram2d\"}],\"histogram2dcontour\":[{\"colorbar\":{\"outlinewidth\":0,\"ticks\":\"\"},\"colorscale\":[[0.0,\"#0d0887\"],[0.1111111111111111,\"#46039f\"],[0.2222222222222222,\"#7201a8\"],[0.3333333333333333,\"#9c179e\"],[0.4444444444444444,\"#bd3786\"],[0.5555555555555556,\"#d8576b\"],[0.6666666666666666,\"#ed7953\"],[0.7777777777777778,\"#fb9f3a\"],[0.8888888888888888,\"#fdca26\"],[1.0,\"#f0f921\"]],\"type\":\"histogram2dcontour\"}],\"mesh3d\":[{\"colorbar\":{\"outlinewidth\":0,\"ticks\":\"\"},\"type\":\"mesh3d\"}],\"parcoords\":[{\"line\":{\"colorbar\":{\"outlinewidth\":0,\"ticks\":\"\"}},\"type\":\"parcoords\"}],\"pie\":[{\"automargin\":true,\"type\":\"pie\"}],\"scatter\":[{\"marker\":{\"colorbar\":{\"outlinewidth\":0,\"ticks\":\"\"}},\"type\":\"scatter\"}],\"scatter3d\":[{\"line\":{\"colorbar\":{\"outlinewidth\":0,\"ticks\":\"\"}},\"marker\":{\"colorbar\":{\"outlinewidth\":0,\"ticks\":\"\"}},\"type\":\"scatter3d\"}],\"scattercarpet\":[{\"marker\":{\"colorbar\":{\"outlinewidth\":0,\"ticks\":\"\"}},\"type\":\"scattercarpet\"}],\"scattergeo\":[{\"marker\":{\"colorbar\":{\"outlinewidth\":0,\"ticks\":\"\"}},\"type\":\"scattergeo\"}],\"scattergl\":[{\"marker\":{\"colorbar\":{\"outlinewidth\":0,\"ticks\":\"\"}},\"type\":\"scattergl\"}],\"scattermapbox\":[{\"marker\":{\"colorbar\":{\"outlinewidth\":0,\"ticks\":\"\"}},\"type\":\"scattermapbox\"}],\"scatterpolar\":[{\"marker\":{\"colorbar\":{\"outlinewidth\":0,\"ticks\":\"\"}},\"type\":\"scatterpolar\"}],\"scatterpolargl\":[{\"marker\":{\"colorbar\":{\"outlinewidth\":0,\"ticks\":\"\"}},\"type\":\"scatterpolargl\"}],\"scatterternary\":[{\"marker\":{\"colorbar\":{\"outlinewidth\":0,\"ticks\":\"\"}},\"type\":\"scatterternary\"}],\"surface\":[{\"colorbar\":{\"outlinewidth\":0,\"ticks\":\"\"},\"colorscale\":[[0.0,\"#0d0887\"],[0.1111111111111111,\"#46039f\"],[0.2222222222222222,\"#7201a8\"],[0.3333333333333333,\"#9c179e\"],[0.4444444444444444,\"#bd3786\"],[0.5555555555555556,\"#d8576b\"],[0.6666666666666666,\"#ed7953\"],[0.7777777777777778,\"#fb9f3a\"],[0.8888888888888888,\"#fdca26\"],[1.0,\"#f0f921\"]],\"type\":\"surface\"}],\"table\":[{\"cells\":{\"fill\":{\"color\":\"#EBF0F8\"},\"line\":{\"color\":\"white\"}},\"header\":{\"fill\":{\"color\":\"#C8D4E3\"},\"line\":{\"color\":\"white\"}},\"type\":\"table\"}]},\"layout\":{\"annotationdefaults\":{\"arrowcolor\":\"#2a3f5f\",\"arrowhead\":0,\"arrowwidth\":1},\"autotypenumbers\":\"strict\",\"coloraxis\":{\"colorbar\":{\"outlinewidth\":0,\"ticks\":\"\"}},\"colorscale\":{\"diverging\":[[0,\"#8e0152\"],[0.1,\"#c51b7d\"],[0.2,\"#de77ae\"],[0.3,\"#f1b6da\"],[0.4,\"#fde0ef\"],[0.5,\"#f7f7f7\"],[0.6,\"#e6f5d0\"],[0.7,\"#b8e186\"],[0.8,\"#7fbc41\"],[0.9,\"#4d9221\"],[1,\"#276419\"]],\"sequential\":[[0.0,\"#0d0887\"],[0.1111111111111111,\"#46039f\"],[0.2222222222222222,\"#7201a8\"],[0.3333333333333333,\"#9c179e\"],[0.4444444444444444,\"#bd3786\"],[0.5555555555555556,\"#d8576b\"],[0.6666666666666666,\"#ed7953\"],[0.7777777777777778,\"#fb9f3a\"],[0.8888888888888888,\"#fdca26\"],[1.0,\"#f0f921\"]],\"sequentialminus\":[[0.0,\"#0d0887\"],[0.1111111111111111,\"#46039f\"],[0.2222222222222222,\"#7201a8\"],[0.3333333333333333,\"#9c179e\"],[0.4444444444444444,\"#bd3786\"],[0.5555555555555556,\"#d8576b\"],[0.6666666666666666,\"#ed7953\"],[0.7777777777777778,\"#fb9f3a\"],[0.8888888888888888,\"#fdca26\"],[1.0,\"#f0f921\"]]},\"colorway\":[\"#636efa\",\"#EF553B\",\"#00cc96\",\"#ab63fa\",\"#FFA15A\",\"#19d3f3\",\"#FF6692\",\"#B6E880\",\"#FF97FF\",\"#FECB52\"],\"font\":{\"color\":\"#2a3f5f\"},\"geo\":{\"bgcolor\":\"white\",\"lakecolor\":\"white\",\"landcolor\":\"#E5ECF6\",\"showlakes\":true,\"showland\":true,\"subunitcolor\":\"white\"},\"hoverlabel\":{\"align\":\"left\"},\"hovermode\":\"closest\",\"mapbox\":{\"style\":\"light\"},\"paper_bgcolor\":\"white\",\"plot_bgcolor\":\"#E5ECF6\",\"polar\":{\"angularaxis\":{\"gridcolor\":\"white\",\"linecolor\":\"white\",\"ticks\":\"\"},\"bgcolor\":\"#E5ECF6\",\"radialaxis\":{\"gridcolor\":\"white\",\"linecolor\":\"white\",\"ticks\":\"\"}},\"scene\":{\"xaxis\":{\"backgroundcolor\":\"#E5ECF6\",\"gridcolor\":\"white\",\"gridwidth\":2,\"linecolor\":\"white\",\"showbackground\":true,\"ticks\":\"\",\"zerolinecolor\":\"white\"},\"yaxis\":{\"backgroundcolor\":\"#E5ECF6\",\"gridcolor\":\"white\",\"gridwidth\":2,\"linecolor\":\"white\",\"showbackground\":true,\"ticks\":\"\",\"zerolinecolor\":\"white\"},\"zaxis\":{\"backgroundcolor\":\"#E5ECF6\",\"gridcolor\":\"white\",\"gridwidth\":2,\"linecolor\":\"white\",\"showbackground\":true,\"ticks\":\"\",\"zerolinecolor\":\"white\"}},\"shapedefaults\":{\"line\":{\"color\":\"#2a3f5f\"}},\"ternary\":{\"aaxis\":{\"gridcolor\":\"white\",\"linecolor\":\"white\",\"ticks\":\"\"},\"baxis\":{\"gridcolor\":\"white\",\"linecolor\":\"white\",\"ticks\":\"\"},\"bgcolor\":\"#E5ECF6\",\"caxis\":{\"gridcolor\":\"white\",\"linecolor\":\"white\",\"ticks\":\"\"}},\"title\":{\"x\":0.05},\"xaxis\":{\"automargin\":true,\"gridcolor\":\"white\",\"linecolor\":\"white\",\"ticks\":\"\",\"title\":{\"standoff\":15},\"zerolinecolor\":\"white\",\"zerolinewidth\":2},\"yaxis\":{\"automargin\":true,\"gridcolor\":\"white\",\"linecolor\":\"white\",\"ticks\":\"\",\"title\":{\"standoff\":15},\"zerolinecolor\":\"white\",\"zerolinewidth\":2}}},\"title\":{\"font\":{\"color\":\"#351f39\",\"family\":\"Courier New\"},\"text\":\"Caste distribution of candidates\"},\"xaxis\":{\"anchor\":\"y\",\"domain\":[0.0,1.0],\"title\":{\"text\":\"Caste\"}},\"yaxis\":{\"anchor\":\"x\",\"domain\":[0.0,1.0],\"title\":{\"text\":\"Count\"}}},                        {\"responsive\": true}                    ).then(function(){\n",
       "                            \n",
       "var gd = document.getElementById('255c6db4-02bb-422d-9d16-f9f379f02e83');\n",
       "var x = new MutationObserver(function (mutations, observer) {{\n",
       "        var display = window.getComputedStyle(gd).display;\n",
       "        if (!display || display === 'none') {{\n",
       "            console.log([gd, 'removed!']);\n",
       "            Plotly.purge(gd);\n",
       "            observer.disconnect();\n",
       "        }}\n",
       "}});\n",
       "\n",
       "// Listen for the removal of the full notebook cells\n",
       "var notebookContainer = gd.closest('#notebook-container');\n",
       "if (notebookContainer) {{\n",
       "    x.observe(notebookContainer, {childList: true});\n",
       "}}\n",
       "\n",
       "// Listen for the clearing of the current output cell\n",
       "var outputEl = gd.closest('.output');\n",
       "if (outputEl) {{\n",
       "    x.observe(outputEl, {childList: true});\n",
       "}}\n",
       "\n",
       "                        })                };                });            </script>        </div>"
      ]
     },
     "metadata": {},
     "output_type": "display_data"
    }
   ],
   "source": [
    "# Create a dataframe containing the caste distribution of winners\n",
    "winner_caste = df[df['WINNER'] == 1].groupby('CATEGORY')['WINNER'].size()\n",
    "winner_caste_df = pd.DataFrame(data=winner_caste)\n",
    "winner_caste_df.reset_index(level=0, inplace=True)\n",
    "winner_caste_df['Category'] = 'Winner'\n",
    "\n",
    "# Create a dataframe containing the caste distribution of total number of candidates\n",
    "total_caste = df.groupby('CATEGORY').size()\n",
    "total_caste_df = pd.DataFrame(data=total_caste)\n",
    "total_caste_df.reset_index(level=0, inplace=True)\n",
    "total_caste_df['Category'] = 'Total'\n",
    "total_caste_df.rename(columns={0: \"WINNER\"}, inplace=True)\n",
    "\n",
    "# Concatenate the two dataframes\n",
    "winner_caste_df = pd.concat((winner_caste_df, total_caste_df))\n",
    "\n",
    "# Visualize the results\n",
    "caste_fig = px.bar(winner_caste_df, \n",
    "                   x='CATEGORY', \n",
    "                   y='WINNER',\n",
    "                   color='Category', \n",
    "                   barmode='group')\n",
    "caste_fig.update_layout(font_family=\"Courier New\",\n",
    "                        font_color=\"#351f39\",\n",
    "                        title_text='Caste distribution of candidates',\n",
    "                        title_font_family=\"Courier New\",\n",
    "                        title_font_color=\"#351f39\",\n",
    "                        xaxis_title='Caste',\n",
    "                        yaxis_title='Count')\n",
    "caste_fig.show()"
   ]
  },
  {
   "cell_type": "markdown",
   "metadata": {},
   "source": [
    "### 6.6 Top ten party-wise criminal records"
   ]
  },
  {
   "cell_type": "code",
   "execution_count": 26,
   "metadata": {},
   "outputs": [
    {
     "data": {
      "application/vnd.plotly.v1+json": {
       "config": {
        "plotlyServerURL": "https://plot.ly"
       },
       "data": [
        {
         "hovertemplate": "PARTY=%{x}<br>CRIMINALCASES=%{marker.size}<extra></extra>",
         "legendgroup": "BJP",
         "marker": {
          "color": "#636efa",
          "size": [
           403
          ],
          "sizemode": "area",
          "sizeref": 1.0075,
          "symbol": "circle"
         },
         "mode": "markers",
         "name": "BJP",
         "orientation": "v",
         "showlegend": true,
         "type": "scatter",
         "x": [
          "BJP"
         ],
         "xaxis": "x",
         "y": [
          403
         ],
         "yaxis": "y"
        },
        {
         "hovertemplate": "PARTY=%{x}<br>CRIMINALCASES=%{marker.size}<extra></extra>",
         "legendgroup": "INC",
         "marker": {
          "color": "#EF553B",
          "size": [
           355
          ],
          "sizemode": "area",
          "sizeref": 1.0075,
          "symbol": "circle"
         },
         "mode": "markers",
         "name": "INC",
         "orientation": "v",
         "showlegend": true,
         "type": "scatter",
         "x": [
          "INC"
         ],
         "xaxis": "x",
         "y": [
          355
         ],
         "yaxis": "y"
        },
        {
         "hovertemplate": "PARTY=%{x}<br>CRIMINALCASES=%{marker.size}<extra></extra>",
         "legendgroup": "SHS",
         "marker": {
          "color": "#00cc96",
          "size": [
           35
          ],
          "sizemode": "area",
          "sizeref": 1.0075,
          "symbol": "circle"
         },
         "mode": "markers",
         "name": "SHS",
         "orientation": "v",
         "showlegend": true,
         "type": "scatter",
         "x": [
          "SHS"
         ],
         "xaxis": "x",
         "y": [
          35
         ],
         "yaxis": "y"
        },
        {
         "hovertemplate": "PARTY=%{x}<br>CRIMINALCASES=%{marker.size}<extra></extra>",
         "legendgroup": "BSP",
         "marker": {
          "color": "#ab63fa",
          "size": [
           32
          ],
          "sizemode": "area",
          "sizeref": 1.0075,
          "symbol": "circle"
         },
         "mode": "markers",
         "name": "BSP",
         "orientation": "v",
         "showlegend": true,
         "type": "scatter",
         "x": [
          "BSP"
         ],
         "xaxis": "x",
         "y": [
          32
         ],
         "yaxis": "y"
        },
        {
         "hovertemplate": "PARTY=%{x}<br>CRIMINALCASES=%{marker.size}<extra></extra>",
         "legendgroup": "JD(U)",
         "marker": {
          "color": "#FFA15A",
          "size": [
           31
          ],
          "sizemode": "area",
          "sizeref": 1.0075,
          "symbol": "circle"
         },
         "mode": "markers",
         "name": "JD(U)",
         "orientation": "v",
         "showlegend": true,
         "type": "scatter",
         "x": [
          "JD(U)"
         ],
         "xaxis": "x",
         "y": [
          31
         ],
         "yaxis": "y"
        },
        {
         "hovertemplate": "PARTY=%{x}<br>CRIMINALCASES=%{marker.size}<extra></extra>",
         "legendgroup": "DMK",
         "marker": {
          "color": "#19d3f3",
          "size": [
           28
          ],
          "sizemode": "area",
          "sizeref": 1.0075,
          "symbol": "circle"
         },
         "mode": "markers",
         "name": "DMK",
         "orientation": "v",
         "showlegend": true,
         "type": "scatter",
         "x": [
          "DMK"
         ],
         "xaxis": "x",
         "y": [
          28
         ],
         "yaxis": "y"
        },
        {
         "hovertemplate": "PARTY=%{x}<br>CRIMINALCASES=%{marker.size}<extra></extra>",
         "legendgroup": "YSRCP",
         "marker": {
          "color": "#FF6692",
          "size": [
           24
          ],
          "sizemode": "area",
          "sizeref": 1.0075,
          "symbol": "circle"
         },
         "mode": "markers",
         "name": "YSRCP",
         "orientation": "v",
         "showlegend": true,
         "type": "scatter",
         "x": [
          "YSRCP"
         ],
         "xaxis": "x",
         "y": [
          24
         ],
         "yaxis": "y"
        },
        {
         "hovertemplate": "PARTY=%{x}<br>CRIMINALCASES=%{marker.size}<extra></extra>",
         "legendgroup": "TRS",
         "marker": {
          "color": "#B6E880",
          "size": [
           24
          ],
          "sizemode": "area",
          "sizeref": 1.0075,
          "symbol": "circle"
         },
         "mode": "markers",
         "name": "TRS",
         "orientation": "v",
         "showlegend": true,
         "type": "scatter",
         "x": [
          "TRS"
         ],
         "xaxis": "x",
         "y": [
          24
         ],
         "yaxis": "y"
        },
        {
         "hovertemplate": "PARTY=%{x}<br>CRIMINALCASES=%{marker.size}<extra></extra>",
         "legendgroup": "AITC",
         "marker": {
          "color": "#FF97FF",
          "size": [
           17
          ],
          "sizemode": "area",
          "sizeref": 1.0075,
          "symbol": "circle"
         },
         "mode": "markers",
         "name": "AITC",
         "orientation": "v",
         "showlegend": true,
         "type": "scatter",
         "x": [
          "AITC"
         ],
         "xaxis": "x",
         "y": [
          17
         ],
         "yaxis": "y"
        },
        {
         "hovertemplate": "PARTY=%{x}<br>CRIMINALCASES=%{marker.size}<extra></extra>",
         "legendgroup": "LJP",
         "marker": {
          "color": "#FECB52",
          "size": [
           12
          ],
          "sizemode": "area",
          "sizeref": 1.0075,
          "symbol": "circle"
         },
         "mode": "markers",
         "name": "LJP",
         "orientation": "v",
         "showlegend": true,
         "type": "scatter",
         "x": [
          "LJP"
         ],
         "xaxis": "x",
         "y": [
          12
         ],
         "yaxis": "y"
        }
       ],
       "layout": {
        "font": {
         "color": "#351f39",
         "family": "Courier New"
        },
        "legend": {
         "itemsizing": "constant",
         "title": {
          "text": "PARTY"
         },
         "tracegroupgap": 0
        },
        "margin": {
         "t": 60
        },
        "template": {
         "data": {
          "bar": [
           {
            "error_x": {
             "color": "#2a3f5f"
            },
            "error_y": {
             "color": "#2a3f5f"
            },
            "marker": {
             "line": {
              "color": "#E5ECF6",
              "width": 0.5
             },
             "pattern": {
              "fillmode": "overlay",
              "size": 10,
              "solidity": 0.2
             }
            },
            "type": "bar"
           }
          ],
          "barpolar": [
           {
            "marker": {
             "line": {
              "color": "#E5ECF6",
              "width": 0.5
             },
             "pattern": {
              "fillmode": "overlay",
              "size": 10,
              "solidity": 0.2
             }
            },
            "type": "barpolar"
           }
          ],
          "carpet": [
           {
            "aaxis": {
             "endlinecolor": "#2a3f5f",
             "gridcolor": "white",
             "linecolor": "white",
             "minorgridcolor": "white",
             "startlinecolor": "#2a3f5f"
            },
            "baxis": {
             "endlinecolor": "#2a3f5f",
             "gridcolor": "white",
             "linecolor": "white",
             "minorgridcolor": "white",
             "startlinecolor": "#2a3f5f"
            },
            "type": "carpet"
           }
          ],
          "choropleth": [
           {
            "colorbar": {
             "outlinewidth": 0,
             "ticks": ""
            },
            "type": "choropleth"
           }
          ],
          "contour": [
           {
            "colorbar": {
             "outlinewidth": 0,
             "ticks": ""
            },
            "colorscale": [
             [
              0,
              "#0d0887"
             ],
             [
              0.1111111111111111,
              "#46039f"
             ],
             [
              0.2222222222222222,
              "#7201a8"
             ],
             [
              0.3333333333333333,
              "#9c179e"
             ],
             [
              0.4444444444444444,
              "#bd3786"
             ],
             [
              0.5555555555555556,
              "#d8576b"
             ],
             [
              0.6666666666666666,
              "#ed7953"
             ],
             [
              0.7777777777777778,
              "#fb9f3a"
             ],
             [
              0.8888888888888888,
              "#fdca26"
             ],
             [
              1,
              "#f0f921"
             ]
            ],
            "type": "contour"
           }
          ],
          "contourcarpet": [
           {
            "colorbar": {
             "outlinewidth": 0,
             "ticks": ""
            },
            "type": "contourcarpet"
           }
          ],
          "heatmap": [
           {
            "colorbar": {
             "outlinewidth": 0,
             "ticks": ""
            },
            "colorscale": [
             [
              0,
              "#0d0887"
             ],
             [
              0.1111111111111111,
              "#46039f"
             ],
             [
              0.2222222222222222,
              "#7201a8"
             ],
             [
              0.3333333333333333,
              "#9c179e"
             ],
             [
              0.4444444444444444,
              "#bd3786"
             ],
             [
              0.5555555555555556,
              "#d8576b"
             ],
             [
              0.6666666666666666,
              "#ed7953"
             ],
             [
              0.7777777777777778,
              "#fb9f3a"
             ],
             [
              0.8888888888888888,
              "#fdca26"
             ],
             [
              1,
              "#f0f921"
             ]
            ],
            "type": "heatmap"
           }
          ],
          "heatmapgl": [
           {
            "colorbar": {
             "outlinewidth": 0,
             "ticks": ""
            },
            "colorscale": [
             [
              0,
              "#0d0887"
             ],
             [
              0.1111111111111111,
              "#46039f"
             ],
             [
              0.2222222222222222,
              "#7201a8"
             ],
             [
              0.3333333333333333,
              "#9c179e"
             ],
             [
              0.4444444444444444,
              "#bd3786"
             ],
             [
              0.5555555555555556,
              "#d8576b"
             ],
             [
              0.6666666666666666,
              "#ed7953"
             ],
             [
              0.7777777777777778,
              "#fb9f3a"
             ],
             [
              0.8888888888888888,
              "#fdca26"
             ],
             [
              1,
              "#f0f921"
             ]
            ],
            "type": "heatmapgl"
           }
          ],
          "histogram": [
           {
            "marker": {
             "pattern": {
              "fillmode": "overlay",
              "size": 10,
              "solidity": 0.2
             }
            },
            "type": "histogram"
           }
          ],
          "histogram2d": [
           {
            "colorbar": {
             "outlinewidth": 0,
             "ticks": ""
            },
            "colorscale": [
             [
              0,
              "#0d0887"
             ],
             [
              0.1111111111111111,
              "#46039f"
             ],
             [
              0.2222222222222222,
              "#7201a8"
             ],
             [
              0.3333333333333333,
              "#9c179e"
             ],
             [
              0.4444444444444444,
              "#bd3786"
             ],
             [
              0.5555555555555556,
              "#d8576b"
             ],
             [
              0.6666666666666666,
              "#ed7953"
             ],
             [
              0.7777777777777778,
              "#fb9f3a"
             ],
             [
              0.8888888888888888,
              "#fdca26"
             ],
             [
              1,
              "#f0f921"
             ]
            ],
            "type": "histogram2d"
           }
          ],
          "histogram2dcontour": [
           {
            "colorbar": {
             "outlinewidth": 0,
             "ticks": ""
            },
            "colorscale": [
             [
              0,
              "#0d0887"
             ],
             [
              0.1111111111111111,
              "#46039f"
             ],
             [
              0.2222222222222222,
              "#7201a8"
             ],
             [
              0.3333333333333333,
              "#9c179e"
             ],
             [
              0.4444444444444444,
              "#bd3786"
             ],
             [
              0.5555555555555556,
              "#d8576b"
             ],
             [
              0.6666666666666666,
              "#ed7953"
             ],
             [
              0.7777777777777778,
              "#fb9f3a"
             ],
             [
              0.8888888888888888,
              "#fdca26"
             ],
             [
              1,
              "#f0f921"
             ]
            ],
            "type": "histogram2dcontour"
           }
          ],
          "mesh3d": [
           {
            "colorbar": {
             "outlinewidth": 0,
             "ticks": ""
            },
            "type": "mesh3d"
           }
          ],
          "parcoords": [
           {
            "line": {
             "colorbar": {
              "outlinewidth": 0,
              "ticks": ""
             }
            },
            "type": "parcoords"
           }
          ],
          "pie": [
           {
            "automargin": true,
            "type": "pie"
           }
          ],
          "scatter": [
           {
            "marker": {
             "colorbar": {
              "outlinewidth": 0,
              "ticks": ""
             }
            },
            "type": "scatter"
           }
          ],
          "scatter3d": [
           {
            "line": {
             "colorbar": {
              "outlinewidth": 0,
              "ticks": ""
             }
            },
            "marker": {
             "colorbar": {
              "outlinewidth": 0,
              "ticks": ""
             }
            },
            "type": "scatter3d"
           }
          ],
          "scattercarpet": [
           {
            "marker": {
             "colorbar": {
              "outlinewidth": 0,
              "ticks": ""
             }
            },
            "type": "scattercarpet"
           }
          ],
          "scattergeo": [
           {
            "marker": {
             "colorbar": {
              "outlinewidth": 0,
              "ticks": ""
             }
            },
            "type": "scattergeo"
           }
          ],
          "scattergl": [
           {
            "marker": {
             "colorbar": {
              "outlinewidth": 0,
              "ticks": ""
             }
            },
            "type": "scattergl"
           }
          ],
          "scattermapbox": [
           {
            "marker": {
             "colorbar": {
              "outlinewidth": 0,
              "ticks": ""
             }
            },
            "type": "scattermapbox"
           }
          ],
          "scatterpolar": [
           {
            "marker": {
             "colorbar": {
              "outlinewidth": 0,
              "ticks": ""
             }
            },
            "type": "scatterpolar"
           }
          ],
          "scatterpolargl": [
           {
            "marker": {
             "colorbar": {
              "outlinewidth": 0,
              "ticks": ""
             }
            },
            "type": "scatterpolargl"
           }
          ],
          "scatterternary": [
           {
            "marker": {
             "colorbar": {
              "outlinewidth": 0,
              "ticks": ""
             }
            },
            "type": "scatterternary"
           }
          ],
          "surface": [
           {
            "colorbar": {
             "outlinewidth": 0,
             "ticks": ""
            },
            "colorscale": [
             [
              0,
              "#0d0887"
             ],
             [
              0.1111111111111111,
              "#46039f"
             ],
             [
              0.2222222222222222,
              "#7201a8"
             ],
             [
              0.3333333333333333,
              "#9c179e"
             ],
             [
              0.4444444444444444,
              "#bd3786"
             ],
             [
              0.5555555555555556,
              "#d8576b"
             ],
             [
              0.6666666666666666,
              "#ed7953"
             ],
             [
              0.7777777777777778,
              "#fb9f3a"
             ],
             [
              0.8888888888888888,
              "#fdca26"
             ],
             [
              1,
              "#f0f921"
             ]
            ],
            "type": "surface"
           }
          ],
          "table": [
           {
            "cells": {
             "fill": {
              "color": "#EBF0F8"
             },
             "line": {
              "color": "white"
             }
            },
            "header": {
             "fill": {
              "color": "#C8D4E3"
             },
             "line": {
              "color": "white"
             }
            },
            "type": "table"
           }
          ]
         },
         "layout": {
          "annotationdefaults": {
           "arrowcolor": "#2a3f5f",
           "arrowhead": 0,
           "arrowwidth": 1
          },
          "autotypenumbers": "strict",
          "coloraxis": {
           "colorbar": {
            "outlinewidth": 0,
            "ticks": ""
           }
          },
          "colorscale": {
           "diverging": [
            [
             0,
             "#8e0152"
            ],
            [
             0.1,
             "#c51b7d"
            ],
            [
             0.2,
             "#de77ae"
            ],
            [
             0.3,
             "#f1b6da"
            ],
            [
             0.4,
             "#fde0ef"
            ],
            [
             0.5,
             "#f7f7f7"
            ],
            [
             0.6,
             "#e6f5d0"
            ],
            [
             0.7,
             "#b8e186"
            ],
            [
             0.8,
             "#7fbc41"
            ],
            [
             0.9,
             "#4d9221"
            ],
            [
             1,
             "#276419"
            ]
           ],
           "sequential": [
            [
             0,
             "#0d0887"
            ],
            [
             0.1111111111111111,
             "#46039f"
            ],
            [
             0.2222222222222222,
             "#7201a8"
            ],
            [
             0.3333333333333333,
             "#9c179e"
            ],
            [
             0.4444444444444444,
             "#bd3786"
            ],
            [
             0.5555555555555556,
             "#d8576b"
            ],
            [
             0.6666666666666666,
             "#ed7953"
            ],
            [
             0.7777777777777778,
             "#fb9f3a"
            ],
            [
             0.8888888888888888,
             "#fdca26"
            ],
            [
             1,
             "#f0f921"
            ]
           ],
           "sequentialminus": [
            [
             0,
             "#0d0887"
            ],
            [
             0.1111111111111111,
             "#46039f"
            ],
            [
             0.2222222222222222,
             "#7201a8"
            ],
            [
             0.3333333333333333,
             "#9c179e"
            ],
            [
             0.4444444444444444,
             "#bd3786"
            ],
            [
             0.5555555555555556,
             "#d8576b"
            ],
            [
             0.6666666666666666,
             "#ed7953"
            ],
            [
             0.7777777777777778,
             "#fb9f3a"
            ],
            [
             0.8888888888888888,
             "#fdca26"
            ],
            [
             1,
             "#f0f921"
            ]
           ]
          },
          "colorway": [
           "#636efa",
           "#EF553B",
           "#00cc96",
           "#ab63fa",
           "#FFA15A",
           "#19d3f3",
           "#FF6692",
           "#B6E880",
           "#FF97FF",
           "#FECB52"
          ],
          "font": {
           "color": "#2a3f5f"
          },
          "geo": {
           "bgcolor": "white",
           "lakecolor": "white",
           "landcolor": "#E5ECF6",
           "showlakes": true,
           "showland": true,
           "subunitcolor": "white"
          },
          "hoverlabel": {
           "align": "left"
          },
          "hovermode": "closest",
          "mapbox": {
           "style": "light"
          },
          "paper_bgcolor": "white",
          "plot_bgcolor": "#E5ECF6",
          "polar": {
           "angularaxis": {
            "gridcolor": "white",
            "linecolor": "white",
            "ticks": ""
           },
           "bgcolor": "#E5ECF6",
           "radialaxis": {
            "gridcolor": "white",
            "linecolor": "white",
            "ticks": ""
           }
          },
          "scene": {
           "xaxis": {
            "backgroundcolor": "#E5ECF6",
            "gridcolor": "white",
            "gridwidth": 2,
            "linecolor": "white",
            "showbackground": true,
            "ticks": "",
            "zerolinecolor": "white"
           },
           "yaxis": {
            "backgroundcolor": "#E5ECF6",
            "gridcolor": "white",
            "gridwidth": 2,
            "linecolor": "white",
            "showbackground": true,
            "ticks": "",
            "zerolinecolor": "white"
           },
           "zaxis": {
            "backgroundcolor": "#E5ECF6",
            "gridcolor": "white",
            "gridwidth": 2,
            "linecolor": "white",
            "showbackground": true,
            "ticks": "",
            "zerolinecolor": "white"
           }
          },
          "shapedefaults": {
           "line": {
            "color": "#2a3f5f"
           }
          },
          "ternary": {
           "aaxis": {
            "gridcolor": "white",
            "linecolor": "white",
            "ticks": ""
           },
           "baxis": {
            "gridcolor": "white",
            "linecolor": "white",
            "ticks": ""
           },
           "bgcolor": "#E5ECF6",
           "caxis": {
            "gridcolor": "white",
            "linecolor": "white",
            "ticks": ""
           }
          },
          "title": {
           "x": 0.05
          },
          "xaxis": {
           "automargin": true,
           "gridcolor": "white",
           "linecolor": "white",
           "ticks": "",
           "title": {
            "standoff": 15
           },
           "zerolinecolor": "white",
           "zerolinewidth": 2
          },
          "yaxis": {
           "automargin": true,
           "gridcolor": "white",
           "linecolor": "white",
           "ticks": "",
           "title": {
            "standoff": 15
           },
           "zerolinecolor": "white",
           "zerolinewidth": 2
          }
         }
        },
        "title": {
         "font": {
          "color": "#351f39",
          "family": "Courier New"
         },
         "text": "Top 10 Party-wise criminal records"
        },
        "xaxis": {
         "anchor": "y",
         "categoryarray": [
          "BJP",
          "INC",
          "SHS",
          "BSP",
          "JD(U)",
          "DMK",
          "YSRCP",
          "TRS",
          "AITC",
          "LJP"
         ],
         "categoryorder": "array",
         "domain": [
          0,
          1
         ],
         "title": {
          "text": "Party"
         }
        },
        "yaxis": {
         "anchor": "x",
         "domain": [
          0,
          1
         ],
         "title": {
          "text": "Criminal Records"
         }
        }
       }
      },
      "text/html": [
       "<div>                            <div id=\"d3e39415-e595-4298-b2e9-d815fd76b0d2\" class=\"plotly-graph-div\" style=\"height:525px; width:100%;\"></div>            <script type=\"text/javascript\">                require([\"plotly\"], function(Plotly) {                    window.PLOTLYENV=window.PLOTLYENV || {};                                    if (document.getElementById(\"d3e39415-e595-4298-b2e9-d815fd76b0d2\")) {                    Plotly.newPlot(                        \"d3e39415-e595-4298-b2e9-d815fd76b0d2\",                        [{\"hovertemplate\":\"PARTY=%{x}<br>CRIMINALCASES=%{marker.size}<extra></extra>\",\"legendgroup\":\"BJP\",\"marker\":{\"color\":\"#636efa\",\"size\":[403],\"sizemode\":\"area\",\"sizeref\":1.0075,\"symbol\":\"circle\"},\"mode\":\"markers\",\"name\":\"BJP\",\"orientation\":\"v\",\"showlegend\":true,\"type\":\"scatter\",\"x\":[\"BJP\"],\"xaxis\":\"x\",\"y\":[403],\"yaxis\":\"y\"},{\"hovertemplate\":\"PARTY=%{x}<br>CRIMINALCASES=%{marker.size}<extra></extra>\",\"legendgroup\":\"INC\",\"marker\":{\"color\":\"#EF553B\",\"size\":[355],\"sizemode\":\"area\",\"sizeref\":1.0075,\"symbol\":\"circle\"},\"mode\":\"markers\",\"name\":\"INC\",\"orientation\":\"v\",\"showlegend\":true,\"type\":\"scatter\",\"x\":[\"INC\"],\"xaxis\":\"x\",\"y\":[355],\"yaxis\":\"y\"},{\"hovertemplate\":\"PARTY=%{x}<br>CRIMINALCASES=%{marker.size}<extra></extra>\",\"legendgroup\":\"SHS\",\"marker\":{\"color\":\"#00cc96\",\"size\":[35],\"sizemode\":\"area\",\"sizeref\":1.0075,\"symbol\":\"circle\"},\"mode\":\"markers\",\"name\":\"SHS\",\"orientation\":\"v\",\"showlegend\":true,\"type\":\"scatter\",\"x\":[\"SHS\"],\"xaxis\":\"x\",\"y\":[35],\"yaxis\":\"y\"},{\"hovertemplate\":\"PARTY=%{x}<br>CRIMINALCASES=%{marker.size}<extra></extra>\",\"legendgroup\":\"BSP\",\"marker\":{\"color\":\"#ab63fa\",\"size\":[32],\"sizemode\":\"area\",\"sizeref\":1.0075,\"symbol\":\"circle\"},\"mode\":\"markers\",\"name\":\"BSP\",\"orientation\":\"v\",\"showlegend\":true,\"type\":\"scatter\",\"x\":[\"BSP\"],\"xaxis\":\"x\",\"y\":[32],\"yaxis\":\"y\"},{\"hovertemplate\":\"PARTY=%{x}<br>CRIMINALCASES=%{marker.size}<extra></extra>\",\"legendgroup\":\"JD(U)\",\"marker\":{\"color\":\"#FFA15A\",\"size\":[31],\"sizemode\":\"area\",\"sizeref\":1.0075,\"symbol\":\"circle\"},\"mode\":\"markers\",\"name\":\"JD(U)\",\"orientation\":\"v\",\"showlegend\":true,\"type\":\"scatter\",\"x\":[\"JD(U)\"],\"xaxis\":\"x\",\"y\":[31],\"yaxis\":\"y\"},{\"hovertemplate\":\"PARTY=%{x}<br>CRIMINALCASES=%{marker.size}<extra></extra>\",\"legendgroup\":\"DMK\",\"marker\":{\"color\":\"#19d3f3\",\"size\":[28],\"sizemode\":\"area\",\"sizeref\":1.0075,\"symbol\":\"circle\"},\"mode\":\"markers\",\"name\":\"DMK\",\"orientation\":\"v\",\"showlegend\":true,\"type\":\"scatter\",\"x\":[\"DMK\"],\"xaxis\":\"x\",\"y\":[28],\"yaxis\":\"y\"},{\"hovertemplate\":\"PARTY=%{x}<br>CRIMINALCASES=%{marker.size}<extra></extra>\",\"legendgroup\":\"YSRCP\",\"marker\":{\"color\":\"#FF6692\",\"size\":[24],\"sizemode\":\"area\",\"sizeref\":1.0075,\"symbol\":\"circle\"},\"mode\":\"markers\",\"name\":\"YSRCP\",\"orientation\":\"v\",\"showlegend\":true,\"type\":\"scatter\",\"x\":[\"YSRCP\"],\"xaxis\":\"x\",\"y\":[24],\"yaxis\":\"y\"},{\"hovertemplate\":\"PARTY=%{x}<br>CRIMINALCASES=%{marker.size}<extra></extra>\",\"legendgroup\":\"TRS\",\"marker\":{\"color\":\"#B6E880\",\"size\":[24],\"sizemode\":\"area\",\"sizeref\":1.0075,\"symbol\":\"circle\"},\"mode\":\"markers\",\"name\":\"TRS\",\"orientation\":\"v\",\"showlegend\":true,\"type\":\"scatter\",\"x\":[\"TRS\"],\"xaxis\":\"x\",\"y\":[24],\"yaxis\":\"y\"},{\"hovertemplate\":\"PARTY=%{x}<br>CRIMINALCASES=%{marker.size}<extra></extra>\",\"legendgroup\":\"AITC\",\"marker\":{\"color\":\"#FF97FF\",\"size\":[17],\"sizemode\":\"area\",\"sizeref\":1.0075,\"symbol\":\"circle\"},\"mode\":\"markers\",\"name\":\"AITC\",\"orientation\":\"v\",\"showlegend\":true,\"type\":\"scatter\",\"x\":[\"AITC\"],\"xaxis\":\"x\",\"y\":[17],\"yaxis\":\"y\"},{\"hovertemplate\":\"PARTY=%{x}<br>CRIMINALCASES=%{marker.size}<extra></extra>\",\"legendgroup\":\"LJP\",\"marker\":{\"color\":\"#FECB52\",\"size\":[12],\"sizemode\":\"area\",\"sizeref\":1.0075,\"symbol\":\"circle\"},\"mode\":\"markers\",\"name\":\"LJP\",\"orientation\":\"v\",\"showlegend\":true,\"type\":\"scatter\",\"x\":[\"LJP\"],\"xaxis\":\"x\",\"y\":[12],\"yaxis\":\"y\"}],                        {\"font\":{\"color\":\"#351f39\",\"family\":\"Courier New\"},\"legend\":{\"itemsizing\":\"constant\",\"title\":{\"text\":\"PARTY\"},\"tracegroupgap\":0},\"margin\":{\"t\":60},\"template\":{\"data\":{\"bar\":[{\"error_x\":{\"color\":\"#2a3f5f\"},\"error_y\":{\"color\":\"#2a3f5f\"},\"marker\":{\"line\":{\"color\":\"#E5ECF6\",\"width\":0.5},\"pattern\":{\"fillmode\":\"overlay\",\"size\":10,\"solidity\":0.2}},\"type\":\"bar\"}],\"barpolar\":[{\"marker\":{\"line\":{\"color\":\"#E5ECF6\",\"width\":0.5},\"pattern\":{\"fillmode\":\"overlay\",\"size\":10,\"solidity\":0.2}},\"type\":\"barpolar\"}],\"carpet\":[{\"aaxis\":{\"endlinecolor\":\"#2a3f5f\",\"gridcolor\":\"white\",\"linecolor\":\"white\",\"minorgridcolor\":\"white\",\"startlinecolor\":\"#2a3f5f\"},\"baxis\":{\"endlinecolor\":\"#2a3f5f\",\"gridcolor\":\"white\",\"linecolor\":\"white\",\"minorgridcolor\":\"white\",\"startlinecolor\":\"#2a3f5f\"},\"type\":\"carpet\"}],\"choropleth\":[{\"colorbar\":{\"outlinewidth\":0,\"ticks\":\"\"},\"type\":\"choropleth\"}],\"contour\":[{\"colorbar\":{\"outlinewidth\":0,\"ticks\":\"\"},\"colorscale\":[[0.0,\"#0d0887\"],[0.1111111111111111,\"#46039f\"],[0.2222222222222222,\"#7201a8\"],[0.3333333333333333,\"#9c179e\"],[0.4444444444444444,\"#bd3786\"],[0.5555555555555556,\"#d8576b\"],[0.6666666666666666,\"#ed7953\"],[0.7777777777777778,\"#fb9f3a\"],[0.8888888888888888,\"#fdca26\"],[1.0,\"#f0f921\"]],\"type\":\"contour\"}],\"contourcarpet\":[{\"colorbar\":{\"outlinewidth\":0,\"ticks\":\"\"},\"type\":\"contourcarpet\"}],\"heatmap\":[{\"colorbar\":{\"outlinewidth\":0,\"ticks\":\"\"},\"colorscale\":[[0.0,\"#0d0887\"],[0.1111111111111111,\"#46039f\"],[0.2222222222222222,\"#7201a8\"],[0.3333333333333333,\"#9c179e\"],[0.4444444444444444,\"#bd3786\"],[0.5555555555555556,\"#d8576b\"],[0.6666666666666666,\"#ed7953\"],[0.7777777777777778,\"#fb9f3a\"],[0.8888888888888888,\"#fdca26\"],[1.0,\"#f0f921\"]],\"type\":\"heatmap\"}],\"heatmapgl\":[{\"colorbar\":{\"outlinewidth\":0,\"ticks\":\"\"},\"colorscale\":[[0.0,\"#0d0887\"],[0.1111111111111111,\"#46039f\"],[0.2222222222222222,\"#7201a8\"],[0.3333333333333333,\"#9c179e\"],[0.4444444444444444,\"#bd3786\"],[0.5555555555555556,\"#d8576b\"],[0.6666666666666666,\"#ed7953\"],[0.7777777777777778,\"#fb9f3a\"],[0.8888888888888888,\"#fdca26\"],[1.0,\"#f0f921\"]],\"type\":\"heatmapgl\"}],\"histogram\":[{\"marker\":{\"pattern\":{\"fillmode\":\"overlay\",\"size\":10,\"solidity\":0.2}},\"type\":\"histogram\"}],\"histogram2d\":[{\"colorbar\":{\"outlinewidth\":0,\"ticks\":\"\"},\"colorscale\":[[0.0,\"#0d0887\"],[0.1111111111111111,\"#46039f\"],[0.2222222222222222,\"#7201a8\"],[0.3333333333333333,\"#9c179e\"],[0.4444444444444444,\"#bd3786\"],[0.5555555555555556,\"#d8576b\"],[0.6666666666666666,\"#ed7953\"],[0.7777777777777778,\"#fb9f3a\"],[0.8888888888888888,\"#fdca26\"],[1.0,\"#f0f921\"]],\"type\":\"histogram2d\"}],\"histogram2dcontour\":[{\"colorbar\":{\"outlinewidth\":0,\"ticks\":\"\"},\"colorscale\":[[0.0,\"#0d0887\"],[0.1111111111111111,\"#46039f\"],[0.2222222222222222,\"#7201a8\"],[0.3333333333333333,\"#9c179e\"],[0.4444444444444444,\"#bd3786\"],[0.5555555555555556,\"#d8576b\"],[0.6666666666666666,\"#ed7953\"],[0.7777777777777778,\"#fb9f3a\"],[0.8888888888888888,\"#fdca26\"],[1.0,\"#f0f921\"]],\"type\":\"histogram2dcontour\"}],\"mesh3d\":[{\"colorbar\":{\"outlinewidth\":0,\"ticks\":\"\"},\"type\":\"mesh3d\"}],\"parcoords\":[{\"line\":{\"colorbar\":{\"outlinewidth\":0,\"ticks\":\"\"}},\"type\":\"parcoords\"}],\"pie\":[{\"automargin\":true,\"type\":\"pie\"}],\"scatter\":[{\"marker\":{\"colorbar\":{\"outlinewidth\":0,\"ticks\":\"\"}},\"type\":\"scatter\"}],\"scatter3d\":[{\"line\":{\"colorbar\":{\"outlinewidth\":0,\"ticks\":\"\"}},\"marker\":{\"colorbar\":{\"outlinewidth\":0,\"ticks\":\"\"}},\"type\":\"scatter3d\"}],\"scattercarpet\":[{\"marker\":{\"colorbar\":{\"outlinewidth\":0,\"ticks\":\"\"}},\"type\":\"scattercarpet\"}],\"scattergeo\":[{\"marker\":{\"colorbar\":{\"outlinewidth\":0,\"ticks\":\"\"}},\"type\":\"scattergeo\"}],\"scattergl\":[{\"marker\":{\"colorbar\":{\"outlinewidth\":0,\"ticks\":\"\"}},\"type\":\"scattergl\"}],\"scattermapbox\":[{\"marker\":{\"colorbar\":{\"outlinewidth\":0,\"ticks\":\"\"}},\"type\":\"scattermapbox\"}],\"scatterpolar\":[{\"marker\":{\"colorbar\":{\"outlinewidth\":0,\"ticks\":\"\"}},\"type\":\"scatterpolar\"}],\"scatterpolargl\":[{\"marker\":{\"colorbar\":{\"outlinewidth\":0,\"ticks\":\"\"}},\"type\":\"scatterpolargl\"}],\"scatterternary\":[{\"marker\":{\"colorbar\":{\"outlinewidth\":0,\"ticks\":\"\"}},\"type\":\"scatterternary\"}],\"surface\":[{\"colorbar\":{\"outlinewidth\":0,\"ticks\":\"\"},\"colorscale\":[[0.0,\"#0d0887\"],[0.1111111111111111,\"#46039f\"],[0.2222222222222222,\"#7201a8\"],[0.3333333333333333,\"#9c179e\"],[0.4444444444444444,\"#bd3786\"],[0.5555555555555556,\"#d8576b\"],[0.6666666666666666,\"#ed7953\"],[0.7777777777777778,\"#fb9f3a\"],[0.8888888888888888,\"#fdca26\"],[1.0,\"#f0f921\"]],\"type\":\"surface\"}],\"table\":[{\"cells\":{\"fill\":{\"color\":\"#EBF0F8\"},\"line\":{\"color\":\"white\"}},\"header\":{\"fill\":{\"color\":\"#C8D4E3\"},\"line\":{\"color\":\"white\"}},\"type\":\"table\"}]},\"layout\":{\"annotationdefaults\":{\"arrowcolor\":\"#2a3f5f\",\"arrowhead\":0,\"arrowwidth\":1},\"autotypenumbers\":\"strict\",\"coloraxis\":{\"colorbar\":{\"outlinewidth\":0,\"ticks\":\"\"}},\"colorscale\":{\"diverging\":[[0,\"#8e0152\"],[0.1,\"#c51b7d\"],[0.2,\"#de77ae\"],[0.3,\"#f1b6da\"],[0.4,\"#fde0ef\"],[0.5,\"#f7f7f7\"],[0.6,\"#e6f5d0\"],[0.7,\"#b8e186\"],[0.8,\"#7fbc41\"],[0.9,\"#4d9221\"],[1,\"#276419\"]],\"sequential\":[[0.0,\"#0d0887\"],[0.1111111111111111,\"#46039f\"],[0.2222222222222222,\"#7201a8\"],[0.3333333333333333,\"#9c179e\"],[0.4444444444444444,\"#bd3786\"],[0.5555555555555556,\"#d8576b\"],[0.6666666666666666,\"#ed7953\"],[0.7777777777777778,\"#fb9f3a\"],[0.8888888888888888,\"#fdca26\"],[1.0,\"#f0f921\"]],\"sequentialminus\":[[0.0,\"#0d0887\"],[0.1111111111111111,\"#46039f\"],[0.2222222222222222,\"#7201a8\"],[0.3333333333333333,\"#9c179e\"],[0.4444444444444444,\"#bd3786\"],[0.5555555555555556,\"#d8576b\"],[0.6666666666666666,\"#ed7953\"],[0.7777777777777778,\"#fb9f3a\"],[0.8888888888888888,\"#fdca26\"],[1.0,\"#f0f921\"]]},\"colorway\":[\"#636efa\",\"#EF553B\",\"#00cc96\",\"#ab63fa\",\"#FFA15A\",\"#19d3f3\",\"#FF6692\",\"#B6E880\",\"#FF97FF\",\"#FECB52\"],\"font\":{\"color\":\"#2a3f5f\"},\"geo\":{\"bgcolor\":\"white\",\"lakecolor\":\"white\",\"landcolor\":\"#E5ECF6\",\"showlakes\":true,\"showland\":true,\"subunitcolor\":\"white\"},\"hoverlabel\":{\"align\":\"left\"},\"hovermode\":\"closest\",\"mapbox\":{\"style\":\"light\"},\"paper_bgcolor\":\"white\",\"plot_bgcolor\":\"#E5ECF6\",\"polar\":{\"angularaxis\":{\"gridcolor\":\"white\",\"linecolor\":\"white\",\"ticks\":\"\"},\"bgcolor\":\"#E5ECF6\",\"radialaxis\":{\"gridcolor\":\"white\",\"linecolor\":\"white\",\"ticks\":\"\"}},\"scene\":{\"xaxis\":{\"backgroundcolor\":\"#E5ECF6\",\"gridcolor\":\"white\",\"gridwidth\":2,\"linecolor\":\"white\",\"showbackground\":true,\"ticks\":\"\",\"zerolinecolor\":\"white\"},\"yaxis\":{\"backgroundcolor\":\"#E5ECF6\",\"gridcolor\":\"white\",\"gridwidth\":2,\"linecolor\":\"white\",\"showbackground\":true,\"ticks\":\"\",\"zerolinecolor\":\"white\"},\"zaxis\":{\"backgroundcolor\":\"#E5ECF6\",\"gridcolor\":\"white\",\"gridwidth\":2,\"linecolor\":\"white\",\"showbackground\":true,\"ticks\":\"\",\"zerolinecolor\":\"white\"}},\"shapedefaults\":{\"line\":{\"color\":\"#2a3f5f\"}},\"ternary\":{\"aaxis\":{\"gridcolor\":\"white\",\"linecolor\":\"white\",\"ticks\":\"\"},\"baxis\":{\"gridcolor\":\"white\",\"linecolor\":\"white\",\"ticks\":\"\"},\"bgcolor\":\"#E5ECF6\",\"caxis\":{\"gridcolor\":\"white\",\"linecolor\":\"white\",\"ticks\":\"\"}},\"title\":{\"x\":0.05},\"xaxis\":{\"automargin\":true,\"gridcolor\":\"white\",\"linecolor\":\"white\",\"ticks\":\"\",\"title\":{\"standoff\":15},\"zerolinecolor\":\"white\",\"zerolinewidth\":2},\"yaxis\":{\"automargin\":true,\"gridcolor\":\"white\",\"linecolor\":\"white\",\"ticks\":\"\",\"title\":{\"standoff\":15},\"zerolinecolor\":\"white\",\"zerolinewidth\":2}}},\"title\":{\"font\":{\"color\":\"#351f39\",\"family\":\"Courier New\"},\"text\":\"Top 10 Party-wise criminal records\"},\"xaxis\":{\"anchor\":\"y\",\"categoryarray\":[\"BJP\",\"INC\",\"SHS\",\"BSP\",\"JD(U)\",\"DMK\",\"YSRCP\",\"TRS\",\"AITC\",\"LJP\"],\"categoryorder\":\"array\",\"domain\":[0.0,1.0],\"title\":{\"text\":\"Party\"}},\"yaxis\":{\"anchor\":\"x\",\"domain\":[0.0,1.0],\"title\":{\"text\":\"Criminal Records\"}}},                        {\"responsive\": true}                    ).then(function(){\n",
       "                            \n",
       "var gd = document.getElementById('d3e39415-e595-4298-b2e9-d815fd76b0d2');\n",
       "var x = new MutationObserver(function (mutations, observer) {{\n",
       "        var display = window.getComputedStyle(gd).display;\n",
       "        if (!display || display === 'none') {{\n",
       "            console.log([gd, 'removed!']);\n",
       "            Plotly.purge(gd);\n",
       "            observer.disconnect();\n",
       "        }}\n",
       "}});\n",
       "\n",
       "// Listen for the removal of the full notebook cells\n",
       "var notebookContainer = gd.closest('#notebook-container');\n",
       "if (notebookContainer) {{\n",
       "    x.observe(notebookContainer, {childList: true});\n",
       "}}\n",
       "\n",
       "// Listen for the clearing of the current output cell\n",
       "var outputEl = gd.closest('.output');\n",
       "if (outputEl) {{\n",
       "    x.observe(outputEl, {childList: true});\n",
       "}}\n",
       "\n",
       "                        })                };                });            </script>        </div>"
      ]
     },
     "metadata": {},
     "output_type": "display_data"
    }
   ],
   "source": [
    "# Create a dataframe of criminal records\n",
    "criminal_df = pd.DataFrame(data=df[df['WINNER'] == 1].groupby('PARTY')['CRIMINALCASES'].sum())\n",
    "criminal_df.sort_values(by='CRIMINALCASES', ascending=False, inplace=True)\n",
    "criminal_df.reset_index(level=0, inplace=True)\n",
    "criminal_df\n",
    "\n",
    "# Visualize the criminal records\n",
    "criminal_fig = px.scatter(criminal_df[:10], \n",
    "                 x='PARTY', \n",
    "                 y='CRIMINALCASES', \n",
    "                 size='CRIMINALCASES',\n",
    "                 color='PARTY',\n",
    "                 hover_data=['CRIMINALCASES'])\n",
    "\n",
    "criminal_fig.update_layout(title_text='Top 10 Party-wise criminal records',\n",
    "                         font_family=\"Courier New\",\n",
    "                         font_color=\"#351f39\",\n",
    "                         title_font_family=\"Courier New\",\n",
    "                         title_font_color=\"#351f39\",\n",
    "                         xaxis_title=\"Party\",\n",
    "                         yaxis_title=\"Criminal Records\")\n",
    "\n",
    "criminal_fig.show()"
   ]
  },
  {
   "cell_type": "markdown",
   "metadata": {},
   "source": [
    "### 6.7 Key battlegrounds of the election"
   ]
  },
  {
   "cell_type": "markdown",
   "metadata": {},
   "source": [
    "**Amethi (Uttar Pradesh):** Known to be a traditional Congress bastion, BJP had fielded Union Minister Smriti Irani against Congress president Rahul Gandhi. The voting day in Amethi in the fifth phase was marked by charges of 'booth-rigging' by Irani and Congress president Rahul Gandhi being absent from the constituency. In 2014, Irani lost to Rahul Gandhi from the same seat with a vote-margin of 1.07 lakh votes or a vote-ratio of about 3:4. This time, her challenge has forced Rahul Gandhi to also seek election from Wayanad.\n",
    "<img src=https://static.toiimg.com/thumb/msid-68513257,imgsize-212668,width-400,resizemode-4/68513257.jpg>\n",
    "\n",
    "**Varanasi (Uttar Pradesh):** Given the significance of the seat, mid-polls rumours had emerged that the Congress' General Secretary for Uttar Pradesh East Priyanka Gandhi Vadra could contest the seat. However, the speculations were put to rest as Congress fielded Ajay Rai, hours before PM Modi addressed a massive road-show ahead of his nomination-filing. In the 2014 Parliamentary elections, PM Modi swept the seat by receiving 56.40% of votes and defeated Arvind Kejriwal by a by 3.37 lakh vote margin.\n",
    "<img src=https://resize4.indiatvnews.com/en/resize/gallery/835_-/2020/11/PTI30-11-2020_000175B.jpg style=\"width:500px;height:200px;\">"
   ]
  },
  {
   "cell_type": "code",
   "execution_count": 27,
   "metadata": {},
   "outputs": [
    {
     "data": {
      "text/plain": [
       "<AxesSubplot:title={'center':\"Battleground Varanasi: Narendra Modi's Constituency\"}, xlabel='NAME'>"
      ]
     },
     "execution_count": 27,
     "metadata": {},
     "output_type": "execute_result"
    },
    {
     "data": {
      "image/png": "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\n",
      "text/plain": [
       "<Figure size 1080x504 with 2 Axes>"
      ]
     },
     "metadata": {
      "needs_background": "light"
     },
     "output_type": "display_data"
    }
   ],
   "source": [
    "# Battleground Amethi\n",
    "amethi_df = df[df['CONSTITUENCY'] == 'AMETHI'][['NAME','TOTALVOTES']]\n",
    "\n",
    "# Battleground Varanasi\n",
    "varanasi_df = df[df['CONSTITUENCY'] == 'VARANASI'][['NAME','TOTALVOTES']]\n",
    "\n",
    "fig, axes = plt.subplots(nrows=1, ncols=2, figsize=(15,7))\n",
    "amethi_df.plot(kind='bar', ax=axes[0], alpha=0.75, rot=0, legend=False, title='Battleground Amethi: Smriti Irani vs Rahul Gandhi', x='NAME')\n",
    "varanasi_df.plot(kind='bar', ax=axes[1], alpha=0.75, rot=0, legend=False, title=\"Battleground Varanasi: Narendra Modi's Constituency\", x='NAME')"
   ]
  },
  {
   "cell_type": "markdown",
   "metadata": {},
   "source": [
    "- This time things were different in Amethi. Smriti Irani defeated Rahul Gandhi by a substantial margin.\n",
    "- In Varanasi however the picture was similar with Narendra Modi winning the seat by a landslide."
   ]
  },
  {
   "cell_type": "markdown",
   "metadata": {},
   "source": [
    "**West Bengal:** West Bengal remained the newsmaker of the 2019 Lok Sabha polls, with violence including crude bombs, lathi charges and repeated political clashes and claims of attacks from candidates became the talking point in the state as polling was held in all seven phases spread across two months in the politically important state. Bengal has 42 Lok Sabha constituencies, of which the Trinamool won 34 in 2014. The Congress managed four and the Left two. The BJP secured only two, despite the Narendra Modi wave in the country that year. The state which was considered to be a bastion for the Left Wing has now become a stronghold for the Trinamool Congress.\n",
    "<img src=https://images.hindustantimes.com/rf/image_size_630x354/HT/p2/2019/05/26/Pictures/mamata-supremo-banerjee-west-bengal-chief-minister_73f1c2d4-7f98-11e9-9a75-14b5d08877bf.jpg>"
   ]
  },
  {
   "cell_type": "code",
   "execution_count": 28,
   "metadata": {},
   "outputs": [
    {
     "data": {
      "application/vnd.plotly.v1+json": {
       "config": {
        "plotlyServerURL": "https://plot.ly"
       },
       "data": [
        {
         "labels": [
          "AITC",
          "BJP",
          "INC",
          "Other"
         ],
         "marker": {
          "line": {
           "color": "#000000",
           "width": 2
          }
         },
         "pull": [
          0.1,
          0.1,
          0.1,
          0.1,
          0.1,
          0.1
         ],
         "type": "pie",
         "values": [
          24757345,
          23028517,
          3210491,
          4418586
         ]
        }
       ],
       "layout": {
        "font": {
         "color": "#351f39",
         "family": "Courier New"
        },
        "template": {
         "data": {
          "bar": [
           {
            "error_x": {
             "color": "#2a3f5f"
            },
            "error_y": {
             "color": "#2a3f5f"
            },
            "marker": {
             "line": {
              "color": "#E5ECF6",
              "width": 0.5
             },
             "pattern": {
              "fillmode": "overlay",
              "size": 10,
              "solidity": 0.2
             }
            },
            "type": "bar"
           }
          ],
          "barpolar": [
           {
            "marker": {
             "line": {
              "color": "#E5ECF6",
              "width": 0.5
             },
             "pattern": {
              "fillmode": "overlay",
              "size": 10,
              "solidity": 0.2
             }
            },
            "type": "barpolar"
           }
          ],
          "carpet": [
           {
            "aaxis": {
             "endlinecolor": "#2a3f5f",
             "gridcolor": "white",
             "linecolor": "white",
             "minorgridcolor": "white",
             "startlinecolor": "#2a3f5f"
            },
            "baxis": {
             "endlinecolor": "#2a3f5f",
             "gridcolor": "white",
             "linecolor": "white",
             "minorgridcolor": "white",
             "startlinecolor": "#2a3f5f"
            },
            "type": "carpet"
           }
          ],
          "choropleth": [
           {
            "colorbar": {
             "outlinewidth": 0,
             "ticks": ""
            },
            "type": "choropleth"
           }
          ],
          "contour": [
           {
            "colorbar": {
             "outlinewidth": 0,
             "ticks": ""
            },
            "colorscale": [
             [
              0,
              "#0d0887"
             ],
             [
              0.1111111111111111,
              "#46039f"
             ],
             [
              0.2222222222222222,
              "#7201a8"
             ],
             [
              0.3333333333333333,
              "#9c179e"
             ],
             [
              0.4444444444444444,
              "#bd3786"
             ],
             [
              0.5555555555555556,
              "#d8576b"
             ],
             [
              0.6666666666666666,
              "#ed7953"
             ],
             [
              0.7777777777777778,
              "#fb9f3a"
             ],
             [
              0.8888888888888888,
              "#fdca26"
             ],
             [
              1,
              "#f0f921"
             ]
            ],
            "type": "contour"
           }
          ],
          "contourcarpet": [
           {
            "colorbar": {
             "outlinewidth": 0,
             "ticks": ""
            },
            "type": "contourcarpet"
           }
          ],
          "heatmap": [
           {
            "colorbar": {
             "outlinewidth": 0,
             "ticks": ""
            },
            "colorscale": [
             [
              0,
              "#0d0887"
             ],
             [
              0.1111111111111111,
              "#46039f"
             ],
             [
              0.2222222222222222,
              "#7201a8"
             ],
             [
              0.3333333333333333,
              "#9c179e"
             ],
             [
              0.4444444444444444,
              "#bd3786"
             ],
             [
              0.5555555555555556,
              "#d8576b"
             ],
             [
              0.6666666666666666,
              "#ed7953"
             ],
             [
              0.7777777777777778,
              "#fb9f3a"
             ],
             [
              0.8888888888888888,
              "#fdca26"
             ],
             [
              1,
              "#f0f921"
             ]
            ],
            "type": "heatmap"
           }
          ],
          "heatmapgl": [
           {
            "colorbar": {
             "outlinewidth": 0,
             "ticks": ""
            },
            "colorscale": [
             [
              0,
              "#0d0887"
             ],
             [
              0.1111111111111111,
              "#46039f"
             ],
             [
              0.2222222222222222,
              "#7201a8"
             ],
             [
              0.3333333333333333,
              "#9c179e"
             ],
             [
              0.4444444444444444,
              "#bd3786"
             ],
             [
              0.5555555555555556,
              "#d8576b"
             ],
             [
              0.6666666666666666,
              "#ed7953"
             ],
             [
              0.7777777777777778,
              "#fb9f3a"
             ],
             [
              0.8888888888888888,
              "#fdca26"
             ],
             [
              1,
              "#f0f921"
             ]
            ],
            "type": "heatmapgl"
           }
          ],
          "histogram": [
           {
            "marker": {
             "pattern": {
              "fillmode": "overlay",
              "size": 10,
              "solidity": 0.2
             }
            },
            "type": "histogram"
           }
          ],
          "histogram2d": [
           {
            "colorbar": {
             "outlinewidth": 0,
             "ticks": ""
            },
            "colorscale": [
             [
              0,
              "#0d0887"
             ],
             [
              0.1111111111111111,
              "#46039f"
             ],
             [
              0.2222222222222222,
              "#7201a8"
             ],
             [
              0.3333333333333333,
              "#9c179e"
             ],
             [
              0.4444444444444444,
              "#bd3786"
             ],
             [
              0.5555555555555556,
              "#d8576b"
             ],
             [
              0.6666666666666666,
              "#ed7953"
             ],
             [
              0.7777777777777778,
              "#fb9f3a"
             ],
             [
              0.8888888888888888,
              "#fdca26"
             ],
             [
              1,
              "#f0f921"
             ]
            ],
            "type": "histogram2d"
           }
          ],
          "histogram2dcontour": [
           {
            "colorbar": {
             "outlinewidth": 0,
             "ticks": ""
            },
            "colorscale": [
             [
              0,
              "#0d0887"
             ],
             [
              0.1111111111111111,
              "#46039f"
             ],
             [
              0.2222222222222222,
              "#7201a8"
             ],
             [
              0.3333333333333333,
              "#9c179e"
             ],
             [
              0.4444444444444444,
              "#bd3786"
             ],
             [
              0.5555555555555556,
              "#d8576b"
             ],
             [
              0.6666666666666666,
              "#ed7953"
             ],
             [
              0.7777777777777778,
              "#fb9f3a"
             ],
             [
              0.8888888888888888,
              "#fdca26"
             ],
             [
              1,
              "#f0f921"
             ]
            ],
            "type": "histogram2dcontour"
           }
          ],
          "mesh3d": [
           {
            "colorbar": {
             "outlinewidth": 0,
             "ticks": ""
            },
            "type": "mesh3d"
           }
          ],
          "parcoords": [
           {
            "line": {
             "colorbar": {
              "outlinewidth": 0,
              "ticks": ""
             }
            },
            "type": "parcoords"
           }
          ],
          "pie": [
           {
            "automargin": true,
            "type": "pie"
           }
          ],
          "scatter": [
           {
            "marker": {
             "colorbar": {
              "outlinewidth": 0,
              "ticks": ""
             }
            },
            "type": "scatter"
           }
          ],
          "scatter3d": [
           {
            "line": {
             "colorbar": {
              "outlinewidth": 0,
              "ticks": ""
             }
            },
            "marker": {
             "colorbar": {
              "outlinewidth": 0,
              "ticks": ""
             }
            },
            "type": "scatter3d"
           }
          ],
          "scattercarpet": [
           {
            "marker": {
             "colorbar": {
              "outlinewidth": 0,
              "ticks": ""
             }
            },
            "type": "scattercarpet"
           }
          ],
          "scattergeo": [
           {
            "marker": {
             "colorbar": {
              "outlinewidth": 0,
              "ticks": ""
             }
            },
            "type": "scattergeo"
           }
          ],
          "scattergl": [
           {
            "marker": {
             "colorbar": {
              "outlinewidth": 0,
              "ticks": ""
             }
            },
            "type": "scattergl"
           }
          ],
          "scattermapbox": [
           {
            "marker": {
             "colorbar": {
              "outlinewidth": 0,
              "ticks": ""
             }
            },
            "type": "scattermapbox"
           }
          ],
          "scatterpolar": [
           {
            "marker": {
             "colorbar": {
              "outlinewidth": 0,
              "ticks": ""
             }
            },
            "type": "scatterpolar"
           }
          ],
          "scatterpolargl": [
           {
            "marker": {
             "colorbar": {
              "outlinewidth": 0,
              "ticks": ""
             }
            },
            "type": "scatterpolargl"
           }
          ],
          "scatterternary": [
           {
            "marker": {
             "colorbar": {
              "outlinewidth": 0,
              "ticks": ""
             }
            },
            "type": "scatterternary"
           }
          ],
          "surface": [
           {
            "colorbar": {
             "outlinewidth": 0,
             "ticks": ""
            },
            "colorscale": [
             [
              0,
              "#0d0887"
             ],
             [
              0.1111111111111111,
              "#46039f"
             ],
             [
              0.2222222222222222,
              "#7201a8"
             ],
             [
              0.3333333333333333,
              "#9c179e"
             ],
             [
              0.4444444444444444,
              "#bd3786"
             ],
             [
              0.5555555555555556,
              "#d8576b"
             ],
             [
              0.6666666666666666,
              "#ed7953"
             ],
             [
              0.7777777777777778,
              "#fb9f3a"
             ],
             [
              0.8888888888888888,
              "#fdca26"
             ],
             [
              1,
              "#f0f921"
             ]
            ],
            "type": "surface"
           }
          ],
          "table": [
           {
            "cells": {
             "fill": {
              "color": "#EBF0F8"
             },
             "line": {
              "color": "white"
             }
            },
            "header": {
             "fill": {
              "color": "#C8D4E3"
             },
             "line": {
              "color": "white"
             }
            },
            "type": "table"
           }
          ]
         },
         "layout": {
          "annotationdefaults": {
           "arrowcolor": "#2a3f5f",
           "arrowhead": 0,
           "arrowwidth": 1
          },
          "autotypenumbers": "strict",
          "coloraxis": {
           "colorbar": {
            "outlinewidth": 0,
            "ticks": ""
           }
          },
          "colorscale": {
           "diverging": [
            [
             0,
             "#8e0152"
            ],
            [
             0.1,
             "#c51b7d"
            ],
            [
             0.2,
             "#de77ae"
            ],
            [
             0.3,
             "#f1b6da"
            ],
            [
             0.4,
             "#fde0ef"
            ],
            [
             0.5,
             "#f7f7f7"
            ],
            [
             0.6,
             "#e6f5d0"
            ],
            [
             0.7,
             "#b8e186"
            ],
            [
             0.8,
             "#7fbc41"
            ],
            [
             0.9,
             "#4d9221"
            ],
            [
             1,
             "#276419"
            ]
           ],
           "sequential": [
            [
             0,
             "#0d0887"
            ],
            [
             0.1111111111111111,
             "#46039f"
            ],
            [
             0.2222222222222222,
             "#7201a8"
            ],
            [
             0.3333333333333333,
             "#9c179e"
            ],
            [
             0.4444444444444444,
             "#bd3786"
            ],
            [
             0.5555555555555556,
             "#d8576b"
            ],
            [
             0.6666666666666666,
             "#ed7953"
            ],
            [
             0.7777777777777778,
             "#fb9f3a"
            ],
            [
             0.8888888888888888,
             "#fdca26"
            ],
            [
             1,
             "#f0f921"
            ]
           ],
           "sequentialminus": [
            [
             0,
             "#0d0887"
            ],
            [
             0.1111111111111111,
             "#46039f"
            ],
            [
             0.2222222222222222,
             "#7201a8"
            ],
            [
             0.3333333333333333,
             "#9c179e"
            ],
            [
             0.4444444444444444,
             "#bd3786"
            ],
            [
             0.5555555555555556,
             "#d8576b"
            ],
            [
             0.6666666666666666,
             "#ed7953"
            ],
            [
             0.7777777777777778,
             "#fb9f3a"
            ],
            [
             0.8888888888888888,
             "#fdca26"
            ],
            [
             1,
             "#f0f921"
            ]
           ]
          },
          "colorway": [
           "#636efa",
           "#EF553B",
           "#00cc96",
           "#ab63fa",
           "#FFA15A",
           "#19d3f3",
           "#FF6692",
           "#B6E880",
           "#FF97FF",
           "#FECB52"
          ],
          "font": {
           "color": "#2a3f5f"
          },
          "geo": {
           "bgcolor": "white",
           "lakecolor": "white",
           "landcolor": "#E5ECF6",
           "showlakes": true,
           "showland": true,
           "subunitcolor": "white"
          },
          "hoverlabel": {
           "align": "left"
          },
          "hovermode": "closest",
          "mapbox": {
           "style": "light"
          },
          "paper_bgcolor": "white",
          "plot_bgcolor": "#E5ECF6",
          "polar": {
           "angularaxis": {
            "gridcolor": "white",
            "linecolor": "white",
            "ticks": ""
           },
           "bgcolor": "#E5ECF6",
           "radialaxis": {
            "gridcolor": "white",
            "linecolor": "white",
            "ticks": ""
           }
          },
          "scene": {
           "xaxis": {
            "backgroundcolor": "#E5ECF6",
            "gridcolor": "white",
            "gridwidth": 2,
            "linecolor": "white",
            "showbackground": true,
            "ticks": "",
            "zerolinecolor": "white"
           },
           "yaxis": {
            "backgroundcolor": "#E5ECF6",
            "gridcolor": "white",
            "gridwidth": 2,
            "linecolor": "white",
            "showbackground": true,
            "ticks": "",
            "zerolinecolor": "white"
           },
           "zaxis": {
            "backgroundcolor": "#E5ECF6",
            "gridcolor": "white",
            "gridwidth": 2,
            "linecolor": "white",
            "showbackground": true,
            "ticks": "",
            "zerolinecolor": "white"
           }
          },
          "shapedefaults": {
           "line": {
            "color": "#2a3f5f"
           }
          },
          "ternary": {
           "aaxis": {
            "gridcolor": "white",
            "linecolor": "white",
            "ticks": ""
           },
           "baxis": {
            "gridcolor": "white",
            "linecolor": "white",
            "ticks": ""
           },
           "bgcolor": "#E5ECF6",
           "caxis": {
            "gridcolor": "white",
            "linecolor": "white",
            "ticks": ""
           }
          },
          "title": {
           "x": 0.05
          },
          "xaxis": {
           "automargin": true,
           "gridcolor": "white",
           "linecolor": "white",
           "ticks": "",
           "title": {
            "standoff": 15
           },
           "zerolinecolor": "white",
           "zerolinewidth": 2
          },
          "yaxis": {
           "automargin": true,
           "gridcolor": "white",
           "linecolor": "white",
           "ticks": "",
           "title": {
            "standoff": 15
           },
           "zerolinecolor": "white",
           "zerolinewidth": 2
          }
         }
        },
        "title": {
         "font": {
          "color": "#351f39",
          "family": "Courier New"
         },
         "text": "West Bengal : Party-wise Vote Share"
        }
       }
      },
      "text/html": [
       "<div>                            <div id=\"ebe5ffda-6ccb-4b05-b431-b3d630e80c4d\" class=\"plotly-graph-div\" style=\"height:525px; width:100%;\"></div>            <script type=\"text/javascript\">                require([\"plotly\"], function(Plotly) {                    window.PLOTLYENV=window.PLOTLYENV || {};                                    if (document.getElementById(\"ebe5ffda-6ccb-4b05-b431-b3d630e80c4d\")) {                    Plotly.newPlot(                        \"ebe5ffda-6ccb-4b05-b431-b3d630e80c4d\",                        [{\"labels\":[\"AITC\",\"BJP\",\"INC\",\"Other\"],\"marker\":{\"line\":{\"color\":\"#000000\",\"width\":2}},\"pull\":[0.1,0.1,0.1,0.1,0.1,0.1],\"type\":\"pie\",\"values\":[24757345,23028517,3210491,4418586]}],                        {\"font\":{\"color\":\"#351f39\",\"family\":\"Courier New\"},\"template\":{\"data\":{\"bar\":[{\"error_x\":{\"color\":\"#2a3f5f\"},\"error_y\":{\"color\":\"#2a3f5f\"},\"marker\":{\"line\":{\"color\":\"#E5ECF6\",\"width\":0.5},\"pattern\":{\"fillmode\":\"overlay\",\"size\":10,\"solidity\":0.2}},\"type\":\"bar\"}],\"barpolar\":[{\"marker\":{\"line\":{\"color\":\"#E5ECF6\",\"width\":0.5},\"pattern\":{\"fillmode\":\"overlay\",\"size\":10,\"solidity\":0.2}},\"type\":\"barpolar\"}],\"carpet\":[{\"aaxis\":{\"endlinecolor\":\"#2a3f5f\",\"gridcolor\":\"white\",\"linecolor\":\"white\",\"minorgridcolor\":\"white\",\"startlinecolor\":\"#2a3f5f\"},\"baxis\":{\"endlinecolor\":\"#2a3f5f\",\"gridcolor\":\"white\",\"linecolor\":\"white\",\"minorgridcolor\":\"white\",\"startlinecolor\":\"#2a3f5f\"},\"type\":\"carpet\"}],\"choropleth\":[{\"colorbar\":{\"outlinewidth\":0,\"ticks\":\"\"},\"type\":\"choropleth\"}],\"contour\":[{\"colorbar\":{\"outlinewidth\":0,\"ticks\":\"\"},\"colorscale\":[[0.0,\"#0d0887\"],[0.1111111111111111,\"#46039f\"],[0.2222222222222222,\"#7201a8\"],[0.3333333333333333,\"#9c179e\"],[0.4444444444444444,\"#bd3786\"],[0.5555555555555556,\"#d8576b\"],[0.6666666666666666,\"#ed7953\"],[0.7777777777777778,\"#fb9f3a\"],[0.8888888888888888,\"#fdca26\"],[1.0,\"#f0f921\"]],\"type\":\"contour\"}],\"contourcarpet\":[{\"colorbar\":{\"outlinewidth\":0,\"ticks\":\"\"},\"type\":\"contourcarpet\"}],\"heatmap\":[{\"colorbar\":{\"outlinewidth\":0,\"ticks\":\"\"},\"colorscale\":[[0.0,\"#0d0887\"],[0.1111111111111111,\"#46039f\"],[0.2222222222222222,\"#7201a8\"],[0.3333333333333333,\"#9c179e\"],[0.4444444444444444,\"#bd3786\"],[0.5555555555555556,\"#d8576b\"],[0.6666666666666666,\"#ed7953\"],[0.7777777777777778,\"#fb9f3a\"],[0.8888888888888888,\"#fdca26\"],[1.0,\"#f0f921\"]],\"type\":\"heatmap\"}],\"heatmapgl\":[{\"colorbar\":{\"outlinewidth\":0,\"ticks\":\"\"},\"colorscale\":[[0.0,\"#0d0887\"],[0.1111111111111111,\"#46039f\"],[0.2222222222222222,\"#7201a8\"],[0.3333333333333333,\"#9c179e\"],[0.4444444444444444,\"#bd3786\"],[0.5555555555555556,\"#d8576b\"],[0.6666666666666666,\"#ed7953\"],[0.7777777777777778,\"#fb9f3a\"],[0.8888888888888888,\"#fdca26\"],[1.0,\"#f0f921\"]],\"type\":\"heatmapgl\"}],\"histogram\":[{\"marker\":{\"pattern\":{\"fillmode\":\"overlay\",\"size\":10,\"solidity\":0.2}},\"type\":\"histogram\"}],\"histogram2d\":[{\"colorbar\":{\"outlinewidth\":0,\"ticks\":\"\"},\"colorscale\":[[0.0,\"#0d0887\"],[0.1111111111111111,\"#46039f\"],[0.2222222222222222,\"#7201a8\"],[0.3333333333333333,\"#9c179e\"],[0.4444444444444444,\"#bd3786\"],[0.5555555555555556,\"#d8576b\"],[0.6666666666666666,\"#ed7953\"],[0.7777777777777778,\"#fb9f3a\"],[0.8888888888888888,\"#fdca26\"],[1.0,\"#f0f921\"]],\"type\":\"histogram2d\"}],\"histogram2dcontour\":[{\"colorbar\":{\"outlinewidth\":0,\"ticks\":\"\"},\"colorscale\":[[0.0,\"#0d0887\"],[0.1111111111111111,\"#46039f\"],[0.2222222222222222,\"#7201a8\"],[0.3333333333333333,\"#9c179e\"],[0.4444444444444444,\"#bd3786\"],[0.5555555555555556,\"#d8576b\"],[0.6666666666666666,\"#ed7953\"],[0.7777777777777778,\"#fb9f3a\"],[0.8888888888888888,\"#fdca26\"],[1.0,\"#f0f921\"]],\"type\":\"histogram2dcontour\"}],\"mesh3d\":[{\"colorbar\":{\"outlinewidth\":0,\"ticks\":\"\"},\"type\":\"mesh3d\"}],\"parcoords\":[{\"line\":{\"colorbar\":{\"outlinewidth\":0,\"ticks\":\"\"}},\"type\":\"parcoords\"}],\"pie\":[{\"automargin\":true,\"type\":\"pie\"}],\"scatter\":[{\"marker\":{\"colorbar\":{\"outlinewidth\":0,\"ticks\":\"\"}},\"type\":\"scatter\"}],\"scatter3d\":[{\"line\":{\"colorbar\":{\"outlinewidth\":0,\"ticks\":\"\"}},\"marker\":{\"colorbar\":{\"outlinewidth\":0,\"ticks\":\"\"}},\"type\":\"scatter3d\"}],\"scattercarpet\":[{\"marker\":{\"colorbar\":{\"outlinewidth\":0,\"ticks\":\"\"}},\"type\":\"scattercarpet\"}],\"scattergeo\":[{\"marker\":{\"colorbar\":{\"outlinewidth\":0,\"ticks\":\"\"}},\"type\":\"scattergeo\"}],\"scattergl\":[{\"marker\":{\"colorbar\":{\"outlinewidth\":0,\"ticks\":\"\"}},\"type\":\"scattergl\"}],\"scattermapbox\":[{\"marker\":{\"colorbar\":{\"outlinewidth\":0,\"ticks\":\"\"}},\"type\":\"scattermapbox\"}],\"scatterpolar\":[{\"marker\":{\"colorbar\":{\"outlinewidth\":0,\"ticks\":\"\"}},\"type\":\"scatterpolar\"}],\"scatterpolargl\":[{\"marker\":{\"colorbar\":{\"outlinewidth\":0,\"ticks\":\"\"}},\"type\":\"scatterpolargl\"}],\"scatterternary\":[{\"marker\":{\"colorbar\":{\"outlinewidth\":0,\"ticks\":\"\"}},\"type\":\"scatterternary\"}],\"surface\":[{\"colorbar\":{\"outlinewidth\":0,\"ticks\":\"\"},\"colorscale\":[[0.0,\"#0d0887\"],[0.1111111111111111,\"#46039f\"],[0.2222222222222222,\"#7201a8\"],[0.3333333333333333,\"#9c179e\"],[0.4444444444444444,\"#bd3786\"],[0.5555555555555556,\"#d8576b\"],[0.6666666666666666,\"#ed7953\"],[0.7777777777777778,\"#fb9f3a\"],[0.8888888888888888,\"#fdca26\"],[1.0,\"#f0f921\"]],\"type\":\"surface\"}],\"table\":[{\"cells\":{\"fill\":{\"color\":\"#EBF0F8\"},\"line\":{\"color\":\"white\"}},\"header\":{\"fill\":{\"color\":\"#C8D4E3\"},\"line\":{\"color\":\"white\"}},\"type\":\"table\"}]},\"layout\":{\"annotationdefaults\":{\"arrowcolor\":\"#2a3f5f\",\"arrowhead\":0,\"arrowwidth\":1},\"autotypenumbers\":\"strict\",\"coloraxis\":{\"colorbar\":{\"outlinewidth\":0,\"ticks\":\"\"}},\"colorscale\":{\"diverging\":[[0,\"#8e0152\"],[0.1,\"#c51b7d\"],[0.2,\"#de77ae\"],[0.3,\"#f1b6da\"],[0.4,\"#fde0ef\"],[0.5,\"#f7f7f7\"],[0.6,\"#e6f5d0\"],[0.7,\"#b8e186\"],[0.8,\"#7fbc41\"],[0.9,\"#4d9221\"],[1,\"#276419\"]],\"sequential\":[[0.0,\"#0d0887\"],[0.1111111111111111,\"#46039f\"],[0.2222222222222222,\"#7201a8\"],[0.3333333333333333,\"#9c179e\"],[0.4444444444444444,\"#bd3786\"],[0.5555555555555556,\"#d8576b\"],[0.6666666666666666,\"#ed7953\"],[0.7777777777777778,\"#fb9f3a\"],[0.8888888888888888,\"#fdca26\"],[1.0,\"#f0f921\"]],\"sequentialminus\":[[0.0,\"#0d0887\"],[0.1111111111111111,\"#46039f\"],[0.2222222222222222,\"#7201a8\"],[0.3333333333333333,\"#9c179e\"],[0.4444444444444444,\"#bd3786\"],[0.5555555555555556,\"#d8576b\"],[0.6666666666666666,\"#ed7953\"],[0.7777777777777778,\"#fb9f3a\"],[0.8888888888888888,\"#fdca26\"],[1.0,\"#f0f921\"]]},\"colorway\":[\"#636efa\",\"#EF553B\",\"#00cc96\",\"#ab63fa\",\"#FFA15A\",\"#19d3f3\",\"#FF6692\",\"#B6E880\",\"#FF97FF\",\"#FECB52\"],\"font\":{\"color\":\"#2a3f5f\"},\"geo\":{\"bgcolor\":\"white\",\"lakecolor\":\"white\",\"landcolor\":\"#E5ECF6\",\"showlakes\":true,\"showland\":true,\"subunitcolor\":\"white\"},\"hoverlabel\":{\"align\":\"left\"},\"hovermode\":\"closest\",\"mapbox\":{\"style\":\"light\"},\"paper_bgcolor\":\"white\",\"plot_bgcolor\":\"#E5ECF6\",\"polar\":{\"angularaxis\":{\"gridcolor\":\"white\",\"linecolor\":\"white\",\"ticks\":\"\"},\"bgcolor\":\"#E5ECF6\",\"radialaxis\":{\"gridcolor\":\"white\",\"linecolor\":\"white\",\"ticks\":\"\"}},\"scene\":{\"xaxis\":{\"backgroundcolor\":\"#E5ECF6\",\"gridcolor\":\"white\",\"gridwidth\":2,\"linecolor\":\"white\",\"showbackground\":true,\"ticks\":\"\",\"zerolinecolor\":\"white\"},\"yaxis\":{\"backgroundcolor\":\"#E5ECF6\",\"gridcolor\":\"white\",\"gridwidth\":2,\"linecolor\":\"white\",\"showbackground\":true,\"ticks\":\"\",\"zerolinecolor\":\"white\"},\"zaxis\":{\"backgroundcolor\":\"#E5ECF6\",\"gridcolor\":\"white\",\"gridwidth\":2,\"linecolor\":\"white\",\"showbackground\":true,\"ticks\":\"\",\"zerolinecolor\":\"white\"}},\"shapedefaults\":{\"line\":{\"color\":\"#2a3f5f\"}},\"ternary\":{\"aaxis\":{\"gridcolor\":\"white\",\"linecolor\":\"white\",\"ticks\":\"\"},\"baxis\":{\"gridcolor\":\"white\",\"linecolor\":\"white\",\"ticks\":\"\"},\"bgcolor\":\"#E5ECF6\",\"caxis\":{\"gridcolor\":\"white\",\"linecolor\":\"white\",\"ticks\":\"\"}},\"title\":{\"x\":0.05},\"xaxis\":{\"automargin\":true,\"gridcolor\":\"white\",\"linecolor\":\"white\",\"ticks\":\"\",\"title\":{\"standoff\":15},\"zerolinecolor\":\"white\",\"zerolinewidth\":2},\"yaxis\":{\"automargin\":true,\"gridcolor\":\"white\",\"linecolor\":\"white\",\"ticks\":\"\",\"title\":{\"standoff\":15},\"zerolinecolor\":\"white\",\"zerolinewidth\":2}}},\"title\":{\"font\":{\"color\":\"#351f39\",\"family\":\"Courier New\"},\"text\":\"West Bengal : Party-wise Vote Share\"}},                        {\"responsive\": true}                    ).then(function(){\n",
       "                            \n",
       "var gd = document.getElementById('ebe5ffda-6ccb-4b05-b431-b3d630e80c4d');\n",
       "var x = new MutationObserver(function (mutations, observer) {{\n",
       "        var display = window.getComputedStyle(gd).display;\n",
       "        if (!display || display === 'none') {{\n",
       "            console.log([gd, 'removed!']);\n",
       "            Plotly.purge(gd);\n",
       "            observer.disconnect();\n",
       "        }}\n",
       "}});\n",
       "\n",
       "// Listen for the removal of the full notebook cells\n",
       "var notebookContainer = gd.closest('#notebook-container');\n",
       "if (notebookContainer) {{\n",
       "    x.observe(notebookContainer, {childList: true});\n",
       "}}\n",
       "\n",
       "// Listen for the clearing of the current output cell\n",
       "var outputEl = gd.closest('.output');\n",
       "if (outputEl) {{\n",
       "    x.observe(outputEl, {childList: true});\n",
       "}}\n",
       "\n",
       "                        })                };                });            </script>        </div>"
      ]
     },
     "metadata": {},
     "output_type": "display_data"
    }
   ],
   "source": [
    "# Battleground West Bengal\n",
    "bengal_df = pd.DataFrame(data=df[df['STATE'] == 'West Bengal'])\n",
    "bengal_df_vote = pd.DataFrame(data=bengal_df.groupby('PARTY')['TOTALVOTES'].sum())\n",
    "bengal_df_vote.sort_values(by='TOTALVOTES', ascending=False, inplace=True)\n",
    "bengal_df_vote.reset_index(level=0, inplace=True)\n",
    "bengal_df_vote['Category'] = bengal_df_vote.apply(sort_party, axis=1)\n",
    "bengal_vote_count = bengal_df_vote.groupby('Category')['TOTALVOTES'].sum()\n",
    "\n",
    "vote_share_top5 = bengal_df_vote.groupby('PARTY')['TOTALVOTES'].sum().nlargest(5).index.tolist()\n",
    "# Visualize Party-wise vote share\n",
    "bengal_fig = go.Figure(go.Pie(labels=bengal_vote_count.index, \n",
    "                                  values=bengal_vote_count.values,\n",
    "                                  pull=[0.1, 0.1, 0.1, 0.1, 0.1, 0.1],\n",
    "                                  marker=dict(line=dict(color=\"#000000\", \n",
    "                                                        width=2))))\n",
    "bengal_fig.update_layout(title_text='West Bengal : Party-wise Vote Share',\n",
    "                             font_family=\"Courier New\",\n",
    "                             font_color=\"#351f39\",\n",
    "                             title_font_family=\"Courier New\",\n",
    "                             title_font_color=\"#351f39\")\n",
    "bengal_fig.show()"
   ]
  },
  {
   "cell_type": "markdown",
   "metadata": {},
   "source": [
    "The Trinamool Congress recorded its best-ever performance in 2014 Lok Sabha election in West Bengal as it swept 34 of the 42 seats decimating the Left in its victory march, while the BJP made impressive inroads winning two seats. The BJP left no stone unturned in attempting to make inroads into Mamata Banerjee's bastion while the Trinamool responded by not ceding an inch. This time around BJP swept the 2019 Lok Sabha polls winning 18 seats out of 42 with a vote share of 41.6%. However it failed to dent the consolidated vote share of Mamata Banerjee's TMC."
   ]
  },
  {
   "cell_type": "markdown",
   "metadata": {},
   "source": [
    "**How people voted in Bengal?**"
   ]
  },
  {
   "cell_type": "code",
   "execution_count": 29,
   "metadata": {},
   "outputs": [
    {
     "data": {
      "text/plain": [
       "<AxesSubplot:title={'center':'West Bengal: Education of winning candidates'}, xlabel='Education Level'>"
      ]
     },
     "execution_count": 29,
     "metadata": {},
     "output_type": "execute_result"
    },
    {
     "data": {
      "image/png": "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\n",
      "text/plain": [
       "<Figure size 1080x504 with 2 Axes>"
      ]
     },
     "metadata": {
      "needs_background": "light"
     },
     "output_type": "display_data"
    }
   ],
   "source": [
    "# Create a dataframe containing the caste distribution of winners\n",
    "winner_caste_bengal = bengal_df[bengal_df['WINNER'] == 1].groupby('CATEGORY')['WINNER'].size()\n",
    "winner_caste_bengal_df= pd.DataFrame(data=winner_caste_bengal)\n",
    "winner_caste_bengal_df.reset_index(level=0, inplace=True)\n",
    "\n",
    "def education(data):\n",
    "    if data['EDUCATION'] in ['5th Pass', 'Others', 'Illiterate', 'Not Available']:\n",
    "        return 'Uneducated'\n",
    "    elif data['EDUCATION'] in ['Graduate', 'Doctorate', 'Post Graduate']:\n",
    "        return 'Highly Educated'\n",
    "    else:\n",
    "        return 'Educated'\n",
    "    \n",
    "bengal_df['Education Level'] = bengal_df.apply(education, axis=1)\n",
    "\n",
    "winner_edu_bengal = bengal_df[bengal_df['WINNER'] == 1].groupby('Education Level')['WINNER'].size()\n",
    "winner_edu_bengal_df= pd.DataFrame(data=winner_edu_bengal)\n",
    "winner_edu_bengal_df.reset_index(level=0, inplace=True)\n",
    "\n",
    "fig, axes = plt.subplots(nrows=1, ncols=2, figsize=(15,7))\n",
    "winner_caste_bengal_df.plot(kind='bar', ax=axes[0], alpha=0.75, rot=0, legend=False, title='West Bengal: Caste of winning candidates', x='CATEGORY')\n",
    "winner_edu_bengal_df.plot(kind='bar', ax=axes[1], alpha=0.75, rot=0, legend=False, title='West Bengal: Education of winning candidates', x='Education Level')"
   ]
  },
  {
   "cell_type": "markdown",
   "metadata": {},
   "source": [
    "- Most of the winning candidates are from General caste.\n",
    "- When it comes to education most of the winning candidates are highly educated. The level of education of an candidate is a key factor in West Bengal"
   ]
  },
  {
   "cell_type": "markdown",
   "metadata": {},
   "source": [
    "**Begusarai (Bihar):** The Begusarai constituency, which is among the most talked about seats in Bihar, recorded a comparatively high turnout of 61.27%, as per the EC. The constituency has been under a microscope as it is witnessing the electoral debut of CPI candidate Kanhaiya Kumar, the controversial former JNUSU president who is pitted against BJP leader and union minister Giriraj Singh. The Mahagathbandhan's nominee is Tanweer Hasan (RJD).\n",
    "\n",
    "**Bangalore South (Karnataka)**: The saffron bastion will see BJP's Tejasvi Surya take on Congress’ BK Hariprasad. After the untimely death of BJP leader and union minister Ananth Kumar who had held the constituency since 1996, BJP has fielded a young face in Tejasvi Surya. The late Ananth Kumar had beaten Infosys co-founder Nandan Nilekani, then a Congress candidate, in 2014.\n",
    "\n",
    "**Wayanad (Kerala):** Congress chief Rahul Gandhi contesting from this constituency apart from Congress' bastion in Amethi has made the relatively new seat becoming a national talking point. Against him are PP Suneer of CPI(M) and Thushar Vellappally of Bharath Dharma Jana Sena (an ally of BJP). Interestingly, Congress chief will be fighting with three namesakes: two Independent candidates, K.E. Rahul Gandhi and K.M. Shivprasad Gandhi, and K. Raghul Gandhi of the Agila India Makkal Kazhagam party.\n",
    "\n",
    "**Bhopal (Madhya Pradesh):** A BJP bastion, this constituency has taken centrestage ever since the BJP fielded Malegaon blast-accused Sadhvi Pragya from the seat against Congress veteran Digvijaya Singh. Singh has been CM of Madhya Pradesh and is contesting an election after a gap of almost 19 years, the last being the assembly election he contested in 2003. He was nominated to the Rajya Sabha in 2014 from Madhya Pradesh. The BJP however has consistently been winning the seat of Bhopal since 1989. BJP's Alok Sanjar is the sitting MP from the Bhopal Lok Sabha seat. What makes the contest especially interesting, however, is the fact that Digvijaya Singh was one of the most significant proposers of 'Saffron terror/Hindu terror' which cited the Malegaon blasts among others.\n",
    "<img src=https://spiderimg.amarujala.com/assets/images/2019/04/17/750x506/sadhvi-pragya-vs-digvijay_1555489861.jpeg style=\"width:700px;height:300px;\">"
   ]
  },
  {
   "cell_type": "code",
   "execution_count": 30,
   "metadata": {},
   "outputs": [
    {
     "data": {
      "text/plain": [
       "<AxesSubplot:title={'center':'Battleground Bhopal'}, xlabel='NAME'>"
      ]
     },
     "execution_count": 30,
     "metadata": {},
     "output_type": "execute_result"
    },
    {
     "data": {
      "image/png": "iVBORw0KGgoAAAANSUhEUgAAA4AAAANsCAYAAAAKssauAAAAOXRFWHRTb2Z0d2FyZQBNYXRwbG90bGliIHZlcnNpb24zLjMuNCwgaHR0cHM6Ly9tYXRwbG90bGliLm9yZy8QVMy6AAAACXBIWXMAAAsTAAALEwEAmpwYAAB9VklEQVR4nOz9fZxdZX3v/7/eEkW8ARMMlCa0oYccLVBFyQlwbG1taqDVCm2hxqqk/tITy6F3p+1p4bSnsdC08j1tsbSFlgoSqBVS1EJVxDSUqi0CUVEEpERBiCBEEhFvQIOf3x/rGrMz7JnMTALDsF7Px2M/9tqfta5rX2vNnrnms9a1rp2qQpIkSZL01Pe06W6AJEmSJOmJYQIoSZIkST1hAihJkiRJPWECKEmSJEk9YQIoSZIkST1hAihJkiRJPWECKI2S5MIkfzTd7dhVSa5J8kvT3Y7pkuRHktw23e2QpOlknza9klSSg6e7HbtTkh9Lsmm626GpMwHUjJLkziTfTPK1JFuTvD/JgRMsu6D9IZ41EPvFJB99/Fr85JTkLUm+3Y7j15LcmuTnprtdu1NVfaSqXjDd7ZCksdin7R596NN2JskzkvxZkk3tGNyR5KzdVPdTLontOxNAzUQ/XVXPAQ4A7gP+cprbMyGDnfSTxKVV9Zx2LH8D+Psk+09zmyYkHf9+SXoqsE/bPWZsnzbMFI7vacAiYDHwXOAVwCd3d7v01OA/UJqxquph4DLgkJFYklcl+WSSrya5O8lbBop8uD1/pZ0dOxr4G+Do9vorw94nyauT3JjkK0n+I8mLBta9tL3fQ0n+McmlI0NtRoZIJPndJF8C3pFkzyRvS3JPe7wtyZ5t+8ecuR0869aG8fx1O0P8UJLrkvyXgW1fmeSzSR5M8ldAJnEsrwIeAgbrm+p+72w/firJLa3sF5P8dovPTvK+JJvbmfD3JZk/UMc1SVYn+XfgG8APJHlTO9P7UJLPJ3nzwPYOUZE0Y9inPX592gT7lzOS/Htry4eSPH9g/UlJvpDkgST/N92V259o6xYnubYdz3uT/FWSZ4xx7PdJclFrxxeS/H7aycx2vP49yVlJtgBvacf3T5PcleS+JH+TZK8xdvu/Ae+tqnuqc2dVXTTw3j/Y9vMrSW5O8ppR+/9LA6+/+7NLMvI5+1T7XL12YLvfSnJ/2+83TeynoycDE0DNWEmeBbwW+NhA+OvAScDzgFcBJyc5vq17eXt+XjtLeC3wy8C17fXzhrzHS4ELgDcD+wJ/C1zR/ig/A3gvcCEwB3gX8DOjqvietu77gZXA7wFHAYcDL6Y7U/f7k9jt1wF/CMwGNgKrWzufD7y71fV84HPAyyZSYTqvAp4B3LKb9ns85wNvrqrnAocBV7f404B30B2r7wO+CfzVqLJvpDuOzwW+ANwPvBrYG3gTcFZruyTNKPZpj1+fxsT6l1+g60f2a2VHTk4eApwDvJ7uKu0+wLyBco8C/6u182hgCfA/x2jeX7byPwD8KN3PdjBxOhL4fGvDauBM4L/SHd+D2/v+wRh1fwz4zST/M8kPJfluwpzk6cA/Ax9qdf8q8M4kO71NoqpGPmcvbp+rS9vr72H7sVgB/HWS2TurT08OJoCaif4p3ZnNrwKvBP7fyIqquqaqbqqq71TVp+k6sB/dhff6H8DfVtV1VfVoVa0BHqHr8I4CZgFnV9W3q+o9wPWjyn8HWFVVj1TVN+k6kNOr6v6q2kzX8b1xEu15T1VdX1XbgHfSdQoAPwXcUlWXVdW3gbcBX9pJXT/fjuPXgSuAP66qr+ym/R7Pt4FDkuxdVVur6hMAVfVAVb27qr5RVQ/RdX6jf3YXVtXNVbWtvff7q+pz7Wznv9F1bj8yibZI0nSzT3uc+7QJ9i/vqKr/bPu1dqAtJwD/XFUfrapv0SVgNVKoqj5eVR9r/dKddEn1Y35GSfagS/BPq6qH2rZ/xo7H656q+st2PB6m+3n9r6ra0tr9x8CyMfb/T+gSxtcDG4AvJlne1h0FPAd4a1V9q6quBt5Hl4BP1bfpfvbfrqoPAF8DvO9+hjAB1Ex0fDuzuSfwK8C/JfkegCRHJvnXNrziQbqzoc8fu6qd+n7gt9qQia+0zuVA4Hvb44tVVQPb3z2q/OY2rGfE99JduRrxhRabqMEO8Bt0f9BH6v3ue7c2jW7LaGur6nlV9Sy6YTInZfsQyl3d7/H8HF3n/oUk/5Zu2BJJnpXkb9uwmK/SDW96Xus0h75Pkp9M8rEkW1obf4pd+3lL0hPNPq3zuPVpE+xfJtqWbwAPjLxO8l/TDSn9Uqv7jxn+M3o+3ZXF0cdr8Gri4D7OBZ4FfHzgZ/XBFn+MltD/dVW9jO6K8WrggiQ/OLIPVfWdcd57sh5oieqIwWOmJzkTQM1Y7Y/de+iGX/xwC/8D3Zm/A6tqH7r7IUaGQdRjaxkaG3Q3sLp1KiOPZ1XVu4B7gXmDwyzoOtLx6r+HrgMe8X0tBt1Zy2eNrBj5B2CC7h1879amCc0kB9DORF4J/HQL7cp+j7sfVXVDVR1HNwzln+jOtAL8Ft3ZwyOram+2D28afJ/vHs9095m8G/hTYP/2D9QHRm0vSTOCfdoOdnefNpH+Zby2DN4vuBfd8NkR5wKfBRa2uv/PGPV+me6q2ejj9cXBpo/a/pvAoQM/q32qm+RmXFX1zar6a2Ar3T2l9wAHZsfJ0wbfe4efFd3wTj2FmQBqxmrj/I+ju3fg1hZ+LrClqh5OsphuTP+IzXTDV35gIHYfMD9j3LAN/B3wy+0sbJI8O91N+c8FrqXrqH8lyazWlsU7afa7gN9PMrfd4/AHwN+3dZ8CDk1yeJJnAm/Z+VH4rve3sj+bbuawX2MSf8DT3Qx/LHBzC+3Kfo+5H+mmqX59kn3asJ6vtrqg+9l9k25CgznAqp00+xl0Z8w3A9uS/CSwdKL7LElPJvZpO9jdfdpk+5dBlwE/neS/t+P6h+yY4D2Xri/7WpIXAicPq6SqHqU74bk6yXOTfD/wm2w/XqO3/w7dz+usJPu1/ZqX5Jgx9vk30k3Us1f7+S1vbfskcB1dkvc7SZ6e5MfokuNLWvEbgZ9tV0oPprunb9B97Pg50wxnAqiZ6J+TfI3uD+5qYHlVjfyR/5/A6UkeouuIRq4ujQzbWA38extOcRTdBCQ3A19K8uXRb1RVG+jG4P8V3Zm0jcAvtnXfAn6W7g/lV4A30I2pf2Sctv8R3dj8TwM3AZ9oMarqP4HTgX8Bbgcm/F1OVfVl4ETgrXRDUxYC/76TYq9N+84k4Ia2/R/u6n5PYD/eCNzZhsr8cisP3T0ee9Gd9fwY3VCX8fb5Ibp/Cta2Nv4C3ZlySZpJ7NMe287d2qcxyf5lVFtupps05RK6q4EP0U1ANnJcfpuu/3mILmG7dEg1I36VLhH7PN3x+Ae6SXnG8rt0P6OPtT7zXxj7Prtv0t1T+CW6/TwF+Lmq+nz72b4G+Mm27hzgpKr6bCt7FvAtukRvDd39mIPeAqxpn7OfH6e9miGy41BvSbsiyXXA31TVO6a7LU+kvu63JD2V+bf9sZI8hy5BXlhVd0xzc6Qp8QqgtAuS/GiS7xkYbvEiJnFmcabq635L0lOZf9uHS/LTbXjks+nuO78JuHN6WyVN3azpboA0w72AbkjOc+i+p+iEqrp3epv0hOjrfkvSU5l/24c7DriY7t6/DcCycgidZjCHgEqSJElSTzgEVJIkSZJ64ik3BPT5z39+LViwYLqbIUl6Anz84x//clUN/WJkPZZ9pCT1w3j941MuAVywYAEbNmyY7mZIkp4ASb4w3W2YSewjJakfxusfHQIqSZIkST1hAihJkiRJPWECKEmSJEk9YQIoSZIkST1hAihJkiRJPWECKEmSJEk9YQIoSZIkST1hAihJkiRJPWECKEmSJEk9sdMEMMkLktw48Phqkt9IMifJuiS3t+fZA2VOS7IxyW1JjhmIH5Hkprbu7CRp8T2TXNri1yVZMFBmeXuP25Ms3837L0mSJEm9sdMEsKpuq6rDq+pw4AjgG8B7gVOB9VW1EFjfXpPkEGAZcChwLHBOkj1adecCK4GF7XFsi68AtlbVwcBZwJmtrjnAKuBIYDGwajDRlCRJkiRN3GSHgC4BPldVXwCOA9a0+Brg+LZ8HHBJVT1SVXcAG4HFSQ4A9q6qa6uqgItGlRmp6zJgSbs6eAywrqq2VNVWYB3bk0ZJkiRJ0iRMNgFcBryrLe9fVfcCtOf9WnwecPdAmU0tNq8tj47vUKaqtgEPAvuOU9cOkqxMsiHJhs2bN09ylyRJkiSpHyacACZ5BvAa4B93tumQWI0Tn2qZ7YGq86pqUVUtmjt37k6aJ0mSJEn9NJkrgD8JfKKq7muv72vDOmnP97f4JuDAgXLzgXtafP6Q+A5lkswC9gG2jFOXJEmSJGmSJpMAvo7twz8BrgBGZuVcDlw+EF/WZvY8iG6yl+vbMNGHkhzV7u87aVSZkbpOAK5u9wleBSxNMrtN/rK0xSRJkiRJkzRrIhsleRbwSuDNA+G3AmuTrADuAk4EqKqbk6wFbgG2AadU1aOtzMnAhcBewJXtAXA+cHGSjXRX/pa1urYkOQO4oW13elVtmcJ+7jbLzrt2Ot9+l12y8ujpboIkSVMy0/vgmcz/H6SnjgklgFX1DbpJWQZjD9DNCjps+9XA6iHxDcBhQ+IP0xLIIesuAC6YSDslSZIkSWOb7CygkiRJkqQZygRQkiRJknrCBFCSJEmSesIEUJIkSZJ6wgRQkiRJknrCBFCSJEmSesIEUJIkSZJ6wgRQkiRJknrCBFCSJEmSesIEUJIkSZJ6wgRQkiRJknrCBFCSJEmSesIEUJIkSZJ6wgRQkiRJknrCBFCSpClK8oIkNw48vprkN5LMSbIuye3tefZAmdOSbExyW5JjBuJHJLmprTs7SVp8zySXtvh1SRYMlFne3uP2JMuf0J2XJM1IJoCSJE1RVd1WVYdX1eHAEcA3gPcCpwLrq2ohsL69JskhwDLgUOBY4Jwke7TqzgVWAgvb49gWXwFsraqDgbOAM1tdc4BVwJHAYmDVYKIpSdIwJoCSJO0eS4DPVdUXgOOANS2+Bji+LR8HXFJVj1TVHcBGYHGSA4C9q+raqirgolFlRuq6DFjSrg4eA6yrqi1VtRVYx/akUZKkoUwAJUnaPZYB72rL+1fVvQDteb8WnwfcPVBmU4vNa8uj4zuUqaptwIPAvuPUtYMkK5NsSLJh8+bNU945SdJTgwmgJEm7KMkzgNcA/7izTYfEapz4VMtsD1SdV1WLqmrR3Llzd9I8SdJTnQmgJEm77ieBT1TVfe31fW1YJ+35/hbfBBw4UG4+cE+Lzx8S36FMklnAPsCWceqSJGlMJoCSJO2617F9+CfAFcDIrJzLgcsH4svazJ4H0U32cn0bJvpQkqPa/X0njSozUtcJwNXtPsGrgKVJZrfJX5a2mCRJY5o13Q2QJGkmS/Is4JXAmwfCbwXWJlkB3AWcCFBVNydZC9wCbANOqapHW5mTgQuBvYAr2wPgfODiJBvprvwta3VtSXIGcEPb7vSq2vK47KQk6SnDBFCSpF1QVd+gm5RlMPYA3aygw7ZfDaweEt8AHDYk/jAtgRyy7gLggsm3WpLUVw4BlSRJkqSeMAGUJEmSpJ4wAZQkSZKknjABlCRJkqSeMAGUJEmSpJ4wAZQkSZKknjABlCRJkqSeMAGUJEmSpJ4wAZQkSZKknjABlCRJkqSeMAGUJEmSpJ4wAZQkSZKknjABlCRJkqSeMAGUJEmSpJ4wAZQkSZKknjABlCRJkqSeMAGUJEmSpJ4wAZQkSZKknjABlCRJkqSemFACmOR5SS5L8tkktyY5OsmcJOuS3N6eZw9sf1qSjUluS3LMQPyIJDe1dWcnSYvvmeTSFr8uyYKBMsvbe9yeZPlu3HdJkiRJ6pWJXgH8C+CDVfVC4MXArcCpwPqqWgisb69JcgiwDDgUOBY4J8kerZ5zgZXAwvY4tsVXAFur6mDgLODMVtccYBVwJLAYWDWYaEqSJEmSJm6nCWCSvYGXA+cDVNW3quorwHHAmrbZGuD4tnwccElVPVJVdwAbgcVJDgD2rqprq6qAi0aVGanrMmBJuzp4DLCuqrZU1VZgHduTRkmSJEnSJEzkCuAPAJuBdyT5ZJK3J3k2sH9V3QvQnvdr288D7h4ov6nF5rXl0fEdylTVNuBBYN9x6tpBkpVJNiTZsHnz5gnskiRJkiT1z0QSwFnAS4Fzq+olwNdpwz3HkCGxGic+1TLbA1XnVdWiqlo0d+7ccZomSZIkSf01kQRwE7Cpqq5rry+jSwjva8M6ac/3D2x/4ED5+cA9LT5/SHyHMklmAfsAW8apS5IkSZI0STtNAKvqS8DdSV7QQkuAW4ArgJFZOZcDl7flK4BlbWbPg+gme7m+DRN9KMlR7f6+k0aVGanrBODqdp/gVcDSJLPb5C9LW0ySJEmSNEmzJrjdrwLvTPIM4PPAm+iSx7VJVgB3AScCVNXNSdbSJYnbgFOq6tFWz8nAhcBewJXtAd0EMxcn2Uh35W9Zq2tLkjOAG9p2p1fVlinuqyRJkiT12oQSwKq6EVg0ZNWSMbZfDaweEt8AHDYk/jAtgRyy7gLggom0U5IkSZI0tol+D6AkSZIkaYYzAZQkSZKknjABlCRJkqSeMAGUJEmSpJ4wAZQkSZKknjABlCRJkqSeMAGUJEmSpJ4wAZQkSZKknjABlCRJkqSeMAGUJEmSpJ4wAZQkaYqSPC/JZUk+m+TWJEcnmZNkXZLb2/Psge1PS7IxyW1JjhmIH5Hkprbu7CRp8T2TXNri1yVZMFBmeXuP25Msf0J3XJI0Y5kASpI0dX8BfLCqXgi8GLgVOBVYX1ULgfXtNUkOAZYBhwLHAuck2aPVcy6wEljYHse2+Apga1UdDJwFnNnqmgOsAo4EFgOrBhNNSZLGYgIoSdIUJNkbeDlwPkBVfauqvgIcB6xpm60Bjm/LxwGXVNUjVXUHsBFYnOQAYO+quraqCrhoVJmRui4DlrSrg8cA66pqS1VtBdaxPWmUJGlMJoCSJE3NDwCbgXck+WSStyd5NrB/Vd0L0J73a9vPA+4eKL+pxea15dHxHcpU1TbgQWDfceqSJGlcJoCSJE3NLOClwLlV9RLg67ThnmPIkFiNE59qmR3fNFmZZEOSDZs3bx6neZKkPjABlCRpajYBm6rquvb6MrqE8L42rJP2fP/A9gcOlJ8P3NPi84fEdyiTZBawD7BlnLoeo6rOq6pFVbVo7ty5U9hNSdJTiQmgJElTUFVfAu5O8oIWWgLcAlwBjMzKuRy4vC1fASxrM3seRDfZy/VtmOhDSY5q9/edNKrMSF0nAFe3+wSvApYmmd0mf1naYpIkjWvWdDdAkqQZ7FeBdyZ5BvB54E10J1fXJlkB3AWcCFBVNydZS5ckbgNOqapHWz0nAxcCewFXtgd0E8xcnGQj3ZW/Za2uLUnOAG5o251eVVsezx2VJD01mABKkjRFVXUjsGjIqiVjbL8aWD0kvgE4bEj8YVoCOWTdBcAFk2iuJEkOAZUkSZKkvjABlCRJkqSeMAGUJEmSpJ4wAZQkSZKknjABlCRJkqSeMAGUJEmSpJ4wAZQkSZKknjABlCRJkqSeMAGUJEmSpJ4wAZQkSZKknjABlCRJkqSeMAGUJEmSpJ4wAZQkSZKknjABlCRJkqSeMAGUJEmSpJ4wAZQkSZKknjABlCRJkqSeMAGUJEmSpJ4wAZQkSZKknjABlCRJkqSeMAGUJEmSpJ4wAZQkSZKknjABlCRJkqSemFACmOTOJDcluTHJhhabk2Rdktvb8+yB7U9LsjHJbUmOGYgf0erZmOTsJGnxPZNc2uLXJVkwUGZ5e4/bkyzfbXsuSZIkST0zmSuAr6iqw6tqUXt9KrC+qhYC69trkhwCLAMOBY4FzkmyRytzLrASWNgex7b4CmBrVR0MnAWc2eqaA6wCjgQWA6sGE01JkiRJ0sTtyhDQ44A1bXkNcPxA/JKqeqSq7gA2AouTHADsXVXXVlUBF40qM1LXZcCSdnXwGGBdVW2pqq3AOrYnjZIkSZKkSZhoAljAh5J8PMnKFtu/qu4FaM/7tfg84O6BsptabF5bHh3foUxVbQMeBPYdp64dJFmZZEOSDZs3b57gLkmSJElSv8ya4HYvq6p7kuwHrEvy2XG2zZBYjROfapntgarzgPMAFi1a9Jj1kiRJkqQJXgGsqnva8/3Ae+nux7uvDeukPd/fNt8EHDhQfD5wT4vPHxLfoUySWcA+wJZx6pIkSZIkTdJOE8Akz07y3JFlYCnwGeAKYGRWzuXA5W35CmBZm9nzILrJXq5vw0QfSnJUu7/vpFFlRuo6Abi63Sd4FbA0yew2+cvSFpMkSZIkTdJEhoDuD7y3fWPDLOAfquqDSW4A1iZZAdwFnAhQVTcnWQvcAmwDTqmqR1tdJwMXAnsBV7YHwPnAxUk20l35W9bq2pLkDOCGtt3pVbVlF/ZXkiRJknprpwlgVX0eePGQ+APAkjHKrAZWD4lvAA4bEn+YlkAOWXcBcMHO2ilJkiRJGt+ufA2EJEmSJGkGMQGUJEmSpJ4wAZQkSZKknjABlCRJkqSeMAGUJEmSpJ4wAZQkSZKknjABlCRJkqSeMAGUJGkXJLkzyU1JbkyyocXmJFmX5Pb2PHtg+9OSbExyW5JjBuJHtHo2Jjk7SVp8zySXtvh1SRYMlFne3uP2JMufwN2WJM1QJoCSJO26V1TV4VW1qL0+FVhfVQuB9e01SQ4BlgGHAscC5yTZo5U5F1gJLGyPY1t8BbC1qg4GzgLObHXNAVYBRwKLgVWDiaYkScOYAEqStPsdB6xpy2uA4wfil1TVI1V1B7ARWJzkAGDvqrq2qgq4aFSZkbouA5a0q4PHAOuqaktVbQXWsT1plCRpKBNASZJ2TQEfSvLxJCtbbP+quhegPe/X4vOAuwfKbmqxeW15dHyHMlW1DXgQ2HecunaQZGWSDUk2bN68eco7KUl6apg13Q2QJGmGe1lV3ZNkP2Bdks+Os22GxGqc+FTLbA9UnQecB7Bo0aLHrJck9YtXACVJ2gVVdU97vh94L939ePe1YZ205/vb5puAAweKzwfuafH5Q+I7lEkyC9gH2DJOXZIkjckEUJKkKUry7CTPHVkGlgKfAa4ARmblXA5c3pavAJa1mT0Popvs5fo2TPShJEe1+/tOGlVmpK4TgKvbfYJXAUuTzG6TvyxtMUmSxuQQUEmSpm5/4L3tGxtmAf9QVR9McgOwNskK4C7gRICqujnJWuAWYBtwSlU92uo6GbgQ2Au4sj0AzgcuTrKR7srfslbXliRnADe07U6vqi2P585KkmY+E0BJkqaoqj4PvHhI/AFgyRhlVgOrh8Q3AIcNiT9MSyCHrLsAuGByrZYk9ZlDQCVJkiSpJ0wAJUmSJKknTAAlSZIkqSdMACVJkiSpJ0wAJUmSJKknTAAlSZIkqSdMACVJkiSpJ0wAJUmSJKknTAAlSZIkqSdMACVJkiSpJ0wAJUmSJKknTAAlSZIkqSdMACVJkiSpJ0wAJUmSJKknTAAlSZIkqSdMACVJkiSpJ0wAJUmSJKknTAAlSZIkqSdMACVJkiSpJ0wAJUmSJKknTAAlSZIkqSdMACVJkiSpJ0wAJUmSJKknTAAlSZIkqSdMACVJkiSpJ0wAJUmSJKknJpwAJtkjySeTvK+9npNkXZLb2/PsgW1PS7IxyW1JjhmIH5Hkprbu7CRp8T2TXNri1yVZMFBmeXuP25Ms3y17LUmSJEk9NJkrgL8O3Drw+lRgfVUtBNa31yQ5BFgGHAocC5yTZI9W5lxgJbCwPY5t8RXA1qo6GDgLOLPVNQdYBRwJLAZWDSaakiRJkqSJm1ACmGQ+8Crg7QPh44A1bXkNcPxA/JKqeqSq7gA2AouTHADsXVXXVlUBF40qM1LXZcCSdnXwGGBdVW2pqq3AOrYnjZIkSZKkSZjoFcC3Ab8DfGcgtn9V3QvQnvdr8XnA3QPbbWqxeW15dHyHMlW1DXgQ2HecunaQZGWSDUk2bN68eYK7JEmSJEn9stMEMMmrgfur6uMTrDNDYjVOfKpltgeqzquqRVW1aO7cuRNspiRJkiT1y0SuAL4MeE2SO4FLgB9P8vfAfW1YJ+35/rb9JuDAgfLzgXtafP6Q+A5lkswC9gG2jFOXJEmSJGmSdpoAVtVpVTW/qhbQTe5ydVW9AbgCGJmVczlweVu+AljWZvY8iG6yl+vbMNGHkhzV7u87aVSZkbpOaO9RwFXA0iSz2+QvS1tMkiRJkjRJs3ah7FuBtUlWAHcBJwJU1c1J1gK3ANuAU6rq0VbmZOBCYC/gyvYAOB+4OMlGuit/y1pdW5KcAdzQtju9qrbsQpslSZIkqbcmlQBW1TXANW35AWDJGNutBlYPiW8ADhsSf5iWQA5ZdwFwwWTaKUmSJEl6rMl8D6AkSZIkaQYzAZQkSZKknjABlCRJkqSe2JVJYCRJkiQ9jpadd+10N6G3Lll59HQ34XHhFUBJknZBkj2SfDLJ+9rrOUnWJbm9Pc8e2Pa0JBuT3JbkmIH4EUluauvObl+XRPtKpUtb/LokCwbKLG/vcXuS5UiSNAEmgJIk7ZpfB24deH0qsL6qFgLr22uSHEL3NUeHAscC5yTZo5U5F1hJ9925C9t6gBXA1qo6GDgLOLPVNQdYBRwJLAZWDSaakiSNxQRQkqQpSjIfeBXw9oHwccCatrwGOH4gfklVPVJVdwAbgcVJDgD2rqprq6qAi0aVGanrMmBJuzp4DLCuqrZU1VZgHduTRkmSxmQCKEnS1L0N+B3gOwOx/avqXoD2vF+LzwPuHthuU4vNa8uj4zuUqaptwIPAvuPU9RhJVibZkGTD5s2bJ7l7kqSnGhNASZKmIMmrgfur6uMTLTIkVuPEp1pmx2DVeVW1qKoWzZ07d0INlSQ9dZkASpI0NS8DXpPkTuAS4MeT/D1wXxvWSXu+v22/CThwoPx84J4Wnz8kvkOZJLOAfYAt49QlSdK4TAAlSZqCqjqtquZX1QK6yV2urqo3AFcAI7NyLgcub8tXAMvazJ4H0U32cn0bJvpQkqPa/X0njSozUtcJ7T0KuApYmmR2m/xlaYtJkjQuvwdQkqTd663A2iQrgLuAEwGq6uYka4FbgG3AKVX1aCtzMnAhsBdwZXsAnA9cnGQj3ZW/Za2uLUnOAG5o251eVVse7x2TJM18JoCSJO2iqroGuKYtPwAsGWO71cDqIfENwGFD4g/TEsgh6y4ALphqmyVJ/eQQUEmSJEnqCRNASZIkSeoJE0BJkiRJ6gkTQEmSJEnqCRNASZIkSeoJE0BJkiRJ6gkTQEmSJEnqCRNASZIkSeoJE0BJkiRJ6gkTQEmSJEnqCRNASZIkSeoJE0BJkiRJ6gkTQEmSJEnqCRNASZIkSeoJE0BJkiRJ6gkTQEmSJEnqCRNASZIkSeoJE0BJkiRJ6gkTQEmSJEnqCRNASZIkSeoJE0BJkiRJ6gkTQEmSJEnqCRNASZIkSeoJE0BJkiRJ6gkTQEmSJEnqCRNASZIkSeoJE0BJkiRJ6gkTQEmSJEnqCRNASZIkSeqJnSaASZ6Z5Pokn0pyc5I/bPE5SdYlub09zx4oc1qSjUluS3LMQPyIJDe1dWcnSYvvmeTSFr8uyYKBMsvbe9yeZPlu3XtJkiRJ6pGJXAF8BPjxqnoxcDhwbJKjgFOB9VW1EFjfXpPkEGAZcChwLHBOkj1aXecCK4GF7XFsi68AtlbVwcBZwJmtrjnAKuBIYDGwajDRlCRJkiRN3E4TwOp8rb18ensUcBywpsXXAMe35eOAS6rqkaq6A9gILE5yALB3VV1bVQVcNKrMSF2XAUva1cFjgHVVtaWqtgLr2J40SpIkSZImYUL3ACbZI8mNwP10Cdl1wP5VdS9Ae96vbT4PuHug+KYWm9eWR8d3KFNV24AHgX3HqWt0+1Ym2ZBkw+bNmyeyS5IkSZLUOxNKAKvq0ao6HJhPdzXvsHE2z7AqxolPtcxg+86rqkVVtWju3LnjNE2SJEmS+mtSs4BW1VeAa+iGYd7XhnXSnu9vm20CDhwoNh+4p8XnD4nvUCbJLGAfYMs4dUmSJEmSJmkis4DOTfK8trwX8BPAZ4ErgJFZOZcDl7flK4BlbWbPg+gme7m+DRN9KMlR7f6+k0aVGanrBODqdp/gVcDSJLPb5C9LW0ySJEmSNEmzJrDNAcCaNpPn04C1VfW+JNcCa5OsAO4CTgSoqpuTrAVuAbYBp1TVo62uk4ELgb2AK9sD4Hzg4iQb6a78LWt1bUlyBnBD2+70qtqyKzssSZIkSX210wSwqj4NvGRI/AFgyRhlVgOrh8Q3AI+5f7CqHqYlkEPWXQBcsLN2SpIkSZLGN6l7ACVJkiRJM5cJoCRJU5DkmUmuT/KpJDcn+cMWn5NkXZLb2/PsgTKnJdmY5LYkxwzEj0hyU1t3drtXnnY//aUtfl2SBQNllrf3uD3JciRJmgATQEmSpuYR4Mer6sXA4cCxSY4CTgXWV9VCYH17TZJD6O5xP5RuNu1z2v31AOcCK+kmTlvY1gOsALZW1cHAWcCZra45wCrgSGAxsGow0ZQkaSwmgJIkTUF1vtZePr09CjgOWNPia4Dj2/JxwCVV9UhV3QFspPtu3QOAvavq2jYD9kWjyozUdRmwpF0dPAZYV1VbqmorsI7tSaMkSWMyAZQkaYqS7JHkRrrvwl1XVdcB+7evPqI979c2nwfcPVB8U4vNa8uj4zuUqaptwIPAvuPUNayNK5NsSLJh8+bNU9xTSdJThQmgJElTVFWPVtXhwHy6q3mPmel6QIZVMU58qmVGt/G8qlpUVYvmzp07TvMkSX1gAihJ0i6qqq8A19ANw7yvDeukPd/fNtsEHDhQbD5wT4vPHxLfoUySWcA+dN+XO1ZdkiSNywRQkqQpSDI3yfPa8l7ATwCfBa4ARmblXA5c3pavAJa1mT0Popvs5fo2TPShJEe1+/tOGlVmpK4TgKvbfYJXAUuTzG6TvyxtMUmSxrXTL4KXJElDHQCsaTN5Pg1YW1XvS3ItsDbJCuAu4ESAqro5yVrgFmAbcEpVPdrqOhm4ENgLuLI9AM4HLk6yke7K37JW15YkZwA3tO1Or6otj+veSpKeEkwANWMsO+/a6W7CLrlk5dHT3QRJu1FVfRp4yZD4A8CSMcqsBlYPiW8AHnP/YFU9TEsgh6y7ALhgcq2WJPWdQ0AlSZIkqSdMACVJkiSpJ0wAJUmSJKknTAAlSZIkqSdMACVJkiSpJ0wAJUmSJKknTAAlSZIkqSdMACVJkiSpJ0wAJUmSJKknTAAlSZIkqSdMACVJkiSpJ0wAJUmSJKknTAAlSZIkqSdMACVJkiSpJ0wAJUmSJKknTAAlSZIkqSdMACVJkiSpJ0wAJUmSJKknTAAlSZIkqSdMACVJkiSpJ0wAJUmSJKknTAAlSZIkqSdMACVJkiSpJ0wAJUmSJKknTAAlSZIkqSdMACVJkiSpJ0wAJUmSJKknTAAlSZIkqSdMACVJkiSpJ0wAJUmSJKknTAAlSZIkqSdMACVJkiSpJ3aaACY5MMm/Jrk1yc1Jfr3F5yRZl+T29jx7oMxpSTYmuS3JMQPxI5Lc1NadnSQtvmeSS1v8uiQLBsosb+9xe5Llu3XvJUmSJKlHJnIFcBvwW1X1g8BRwClJDgFOBdZX1UJgfXtNW7cMOBQ4FjgnyR6trnOBlcDC9ji2xVcAW6vqYOAs4MxW1xxgFXAksBhYNZhoSpIkSZImbqcJYFXdW1WfaMsPAbcC84DjgDVtszXA8W35OOCSqnqkqu4ANgKLkxwA7F1V11ZVAReNKjNS12XAknZ18BhgXVVtqaqtwDq2J42SJEmSpEmY1D2AbWjmS4DrgP2r6l7okkRgv7bZPODugWKbWmxeWx4d36FMVW0DHgT2Haeu0e1amWRDkg2bN2+ezC5JkiRJUm/MmuiGSZ4DvBv4jar6art9b+imQ2I1TnyqZbYHqs4DzgNYtGjRY9ZL2jXLzrt2upuwSy5ZefR0N0GSJOlJYUJXAJM8nS75e2dVvaeF72vDOmnP97f4JuDAgeLzgXtafP6Q+A5lkswC9gG2jFOXJEmSJGmSJjILaIDzgVur6s8HVl0BjMzKuRy4fCC+rM3seRDdZC/Xt2GiDyU5qtV50qgyI3WdAFzd7hO8CliaZHab/GVpi0mSNK2cJVuSNBNN5Argy4A3Aj+e5Mb2+CngrcArk9wOvLK9pqpuBtYCtwAfBE6pqkdbXScDb6ebGOZzwJUtfj6wb5KNwG/SZhStqi3AGcAN7XF6i0mSNN2cJVuSNOPs9B7Aqvoow+/FA1gyRpnVwOoh8Q3AYUPiDwMnjlHXBcAFO2unJElPpDayZWQytIeSDM6S/WNtszXANcDvMjBLNnBHO+m5OMmdtFmyAZKMzJJ9ZSvzllbXZcBfjZ4lu5UZmSX7XY/bDkuSnhImNQuoJEl6rCfrLNmSJI1mAihJ0i4YPUv2eJsOiT2us2S39vlVSZKk7zIBlCRpimbCLNlVdV5VLaqqRXPnzp3KbkqSnkJMACVJmgJnyZYkzUQT/iJ4SZK0g5FZsm9KcmOL/R+6WbHXJlkB3EWb5Kyqbk4yMkv2Nh47S/aFwF50k78MzpJ9cZswZgvdLKJU1ZYkI7Nkg7NkS5ImyARQkqQpcJZsSdJM5BBQSZIkSeoJE0BJkiRJ6gkTQEmSJEnqCRNASZIkSeoJE0BJkiRJ6gkTQEmSJEnqCRNASZIkSeoJE0BJkiRJ6gkTQEmSJEnqCRNASZIkSeoJE0BJkiRJ6gkTQEmSJEnqCRNASZIkSeoJE0BJkiRJ6gkTQEmSJEnqCRNASZIkSeoJE0BJkiRJ6gkTQEmSJEnqCRNASZIkSeoJE0BJkiRJ6gkTQEmSJEnqCRNASZIkSeoJE0BJkiRJ6gkTQEmSJEnqCRNASZIkSeoJE0BJkiRJ6gkTQEmSJEnqCRNASZIkSeoJE0BJkiRJ6gkTQEmSJEnqCRNASZIkSeoJE0BJkiRJ6gkTQEmSJEnqCRNASZIkSeoJE0BJkiRJ6gkTQEmSJEnqiZ0mgEkuSHJ/ks8MxOYkWZfk9vY8e2DdaUk2JrktyTED8SOS3NTWnZ0kLb5nkktb/LokCwbKLG/vcXuS5bttryVJkiSphyZyBfBC4NhRsVOB9VW1EFjfXpPkEGAZcGgrc06SPVqZc4GVwML2GKlzBbC1qg4GzgLObHXNAVYBRwKLgVWDiaYkSZIkaXJ2mgBW1YeBLaPCxwFr2vIa4PiB+CVV9UhV3QFsBBYnOQDYu6quraoCLhpVZqSuy4Al7ergMcC6qtpSVVuBdTw2EZUkSZIkTdBU7wHcv6ruBWjP+7X4PODuge02tdi8tjw6vkOZqtoGPAjsO05dj5FkZZINSTZs3rx5irskSdLkeJuEJGmm2d2TwGRIrMaJT7XMjsGq86pqUVUtmjt37oQaKknSbnAh3iYhSZpBppoA3teGddKe72/xTcCBA9vNB+5p8flD4juUSTIL2IduyOlYdUmS9KTgbRKSpJlmqgngFcDIcJPlwOUD8WVtyMpBdGcxr2/DRB9KclTruE4aVWakrhOAq1sHeBWwNMnsdlZzaYtJkvRk5m0SkqQnrVk72yDJu4AfA56fZBPdkJO3AmuTrADuAk4EqKqbk6wFbgG2AadU1aOtqpPphsrsBVzZHgDnAxcn2Uh3FnVZq2tLkjOAG9p2p1fV6LOskiTNFNN2mwRwHsCiRYuGbiNJ6o+dJoBV9boxVi0ZY/vVwOoh8Q3AYUPiD9MSyCHrLgAu2FkbJUl6ErkvyQFVde9uvE1i05DbJH5sVJlrdu9uSJKeinb3JDCSJPWdt0lIkp60dnoFUJIkDedtEpKkmcYEUJKkKfI2CUnSTOMQUEmSJEnqCRNASZIkSeoJE0BJkiRJ6gkTQEmSJEnqCRNASZIkSeoJE0BJkiRJ6gkTQEmSJEnqCRNASZIkSeoJE0BJkiRJ6gkTQEmSJEnqCRNASZIkSeoJE0BJkiRJ6gkTQEmSJEnqCRNASZIkSeoJE0BJkiRJ6gkTQEmSJEnqCRNASZIkSeoJE0BJkiRJ6gkTQEmSJEnqCRNASZIkSeoJE0BJkiRJ6gkTQEmSJEnqCRNASZIkSeoJE0BJkiRJ6gkTQEmSJEnqCRNASZIkSeoJE0BJkiRJ6gkTQEmSJEnqCRNASZIkSeoJE0BJkiRJ6gkTQEmSJEnqCRNASZIkSeoJE0BJkiRJ6olZ090ASdL4lp137XQ3YcouWXn0dDdBkiQN8AqgJEmSJPWECaAkSZIk9YQJoCRJkiT1hAmgJEmSJPWECaAkSZIk9cSMSACTHJvktiQbk5w63e2RJOnJwP5RkjRZT/oEMMkewF8DPwkcArwuySHT2ypJkqaX/aMkaSqe9AkgsBjYWFWfr6pvAZcAx01zmyRJmm72j5KkSUtVTXcbxpXkBODYqvql9vqNwJFV9SsD26wEVraXLwBue8Ibuvs8H/jydDeipzz208djP31m+rH//qqaO92NmA4T6R9b/KnUR85kM/13TZoKP/fTZ8z+cdYT3ZIpyJDYDllrVZ0HnPfENOfxlWRDVS2a7nb0kcd++njsp4/Hfkbbaf8IT60+cibzd0195Of+yWkmDAHdBBw48Ho+cM80tUWSpCcL+0dJ0qTNhATwBmBhkoOSPANYBlwxzW2SJGm62T9KkibtST8EtKq2JfkV4CpgD+CCqrp5mpv1eHKYzvTx2E8fj/308djPUD3sH2c6f9fUR37un4Se9JPASJIkSZJ2j5kwBFSSJEmStBuYAEqSJElST5gAjiHJ/kn+Icnnk3w8ybVJfqatW5Tk7DHKjblunPf63iSXDYk/LcnZST6T5KYkNyQ5qK37QJLnTWHXSPKLSf5qKmV3RZKvDSz/VJLbk3zfFOr5sSTvm2SZ05P8xGTfa0g9F7bv3iLJnCSfTPKmXa13F9pTSS4eeD0ryebJHp9W9oeS3NgeW5Lc0Zb/Zfe2evca/JkMxL421vZPBUl+L8nNST7dfkZHPo7vtSDJZ8ZYd2eS5z9e7y3tiiT7DvxN+1KSLw68roHlG5Oc2spck2TRQB0/07Z94UBsaN/c/ha9eVQbjk/ygbY89O/SWL/Po3+/Bvu+1o9vbtt/Nsn/SvLMtvxDA2V+J8nftOWXtH05ZnccX02/JI+2z8CnknwiyX8fY7vvfpaSHNH695eM2uYxf+uTvCXJbw+8npXky0n+ZNR21yS5rbXjhiSHj/HeI+39TJJ/TPKsIfF/zqj/b1u97xoVOyrJda3crUneMmr9X7Tf+acNxEZ+bz6Z7n/Qq8Y6Zk91T/pJYKZDkgD/BKypql9ose8HXgNQVRuADUPKzdrJum3D3q+q7gFOGLLqtcD3Ai+qqu8kmQ98vZX5qSns2pNCkiXAXwJLq+quJ+I9q+oPdmd9Sfahm3jhvKp6x+6se5z3HPYZ+jpwWJK9quqbwCuBL06l/qq6CTi8vdeFwPuq6jEnJqZbkj2q6tHpbsd0SXI08GrgpVX1SOtYn7GLdY7590maqarqAbb/TXsL8LWq+tP2+mtVdfgEqnkd8FG6GVbf0mJj9c3vAk4F/nag/LIWH2oXf58vrapfSbIvcBtwGfAbwDlJXt7a+GZgJKEd2ZfX0fVfmvm+OfI5bon9nwA/OtbGSV5E9zl5bVV9cgrvt5Tus/bzSf5P7TiRyOurakO6k+L/j+7/kfHa+07gl4E/HxVfA5wCrG6vf5DugtXLkzy7qr7e6loD/HxVfSrJHsALBvbzacDPAHcDLweuGWjDpVX1K227VwDvSfKKqrp1CsdjxvIK4HA/Dnyrqv5mJFBVX6iqv4THnIV7S5LzknwIuGgn6xYk+Ug7S/PdMzXDzro0BwD3VtV3Whs2VdXWVubOJM9vZW9N8nfpziB+KMlebZv/lu6M4rVJ/t+o9/jeJB9sZ0D+v919AMeS5EeAvwNeVVWfa7H/0c4YfSrJuwfOCF2Y7izrf6S7EjuYJD8nyWXpzna+syXtJPmDVtdn2rHPQF0nJFmS5L0D7Xllkve05XOTbGjH8Q/H2Y3nAFcC/1BV57ay3z1r3H4ud7blX0zyT+2M1h1JfiXJb7azTx9LMmcCx+DPk/wrcOYY7bkSeFVbfh0D/2yku0r5T+1z8LH2x39Sxjmm1yQ5M8n1Sf6z/WxJd3X6RW35k0n+oC2fkeSX2vL/bnV+evBYJ3lDq+/GJH/b/qiT5GvpruJeBxw9ibY/J8n69vt2U5LjWvzZSd7fjvdnkry2xd+a5JbWrpF/FH863VnGTyb5lyT7t/hbklzQjsPnk/zaZI/tFB0AfLmqHgGoqi9X1T07+TmN9dn8xyT/DHxorGPVzEqyph2Xy0Y+n82vDpR5IdJTRJLnAC8DVtAlciPG6pv/BXhhkgNa+WcBP0F3QnksQ3+fJ9POluhuBA6oqg8C9wInAWcBb6mqre3vwQnALwJLkzxzMu+hGWFvYOs463+Q7rP4xqq6forv8TrgL4C7gKPG2OZaYN4E6voIcPAEyv8CcDHwIdqFmGY/us86VfVoVd0ysO4VwGeAc1ubh6qqf6WbpXTlBNr7lGICONyhwCcmsf0RwHEjVwvHWXc/8MqqeindGcSdDRVdC/x0+2f4zzLqcv2AhcBfV9WhwFeAn2vxdwC/XFVHA6OvmBze2vBDwGuTHMjjb0/gcuD4qvrsQPw9VfXfqurFwK10ne2IA4AfpjtD+taB+EvoznQeAvwAXScN8FetrsOAvVq5QVcDP5hkbnv9JrrjBPB7VbUIeBHwo+MkS38OfLSqzprAPgMcRvcHbDHdGa1vVNVL6P7IndS2Ge8Y/FfgJ6rqt8ao/xJgWevQXwRcN7DuD4FPVtWLgP8DXDTBNg8a75jOqqrFdD+LVS32YeBHkuwNbGP7z+aHgY8kWUr3mV1M9zk8IsnL053ley3wsnYm8FHg9a3ss4HPVNWRVfXRIW38fxkYzjUQfxj4mfY79wrgz9o/QscC91TVi9t+fbAl4z8DHNqO1x+1Oj4KHNV+ZpcAvzNQ/wuBY9q+rEry9PEP5W7xIeDAlnSfk2TkbO/OPvvDHA0sr6ofZ+xjBd2Z1fPacfkq8D8H6vhyK3Mu8NtIM8Ne2XEI6GuHbHM88MGq+k9gS5KXtvjQvrmNTHgP8PNtu9cA/1pVD43TjrF+nycs3a0UzwQ+3UK/QdfXzK2qkVsEXgbc0U68XgPM2FFE2sHI5/izwNuBM8bZ9nLgV8boQ0f8l1F96S+PrEh3cWEJ8D66E81jJVbHMv5JD5LMAn4SuGlUfI/2HoPfZ/pa4NIh73kWcFuS9yZ586iTGiMnw98LvHonffMn6PryXjEBnIAkf92uFNwwxiZXtOF3O1v3dODvktwE/CNd8jKmqtpE94/XacB3gPXphk+OdkdV3diWPw4sSDd++rlV9R8t/g+jyqyvqger6mHgFuD7x2vLbvJt4D/YMbmBbgjjR9pxeT1dAj7in6rqO+3Mzv4D8evbWdfvADcCC1r8Fe1qzU10V3IH66INV7gYeEM7RkfTXUGDbkjDJ4BPtnJj/XyuBo5Lst/Edrv7B6CqNgMPAv/c4jcNtHu8Y/CP4w15rKpPt3peB3xg1OofpttfqupqYN90w1cnY7xj+p72/PGBffkI3ZCLHwbeT3e19lnAgqq6jW4IyVK64zzyh3ch3R/9I4AbWsezhC65hy4ZfPc4bfzfVXX4yGMgHuCPk3ya7uz8PLrP0U3AT6S7gvkjVfUgXWLzMPD2JD8LfKPVMR+4qu3//x61/++vqkeq6st0J3gGP6OPi6r6Gt1xWglsBi5N8ovs5LM/hnVVtaUtj3WsAO6uqn9vy39P97MdMewzID3ZfXPwb0ZVXTpkm9fRnfShPb8Odto3v4vtVwvHHf7Z6hrr9xlg2Pd0DcZem+Rm4PPAX7T+fOS2kqvpTsqMuy+a8UY+xy+kS7wuGjhxN9q/AL/UkqyxfG5UX/o3A+teTff/zDfo+uOfGVXXO5NsAn6X7jafYfZq/fsGuquI54+KPwDMAdZBN5IN2FxVXwDWAy9NMhugqk6nG978IbqT7B9sZZ5Bd4Ljn6rqq3QnxZeOs89jHa+nNO8BHO5mtl9Fo6pOSTcu/zH39jVfHyM+et3/Au4DXkyXfD+8s4a0YSFXAlcmuY/ujOT6UZs9MrD8KN3Z/519oEeXeSI+C9+hOzP6L+nGjv9xi19Id1XwU63j+7Ex2pkx4o/SDVF7JnAOsKiq7k53z8ewYS7voEvCHqZLrralm1znt4H/1obLXDhGWeg6z48CH0g3bvwhuitdIydURpcbbOt3Bl5/h+3H/ULGPgbjfb5GXAH8aSu370B82Odgwl/+OYFjOrIvg5+hG+j+KH+e7o/484H/QZcgjLTpT6pq8D4Zkvwq3X23pw1pysPjJcHjeD0wFziiqr6dbvjjM6vqP5McQddJ/EmSD1XV6UkW0yWey4BfoUuk/hL486q6IsmPsf0+oMH9hyfu92jkSsM1wDUt4Xsz3dXfYT+n8T6bg5+tocdq5C1HN2FgedhnQJrR0t1X9+N0J+cK2AOoJL9TnbH65n8HDkjyYuC/s+PQ0aGG/D4vp+sTHgBmA19um84ZWIbt9wAeDbw/yZVV9aW27jvtMXJV5eeA1yT5Pbq/wfsmee5Ork5qBqmqa9v/qnPpTkiO9it0Cd05dH3GZL0OeFnrG6D7X+MVdIkldH3Ip+hGa/018LND6vjuvX7D4u0E9fvo7gE8u73nCwfec2+6z/LbAdoV7XOT/B2wuf3evgzYB7ip5cLPojuh+/4x9usldCOvesUrgMNdDTwzyckDsWeNtfEk7MP2+wbeSNehjCnJS5N8b1t+Gt0/eF+YyBtVdz/CQ0lGxmjvtBN6IrQzR68GXp9k5Ergc4F72yX6149ZeOdG/ln9crp7N4ZNrDNydvQe4PfpOlno/qh8HXgw3T1eP7mT/XgbXWf/3na26U66s7iM9b47savH4ALg9Oomchn04ZH6WvLy5XZGbKImdEwHVdW36G68/nngY3RXBH+7PUM3+cD/r9VHknntaup64ISRK6vp7l/c1SvT+wD3t4TmFbQr3e336htV9fd0ifNLW3v2qaoP0A2hOnygjpGJdZbvYnt2WZIXJFk4EDqc7qZ8GP5zupOJfTaHHqvm+9o/mbB9IgnpqewE4KKq+v6qWlBVBwJ3AD88Xt/cRpmspZug4gMjV+XGMsbv80g/fw3d/wojSdwbgH8dXUdVXUs30uPXx3ibnwA+VVUHtn35frorOMePewQ0o6S7B3sPuhMHw3yH7u/3C5KcPsm696Yb+fF97TO0gC5J2+FKclV9m+5/q6PS3dYxKW00zq8Bv51kT+BEusmWRt7zuJH3TPKqgaudC+lOQn6lrf+lgTIH0d33+pj/49MNuV5JNzdFr3i2doiqqiTHA2cl+R26YRlfp7usvSvOAd6d5ES6P+KDZ9+HXZXZj27I6J7t9fXAZL6+YUUr/3W6juTBSbf4cVBVW5IcC3w4yZeB/0t3if4LdEPznjvFer/SzgLdRPdP71hDdgHeSXd/xC2t7KeSfJLu6u/n6c7i7uz9fjfJO+g63j8ELknyRroTCJO1S8egDUn6iyGr3gK8ow3r+wYtgUnyGrqrRePOjjrJYzroI8CSqvpGko/QDaP8SKvzQ61juLb97f4a8IaquiXJ79NNSPI0uiHDpzDBkx5jeCfwz0k20A0VHrn39Ifo7hv8Tnufk+mO+eXtqmforthDdwz/MckX6RLag3ahPbvDc4C/TDeEeRvd5A8r6Tq+YT+nPwXWTuCzOdaxgu7s6PIkfwvczo5Dy6SZaGTI2YgPVtWpdP8XPUL3T+RbR5V5N91Qs8sZv29+F91w8VMn0I6xfp+hu5/r3CSfovub9EG6IdjDnAl8IskfD7mq9zq6e6FG78vJtFsENGMNfo5Dd0/3owBJbhx9ta26mWaPA/6tXbm+jm6uiF/ayfv8LHB1u/I94nLg/xv4PRh5j28m+TO6E7+jb/nZqar6ZPvM/zzwxaoanNn8w8Ah6SZaeiPd/+nfoPvdeT3dXBPHMHCFs6q+nuSjwE+30GuT/DDdhZ07gJ+rns0ACpCqCY8G0+OkDUX786qa9M3fO6n3Oe3+AtJ9x9EBVTXWGcJeSfc9iJ+sqvN3urEk6Smv/SO7ETisXYmQpKckh4BOs3TTs7+L4VdvdtWr0r5YE/gRts9q2GtJPk43ZGesM6mSpB5pffGNwDkmf5Ke6rwCKEmSJEk94RVASZIkSeoJE0BJkiRJ6gkTQEmSJEnqCRNA6UkmSbUplEde/3b7Yu/BbT6V5F2jYhcm+UaS5w7E/qLV9/z2+tE2MdDIYyLTlEuS9KRgHyntOhNA6cnnEeBnRzqk0dp36D0NeHmSZ49avZHui1JHvqD4FWz/EnOAb1bV4QOP0d9zJUnSk5l9pLSLTAClJ59twHls/yLy0X6B7st7PwS8ZtS6dwGvbcs/RveF9tt2fxMlSZoW9pHSLjIBlJ6c/hp4fZJ9hqx7LXApXUf2ulHrbgfmJpnd1l0yav1eo4a3vBZJkmYW+0hpF8ya7gZIeqyq+mqSi4BfA745Ek/y34DNVfWFJJuAC5LMrqqtA8XfAywDjgTePKrqb1bV4Y9v6yVJevzYR0q7xiuA0pPX24AVwOA9DK8DXpjkTuBzwN7Az40qdwlwBrCuqr7z+DdTkqQn3Nuwj5SmxARQepKqqi3AWroObuSG9ROBF1XVgqpaQHcz++tGlbsL+D3gnCe0wZIkPUHsI6WpMwGUntz+DBiZ6ezlwBeranDGsg8DhyQ5YLBQVf1tVX1uSH2j729whjNJ0kxlHylNQapqutsgSZIkSXoCeAVQkiRJknrCBFCSJEmSesIEUJIkSZJ6wgRQkiRJknrCBFCSJEmSesIEUJIkSZJ6wgRQkiRJknrCBFCSJEmSesIEUJIkSZJ6wgRQkiRJknrCBFCSJEmSesIEUJIkSZJ6wgRQkiRJknrCBFCSJEmSesIEUJIkSZJ6wgRQkiRJknrCBFCSJEmSesIEUJIkSZJ6wgRQkiRJknrCBFCSJEmSesIEUJIkSZJ6wgRQkiRJknrCBFCSJEmSesIEUJIkSZJ6wgRQkiRJknrCBFCSJEmSesIEUJIkSZJ6wgRQkiRJknrCBFAaQ5ILk/zRdLdjVyW5JskvTXc7nihJ7kzyE9PdDknqK/tPSPJjSTbt7jY9Wd9XM4sJoGak9k/+N5N8LcnWJO9PcuAEyy5IUklmDcR+MclHH78WP/kkOaAdh/0HYr83RuyD09NKSdLuZP+5eyR5S5Jvt+P4tSS3Jvm56W6XNBEmgJrJfrqqngMcANwH/OU0t2dCBjvO6VRV9wIbgZcPhF8OfHZI7MNPYNMkSY8v+8/d49Kqek47lr8B/P3gCVTpycoEUDNeVT0MXAYcMhJL8qokn0zy1SR3J3nLQJGRZOYr7azd0cDfAEe3118Z9j5JXp3kxiRfSfIfSV40sO6l7f0eSvKPSS4dGf4yMhwjye8m+RLwjiR7Jnlbknva421J9mzbP+ZsajvjenBbvjDJX7eztg8luS7JfxnY9pVJPpvkwSR/BWScw/dhWrKXZA/gJcBfjIodDXw4yX9JcnWSB5J8Ock7kzyvbfe/k7x7VJv/Msnb2vKb2tnRh5J8PsmbB7YbOT6/leT+JPcmedPA+vF+liR5Y5IvtHb93jj7KkkaYP+5S/3n6GN5FfAQ8F8G4+P0bfskuSjJ5taH/X6Spw3sx7+3fvTB1qYlA2XH7FOliTAB1IyX5FnAa4GPDYS/DpwEPA94FXBykuPbupGrW89rZ+6uBX4ZuLa9ft6Q93gpcAHwZmBf4G+BK1pH9AzgvcCFwBzgXcDPjKrie9q67wdWAr8HHAUcDrwYWAz8/iR2+3XAHwKz6a7irW7tfD7w7lbX84HPAS8bp57vJoB0yd9ngfWjYk8HrqfrCP8E+F7gB4EDgbe07f4eOHYgIZxF9zO5uK2/H3g1sDfwJuCsdkxHfA+wDzAPWAH8dZLZbd2YP8skhwDnAm9s7doXmD/O/kqSGvvPXeo/B/cxSV4FPAO4ZVTbx+rb/rKt+wHgR+mO+ZsGyh4JfL61ZRXwniRz2rqd9anSuEwANZP9Uzvb+FXglcD/G1lRVddU1U1V9Z2q+jRdp/Kju/Be/wP426q6rqoerao1wCN0ndBRwCzg7Kr6dlW9hy5hGvQdYFVVPVJV3wReD5xeVfdX1Wa6zuiNk2jPe6rq+qraBryTriME+Cnglqq6rKq+DbwN+NI49fwbcFjrkH4E+EhV3Q48fyD2sar6VlVtrKp1bR82A39OO6ZtOOmHgRNbvccCX66qj7f176+qz1Xn34APtbpHfLsdj29X1QeArwEvaGXH+1meALyvqj5cVY8A/5fuWEuSxmb/uev9J8DPt+P4deAK4I+r6isD64f2belG17wWOK2qHqqqO4E/G7Uf9wNva2UvBW6jS8gn0qdK4zIB1Ex2fDvbuCfwK8C/JfkegCRHJvnXNrTiQbozlM/fhff6fuC32vCVr7Q/+AfSXXX6XuCLVVUD2989qvzmNtRmxPcCXxh4/YUWm6jBTukbwHMG6v3ue7c2jW4LA+vvBDYBP0x3ZvcjbdW1A7EPAyTZL8klSb6Y5Kt0V/0Gj+ka4A1t+Q1sv/pHkp9M8rEkW9qx+6lRZR9onfFj9mknP8vR+/t14IGx9leSBNh/jphy/9msrarnVdWz6IZ+njRqOOZYfdvz6a4Wjt6PeQOvRx+X7+7nBPpUaVwmgJrx2hnF9wCP0iUtAP9AdzbuwKrah+4ehZGx/PXYWobGBt0NrG5/6Ecez6qqdwH3AvOSDN4rMHpGtdH130PXKY74vhaD7kzis0ZWjHTKE3Tv4Hu3Nu1sdreP0CV6RwP/MSr2w2y/5+NP6PbjRVW1N12SN7jP/wS8KMlhdENT3tnasCfdsJo/BfZv/3R8gInfWzHez3L0/j6LboiRJGkn7D93MJX+c3sjuxOqVwI/PYHNv0x3dXD0fnxx4PXo4/J9wD27oU+VTAA187Wx98fRjee/tYWfC2ypqoeTLAZ+YaDIZrohJT8wELsPmN/uRxjm74BfbmdGk+TZ6W6Ufy7d1bJHgV9JMqu1ZfFOmv0u4PeTzG33HfwB3RU1gE8BhyY5PMkz2X6f3US8v5X92XYf3q/R3YMwng/T3XtwT1V9tcU+2mL7tP2D7ph+je7m/3nA/x6sZGAygX8Arq+qu9qqZ9CdZd4MbEvyk8DSSezTeD/Ly4BXJ/nh9rM7Hf+uSdKE2H/uYCr953clmU93+8PNO9u2qh4F1gKrkzw3yfcDvzmwHwD7Ab+W5OlJTqS79/4D7HqfKvmPkma0f07yNbp7GFYDy6tq5A/v/wROT/IQXeewdqRQVX2jbf/vbTjKUcDVdH+0v5Tky6PfqKo20N3H8FfAVrobx3+xrfsW8LN0N3h/he7K2Pvo7nEYyx8BG4BPAzcBn2gxquo/6RKZfwFup0vGJqSqvkx3H95b6YZCLgT+fSfF/o2uoxl8nxuBvYCPt+MF3X0WLwUepOso3zOkrjXADzEw/LOqHqLrSNfSHbtfoDu7PFHj/SxvBk6hSzrvbfX7BbiSND77z8e2cyr952vTvgcQuKFt/4cTfMtfpbti+fnWzn+gmyxnxHWtDV+mO+YnVNUDu6FPlciOw4sl7Q5JrgP+pqreMd1teSIl+T66mUS/Z+BqoiRJE9LX/nNQkl8Efqmqfnhn20pT4RVAaTdI8qNJvqcNYVkOvAj44HS364mU7vuLfhO4xORPkjQR9p/SE2/WdDdAeop4Ad1wjOfQfXfQCe2rEXohybPp7gP5At09EJIkTUSv+09pOjgEVJIkSZJ6wiGgkiRJktQTT7khoM9//vNrwYIF090MSdIT4OMf//iXq2rudLdjprCPlKR+GK9/fMolgAsWLGDDhg3T3QxJ0hMgyRemuw0ziX2kJPXDeP2jQ0AlSZIkqSdMACVJkiSpJ0wAJUmSJKknTAAlSZIkqSdMACVJkiSpJ0wAJUmSJKknTAAlSZIkqSdMACVJkiSpJ0wAJUmSJKknTAAlSZIkqSdMACVJkiSpJ0wAJUmSJKknTAAlSZIkqSdMACVJkiSpJ0wAJUmSJKknTAAlSZIkqSdm7WyDJC8ALh0I/QDwB8BFLb4AuBP4+ara2sqcBqwAHgV+raquavEjgAuBvYAPAL9eVZVkz1bfEcADwGur6s5WZjnw++29/6iq1kx5b2eAZeddO91N6K1LVh493U2QJI3DPnL62EdKTx07vQJYVbdV1eFVdThdgvYN4L3AqcD6qloIrG+vSXIIsAw4FDgWOCfJHq26c4GVwML2OLbFVwBbq+pg4CzgzFbXHGAVcCSwGFiVZPYu7rMkSZIk9dJkh4AuAT5XVV8AjgNGrsatAY5vy8cBl1TVI1V1B7ARWJzkAGDvqrq2qoruit9gmZG6LgOWJAlwDLCuqra0q4vr2J40SpIkSZImYbIJ4DLgXW15/6q6F6A979fi84C7B8psarF5bXl0fIcyVbUNeBDYd5y6dpBkZZINSTZs3rx5krskSZIkSf0w4QQwyTOA1wD/uLNNh8RqnPhUy2wPVJ1XVYuqatHcuXN30jxJkiRJ6qfJXAH8SeATVXVfe31fG9ZJe76/xTcBBw6Umw/c0+Lzh8R3KJNkFrAPsGWcuiRJkiRJkzSZBPB1bB/+CXAFsLwtLwcuH4gvS7JnkoPoJnu5vg0TfSjJUe3+vpNGlRmp6wTg6naf4FXA0iSz2+QvS1tMkiRJkjRJO/0aCIAkzwJeCbx5IPxWYG2SFcBdwIkAVXVzkrXALcA24JSqerSVOZntXwNxZXsAnA9cnGQj3ZW/Za2uLUnOAG5o251eVVumsJ+SJEmS1HsTSgCr6ht0k7IMxh6gmxV02PargdVD4huAw4bEH6YlkEPWXQBcMJF2SpIkSZLGNtlZQCVJkiRJM5QJoCRJkiT1hAmgJEmSJPWECaAkSZIk9YQJoCRJkiT1hAmgJEmSJPWECaAkSZIk9YQJoCRJkiT1hAmgJEmSJPWECaAkSZIk9YQJoCRJkiT1hAmgJEmSJPWECaAkSZIk9YQJoCRJkiT1hAmgJEmSJPWECaAkSVOU5H8luTnJZ5K8K8kzk8xJsi7J7e159sD2pyXZmOS2JMcMxI9IclNbd3aStPieSS5t8euSLBgos7y9x+1Jlj+hOy5JmrFMACVJmoIk84BfAxZV1WHAHsAy4FRgfVUtBNa31yQ5pK0/FDgWOCfJHq26c4GVwML2OLbFVwBbq+pg4CzgzFbXHGAVcCSwGFg1mGhKkjQWE0BJkqZuFrBXklnAs4B7gOOANW39GuD4tnwccElVPVJVdwAbgcVJDgD2rqprq6qAi0aVGanrMmBJuzp4DLCuqrZU1VZgHduTRkmSxmQCKEnSFFTVF4E/Be4C7gUerKoPAftX1b1tm3uB/VqRecDdA1VsarF5bXl0fIcyVbUNeBDYd5y6HiPJyiQbkmzYvHnz1HZWkvSUYQIoSdIUtCGXxwEHAd8LPDvJG8YrMiRW48SnWmbHYNV5VbWoqhbNnTt3nOZJkvrABFCSpKn5CeCOqtpcVd8G3gP8d+C+NqyT9nx/234TcOBA+fl0Q0Y3teXR8R3KtGGm+wBbxqlLkqRxmQBKkjQ1dwFHJXlWuy9vCXArcAUwMivncuDytnwFsKzN7HkQ3WQv17dhog8lOarVc9KoMiN1nQBc3e4TvApYmmR2uxK5tMUkSRrXrOlugCRJM1FVXZfkMuATwDbgk8B5wHOAtUlW0CWJJ7btb06yFrilbX9KVT3aqjsZuBDYC7iyPQDOBy5OspHuyt+yVteWJGcAN7TtTq+qLY/j7kqSniJMACVJmqKqWkX3dQyDHqG7Gjhs+9XA6iHxDcBhQ+IP0xLIIesuAC6YZJMlST3nEFBJkiRJ6gkTQEmSJEnqCRNASZIkSeoJE0BJkiRJ6gkTQEmSJEnqCRNASZIkSeoJE0BJkiRJ6gkTQEmSJEnqCRNASZIkSeoJE0BJkiRJ6gkTQEmSJEnqCRNASZIkSeoJE0BJkiRJ6gkTQEmSJEnqCRNASZIkSeoJE0BJkiRJ6gkTQEmSJEnqiQklgEmel+SyJJ9NcmuSo5PMSbIuye3tefbA9qcl2ZjktiTHDMSPSHJTW3d2krT4nkkubfHrkiwYKLO8vcftSZbvxn2XJEmSpF6Z6BXAvwA+WFUvBF4M3AqcCqyvqoXA+vaaJIcAy4BDgWOBc5Ls0eo5F1gJLGyPY1t8BbC1qg4GzgLObHXNAVYBRwKLgVWDiaYkSZIkaeJ2mgAm2Rt4OXA+QFV9q6q+AhwHrGmbrQGOb8vHAZdU1SNVdQewEVic5ABg76q6tqoKuGhUmZG6LgOWtKuDxwDrqmpLVW0F1rE9aZQkSZIkTcJErgD+ALAZeEeSTyZ5e5JnA/tX1b0A7Xm/tv084O6B8ptabF5bHh3foUxVbQMeBPYdp64dJFmZZEOSDZs3b57ALkmSJElS/0wkAZwFvBQ4t6peAnydNtxzDBkSq3HiUy2zPVB1XlUtqqpFc+fOHadpkiRJktRfE0kANwGbquq69voyuoTwvjask/Z8/8D2Bw6Unw/c0+Lzh8R3KJNkFrAPsGWcuiRJkiRJk7TTBLCqvgTcneQFLbQEuAW4AhiZlXM5cHlbvgJY1mb2PIhuspfr2zDRh5Ic1e7vO2lUmZG6TgCubvcJXgUsTTK7Tf6ytMUkSZIkSZM0a4Lb/SrwziTPAD4PvIkueVybZAVwF3AiQFXdnGQtXZK4DTilqh5t9ZwMXAjsBVzZHtBNMHNxko10V/6Wtbq2JDkDuKFtd3pVbZnivkqSJElSr00oAayqG4FFQ1YtGWP71cDqIfENwGFD4g/TEsgh6y4ALphIOyVJkiRJY5vo9wBKkiRJkmY4E0BJkiRJ6gkTQEmSJEnqCRNASZIkSeoJE0BJkiRJ6gkTQEmSJEnqCRNASZIkSeoJE0BJkiRJ6gkTQEmSJEnqCRNASZIkSeoJE0BJkiRJ6gkTQEmSJEnqCRNASZIkSeoJE0BJkiRJ6gkTQEmSJEnqCRNASZIkSeoJE0BJkiRJ6gkTQEmSJEnqCRNASZIkSeoJE0BJkiRJ6gkTQEmSJEnqCRNASZIkSeoJE0BJkiRJ6gkTQEmSJEnqCRNASZIkSeoJE0BJkiRJ6gkTQEmSJEnqCRNASZIkSeoJE0BJkiRJ6gkTQEmSJEnqCRNASZIkSeoJE0BJkiRJ6gkTQEmSJEnqCRNASZIkSeoJE0BJkiRJ6gkTQEmSJEnqCRNASZIkSeoJE0BJkiRJ6gkTQEmSJEnqCRNASZIkSeoJE0BJkiRJ6okJJYBJ7kxyU5Ibk2xosTlJ1iW5vT3PHtj+tCQbk9yW5JiB+BGtno1Jzk6SFt8zyaUtfl2SBQNllrf3uD3J8t2255IkSZLUM5O5AviKqjq8qha116cC66tqIbC+vSbJIcAy4FDgWOCcJHu0MucCK4GF7XFsi68AtlbVwcBZwJmtrjnAKuBIYDGwajDRlCRJkiRN3K4MAT0OWNOW1wDHD8QvqapHquoOYCOwOMkBwN5VdW1VFXDRqDIjdV0GLGlXB48B1lXVlqraCqxje9IoSZIkSZqEiSaABXwoyceTrGyx/avqXoD2vF+LzwPuHii7qcXmteXR8R3KVNU24EFg33Hq2kGSlUk2JNmwefPmCe6SJEmSJPXLrAlu97KquifJfsC6JJ8dZ9sMidU48amW2R6oOg84D2DRokWPWS9JkiRJmuAVwKq6pz3fD7yX7n68+9qwTtrz/W3zTcCBA8XnA/e0+Pwh8R3KJJkF7ANsGacuSZKmXZLnJbksyWeT3JrkaCdJkyQ9me00AUzy7CTPHVkGlgKfAa4ARjqc5cDlbfkKYFnrtA6im+zl+jZM9KEkR7WO7aRRZUbqOgG4ut0neBWwNMns1oEubTFJkp4M/gL4YFW9EHgxcCtOkiZJehKbyBXA/YGPJvkUcD3w/qr6IPBW4JVJbgde2V5TVTcDa4FbgA8Cp1TVo62uk4G3000M8zngyhY/H9g3yUbgN2mdZVVtAc4AbmiP01tMkqRplWRv4OV0fRhV9a2q+gpOkiZJehLb6T2AVfV5urOao+MPAEvGKLMaWD0kvgE4bEj8YeDEMeq6ALhgZ+2UJOkJ9gPAZuAdSV4MfBz4dUZNktbun4duErOPDZQfmdjs20xwkrQkk5okDbqJ0uiuLvJ93/d9U9pRSdJTx658DYQkSX02C3gpcG5VvQT4Om0Eyxie8EnSoJsoraoWVdWiuXPnjtM8SVIfmABKkjQ1m4BNVXVde30ZXULoJGmSpCctE0BJkqagqr4E3J3kBS20hO7+dydJkyQ9aU30ewAlSdJj/SrwziTPAD4PvInu5OraJCuAu2j3uFfVzUlGJknbxmMnSbsQ2ItugrTBSdIubpOkbaGbRZSq2pJkZJI0cJI0SdIEmQBKkjRFVXUjsGjIKidJkyQ9KTkEVJIkSZJ6wgRQkiRJknrCBFCSJEmSesIEUJIkSZJ6wgRQkiRJknrCBFCSJEmSesIEUJIkSZJ6wgRQkiRJknrCBFCSJEmSesIEUJIkSZJ6wgRQkiRJknrCBFCSJEmSesIEUJIkSZJ6wgRQkiRJknrCBFCSJEmSesIEUJIkSZJ6wgRQkiRJknrCBFCSJEmSesIEUJIkSZJ6wgRQkiRJknrCBFCSJEmSesIEUJIkSZJ6wgRQkiRJknrCBFCSJEmSesIEUJIkSZJ6wgRQkiRJknrCBFCSJEmSesIEUJIkSZJ6wgRQkiRJknrCBFCSJEmSesIEUJIkSZJ6wgRQkiRJknrCBFCSJEmSesIEUJIkSZJ6YtZ0N0CSJEnScMvOu3a6m9Bbl6w8erqb8LjwCqAkSZIk9cSEE8AkeyT5ZJL3tddzkqxLcnt7nj2w7WlJNia5LckxA/EjktzU1p2dJC2+Z5JLW/y6JAsGyixv73F7kuW7Za8lSZIkqYcmcwXw14FbB16fCqyvqoXA+vaaJIcAy4BDgWOBc5Ls0cqcC6wEFrbHsS2+AthaVQcDZwFntrrmAKuAI4HFwKrBRFOSJEmSNHETSgCTzAdeBbx9IHwcsKYtrwGOH4hfUlWPVNUdwEZgcZIDgL2r6tqqKuCiUWVG6roMWNKuDh4DrKuqLVW1FVjH9qRRkiRJkjQJE70C+Dbgd4DvDMT2r6p7Adrzfi0+D7h7YLtNLTavLY+O71CmqrYBDwL7jlPXDpKsTLIhyYbNmzdPcJckSZIkqV92mgAmeTVwf1V9fIJ1ZkisxolPtcz2QNV5VbWoqhbNnTt3gs2UJEmSpH6ZyBXAlwGvSXIncAnw40n+HrivDeukPd/ftt8EHDhQfj5wT4vPHxLfoUySWcA+wJZx6pIkSZIkTdJOE8CqOq2q5lfVArrJXa6uqjcAVwAjs3IuBy5vy1cAy9rMngfRTfZyfRsm+lCSo9r9fSeNKjNS1wntPQq4CliaZHab/GVpi0mSJEmSJmlXvgj+rcDaJCuAu4ATAarq5iRrgVuAbcApVfVoK3MycCGwF3BlewCcD1ycZCPdlb9lra4tSc4AbmjbnV5VW3ahzZIkSZLUW5NKAKvqGuCatvwAsGSM7VYDq4fENwCHDYk/TEsgh6y7ALhgMu2UJEmSJD3WZL4HUJIkSZI0g5kASpIkSVJPmABKkiRJUk+YAEqSJElST5gASpIkSVJPmABKkiRJUk+YAEqSJElST5gASpIkSVJPmABKkiRJUk+YAEqSJElST5gASpIkSVJPmABKkiRJUk+YAEqSJElST5gASpIkSVJPmABKkiRJUk+YAEqSJElST5gASpIkSVJPmABKkiRJUk+YAEqSJElST5gASpIkSVJPmABKkiRJUk+YAEqSJElST5gASpIkSVJPmABKkiRJUk+YAEqSJElST5gASpIkSVJPmABKkiRJUk+YAEqSJElST5gASpK0C5LskeSTSd7XXs9Jsi7J7e159sC2pyXZmOS2JMcMxI9IclNbd3aStPieSS5t8euSLBgos7y9x+1Jlj+BuyxJmsFMACVJ2jW/Dtw68PpUYH1VLQTWt9ckOQRYBhwKHAuck2SPVuZcYCWwsD2ObfEVwNaqOhg4Cziz1TUHWAUcCSwGVg0mmpIkjcUEUJKkKUoyH3gV8PaB8HHAmra8Bjh+IH5JVT1SVXcAG4HFSQ4A9q6qa6uqgItGlRmp6zJgSbs6eAywrqq2VNVWYB3bk0ZJksZkAihJ0tS9Dfgd4DsDsf2r6l6A9rxfi88D7h7YblOLzWvLo+M7lKmqbcCDwL7j1PUYSVYm2ZBkw+bNmye5e5KkpxoTQEmSpiDJq4H7q+rjEy0yJFbjxKdaZsdg1XlVtaiqFs2dO3dCDZUkPXWZAEqSNDUvA16T5E7gEuDHk/w9cF8b1kl7vr9tvwk4cKD8fOCeFp8/JL5DmSSzgH2ALePUJUnSuEwAJUmagqo6rarmV9UCusldrq6qNwBXACOzci4HLm/LVwDL2syeB9FN9nJ9Gyb6UJKj2v19J40qM1LXCe09CrgKWJpkdpv8ZWmLSZI0rlnT3QBJkp5i3gqsTbICuAs4EaCqbk6yFrgF2AacUlWPtjInAxcCewFXtgfA+cDFSTbSXflb1urakuQM4Ia23elVteXx3jFJ0sxnAihJ0i6qqmuAa9ryA8CSMbZbDaweEt8AHDYk/jAtgRyy7gLggqm2WZLUTw4BlSRJkqSeMAGUJEmSpJ4wAZQkSZKknjABlCRJkqSe2GkCmOSZSa5P8qkkNyf5wxafk2Rdktvb8+yBMqcl2ZjktiTHDMSPSHJTW3d2m+6aNiX2pS1+XZIFA2WWt/e4PclyJEmSJElTMpErgI8AP15VLwYOB45NchRwKrC+qhYC69trkhxCN031ocCxwDlJ9mh1nQuspPvuo4VtPcAKYGtVHQycBZzZ6poDrAKOBBYDqwYTTUmSJEnSxO00AazO19rLp7dHAccBa1p8DXB8Wz4OuKSqHqmqO4CNwOIkBwB7V9W17UtsLxpVZqSuy4Al7ergMcC6qtpSVVuBdWxPGiVJkiRJkzChewCT7JHkRuB+uoTsOmD/qroXoD3v1zafB9w9UHxTi81ry6PjO5Spqm3Ag8C+49Q1un0rk2xIsmHz5s0T2SVJkiRJ6p0JJYBV9WhVHQ7Mp7ua95gvqx2QYVWME59qmcH2nVdVi6pq0dy5c8dpmiRJkiT116RmAa2qrwDX0A3DvK8N66Q939822wQcOFBsPnBPi88fEt+hTJJZwD7AlnHqkiRJkiRN0kRmAZ2b5HlteS/gJ4DPAlcAI7NyLgcub8tXAMvazJ4H0U32cn0bJvpQkqPa/X0njSozUtcJwNXtPsGrgKVJZrfJX5a2mCRJkiRpkmZNYJsDgDVtJs+nAWur6n1JrgXWJlkB3AWcCFBVNydZC9wCbANOqapHW10nAxcCewFXtgfA+cDFSTbSXflb1urakuQM4Ia23elVtWVXdliSJEmS+mqnCWBVfRp4yZD4A8CSMcqsBlYPiW8AHnP/YFU9TEsgh6y7ALhgZ+2UJEmSJI1vUvcASpIkSZJmLhNASZIkSeoJE0BJkiRJ6gkTQEmSJEnqCRNASZIkSeoJE0BJkiRJ6gkTQEmSJEnqiYl8EbwkPa6WnXftdDehty5ZefR0N0GSJD2BvAIoSZIkST1hAihJkiRJPWECKEmSJEk9YQIoSZIkST1hAihJkiRJPWECKEmSJEk9YQIoSZIkST1hAihJkiRJPWECKEmSJEk9YQIoSZIkST1hAihJkiRJPWECKEmSJEk9YQIoSZIkST1hAihJkiRJPWECKEmSJEk9YQIoSZIkST1hAihJkiRJPWECKEmSJEk9YQIoSZIkST1hAihJkiRJPWECKEmSJEk9YQIoSZIkST1hAihJkiRJPWECKEmSJEk9YQIoSZIkST1hAihJkiRJPWECKEmSJEk9YQIoSZIkST1hAihJkiRJPWECKEmSJEk9YQIoSZIkST1hAihJkiRJPWECKEmSJEk9sdMEMMmBSf41ya1Jbk7y6y0+J8m6JLe359kDZU5LsjHJbUmOGYgfkeSmtu7sJGnxPZNc2uLXJVkwUGZ5e4/bkyzfrXsvSZIkST0ykSuA24DfqqofBI4CTklyCHAqsL6qFgLr22vaumXAocCxwDlJ9mh1nQusBBa2x7EtvgLYWlUHA2cBZ7a65gCrgCOBxcCqwURTkiRJkjRxO00Aq+reqvpEW34IuBWYBxwHrGmbrQGOb8vHAZdU1SNVdQewEVic5ABg76q6tqoKuGhUmZG6LgOWtKuDxwDrqmpLVW0F1rE9aZQkSZIkTcKk7gFsQzNfAlwH7F9V90KXJAL7tc3mAXcPFNvUYvPa8uj4DmWqahvwILDvOHWNbtfKJBuSbNi8efNkdkmSJEmSemPCCWCS5wDvBn6jqr463qZDYjVOfKpltgeqzquqRVW1aO7cueM0TZIkSZL6a0IJYJKn0yV/76yq97TwfW1YJ+35/hbfBBw4UHw+cE+Lzx8S36FMklnAPsCWceqSJEmSJE3SRGYBDXA+cGtV/fnAqiuAkVk5lwOXD8SXtZk9D6Kb7OX6Nkz0oSRHtTpPGlVmpK4TgKvbfYJXAUuTzG6TvyxtMUmSJEnSJM2awDYvA94I3JTkxhb7P8BbgbVJVgB3AScCVNXNSdYCt9DNIHpKVT3ayp0MXAjsBVzZHtAlmBcn2Uh35W9Zq2tLkjOAG9p2p1fVlqntqiRJkiT1204TwKr6KMPvxQNYMkaZ1cDqIfENwGFD4g/TEsgh6y4ALthZOyVJkiRJ45vULKCSJEmSpJnLBFCSJEmSesIEUJIkSZJ6wgRQkiRJknrCBFCSJEmSesIEUJIkSZJ6wgRQkiRJknrCBFCSJEmSesIEUJIkSZJ6wgRQkqQpSHJgkn9NcmuSm5P8eovPSbIuye3tefZAmdOSbExyW5JjBuJHJLmprTs7SVp8zySXtvh1SRYMlFne3uP2JMufwF2XJM1gJoCSJE3NNuC3quoHgaOAU5IcApwKrK+qhcD69pq2bhlwKHAscE6SPVpd5wIrgYXtcWyLrwC2VtXBwFnAma2uOcAq4EhgMbBqMNGUJGksJoCSJE1BVd1bVZ9oyw8BtwLzgOOANW2zNcDxbfk44JKqeqSq7gA2AouTHADsXVXXVlUBF40qM1LXZcCSdnXwGGBdVW2pqq3AOrYnjZIkjckEUJKkXdSGZr4EuA7Yv6ruhS5JBPZrm80D7h4otqnF5rXl0fEdylTVNuBBYN9x6hrWtpVJNiTZsHnz5inuoSTpqcIEUJKkXZDkOcC7gd+oqq+Ot+mQWI0Tn2qZHYNV51XVoqpaNHfu3HGaJ0nqAxNASZKmKMnT6ZK/d1bVe1r4vjask/Z8f4tvAg4cKD4fuKfF5w+J71AmySxgH2DLOHVJkjQuE0BJkqag3Yt3PnBrVf35wKorgJFZOZcDlw/El7WZPQ+im+zl+jZM9KEkR7U6TxpVZqSuE4Cr232CVwFLk8xuk78sbTFJksY1a7obIEnSDPUy4I3ATUlubLH/A7wVWJtkBXAXcCJAVd2cZC1wC90MoqdU1aOt3MnAhcBewJXtAV2CeXGSjXRX/pa1urYkOQO4oW13elVteZz2U5L0FGICKEnSFFTVRxl+Lx7AkjHKrAZWD4lvAA4bEv//t3fv4ZZU5Z3Hvz/BC5FIQC7hKmpQA4LNRUgmhkBUhDwaY0DpjkZ5YoL6qIk6asiQAS9BBSdBR0Qk2uGSCI2RRGIUJAoDjCgXuWsQEETQkWtQImDAd/6otZvq3ftcuunuc7rr+3me85yzV9WqWvvsWnvVu9aqqgdpAeSEZYuBxbMtryRJ4BRQSZIkSRoMA0BJkiRJGggDQEmSJEkaCANASZIkSRoIA0BJkiRJGggDQEmSJEkaCANASZIkSRoIA0BJkiRJGggDQEmSJEkaCANASZIkSRoIA0BJkiRJGggDQEmSJEkaCANASZIkSRoIA0BJkiRJGggDQEmSJEkaCANASZIkSRoIA0BJkiRJGggDQEmSJEkaCANASZIkSRoIA0BJkiRJGggDQEmSJEkaCANASZIkSRoIA0BJkiRJGogZA8Aki5PckeTaXtomSc5NckP7vXFv2V8kuTHJ9Ule0kvfPck1bdn/TpKW/sQkS1r6N5Js38vzuraPG5K8bpW9a0mSJEkaoNmMAJ4E7D+WdhjwlaraAfhKe02SHYGFwE4tz/FJ1mt5PgEcCuzQfkbbfD1wb1X9CnAscHTb1ibAkcBewJ7Akf1AU5IkSZK0YmYMAKvqAuCeseSXAye3v08Gfq+XfnpVPVRVNwM3Ansm2RJ4SlVdXFUFnDKWZ7StfwRe2EYHXwKcW1X3VNW9wLksH4hKkiRJkmZpZa8B3KKqfgjQfm/e0rcGvt9b77aWtnX7ezx9mTxV9TBwH/DUaba1nCSHJrksyWV33nnnSr4lSZIkSVq3reqbwGRCWk2TvrJ5lk2sOrGq9qiqPTbbbLNZFVSSJEmShmZlA8AftWmdtN93tPTbgG17620D/KClbzMhfZk8SdYHNqKbcjrVtiRJkiRJK2FlA8CzgNFdOV8HfL6XvrDd2fPpdDd7uaRNE/1Jkl9r1/e9dizPaFsHAV9t1wmeA+yXZON285f9WpokSZIkaSWsP9MKSU4D9gE2TXIb3Z05PwSckeT1wK3AKwGq6rokZwDfAh4G3lxVj7RNvYnujqIbAF9qPwCfBk5NciPdyN/Ctq17krwfuLSt976qGr8ZjSRJkiRplmYMAKtq0RSLXjjF+kcBR01Ivwx47oT0B2kB5IRli4HFM5VRkiRJkjSzVX0TGEmSJEnSPGUAKEmSJEkDYQAoSZIkSQNhAChJkiRJA2EAKEmSJEkDYQAoSZIkSQNhAChJkiRJA2EAKEmSJEkDYQAoSZIkSQNhAChJkiRJA2EAKEmSJEkDYQAoSZIkSQNhAChJkiRJA2EAKEmSJEkDYQAoSZIkSQNhAChJkiRJA2EAKEmSJEkDYQAoSZIkSQNhAChJkiRJA2EAKEmSJEkDYQAoSZIkSQNhAChJkiRJA2EAKEmSJEkDYQAoSZIkSQNhAChJkiRJA2EAKEmSJEkDYQAoSZIkSQNhAChJkiRJA2EAKEmSJEkDYQAoSZIkSQNhAChJkiRJA2EAKEmSJEkDYQAoSZIkSQNhAChJkiRJA2EAKEmSJEkDYQAoSZIkSQNhAChJkiRJA2EAKEmSJEkDYQAoSZIkSQNhAChJkiRJA2EAKEmSJEkDsVYEgEn2T3J9khuTHDbX5ZEkaT6wfZQkrah5HwAmWQ/4OHAAsCOwKMmOc1sqSZLmlu2jJGllzPsAENgTuLGqvltVPwNOB14+x2WSJGmu2T5KklbY+nNdgFnYGvh+7/VtwF79FZIcChzaXt6f5Po1VDYtb1PgrrkuxMpY8oa5LoHWYh73c+dpc12AOTRj+wi2kfPIWvs9AevEd4Xmhsf93JmyfVwbAsBMSKtlXlSdCJy4Zoqj6SS5rKr2mOtySGuSx73myIztI9hGzhd+T2iIPO7np7VhCuhtwLa919sAP5ijskiSNF/YPkqSVtjaEABeCuyQ5OlJngAsBM6a4zJJkjTXbB8lSSts3k8BraqHk7wFOAdYD1hcVdfNcbE0NacZaYg87rXG2T6udfye0BB53M9DqVrucgFJkiRJ0jpobZgCKkmSJElaBQwAJUmSJGkgDADXIUkeSXJlkmuT/EuSX5ph/UOSHLeC+3hPkndOsew1Sa5Ocl2Sq5J8aqYyrMB+z0+yR/v7/inWeWOS166K/WndMFYnPpvkF3rL9klyX5Irknw7yZHTbGeLJF9ox/W3knxxzbwDaf5Jcnj7nr+61a+9esvWT3JXkg+O5Tk/yfUtz78nOa7fPox/r4/ap1ZPLx5btn6SHyXZMslJSQ6aUMaTktzcyvfNJL8+If2qJC8cy/f2JA8m2Wgsff8kl7SyX5lkSZLt2uude+u9O8kJ7e9dk1SSl0zzv/yjJNe0/8u1SV7eK+dBvf/dZb08eyQ5v/d6z7bODe29/uuoTJPa7CS3JNl0LO0b7X3dmuTO9veVSbYfX799Jl8Yy//5CZ/T0n0neVKSc5McOencY6yNv6X3P/k/SYb8rM9p9dq40XnXO5I8ri1b5nOa5hg+JMlpY9vdtB0HT5zw2fSPhaX1JZ2LkhzQW/6qJGe3vzdL8l9JpnyyXpKXpmuTr0rX1r6hpfePpZOS3J7kib2y3tLbxg7p2uubklye5Lwke7dl0x57Q2IAuG55oKoWVNVzgXuAN6+pHSfZH3g7cEBV7QTsBnwN2GJNlaGqTqiqU9bU/rRW6NeJnwFvHFt+YVXtCuwBvCbJ7lNs533AuVX1vKraEThs9RV5aknWm4v9SiPpAqmXArtV1S7Ai1j2YfT7AdcDr0oy/pzCV7c8uwAPAZ+fxS4vALZJsn0v7UXAtVX1wxnyvquqFtDV109OSH8bcMJYnkV0d1d9xSghyXOBjwGvq6rntLz/AGzftnF8O/ndGngD8Be9bV3Ufi8nyTbA4cAL2v/l14Crp3gvm/dPrHvb2AI4A/gfVbVDVe0GfBB45hTbmaiq9mrv6whgSfveXFBVt8yUN10gvxvwS0mePmH5E4DPAZdX1XtnWaR92//kfOAvZ5lniEZt3E7Ai4HfAZbrzJzhGD4TeHF6HaTAQcBZVfXQDPtfWl+qu6nIG4G/aQH/k4GjePRc9JXA15m6Pjye7oYxL6uq5wG70n3+kzwC/NGEbTwJ+FfgxKp6ZlXtDrwVeMYM72NwDADXXRcDW8PS3sGvtV6VryV5dm+9rZKcna7n8JhRYnq9sUkOSnLSDPs7HHhnVd0OUFWPVNXiqrq+beOIJJem6+E8cXRi0Hpejm69Ut9J8pstfYMkp7cewCXABv2dJTmq9RB9vTWA045OSsCFwK9MWlBV/wlcztQnTVvSPXNttP7VMLGH9bgkh7S/b0ny3nQ98tckeU5Lf3KSxa0+XJFHe/zXS/Lhln51r+dzn9aD+Rngmsf4P5Aeqy2Bu0YnhlV1V1X1nz24CPgocCtdQLOcqvoZ8G5guyTPm25nVfVz4LPAwb3khcBpk3NMdAGT6/7SdhIgyTOBDekCjv5J6p8DH6iqb/fKdVZVXVBVZwM/BF4LHAu8p6rubW3cQcAhwH7txHTc5sBPgPvbNu+vqpuneA8fZnIg9Bbg5Kr6Wq9sF1XVP0+xndXhQOBfgNPpPpu+9Vv6DVW1Mh1ny3xGmlpV3QEcCrxlQufLdMfwj+nqyMt6689YxybVl6q6lu5Y+HO6QPSUqrqpZVkE/He6Dp1Jn+kv0h0vd7dtPTQ6h5zgI8Dbk4w/zeDVwMVVtfRxOFV1bVWdNN17GSIDwHVQGyV4IY8+D+rfgb3bSMcRwAd6qy+ga1h3Bg5O0n+o8IrYCfjmNMuPq6rnt5GYDeh6kEfWr6o96XpSRz1XbwJ+2noAjwL6IzNPBr7eeoguAP5kJcusgWiNxAFMEUAleSrdyepUt9D/OPDpFogdnmSrWe76rtYj/wlg1DlxOPDVqno+sC/w4dZT+nrgvpb+fOBPer3pewKHt9FHaS59Gdi2ddgdn+S3RguSbEDX9nyB7uRxYk8/dJ2EwFXAc1rSBnl02uGVdKPuI6fRAos27et36EaUZutlTK77+wP/3Hu9qO3rQuDZSTZv6TO1b2+ja6c2q6pTW9pvADe3k9/zW5nHXQX8CLg5yd8ledmEdUYuBh5Ksu9Y+kxlg+5Euf+/ne33V995vfyfGls2+r9N+szfDTxcVW9biX3C8p+RplFV36U7t998bNFMx0m/jm0FPAs4b4bdTVVf3gv8AV2be0zb5rbAL1fVJXQj1gePb6yq7qE7b/1ektOSvDptOusEt9KNrv/hCr5P6M51+/VhcNM/wQBwXbNBO5jvBjYBzm3pGwGfTXItXQ/lTr08X6mq+6rqQeBbwGOea59k51axbkoyquT7prvG4Brgt8fKcGb7fTnddASAvYG/h6WjLf1pMT+jO8EYzyONG9WJy+gajE+PLf/NJFfQndR+aKpnqFXVOXRTSP6W7oT1iiSbzWL/k47t/YDDWrnOB54EbNfSX9vSvwE8Fdih5blkmpEBaY2pqvvpOuQOBe4EloxGvek69s6rqp/SBWivyPTTlvujFKOpbAt6UxFH+7wU2LDNXjmArgPw3lkU98OtPh1K18HST/8uXRvT7xBdCJzeRh3PpJuytmyBk6e29u07oxknbQT0q3QdPSOL6Ea+aL+XC4ZbELw/3Ujhd4Bjk7xnmvfzV8wwHbK1s99O8tFe8rFj/9sfTJF9Ovv28v9xb39b0I2uXlRV3wEeTjfdcOQi4NeTPKuXNtXzx/rp5yW5g26672dWorxDNj76t+zCCccw3TnVC5I8BXgV8I/t+JzOxPrSZtQsAU7tTSFdSBf4wRT1oeX9Y7pOpEvoOk0XT7P/DwDvYppYJsk/pZt5dmYveclYfbhsiuzrNAPAdcsD7WB+GvAEHp13/X66Rvm5dD2h/ako/fndj9ANv8OyX8STpq6Mu47uGgCq6ppWji/RnYA/CTgeOKiqdqY7iZ5Uhv7+x8vQ919trvmkPFJf/6TyrW3qWd+FVbVrVe1eVePXAi2jqu6pqs9U1R/SXfOwN/Awy36PjteVScd2gAN75dquTcsJ8NZe+tOr6sstz3+u2NuWVp82xf/8qjqSbgrigW3RIuBF6W7IcDldJ8b4iBWwdKbKzsC3Jy2fYDS9cEWmf76r1aUXt6lpS9Ppgpa/BE5u5dmFrsPl3Fb+hTx6ktpv3+5u7duJdNPfRn7efkbv7UDgiLatjwEHJPnF8QJW55Kq+mDb54Hj6/TW/Srdd0x/au3SsrV19gL+J13H75pwMLAx3SjmLXQdXf1poBfQjZB+qTdz4u6Wp28T4K7e633pzmWuY9nRYE0jyTPo2ps7xhZNewxX1QPA2XTXvs5m+ud09QV69aFZBBzS1j0LeF6SHZignUMeS3dN43T14UbgSrqAdbn32dZ5Bd007E2mez9DZAC4Dqqq+4A/Bd6Z7qLajYDb2+JDZrmZHyX51Tb8/ooZ1+4uOv9f6S5qHxldtzc6Kb4ryYZ0vZ0zuYBuLvfo4uVdZldsadVL8ttpF8i3k7hn0o0ofg/YMd2d0jai67mcyTnAW0fXaCTZtZf+plZnSfKsNjVUmjeSPHvsxG0B3ZStpwAvALarqu2ranu6TsjlevrbMf5B4PtthsdsnAa8hm4GyVkzrDujNmrxUeBx6e7SuYju+r3t289WwNbp7kB5DHB4kl/tbeIXlt/qUi8Crqqqbdu2nkY3Ivp7/ZWSbJVkt17SArrvlOkcRTetcuTjdCfW/22WZVvVFgH79z7z3Rm7DrCqPkd3DePZ6W4YcynwG0l+Gbq7mgJPZNmbCY2CkrfRzYzwBH4GbVbKCXSX3Ix3oM/mGD4NeAfdzfu+PsPupqsv4+V6NvDkqtq6d5yMOjz6622YZJ9e0gJmVx/69374DN2x9bu9tDVZH9Yajpyso6rqiiRX0VWwY4CTk7yDbprKbBxGNyXg+8C1LNvTOWl/X2xfPl9qvZ//0fKdU1X/keRv6a7BuIXuy38mnwD+LsnVdD08l8yy3NKUWqOwR1UdMcXy9wGXVe8C8mZ34LgkoxG/T7VpaSQ5g26K8g3AFbMoxvvpLmC/ugWBt9BNnfsUXe/5N1v6nYydMErzwIbAx9qJ/MPAjXRTLH+f7trW/qySzwPHpN2uHfiHJA/Rnez/G/Dy2e60qr6V5Kd0d5JcJSPiVVVJ/oouoHoG3fTSvn8CFlbV0Un+DDildQDdTdcBNNWjYxa1vH2fo7u2/dRe2uPpOk63Ah6kq/PjdyoeL/MXk9zZe/3/2qUWR6e7scYddCNpq33ULN2dWbejFyxU1c1Jfpzeo0Fa+gkt4DuLbrr7nwFfbJ3M9wOLWlDOWL4fpntEwZvpvju1rNFlDo+nq4+nAn8zvlJVXTOLY/jLdCPin54QQI6sTzezZSFT1Bfg6LH0qerD6Sz7mQZ4d5JPAg/QzXw5ZIpyjN7XdUm+yaOjmw8keSndnUg/QneN7U/opk+rJ1N/xpIkSZKGrnXyX1lV3pV1HeAUUEmSJEkTtdkzF/LoMy61lnMEUJIkSZIGwhFASZIkSRoIA0BJkiRJGggDQEmSJEkaCANAaZ5JUkn+uvf6nUneM7bOVe3W2P20k5L8tP+w4SQfbdvbtL1+JMmVvZ/DVvPbkSRplbGNlB47A0Bp/nkI+P1RgzSuPcj1ccDeEx4UfiPt2Vrt+Ur7Arf3lj9QVQt6Px9a9cWXJGm1sY2UHiMDQGn+eRg4EXj7FMv/gO5hr18Gfnds2WnAwe3vfYD/27YnSdK6wDZSeowMAKX56ePAq5NsNGHZwcASuoZs0diyG4DNkmzclp0+tnyDsektByNJ0trFNlJ6DNaf6wJIWl5V/TjJKcCfAg+M0pM8H7izqr6X5DZgcZKNq+reXvYzgYXAXsAbxjb9QFUtWL2llyRp9bGNlB4bRwCl+esjwOuB/jUMi4DnJLkFuAl4CnDgWL7TgfcD51bVz1d/MSVJWuM+gm2ktFIMAKV5qqruAc6ga+BGF6y/Etilqravqu3pLmZfNJbvVuBw4Pg1WmBJktYQ20hp5RkASvPbXwOjO53tDdxeVf07ll0A7Jhky36mqvpkVd00YXvj1zd4hzNJ0trKNlJaCamquS6DJEmSJGkNcARQkiRJkgbCAFCSJEmSBsIAUJIkSZIGwgBQkiRJkgbCAFCSJEmSBsIAUJIkSZIGwgBQkiRJkgbi/wPkVsEtRV2w8AAAAABJRU5ErkJggg==\n",
      "text/plain": [
       "<Figure size 1080x1080 with 4 Axes>"
      ]
     },
     "metadata": {
      "needs_background": "light"
     },
     "output_type": "display_data"
    }
   ],
   "source": [
    "begusarai_df = df[df['CONSTITUENCY'] == 'BEGUSARAI'][['NAME','TOTALVOTES']]\n",
    "bangalore_df = df[df['CONSTITUENCY'] == 'BANGALORE SOUTH'][['NAME','TOTALVOTES']]\n",
    "wayanad_df = df[df['CONSTITUENCY'] == 'WAYANAD'][['NAME','TOTALVOTES']]\n",
    "bhopal_df = df[df['CONSTITUENCY'] == 'BHOPAL'][['NAME','TOTALVOTES']]\n",
    "\n",
    "fig, axes = plt.subplots(nrows=2, ncols=2, figsize=(15,15))\n",
    "begusarai_df.plot(kind='bar', ax=axes[0,0], alpha=0.75, rot=0, legend=False, title='Battleground Begusarai', x='NAME')\n",
    "bangalore_df.plot(kind='bar', ax=axes[0,1], alpha=0.75, rot=0, legend=False, title=\"Battleground Bangalore South\", x='NAME')\n",
    "wayanad_df.plot(kind='bar', ax=axes[1,0], alpha=0.75, rot=0, legend=False, title='Battleground Wayanad', x='NAME')\n",
    "bhopal_df.plot(kind='bar', ax=axes[1,1], alpha=0.75, rot=0, legend=False, title=\"Battleground Bhopal\", x='NAME')\n"
   ]
  },
  {
   "cell_type": "markdown",
   "metadata": {},
   "source": [
    "## 7. Preparing the data"
   ]
  },
  {
   "cell_type": "markdown",
   "metadata": {},
   "source": [
    "### 7.1 Scaling the data"
   ]
  },
  {
   "cell_type": "code",
   "execution_count": 31,
   "metadata": {
    "scrolled": true
   },
   "outputs": [
    {
     "data": {
      "text/html": [
       "<div>\n",
       "<style scoped>\n",
       "    .dataframe tbody tr th:only-of-type {\n",
       "        vertical-align: middle;\n",
       "    }\n",
       "\n",
       "    .dataframe tbody tr th {\n",
       "        vertical-align: top;\n",
       "    }\n",
       "\n",
       "    .dataframe thead th {\n",
       "        text-align: right;\n",
       "    }\n",
       "</style>\n",
       "<table border=\"1\" class=\"dataframe\">\n",
       "  <thead>\n",
       "    <tr style=\"text-align: right;\">\n",
       "      <th></th>\n",
       "      <th>STATE</th>\n",
       "      <th>CONSTITUENCY</th>\n",
       "      <th>NAME</th>\n",
       "      <th>WINNER</th>\n",
       "      <th>PARTY</th>\n",
       "      <th>SYMBOL</th>\n",
       "      <th>GENDER</th>\n",
       "      <th>CRIMINALCASES</th>\n",
       "      <th>AGE</th>\n",
       "      <th>CATEGORY</th>\n",
       "      <th>EDUCATION</th>\n",
       "      <th>ASSETS</th>\n",
       "      <th>LIABILITIES</th>\n",
       "      <th>GENERALVOTES</th>\n",
       "      <th>POSTALVOTES</th>\n",
       "      <th>TOTALVOTES</th>\n",
       "      <th>OVER TOTAL ELECTORS IN CONSTITUENCY</th>\n",
       "      <th>OVER TOTAL VOTES POLLED IN CONSTITUENCY</th>\n",
       "      <th>TOTAL ELECTORS</th>\n",
       "      <th>Party New</th>\n",
       "    </tr>\n",
       "  </thead>\n",
       "  <tbody>\n",
       "    <tr>\n",
       "      <th>0</th>\n",
       "      <td>Telangana</td>\n",
       "      <td>ADILABAD</td>\n",
       "      <td>SOYAM BAPU RAO</td>\n",
       "      <td>1</td>\n",
       "      <td>BJP</td>\n",
       "      <td>Lotus</td>\n",
       "      <td>MALE</td>\n",
       "      <td>52</td>\n",
       "      <td>52.0</td>\n",
       "      <td>ST</td>\n",
       "      <td>12th Pass</td>\n",
       "      <td>3099414.0</td>\n",
       "      <td>231450.0</td>\n",
       "      <td>376892</td>\n",
       "      <td>482</td>\n",
       "      <td>377374</td>\n",
       "      <td>25.330684</td>\n",
       "      <td>35.468248</td>\n",
       "      <td>1489790</td>\n",
       "      <td>BJP</td>\n",
       "    </tr>\n",
       "    <tr>\n",
       "      <th>1</th>\n",
       "      <td>Telangana</td>\n",
       "      <td>ADILABAD</td>\n",
       "      <td>Godam Nagesh</td>\n",
       "      <td>0</td>\n",
       "      <td>TRS</td>\n",
       "      <td>Car</td>\n",
       "      <td>MALE</td>\n",
       "      <td>0</td>\n",
       "      <td>54.0</td>\n",
       "      <td>ST</td>\n",
       "      <td>Post Graduate</td>\n",
       "      <td>18477888.0</td>\n",
       "      <td>847000.0</td>\n",
       "      <td>318665</td>\n",
       "      <td>149</td>\n",
       "      <td>318814</td>\n",
       "      <td>21.399929</td>\n",
       "      <td>29.964370</td>\n",
       "      <td>1489790</td>\n",
       "      <td>Other</td>\n",
       "    </tr>\n",
       "    <tr>\n",
       "      <th>2</th>\n",
       "      <td>Telangana</td>\n",
       "      <td>ADILABAD</td>\n",
       "      <td>RATHOD RAMESH</td>\n",
       "      <td>0</td>\n",
       "      <td>INC</td>\n",
       "      <td>Hand</td>\n",
       "      <td>MALE</td>\n",
       "      <td>3</td>\n",
       "      <td>52.0</td>\n",
       "      <td>ST</td>\n",
       "      <td>12th Pass</td>\n",
       "      <td>36491000.0</td>\n",
       "      <td>15300000.0</td>\n",
       "      <td>314057</td>\n",
       "      <td>181</td>\n",
       "      <td>314238</td>\n",
       "      <td>21.092771</td>\n",
       "      <td>29.534285</td>\n",
       "      <td>1489790</td>\n",
       "      <td>INC</td>\n",
       "    </tr>\n",
       "    <tr>\n",
       "      <th>4</th>\n",
       "      <td>Uttar Pradesh</td>\n",
       "      <td>AGRA</td>\n",
       "      <td>Satyapal Singh Baghel</td>\n",
       "      <td>1</td>\n",
       "      <td>BJP</td>\n",
       "      <td>Lotus</td>\n",
       "      <td>MALE</td>\n",
       "      <td>5</td>\n",
       "      <td>58.0</td>\n",
       "      <td>SC</td>\n",
       "      <td>Doctorate</td>\n",
       "      <td>74274036.0</td>\n",
       "      <td>8606522.0</td>\n",
       "      <td>644459</td>\n",
       "      <td>2416</td>\n",
       "      <td>646875</td>\n",
       "      <td>33.383823</td>\n",
       "      <td>56.464615</td>\n",
       "      <td>1937690</td>\n",
       "      <td>BJP</td>\n",
       "    </tr>\n",
       "    <tr>\n",
       "      <th>5</th>\n",
       "      <td>Uttar Pradesh</td>\n",
       "      <td>AGRA</td>\n",
       "      <td>Manoj Kumar Soni</td>\n",
       "      <td>0</td>\n",
       "      <td>BSP</td>\n",
       "      <td>Elephant</td>\n",
       "      <td>MALE</td>\n",
       "      <td>0</td>\n",
       "      <td>47.0</td>\n",
       "      <td>SC</td>\n",
       "      <td>Post Graduate</td>\n",
       "      <td>133784385.0</td>\n",
       "      <td>22251891.0</td>\n",
       "      <td>434199</td>\n",
       "      <td>1130</td>\n",
       "      <td>435329</td>\n",
       "      <td>22.466390</td>\n",
       "      <td>37.999125</td>\n",
       "      <td>1937690</td>\n",
       "      <td>BSP</td>\n",
       "    </tr>\n",
       "  </tbody>\n",
       "</table>\n",
       "</div>"
      ],
      "text/plain": [
       "           STATE CONSTITUENCY                   NAME  WINNER PARTY    SYMBOL  \\\n",
       "0      Telangana     ADILABAD         SOYAM BAPU RAO       1   BJP     Lotus   \n",
       "1      Telangana     ADILABAD           Godam Nagesh       0   TRS       Car   \n",
       "2      Telangana     ADILABAD          RATHOD RAMESH       0   INC      Hand   \n",
       "4  Uttar Pradesh         AGRA  Satyapal Singh Baghel       1   BJP     Lotus   \n",
       "5  Uttar Pradesh         AGRA       Manoj Kumar Soni       0   BSP  Elephant   \n",
       "\n",
       "  GENDER  CRIMINALCASES   AGE CATEGORY      EDUCATION       ASSETS  \\\n",
       "0   MALE             52  52.0       ST      12th Pass    3099414.0   \n",
       "1   MALE              0  54.0       ST  Post Graduate   18477888.0   \n",
       "2   MALE              3  52.0       ST      12th Pass   36491000.0   \n",
       "4   MALE              5  58.0       SC      Doctorate   74274036.0   \n",
       "5   MALE              0  47.0       SC  Post Graduate  133784385.0   \n",
       "\n",
       "   LIABILITIES  GENERALVOTES  POSTALVOTES  TOTALVOTES  \\\n",
       "0     231450.0        376892          482      377374   \n",
       "1     847000.0        318665          149      318814   \n",
       "2   15300000.0        314057          181      314238   \n",
       "4    8606522.0        644459         2416      646875   \n",
       "5   22251891.0        434199         1130      435329   \n",
       "\n",
       "   OVER TOTAL ELECTORS IN CONSTITUENCY  \\\n",
       "0                            25.330684   \n",
       "1                            21.399929   \n",
       "2                            21.092771   \n",
       "4                            33.383823   \n",
       "5                            22.466390   \n",
       "\n",
       "   OVER TOTAL VOTES POLLED IN CONSTITUENCY  TOTAL ELECTORS Party New  \n",
       "0                                35.468248         1489790       BJP  \n",
       "1                                29.964370         1489790     Other  \n",
       "2                                29.534285         1489790       INC  \n",
       "4                                56.464615         1937690       BJP  \n",
       "5                                37.999125         1937690       BSP  "
      ]
     },
     "execution_count": 31,
     "metadata": {},
     "output_type": "execute_result"
    }
   ],
   "source": [
    "# This is the dataset which will be used for fitting Machine Learning models\n",
    "df.head()"
   ]
  },
  {
   "cell_type": "code",
   "execution_count": 32,
   "metadata": {},
   "outputs": [
    {
     "data": {
      "text/plain": [
       "BJP       420\n",
       "INC       411\n",
       "Other     247\n",
       "IND       193\n",
       "BSP       161\n",
       "CPI(M)    100\n",
       "AITC       47\n",
       "VBA        47\n",
       "SP         39\n",
       "MNM        35\n",
       "NTK        34\n",
       "SHS        26\n",
       "AAP        25\n",
       "YSRCP      25\n",
       "TDP        25\n",
       "DMK        23\n",
       "NCP        21\n",
       "BJD        21\n",
       "AIADMK     21\n",
       "RJD        21\n",
       "JnP        19\n",
       "JD(U)      18\n",
       "TRS        17\n",
       "Name: PARTY, dtype: int64"
      ]
     },
     "execution_count": 32,
     "metadata": {},
     "output_type": "execute_result"
    }
   ],
   "source": [
    "# Labeling parties with less than 10 candidates as others\n",
    "less_candidates = []\n",
    "for i, j in df['PARTY'].value_counts().items():\n",
    "    if j <= 10:\n",
    "        less_candidates.append(i)\n",
    "len(less_candidates)\n",
    "\n",
    "def small_party(data):\n",
    "    if data in less_candidates:\n",
    "        return 'Other'\n",
    "    return data\n",
    "df['PARTY'] = df['PARTY'].apply(small_party)\n",
    "df['PARTY'].value_counts()"
   ]
  },
  {
   "cell_type": "code",
   "execution_count": 33,
   "metadata": {},
   "outputs": [
    {
     "data": {
      "text/html": [
       "<div>\n",
       "<style scoped>\n",
       "    .dataframe tbody tr th:only-of-type {\n",
       "        vertical-align: middle;\n",
       "    }\n",
       "\n",
       "    .dataframe tbody tr th {\n",
       "        vertical-align: top;\n",
       "    }\n",
       "\n",
       "    .dataframe thead th {\n",
       "        text-align: right;\n",
       "    }\n",
       "</style>\n",
       "<table border=\"1\" class=\"dataframe\">\n",
       "  <thead>\n",
       "    <tr style=\"text-align: right;\">\n",
       "      <th></th>\n",
       "      <th>STATE</th>\n",
       "      <th>PARTY</th>\n",
       "      <th>GENDER</th>\n",
       "      <th>CRIMINALCASES</th>\n",
       "      <th>AGE</th>\n",
       "      <th>CATEGORY</th>\n",
       "      <th>EDUCATION</th>\n",
       "      <th>ASSETS</th>\n",
       "      <th>LIABILITIES</th>\n",
       "      <th>TOTAL ELECTORS</th>\n",
       "    </tr>\n",
       "  </thead>\n",
       "  <tbody>\n",
       "    <tr>\n",
       "      <th>0</th>\n",
       "      <td>Telangana</td>\n",
       "      <td>BJP</td>\n",
       "      <td>MALE</td>\n",
       "      <td>52</td>\n",
       "      <td>52.0</td>\n",
       "      <td>ST</td>\n",
       "      <td>12th Pass</td>\n",
       "      <td>3099414.0</td>\n",
       "      <td>231450.0</td>\n",
       "      <td>1489790</td>\n",
       "    </tr>\n",
       "    <tr>\n",
       "      <th>1</th>\n",
       "      <td>Telangana</td>\n",
       "      <td>TRS</td>\n",
       "      <td>MALE</td>\n",
       "      <td>0</td>\n",
       "      <td>54.0</td>\n",
       "      <td>ST</td>\n",
       "      <td>Post Graduate</td>\n",
       "      <td>18477888.0</td>\n",
       "      <td>847000.0</td>\n",
       "      <td>1489790</td>\n",
       "    </tr>\n",
       "    <tr>\n",
       "      <th>2</th>\n",
       "      <td>Telangana</td>\n",
       "      <td>INC</td>\n",
       "      <td>MALE</td>\n",
       "      <td>3</td>\n",
       "      <td>52.0</td>\n",
       "      <td>ST</td>\n",
       "      <td>12th Pass</td>\n",
       "      <td>36491000.0</td>\n",
       "      <td>15300000.0</td>\n",
       "      <td>1489790</td>\n",
       "    </tr>\n",
       "    <tr>\n",
       "      <th>4</th>\n",
       "      <td>Uttar Pradesh</td>\n",
       "      <td>BJP</td>\n",
       "      <td>MALE</td>\n",
       "      <td>5</td>\n",
       "      <td>58.0</td>\n",
       "      <td>SC</td>\n",
       "      <td>Doctorate</td>\n",
       "      <td>74274036.0</td>\n",
       "      <td>8606522.0</td>\n",
       "      <td>1937690</td>\n",
       "    </tr>\n",
       "    <tr>\n",
       "      <th>5</th>\n",
       "      <td>Uttar Pradesh</td>\n",
       "      <td>BSP</td>\n",
       "      <td>MALE</td>\n",
       "      <td>0</td>\n",
       "      <td>47.0</td>\n",
       "      <td>SC</td>\n",
       "      <td>Post Graduate</td>\n",
       "      <td>133784385.0</td>\n",
       "      <td>22251891.0</td>\n",
       "      <td>1937690</td>\n",
       "    </tr>\n",
       "  </tbody>\n",
       "</table>\n",
       "</div>"
      ],
      "text/plain": [
       "           STATE PARTY GENDER  CRIMINALCASES   AGE CATEGORY      EDUCATION  \\\n",
       "0      Telangana   BJP   MALE             52  52.0       ST      12th Pass   \n",
       "1      Telangana   TRS   MALE              0  54.0       ST  Post Graduate   \n",
       "2      Telangana   INC   MALE              3  52.0       ST      12th Pass   \n",
       "4  Uttar Pradesh   BJP   MALE              5  58.0       SC      Doctorate   \n",
       "5  Uttar Pradesh   BSP   MALE              0  47.0       SC  Post Graduate   \n",
       "\n",
       "        ASSETS  LIABILITIES  TOTAL ELECTORS  \n",
       "0    3099414.0     231450.0         1489790  \n",
       "1   18477888.0     847000.0         1489790  \n",
       "2   36491000.0   15300000.0         1489790  \n",
       "4   74274036.0    8606522.0         1937690  \n",
       "5  133784385.0   22251891.0         1937690  "
      ]
     },
     "execution_count": 33,
     "metadata": {},
     "output_type": "execute_result"
    }
   ],
   "source": [
    "X = df.drop(['NAME', 'SYMBOL', 'WINNER', 'GENERALVOTES', 'POSTALVOTES', 'TOTALVOTES', 'OVER TOTAL ELECTORS IN CONSTITUENCY', \n",
    "             'OVER TOTAL VOTES POLLED IN CONSTITUENCY', 'Party New', 'CONSTITUENCY'], axis=1)\n",
    "y = df['WINNER']\n",
    "X.head()"
   ]
  },
  {
   "cell_type": "code",
   "execution_count": 34,
   "metadata": {},
   "outputs": [],
   "source": [
    "# Creating training and test dataset\n",
    "X_train, X_test, y_train, y_test = train_test_split(X, y, test_size=0.30, random_state=42)"
   ]
  },
  {
   "cell_type": "code",
   "execution_count": 35,
   "metadata": {},
   "outputs": [],
   "source": [
    "categorical = []\n",
    "numerical = []\n",
    "\n",
    "# Converting Strings to Category\n",
    "for label, content in X.items():\n",
    "    if pd.api.types.is_string_dtype(content):\n",
    "        X[label] = content.astype(\"category\")\n",
    "        categorical.append(label)\n",
    "\n",
    "    if pd.api.types.is_numeric_dtype(content):\n",
    "        numerical.append(label)"
   ]
  },
  {
   "cell_type": "code",
   "execution_count": 36,
   "metadata": {},
   "outputs": [],
   "source": [
    "# Initializing the StandardScaler()\n",
    "scaler = MinMaxScaler()\n",
    "encoder = OrdinalEncoder()\n",
    "\n",
    "# Encoding the categorical columns\n",
    "for cat in categorical:\n",
    "    label_fit = encoder.fit(np.array(X[cat]).reshape(-1, 1))\n",
    "    X_train[cat] = label_fit.transform(np.array(X_train[cat]).reshape(-1, 1))\n",
    "    X_test[cat] = label_fit.transform(np.array(X_test[cat]).reshape(-1, 1))\n",
    "    \n",
    "# Scaling the dataset\n",
    "scaler_fit = scaler.fit(X[numerical])\n",
    "X_train[numerical] = scaler_fit.transform(X_train[numerical])\n",
    "X_test[numerical] = scaler_fit.transform(X_test[numerical])"
   ]
  },
  {
   "cell_type": "code",
   "execution_count": 42,
   "metadata": {},
   "outputs": [],
   "source": [
    "# Encoding the target\n",
    "target_enc = LabelEncoder().fit(y_train)\n",
    "y_train = target_enc.transform(y_train)\n",
    "y_test = target_enc.transform(y_test)"
   ]
  },
  {
   "cell_type": "markdown",
   "metadata": {},
   "source": [
    "### 7.2 Upsampling the dataset"
   ]
  },
  {
   "cell_type": "code",
   "execution_count": 43,
   "metadata": {},
   "outputs": [
    {
     "data": {
      "text/plain": [
       "Counter({1: 382, 0: 1015})"
      ]
     },
     "execution_count": 43,
     "metadata": {},
     "output_type": "execute_result"
    }
   ],
   "source": [
    "Counter(y_train)"
   ]
  },
  {
   "cell_type": "code",
   "execution_count": 44,
   "metadata": {},
   "outputs": [
    {
     "name": "stdout",
     "output_type": "stream",
     "text": [
      "Counter({1: 1015, 0: 1015})\n"
     ]
    }
   ],
   "source": [
    "oversample = SMOTE()\n",
    "X_train, y_train = oversample.fit_resample(X_train, y_train)\n",
    "counter = Counter(y_train)\n",
    "print(counter)"
   ]
  },
  {
   "cell_type": "markdown",
   "metadata": {},
   "source": [
    "## 8. Machine learning model experimentation"
   ]
  },
  {
   "cell_type": "code",
   "execution_count": 56,
   "metadata": {},
   "outputs": [],
   "source": [
    "np.random.seed(42)\n",
    "\n",
    "# Create a dictionary of the models to experiment\n",
    "models = {\n",
    "          \"Random Forest\" : RandomForestClassifier(n_jobs=-1),\n",
    "          \"Support Vector Machines\" : SVC(),\n",
    "          \"K-Nearest Neighbors\" : KNeighborsClassifier(),\n",
    "          \"Logistic Regression\"  : LogisticRegression(),\n",
    "          \"XG Boosting\" : xgb.XGBClassifier(n_jobs=-1),\n",
    "          \"Cat Boosting\": CatBoostClassifier(),\n",
    "          \"Gradient Boosting\"  : GradientBoostingClassifier(),\n",
    "          \"ADA Boosting\" : AdaBoostClassifier(),\n",
    "          \"LG Boosting\" : lgb.LGBMClassifier(),\n",
    "          \"Decision Trees\" : DecisionTreeClassifier()\n",
    "         }\n",
    "\n",
    "# Create a function to fit and score the models\n",
    "def fit_and_score(models, X_train, y_train, X_test, y_test):\n",
    "    '''\n",
    "    Fits and evaluates the machine learning models.\n",
    "    models : a dict of different Scikit-Learn machine learning models.\n",
    "    X_train : training data (no labels)\n",
    "    y_train : training lables\n",
    "    X_test : testing data (no labels)\n",
    "    y_test : testing lables\n",
    "    '''\n",
    "    train_model_scores_acc = {}\n",
    "    train_model_scores_pre = {}\n",
    "    train_model_scores_rec = {}\n",
    "    train_model_scores_f1 = {}\n",
    "    \n",
    "    test_model_scores_acc = {}\n",
    "    test_model_scores_pre = {}\n",
    "    test_model_scores_rec = {}\n",
    "    test_model_scores_f1 = {}\n",
    "    \n",
    "    train_model_timing = {}\n",
    "    \n",
    "    for name, model in models.items():\n",
    "        start = time.time()\n",
    "        train_model_scores_acc[name] = np.mean(cross_val_score(model, X_train, y_train, cv=10, n_jobs=-1, scoring='accuracy')) * 100\n",
    "        train_model_scores_pre[name] = np.mean(cross_val_score(model, X_train, y_train, cv=10, n_jobs=-1, scoring='precision')) * 100\n",
    "        train_model_scores_rec[name] = np.mean(cross_val_score(model, X_train, y_train, cv=10, n_jobs=-1, scoring='recall')) * 100\n",
    "        train_model_scores_f1[name] = np.mean(cross_val_score(model, X_train, y_train, cv=10, n_jobs=-1, scoring='f1')) * 100\n",
    "        stop = time.time()\n",
    "        timing = stop - start\n",
    "        train_model_timing[name] = timing\n",
    "        \n",
    "        model.fit(X_train, y_train)\n",
    "        pred = model.predict(X_test)\n",
    "        \n",
    "        test_model_scores_acc[name] = accuracy_score(y_test, pred) * 100\n",
    "        test_model_scores_pre[name] = precision_score(y_test, pred) * 100\n",
    "        test_model_scores_rec[name] = recall_score(y_test, pred) * 100\n",
    "        test_model_scores_f1[name] = f1_score(y_test, pred) * 100\n",
    "        \n",
    "    # Create dictionary for oil scores\n",
    "    scores = {'Training Accuracy': train_model_scores_acc,\n",
    "              'Training Precision': train_model_scores_pre,\n",
    "              'Training Recall': train_model_scores_rec,\n",
    "              'Training F1': train_model_scores_f1,\n",
    "              'Test Accuracy':  test_model_scores_acc,\n",
    "              'Test Precision': test_model_scores_pre,\n",
    "              'Test Recall': test_model_scores_rec,\n",
    "              'Test F1': test_model_scores_f1,\n",
    "              '10-Fold CV Timing (seconds)': train_model_timing\n",
    "             }\n",
    "\n",
    "    # Create dataframe of scores\n",
    "    scores_df = pd.DataFrame(scores)\n",
    "\n",
    "    scores_df.rename_axis('Model', inplace=True)\n",
    "    scores_df.reset_index(inplace=True)\n",
    "    scores_df.sort_values('Test Accuracy', ascending=False, inplace=True)\n",
    "    return scores_df"
   ]
  },
  {
   "cell_type": "code",
   "execution_count": 57,
   "metadata": {},
   "outputs": [
    {
     "name": "stderr",
     "output_type": "stream",
     "text": [
      "C:\\ProgramData\\Anaconda3\\lib\\site-packages\\sklearn\\linear_model\\_logistic.py:763: ConvergenceWarning:\n",
      "\n",
      "lbfgs failed to converge (status=1):\n",
      "STOP: TOTAL NO. of ITERATIONS REACHED LIMIT.\n",
      "\n",
      "Increase the number of iterations (max_iter) or scale the data as shown in:\n",
      "    https://scikit-learn.org/stable/modules/preprocessing.html\n",
      "Please also refer to the documentation for alternative solver options:\n",
      "    https://scikit-learn.org/stable/modules/linear_model.html#logistic-regression\n",
      "\n",
      "C:\\ProgramData\\Anaconda3\\lib\\site-packages\\xgboost\\sklearn.py:1146: UserWarning:\n",
      "\n",
      "The use of label encoder in XGBClassifier is deprecated and will be removed in a future release. To remove this warning, do the following: 1) Pass option use_label_encoder=False when constructing XGBClassifier object; and 2) Encode your labels (y) as integers starting with 0, i.e. 0, 1, 2, ..., [num_class - 1].\n",
      "\n"
     ]
    },
    {
     "name": "stdout",
     "output_type": "stream",
     "text": [
      "[18:13:13] WARNING: ..\\src\\learner.cc:1095: Starting in XGBoost 1.3.0, the default evaluation metric used with the objective 'binary:logistic' was changed from 'error' to 'logloss'. Explicitly set eval_metric if you'd like to restore the old behavior.\n"
     ]
    },
    {
     "name": "stderr",
     "output_type": "stream",
     "text": [
      "C:\\ProgramData\\Anaconda3\\lib\\site-packages\\xgboost\\data.py:112: UserWarning:\n",
      "\n",
      "Use subset (sliced data) of np.ndarray is not recommended because it will generate extra copies and increase memory consumption\n",
      "\n"
     ]
    },
    {
     "name": "stdout",
     "output_type": "stream",
     "text": [
      "Learning rate set to 0.013939\n",
      "0:\tlearn: 0.6843460\ttotal: 2.66ms\tremaining: 2.66s\n",
      "1:\tlearn: 0.6766777\ttotal: 5.2ms\tremaining: 2.59s\n",
      "2:\tlearn: 0.6685430\ttotal: 7.62ms\tremaining: 2.53s\n",
      "3:\tlearn: 0.6615582\ttotal: 10.1ms\tremaining: 2.52s\n",
      "4:\tlearn: 0.6535489\ttotal: 12.6ms\tremaining: 2.5s\n",
      "5:\tlearn: 0.6464548\ttotal: 15.1ms\tremaining: 2.51s\n",
      "6:\tlearn: 0.6406101\ttotal: 17.7ms\tremaining: 2.5s\n",
      "7:\tlearn: 0.6329600\ttotal: 20.2ms\tremaining: 2.5s\n",
      "8:\tlearn: 0.6272461\ttotal: 22.6ms\tremaining: 2.49s\n",
      "9:\tlearn: 0.6211074\ttotal: 25.2ms\tremaining: 2.49s\n",
      "10:\tlearn: 0.6152512\ttotal: 27.8ms\tremaining: 2.5s\n",
      "11:\tlearn: 0.6110427\ttotal: 30.4ms\tremaining: 2.5s\n",
      "12:\tlearn: 0.6045401\ttotal: 33.2ms\tremaining: 2.52s\n",
      "13:\tlearn: 0.5991831\ttotal: 35.7ms\tremaining: 2.52s\n",
      "14:\tlearn: 0.5943916\ttotal: 38.2ms\tremaining: 2.5s\n",
      "15:\tlearn: 0.5893871\ttotal: 40.7ms\tremaining: 2.5s\n",
      "16:\tlearn: 0.5844078\ttotal: 43.2ms\tremaining: 2.5s\n",
      "17:\tlearn: 0.5801181\ttotal: 45.7ms\tremaining: 2.49s\n",
      "18:\tlearn: 0.5750667\ttotal: 48.2ms\tremaining: 2.49s\n",
      "19:\tlearn: 0.5712496\ttotal: 50.7ms\tremaining: 2.48s\n",
      "20:\tlearn: 0.5674970\ttotal: 53.1ms\tremaining: 2.47s\n",
      "21:\tlearn: 0.5641289\ttotal: 55.6ms\tremaining: 2.47s\n",
      "22:\tlearn: 0.5596307\ttotal: 58ms\tremaining: 2.46s\n",
      "23:\tlearn: 0.5548479\ttotal: 60.4ms\tremaining: 2.46s\n",
      "24:\tlearn: 0.5503230\ttotal: 62.8ms\tremaining: 2.45s\n",
      "25:\tlearn: 0.5464096\ttotal: 65.2ms\tremaining: 2.44s\n",
      "26:\tlearn: 0.5422032\ttotal: 67.9ms\tremaining: 2.44s\n",
      "27:\tlearn: 0.5381739\ttotal: 70.4ms\tremaining: 2.44s\n",
      "28:\tlearn: 0.5353163\ttotal: 72.9ms\tremaining: 2.44s\n",
      "29:\tlearn: 0.5324526\ttotal: 75.3ms\tremaining: 2.43s\n",
      "30:\tlearn: 0.5292254\ttotal: 77.7ms\tremaining: 2.43s\n",
      "31:\tlearn: 0.5264409\ttotal: 80.1ms\tremaining: 2.42s\n",
      "32:\tlearn: 0.5236493\ttotal: 82.5ms\tremaining: 2.42s\n",
      "33:\tlearn: 0.5203207\ttotal: 85ms\tremaining: 2.41s\n",
      "34:\tlearn: 0.5180239\ttotal: 87.4ms\tremaining: 2.41s\n",
      "35:\tlearn: 0.5150528\ttotal: 90ms\tremaining: 2.41s\n",
      "36:\tlearn: 0.5120314\ttotal: 92.5ms\tremaining: 2.41s\n",
      "37:\tlearn: 0.5100270\ttotal: 94.9ms\tremaining: 2.4s\n",
      "38:\tlearn: 0.5069265\ttotal: 97.4ms\tremaining: 2.4s\n",
      "39:\tlearn: 0.5033380\ttotal: 99.8ms\tremaining: 2.4s\n",
      "40:\tlearn: 0.5009289\ttotal: 102ms\tremaining: 2.39s\n",
      "41:\tlearn: 0.4988430\ttotal: 105ms\tremaining: 2.39s\n",
      "42:\tlearn: 0.4967806\ttotal: 107ms\tremaining: 2.38s\n",
      "43:\tlearn: 0.4945834\ttotal: 109ms\tremaining: 2.38s\n",
      "44:\tlearn: 0.4919089\ttotal: 112ms\tremaining: 2.37s\n",
      "45:\tlearn: 0.4888295\ttotal: 114ms\tremaining: 2.37s\n",
      "46:\tlearn: 0.4863102\ttotal: 117ms\tremaining: 2.36s\n",
      "47:\tlearn: 0.4840475\ttotal: 119ms\tremaining: 2.36s\n",
      "48:\tlearn: 0.4818099\ttotal: 121ms\tremaining: 2.36s\n",
      "49:\tlearn: 0.4788675\ttotal: 124ms\tremaining: 2.35s\n",
      "50:\tlearn: 0.4766798\ttotal: 126ms\tremaining: 2.35s\n",
      "51:\tlearn: 0.4747790\ttotal: 129ms\tremaining: 2.35s\n",
      "52:\tlearn: 0.4730470\ttotal: 131ms\tremaining: 2.34s\n",
      "53:\tlearn: 0.4705540\ttotal: 133ms\tremaining: 2.34s\n",
      "54:\tlearn: 0.4685815\ttotal: 136ms\tremaining: 2.33s\n",
      "55:\tlearn: 0.4664421\ttotal: 138ms\tremaining: 2.33s\n",
      "56:\tlearn: 0.4646947\ttotal: 141ms\tremaining: 2.33s\n",
      "57:\tlearn: 0.4633716\ttotal: 143ms\tremaining: 2.32s\n",
      "58:\tlearn: 0.4618857\ttotal: 145ms\tremaining: 2.32s\n",
      "59:\tlearn: 0.4594745\ttotal: 148ms\tremaining: 2.32s\n",
      "60:\tlearn: 0.4573703\ttotal: 150ms\tremaining: 2.31s\n",
      "61:\tlearn: 0.4558213\ttotal: 153ms\tremaining: 2.31s\n",
      "62:\tlearn: 0.4540626\ttotal: 155ms\tremaining: 2.31s\n",
      "63:\tlearn: 0.4521796\ttotal: 158ms\tremaining: 2.3s\n",
      "64:\tlearn: 0.4504885\ttotal: 160ms\tremaining: 2.3s\n",
      "65:\tlearn: 0.4491728\ttotal: 163ms\tremaining: 2.3s\n",
      "66:\tlearn: 0.4477062\ttotal: 165ms\tremaining: 2.3s\n",
      "67:\tlearn: 0.4459890\ttotal: 167ms\tremaining: 2.29s\n",
      "68:\tlearn: 0.4443119\ttotal: 170ms\tremaining: 2.3s\n",
      "69:\tlearn: 0.4430832\ttotal: 173ms\tremaining: 2.3s\n",
      "70:\tlearn: 0.4416691\ttotal: 175ms\tremaining: 2.29s\n",
      "71:\tlearn: 0.4398983\ttotal: 178ms\tremaining: 2.29s\n",
      "72:\tlearn: 0.4384612\ttotal: 180ms\tremaining: 2.29s\n",
      "73:\tlearn: 0.4367588\ttotal: 183ms\tremaining: 2.29s\n",
      "74:\tlearn: 0.4354616\ttotal: 186ms\tremaining: 2.29s\n",
      "75:\tlearn: 0.4342160\ttotal: 188ms\tremaining: 2.29s\n",
      "76:\tlearn: 0.4332449\ttotal: 191ms\tremaining: 2.29s\n",
      "77:\tlearn: 0.4320404\ttotal: 194ms\tremaining: 2.29s\n",
      "78:\tlearn: 0.4308040\ttotal: 197ms\tremaining: 2.3s\n",
      "79:\tlearn: 0.4291539\ttotal: 200ms\tremaining: 2.29s\n",
      "80:\tlearn: 0.4282237\ttotal: 202ms\tremaining: 2.29s\n",
      "81:\tlearn: 0.4263063\ttotal: 205ms\tremaining: 2.29s\n",
      "82:\tlearn: 0.4251056\ttotal: 207ms\tremaining: 2.29s\n",
      "83:\tlearn: 0.4242315\ttotal: 209ms\tremaining: 2.28s\n",
      "84:\tlearn: 0.4232260\ttotal: 212ms\tremaining: 2.28s\n",
      "85:\tlearn: 0.4216576\ttotal: 214ms\tremaining: 2.28s\n",
      "86:\tlearn: 0.4201388\ttotal: 217ms\tremaining: 2.27s\n",
      "87:\tlearn: 0.4185398\ttotal: 219ms\tremaining: 2.27s\n",
      "88:\tlearn: 0.4174746\ttotal: 221ms\tremaining: 2.27s\n",
      "89:\tlearn: 0.4162574\ttotal: 224ms\tremaining: 2.26s\n",
      "90:\tlearn: 0.4153048\ttotal: 226ms\tremaining: 2.26s\n",
      "91:\tlearn: 0.4142080\ttotal: 229ms\tremaining: 2.26s\n",
      "92:\tlearn: 0.4123536\ttotal: 231ms\tremaining: 2.25s\n",
      "93:\tlearn: 0.4115124\ttotal: 234ms\tremaining: 2.25s\n",
      "94:\tlearn: 0.4103822\ttotal: 236ms\tremaining: 2.25s\n",
      "95:\tlearn: 0.4092079\ttotal: 238ms\tremaining: 2.24s\n",
      "96:\tlearn: 0.4087263\ttotal: 241ms\tremaining: 2.24s\n",
      "97:\tlearn: 0.4077985\ttotal: 243ms\tremaining: 2.24s\n",
      "98:\tlearn: 0.4069501\ttotal: 246ms\tremaining: 2.23s\n",
      "99:\tlearn: 0.4062607\ttotal: 248ms\tremaining: 2.23s\n",
      "100:\tlearn: 0.4052315\ttotal: 250ms\tremaining: 2.23s\n",
      "101:\tlearn: 0.4043255\ttotal: 253ms\tremaining: 2.23s\n",
      "102:\tlearn: 0.4034979\ttotal: 255ms\tremaining: 2.22s\n",
      "103:\tlearn: 0.4026779\ttotal: 258ms\tremaining: 2.22s\n",
      "104:\tlearn: 0.4016204\ttotal: 260ms\tremaining: 2.22s\n",
      "105:\tlearn: 0.4004191\ttotal: 262ms\tremaining: 2.21s\n",
      "106:\tlearn: 0.3997482\ttotal: 265ms\tremaining: 2.21s\n",
      "107:\tlearn: 0.3988523\ttotal: 267ms\tremaining: 2.21s\n",
      "108:\tlearn: 0.3981641\ttotal: 270ms\tremaining: 2.2s\n",
      "109:\tlearn: 0.3976626\ttotal: 272ms\tremaining: 2.2s\n",
      "110:\tlearn: 0.3960896\ttotal: 274ms\tremaining: 2.2s\n",
      "111:\tlearn: 0.3951219\ttotal: 277ms\tremaining: 2.19s\n",
      "112:\tlearn: 0.3944715\ttotal: 279ms\tremaining: 2.19s\n",
      "113:\tlearn: 0.3935574\ttotal: 282ms\tremaining: 2.19s\n",
      "114:\tlearn: 0.3925988\ttotal: 284ms\tremaining: 2.19s\n",
      "115:\tlearn: 0.3911910\ttotal: 286ms\tremaining: 2.18s\n",
      "116:\tlearn: 0.3902681\ttotal: 289ms\tremaining: 2.18s\n",
      "117:\tlearn: 0.3896861\ttotal: 291ms\tremaining: 2.18s\n",
      "118:\tlearn: 0.3885686\ttotal: 294ms\tremaining: 2.17s\n",
      "119:\tlearn: 0.3880516\ttotal: 296ms\tremaining: 2.17s\n",
      "120:\tlearn: 0.3874672\ttotal: 299ms\tremaining: 2.17s\n",
      "121:\tlearn: 0.3869532\ttotal: 301ms\tremaining: 2.17s\n",
      "122:\tlearn: 0.3862694\ttotal: 304ms\tremaining: 2.16s\n",
      "123:\tlearn: 0.3846514\ttotal: 306ms\tremaining: 2.16s\n",
      "124:\tlearn: 0.3839644\ttotal: 308ms\tremaining: 2.16s\n",
      "125:\tlearn: 0.3832562\ttotal: 311ms\tremaining: 2.15s\n",
      "126:\tlearn: 0.3826183\ttotal: 313ms\tremaining: 2.15s\n",
      "127:\tlearn: 0.3814306\ttotal: 316ms\tremaining: 2.15s\n",
      "128:\tlearn: 0.3808789\ttotal: 318ms\tremaining: 2.15s\n",
      "129:\tlearn: 0.3804196\ttotal: 320ms\tremaining: 2.14s\n",
      "130:\tlearn: 0.3798562\ttotal: 323ms\tremaining: 2.14s\n",
      "131:\tlearn: 0.3786518\ttotal: 325ms\tremaining: 2.14s\n",
      "132:\tlearn: 0.3780594\ttotal: 328ms\tremaining: 2.14s\n",
      "133:\tlearn: 0.3774599\ttotal: 330ms\tremaining: 2.13s\n",
      "134:\tlearn: 0.3768748\ttotal: 333ms\tremaining: 2.13s\n",
      "135:\tlearn: 0.3760624\ttotal: 335ms\tremaining: 2.13s\n",
      "136:\tlearn: 0.3753806\ttotal: 337ms\tremaining: 2.13s\n",
      "137:\tlearn: 0.3747314\ttotal: 340ms\tremaining: 2.12s\n",
      "138:\tlearn: 0.3741381\ttotal: 342ms\tremaining: 2.12s\n",
      "139:\tlearn: 0.3734777\ttotal: 345ms\tremaining: 2.12s\n",
      "140:\tlearn: 0.3729312\ttotal: 347ms\tremaining: 2.11s\n",
      "141:\tlearn: 0.3721782\ttotal: 349ms\tremaining: 2.11s\n",
      "142:\tlearn: 0.3710773\ttotal: 352ms\tremaining: 2.11s\n",
      "143:\tlearn: 0.3706535\ttotal: 355ms\tremaining: 2.11s\n",
      "144:\tlearn: 0.3701654\ttotal: 357ms\tremaining: 2.1s\n",
      "145:\tlearn: 0.3695199\ttotal: 360ms\tremaining: 2.1s\n",
      "146:\tlearn: 0.3690052\ttotal: 362ms\tremaining: 2.1s\n",
      "147:\tlearn: 0.3686146\ttotal: 365ms\tremaining: 2.1s\n",
      "148:\tlearn: 0.3679321\ttotal: 367ms\tremaining: 2.1s\n",
      "149:\tlearn: 0.3673058\ttotal: 370ms\tremaining: 2.1s\n",
      "150:\tlearn: 0.3666592\ttotal: 373ms\tremaining: 2.1s\n",
      "151:\tlearn: 0.3657255\ttotal: 376ms\tremaining: 2.1s\n",
      "152:\tlearn: 0.3652702\ttotal: 378ms\tremaining: 2.09s\n",
      "153:\tlearn: 0.3648789\ttotal: 381ms\tremaining: 2.09s\n",
      "154:\tlearn: 0.3642556\ttotal: 384ms\tremaining: 2.09s\n",
      "155:\tlearn: 0.3638496\ttotal: 386ms\tremaining: 2.09s\n",
      "156:\tlearn: 0.3630540\ttotal: 388ms\tremaining: 2.08s\n",
      "157:\tlearn: 0.3618926\ttotal: 391ms\tremaining: 2.08s\n",
      "158:\tlearn: 0.3611494\ttotal: 394ms\tremaining: 2.08s\n",
      "159:\tlearn: 0.3604783\ttotal: 396ms\tremaining: 2.08s\n",
      "160:\tlearn: 0.3599288\ttotal: 399ms\tremaining: 2.08s\n",
      "161:\tlearn: 0.3592824\ttotal: 401ms\tremaining: 2.08s\n",
      "162:\tlearn: 0.3588629\ttotal: 404ms\tremaining: 2.07s\n",
      "163:\tlearn: 0.3584181\ttotal: 406ms\tremaining: 2.07s\n",
      "164:\tlearn: 0.3578309\ttotal: 409ms\tremaining: 2.07s\n",
      "165:\tlearn: 0.3573066\ttotal: 411ms\tremaining: 2.07s\n",
      "166:\tlearn: 0.3568411\ttotal: 414ms\tremaining: 2.06s\n",
      "167:\tlearn: 0.3563809\ttotal: 416ms\tremaining: 2.06s\n",
      "168:\tlearn: 0.3559632\ttotal: 419ms\tremaining: 2.06s\n",
      "169:\tlearn: 0.3552475\ttotal: 421ms\tremaining: 2.05s\n",
      "170:\tlearn: 0.3546810\ttotal: 423ms\tremaining: 2.05s\n",
      "171:\tlearn: 0.3538627\ttotal: 426ms\tremaining: 2.05s\n",
      "172:\tlearn: 0.3534892\ttotal: 428ms\tremaining: 2.05s\n",
      "173:\tlearn: 0.3531628\ttotal: 431ms\tremaining: 2.04s\n",
      "174:\tlearn: 0.3526681\ttotal: 433ms\tremaining: 2.04s\n",
      "175:\tlearn: 0.3519742\ttotal: 436ms\tremaining: 2.04s\n",
      "176:\tlearn: 0.3514482\ttotal: 438ms\tremaining: 2.04s\n",
      "177:\tlearn: 0.3509522\ttotal: 440ms\tremaining: 2.03s\n",
      "178:\tlearn: 0.3503319\ttotal: 443ms\tremaining: 2.03s\n",
      "179:\tlearn: 0.3498773\ttotal: 445ms\tremaining: 2.03s\n",
      "180:\tlearn: 0.3492719\ttotal: 448ms\tremaining: 2.02s\n",
      "181:\tlearn: 0.3485648\ttotal: 450ms\tremaining: 2.02s\n",
      "182:\tlearn: 0.3477415\ttotal: 452ms\tremaining: 2.02s\n",
      "183:\tlearn: 0.3471057\ttotal: 455ms\tremaining: 2.02s\n",
      "184:\tlearn: 0.3468426\ttotal: 457ms\tremaining: 2.01s\n",
      "185:\tlearn: 0.3462950\ttotal: 460ms\tremaining: 2.01s\n",
      "186:\tlearn: 0.3454608\ttotal: 462ms\tremaining: 2.01s\n",
      "187:\tlearn: 0.3447426\ttotal: 464ms\tremaining: 2s\n",
      "188:\tlearn: 0.3442147\ttotal: 467ms\tremaining: 2s\n",
      "189:\tlearn: 0.3435267\ttotal: 469ms\tremaining: 2s\n",
      "190:\tlearn: 0.3431652\ttotal: 472ms\tremaining: 2s\n",
      "191:\tlearn: 0.3427519\ttotal: 474ms\tremaining: 1.99s\n",
      "192:\tlearn: 0.3421610\ttotal: 476ms\tremaining: 1.99s\n",
      "193:\tlearn: 0.3417790\ttotal: 479ms\tremaining: 1.99s\n",
      "194:\tlearn: 0.3415198\ttotal: 481ms\tremaining: 1.99s\n",
      "195:\tlearn: 0.3410653\ttotal: 484ms\tremaining: 1.98s\n",
      "196:\tlearn: 0.3405114\ttotal: 486ms\tremaining: 1.98s\n",
      "197:\tlearn: 0.3397471\ttotal: 488ms\tremaining: 1.98s\n",
      "198:\tlearn: 0.3391190\ttotal: 491ms\tremaining: 1.98s\n",
      "199:\tlearn: 0.3387750\ttotal: 493ms\tremaining: 1.97s\n",
      "200:\tlearn: 0.3384222\ttotal: 496ms\tremaining: 1.97s\n",
      "201:\tlearn: 0.3380845\ttotal: 499ms\tremaining: 1.97s\n",
      "202:\tlearn: 0.3374120\ttotal: 501ms\tremaining: 1.97s\n",
      "203:\tlearn: 0.3371433\ttotal: 504ms\tremaining: 1.97s\n",
      "204:\tlearn: 0.3359790\ttotal: 507ms\tremaining: 1.96s\n",
      "205:\tlearn: 0.3353215\ttotal: 509ms\tremaining: 1.96s\n",
      "206:\tlearn: 0.3350637\ttotal: 512ms\tremaining: 1.96s\n",
      "207:\tlearn: 0.3347157\ttotal: 514ms\tremaining: 1.96s\n",
      "208:\tlearn: 0.3341782\ttotal: 516ms\tremaining: 1.95s\n",
      "209:\tlearn: 0.3335667\ttotal: 519ms\tremaining: 1.95s\n",
      "210:\tlearn: 0.3332889\ttotal: 521ms\tremaining: 1.95s\n",
      "211:\tlearn: 0.3329243\ttotal: 524ms\tremaining: 1.95s\n",
      "212:\tlearn: 0.3325633\ttotal: 526ms\tremaining: 1.94s\n",
      "213:\tlearn: 0.3320560\ttotal: 528ms\tremaining: 1.94s\n"
     ]
    },
    {
     "name": "stdout",
     "output_type": "stream",
     "text": [
      "214:\tlearn: 0.3317326\ttotal: 531ms\tremaining: 1.94s\n",
      "215:\tlearn: 0.3313484\ttotal: 534ms\tremaining: 1.94s\n",
      "216:\tlearn: 0.3307360\ttotal: 536ms\tremaining: 1.94s\n",
      "217:\tlearn: 0.3303912\ttotal: 539ms\tremaining: 1.93s\n",
      "218:\tlearn: 0.3299703\ttotal: 541ms\tremaining: 1.93s\n",
      "219:\tlearn: 0.3293780\ttotal: 544ms\tremaining: 1.93s\n",
      "220:\tlearn: 0.3289209\ttotal: 546ms\tremaining: 1.93s\n",
      "221:\tlearn: 0.3285150\ttotal: 549ms\tremaining: 1.92s\n",
      "222:\tlearn: 0.3280182\ttotal: 552ms\tremaining: 1.92s\n",
      "223:\tlearn: 0.3275752\ttotal: 554ms\tremaining: 1.92s\n",
      "224:\tlearn: 0.3264692\ttotal: 557ms\tremaining: 1.92s\n",
      "225:\tlearn: 0.3258928\ttotal: 559ms\tremaining: 1.92s\n",
      "226:\tlearn: 0.3255919\ttotal: 562ms\tremaining: 1.91s\n",
      "227:\tlearn: 0.3253188\ttotal: 564ms\tremaining: 1.91s\n",
      "228:\tlearn: 0.3250379\ttotal: 567ms\tremaining: 1.91s\n",
      "229:\tlearn: 0.3244324\ttotal: 569ms\tremaining: 1.9s\n",
      "230:\tlearn: 0.3242224\ttotal: 571ms\tremaining: 1.9s\n",
      "231:\tlearn: 0.3239493\ttotal: 574ms\tremaining: 1.9s\n",
      "232:\tlearn: 0.3234369\ttotal: 576ms\tremaining: 1.9s\n",
      "233:\tlearn: 0.3229849\ttotal: 579ms\tremaining: 1.89s\n",
      "234:\tlearn: 0.3226441\ttotal: 581ms\tremaining: 1.89s\n",
      "235:\tlearn: 0.3221614\ttotal: 583ms\tremaining: 1.89s\n",
      "236:\tlearn: 0.3218487\ttotal: 586ms\tremaining: 1.89s\n",
      "237:\tlearn: 0.3214357\ttotal: 589ms\tremaining: 1.88s\n",
      "238:\tlearn: 0.3210128\ttotal: 591ms\tremaining: 1.88s\n",
      "239:\tlearn: 0.3206799\ttotal: 593ms\tremaining: 1.88s\n",
      "240:\tlearn: 0.3204852\ttotal: 596ms\tremaining: 1.88s\n",
      "241:\tlearn: 0.3201200\ttotal: 598ms\tremaining: 1.87s\n",
      "242:\tlearn: 0.3196233\ttotal: 601ms\tremaining: 1.87s\n",
      "243:\tlearn: 0.3192186\ttotal: 603ms\tremaining: 1.87s\n",
      "244:\tlearn: 0.3189160\ttotal: 606ms\tremaining: 1.87s\n",
      "245:\tlearn: 0.3186300\ttotal: 608ms\tremaining: 1.86s\n",
      "246:\tlearn: 0.3182588\ttotal: 611ms\tremaining: 1.86s\n",
      "247:\tlearn: 0.3180054\ttotal: 613ms\tremaining: 1.86s\n",
      "248:\tlearn: 0.3174042\ttotal: 616ms\tremaining: 1.86s\n",
      "249:\tlearn: 0.3169823\ttotal: 618ms\tremaining: 1.85s\n",
      "250:\tlearn: 0.3166825\ttotal: 621ms\tremaining: 1.85s\n",
      "251:\tlearn: 0.3162963\ttotal: 623ms\tremaining: 1.85s\n",
      "252:\tlearn: 0.3156677\ttotal: 625ms\tremaining: 1.85s\n",
      "253:\tlearn: 0.3152637\ttotal: 628ms\tremaining: 1.84s\n",
      "254:\tlearn: 0.3146552\ttotal: 630ms\tremaining: 1.84s\n",
      "255:\tlearn: 0.3142003\ttotal: 633ms\tremaining: 1.84s\n",
      "256:\tlearn: 0.3138083\ttotal: 635ms\tremaining: 1.84s\n",
      "257:\tlearn: 0.3135156\ttotal: 638ms\tremaining: 1.83s\n",
      "258:\tlearn: 0.3132956\ttotal: 640ms\tremaining: 1.83s\n",
      "259:\tlearn: 0.3129361\ttotal: 643ms\tremaining: 1.83s\n",
      "260:\tlearn: 0.3127912\ttotal: 645ms\tremaining: 1.82s\n",
      "261:\tlearn: 0.3125054\ttotal: 647ms\tremaining: 1.82s\n",
      "262:\tlearn: 0.3122062\ttotal: 650ms\tremaining: 1.82s\n",
      "263:\tlearn: 0.3118986\ttotal: 652ms\tremaining: 1.82s\n",
      "264:\tlearn: 0.3113608\ttotal: 655ms\tremaining: 1.81s\n",
      "265:\tlearn: 0.3109737\ttotal: 657ms\tremaining: 1.81s\n",
      "266:\tlearn: 0.3106929\ttotal: 659ms\tremaining: 1.81s\n",
      "267:\tlearn: 0.3103019\ttotal: 662ms\tremaining: 1.81s\n",
      "268:\tlearn: 0.3095814\ttotal: 664ms\tremaining: 1.8s\n",
      "269:\tlearn: 0.3091773\ttotal: 667ms\tremaining: 1.8s\n",
      "270:\tlearn: 0.3088871\ttotal: 669ms\tremaining: 1.8s\n",
      "271:\tlearn: 0.3082777\ttotal: 672ms\tremaining: 1.8s\n",
      "272:\tlearn: 0.3080612\ttotal: 674ms\tremaining: 1.79s\n",
      "273:\tlearn: 0.3076530\ttotal: 676ms\tremaining: 1.79s\n",
      "274:\tlearn: 0.3074225\ttotal: 679ms\tremaining: 1.79s\n",
      "275:\tlearn: 0.3071807\ttotal: 681ms\tremaining: 1.79s\n",
      "276:\tlearn: 0.3067603\ttotal: 683ms\tremaining: 1.78s\n",
      "277:\tlearn: 0.3065798\ttotal: 686ms\tremaining: 1.78s\n",
      "278:\tlearn: 0.3063614\ttotal: 688ms\tremaining: 1.78s\n",
      "279:\tlearn: 0.3059488\ttotal: 691ms\tremaining: 1.78s\n",
      "280:\tlearn: 0.3057248\ttotal: 693ms\tremaining: 1.77s\n",
      "281:\tlearn: 0.3053345\ttotal: 696ms\tremaining: 1.77s\n",
      "282:\tlearn: 0.3051187\ttotal: 698ms\tremaining: 1.77s\n",
      "283:\tlearn: 0.3048719\ttotal: 700ms\tremaining: 1.76s\n",
      "284:\tlearn: 0.3044809\ttotal: 703ms\tremaining: 1.76s\n",
      "285:\tlearn: 0.3040118\ttotal: 705ms\tremaining: 1.76s\n",
      "286:\tlearn: 0.3035413\ttotal: 708ms\tremaining: 1.76s\n",
      "287:\tlearn: 0.3028266\ttotal: 711ms\tremaining: 1.76s\n",
      "288:\tlearn: 0.3023161\ttotal: 713ms\tremaining: 1.75s\n",
      "289:\tlearn: 0.3020249\ttotal: 716ms\tremaining: 1.75s\n",
      "290:\tlearn: 0.3016454\ttotal: 718ms\tremaining: 1.75s\n",
      "291:\tlearn: 0.3012942\ttotal: 721ms\tremaining: 1.75s\n",
      "292:\tlearn: 0.3008312\ttotal: 724ms\tremaining: 1.75s\n",
      "293:\tlearn: 0.3003942\ttotal: 726ms\tremaining: 1.74s\n",
      "294:\tlearn: 0.3000615\ttotal: 729ms\tremaining: 1.74s\n",
      "295:\tlearn: 0.2997601\ttotal: 731ms\tremaining: 1.74s\n",
      "296:\tlearn: 0.2993966\ttotal: 733ms\tremaining: 1.74s\n",
      "297:\tlearn: 0.2991482\ttotal: 736ms\tremaining: 1.73s\n",
      "298:\tlearn: 0.2987778\ttotal: 738ms\tremaining: 1.73s\n",
      "299:\tlearn: 0.2984513\ttotal: 741ms\tremaining: 1.73s\n",
      "300:\tlearn: 0.2982452\ttotal: 743ms\tremaining: 1.73s\n",
      "301:\tlearn: 0.2978016\ttotal: 745ms\tremaining: 1.72s\n",
      "302:\tlearn: 0.2976428\ttotal: 748ms\tremaining: 1.72s\n",
      "303:\tlearn: 0.2972589\ttotal: 750ms\tremaining: 1.72s\n",
      "304:\tlearn: 0.2968962\ttotal: 753ms\tremaining: 1.71s\n",
      "305:\tlearn: 0.2961675\ttotal: 755ms\tremaining: 1.71s\n",
      "306:\tlearn: 0.2956360\ttotal: 757ms\tremaining: 1.71s\n",
      "307:\tlearn: 0.2951796\ttotal: 760ms\tremaining: 1.71s\n",
      "308:\tlearn: 0.2948180\ttotal: 762ms\tremaining: 1.7s\n",
      "309:\tlearn: 0.2943828\ttotal: 765ms\tremaining: 1.7s\n",
      "310:\tlearn: 0.2942527\ttotal: 767ms\tremaining: 1.7s\n",
      "311:\tlearn: 0.2939542\ttotal: 769ms\tremaining: 1.7s\n",
      "312:\tlearn: 0.2934139\ttotal: 772ms\tremaining: 1.69s\n",
      "313:\tlearn: 0.2930919\ttotal: 774ms\tremaining: 1.69s\n",
      "314:\tlearn: 0.2929074\ttotal: 777ms\tremaining: 1.69s\n",
      "315:\tlearn: 0.2927590\ttotal: 779ms\tremaining: 1.69s\n",
      "316:\tlearn: 0.2921019\ttotal: 782ms\tremaining: 1.68s\n",
      "317:\tlearn: 0.2915921\ttotal: 784ms\tremaining: 1.68s\n",
      "318:\tlearn: 0.2913899\ttotal: 787ms\tremaining: 1.68s\n",
      "319:\tlearn: 0.2908878\ttotal: 789ms\tremaining: 1.68s\n",
      "320:\tlearn: 0.2906193\ttotal: 792ms\tremaining: 1.67s\n",
      "321:\tlearn: 0.2904095\ttotal: 794ms\tremaining: 1.67s\n",
      "322:\tlearn: 0.2901008\ttotal: 797ms\tremaining: 1.67s\n",
      "323:\tlearn: 0.2897123\ttotal: 799ms\tremaining: 1.67s\n",
      "324:\tlearn: 0.2895392\ttotal: 802ms\tremaining: 1.67s\n",
      "325:\tlearn: 0.2894200\ttotal: 804ms\tremaining: 1.66s\n",
      "326:\tlearn: 0.2889680\ttotal: 807ms\tremaining: 1.66s\n",
      "327:\tlearn: 0.2885681\ttotal: 809ms\tremaining: 1.66s\n",
      "328:\tlearn: 0.2883035\ttotal: 812ms\tremaining: 1.66s\n",
      "329:\tlearn: 0.2880949\ttotal: 815ms\tremaining: 1.65s\n",
      "330:\tlearn: 0.2877197\ttotal: 817ms\tremaining: 1.65s\n",
      "331:\tlearn: 0.2874384\ttotal: 820ms\tremaining: 1.65s\n",
      "332:\tlearn: 0.2870877\ttotal: 822ms\tremaining: 1.65s\n",
      "333:\tlearn: 0.2868533\ttotal: 825ms\tremaining: 1.64s\n",
      "334:\tlearn: 0.2867112\ttotal: 827ms\tremaining: 1.64s\n",
      "335:\tlearn: 0.2862863\ttotal: 830ms\tremaining: 1.64s\n",
      "336:\tlearn: 0.2859194\ttotal: 832ms\tremaining: 1.64s\n",
      "337:\tlearn: 0.2855791\ttotal: 835ms\tremaining: 1.64s\n",
      "338:\tlearn: 0.2851485\ttotal: 837ms\tremaining: 1.63s\n",
      "339:\tlearn: 0.2849165\ttotal: 840ms\tremaining: 1.63s\n",
      "340:\tlearn: 0.2847019\ttotal: 843ms\tremaining: 1.63s\n",
      "341:\tlearn: 0.2842168\ttotal: 845ms\tremaining: 1.63s\n",
      "342:\tlearn: 0.2839970\ttotal: 848ms\tremaining: 1.62s\n",
      "343:\tlearn: 0.2833391\ttotal: 850ms\tremaining: 1.62s\n",
      "344:\tlearn: 0.2831055\ttotal: 853ms\tremaining: 1.62s\n",
      "345:\tlearn: 0.2827436\ttotal: 855ms\tremaining: 1.62s\n",
      "346:\tlearn: 0.2824390\ttotal: 858ms\tremaining: 1.61s\n",
      "347:\tlearn: 0.2822568\ttotal: 860ms\tremaining: 1.61s\n",
      "348:\tlearn: 0.2820439\ttotal: 863ms\tremaining: 1.61s\n",
      "349:\tlearn: 0.2816880\ttotal: 865ms\tremaining: 1.61s\n",
      "350:\tlearn: 0.2812507\ttotal: 868ms\tremaining: 1.6s\n",
      "351:\tlearn: 0.2809654\ttotal: 870ms\tremaining: 1.6s\n",
      "352:\tlearn: 0.2808232\ttotal: 873ms\tremaining: 1.6s\n",
      "353:\tlearn: 0.2802820\ttotal: 875ms\tremaining: 1.6s\n",
      "354:\tlearn: 0.2800635\ttotal: 877ms\tremaining: 1.59s\n",
      "355:\tlearn: 0.2798590\ttotal: 880ms\tremaining: 1.59s\n",
      "356:\tlearn: 0.2795423\ttotal: 882ms\tremaining: 1.59s\n",
      "357:\tlearn: 0.2790925\ttotal: 885ms\tremaining: 1.59s\n",
      "358:\tlearn: 0.2788197\ttotal: 887ms\tremaining: 1.58s\n",
      "359:\tlearn: 0.2785279\ttotal: 890ms\tremaining: 1.58s\n",
      "360:\tlearn: 0.2783455\ttotal: 893ms\tremaining: 1.58s\n",
      "361:\tlearn: 0.2779829\ttotal: 895ms\tremaining: 1.58s\n",
      "362:\tlearn: 0.2776854\ttotal: 898ms\tremaining: 1.57s\n",
      "363:\tlearn: 0.2771225\ttotal: 900ms\tremaining: 1.57s\n",
      "364:\tlearn: 0.2769190\ttotal: 903ms\tremaining: 1.57s\n",
      "365:\tlearn: 0.2765798\ttotal: 905ms\tremaining: 1.57s\n",
      "366:\tlearn: 0.2763696\ttotal: 908ms\tremaining: 1.56s\n",
      "367:\tlearn: 0.2759766\ttotal: 910ms\tremaining: 1.56s\n",
      "368:\tlearn: 0.2757570\ttotal: 913ms\tremaining: 1.56s\n",
      "369:\tlearn: 0.2755494\ttotal: 915ms\tremaining: 1.56s\n",
      "370:\tlearn: 0.2751318\ttotal: 918ms\tremaining: 1.55s\n",
      "371:\tlearn: 0.2748257\ttotal: 920ms\tremaining: 1.55s\n",
      "372:\tlearn: 0.2746776\ttotal: 923ms\tremaining: 1.55s\n",
      "373:\tlearn: 0.2743984\ttotal: 925ms\tremaining: 1.55s\n",
      "374:\tlearn: 0.2741265\ttotal: 927ms\tremaining: 1.54s\n",
      "375:\tlearn: 0.2736551\ttotal: 930ms\tremaining: 1.54s\n",
      "376:\tlearn: 0.2733335\ttotal: 932ms\tremaining: 1.54s\n",
      "377:\tlearn: 0.2731754\ttotal: 935ms\tremaining: 1.54s\n",
      "378:\tlearn: 0.2729490\ttotal: 937ms\tremaining: 1.53s\n",
      "379:\tlearn: 0.2723516\ttotal: 940ms\tremaining: 1.53s\n",
      "380:\tlearn: 0.2719580\ttotal: 942ms\tremaining: 1.53s\n",
      "381:\tlearn: 0.2717409\ttotal: 944ms\tremaining: 1.53s\n",
      "382:\tlearn: 0.2714919\ttotal: 947ms\tremaining: 1.52s\n",
      "383:\tlearn: 0.2712897\ttotal: 949ms\tremaining: 1.52s\n",
      "384:\tlearn: 0.2709334\ttotal: 952ms\tremaining: 1.52s\n",
      "385:\tlearn: 0.2707223\ttotal: 954ms\tremaining: 1.52s\n",
      "386:\tlearn: 0.2705277\ttotal: 956ms\tremaining: 1.51s\n",
      "387:\tlearn: 0.2702699\ttotal: 959ms\tremaining: 1.51s\n",
      "388:\tlearn: 0.2699706\ttotal: 961ms\tremaining: 1.51s\n",
      "389:\tlearn: 0.2697376\ttotal: 964ms\tremaining: 1.51s\n",
      "390:\tlearn: 0.2693642\ttotal: 966ms\tremaining: 1.5s\n",
      "391:\tlearn: 0.2691862\ttotal: 968ms\tremaining: 1.5s\n",
      "392:\tlearn: 0.2689341\ttotal: 971ms\tremaining: 1.5s\n",
      "393:\tlearn: 0.2684882\ttotal: 973ms\tremaining: 1.5s\n",
      "394:\tlearn: 0.2682735\ttotal: 976ms\tremaining: 1.49s\n",
      "395:\tlearn: 0.2680473\ttotal: 978ms\tremaining: 1.49s\n",
      "396:\tlearn: 0.2678961\ttotal: 980ms\tremaining: 1.49s\n",
      "397:\tlearn: 0.2673970\ttotal: 983ms\tremaining: 1.49s\n",
      "398:\tlearn: 0.2672119\ttotal: 985ms\tremaining: 1.48s\n",
      "399:\tlearn: 0.2669760\ttotal: 987ms\tremaining: 1.48s\n",
      "400:\tlearn: 0.2667168\ttotal: 990ms\tremaining: 1.48s\n",
      "401:\tlearn: 0.2663066\ttotal: 992ms\tremaining: 1.48s\n",
      "402:\tlearn: 0.2661386\ttotal: 994ms\tremaining: 1.47s\n",
      "403:\tlearn: 0.2658522\ttotal: 997ms\tremaining: 1.47s\n",
      "404:\tlearn: 0.2655613\ttotal: 999ms\tremaining: 1.47s\n",
      "405:\tlearn: 0.2650600\ttotal: 1s\tremaining: 1.47s\n",
      "406:\tlearn: 0.2648739\ttotal: 1s\tremaining: 1.46s\n",
      "407:\tlearn: 0.2645307\ttotal: 1.01s\tremaining: 1.46s\n",
      "408:\tlearn: 0.2642119\ttotal: 1.01s\tremaining: 1.46s\n",
      "409:\tlearn: 0.2638417\ttotal: 1.01s\tremaining: 1.46s\n",
      "410:\tlearn: 0.2634040\ttotal: 1.01s\tremaining: 1.45s\n",
      "411:\tlearn: 0.2631295\ttotal: 1.02s\tremaining: 1.45s\n",
      "412:\tlearn: 0.2629264\ttotal: 1.02s\tremaining: 1.45s\n",
      "413:\tlearn: 0.2627364\ttotal: 1.02s\tremaining: 1.45s\n",
      "414:\tlearn: 0.2623895\ttotal: 1.02s\tremaining: 1.44s\n",
      "415:\tlearn: 0.2622507\ttotal: 1.03s\tremaining: 1.44s\n",
      "416:\tlearn: 0.2619703\ttotal: 1.03s\tremaining: 1.44s\n",
      "417:\tlearn: 0.2618672\ttotal: 1.03s\tremaining: 1.44s\n",
      "418:\tlearn: 0.2616149\ttotal: 1.03s\tremaining: 1.43s\n",
      "419:\tlearn: 0.2610884\ttotal: 1.04s\tremaining: 1.43s\n",
      "420:\tlearn: 0.2609625\ttotal: 1.04s\tremaining: 1.43s\n",
      "421:\tlearn: 0.2607264\ttotal: 1.04s\tremaining: 1.43s\n",
      "422:\tlearn: 0.2602402\ttotal: 1.04s\tremaining: 1.42s\n",
      "423:\tlearn: 0.2600001\ttotal: 1.04s\tremaining: 1.42s\n",
      "424:\tlearn: 0.2598156\ttotal: 1.05s\tremaining: 1.42s\n",
      "425:\tlearn: 0.2595174\ttotal: 1.05s\tremaining: 1.42s\n",
      "426:\tlearn: 0.2592123\ttotal: 1.05s\tremaining: 1.41s\n",
      "427:\tlearn: 0.2589095\ttotal: 1.05s\tremaining: 1.41s\n",
      "428:\tlearn: 0.2586278\ttotal: 1.06s\tremaining: 1.41s\n",
      "429:\tlearn: 0.2581084\ttotal: 1.06s\tremaining: 1.41s\n",
      "430:\tlearn: 0.2579432\ttotal: 1.06s\tremaining: 1.4s\n",
      "431:\tlearn: 0.2577943\ttotal: 1.06s\tremaining: 1.4s\n",
      "432:\tlearn: 0.2575397\ttotal: 1.07s\tremaining: 1.4s\n"
     ]
    },
    {
     "name": "stdout",
     "output_type": "stream",
     "text": [
      "433:\tlearn: 0.2572329\ttotal: 1.07s\tremaining: 1.4s\n",
      "434:\tlearn: 0.2569117\ttotal: 1.07s\tremaining: 1.39s\n",
      "435:\tlearn: 0.2565988\ttotal: 1.08s\tremaining: 1.39s\n",
      "436:\tlearn: 0.2564220\ttotal: 1.08s\tremaining: 1.39s\n",
      "437:\tlearn: 0.2562539\ttotal: 1.08s\tremaining: 1.39s\n",
      "438:\tlearn: 0.2560420\ttotal: 1.08s\tremaining: 1.38s\n",
      "439:\tlearn: 0.2558494\ttotal: 1.08s\tremaining: 1.38s\n",
      "440:\tlearn: 0.2556022\ttotal: 1.09s\tremaining: 1.38s\n",
      "441:\tlearn: 0.2554239\ttotal: 1.09s\tremaining: 1.38s\n",
      "442:\tlearn: 0.2552275\ttotal: 1.09s\tremaining: 1.37s\n",
      "443:\tlearn: 0.2548638\ttotal: 1.09s\tremaining: 1.37s\n",
      "444:\tlearn: 0.2543235\ttotal: 1.1s\tremaining: 1.37s\n",
      "445:\tlearn: 0.2541003\ttotal: 1.1s\tremaining: 1.37s\n",
      "446:\tlearn: 0.2538978\ttotal: 1.1s\tremaining: 1.36s\n",
      "447:\tlearn: 0.2536504\ttotal: 1.1s\tremaining: 1.36s\n",
      "448:\tlearn: 0.2534390\ttotal: 1.11s\tremaining: 1.36s\n",
      "449:\tlearn: 0.2532382\ttotal: 1.11s\tremaining: 1.36s\n",
      "450:\tlearn: 0.2529770\ttotal: 1.11s\tremaining: 1.35s\n",
      "451:\tlearn: 0.2528655\ttotal: 1.11s\tremaining: 1.35s\n",
      "452:\tlearn: 0.2526167\ttotal: 1.12s\tremaining: 1.35s\n",
      "453:\tlearn: 0.2521658\ttotal: 1.12s\tremaining: 1.35s\n",
      "454:\tlearn: 0.2520224\ttotal: 1.12s\tremaining: 1.34s\n",
      "455:\tlearn: 0.2515713\ttotal: 1.13s\tremaining: 1.34s\n",
      "456:\tlearn: 0.2512978\ttotal: 1.13s\tremaining: 1.34s\n",
      "457:\tlearn: 0.2510002\ttotal: 1.13s\tremaining: 1.34s\n",
      "458:\tlearn: 0.2506879\ttotal: 1.13s\tremaining: 1.33s\n",
      "459:\tlearn: 0.2505232\ttotal: 1.13s\tremaining: 1.33s\n",
      "460:\tlearn: 0.2503675\ttotal: 1.14s\tremaining: 1.33s\n",
      "461:\tlearn: 0.2499983\ttotal: 1.14s\tremaining: 1.33s\n",
      "462:\tlearn: 0.2497863\ttotal: 1.14s\tremaining: 1.32s\n",
      "463:\tlearn: 0.2495958\ttotal: 1.14s\tremaining: 1.32s\n",
      "464:\tlearn: 0.2494697\ttotal: 1.15s\tremaining: 1.32s\n",
      "465:\tlearn: 0.2492675\ttotal: 1.15s\tremaining: 1.32s\n",
      "466:\tlearn: 0.2490663\ttotal: 1.15s\tremaining: 1.31s\n",
      "467:\tlearn: 0.2489316\ttotal: 1.15s\tremaining: 1.31s\n",
      "468:\tlearn: 0.2487017\ttotal: 1.16s\tremaining: 1.31s\n",
      "469:\tlearn: 0.2485328\ttotal: 1.16s\tremaining: 1.31s\n",
      "470:\tlearn: 0.2483806\ttotal: 1.16s\tremaining: 1.3s\n",
      "471:\tlearn: 0.2481567\ttotal: 1.16s\tremaining: 1.3s\n",
      "472:\tlearn: 0.2479148\ttotal: 1.17s\tremaining: 1.3s\n",
      "473:\tlearn: 0.2477206\ttotal: 1.17s\tremaining: 1.3s\n",
      "474:\tlearn: 0.2475127\ttotal: 1.17s\tremaining: 1.29s\n",
      "475:\tlearn: 0.2472482\ttotal: 1.17s\tremaining: 1.29s\n",
      "476:\tlearn: 0.2470630\ttotal: 1.18s\tremaining: 1.29s\n",
      "477:\tlearn: 0.2468999\ttotal: 1.18s\tremaining: 1.29s\n",
      "478:\tlearn: 0.2465741\ttotal: 1.18s\tremaining: 1.28s\n",
      "479:\tlearn: 0.2463799\ttotal: 1.18s\tremaining: 1.28s\n",
      "480:\tlearn: 0.2461902\ttotal: 1.19s\tremaining: 1.28s\n",
      "481:\tlearn: 0.2459166\ttotal: 1.19s\tremaining: 1.28s\n",
      "482:\tlearn: 0.2456764\ttotal: 1.19s\tremaining: 1.27s\n",
      "483:\tlearn: 0.2454913\ttotal: 1.19s\tremaining: 1.27s\n",
      "484:\tlearn: 0.2452390\ttotal: 1.2s\tremaining: 1.27s\n",
      "485:\tlearn: 0.2450244\ttotal: 1.2s\tremaining: 1.27s\n",
      "486:\tlearn: 0.2448678\ttotal: 1.2s\tremaining: 1.26s\n",
      "487:\tlearn: 0.2446804\ttotal: 1.2s\tremaining: 1.26s\n",
      "488:\tlearn: 0.2444594\ttotal: 1.21s\tremaining: 1.26s\n",
      "489:\tlearn: 0.2442752\ttotal: 1.21s\tremaining: 1.26s\n",
      "490:\tlearn: 0.2439919\ttotal: 1.21s\tremaining: 1.25s\n",
      "491:\tlearn: 0.2438468\ttotal: 1.21s\tremaining: 1.25s\n",
      "492:\tlearn: 0.2436112\ttotal: 1.21s\tremaining: 1.25s\n",
      "493:\tlearn: 0.2434228\ttotal: 1.22s\tremaining: 1.25s\n",
      "494:\tlearn: 0.2432764\ttotal: 1.22s\tremaining: 1.24s\n",
      "495:\tlearn: 0.2431782\ttotal: 1.22s\tremaining: 1.24s\n",
      "496:\tlearn: 0.2430093\ttotal: 1.22s\tremaining: 1.24s\n",
      "497:\tlearn: 0.2427580\ttotal: 1.23s\tremaining: 1.24s\n",
      "498:\tlearn: 0.2426129\ttotal: 1.23s\tremaining: 1.23s\n",
      "499:\tlearn: 0.2418609\ttotal: 1.23s\tremaining: 1.23s\n",
      "500:\tlearn: 0.2417300\ttotal: 1.23s\tremaining: 1.23s\n",
      "501:\tlearn: 0.2415602\ttotal: 1.24s\tremaining: 1.23s\n",
      "502:\tlearn: 0.2413438\ttotal: 1.24s\tremaining: 1.22s\n",
      "503:\tlearn: 0.2412030\ttotal: 1.24s\tremaining: 1.22s\n",
      "504:\tlearn: 0.2409937\ttotal: 1.24s\tremaining: 1.22s\n",
      "505:\tlearn: 0.2408045\ttotal: 1.25s\tremaining: 1.22s\n",
      "506:\tlearn: 0.2405916\ttotal: 1.25s\tremaining: 1.21s\n",
      "507:\tlearn: 0.2404454\ttotal: 1.25s\tremaining: 1.21s\n",
      "508:\tlearn: 0.2402778\ttotal: 1.25s\tremaining: 1.21s\n",
      "509:\tlearn: 0.2399675\ttotal: 1.26s\tremaining: 1.21s\n",
      "510:\tlearn: 0.2397670\ttotal: 1.26s\tremaining: 1.21s\n",
      "511:\tlearn: 0.2396258\ttotal: 1.26s\tremaining: 1.2s\n",
      "512:\tlearn: 0.2393537\ttotal: 1.26s\tremaining: 1.2s\n",
      "513:\tlearn: 0.2391651\ttotal: 1.27s\tremaining: 1.2s\n",
      "514:\tlearn: 0.2389010\ttotal: 1.27s\tremaining: 1.2s\n",
      "515:\tlearn: 0.2387042\ttotal: 1.27s\tremaining: 1.19s\n",
      "516:\tlearn: 0.2384486\ttotal: 1.27s\tremaining: 1.19s\n",
      "517:\tlearn: 0.2382141\ttotal: 1.28s\tremaining: 1.19s\n",
      "518:\tlearn: 0.2380124\ttotal: 1.28s\tremaining: 1.19s\n",
      "519:\tlearn: 0.2378123\ttotal: 1.28s\tremaining: 1.18s\n",
      "520:\tlearn: 0.2376432\ttotal: 1.28s\tremaining: 1.18s\n",
      "521:\tlearn: 0.2372326\ttotal: 1.29s\tremaining: 1.18s\n",
      "522:\tlearn: 0.2370852\ttotal: 1.29s\tremaining: 1.18s\n",
      "523:\tlearn: 0.2368896\ttotal: 1.29s\tremaining: 1.17s\n",
      "524:\tlearn: 0.2365755\ttotal: 1.29s\tremaining: 1.17s\n",
      "525:\tlearn: 0.2363539\ttotal: 1.3s\tremaining: 1.17s\n",
      "526:\tlearn: 0.2358331\ttotal: 1.3s\tremaining: 1.17s\n",
      "527:\tlearn: 0.2356175\ttotal: 1.3s\tremaining: 1.16s\n",
      "528:\tlearn: 0.2349786\ttotal: 1.3s\tremaining: 1.16s\n",
      "529:\tlearn: 0.2348638\ttotal: 1.31s\tremaining: 1.16s\n",
      "530:\tlearn: 0.2346690\ttotal: 1.31s\tremaining: 1.16s\n",
      "531:\tlearn: 0.2344408\ttotal: 1.31s\tremaining: 1.15s\n",
      "532:\tlearn: 0.2341611\ttotal: 1.31s\tremaining: 1.15s\n",
      "533:\tlearn: 0.2340001\ttotal: 1.32s\tremaining: 1.15s\n",
      "534:\tlearn: 0.2338195\ttotal: 1.32s\tremaining: 1.15s\n",
      "535:\tlearn: 0.2336972\ttotal: 1.32s\tremaining: 1.14s\n",
      "536:\tlearn: 0.2334789\ttotal: 1.32s\tremaining: 1.14s\n",
      "537:\tlearn: 0.2330849\ttotal: 1.33s\tremaining: 1.14s\n",
      "538:\tlearn: 0.2328848\ttotal: 1.33s\tremaining: 1.14s\n",
      "539:\tlearn: 0.2326534\ttotal: 1.33s\tremaining: 1.13s\n",
      "540:\tlearn: 0.2324848\ttotal: 1.33s\tremaining: 1.13s\n",
      "541:\tlearn: 0.2323556\ttotal: 1.34s\tremaining: 1.13s\n",
      "542:\tlearn: 0.2320353\ttotal: 1.34s\tremaining: 1.13s\n",
      "543:\tlearn: 0.2318302\ttotal: 1.34s\tremaining: 1.12s\n",
      "544:\tlearn: 0.2316481\ttotal: 1.34s\tremaining: 1.12s\n",
      "545:\tlearn: 0.2313711\ttotal: 1.34s\tremaining: 1.12s\n",
      "546:\tlearn: 0.2307307\ttotal: 1.35s\tremaining: 1.12s\n",
      "547:\tlearn: 0.2303352\ttotal: 1.35s\tremaining: 1.11s\n",
      "548:\tlearn: 0.2301864\ttotal: 1.35s\tremaining: 1.11s\n",
      "549:\tlearn: 0.2299942\ttotal: 1.35s\tremaining: 1.11s\n",
      "550:\tlearn: 0.2297545\ttotal: 1.36s\tremaining: 1.11s\n",
      "551:\tlearn: 0.2295461\ttotal: 1.36s\tremaining: 1.1s\n",
      "552:\tlearn: 0.2290682\ttotal: 1.36s\tremaining: 1.1s\n",
      "553:\tlearn: 0.2289363\ttotal: 1.36s\tremaining: 1.1s\n",
      "554:\tlearn: 0.2288228\ttotal: 1.37s\tremaining: 1.1s\n",
      "555:\tlearn: 0.2286289\ttotal: 1.37s\tremaining: 1.09s\n",
      "556:\tlearn: 0.2284834\ttotal: 1.37s\tremaining: 1.09s\n",
      "557:\tlearn: 0.2283233\ttotal: 1.37s\tremaining: 1.09s\n",
      "558:\tlearn: 0.2280827\ttotal: 1.38s\tremaining: 1.09s\n",
      "559:\tlearn: 0.2278626\ttotal: 1.38s\tremaining: 1.08s\n",
      "560:\tlearn: 0.2277034\ttotal: 1.38s\tremaining: 1.08s\n",
      "561:\tlearn: 0.2272252\ttotal: 1.38s\tremaining: 1.08s\n",
      "562:\tlearn: 0.2270327\ttotal: 1.39s\tremaining: 1.08s\n",
      "563:\tlearn: 0.2267642\ttotal: 1.39s\tremaining: 1.07s\n",
      "564:\tlearn: 0.2264736\ttotal: 1.39s\tremaining: 1.07s\n",
      "565:\tlearn: 0.2264140\ttotal: 1.39s\tremaining: 1.07s\n",
      "566:\tlearn: 0.2260720\ttotal: 1.4s\tremaining: 1.07s\n",
      "567:\tlearn: 0.2258360\ttotal: 1.4s\tremaining: 1.06s\n",
      "568:\tlearn: 0.2256910\ttotal: 1.4s\tremaining: 1.06s\n",
      "569:\tlearn: 0.2255023\ttotal: 1.4s\tremaining: 1.06s\n",
      "570:\tlearn: 0.2250892\ttotal: 1.41s\tremaining: 1.06s\n",
      "571:\tlearn: 0.2247687\ttotal: 1.41s\tremaining: 1.05s\n",
      "572:\tlearn: 0.2243594\ttotal: 1.41s\tremaining: 1.05s\n",
      "573:\tlearn: 0.2241493\ttotal: 1.41s\tremaining: 1.05s\n",
      "574:\tlearn: 0.2240900\ttotal: 1.42s\tremaining: 1.05s\n",
      "575:\tlearn: 0.2237147\ttotal: 1.42s\tremaining: 1.04s\n",
      "576:\tlearn: 0.2235330\ttotal: 1.42s\tremaining: 1.04s\n",
      "577:\tlearn: 0.2233616\ttotal: 1.42s\tremaining: 1.04s\n",
      "578:\tlearn: 0.2231371\ttotal: 1.43s\tremaining: 1.04s\n",
      "579:\tlearn: 0.2230235\ttotal: 1.43s\tremaining: 1.03s\n",
      "580:\tlearn: 0.2226479\ttotal: 1.43s\tremaining: 1.03s\n",
      "581:\tlearn: 0.2224196\ttotal: 1.43s\tremaining: 1.03s\n",
      "582:\tlearn: 0.2222566\ttotal: 1.44s\tremaining: 1.03s\n",
      "583:\tlearn: 0.2220542\ttotal: 1.44s\tremaining: 1.02s\n",
      "584:\tlearn: 0.2219238\ttotal: 1.44s\tremaining: 1.02s\n",
      "585:\tlearn: 0.2217349\ttotal: 1.44s\tremaining: 1.02s\n",
      "586:\tlearn: 0.2213790\ttotal: 1.45s\tremaining: 1.02s\n",
      "587:\tlearn: 0.2212420\ttotal: 1.45s\tremaining: 1.01s\n",
      "588:\tlearn: 0.2210813\ttotal: 1.45s\tremaining: 1.01s\n",
      "589:\tlearn: 0.2208625\ttotal: 1.45s\tremaining: 1.01s\n",
      "590:\tlearn: 0.2207154\ttotal: 1.46s\tremaining: 1.01s\n",
      "591:\tlearn: 0.2204140\ttotal: 1.46s\tremaining: 1s\n",
      "592:\tlearn: 0.2202473\ttotal: 1.46s\tremaining: 1s\n",
      "593:\tlearn: 0.2200004\ttotal: 1.46s\tremaining: 1s\n",
      "594:\tlearn: 0.2198773\ttotal: 1.47s\tremaining: 998ms\n",
      "595:\tlearn: 0.2197374\ttotal: 1.47s\tremaining: 995ms\n",
      "596:\tlearn: 0.2195110\ttotal: 1.47s\tremaining: 993ms\n",
      "597:\tlearn: 0.2192566\ttotal: 1.47s\tremaining: 991ms\n",
      "598:\tlearn: 0.2190634\ttotal: 1.48s\tremaining: 988ms\n",
      "599:\tlearn: 0.2188034\ttotal: 1.48s\tremaining: 986ms\n",
      "600:\tlearn: 0.2185954\ttotal: 1.48s\tremaining: 983ms\n",
      "601:\tlearn: 0.2184707\ttotal: 1.48s\tremaining: 981ms\n",
      "602:\tlearn: 0.2183532\ttotal: 1.49s\tremaining: 978ms\n",
      "603:\tlearn: 0.2182264\ttotal: 1.49s\tremaining: 976ms\n",
      "604:\tlearn: 0.2181326\ttotal: 1.49s\tremaining: 973ms\n",
      "605:\tlearn: 0.2179326\ttotal: 1.49s\tremaining: 971ms\n",
      "606:\tlearn: 0.2178236\ttotal: 1.5s\tremaining: 968ms\n",
      "607:\tlearn: 0.2176679\ttotal: 1.5s\tremaining: 966ms\n",
      "608:\tlearn: 0.2174369\ttotal: 1.5s\tremaining: 963ms\n",
      "609:\tlearn: 0.2171098\ttotal: 1.5s\tremaining: 961ms\n",
      "610:\tlearn: 0.2169492\ttotal: 1.5s\tremaining: 958ms\n",
      "611:\tlearn: 0.2168095\ttotal: 1.51s\tremaining: 956ms\n",
      "612:\tlearn: 0.2166821\ttotal: 1.51s\tremaining: 953ms\n",
      "613:\tlearn: 0.2164441\ttotal: 1.51s\tremaining: 951ms\n",
      "614:\tlearn: 0.2163160\ttotal: 1.51s\tremaining: 948ms\n",
      "615:\tlearn: 0.2160585\ttotal: 1.52s\tremaining: 946ms\n",
      "616:\tlearn: 0.2158754\ttotal: 1.52s\tremaining: 943ms\n",
      "617:\tlearn: 0.2156357\ttotal: 1.52s\tremaining: 941ms\n",
      "618:\tlearn: 0.2154272\ttotal: 1.52s\tremaining: 938ms\n",
      "619:\tlearn: 0.2152597\ttotal: 1.53s\tremaining: 936ms\n",
      "620:\tlearn: 0.2151594\ttotal: 1.53s\tremaining: 933ms\n",
      "621:\tlearn: 0.2149529\ttotal: 1.53s\tremaining: 931ms\n",
      "622:\tlearn: 0.2148305\ttotal: 1.53s\tremaining: 928ms\n",
      "623:\tlearn: 0.2147215\ttotal: 1.54s\tremaining: 926ms\n",
      "624:\tlearn: 0.2145956\ttotal: 1.54s\tremaining: 923ms\n",
      "625:\tlearn: 0.2142254\ttotal: 1.54s\tremaining: 921ms\n",
      "626:\tlearn: 0.2140496\ttotal: 1.54s\tremaining: 918ms\n",
      "627:\tlearn: 0.2137872\ttotal: 1.54s\tremaining: 916ms\n",
      "628:\tlearn: 0.2135504\ttotal: 1.55s\tremaining: 913ms\n",
      "629:\tlearn: 0.2134097\ttotal: 1.55s\tremaining: 911ms\n",
      "630:\tlearn: 0.2133326\ttotal: 1.55s\tremaining: 908ms\n",
      "631:\tlearn: 0.2131703\ttotal: 1.55s\tremaining: 906ms\n",
      "632:\tlearn: 0.2129584\ttotal: 1.56s\tremaining: 903ms\n",
      "633:\tlearn: 0.2127023\ttotal: 1.56s\tremaining: 901ms\n",
      "634:\tlearn: 0.2124900\ttotal: 1.56s\tremaining: 898ms\n",
      "635:\tlearn: 0.2123341\ttotal: 1.56s\tremaining: 896ms\n",
      "636:\tlearn: 0.2121374\ttotal: 1.57s\tremaining: 893ms\n",
      "637:\tlearn: 0.2118259\ttotal: 1.57s\tremaining: 891ms\n",
      "638:\tlearn: 0.2116366\ttotal: 1.57s\tremaining: 888ms\n",
      "639:\tlearn: 0.2115016\ttotal: 1.57s\tremaining: 886ms\n",
      "640:\tlearn: 0.2113682\ttotal: 1.58s\tremaining: 883ms\n",
      "641:\tlearn: 0.2111641\ttotal: 1.58s\tremaining: 881ms\n",
      "642:\tlearn: 0.2110631\ttotal: 1.58s\tremaining: 878ms\n",
      "643:\tlearn: 0.2108992\ttotal: 1.58s\tremaining: 876ms\n",
      "644:\tlearn: 0.2104928\ttotal: 1.59s\tremaining: 873ms\n",
      "645:\tlearn: 0.2101185\ttotal: 1.59s\tremaining: 871ms\n",
      "646:\tlearn: 0.2099583\ttotal: 1.59s\tremaining: 868ms\n",
      "647:\tlearn: 0.2096371\ttotal: 1.59s\tremaining: 866ms\n",
      "648:\tlearn: 0.2093641\ttotal: 1.6s\tremaining: 863ms\n",
      "649:\tlearn: 0.2091864\ttotal: 1.6s\tremaining: 861ms\n",
      "650:\tlearn: 0.2090387\ttotal: 1.6s\tremaining: 858ms\n",
      "651:\tlearn: 0.2088442\ttotal: 1.6s\tremaining: 856ms\n",
      "652:\tlearn: 0.2087167\ttotal: 1.6s\tremaining: 853ms\n",
      "653:\tlearn: 0.2085572\ttotal: 1.61s\tremaining: 851ms\n"
     ]
    },
    {
     "name": "stdout",
     "output_type": "stream",
     "text": [
      "654:\tlearn: 0.2083492\ttotal: 1.61s\tremaining: 849ms\n",
      "655:\tlearn: 0.2082020\ttotal: 1.61s\tremaining: 846ms\n",
      "656:\tlearn: 0.2081107\ttotal: 1.62s\tremaining: 844ms\n",
      "657:\tlearn: 0.2078970\ttotal: 1.62s\tremaining: 841ms\n",
      "658:\tlearn: 0.2076426\ttotal: 1.62s\tremaining: 839ms\n",
      "659:\tlearn: 0.2074981\ttotal: 1.62s\tremaining: 836ms\n",
      "660:\tlearn: 0.2073421\ttotal: 1.63s\tremaining: 834ms\n",
      "661:\tlearn: 0.2071237\ttotal: 1.63s\tremaining: 831ms\n",
      "662:\tlearn: 0.2070050\ttotal: 1.63s\tremaining: 829ms\n",
      "663:\tlearn: 0.2069095\ttotal: 1.63s\tremaining: 827ms\n",
      "664:\tlearn: 0.2066045\ttotal: 1.64s\tremaining: 824ms\n",
      "665:\tlearn: 0.2064728\ttotal: 1.64s\tremaining: 822ms\n",
      "666:\tlearn: 0.2062553\ttotal: 1.64s\tremaining: 819ms\n",
      "667:\tlearn: 0.2060982\ttotal: 1.64s\tremaining: 817ms\n",
      "668:\tlearn: 0.2058463\ttotal: 1.65s\tremaining: 814ms\n",
      "669:\tlearn: 0.2056910\ttotal: 1.65s\tremaining: 812ms\n",
      "670:\tlearn: 0.2055329\ttotal: 1.65s\tremaining: 809ms\n",
      "671:\tlearn: 0.2053872\ttotal: 1.65s\tremaining: 807ms\n",
      "672:\tlearn: 0.2052274\ttotal: 1.66s\tremaining: 804ms\n",
      "673:\tlearn: 0.2050922\ttotal: 1.66s\tremaining: 802ms\n",
      "674:\tlearn: 0.2049985\ttotal: 1.66s\tremaining: 799ms\n",
      "675:\tlearn: 0.2048008\ttotal: 1.66s\tremaining: 797ms\n",
      "676:\tlearn: 0.2045009\ttotal: 1.67s\tremaining: 794ms\n",
      "677:\tlearn: 0.2043508\ttotal: 1.67s\tremaining: 792ms\n",
      "678:\tlearn: 0.2041003\ttotal: 1.67s\tremaining: 789ms\n",
      "679:\tlearn: 0.2038267\ttotal: 1.67s\tremaining: 787ms\n",
      "680:\tlearn: 0.2036957\ttotal: 1.67s\tremaining: 784ms\n",
      "681:\tlearn: 0.2034706\ttotal: 1.68s\tremaining: 782ms\n",
      "682:\tlearn: 0.2033039\ttotal: 1.68s\tremaining: 780ms\n",
      "683:\tlearn: 0.2030867\ttotal: 1.68s\tremaining: 777ms\n",
      "684:\tlearn: 0.2029423\ttotal: 1.68s\tremaining: 775ms\n",
      "685:\tlearn: 0.2027284\ttotal: 1.69s\tremaining: 772ms\n",
      "686:\tlearn: 0.2024987\ttotal: 1.69s\tremaining: 770ms\n",
      "687:\tlearn: 0.2023936\ttotal: 1.69s\tremaining: 767ms\n",
      "688:\tlearn: 0.2022511\ttotal: 1.69s\tremaining: 765ms\n",
      "689:\tlearn: 0.2021126\ttotal: 1.7s\tremaining: 762ms\n",
      "690:\tlearn: 0.2018860\ttotal: 1.7s\tremaining: 760ms\n",
      "691:\tlearn: 0.2017267\ttotal: 1.7s\tremaining: 757ms\n",
      "692:\tlearn: 0.2014664\ttotal: 1.7s\tremaining: 755ms\n",
      "693:\tlearn: 0.2013893\ttotal: 1.71s\tremaining: 752ms\n",
      "694:\tlearn: 0.2011569\ttotal: 1.71s\tremaining: 750ms\n",
      "695:\tlearn: 0.2009075\ttotal: 1.71s\tremaining: 747ms\n",
      "696:\tlearn: 0.2007559\ttotal: 1.71s\tremaining: 745ms\n",
      "697:\tlearn: 0.2005662\ttotal: 1.72s\tremaining: 742ms\n",
      "698:\tlearn: 0.2002739\ttotal: 1.72s\tremaining: 740ms\n",
      "699:\tlearn: 0.2001055\ttotal: 1.72s\tremaining: 737ms\n",
      "700:\tlearn: 0.1998257\ttotal: 1.72s\tremaining: 735ms\n",
      "701:\tlearn: 0.1996940\ttotal: 1.73s\tremaining: 732ms\n",
      "702:\tlearn: 0.1995645\ttotal: 1.73s\tremaining: 730ms\n",
      "703:\tlearn: 0.1993380\ttotal: 1.73s\tremaining: 727ms\n",
      "704:\tlearn: 0.1992137\ttotal: 1.73s\tremaining: 725ms\n",
      "705:\tlearn: 0.1990303\ttotal: 1.73s\tremaining: 722ms\n",
      "706:\tlearn: 0.1988047\ttotal: 1.74s\tremaining: 720ms\n",
      "707:\tlearn: 0.1986097\ttotal: 1.74s\tremaining: 717ms\n",
      "708:\tlearn: 0.1985127\ttotal: 1.74s\tremaining: 715ms\n",
      "709:\tlearn: 0.1982138\ttotal: 1.74s\tremaining: 712ms\n",
      "710:\tlearn: 0.1979792\ttotal: 1.75s\tremaining: 710ms\n",
      "711:\tlearn: 0.1979027\ttotal: 1.75s\tremaining: 708ms\n",
      "712:\tlearn: 0.1977935\ttotal: 1.75s\tremaining: 705ms\n",
      "713:\tlearn: 0.1976592\ttotal: 1.75s\tremaining: 703ms\n",
      "714:\tlearn: 0.1974490\ttotal: 1.76s\tremaining: 700ms\n",
      "715:\tlearn: 0.1971911\ttotal: 1.76s\tremaining: 698ms\n",
      "716:\tlearn: 0.1970302\ttotal: 1.76s\tremaining: 695ms\n",
      "717:\tlearn: 0.1969143\ttotal: 1.76s\tremaining: 693ms\n",
      "718:\tlearn: 0.1967670\ttotal: 1.77s\tremaining: 690ms\n",
      "719:\tlearn: 0.1966971\ttotal: 1.77s\tremaining: 688ms\n",
      "720:\tlearn: 0.1964917\ttotal: 1.77s\tremaining: 685ms\n",
      "721:\tlearn: 0.1963408\ttotal: 1.77s\tremaining: 683ms\n",
      "722:\tlearn: 0.1961235\ttotal: 1.78s\tremaining: 681ms\n",
      "723:\tlearn: 0.1959864\ttotal: 1.78s\tremaining: 678ms\n",
      "724:\tlearn: 0.1956442\ttotal: 1.78s\tremaining: 676ms\n",
      "725:\tlearn: 0.1955232\ttotal: 1.78s\tremaining: 673ms\n",
      "726:\tlearn: 0.1953952\ttotal: 1.78s\tremaining: 671ms\n",
      "727:\tlearn: 0.1952026\ttotal: 1.79s\tremaining: 668ms\n",
      "728:\tlearn: 0.1950677\ttotal: 1.79s\tremaining: 666ms\n",
      "729:\tlearn: 0.1949330\ttotal: 1.79s\tremaining: 663ms\n",
      "730:\tlearn: 0.1948110\ttotal: 1.8s\tremaining: 661ms\n",
      "731:\tlearn: 0.1945812\ttotal: 1.8s\tremaining: 659ms\n",
      "732:\tlearn: 0.1944703\ttotal: 1.8s\tremaining: 656ms\n",
      "733:\tlearn: 0.1942566\ttotal: 1.8s\tremaining: 654ms\n",
      "734:\tlearn: 0.1940804\ttotal: 1.81s\tremaining: 651ms\n",
      "735:\tlearn: 0.1939697\ttotal: 1.81s\tremaining: 649ms\n",
      "736:\tlearn: 0.1938490\ttotal: 1.81s\tremaining: 646ms\n",
      "737:\tlearn: 0.1937504\ttotal: 1.81s\tremaining: 644ms\n",
      "738:\tlearn: 0.1935922\ttotal: 1.82s\tremaining: 642ms\n",
      "739:\tlearn: 0.1932433\ttotal: 1.82s\tremaining: 639ms\n",
      "740:\tlearn: 0.1931054\ttotal: 1.82s\tremaining: 637ms\n",
      "741:\tlearn: 0.1929089\ttotal: 1.82s\tremaining: 634ms\n",
      "742:\tlearn: 0.1926962\ttotal: 1.83s\tremaining: 632ms\n",
      "743:\tlearn: 0.1925687\ttotal: 1.83s\tremaining: 629ms\n",
      "744:\tlearn: 0.1924878\ttotal: 1.83s\tremaining: 627ms\n",
      "745:\tlearn: 0.1923937\ttotal: 1.83s\tremaining: 624ms\n",
      "746:\tlearn: 0.1921904\ttotal: 1.84s\tremaining: 622ms\n",
      "747:\tlearn: 0.1919711\ttotal: 1.84s\tremaining: 620ms\n",
      "748:\tlearn: 0.1917734\ttotal: 1.84s\tremaining: 617ms\n",
      "749:\tlearn: 0.1916096\ttotal: 1.84s\tremaining: 615ms\n",
      "750:\tlearn: 0.1914769\ttotal: 1.85s\tremaining: 612ms\n",
      "751:\tlearn: 0.1912981\ttotal: 1.85s\tremaining: 610ms\n",
      "752:\tlearn: 0.1911295\ttotal: 1.85s\tremaining: 607ms\n",
      "753:\tlearn: 0.1909601\ttotal: 1.85s\tremaining: 605ms\n",
      "754:\tlearn: 0.1908167\ttotal: 1.86s\tremaining: 603ms\n",
      "755:\tlearn: 0.1906958\ttotal: 1.86s\tremaining: 600ms\n",
      "756:\tlearn: 0.1905837\ttotal: 1.86s\tremaining: 598ms\n",
      "757:\tlearn: 0.1903953\ttotal: 1.86s\tremaining: 595ms\n",
      "758:\tlearn: 0.1902287\ttotal: 1.87s\tremaining: 593ms\n",
      "759:\tlearn: 0.1901384\ttotal: 1.87s\tremaining: 590ms\n",
      "760:\tlearn: 0.1900486\ttotal: 1.87s\tremaining: 588ms\n",
      "761:\tlearn: 0.1899471\ttotal: 1.88s\tremaining: 586ms\n",
      "762:\tlearn: 0.1898083\ttotal: 1.88s\tremaining: 583ms\n",
      "763:\tlearn: 0.1896796\ttotal: 1.88s\tremaining: 581ms\n",
      "764:\tlearn: 0.1895127\ttotal: 1.88s\tremaining: 579ms\n",
      "765:\tlearn: 0.1894020\ttotal: 1.89s\tremaining: 576ms\n",
      "766:\tlearn: 0.1892260\ttotal: 1.89s\tremaining: 574ms\n",
      "767:\tlearn: 0.1890432\ttotal: 1.89s\tremaining: 571ms\n",
      "768:\tlearn: 0.1888974\ttotal: 1.89s\tremaining: 569ms\n",
      "769:\tlearn: 0.1887578\ttotal: 1.9s\tremaining: 567ms\n",
      "770:\tlearn: 0.1886486\ttotal: 1.9s\tremaining: 564ms\n",
      "771:\tlearn: 0.1885708\ttotal: 1.9s\tremaining: 562ms\n",
      "772:\tlearn: 0.1883122\ttotal: 1.9s\tremaining: 559ms\n",
      "773:\tlearn: 0.1882094\ttotal: 1.91s\tremaining: 557ms\n",
      "774:\tlearn: 0.1881190\ttotal: 1.91s\tremaining: 554ms\n",
      "775:\tlearn: 0.1879367\ttotal: 1.91s\tremaining: 552ms\n",
      "776:\tlearn: 0.1877719\ttotal: 1.91s\tremaining: 549ms\n",
      "777:\tlearn: 0.1874252\ttotal: 1.92s\tremaining: 547ms\n",
      "778:\tlearn: 0.1872477\ttotal: 1.92s\tremaining: 544ms\n",
      "779:\tlearn: 0.1869328\ttotal: 1.92s\tremaining: 542ms\n",
      "780:\tlearn: 0.1868749\ttotal: 1.92s\tremaining: 539ms\n",
      "781:\tlearn: 0.1867210\ttotal: 1.93s\tremaining: 537ms\n",
      "782:\tlearn: 0.1866452\ttotal: 1.93s\tremaining: 534ms\n",
      "783:\tlearn: 0.1864947\ttotal: 1.93s\tremaining: 532ms\n",
      "784:\tlearn: 0.1863047\ttotal: 1.93s\tremaining: 530ms\n",
      "785:\tlearn: 0.1862283\ttotal: 1.94s\tremaining: 527ms\n",
      "786:\tlearn: 0.1860027\ttotal: 1.94s\tremaining: 525ms\n",
      "787:\tlearn: 0.1858550\ttotal: 1.94s\tremaining: 522ms\n",
      "788:\tlearn: 0.1856428\ttotal: 1.94s\tremaining: 520ms\n",
      "789:\tlearn: 0.1854674\ttotal: 1.95s\tremaining: 517ms\n",
      "790:\tlearn: 0.1853613\ttotal: 1.95s\tremaining: 515ms\n",
      "791:\tlearn: 0.1852510\ttotal: 1.95s\tremaining: 512ms\n",
      "792:\tlearn: 0.1851714\ttotal: 1.95s\tremaining: 510ms\n",
      "793:\tlearn: 0.1849515\ttotal: 1.96s\tremaining: 507ms\n",
      "794:\tlearn: 0.1847103\ttotal: 1.96s\tremaining: 505ms\n",
      "795:\tlearn: 0.1845286\ttotal: 1.96s\tremaining: 502ms\n",
      "796:\tlearn: 0.1844519\ttotal: 1.96s\tremaining: 500ms\n",
      "797:\tlearn: 0.1843774\ttotal: 1.97s\tremaining: 497ms\n",
      "798:\tlearn: 0.1841401\ttotal: 1.97s\tremaining: 495ms\n",
      "799:\tlearn: 0.1840493\ttotal: 1.97s\tremaining: 493ms\n",
      "800:\tlearn: 0.1839156\ttotal: 1.97s\tremaining: 490ms\n",
      "801:\tlearn: 0.1836756\ttotal: 1.98s\tremaining: 488ms\n",
      "802:\tlearn: 0.1835351\ttotal: 1.98s\tremaining: 485ms\n",
      "803:\tlearn: 0.1833118\ttotal: 1.98s\tremaining: 483ms\n",
      "804:\tlearn: 0.1831596\ttotal: 1.98s\tremaining: 480ms\n",
      "805:\tlearn: 0.1829337\ttotal: 1.99s\tremaining: 478ms\n",
      "806:\tlearn: 0.1828688\ttotal: 1.99s\tremaining: 476ms\n",
      "807:\tlearn: 0.1825972\ttotal: 1.99s\tremaining: 473ms\n",
      "808:\tlearn: 0.1822865\ttotal: 1.99s\tremaining: 471ms\n",
      "809:\tlearn: 0.1821480\ttotal: 2s\tremaining: 468ms\n",
      "810:\tlearn: 0.1819672\ttotal: 2s\tremaining: 466ms\n",
      "811:\tlearn: 0.1818803\ttotal: 2s\tremaining: 463ms\n",
      "812:\tlearn: 0.1817613\ttotal: 2s\tremaining: 461ms\n",
      "813:\tlearn: 0.1815178\ttotal: 2s\tremaining: 458ms\n",
      "814:\tlearn: 0.1814249\ttotal: 2.01s\tremaining: 456ms\n",
      "815:\tlearn: 0.1812734\ttotal: 2.01s\tremaining: 453ms\n",
      "816:\tlearn: 0.1809145\ttotal: 2.01s\tremaining: 451ms\n",
      "817:\tlearn: 0.1808088\ttotal: 2.02s\tremaining: 448ms\n",
      "818:\tlearn: 0.1806374\ttotal: 2.02s\tremaining: 446ms\n",
      "819:\tlearn: 0.1804308\ttotal: 2.02s\tremaining: 443ms\n",
      "820:\tlearn: 0.1801344\ttotal: 2.02s\tremaining: 441ms\n",
      "821:\tlearn: 0.1800350\ttotal: 2.02s\tremaining: 439ms\n",
      "822:\tlearn: 0.1797999\ttotal: 2.03s\tremaining: 436ms\n",
      "823:\tlearn: 0.1796921\ttotal: 2.03s\tremaining: 434ms\n",
      "824:\tlearn: 0.1795244\ttotal: 2.03s\tremaining: 431ms\n",
      "825:\tlearn: 0.1794306\ttotal: 2.03s\tremaining: 429ms\n",
      "826:\tlearn: 0.1792943\ttotal: 2.04s\tremaining: 426ms\n",
      "827:\tlearn: 0.1792401\ttotal: 2.04s\tremaining: 424ms\n",
      "828:\tlearn: 0.1791533\ttotal: 2.04s\tremaining: 421ms\n",
      "829:\tlearn: 0.1789908\ttotal: 2.04s\tremaining: 419ms\n",
      "830:\tlearn: 0.1788525\ttotal: 2.05s\tremaining: 416ms\n",
      "831:\tlearn: 0.1787641\ttotal: 2.05s\tremaining: 414ms\n",
      "832:\tlearn: 0.1785838\ttotal: 2.05s\tremaining: 411ms\n",
      "833:\tlearn: 0.1784769\ttotal: 2.05s\tremaining: 409ms\n",
      "834:\tlearn: 0.1783064\ttotal: 2.06s\tremaining: 406ms\n",
      "835:\tlearn: 0.1782371\ttotal: 2.06s\tremaining: 404ms\n",
      "836:\tlearn: 0.1780779\ttotal: 2.06s\tremaining: 401ms\n",
      "837:\tlearn: 0.1778989\ttotal: 2.06s\tremaining: 399ms\n",
      "838:\tlearn: 0.1777718\ttotal: 2.07s\tremaining: 396ms\n",
      "839:\tlearn: 0.1775956\ttotal: 2.07s\tremaining: 394ms\n",
      "840:\tlearn: 0.1775080\ttotal: 2.07s\tremaining: 392ms\n",
      "841:\tlearn: 0.1773757\ttotal: 2.07s\tremaining: 389ms\n",
      "842:\tlearn: 0.1772460\ttotal: 2.08s\tremaining: 387ms\n",
      "843:\tlearn: 0.1771339\ttotal: 2.08s\tremaining: 384ms\n",
      "844:\tlearn: 0.1770373\ttotal: 2.08s\tremaining: 382ms\n",
      "845:\tlearn: 0.1769744\ttotal: 2.08s\tremaining: 379ms\n",
      "846:\tlearn: 0.1767249\ttotal: 2.08s\tremaining: 377ms\n",
      "847:\tlearn: 0.1765822\ttotal: 2.09s\tremaining: 374ms\n",
      "848:\tlearn: 0.1764689\ttotal: 2.09s\tremaining: 372ms\n",
      "849:\tlearn: 0.1761646\ttotal: 2.09s\tremaining: 369ms\n",
      "850:\tlearn: 0.1759466\ttotal: 2.1s\tremaining: 367ms\n",
      "851:\tlearn: 0.1757372\ttotal: 2.1s\tremaining: 364ms\n",
      "852:\tlearn: 0.1756463\ttotal: 2.1s\tremaining: 362ms\n",
      "853:\tlearn: 0.1755205\ttotal: 2.1s\tremaining: 359ms\n",
      "854:\tlearn: 0.1753994\ttotal: 2.1s\tremaining: 357ms\n",
      "855:\tlearn: 0.1752206\ttotal: 2.11s\tremaining: 355ms\n",
      "856:\tlearn: 0.1749605\ttotal: 2.11s\tremaining: 352ms\n",
      "857:\tlearn: 0.1748597\ttotal: 2.11s\tremaining: 350ms\n",
      "858:\tlearn: 0.1745750\ttotal: 2.11s\tremaining: 347ms\n",
      "859:\tlearn: 0.1744368\ttotal: 2.12s\tremaining: 345ms\n",
      "860:\tlearn: 0.1741205\ttotal: 2.12s\tremaining: 342ms\n",
      "861:\tlearn: 0.1738058\ttotal: 2.12s\tremaining: 340ms\n",
      "862:\tlearn: 0.1736593\ttotal: 2.12s\tremaining: 337ms\n",
      "863:\tlearn: 0.1733444\ttotal: 2.13s\tremaining: 335ms\n",
      "864:\tlearn: 0.1732156\ttotal: 2.13s\tremaining: 332ms\n",
      "865:\tlearn: 0.1731162\ttotal: 2.13s\tremaining: 330ms\n",
      "866:\tlearn: 0.1729799\ttotal: 2.13s\tremaining: 327ms\n",
      "867:\tlearn: 0.1728581\ttotal: 2.14s\tremaining: 325ms\n",
      "868:\tlearn: 0.1727309\ttotal: 2.14s\tremaining: 322ms\n",
      "869:\tlearn: 0.1726407\ttotal: 2.14s\tremaining: 320ms\n",
      "870:\tlearn: 0.1724524\ttotal: 2.14s\tremaining: 317ms\n",
      "871:\tlearn: 0.1721831\ttotal: 2.15s\tremaining: 315ms\n",
      "872:\tlearn: 0.1720685\ttotal: 2.15s\tremaining: 313ms\n"
     ]
    },
    {
     "name": "stdout",
     "output_type": "stream",
     "text": [
      "873:\tlearn: 0.1719439\ttotal: 2.15s\tremaining: 310ms\n",
      "874:\tlearn: 0.1718178\ttotal: 2.15s\tremaining: 308ms\n",
      "875:\tlearn: 0.1717049\ttotal: 2.16s\tremaining: 305ms\n",
      "876:\tlearn: 0.1715817\ttotal: 2.16s\tremaining: 303ms\n",
      "877:\tlearn: 0.1714646\ttotal: 2.16s\tremaining: 300ms\n",
      "878:\tlearn: 0.1713135\ttotal: 2.16s\tremaining: 298ms\n",
      "879:\tlearn: 0.1711758\ttotal: 2.17s\tremaining: 295ms\n",
      "880:\tlearn: 0.1710766\ttotal: 2.17s\tremaining: 293ms\n",
      "881:\tlearn: 0.1709267\ttotal: 2.17s\tremaining: 291ms\n",
      "882:\tlearn: 0.1707984\ttotal: 2.17s\tremaining: 288ms\n",
      "883:\tlearn: 0.1705574\ttotal: 2.18s\tremaining: 286ms\n",
      "884:\tlearn: 0.1704465\ttotal: 2.18s\tremaining: 283ms\n",
      "885:\tlearn: 0.1702174\ttotal: 2.18s\tremaining: 281ms\n",
      "886:\tlearn: 0.1700064\ttotal: 2.18s\tremaining: 278ms\n",
      "887:\tlearn: 0.1697990\ttotal: 2.19s\tremaining: 276ms\n",
      "888:\tlearn: 0.1695135\ttotal: 2.19s\tremaining: 273ms\n",
      "889:\tlearn: 0.1694012\ttotal: 2.19s\tremaining: 271ms\n",
      "890:\tlearn: 0.1693296\ttotal: 2.19s\tremaining: 268ms\n",
      "891:\tlearn: 0.1690869\ttotal: 2.2s\tremaining: 266ms\n",
      "892:\tlearn: 0.1689869\ttotal: 2.2s\tremaining: 263ms\n",
      "893:\tlearn: 0.1688611\ttotal: 2.2s\tremaining: 261ms\n",
      "894:\tlearn: 0.1687107\ttotal: 2.2s\tremaining: 259ms\n",
      "895:\tlearn: 0.1686070\ttotal: 2.21s\tremaining: 256ms\n",
      "896:\tlearn: 0.1683850\ttotal: 2.21s\tremaining: 254ms\n",
      "897:\tlearn: 0.1683326\ttotal: 2.21s\tremaining: 251ms\n",
      "898:\tlearn: 0.1681563\ttotal: 2.21s\tremaining: 249ms\n",
      "899:\tlearn: 0.1680507\ttotal: 2.21s\tremaining: 246ms\n",
      "900:\tlearn: 0.1678605\ttotal: 2.22s\tremaining: 244ms\n",
      "901:\tlearn: 0.1676633\ttotal: 2.22s\tremaining: 241ms\n",
      "902:\tlearn: 0.1674968\ttotal: 2.22s\tremaining: 239ms\n",
      "903:\tlearn: 0.1674051\ttotal: 2.23s\tremaining: 236ms\n",
      "904:\tlearn: 0.1673418\ttotal: 2.23s\tremaining: 234ms\n",
      "905:\tlearn: 0.1672050\ttotal: 2.23s\tremaining: 231ms\n",
      "906:\tlearn: 0.1671318\ttotal: 2.23s\tremaining: 229ms\n",
      "907:\tlearn: 0.1670356\ttotal: 2.23s\tremaining: 226ms\n",
      "908:\tlearn: 0.1669693\ttotal: 2.24s\tremaining: 224ms\n",
      "909:\tlearn: 0.1669092\ttotal: 2.24s\tremaining: 221ms\n",
      "910:\tlearn: 0.1668459\ttotal: 2.24s\tremaining: 219ms\n",
      "911:\tlearn: 0.1666031\ttotal: 2.24s\tremaining: 217ms\n",
      "912:\tlearn: 0.1664484\ttotal: 2.25s\tremaining: 214ms\n",
      "913:\tlearn: 0.1663401\ttotal: 2.25s\tremaining: 212ms\n",
      "914:\tlearn: 0.1659561\ttotal: 2.25s\tremaining: 209ms\n",
      "915:\tlearn: 0.1658031\ttotal: 2.25s\tremaining: 207ms\n",
      "916:\tlearn: 0.1657081\ttotal: 2.26s\tremaining: 204ms\n",
      "917:\tlearn: 0.1656141\ttotal: 2.26s\tremaining: 202ms\n",
      "918:\tlearn: 0.1655193\ttotal: 2.26s\tremaining: 199ms\n",
      "919:\tlearn: 0.1654007\ttotal: 2.26s\tremaining: 197ms\n",
      "920:\tlearn: 0.1651805\ttotal: 2.27s\tremaining: 194ms\n",
      "921:\tlearn: 0.1650428\ttotal: 2.27s\tremaining: 192ms\n",
      "922:\tlearn: 0.1649264\ttotal: 2.27s\tremaining: 189ms\n",
      "923:\tlearn: 0.1647350\ttotal: 2.27s\tremaining: 187ms\n",
      "924:\tlearn: 0.1646442\ttotal: 2.27s\tremaining: 185ms\n",
      "925:\tlearn: 0.1645713\ttotal: 2.28s\tremaining: 182ms\n",
      "926:\tlearn: 0.1644482\ttotal: 2.28s\tremaining: 180ms\n",
      "927:\tlearn: 0.1642598\ttotal: 2.28s\tremaining: 177ms\n",
      "928:\tlearn: 0.1641480\ttotal: 2.29s\tremaining: 175ms\n",
      "929:\tlearn: 0.1640066\ttotal: 2.29s\tremaining: 172ms\n",
      "930:\tlearn: 0.1638276\ttotal: 2.29s\tremaining: 170ms\n",
      "931:\tlearn: 0.1637332\ttotal: 2.29s\tremaining: 167ms\n",
      "932:\tlearn: 0.1636106\ttotal: 2.29s\tremaining: 165ms\n",
      "933:\tlearn: 0.1634814\ttotal: 2.3s\tremaining: 162ms\n",
      "934:\tlearn: 0.1633694\ttotal: 2.3s\tremaining: 160ms\n",
      "935:\tlearn: 0.1631865\ttotal: 2.3s\tremaining: 157ms\n",
      "936:\tlearn: 0.1629897\ttotal: 2.31s\tremaining: 155ms\n",
      "937:\tlearn: 0.1628169\ttotal: 2.31s\tremaining: 153ms\n",
      "938:\tlearn: 0.1626889\ttotal: 2.31s\tremaining: 150ms\n",
      "939:\tlearn: 0.1624485\ttotal: 2.31s\tremaining: 148ms\n",
      "940:\tlearn: 0.1622435\ttotal: 2.31s\tremaining: 145ms\n",
      "941:\tlearn: 0.1621299\ttotal: 2.32s\tremaining: 143ms\n",
      "942:\tlearn: 0.1620107\ttotal: 2.32s\tremaining: 140ms\n",
      "943:\tlearn: 0.1617863\ttotal: 2.32s\tremaining: 138ms\n",
      "944:\tlearn: 0.1617383\ttotal: 2.32s\tremaining: 135ms\n",
      "945:\tlearn: 0.1615860\ttotal: 2.33s\tremaining: 133ms\n",
      "946:\tlearn: 0.1614140\ttotal: 2.33s\tremaining: 130ms\n",
      "947:\tlearn: 0.1612881\ttotal: 2.33s\tremaining: 128ms\n",
      "948:\tlearn: 0.1610930\ttotal: 2.33s\tremaining: 125ms\n",
      "949:\tlearn: 0.1609654\ttotal: 2.34s\tremaining: 123ms\n",
      "950:\tlearn: 0.1608529\ttotal: 2.34s\tremaining: 121ms\n",
      "951:\tlearn: 0.1606768\ttotal: 2.34s\tremaining: 118ms\n",
      "952:\tlearn: 0.1605864\ttotal: 2.35s\tremaining: 116ms\n",
      "953:\tlearn: 0.1603759\ttotal: 2.35s\tremaining: 113ms\n",
      "954:\tlearn: 0.1602537\ttotal: 2.35s\tremaining: 111ms\n",
      "955:\tlearn: 0.1601208\ttotal: 2.35s\tremaining: 108ms\n",
      "956:\tlearn: 0.1599149\ttotal: 2.35s\tremaining: 106ms\n",
      "957:\tlearn: 0.1598518\ttotal: 2.36s\tremaining: 103ms\n",
      "958:\tlearn: 0.1597422\ttotal: 2.36s\tremaining: 101ms\n",
      "959:\tlearn: 0.1596854\ttotal: 2.36s\tremaining: 98.4ms\n",
      "960:\tlearn: 0.1595468\ttotal: 2.36s\tremaining: 96ms\n",
      "961:\tlearn: 0.1594220\ttotal: 2.37s\tremaining: 93.5ms\n",
      "962:\tlearn: 0.1592739\ttotal: 2.37s\tremaining: 91ms\n",
      "963:\tlearn: 0.1591749\ttotal: 2.37s\tremaining: 88.6ms\n",
      "964:\tlearn: 0.1590762\ttotal: 2.37s\tremaining: 86.1ms\n",
      "965:\tlearn: 0.1589676\ttotal: 2.38s\tremaining: 83.7ms\n",
      "966:\tlearn: 0.1588809\ttotal: 2.38s\tremaining: 81.2ms\n",
      "967:\tlearn: 0.1585979\ttotal: 2.38s\tremaining: 78.7ms\n",
      "968:\tlearn: 0.1584687\ttotal: 2.38s\tremaining: 76.3ms\n",
      "969:\tlearn: 0.1583696\ttotal: 2.39s\tremaining: 73.8ms\n",
      "970:\tlearn: 0.1581495\ttotal: 2.39s\tremaining: 71.3ms\n",
      "971:\tlearn: 0.1580771\ttotal: 2.39s\tremaining: 68.9ms\n",
      "972:\tlearn: 0.1579266\ttotal: 2.39s\tremaining: 66.4ms\n",
      "973:\tlearn: 0.1578389\ttotal: 2.4s\tremaining: 64ms\n",
      "974:\tlearn: 0.1577499\ttotal: 2.4s\tremaining: 61.5ms\n",
      "975:\tlearn: 0.1576281\ttotal: 2.4s\tremaining: 59ms\n",
      "976:\tlearn: 0.1575343\ttotal: 2.4s\tremaining: 56.6ms\n",
      "977:\tlearn: 0.1574529\ttotal: 2.4s\tremaining: 54.1ms\n",
      "978:\tlearn: 0.1572915\ttotal: 2.41s\tremaining: 51.7ms\n",
      "979:\tlearn: 0.1571870\ttotal: 2.41s\tremaining: 49.2ms\n",
      "980:\tlearn: 0.1569884\ttotal: 2.41s\tremaining: 46.7ms\n",
      "981:\tlearn: 0.1569097\ttotal: 2.42s\tremaining: 44.3ms\n",
      "982:\tlearn: 0.1568349\ttotal: 2.42s\tremaining: 41.8ms\n",
      "983:\tlearn: 0.1566993\ttotal: 2.42s\tremaining: 39.4ms\n",
      "984:\tlearn: 0.1565994\ttotal: 2.42s\tremaining: 36.9ms\n",
      "985:\tlearn: 0.1564764\ttotal: 2.42s\tremaining: 34.4ms\n",
      "986:\tlearn: 0.1564188\ttotal: 2.43s\tremaining: 32ms\n",
      "987:\tlearn: 0.1562576\ttotal: 2.43s\tremaining: 29.5ms\n",
      "988:\tlearn: 0.1561250\ttotal: 2.43s\tremaining: 27.1ms\n",
      "989:\tlearn: 0.1560081\ttotal: 2.44s\tremaining: 24.6ms\n",
      "990:\tlearn: 0.1558128\ttotal: 2.44s\tremaining: 22.1ms\n",
      "991:\tlearn: 0.1557557\ttotal: 2.44s\tremaining: 19.7ms\n",
      "992:\tlearn: 0.1555775\ttotal: 2.44s\tremaining: 17.2ms\n",
      "993:\tlearn: 0.1554677\ttotal: 2.44s\tremaining: 14.8ms\n",
      "994:\tlearn: 0.1552682\ttotal: 2.45s\tremaining: 12.3ms\n",
      "995:\tlearn: 0.1550694\ttotal: 2.45s\tremaining: 9.84ms\n",
      "996:\tlearn: 0.1549536\ttotal: 2.45s\tremaining: 7.38ms\n",
      "997:\tlearn: 0.1549041\ttotal: 2.46s\tremaining: 4.92ms\n",
      "998:\tlearn: 0.1547439\ttotal: 2.46s\tremaining: 2.46ms\n",
      "999:\tlearn: 0.1546400\ttotal: 2.46s\tremaining: 0us\n"
     ]
    }
   ],
   "source": [
    "score_df = fit_and_score(models, X_train, y_train, X_test, y_test)"
   ]
  },
  {
   "cell_type": "code",
   "execution_count": 58,
   "metadata": {},
   "outputs": [
    {
     "data": {
      "text/html": [
       "<div>\n",
       "<style scoped>\n",
       "    .dataframe tbody tr th:only-of-type {\n",
       "        vertical-align: middle;\n",
       "    }\n",
       "\n",
       "    .dataframe tbody tr th {\n",
       "        vertical-align: top;\n",
       "    }\n",
       "\n",
       "    .dataframe thead th {\n",
       "        text-align: right;\n",
       "    }\n",
       "</style>\n",
       "<table border=\"1\" class=\"dataframe\">\n",
       "  <thead>\n",
       "    <tr style=\"text-align: right;\">\n",
       "      <th></th>\n",
       "      <th>Model</th>\n",
       "      <th>Training Accuracy</th>\n",
       "      <th>Training Precision</th>\n",
       "      <th>Training Recall</th>\n",
       "      <th>Training F1</th>\n",
       "      <th>Test Accuracy</th>\n",
       "      <th>Test Precision</th>\n",
       "      <th>Test Recall</th>\n",
       "      <th>Test F1</th>\n",
       "      <th>10-Fold CV Timing (seconds)</th>\n",
       "    </tr>\n",
       "  </thead>\n",
       "  <tbody>\n",
       "    <tr>\n",
       "      <th>4</th>\n",
       "      <td>XG Boosting</td>\n",
       "      <td>87.832512</td>\n",
       "      <td>87.787365</td>\n",
       "      <td>88.026597</td>\n",
       "      <td>87.500746</td>\n",
       "      <td>86.811352</td>\n",
       "      <td>75.657895</td>\n",
       "      <td>73.248408</td>\n",
       "      <td>74.433657</td>\n",
       "      <td>3.341062</td>\n",
       "    </tr>\n",
       "    <tr>\n",
       "      <th>5</th>\n",
       "      <td>Cat Boosting</td>\n",
       "      <td>88.374384</td>\n",
       "      <td>88.710455</td>\n",
       "      <td>88.115900</td>\n",
       "      <td>88.106941</td>\n",
       "      <td>86.644407</td>\n",
       "      <td>74.522293</td>\n",
       "      <td>74.522293</td>\n",
       "      <td>74.522293</td>\n",
       "      <td>43.529546</td>\n",
       "    </tr>\n",
       "    <tr>\n",
       "      <th>8</th>\n",
       "      <td>LG Boosting</td>\n",
       "      <td>88.817734</td>\n",
       "      <td>88.770552</td>\n",
       "      <td>89.006018</td>\n",
       "      <td>88.565337</td>\n",
       "      <td>86.477462</td>\n",
       "      <td>74.050633</td>\n",
       "      <td>74.522293</td>\n",
       "      <td>74.285714</td>\n",
       "      <td>3.986949</td>\n",
       "    </tr>\n",
       "    <tr>\n",
       "      <th>6</th>\n",
       "      <td>Gradient Boosting</td>\n",
       "      <td>85.517241</td>\n",
       "      <td>86.593456</td>\n",
       "      <td>84.175888</td>\n",
       "      <td>85.083439</td>\n",
       "      <td>86.310518</td>\n",
       "      <td>72.455090</td>\n",
       "      <td>77.070064</td>\n",
       "      <td>74.691358</td>\n",
       "      <td>1.771262</td>\n",
       "    </tr>\n",
       "    <tr>\n",
       "      <th>0</th>\n",
       "      <td>Random Forest</td>\n",
       "      <td>87.783251</td>\n",
       "      <td>88.038917</td>\n",
       "      <td>87.819841</td>\n",
       "      <td>87.554676</td>\n",
       "      <td>85.141903</td>\n",
       "      <td>73.287671</td>\n",
       "      <td>68.152866</td>\n",
       "      <td>70.627063</td>\n",
       "      <td>2.202073</td>\n",
       "    </tr>\n",
       "    <tr>\n",
       "      <th>2</th>\n",
       "      <td>K-Nearest Neighbors</td>\n",
       "      <td>84.876847</td>\n",
       "      <td>81.543197</td>\n",
       "      <td>90.353329</td>\n",
       "      <td>85.633702</td>\n",
       "      <td>83.472454</td>\n",
       "      <td>64.795918</td>\n",
       "      <td>80.891720</td>\n",
       "      <td>71.954674</td>\n",
       "      <td>0.155551</td>\n",
       "    </tr>\n",
       "    <tr>\n",
       "      <th>7</th>\n",
       "      <td>ADA Boosting</td>\n",
       "      <td>82.660099</td>\n",
       "      <td>84.535804</td>\n",
       "      <td>79.846632</td>\n",
       "      <td>81.815438</td>\n",
       "      <td>82.470785</td>\n",
       "      <td>65.853659</td>\n",
       "      <td>68.789809</td>\n",
       "      <td>67.289720</td>\n",
       "      <td>0.866682</td>\n",
       "    </tr>\n",
       "    <tr>\n",
       "      <th>9</th>\n",
       "      <td>Decision Trees</td>\n",
       "      <td>84.236453</td>\n",
       "      <td>83.157125</td>\n",
       "      <td>84.949524</td>\n",
       "      <td>83.529285</td>\n",
       "      <td>80.467446</td>\n",
       "      <td>61.764706</td>\n",
       "      <td>66.878981</td>\n",
       "      <td>64.220183</td>\n",
       "      <td>0.191487</td>\n",
       "    </tr>\n",
       "    <tr>\n",
       "      <th>1</th>\n",
       "      <td>Support Vector Machines</td>\n",
       "      <td>66.650246</td>\n",
       "      <td>66.535159</td>\n",
       "      <td>66.898660</td>\n",
       "      <td>66.665603</td>\n",
       "      <td>70.283806</td>\n",
       "      <td>45.914397</td>\n",
       "      <td>75.159236</td>\n",
       "      <td>57.004831</td>\n",
       "      <td>1.264616</td>\n",
       "    </tr>\n",
       "    <tr>\n",
       "      <th>3</th>\n",
       "      <td>Logistic Regression</td>\n",
       "      <td>64.039409</td>\n",
       "      <td>62.804008</td>\n",
       "      <td>68.868181</td>\n",
       "      <td>65.654822</td>\n",
       "      <td>62.270451</td>\n",
       "      <td>37.894737</td>\n",
       "      <td>68.789809</td>\n",
       "      <td>48.868778</td>\n",
       "      <td>0.278256</td>\n",
       "    </tr>\n",
       "  </tbody>\n",
       "</table>\n",
       "</div>"
      ],
      "text/plain": [
       "                     Model  Training Accuracy  Training Precision  \\\n",
       "4              XG Boosting          87.832512           87.787365   \n",
       "5             Cat Boosting          88.374384           88.710455   \n",
       "8              LG Boosting          88.817734           88.770552   \n",
       "6        Gradient Boosting          85.517241           86.593456   \n",
       "0            Random Forest          87.783251           88.038917   \n",
       "2      K-Nearest Neighbors          84.876847           81.543197   \n",
       "7             ADA Boosting          82.660099           84.535804   \n",
       "9           Decision Trees          84.236453           83.157125   \n",
       "1  Support Vector Machines          66.650246           66.535159   \n",
       "3      Logistic Regression          64.039409           62.804008   \n",
       "\n",
       "   Training Recall  Training F1  Test Accuracy  Test Precision  Test Recall  \\\n",
       "4        88.026597    87.500746      86.811352       75.657895    73.248408   \n",
       "5        88.115900    88.106941      86.644407       74.522293    74.522293   \n",
       "8        89.006018    88.565337      86.477462       74.050633    74.522293   \n",
       "6        84.175888    85.083439      86.310518       72.455090    77.070064   \n",
       "0        87.819841    87.554676      85.141903       73.287671    68.152866   \n",
       "2        90.353329    85.633702      83.472454       64.795918    80.891720   \n",
       "7        79.846632    81.815438      82.470785       65.853659    68.789809   \n",
       "9        84.949524    83.529285      80.467446       61.764706    66.878981   \n",
       "1        66.898660    66.665603      70.283806       45.914397    75.159236   \n",
       "3        68.868181    65.654822      62.270451       37.894737    68.789809   \n",
       "\n",
       "     Test F1  10-Fold CV Timing (seconds)  \n",
       "4  74.433657                     3.341062  \n",
       "5  74.522293                    43.529546  \n",
       "8  74.285714                     3.986949  \n",
       "6  74.691358                     1.771262  \n",
       "0  70.627063                     2.202073  \n",
       "2  71.954674                     0.155551  \n",
       "7  67.289720                     0.866682  \n",
       "9  64.220183                     0.191487  \n",
       "1  57.004831                     1.264616  \n",
       "3  48.868778                     0.278256  "
      ]
     },
     "execution_count": 58,
     "metadata": {},
     "output_type": "execute_result"
    }
   ],
   "source": [
    "score_df"
   ]
  },
  {
   "cell_type": "markdown",
   "metadata": {},
   "source": [
    "## 9. Evaluation"
   ]
  },
  {
   "cell_type": "code",
   "execution_count": 59,
   "metadata": {},
   "outputs": [
    {
     "name": "stderr",
     "output_type": "stream",
     "text": [
      "C:\\ProgramData\\Anaconda3\\lib\\site-packages\\xgboost\\sklearn.py:1146: UserWarning:\n",
      "\n",
      "The use of label encoder in XGBClassifier is deprecated and will be removed in a future release. To remove this warning, do the following: 1) Pass option use_label_encoder=False when constructing XGBClassifier object; and 2) Encode your labels (y) as integers starting with 0, i.e. 0, 1, 2, ..., [num_class - 1].\n",
      "\n"
     ]