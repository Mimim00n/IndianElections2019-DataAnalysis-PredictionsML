
{
 "cells": [
  {
   "cell_type": "markdown",
   "metadata": {},
   "source": [
    "# Indian General Elections 2019: Data Analysis And Prediction Using Machine Learning\n",
    "\n",
    "<img src=\"https://www.ft.com/__origami/service/image/v2/images/raw/http%3A%2F%2Fcom.ft.imagepublish.upp-prod-us.s3.amazonaws.com%2F5c2322c8-7deb-11e9-81d2-f785092ab560?fit=scale-down&source=next&width=700\" width=\"1000\">\n",
    "\n",
    "## Table Of Contents\n",
    "\n",
    "1. Introduction\n",
    "2. Environment Setup\n",
    "3. Gathering The Data\n",
    "4. Features\n",
    "5. Data Preprocessing and Basic Exploratory Data Analysis (EDA)\n",
    "6. Data Analysis\n",
    "    - Lok sabha 2019: Election results\n",
    "    - Party-wise vote share\n",
    "    - Age distribution of candidates\n",
    "    - Caste distribution of candidates\n",
    "    - Criminal records of candidates\n",
    "    - Key battlegrounds of the election\n",
    "7. Preparing the data\n",
    "    - Resampling the data\n",
    "    - Scaling the data\n",
    "8. Machine learning model experimentation\n",
    "    - Experimenting with different machine learning models\n",
    "    - Manual hyperparameter tuning\n",
    "    - Hyperparameter tuning using RandomizedSearchCV\n",
    "    - Hyperparameter tuning using GridSearchCV\n",
    "9. Evaluating the machine learning models\n",
    "    - Classification report\n",
    "    - Confusion matrix\n",
    "    - ROC Curve\n",
    "    - Cross-validated metrics\n",
    "10. Conclusion"
   ]
  },
  {
   "cell_type": "markdown",
   "metadata": {},
   "source": [
    "## 1. Introduction\n",
    "\n",
    "<p> <img src=\"https://upload.wikimedia.org/wikipedia/commons/thumb/3/33/March_2020_Parliament_Lok_sabha.svg/1200px-March_2020_Parliament_Lok_sabha.svg.png\", style=\"float:top\", width=\"300\", height=\"180\"> </p>\n",
    "<br>\n",
    "<p> The 2019 Indian general election was held in seven phases from 11 April to 19 May 2019 to constitute the 17th Lok Sabha. The votes were counted, and the result was declared on 23 May. About 911 million people were eligible to vote, and voter turnout was over 67 percent – the highest ever and the highest ever participation by women voters.\n",
    "The Bharatiya Janata Party won 303 seats, further increasing its substantial majority, and the BJP-led National Democratic Alliance (NDA) won 353 seats. The BJP won 37.36% of votes, while the NDA's combined ballot was 45% of the 60.37 crore votes that were polled. The Indian National Congress won just 52 seats, and the Congress-led United Progressive Alliance won 91. Other parties and their alliances won 98 seats. </p>\n",
    "<br>\n",
    "<p> In this notebook, I have used data visualization tools such as Matplotlib, Plotly, and Seaborn to visualize how India's people voted during the 2019 elections. I have also experimented with Random Forest Classifier, Support Vector Machine, and K-Nearest Neighbor machine learning models to make predictions. The models' hyperparameters were first tuned manually, and then GridSearchCV was used to find the most optimum results. I have also evaluated the performance metrics of these models and compared them with each other. </p>"
   ]
  },
  {
   "cell_type": "markdown",
   "metadata": {},
   "source": [
    "## 2. Environment Setup"
   ]
  },
  {
   "cell_type": "code",
   "execution_count": 1,
   "metadata": {},
   "outputs": [
    {
     "data": {
      "text/html": [
       "        <script type=\"text/javascript\">\n",
       "        window.PlotlyConfig = {MathJaxConfig: 'local'};\n",
       "        if (window.MathJax) {MathJax.Hub.Config({SVG: {font: \"STIX-Web\"}});}\n",
       "        if (typeof require !== 'undefined') {\n",
       "        require.undef(\"plotly\");\n",
       "        requirejs.config({\n",
       "            paths: {\n",
       "                'plotly': ['https://cdn.plot.ly/plotly-latest.min']\n",
       "            }\n",
       "        });\n",
       "        require(['plotly'], function(Plotly) {\n",
       "            window._Plotly = Plotly;\n",
       "        });\n",
       "        }\n",
       "        </script>\n",
       "        "
      ]
     },
     "metadata": {},
     "output_type": "display_data"
    }
   ],
   "source": [
    "# Import numpy, pandas for data manipulation\n",
    "import numpy as np\n",
    "import pandas as pd\n",
    "\n",
    "# Import plotly, matplotlib and seaborn as visualization tools\n",
    "import matplotlib.pyplot as plt\n",
    "from plotly import tools\n",
    "import chart_studio.plotly as py\n",
    "import plotly.graph_objs as go\n",
    "import plotly.figure_factory as ff\n",
    "import plotly.express as px\n",
    "from plotly.subplots import make_subplots\n",
    "from plotly.offline import download_plotlyjs, init_notebook_mode\n",
    "import seaborn as sns\n",
    "\n",
    "# Import for resampling the data\n",
    "from sklearn.utils import resample\n",
    "\n",
    "# Import for scaling the data\n",
    "from sklearn.preprocessing import StandardScaler\n",
    "\n",
    "# Import machine learning models\n",
    "from sklearn.ensemble import RandomForestClassifier\n",
    "from sklearn.svm import SVC\n",
    "from sklearn.neighbors import KNeighborsClassifier\n",
    "\n",
    "# Import model evaluation metrics\n",
    "from sklearn.metrics import classification_report, confusion_matrix, plot_roc_curve\n",
    "from sklearn.metrics import accuracy_score, precision_score, recall_score, f1_score\n",
    "from sklearn.model_selection import train_test_split, cross_val_score\n",
    "from sklearn.model_selection import RandomizedSearchCV, GridSearchCV\n",
    "\n",
    "# Plot should appear inside the jupyter notebook\n",
    "%matplotlib inline\n",
    "\n",
    "init_notebook_mode(connected=True)"
   ]
  },
  {
   "cell_type": "markdown",
   "metadata": {},
   "source": [
    "## 3. Gathering The Data\n",
    "\n",
    "The data for this project has been collected from Kaggle:\n",
    "https://www.kaggle.com/prakrutchauhan/indian-candidates-for-general-election-2019"
   ]
  },
  {
   "cell_type": "code",
   "execution_count": 2,
   "metadata": {},
   "outputs": [],
   "source": [
    "# Loading the dataset\n",
    "df = pd.read_csv(\"data/LS_2.0.csv\")"
   ]
  },
  {
   "cell_type": "code",
   "execution_count": 3,
   "metadata": {},
   "outputs": [
    {
     "data": {
      "text/html": [
       "<div>\n",
       "<style scoped>\n",
       "    .dataframe tbody tr th:only-of-type {\n",
       "        vertical-align: middle;\n",
       "    }\n",
       "\n",
       "    .dataframe tbody tr th {\n",
       "        vertical-align: top;\n",
       "    }\n",
       "\n",
       "    .dataframe thead th {\n",
       "        text-align: right;\n",
       "    }\n",
       "</style>\n",
       "<table border=\"1\" class=\"dataframe\">\n",
       "  <thead>\n",
       "    <tr style=\"text-align: right;\">\n",
       "      <th></th>\n",
       "      <th>STATE</th>\n",
       "      <th>CONSTITUENCY</th>\n",
       "      <th>NAME</th>\n",
       "      <th>WINNER</th>\n",
       "      <th>PARTY</th>\n",
       "      <th>SYMBOL</th>\n",
       "      <th>GENDER</th>\n",
       "      <th>CRIMINAL\\r\\nCASES</th>\n",
       "      <th>AGE</th>\n",
       "      <th>CATEGORY</th>\n",
       "      <th>EDUCATION</th>\n",
       "      <th>ASSETS</th>\n",
       "      <th>LIABILITIES</th>\n",
       "      <th>GENERAL\\r\\nVOTES</th>\n",
       "      <th>POSTAL\\r\\nVOTES</th>\n",
       "      <th>TOTAL\\r\\nVOTES</th>\n",
       "      <th>OVER TOTAL ELECTORS \\r\\nIN CONSTITUENCY</th>\n",
       "      <th>OVER TOTAL VOTES POLLED \\r\\nIN CONSTITUENCY</th>\n",
       "      <th>TOTAL ELECTORS</th>\n",
       "    </tr>\n",
       "  </thead>\n",
       "  <tbody>\n",
       "    <tr>\n",
       "      <th>0</th>\n",
       "      <td>Telangana</td>\n",
       "      <td>ADILABAD</td>\n",
       "      <td>SOYAM BAPU RAO</td>\n",
       "      <td>1</td>\n",
       "      <td>BJP</td>\n",
       "      <td>Lotus</td>\n",
       "      <td>MALE</td>\n",
       "      <td>52</td>\n",
       "      <td>52.0</td>\n",
       "      <td>ST</td>\n",
       "      <td>12th Pass</td>\n",
       "      <td>Rs 30,99,414\\r\\n ~ 30 Lacs+</td>\n",
       "      <td>Rs 2,31,450\\r\\n ~ 2 Lacs+</td>\n",
       "      <td>376892</td>\n",
       "      <td>482</td>\n",
       "      <td>377374</td>\n",
       "      <td>25.330684</td>\n",
       "      <td>35.468248</td>\n",
       "      <td>1489790</td>\n",
       "    </tr>\n",
       "    <tr>\n",
       "      <th>1</th>\n",
       "      <td>Telangana</td>\n",
       "      <td>ADILABAD</td>\n",
       "      <td>Godam Nagesh</td>\n",
       "      <td>0</td>\n",
       "      <td>TRS</td>\n",
       "      <td>Car</td>\n",
       "      <td>MALE</td>\n",
       "      <td>0</td>\n",
       "      <td>54.0</td>\n",
       "      <td>ST</td>\n",
       "      <td>Post Graduate</td>\n",
       "      <td>Rs 1,84,77,888\\r\\n ~ 1 Crore+</td>\n",
       "      <td>Rs 8,47,000\\r\\n ~ 8 Lacs+</td>\n",
       "      <td>318665</td>\n",
       "      <td>149</td>\n",
       "      <td>318814</td>\n",
       "      <td>21.399929</td>\n",
       "      <td>29.964370</td>\n",
       "      <td>1489790</td>\n",
       "    </tr>\n",
       "    <tr>\n",
       "      <th>2</th>\n",
       "      <td>Telangana</td>\n",
       "      <td>ADILABAD</td>\n",
       "      <td>RATHOD RAMESH</td>\n",
       "      <td>0</td>\n",
       "      <td>INC</td>\n",
       "      <td>Hand</td>\n",
       "      <td>MALE</td>\n",
       "      <td>3</td>\n",
       "      <td>52.0</td>\n",
       "      <td>ST</td>\n",
       "      <td>12th Pass</td>\n",
       "      <td>Rs 3,64,91,000\\r\\n ~ 3 Crore+</td>\n",
       "      <td>Rs 1,53,00,000\\r\\n ~ 1 Crore+</td>\n",
       "      <td>314057</td>\n",
       "      <td>181</td>\n",
       "      <td>314238</td>\n",
       "      <td>21.092771</td>\n",
       "      <td>29.534285</td>\n",
       "      <td>1489790</td>\n",
       "    </tr>\n",
       "    <tr>\n",
       "      <th>3</th>\n",
       "      <td>Telangana</td>\n",
       "      <td>ADILABAD</td>\n",
       "      <td>NOTA</td>\n",
       "      <td>0</td>\n",
       "      <td>NOTA</td>\n",
       "      <td>NaN</td>\n",
       "      <td>NaN</td>\n",
       "      <td>NaN</td>\n",
       "      <td>NaN</td>\n",
       "      <td>NaN</td>\n",
       "      <td>NaN</td>\n",
       "      <td>NaN</td>\n",
       "      <td>NaN</td>\n",
       "      <td>13030</td>\n",
       "      <td>6</td>\n",
       "      <td>13036</td>\n",
       "      <td>0.875023</td>\n",
       "      <td>1.225214</td>\n",
       "      <td>1489790</td>\n",
       "    </tr>\n",
       "    <tr>\n",
       "      <th>4</th>\n",
       "      <td>Uttar Pradesh</td>\n",
       "      <td>AGRA</td>\n",
       "      <td>Satyapal Singh Baghel</td>\n",
       "      <td>1</td>\n",
       "      <td>BJP</td>\n",
       "      <td>Lotus</td>\n",
       "      <td>MALE</td>\n",
       "      <td>5</td>\n",
       "      <td>58.0</td>\n",
       "      <td>SC</td>\n",
       "      <td>Doctorate</td>\n",
       "      <td>Rs 7,42,74,036\\r\\n ~ 7 Crore+</td>\n",
       "      <td>Rs 86,06,522\\r\\n ~ 86 Lacs+</td>\n",
       "      <td>644459</td>\n",
       "      <td>2416</td>\n",
       "      <td>646875</td>\n",
       "      <td>33.383823</td>\n",
       "      <td>56.464615</td>\n",
       "      <td>1937690</td>\n",
       "    </tr>\n",
       "  </tbody>\n",
       "</table>\n",
       "</div>"
      ],
      "text/plain": [
       "           STATE CONSTITUENCY                   NAME  WINNER PARTY SYMBOL  \\\n",
       "0      Telangana     ADILABAD         SOYAM BAPU RAO       1   BJP  Lotus   \n",
       "1      Telangana     ADILABAD           Godam Nagesh       0   TRS    Car   \n",
       "2      Telangana     ADILABAD          RATHOD RAMESH       0   INC   Hand   \n",
       "3      Telangana     ADILABAD                   NOTA       0  NOTA    NaN   \n",
       "4  Uttar Pradesh         AGRA  Satyapal Singh Baghel       1   BJP  Lotus   \n",
       "\n",
       "  GENDER CRIMINAL\\r\\nCASES   AGE CATEGORY      EDUCATION  \\\n",
       "0   MALE                52  52.0       ST      12th Pass   \n",
       "1   MALE                 0  54.0       ST  Post Graduate   \n",
       "2   MALE                 3  52.0       ST      12th Pass   \n",
       "3    NaN               NaN   NaN      NaN            NaN   \n",
       "4   MALE                 5  58.0       SC      Doctorate   \n",
       "\n",
       "                          ASSETS                    LIABILITIES  \\\n",
       "0    Rs 30,99,414\\r\\n ~ 30 Lacs+      Rs 2,31,450\\r\\n ~ 2 Lacs+   \n",
       "1  Rs 1,84,77,888\\r\\n ~ 1 Crore+      Rs 8,47,000\\r\\n ~ 8 Lacs+   \n",
       "2  Rs 3,64,91,000\\r\\n ~ 3 Crore+  Rs 1,53,00,000\\r\\n ~ 1 Crore+   \n",
       "3                            NaN                            NaN   \n",
       "4  Rs 7,42,74,036\\r\\n ~ 7 Crore+    Rs 86,06,522\\r\\n ~ 86 Lacs+   \n",
       "\n",
       "   GENERAL\\r\\nVOTES  POSTAL\\r\\nVOTES  TOTAL\\r\\nVOTES  \\\n",
       "0            376892              482          377374   \n",
       "1            318665              149          318814   \n",
       "2            314057              181          314238   \n",
       "3             13030                6           13036   \n",
       "4            644459             2416          646875   \n",
       "\n",
       "   OVER TOTAL ELECTORS \\r\\nIN CONSTITUENCY  \\\n",
       "0                                25.330684   \n",
       "1                                21.399929   \n",
       "2                                21.092771   \n",
       "3                                 0.875023   \n",
       "4                                33.383823   \n",
       "\n",
       "   OVER TOTAL VOTES POLLED \\r\\nIN CONSTITUENCY  TOTAL ELECTORS  \n",
       "0                                    35.468248         1489790  \n",
       "1                                    29.964370         1489790  \n",
       "2                                    29.534285         1489790  \n",
       "3                                     1.225214         1489790  \n",
       "4                                    56.464615         1937690  "
      ]
     },
     "execution_count": 3,
     "metadata": {},
     "output_type": "execute_result"
    }
   ],
   "source": [
    "df.head()"
   ]
  },
  {
   "cell_type": "code",
   "execution_count": 4,
   "metadata": {},
   "outputs": [
    {
     "data": {
      "text/plain": [
       "(2263, 19)"
      ]
     },
     "execution_count": 4,
     "metadata": {},
     "output_type": "execute_result"
    }
   ],
   "source": [
    "df.shape"
   ]
  },
  {
   "cell_type": "code",
   "execution_count": 5,
   "metadata": {},
   "outputs": [
    {
     "data": {
      "text/plain": [
       "Index(['STATE', 'CONSTITUENCY', 'NAME', 'WINNER', 'PARTY', 'SYMBOL', 'GENDER',\n",
       "       'CRIMINAL\\r\\nCASES', 'AGE', 'CATEGORY', 'EDUCATION', 'ASSETS',\n",
       "       'LIABILITIES', 'GENERAL\\r\\nVOTES', 'POSTAL\\r\\nVOTES', 'TOTAL\\r\\nVOTES',\n",
       "       'OVER TOTAL ELECTORS \\r\\nIN CONSTITUENCY',\n",
       "       'OVER TOTAL VOTES POLLED \\r\\nIN CONSTITUENCY', 'TOTAL ELECTORS'],\n",
       "      dtype='object')"
      ]
     },
     "execution_count": 5,
     "metadata": {},
     "output_type": "execute_result"
    }
   ],
   "source": [
    "df.columns"
   ]
  },
  {
   "cell_type": "markdown",
   "metadata": {},
   "source": [
    "## 4. Features\n",
    "\n",
    "- STATE\n",
    "- CONSTITUENCY\n",
    "- NAME\n",
    "- WINNER\n",
    "- PARTY\n",
    "- SYMBOL\n",
    "- GENDER\n",
    "- CRIMINAL CASES\n",
    "- AGE\n",
    "- CATEGORY\n",
    "- EDUCATION\n",
    "- ASSETS\n",
    "- LIABILITIES\n",
    "- GENERAL VOTES \n",
    "- POSTAL VOTES\n",
    "- TOTAL VOTES\n",
    "- OVER TOTAL ELECTORS IN CONSTITUENCY\n",
    "- OVER TOTAL VOTES POLLED IN CONSTITUENCY\n",
    "- TOTAL ELECTORS"
   ]
  },
  {
   "cell_type": "markdown",
   "metadata": {},
   "source": [
    "## 5. Data Preprocessing and Exploratory Data Analysis (EDA)"
   ]
  },
  {
   "cell_type": "code",
   "execution_count": 6,
   "metadata": {},
   "outputs": [
    {
     "data": {
      "text/html": [
       "<div>\n",
       "<style scoped>\n",
       "    .dataframe tbody tr th:only-of-type {\n",
       "        vertical-align: middle;\n",
       "    }\n",
       "\n",
       "    .dataframe tbody tr th {\n",
       "        vertical-align: top;\n",
       "    }\n",
       "\n",
       "    .dataframe thead th {\n",
       "        text-align: right;\n",
       "    }\n",
       "</style>\n",
       "<table border=\"1\" class=\"dataframe\">\n",
       "  <thead>\n",
       "    <tr style=\"text-align: right;\">\n",
       "      <th></th>\n",
       "      <th>STATE</th>\n",
       "      <th>CONSTITUENCY</th>\n",
       "      <th>NAME</th>\n",
       "      <th>WINNER</th>\n",
       "      <th>PARTY</th>\n",
       "      <th>SYMBOL</th>\n",
       "      <th>GENDER</th>\n",
       "      <th>CRIMINAL\\r\\nCASES</th>\n",
       "      <th>AGE</th>\n",
       "      <th>CATEGORY</th>\n",
       "      <th>EDUCATION</th>\n",
       "      <th>ASSETS</th>\n",
       "      <th>LIABILITIES</th>\n",
       "      <th>GENERAL\\r\\nVOTES</th>\n",
       "      <th>POSTAL\\r\\nVOTES</th>\n",
       "      <th>TOTAL\\r\\nVOTES</th>\n",
       "      <th>OVER TOTAL ELECTORS \\r\\nIN CONSTITUENCY</th>\n",
       "      <th>OVER TOTAL VOTES POLLED \\r\\nIN CONSTITUENCY</th>\n",
       "      <th>TOTAL ELECTORS</th>\n",
       "    </tr>\n",
       "  </thead>\n",
       "  <tbody>\n",
       "    <tr>\n",
       "      <th>0</th>\n",
       "      <td>Telangana</td>\n",
       "      <td>ADILABAD</td>\n",
       "      <td>SOYAM BAPU RAO</td>\n",
       "      <td>1</td>\n",
       "      <td>BJP</td>\n",
       "      <td>Lotus</td>\n",
       "      <td>MALE</td>\n",
       "      <td>52</td>\n",
       "      <td>52.0</td>\n",
       "      <td>ST</td>\n",
       "      <td>12th Pass</td>\n",
       "      <td>Rs 30,99,414\\r\\n ~ 30 Lacs+</td>\n",
       "      <td>Rs 2,31,450\\r\\n ~ 2 Lacs+</td>\n",
       "      <td>376892</td>\n",
       "      <td>482</td>\n",
       "      <td>377374</td>\n",
       "      <td>25.330684</td>\n",
       "      <td>35.468248</td>\n",
       "      <td>1489790</td>\n",
       "    </tr>\n",
       "    <tr>\n",
       "      <th>1</th>\n",
       "      <td>Telangana</td>\n",
       "      <td>ADILABAD</td>\n",
       "      <td>Godam Nagesh</td>\n",
       "      <td>0</td>\n",
       "      <td>TRS</td>\n",
       "      <td>Car</td>\n",
       "      <td>MALE</td>\n",
       "      <td>0</td>\n",
       "      <td>54.0</td>\n",
       "      <td>ST</td>\n",
       "      <td>Post Graduate</td>\n",
       "      <td>Rs 1,84,77,888\\r\\n ~ 1 Crore+</td>\n",
       "      <td>Rs 8,47,000\\r\\n ~ 8 Lacs+</td>\n",
       "      <td>318665</td>\n",
       "      <td>149</td>\n",
       "      <td>318814</td>\n",
       "      <td>21.399929</td>\n",
       "      <td>29.964370</td>\n",
       "      <td>1489790</td>\n",
       "    </tr>\n",
       "    <tr>\n",
       "      <th>2</th>\n",
       "      <td>Telangana</td>\n",
       "      <td>ADILABAD</td>\n",
       "      <td>RATHOD RAMESH</td>\n",
       "      <td>0</td>\n",
       "      <td>INC</td>\n",
       "      <td>Hand</td>\n",
       "      <td>MALE</td>\n",
       "      <td>3</td>\n",
       "      <td>52.0</td>\n",
       "      <td>ST</td>\n",
       "      <td>12th Pass</td>\n",
       "      <td>Rs 3,64,91,000\\r\\n ~ 3 Crore+</td>\n",
       "      <td>Rs 1,53,00,000\\r\\n ~ 1 Crore+</td>\n",
       "      <td>314057</td>\n",
       "      <td>181</td>\n",
       "      <td>314238</td>\n",
       "      <td>21.092771</td>\n",
       "      <td>29.534285</td>\n",
       "      <td>1489790</td>\n",
       "    </tr>\n",
       "    <tr>\n",
       "      <th>3</th>\n",
       "      <td>Telangana</td>\n",
       "      <td>ADILABAD</td>\n",
       "      <td>NOTA</td>\n",
       "      <td>0</td>\n",
       "      <td>NOTA</td>\n",
       "      <td>NaN</td>\n",
       "      <td>NaN</td>\n",
       "      <td>NaN</td>\n",
       "      <td>NaN</td>\n",
       "      <td>NaN</td>\n",
       "      <td>NaN</td>\n",
       "      <td>NaN</td>\n",
       "      <td>NaN</td>\n",
       "      <td>13030</td>\n",
       "      <td>6</td>\n",
       "      <td>13036</td>\n",
       "      <td>0.875023</td>\n",
       "      <td>1.225214</td>\n",
       "      <td>1489790</td>\n",
       "    </tr>\n",
       "    <tr>\n",
       "      <th>4</th>\n",
       "      <td>Uttar Pradesh</td>\n",
       "      <td>AGRA</td>\n",
       "      <td>Satyapal Singh Baghel</td>\n",
       "      <td>1</td>\n",
       "      <td>BJP</td>\n",
       "      <td>Lotus</td>\n",
       "      <td>MALE</td>\n",
       "      <td>5</td>\n",
       "      <td>58.0</td>\n",
       "      <td>SC</td>\n",
       "      <td>Doctorate</td>\n",
       "      <td>Rs 7,42,74,036\\r\\n ~ 7 Crore+</td>\n",
       "      <td>Rs 86,06,522\\r\\n ~ 86 Lacs+</td>\n",
       "      <td>644459</td>\n",
       "      <td>2416</td>\n",
       "      <td>646875</td>\n",
       "      <td>33.383823</td>\n",
       "      <td>56.464615</td>\n",
       "      <td>1937690</td>\n",
       "    </tr>\n",
       "  </tbody>\n",
       "</table>\n",
       "</div>"
      ],
      "text/plain": [
       "           STATE CONSTITUENCY                   NAME  WINNER PARTY SYMBOL  \\\n",
       "0      Telangana     ADILABAD         SOYAM BAPU RAO       1   BJP  Lotus   \n",
       "1      Telangana     ADILABAD           Godam Nagesh       0   TRS    Car   \n",
       "2      Telangana     ADILABAD          RATHOD RAMESH       0   INC   Hand   \n",
       "3      Telangana     ADILABAD                   NOTA       0  NOTA    NaN   \n",
       "4  Uttar Pradesh         AGRA  Satyapal Singh Baghel       1   BJP  Lotus   \n",
       "\n",
       "  GENDER CRIMINAL\\r\\nCASES   AGE CATEGORY      EDUCATION  \\\n",
       "0   MALE                52  52.0       ST      12th Pass   \n",
       "1   MALE                 0  54.0       ST  Post Graduate   \n",
       "2   MALE                 3  52.0       ST      12th Pass   \n",
       "3    NaN               NaN   NaN      NaN            NaN   \n",
       "4   MALE                 5  58.0       SC      Doctorate   \n",
       "\n",
       "                          ASSETS                    LIABILITIES  \\\n",
       "0    Rs 30,99,414\\r\\n ~ 30 Lacs+      Rs 2,31,450\\r\\n ~ 2 Lacs+   \n",
       "1  Rs 1,84,77,888\\r\\n ~ 1 Crore+      Rs 8,47,000\\r\\n ~ 8 Lacs+   \n",
       "2  Rs 3,64,91,000\\r\\n ~ 3 Crore+  Rs 1,53,00,000\\r\\n ~ 1 Crore+   \n",
       "3                            NaN                            NaN   \n",
       "4  Rs 7,42,74,036\\r\\n ~ 7 Crore+    Rs 86,06,522\\r\\n ~ 86 Lacs+   \n",
       "\n",
       "   GENERAL\\r\\nVOTES  POSTAL\\r\\nVOTES  TOTAL\\r\\nVOTES  \\\n",
       "0            376892              482          377374   \n",
       "1            318665              149          318814   \n",
       "2            314057              181          314238   \n",
       "3             13030                6           13036   \n",
       "4            644459             2416          646875   \n",
       "\n",
       "   OVER TOTAL ELECTORS \\r\\nIN CONSTITUENCY  \\\n",
       "0                                25.330684   \n",
       "1                                21.399929   \n",
       "2                                21.092771   \n",
       "3                                 0.875023   \n",
       "4                                33.383823   \n",
       "\n",
       "   OVER TOTAL VOTES POLLED \\r\\nIN CONSTITUENCY  TOTAL ELECTORS  \n",
       "0                                    35.468248         1489790  \n",
       "1                                    29.964370         1489790  \n",
       "2                                    29.534285         1489790  \n",
       "3                                     1.225214         1489790  \n",
       "4                                    56.464615         1937690  "
      ]
     },
     "execution_count": 6,
     "metadata": {},
     "output_type": "execute_result"
    }
   ],
   "source": [
    "df.head()"
   ]
  },
  {
   "cell_type": "code",
   "execution_count": 7,
   "metadata": {},
   "outputs": [
    {
     "name": "stdout",
     "output_type": "stream",
     "text": [
      "<class 'pandas.core.frame.DataFrame'>\n",
      "RangeIndex: 2263 entries, 0 to 2262\n",
      "Data columns (total 19 columns):\n",
      " #   Column                                     Non-Null Count  Dtype  \n",
      "---  ------                                     --------------  -----  \n",
      " 0   STATE                                      2263 non-null   object \n",
      " 1   CONSTITUENCY                               2263 non-null   object \n",
      " 2   NAME                                       2263 non-null   object \n",
      " 3   WINNER                                     2263 non-null   int64  \n",
      " 4   PARTY                                      2263 non-null   object \n",
      " 5   SYMBOL                                     2018 non-null   object \n",
      " 6   GENDER                                     2018 non-null   object \n",
      " 7   CRIMINAL\r\n",
      "CASES                            2018 non-null   object \n",
      " 8   AGE                                        2018 non-null   float64\n",
      " 9   CATEGORY                                   2018 non-null   object \n",
      " 10  EDUCATION                                  2018 non-null   object \n",
      " 11  ASSETS                                     2018 non-null   object \n",
      " 12  LIABILITIES                                2018 non-null   object \n",
      " 13  GENERAL\r\n",
      "VOTES                             2263 non-null   int64  \n",
      " 14  POSTAL\r\n",
      "VOTES                              2263 non-null   int64  \n",
      " 15  TOTAL\r\n",
      "VOTES                               2263 non-null   int64  \n",
      " 16  OVER TOTAL ELECTORS \r\n",
      "IN CONSTITUENCY      2263 non-null   float64\n",
      " 17  OVER TOTAL VOTES POLLED \r\n",
      "IN CONSTITUENCY  2263 non-null   float64\n",
      " 18  TOTAL ELECTORS                             2263 non-null   int64  \n",
      "dtypes: float64(3), int64(5), object(11)\n",
      "memory usage: 336.0+ KB\n"
     ]
    }
   ],
   "source": [
    "df.info()"
   ]
  },
  {
   "cell_type": "code",
   "execution_count": 8,
   "metadata": {},
   "outputs": [],
   "source": [
    "df.columns = df.columns.str.replace('\\r','')\n",
    "df.columns = df.columns.str.replace('\\n','')"
   ]
  },
  {
   "cell_type": "code",
   "execution_count": 9,
   "metadata": {},
   "outputs": [
    {
     "data": {
      "text/plain": [
       "Index(['STATE', 'CONSTITUENCY', 'NAME', 'WINNER', 'PARTY', 'SYMBOL', 'GENDER',\n",
       "       'CRIMINALCASES', 'AGE', 'CATEGORY', 'EDUCATION', 'ASSETS',\n",
       "       'LIABILITIES', 'GENERALVOTES', 'POSTALVOTES', 'TOTALVOTES',\n",
       "       'OVER TOTAL ELECTORS IN CONSTITUENCY',\n",
       "       'OVER TOTAL VOTES POLLED IN CONSTITUENCY', 'TOTAL ELECTORS'],\n",
       "      dtype='object')"
      ]
     },
     "execution_count": 9,
     "metadata": {},
     "output_type": "execute_result"
    }
   ],
   "source": [
    "df.columns"
   ]
  },
  {
   "cell_type": "code",
   "execution_count": 10,
   "metadata": {},
   "outputs": [
    {
     "data": {
      "text/html": [
       "<div>\n",
       "<style scoped>\n",
       "    .dataframe tbody tr th:only-of-type {\n",
       "        vertical-align: middle;\n",
       "    }\n",
       "\n",
       "    .dataframe tbody tr th {\n",
       "        vertical-align: top;\n",
       "    }\n",
       "\n",
       "    .dataframe thead th {\n",
       "        text-align: right;\n",
       "    }\n",
       "</style>\n",
       "<table border=\"1\" class=\"dataframe\">\n",
       "  <thead>\n",
       "    <tr style=\"text-align: right;\">\n",
       "      <th></th>\n",
       "      <th>WINNER</th>\n",
       "      <th>AGE</th>\n",
       "      <th>GENERALVOTES</th>\n",
       "      <th>POSTALVOTES</th>\n",
       "      <th>TOTALVOTES</th>\n",
       "      <th>OVER TOTAL ELECTORS IN CONSTITUENCY</th>\n",
       "      <th>OVER TOTAL VOTES POLLED IN CONSTITUENCY</th>\n",
       "      <th>TOTAL ELECTORS</th>\n",
       "    </tr>\n",
       "  </thead>\n",
       "  <tbody>\n",
       "    <tr>\n",
       "      <th>count</th>\n",
       "      <td>2263.000000</td>\n",
       "      <td>2018.000000</td>\n",
       "      <td>2.263000e+03</td>\n",
       "      <td>2263.000000</td>\n",
       "      <td>2.263000e+03</td>\n",
       "      <td>2263.000000</td>\n",
       "      <td>2263.000000</td>\n",
       "      <td>2.263000e+03</td>\n",
       "    </tr>\n",
       "    <tr>\n",
       "      <th>mean</th>\n",
       "      <td>0.238179</td>\n",
       "      <td>52.273538</td>\n",
       "      <td>2.615991e+05</td>\n",
       "      <td>990.710561</td>\n",
       "      <td>2.625898e+05</td>\n",
       "      <td>15.811412</td>\n",
       "      <td>23.190525</td>\n",
       "      <td>1.658016e+06</td>\n",
       "    </tr>\n",
       "    <tr>\n",
       "      <th>std</th>\n",
       "      <td>0.426064</td>\n",
       "      <td>11.869373</td>\n",
       "      <td>2.549906e+05</td>\n",
       "      <td>1602.839174</td>\n",
       "      <td>2.559822e+05</td>\n",
       "      <td>14.962861</td>\n",
       "      <td>21.564758</td>\n",
       "      <td>3.145187e+05</td>\n",
       "    </tr>\n",
       "    <tr>\n",
       "      <th>min</th>\n",
       "      <td>0.000000</td>\n",
       "      <td>25.000000</td>\n",
       "      <td>1.339000e+03</td>\n",
       "      <td>0.000000</td>\n",
       "      <td>1.342000e+03</td>\n",
       "      <td>0.097941</td>\n",
       "      <td>1.000039</td>\n",
       "      <td>5.518900e+04</td>\n",
       "    </tr>\n",
       "    <tr>\n",
       "      <th>25%</th>\n",
       "      <td>0.000000</td>\n",
       "      <td>43.250000</td>\n",
       "      <td>2.103450e+04</td>\n",
       "      <td>57.000000</td>\n",
       "      <td>2.116250e+04</td>\n",
       "      <td>1.296518</td>\n",
       "      <td>1.899502</td>\n",
       "      <td>1.530014e+06</td>\n",
       "    </tr>\n",
       "    <tr>\n",
       "      <th>50%</th>\n",
       "      <td>0.000000</td>\n",
       "      <td>52.000000</td>\n",
       "      <td>1.539340e+05</td>\n",
       "      <td>316.000000</td>\n",
       "      <td>1.544890e+05</td>\n",
       "      <td>10.510553</td>\n",
       "      <td>16.221721</td>\n",
       "      <td>1.679030e+06</td>\n",
       "    </tr>\n",
       "    <tr>\n",
       "      <th>75%</th>\n",
       "      <td>0.000000</td>\n",
       "      <td>61.000000</td>\n",
       "      <td>4.858040e+05</td>\n",
       "      <td>1385.000000</td>\n",
       "      <td>4.872315e+05</td>\n",
       "      <td>29.468185</td>\n",
       "      <td>42.590233</td>\n",
       "      <td>1.816857e+06</td>\n",
       "    </tr>\n",
       "    <tr>\n",
       "      <th>max</th>\n",
       "      <td>1.000000</td>\n",
       "      <td>86.000000</td>\n",
       "      <td>1.066824e+06</td>\n",
       "      <td>19367.000000</td>\n",
       "      <td>1.068569e+06</td>\n",
       "      <td>51.951012</td>\n",
       "      <td>74.411856</td>\n",
       "      <td>3.150313e+06</td>\n",
       "    </tr>\n",
       "  </tbody>\n",
       "</table>\n",
       "</div>"
      ],
      "text/plain": [
       "            WINNER          AGE  GENERALVOTES   POSTALVOTES    TOTALVOTES  \\\n",
       "count  2263.000000  2018.000000  2.263000e+03   2263.000000  2.263000e+03   \n",
       "mean      0.238179    52.273538  2.615991e+05    990.710561  2.625898e+05   \n",
       "std       0.426064    11.869373  2.549906e+05   1602.839174  2.559822e+05   \n",
       "min       0.000000    25.000000  1.339000e+03      0.000000  1.342000e+03   \n",
       "25%       0.000000    43.250000  2.103450e+04     57.000000  2.116250e+04   \n",
       "50%       0.000000    52.000000  1.539340e+05    316.000000  1.544890e+05   \n",
       "75%       0.000000    61.000000  4.858040e+05   1385.000000  4.872315e+05   \n",
       "max       1.000000    86.000000  1.066824e+06  19367.000000  1.068569e+06   \n",
       "\n",
       "       OVER TOTAL ELECTORS IN CONSTITUENCY  \\\n",
       "count                          2263.000000   \n",
       "mean                             15.811412   \n",
       "std                              14.962861   \n",
       "min                               0.097941   \n",
       "25%                               1.296518   \n",
       "50%                              10.510553   \n",
       "75%                              29.468185   \n",
       "max                              51.951012   \n",
       "\n",
       "       OVER TOTAL VOTES POLLED IN CONSTITUENCY  TOTAL ELECTORS  \n",
       "count                              2263.000000    2.263000e+03  \n",
       "mean                                 23.190525    1.658016e+06  \n",
       "std                                  21.564758    3.145187e+05  \n",
       "min                                   1.000039    5.518900e+04  \n",
       "25%                                   1.899502    1.530014e+06  \n",
       "50%                                  16.221721    1.679030e+06  \n",
       "75%                                  42.590233    1.816857e+06  \n",
       "max                                  74.411856    3.150313e+06  "
      ]
     },
     "execution_count": 10,
     "metadata": {},
     "output_type": "execute_result"
    }
   ],
   "source": [
    "df.describe()"
   ]
  },
  {
   "cell_type": "code",
   "execution_count": 11,
   "metadata": {},
   "outputs": [
    {
     "data": {
      "text/plain": [
       "STATE                                      0\n",
       "CONSTITUENCY                               0\n",
       "NAME                                       0\n",
       "WINNER                                     0\n",
       "PARTY                                      0\n",
       "SYMBOL                                     0\n",
       "GENDER                                     0\n",
       "CRIMINALCASES                              0\n",
       "AGE                                        0\n",
       "CATEGORY                                   0\n",
       "EDUCATION                                  0\n",
       "ASSETS                                     0\n",
       "LIABILITIES                                0\n",
       "GENERALVOTES                               0\n",
       "POSTALVOTES                                0\n",
       "TOTALVOTES                                 0\n",
       "OVER TOTAL ELECTORS IN CONSTITUENCY        0\n",
       "OVER TOTAL VOTES POLLED IN CONSTITUENCY    0\n",
       "TOTAL ELECTORS                             0\n",
       "dtype: int64"
      ]
     },
     "execution_count": 11,
     "metadata": {},
     "output_type": "execute_result"
    }
   ],
   "source": [
    "# Checking to see if the dataset contains any null values. We need to exclude NOTA votes while checking it.\n",
    "df_NOTA = df[df['PARTY']!= 'NOTA']\n",
    "df_NOTA.isna().sum()"
   ]
  },
  {
   "cell_type": "code",
   "execution_count": 12,
   "metadata": {},
   "outputs": [
    {
     "data": {
      "text/plain": [
       "(2018, 19)"
      ]
     },
     "execution_count": 12,
     "metadata": {},
     "output_type": "execute_result"
    }
   ],
   "source": [
    "df_NOTA.shape"
   ]
  },
  {
   "cell_type": "code",
   "execution_count": 13,
   "metadata": {},
   "outputs": [
    {
     "data": {
      "text/html": [
       "<div>\n",
       "<style scoped>\n",
       "    .dataframe tbody tr th:only-of-type {\n",
       "        vertical-align: middle;\n",
       "    }\n",
       "\n",
       "    .dataframe tbody tr th {\n",
       "        vertical-align: top;\n",
       "    }\n",
       "\n",
       "    .dataframe thead th {\n",
       "        text-align: right;\n",
       "    }\n",
       "</style>\n",
       "<table border=\"1\" class=\"dataframe\">\n",
       "  <thead>\n",
       "    <tr style=\"text-align: right;\">\n",
       "      <th></th>\n",
       "      <th>STATE</th>\n",
       "      <th>CONSTITUENCY</th>\n",
       "      <th>NAME</th>\n",
       "      <th>WINNER</th>\n",
       "      <th>PARTY</th>\n",
       "      <th>SYMBOL</th>\n",
       "      <th>GENDER</th>\n",
       "      <th>CRIMINALCASES</th>\n",
       "      <th>AGE</th>\n",
       "      <th>CATEGORY</th>\n",
       "      <th>EDUCATION</th>\n",
       "      <th>ASSETS</th>\n",
       "      <th>LIABILITIES</th>\n",
       "      <th>GENERALVOTES</th>\n",
       "      <th>POSTALVOTES</th>\n",
       "      <th>TOTALVOTES</th>\n",
       "      <th>OVER TOTAL ELECTORS IN CONSTITUENCY</th>\n",
       "      <th>OVER TOTAL VOTES POLLED IN CONSTITUENCY</th>\n",
       "      <th>TOTAL ELECTORS</th>\n",
       "    </tr>\n",
       "  </thead>\n",
       "  <tbody>\n",
       "    <tr>\n",
       "      <th>0</th>\n",
       "      <td>Telangana</td>\n",
       "      <td>ADILABAD</td>\n",
       "      <td>SOYAM BAPU RAO</td>\n",
       "      <td>1</td>\n",
       "      <td>BJP</td>\n",
       "      <td>Lotus</td>\n",
       "      <td>MALE</td>\n",
       "      <td>52</td>\n",
       "      <td>52.0</td>\n",
       "      <td>ST</td>\n",
       "      <td>12th Pass</td>\n",
       "      <td>Rs 30,99,414\\r\\n ~ 30 Lacs+</td>\n",
       "      <td>Rs 2,31,450\\r\\n ~ 2 Lacs+</td>\n",
       "      <td>376892</td>\n",
       "      <td>482</td>\n",
       "      <td>377374</td>\n",
       "      <td>25.330684</td>\n",
       "      <td>35.468248</td>\n",
       "      <td>1489790</td>\n",
       "    </tr>\n",
       "    <tr>\n",
       "      <th>1</th>\n",
       "      <td>Telangana</td>\n",
       "      <td>ADILABAD</td>\n",
       "      <td>Godam Nagesh</td>\n",
       "      <td>0</td>\n",
       "      <td>TRS</td>\n",
       "      <td>Car</td>\n",
       "      <td>MALE</td>\n",
       "      <td>0</td>\n",
       "      <td>54.0</td>\n",
       "      <td>ST</td>\n",
       "      <td>Post Graduate</td>\n",
       "      <td>Rs 1,84,77,888\\r\\n ~ 1 Crore+</td>\n",
       "      <td>Rs 8,47,000\\r\\n ~ 8 Lacs+</td>\n",
       "      <td>318665</td>\n",
       "      <td>149</td>\n",
       "      <td>318814</td>\n",
       "      <td>21.399929</td>\n",
       "      <td>29.964370</td>\n",
       "      <td>1489790</td>\n",
       "    </tr>\n",
       "    <tr>\n",
       "      <th>2</th>\n",
       "      <td>Telangana</td>\n",
       "      <td>ADILABAD</td>\n",
       "      <td>RATHOD RAMESH</td>\n",
       "      <td>0</td>\n",
       "      <td>INC</td>\n",
       "      <td>Hand</td>\n",
       "      <td>MALE</td>\n",
       "      <td>3</td>\n",
       "      <td>52.0</td>\n",
       "      <td>ST</td>\n",
       "      <td>12th Pass</td>\n",
       "      <td>Rs 3,64,91,000\\r\\n ~ 3 Crore+</td>\n",
       "      <td>Rs 1,53,00,000\\r\\n ~ 1 Crore+</td>\n",
       "      <td>314057</td>\n",
       "      <td>181</td>\n",
       "      <td>314238</td>\n",
       "      <td>21.092771</td>\n",
       "      <td>29.534285</td>\n",
       "      <td>1489790</td>\n",
       "    </tr>\n",
       "    <tr>\n",
       "      <th>4</th>\n",
       "      <td>Uttar Pradesh</td>\n",
       "      <td>AGRA</td>\n",
       "      <td>Satyapal Singh Baghel</td>\n",
       "      <td>1</td>\n",
       "      <td>BJP</td>\n",
       "      <td>Lotus</td>\n",
       "      <td>MALE</td>\n",
       "      <td>5</td>\n",
       "      <td>58.0</td>\n",
       "      <td>SC</td>\n",
       "      <td>Doctorate</td>\n",
       "      <td>Rs 7,42,74,036\\r\\n ~ 7 Crore+</td>\n",
       "      <td>Rs 86,06,522\\r\\n ~ 86 Lacs+</td>\n",
       "      <td>644459</td>\n",
       "      <td>2416</td>\n",
       "      <td>646875</td>\n",
       "      <td>33.383823</td>\n",
       "      <td>56.464615</td>\n",
       "      <td>1937690</td>\n",
       "    </tr>\n",
       "    <tr>\n",
       "      <th>5</th>\n",
       "      <td>Uttar Pradesh</td>\n",
       "      <td>AGRA</td>\n",
       "      <td>Manoj Kumar Soni</td>\n",
       "      <td>0</td>\n",
       "      <td>BSP</td>\n",
       "      <td>Elephant</td>\n",
       "      <td>MALE</td>\n",
       "      <td>0</td>\n",
       "      <td>47.0</td>\n",
       "      <td>SC</td>\n",
       "      <td>Post Graduate</td>\n",
       "      <td>Rs 13,37,84,385\\r\\n ~ 13 Crore+</td>\n",
       "      <td>Rs 2,22,51,891\\r\\n ~ 2 Crore+</td>\n",
       "      <td>434199</td>\n",
       "      <td>1130</td>\n",
       "      <td>435329</td>\n",
       "      <td>22.466390</td>\n",
       "      <td>37.999125</td>\n",
       "      <td>1937690</td>\n",
       "    </tr>\n",
       "    <tr>\n",
       "      <th>6</th>\n",
       "      <td>Uttar Pradesh</td>\n",
       "      <td>AGRA</td>\n",
       "      <td>Preeta Harit</td>\n",
       "      <td>0</td>\n",
       "      <td>INC</td>\n",
       "      <td>Hand</td>\n",
       "      <td>FEMALE</td>\n",
       "      <td>0</td>\n",
       "      <td>54.0</td>\n",
       "      <td>SC</td>\n",
       "      <td>Post Graduate</td>\n",
       "      <td>Rs 5,50,75,753\\r\\n ~ 5 Crore+</td>\n",
       "      <td>Rs 0\\r\\n ~</td>\n",
       "      <td>44877</td>\n",
       "      <td>272</td>\n",
       "      <td>45149</td>\n",
       "      <td>2.330042</td>\n",
       "      <td>3.940979</td>\n",
       "      <td>1937690</td>\n",
       "    </tr>\n",
       "    <tr>\n",
       "      <th>7</th>\n",
       "      <td>Maharashtra</td>\n",
       "      <td>AHMADNAGAR</td>\n",
       "      <td>Dr. SUJAY RADHAKRISHNA VIKHEPATIL</td>\n",
       "      <td>1</td>\n",
       "      <td>BJP</td>\n",
       "      <td>Lotus</td>\n",
       "      <td>MALE</td>\n",
       "      <td>0</td>\n",
       "      <td>37.0</td>\n",
       "      <td>GENERAL</td>\n",
       "      <td>Doctorate</td>\n",
       "      <td>Rs 16,86,64,576\\r\\n ~ 16 Crore+</td>\n",
       "      <td>Rs 26,23,964\\r\\n ~ 26 Lacs+</td>\n",
       "      <td>696961</td>\n",
       "      <td>7699</td>\n",
       "      <td>704660</td>\n",
       "      <td>37.856533</td>\n",
       "      <td>58.425159</td>\n",
       "      <td>1861396</td>\n",
       "    </tr>\n",
       "    <tr>\n",
       "      <th>8</th>\n",
       "      <td>Maharashtra</td>\n",
       "      <td>AHMADNAGAR</td>\n",
       "      <td>SANGRAM ARUNKAKA JAGTAP</td>\n",
       "      <td>0</td>\n",
       "      <td>NCP</td>\n",
       "      <td>Clock</td>\n",
       "      <td>MALE</td>\n",
       "      <td>1</td>\n",
       "      <td>34.0</td>\n",
       "      <td>GENERAL</td>\n",
       "      <td>Graduate</td>\n",
       "      <td>Rs 9,44,88,381\\r\\n ~ 9 Crore+</td>\n",
       "      <td>Rs 3,25,49,132\\r\\n ~ 3 Crore+</td>\n",
       "      <td>419364</td>\n",
       "      <td>3822</td>\n",
       "      <td>423186</td>\n",
       "      <td>22.734872</td>\n",
       "      <td>35.087431</td>\n",
       "      <td>1861396</td>\n",
       "    </tr>\n",
       "    <tr>\n",
       "      <th>9</th>\n",
       "      <td>Maharashtra</td>\n",
       "      <td>AHMADNAGAR</td>\n",
       "      <td>SUDHAKAR LAXMAN AVHAD</td>\n",
       "      <td>0</td>\n",
       "      <td>VBA</td>\n",
       "      <td>Cup &amp; Saucer</td>\n",
       "      <td>MALE</td>\n",
       "      <td>0</td>\n",
       "      <td>62.0</td>\n",
       "      <td>GENERAL</td>\n",
       "      <td>Graduate</td>\n",
       "      <td>Rs 1,39,49,000\\r\\n ~ 1 Crore+</td>\n",
       "      <td>Rs 14,00,000\\r\\n ~ 14 Lacs+</td>\n",
       "      <td>31644</td>\n",
       "      <td>163</td>\n",
       "      <td>31807</td>\n",
       "      <td>1.708771</td>\n",
       "      <td>2.637200</td>\n",
       "      <td>1861396</td>\n",
       "    </tr>\n",
       "    <tr>\n",
       "      <th>10</th>\n",
       "      <td>Gujarat</td>\n",
       "      <td>AHMEDABAD EAST</td>\n",
       "      <td>Patel Hasmukhbhai Somabhai</td>\n",
       "      <td>1</td>\n",
       "      <td>BJP</td>\n",
       "      <td>Lotus</td>\n",
       "      <td>MALE</td>\n",
       "      <td>0</td>\n",
       "      <td>58.0</td>\n",
       "      <td>GENERAL</td>\n",
       "      <td>Others</td>\n",
       "      <td>Rs 7,46,99,690\\r\\n ~ 7 Crore+</td>\n",
       "      <td>Rs 62,52,577\\r\\n ~ 62 Lacs+</td>\n",
       "      <td>745810</td>\n",
       "      <td>4024</td>\n",
       "      <td>749834</td>\n",
       "      <td>41.384970</td>\n",
       "      <td>67.005462</td>\n",
       "      <td>1811851</td>\n",
       "    </tr>\n",
       "    <tr>\n",
       "      <th>11</th>\n",
       "      <td>Gujarat</td>\n",
       "      <td>AHMEDABAD EAST</td>\n",
       "      <td>Gitaben Patel</td>\n",
       "      <td>0</td>\n",
       "      <td>INC</td>\n",
       "      <td>Hand</td>\n",
       "      <td>FEMALE</td>\n",
       "      <td>6</td>\n",
       "      <td>38.0</td>\n",
       "      <td>GENERAL</td>\n",
       "      <td>10th Pass</td>\n",
       "      <td>Rs 4,03,75,418\\r\\n ~ 4 Crore+</td>\n",
       "      <td>Rs 31,21,888\\r\\n ~ 31 Lacs+</td>\n",
       "      <td>312883</td>\n",
       "      <td>2621</td>\n",
       "      <td>315504</td>\n",
       "      <td>17.413352</td>\n",
       "      <td>28.193562</td>\n",
       "      <td>1811851</td>\n",
       "    </tr>\n",
       "    <tr>\n",
       "      <th>12</th>\n",
       "      <td>Gujarat</td>\n",
       "      <td>AHMEDABAD WEST</td>\n",
       "      <td>DR. KIRIT P. SOLANKI</td>\n",
       "      <td>1</td>\n",
       "      <td>BJP</td>\n",
       "      <td>Lotus</td>\n",
       "      <td>MALE</td>\n",
       "      <td>0</td>\n",
       "      <td>69.0</td>\n",
       "      <td>SC</td>\n",
       "      <td>Post Graduate</td>\n",
       "      <td>Rs 8,94,74,039\\r\\n ~ 8 Crore+</td>\n",
       "      <td>Rs 0\\r\\n ~</td>\n",
       "      <td>638241</td>\n",
       "      <td>3381</td>\n",
       "      <td>641622</td>\n",
       "      <td>39.044323</td>\n",
       "      <td>64.211450</td>\n",
       "      <td>1643317</td>\n",
       "    </tr>\n",
       "    <tr>\n",
       "      <th>13</th>\n",
       "      <td>Gujarat</td>\n",
       "      <td>AHMEDABAD WEST</td>\n",
       "      <td>RAJU PARMAR</td>\n",
       "      <td>0</td>\n",
       "      <td>INC</td>\n",
       "      <td>Hand</td>\n",
       "      <td>MALE</td>\n",
       "      <td>0</td>\n",
       "      <td>68.0</td>\n",
       "      <td>SC</td>\n",
       "      <td>Graduate</td>\n",
       "      <td>Rs 26,29,97,727\\r\\n ~ 26 Crore+</td>\n",
       "      <td>Rs 1,89,43,977\\r\\n ~ 1 Crore+</td>\n",
       "      <td>317797</td>\n",
       "      <td>2279</td>\n",
       "      <td>320076</td>\n",
       "      <td>19.477435</td>\n",
       "      <td>32.032169</td>\n",
       "      <td>1643317</td>\n",
       "    </tr>\n",
       "    <tr>\n",
       "      <th>15</th>\n",
       "      <td>Gujarat</td>\n",
       "      <td>AHMEDABAD WEST</td>\n",
       "      <td>TRIBHOVANDAS KARSANDAS VAGHELA</td>\n",
       "      <td>0</td>\n",
       "      <td>BSP</td>\n",
       "      <td>Elephant</td>\n",
       "      <td>MALE</td>\n",
       "      <td>0</td>\n",
       "      <td>66.0</td>\n",
       "      <td>SC</td>\n",
       "      <td>8th Pass</td>\n",
       "      <td>Rs 53,54,000\\r\\n ~ 53 Lacs+</td>\n",
       "      <td>Rs 0\\r\\n ~</td>\n",
       "      <td>9909</td>\n",
       "      <td>119</td>\n",
       "      <td>10028</td>\n",
       "      <td>0.610229</td>\n",
       "      <td>1.003570</td>\n",
       "      <td>1643317</td>\n",
       "    </tr>\n",
       "    <tr>\n",
       "      <th>16</th>\n",
       "      <td>Rajasthan</td>\n",
       "      <td>AJMER</td>\n",
       "      <td>Bhagirath Chaudhary</td>\n",
       "      <td>1</td>\n",
       "      <td>BJP</td>\n",
       "      <td>Lotus</td>\n",
       "      <td>MALE</td>\n",
       "      <td>0</td>\n",
       "      <td>64.0</td>\n",
       "      <td>GENERAL</td>\n",
       "      <td>12th Pass</td>\n",
       "      <td>Rs 8,51,01,774\\r\\n ~ 8 Crore+</td>\n",
       "      <td>Rs 83,19,942\\r\\n ~ 83 Lacs+</td>\n",
       "      <td>811091</td>\n",
       "      <td>3985</td>\n",
       "      <td>815076</td>\n",
       "      <td>43.439536</td>\n",
       "      <td>64.522350</td>\n",
       "      <td>1876346</td>\n",
       "    </tr>\n",
       "    <tr>\n",
       "      <th>17</th>\n",
       "      <td>Rajasthan</td>\n",
       "      <td>AJMER</td>\n",
       "      <td>Riju Jhunjhunwala</td>\n",
       "      <td>0</td>\n",
       "      <td>INC</td>\n",
       "      <td>Hand</td>\n",
       "      <td>MALE</td>\n",
       "      <td>0</td>\n",
       "      <td>40.0</td>\n",
       "      <td>GENERAL</td>\n",
       "      <td>Graduate</td>\n",
       "      <td>Rs 85,39,98,231\\r\\n ~ 85 Crore+</td>\n",
       "      <td>Rs 30,60,12,685\\r\\n ~ 30 Crore+</td>\n",
       "      <td>397420</td>\n",
       "      <td>1232</td>\n",
       "      <td>398652</td>\n",
       "      <td>21.246188</td>\n",
       "      <td>31.557749</td>\n",
       "      <td>1876346</td>\n",
       "    </tr>\n",
       "    <tr>\n",
       "      <th>18</th>\n",
       "      <td>Rajasthan</td>\n",
       "      <td>AJMER</td>\n",
       "      <td>Durga Lal Regar</td>\n",
       "      <td>0</td>\n",
       "      <td>BSP</td>\n",
       "      <td>Elephant</td>\n",
       "      <td>MALE</td>\n",
       "      <td>0</td>\n",
       "      <td>60.0</td>\n",
       "      <td>SC</td>\n",
       "      <td>Post Graduate</td>\n",
       "      <td>Rs 4,17,40,458\\r\\n ~ 4 Crore+</td>\n",
       "      <td>Rs 8,90,000\\r\\n ~ 8 Lacs+</td>\n",
       "      <td>13547</td>\n",
       "      <td>71</td>\n",
       "      <td>13618</td>\n",
       "      <td>0.725772</td>\n",
       "      <td>1.078016</td>\n",
       "      <td>1876346</td>\n",
       "    </tr>\n",
       "    <tr>\n",
       "      <th>19</th>\n",
       "      <td>Rajasthan</td>\n",
       "      <td>AJMER</td>\n",
       "      <td>Vishram Babu</td>\n",
       "      <td>0</td>\n",
       "      <td>APoI</td>\n",
       "      <td>Coat</td>\n",
       "      <td>MALE</td>\n",
       "      <td>0</td>\n",
       "      <td>60.0</td>\n",
       "      <td>SC</td>\n",
       "      <td>Post Graduate</td>\n",
       "      <td>Rs 2,57,92,244\\r\\n ~ 2 Crore+</td>\n",
       "      <td>Rs 2,68,705\\r\\n ~ 2 Lacs+</td>\n",
       "      <td>13036</td>\n",
       "      <td>5</td>\n",
       "      <td>13041</td>\n",
       "      <td>0.695021</td>\n",
       "      <td>1.032340</td>\n",
       "      <td>1876346</td>\n",
       "    </tr>\n",
       "    <tr>\n",
       "      <th>20</th>\n",
       "      <td>Uttar Pradesh</td>\n",
       "      <td>AKBARPUR</td>\n",
       "      <td>Devendra Singh 'Bhole'</td>\n",
       "      <td>1</td>\n",
       "      <td>BJP</td>\n",
       "      <td>Lotus</td>\n",
       "      <td>MALE</td>\n",
       "      <td>0</td>\n",
       "      <td>64.0</td>\n",
       "      <td>GENERAL</td>\n",
       "      <td>10th Pass</td>\n",
       "      <td>Rs 2,85,46,617\\r\\n ~2 Crore+</td>\n",
       "      <td>Rs 5,59,965 \\r\\n~5 Lacs+</td>\n",
       "      <td>577603</td>\n",
       "      <td>3679</td>\n",
       "      <td>581282</td>\n",
       "      <td>32.912920</td>\n",
       "      <td>56.620233</td>\n",
       "      <td>1766121</td>\n",
       "    </tr>\n",
       "    <tr>\n",
       "      <th>21</th>\n",
       "      <td>Uttar Pradesh</td>\n",
       "      <td>AKBARPUR</td>\n",
       "      <td>Nisha Sachan</td>\n",
       "      <td>0</td>\n",
       "      <td>BSP</td>\n",
       "      <td>Elephant</td>\n",
       "      <td>FEMALE</td>\n",
       "      <td>0</td>\n",
       "      <td>46.0</td>\n",
       "      <td>GENERAL</td>\n",
       "      <td>Post Graduate</td>\n",
       "      <td>Rs 13,44,48,979\\r\\n ~ 13 Crore+</td>\n",
       "      <td>Rs 1,36,19,617\\r\\n ~ 1 Crore+</td>\n",
       "      <td>304553</td>\n",
       "      <td>1587</td>\n",
       "      <td>306140</td>\n",
       "      <td>17.334033</td>\n",
       "      <td>29.819809</td>\n",
       "      <td>1766121</td>\n",
       "    </tr>\n",
       "  </tbody>\n",
       "</table>\n",
       "</div>"
      ],
      "text/plain": [
       "            STATE    CONSTITUENCY                               NAME  WINNER  \\\n",
       "0       Telangana        ADILABAD                     SOYAM BAPU RAO       1   \n",
       "1       Telangana        ADILABAD                       Godam Nagesh       0   \n",
       "2       Telangana        ADILABAD                      RATHOD RAMESH       0   \n",
       "4   Uttar Pradesh            AGRA              Satyapal Singh Baghel       1   \n",
       "5   Uttar Pradesh            AGRA                   Manoj Kumar Soni       0   \n",
       "6   Uttar Pradesh            AGRA                       Preeta Harit       0   \n",
       "7     Maharashtra      AHMADNAGAR  Dr. SUJAY RADHAKRISHNA VIKHEPATIL       1   \n",
       "8     Maharashtra      AHMADNAGAR            SANGRAM ARUNKAKA JAGTAP       0   \n",
       "9     Maharashtra      AHMADNAGAR              SUDHAKAR LAXMAN AVHAD       0   \n",
       "10        Gujarat  AHMEDABAD EAST         Patel Hasmukhbhai Somabhai       1   \n",
       "11        Gujarat  AHMEDABAD EAST                      Gitaben Patel       0   \n",
       "12        Gujarat  AHMEDABAD WEST               DR. KIRIT P. SOLANKI       1   \n",
       "13        Gujarat  AHMEDABAD WEST                        RAJU PARMAR       0   \n",
       "15        Gujarat  AHMEDABAD WEST     TRIBHOVANDAS KARSANDAS VAGHELA       0   \n",
       "16      Rajasthan           AJMER                Bhagirath Chaudhary       1   \n",
       "17      Rajasthan           AJMER                  Riju Jhunjhunwala       0   \n",
       "18      Rajasthan           AJMER                    Durga Lal Regar       0   \n",
       "19      Rajasthan           AJMER                       Vishram Babu       0   \n",
       "20  Uttar Pradesh        AKBARPUR             Devendra Singh 'Bhole'       1   \n",
       "21  Uttar Pradesh        AKBARPUR                       Nisha Sachan       0   \n",
       "\n",
       "   PARTY        SYMBOL  GENDER CRIMINALCASES   AGE CATEGORY      EDUCATION  \\\n",
       "0    BJP         Lotus    MALE            52  52.0       ST      12th Pass   \n",
       "1    TRS           Car    MALE             0  54.0       ST  Post Graduate   \n",
       "2    INC          Hand    MALE             3  52.0       ST      12th Pass   \n",
       "4    BJP         Lotus    MALE             5  58.0       SC      Doctorate   \n",
       "5    BSP      Elephant    MALE             0  47.0       SC  Post Graduate   \n",
       "6    INC          Hand  FEMALE             0  54.0       SC  Post Graduate   \n",
       "7    BJP         Lotus    MALE             0  37.0  GENERAL      Doctorate   \n",
       "8    NCP         Clock    MALE             1  34.0  GENERAL       Graduate   \n",
       "9    VBA  Cup & Saucer    MALE             0  62.0  GENERAL       Graduate   \n",
       "10   BJP         Lotus    MALE             0  58.0  GENERAL         Others   \n",
       "11   INC          Hand  FEMALE             6  38.0  GENERAL      10th Pass   \n",
       "12   BJP         Lotus    MALE             0  69.0       SC  Post Graduate   \n",
       "13   INC          Hand    MALE             0  68.0       SC       Graduate   \n",
       "15   BSP      Elephant    MALE             0  66.0       SC       8th Pass   \n",
       "16   BJP         Lotus    MALE             0  64.0  GENERAL      12th Pass   \n",
       "17   INC          Hand    MALE             0  40.0  GENERAL       Graduate   \n",
       "18   BSP      Elephant    MALE             0  60.0       SC  Post Graduate   \n",
       "19  APoI          Coat    MALE             0  60.0       SC  Post Graduate   \n",
       "20   BJP         Lotus    MALE             0  64.0  GENERAL      10th Pass   \n",
       "21   BSP      Elephant  FEMALE             0  46.0  GENERAL  Post Graduate   \n",
       "\n",
       "                             ASSETS                      LIABILITIES  \\\n",
       "0       Rs 30,99,414\\r\\n ~ 30 Lacs+        Rs 2,31,450\\r\\n ~ 2 Lacs+   \n",
       "1     Rs 1,84,77,888\\r\\n ~ 1 Crore+        Rs 8,47,000\\r\\n ~ 8 Lacs+   \n",
       "2     Rs 3,64,91,000\\r\\n ~ 3 Crore+    Rs 1,53,00,000\\r\\n ~ 1 Crore+   \n",
       "4     Rs 7,42,74,036\\r\\n ~ 7 Crore+      Rs 86,06,522\\r\\n ~ 86 Lacs+   \n",
       "5   Rs 13,37,84,385\\r\\n ~ 13 Crore+    Rs 2,22,51,891\\r\\n ~ 2 Crore+   \n",
       "6     Rs 5,50,75,753\\r\\n ~ 5 Crore+                       Rs 0\\r\\n ~   \n",
       "7   Rs 16,86,64,576\\r\\n ~ 16 Crore+      Rs 26,23,964\\r\\n ~ 26 Lacs+   \n",
       "8     Rs 9,44,88,381\\r\\n ~ 9 Crore+    Rs 3,25,49,132\\r\\n ~ 3 Crore+   \n",
       "9     Rs 1,39,49,000\\r\\n ~ 1 Crore+      Rs 14,00,000\\r\\n ~ 14 Lacs+   \n",
       "10    Rs 7,46,99,690\\r\\n ~ 7 Crore+      Rs 62,52,577\\r\\n ~ 62 Lacs+   \n",
       "11    Rs 4,03,75,418\\r\\n ~ 4 Crore+      Rs 31,21,888\\r\\n ~ 31 Lacs+   \n",
       "12    Rs 8,94,74,039\\r\\n ~ 8 Crore+                       Rs 0\\r\\n ~   \n",
       "13  Rs 26,29,97,727\\r\\n ~ 26 Crore+    Rs 1,89,43,977\\r\\n ~ 1 Crore+   \n",
       "15      Rs 53,54,000\\r\\n ~ 53 Lacs+                       Rs 0\\r\\n ~   \n",
       "16    Rs 8,51,01,774\\r\\n ~ 8 Crore+      Rs 83,19,942\\r\\n ~ 83 Lacs+   \n",
       "17  Rs 85,39,98,231\\r\\n ~ 85 Crore+  Rs 30,60,12,685\\r\\n ~ 30 Crore+   \n",
       "18    Rs 4,17,40,458\\r\\n ~ 4 Crore+        Rs 8,90,000\\r\\n ~ 8 Lacs+   \n",
       "19    Rs 2,57,92,244\\r\\n ~ 2 Crore+        Rs 2,68,705\\r\\n ~ 2 Lacs+   \n",
       "20     Rs 2,85,46,617\\r\\n ~2 Crore+         Rs 5,59,965 \\r\\n~5 Lacs+   \n",
       "21  Rs 13,44,48,979\\r\\n ~ 13 Crore+    Rs 1,36,19,617\\r\\n ~ 1 Crore+   \n",
       "\n",
       "    GENERALVOTES  POSTALVOTES  TOTALVOTES  \\\n",
       "0         376892          482      377374   \n",
       "1         318665          149      318814   \n",
       "2         314057          181      314238   \n",
       "4         644459         2416      646875   \n",
       "5         434199         1130      435329   \n",
       "6          44877          272       45149   \n",
       "7         696961         7699      704660   \n",
       "8         419364         3822      423186   \n",
       "9          31644          163       31807   \n",
       "10        745810         4024      749834   \n",
       "11        312883         2621      315504   \n",
       "12        638241         3381      641622   \n",
       "13        317797         2279      320076   \n",
       "15          9909          119       10028   \n",
       "16        811091         3985      815076   \n",
       "17        397420         1232      398652   \n",
       "18         13547           71       13618   \n",
       "19         13036            5       13041   \n",
       "20        577603         3679      581282   \n",
       "21        304553         1587      306140   \n",
       "\n",
       "    OVER TOTAL ELECTORS IN CONSTITUENCY  \\\n",
       "0                             25.330684   \n",
       "1                             21.399929   \n",
       "2                             21.092771   \n",
       "4                             33.383823   \n",
       "5                             22.466390   \n",
       "6                              2.330042   \n",
       "7                             37.856533   \n",
       "8                             22.734872   \n",
       "9                              1.708771   \n",
       "10                            41.384970   \n",
       "11                            17.413352   \n",
       "12                            39.044323   \n",
       "13                            19.477435   \n",
       "15                             0.610229   \n",
       "16                            43.439536   \n",
       "17                            21.246188   \n",
       "18                             0.725772   \n",
       "19                             0.695021   \n",
       "20                            32.912920   \n",
       "21                            17.334033   \n",
       "\n",
       "    OVER TOTAL VOTES POLLED IN CONSTITUENCY  TOTAL ELECTORS  \n",
       "0                                 35.468248         1489790  \n",
       "1                                 29.964370         1489790  \n",
       "2                                 29.534285         1489790  \n",
       "4                                 56.464615         1937690  \n",
       "5                                 37.999125         1937690  \n",
       "6                                  3.940979         1937690  \n",
       "7                                 58.425159         1861396  \n",
       "8                                 35.087431         1861396  \n",
       "9                                  2.637200         1861396  \n",
       "10                                67.005462         1811851  \n",
       "11                                28.193562         1811851  \n",
       "12                                64.211450         1643317  \n",
       "13                                32.032169         1643317  \n",
       "15                                 1.003570         1643317  \n",
       "16                                64.522350         1876346  \n",
       "17                                31.557749         1876346  \n",
       "18                                 1.078016         1876346  \n",
       "19                                 1.032340         1876346  \n",
       "20                                56.620233         1766121  \n",
       "21                                29.819809         1766121  "
      ]
     },
     "execution_count": 13,
     "metadata": {},
     "output_type": "execute_result"
    }
   ],
   "source": [
    "df_NOTA.head(20)"
   ]
  },
  {
   "cell_type": "code",
   "execution_count": 14,
   "metadata": {},
   "outputs": [],
   "source": [
    "# Dropping irrelevant columns from the dataset\n",
    "df_NOTA.drop(['SYMBOL', 'ASSETS', 'LIABILITIES'], axis=1, inplace=True)"
   ]
  },
  {
   "cell_type": "code",
   "execution_count": 15,
   "metadata": {},
   "outputs": [
    {
     "data": {
      "text/plain": [
       "array(['12th Pass', 'Post Graduate', 'Doctorate', 'Graduate', 'Others',\n",
       "       '10th Pass', '8th Pass', 'Graduate Professional', 'Literate',\n",
       "       'Illiterate', '5th Pass', 'Not Available', 'Post Graduate\\r\\n'],\n",
       "      dtype=object)"
      ]
     },
     "execution_count": 15,
     "metadata": {},
     "output_type": "execute_result"
    }
   ],
   "source": [
    "df_NOTA['EDUCATION'].unique()"
   ]
  },
  {
   "cell_type": "code",
   "execution_count": 16,
   "metadata": {},
   "outputs": [],
   "source": [
    "# Removing the \\n from 'Post Graduate\\n'\n",
    "df_NOTA['EDUCATION'].replace(to_replace='Post Graduate\\r\\n', value='Post Graduate', inplace=True)\n",
    "\n",
    "# 'Graduate Professional' are Graduates, so replacing 'Graduate Professional' with 'Graduate'\n",
    "df_NOTA['EDUCATION'].replace(to_replace='Graduate Professional', value='Graduate', inplace=True)"
   ]
  },
  {
   "cell_type": "code",
   "execution_count": 17,
   "metadata": {},
   "outputs": [
    {
     "data": {
      "text/plain": [
       "array(['12th Pass', 'Post Graduate', 'Doctorate', 'Graduate', 'Others',\n",
       "       '10th Pass', '8th Pass', 'Literate', 'Illiterate', '5th Pass',\n",
       "       'Not Available'], dtype=object)"
      ]
     },
     "execution_count": 17,
     "metadata": {},
     "output_type": "execute_result"
    }
   ],
   "source": [
    "df_NOTA['EDUCATION'].unique()"
   ]
  },
  {
   "cell_type": "code",
   "execution_count": 18,
   "metadata": {},
   "outputs": [
    {
     "data": {
      "text/plain": [
       "STATE                                       object\n",
       "CONSTITUENCY                                object\n",
       "NAME                                        object\n",
       "WINNER                                       int64\n",
       "PARTY                                       object\n",
       "GENDER                                      object\n",
       "CRIMINALCASES                               object\n",
       "AGE                                        float64\n",
       "CATEGORY                                    object\n",
       "EDUCATION                                   object\n",
       "GENERALVOTES                                 int64\n",
       "POSTALVOTES                                  int64\n",
       "TOTALVOTES                                   int64\n",
       "OVER TOTAL ELECTORS IN CONSTITUENCY        float64\n",
       "OVER TOTAL VOTES POLLED IN CONSTITUENCY    float64\n",
       "TOTAL ELECTORS                               int64\n",
       "dtype: object"
      ]
     },
     "execution_count": 18,
     "metadata": {},
     "output_type": "execute_result"
    }
   ],
   "source": [
    "df_NOTA.dtypes"
   ]
  },
  {
   "cell_type": "code",
   "execution_count": 19,
   "metadata": {},
   "outputs": [
    {
     "data": {
      "text/html": [
       "<div>\n",
       "<style scoped>\n",
       "    .dataframe tbody tr th:only-of-type {\n",
       "        vertical-align: middle;\n",
       "    }\n",
       "\n",
       "    .dataframe tbody tr th {\n",
       "        vertical-align: top;\n",
       "    }\n",
       "\n",
       "    .dataframe thead th {\n",
       "        text-align: right;\n",
       "    }\n",
       "</style>\n",
       "<table border=\"1\" class=\"dataframe\">\n",
       "  <thead>\n",
       "    <tr style=\"text-align: right;\">\n",
       "      <th></th>\n",
       "      <th>STATE</th>\n",
       "      <th>CONSTITUENCY</th>\n",
       "      <th>NAME</th>\n",
       "      <th>WINNER</th>\n",
       "      <th>PARTY</th>\n",
       "      <th>GENDER</th>\n",
       "      <th>CRIMINALCASES</th>\n",
       "      <th>AGE</th>\n",
       "      <th>CATEGORY</th>\n",
       "      <th>EDUCATION</th>\n",
       "      <th>GENERALVOTES</th>\n",
       "      <th>POSTALVOTES</th>\n",
       "      <th>TOTALVOTES</th>\n",
       "      <th>OVER TOTAL ELECTORS IN CONSTITUENCY</th>\n",
       "      <th>OVER TOTAL VOTES POLLED IN CONSTITUENCY</th>\n",
       "      <th>TOTAL ELECTORS</th>\n",
       "    </tr>\n",
       "  </thead>\n",
       "  <tbody>\n",
       "    <tr>\n",
       "      <th>468</th>\n",
       "      <td>Bihar</td>\n",
       "      <td>BUXAR</td>\n",
       "      <td>Ramchandra Singh Yadav</td>\n",
       "      <td>0</td>\n",
       "      <td>IND</td>\n",
       "      <td>MALE</td>\n",
       "      <td>Not Available</td>\n",
       "      <td>42.0</td>\n",
       "      <td>GENERAL</td>\n",
       "      <td>Not Available</td>\n",
       "      <td>10721</td>\n",
       "      <td>9</td>\n",
       "      <td>10730</td>\n",
       "      <td>0.586540</td>\n",
       "      <td>1.087175</td>\n",
       "      <td>1829373</td>\n",
       "    </tr>\n",
       "    <tr>\n",
       "      <th>532</th>\n",
       "      <td>Tamil Nadu</td>\n",
       "      <td>CHIDAMBARAM</td>\n",
       "      <td>SIVAJOTHI M</td>\n",
       "      <td>0</td>\n",
       "      <td>NTK</td>\n",
       "      <td>MALE</td>\n",
       "      <td>Not Available</td>\n",
       "      <td>35.0</td>\n",
       "      <td>SC</td>\n",
       "      <td>Not Available</td>\n",
       "      <td>37329</td>\n",
       "      <td>142</td>\n",
       "      <td>37471</td>\n",
       "      <td>2.531445</td>\n",
       "      <td>3.246331</td>\n",
       "      <td>1480222</td>\n",
       "    </tr>\n",
       "    <tr>\n",
       "      <th>612</th>\n",
       "      <td>Uttar Pradesh</td>\n",
       "      <td>DEORIA</td>\n",
       "      <td>BINOD KUMAR JAISWAL</td>\n",
       "      <td>0</td>\n",
       "      <td>BSP</td>\n",
       "      <td>MALE</td>\n",
       "      <td>Not Available</td>\n",
       "      <td>56.0</td>\n",
       "      <td>GENERAL</td>\n",
       "      <td>Not Available</td>\n",
       "      <td>327728</td>\n",
       "      <td>2985</td>\n",
       "      <td>330713</td>\n",
       "      <td>18.852693</td>\n",
       "      <td>32.563441</td>\n",
       "      <td>1754195</td>\n",
       "    </tr>\n",
       "    <tr>\n",
       "      <th>613</th>\n",
       "      <td>Uttar Pradesh</td>\n",
       "      <td>DEORIA</td>\n",
       "      <td>NIYAZ AHMED</td>\n",
       "      <td>0</td>\n",
       "      <td>INC</td>\n",
       "      <td>MALE</td>\n",
       "      <td>Not Available</td>\n",
       "      <td>57.0</td>\n",
       "      <td>GENERAL</td>\n",
       "      <td>Not Available</td>\n",
       "      <td>50749</td>\n",
       "      <td>307</td>\n",
       "      <td>51056</td>\n",
       "      <td>2.910509</td>\n",
       "      <td>5.027196</td>\n",
       "      <td>1754195</td>\n",
       "    </tr>\n",
       "    <tr>\n",
       "      <th>654</th>\n",
       "      <td>Tamil Nadu</td>\n",
       "      <td>DINDIGUL</td>\n",
       "      <td>JOTHIMUTHU, K.</td>\n",
       "      <td>0</td>\n",
       "      <td>PMK</td>\n",
       "      <td>MALE</td>\n",
       "      <td>Not Available</td>\n",
       "      <td>48.0</td>\n",
       "      <td>GENERAL</td>\n",
       "      <td>Not Available</td>\n",
       "      <td>206782</td>\n",
       "      <td>769</td>\n",
       "      <td>207551</td>\n",
       "      <td>13.460896</td>\n",
       "      <td>17.877979</td>\n",
       "      <td>1541881</td>\n",
       "    </tr>\n",
       "    <tr>\n",
       "      <th>656</th>\n",
       "      <td>Tamil Nadu</td>\n",
       "      <td>DINDIGUL</td>\n",
       "      <td>MANSOORALI KHAN, A.</td>\n",
       "      <td>0</td>\n",
       "      <td>NTK</td>\n",
       "      <td>MALE</td>\n",
       "      <td>Not Available</td>\n",
       "      <td>56.0</td>\n",
       "      <td>GENERAL</td>\n",
       "      <td>Not Available</td>\n",
       "      <td>54574</td>\n",
       "      <td>383</td>\n",
       "      <td>54957</td>\n",
       "      <td>3.564283</td>\n",
       "      <td>4.733873</td>\n",
       "      <td>1541881</td>\n",
       "    </tr>\n",
       "    <tr>\n",
       "      <th>688</th>\n",
       "      <td>Andhra Pradesh</td>\n",
       "      <td>ELURU</td>\n",
       "      <td>PENTAPATI PULLARAO</td>\n",
       "      <td>0</td>\n",
       "      <td>JnP</td>\n",
       "      <td>MALE</td>\n",
       "      <td>Not Available</td>\n",
       "      <td>71.0</td>\n",
       "      <td>GENERAL</td>\n",
       "      <td>Not Available</td>\n",
       "      <td>76481</td>\n",
       "      <td>346</td>\n",
       "      <td>76827</td>\n",
       "      <td>4.816891</td>\n",
       "      <td>5.766884</td>\n",
       "      <td>1594950</td>\n",
       "    </tr>\n",
       "    <tr>\n",
       "      <th>972</th>\n",
       "      <td>Bihar</td>\n",
       "      <td>JAMUI (SC)</td>\n",
       "      <td>UPENDRA RAVIDAS</td>\n",
       "      <td>0</td>\n",
       "      <td>BSP</td>\n",
       "      <td>MALE</td>\n",
       "      <td>Not Available</td>\n",
       "      <td>40.0</td>\n",
       "      <td>SC</td>\n",
       "      <td>Not Available</td>\n",
       "      <td>31504</td>\n",
       "      <td>107</td>\n",
       "      <td>31611</td>\n",
       "      <td>1.839117</td>\n",
       "      <td>3.329012</td>\n",
       "      <td>1718814</td>\n",
       "    </tr>\n",
       "    <tr>\n",
       "      <th>1033</th>\n",
       "      <td>Uttar Pradesh</td>\n",
       "      <td>KAISERGANJ</td>\n",
       "      <td>Vinay Kumar Pandey 'Vinnu'</td>\n",
       "      <td>0</td>\n",
       "      <td>INC</td>\n",
       "      <td>MALE</td>\n",
       "      <td>Not Available</td>\n",
       "      <td>54.0</td>\n",
       "      <td>GENERAL</td>\n",
       "      <td>Not Available</td>\n",
       "      <td>37049</td>\n",
       "      <td>83</td>\n",
       "      <td>37132</td>\n",
       "      <td>2.056097</td>\n",
       "      <td>3.780019</td>\n",
       "      <td>1805946</td>\n",
       "    </tr>\n",
       "    <tr>\n",
       "      <th>1052</th>\n",
       "      <td>Tamil Nadu</td>\n",
       "      <td>KALLAKURICHI</td>\n",
       "      <td>Sharfudeen S</td>\n",
       "      <td>0</td>\n",
       "      <td>NTK</td>\n",
       "      <td>MALE</td>\n",
       "      <td>Not Available</td>\n",
       "      <td>40.0</td>\n",
       "      <td>GENERAL</td>\n",
       "      <td>Not Available</td>\n",
       "      <td>30103</td>\n",
       "      <td>143</td>\n",
       "      <td>30246</td>\n",
       "      <td>1.978236</td>\n",
       "      <td>2.510177</td>\n",
       "      <td>1528938</td>\n",
       "    </tr>\n",
       "    <tr>\n",
       "      <th>1126</th>\n",
       "      <td>Uttar Pradesh</td>\n",
       "      <td>KAUSHAMBI</td>\n",
       "      <td>SHAILENDRA KUMAR</td>\n",
       "      <td>0</td>\n",
       "      <td>IND</td>\n",
       "      <td>MALE</td>\n",
       "      <td>Not Available</td>\n",
       "      <td>44.0</td>\n",
       "      <td>SC</td>\n",
       "      <td>Not Available</td>\n",
       "      <td>26954</td>\n",
       "      <td>13</td>\n",
       "      <td>26967</td>\n",
       "      <td>1.508964</td>\n",
       "      <td>2.765741</td>\n",
       "      <td>1787120</td>\n",
       "    </tr>\n",
       "    <tr>\n",
       "      <th>1309</th>\n",
       "      <td>Bihar</td>\n",
       "      <td>MADHUBANI</td>\n",
       "      <td>BADRI KUMAR PURBEY</td>\n",
       "      <td>0</td>\n",
       "      <td>VSIP</td>\n",
       "      <td>MALE</td>\n",
       "      <td>Not Available</td>\n",
       "      <td>46.0</td>\n",
       "      <td>GENERAL</td>\n",
       "      <td>Not Available</td>\n",
       "      <td>140705</td>\n",
       "      <td>198</td>\n",
       "      <td>140903</td>\n",
       "      <td>7.859391</td>\n",
       "      <td>14.605797</td>\n",
       "      <td>1792798</td>\n",
       "    </tr>\n",
       "    <tr>\n",
       "      <th>1681</th>\n",
       "      <td>Kerala</td>\n",
       "      <td>PONNANI</td>\n",
       "      <td>P.V. Anvar Puthan Veetil</td>\n",
       "      <td>0</td>\n",
       "      <td>IND</td>\n",
       "      <td>MALE</td>\n",
       "      <td>Not Available</td>\n",
       "      <td>51.0</td>\n",
       "      <td>GENERAL</td>\n",
       "      <td>Not Available</td>\n",
       "      <td>328208</td>\n",
       "      <td>343</td>\n",
       "      <td>328551</td>\n",
       "      <td>24.215085</td>\n",
       "      <td>32.294278</td>\n",
       "      <td>1356803</td>\n",
       "    </tr>\n",
       "    <tr>\n",
       "      <th>1696</th>\n",
       "      <td>Puducherry</td>\n",
       "      <td>PUDUCHERRY</td>\n",
       "      <td>N.SHARMILA BEGUM</td>\n",
       "      <td>0</td>\n",
       "      <td>NTK</td>\n",
       "      <td>FEMALE</td>\n",
       "      <td>Not Available</td>\n",
       "      <td>30.0</td>\n",
       "      <td>GENERAL</td>\n",
       "      <td>Not Available</td>\n",
       "      <td>22842</td>\n",
       "      <td>15</td>\n",
       "      <td>22857</td>\n",
       "      <td>2.348137</td>\n",
       "      <td>2.890017</td>\n",
       "      <td>973410</td>\n",
       "    </tr>\n",
       "    <tr>\n",
       "      <th>1716</th>\n",
       "      <td>Bihar</td>\n",
       "      <td>PURVI CHAMPARAN</td>\n",
       "      <td>AAKASH KUMAR SINGH</td>\n",
       "      <td>0</td>\n",
       "      <td>BLSP</td>\n",
       "      <td>MALE</td>\n",
       "      <td>Not Available</td>\n",
       "      <td>27.0</td>\n",
       "      <td>GENERAL</td>\n",
       "      <td>Not Available</td>\n",
       "      <td>281500</td>\n",
       "      <td>2639</td>\n",
       "      <td>284139</td>\n",
       "      <td>17.130512</td>\n",
       "      <td>28.410065</td>\n",
       "      <td>1658672</td>\n",
       "    </tr>\n",
       "    <tr>\n",
       "      <th>1938</th>\n",
       "      <td>Madhya Pradesh</td>\n",
       "      <td>SIDHI</td>\n",
       "      <td>Dileep Kumar Shukla</td>\n",
       "      <td>0</td>\n",
       "      <td>IND</td>\n",
       "      <td>MALE</td>\n",
       "      <td>Not Available</td>\n",
       "      <td>34.0</td>\n",
       "      <td>GENERAL</td>\n",
       "      <td>Not Available</td>\n",
       "      <td>15555</td>\n",
       "      <td>0</td>\n",
       "      <td>15555</td>\n",
       "      <td>0.842840</td>\n",
       "      <td>1.212672</td>\n",
       "      <td>1845547</td>\n",
       "    </tr>\n",
       "    <tr>\n",
       "      <th>1971</th>\n",
       "      <td>Tamil Nadu</td>\n",
       "      <td>SIVAGANGA</td>\n",
       "      <td>V.PANDI</td>\n",
       "      <td>0</td>\n",
       "      <td>IND</td>\n",
       "      <td>MALE</td>\n",
       "      <td>Not Available</td>\n",
       "      <td>43.0</td>\n",
       "      <td>GENERAL</td>\n",
       "      <td>Not Available</td>\n",
       "      <td>122325</td>\n",
       "      <td>209</td>\n",
       "      <td>122534</td>\n",
       "      <td>7.895135</td>\n",
       "      <td>11.294435</td>\n",
       "      <td>1552019</td>\n",
       "    </tr>\n",
       "    <tr>\n",
       "      <th>1978</th>\n",
       "      <td>Bihar</td>\n",
       "      <td>SIWAN</td>\n",
       "      <td>Deva Kant Mishra Alias Munna Bhaiya</td>\n",
       "      <td>0</td>\n",
       "      <td>IND</td>\n",
       "      <td>MALE</td>\n",
       "      <td>Not Available</td>\n",
       "      <td>43.0</td>\n",
       "      <td>GENERAL</td>\n",
       "      <td>Not Available</td>\n",
       "      <td>36458</td>\n",
       "      <td>1</td>\n",
       "      <td>36459</td>\n",
       "      <td>2.026005</td>\n",
       "      <td>3.701985</td>\n",
       "      <td>1799551</td>\n",
       "    </tr>\n",
       "    <tr>\n",
       "      <th>2069</th>\n",
       "      <td>Tamil Nadu</td>\n",
       "      <td>THENI</td>\n",
       "      <td>THANGA TAMILSELVAN</td>\n",
       "      <td>0</td>\n",
       "      <td>IND</td>\n",
       "      <td>MALE</td>\n",
       "      <td>Not Available</td>\n",
       "      <td>58.0</td>\n",
       "      <td>GENERAL</td>\n",
       "      <td>Not Available</td>\n",
       "      <td>143173</td>\n",
       "      <td>877</td>\n",
       "      <td>144050</td>\n",
       "      <td>9.227822</td>\n",
       "      <td>12.259491</td>\n",
       "      <td>1561040</td>\n",
       "    </tr>\n",
       "    <tr>\n",
       "      <th>2188</th>\n",
       "      <td>Bihar</td>\n",
       "      <td>VAISHALI</td>\n",
       "      <td>Rinkoo Devi</td>\n",
       "      <td>0</td>\n",
       "      <td>IND</td>\n",
       "      <td>FEMALE</td>\n",
       "      <td>Not Available</td>\n",
       "      <td>37.0</td>\n",
       "      <td>GENERAL</td>\n",
       "      <td>Not Available</td>\n",
       "      <td>16734</td>\n",
       "      <td>4</td>\n",
       "      <td>16738</td>\n",
       "      <td>0.964180</td>\n",
       "      <td>1.557384</td>\n",
       "      <td>1735983</td>\n",
       "    </tr>\n",
       "    <tr>\n",
       "      <th>2223</th>\n",
       "      <td>Tamil Nadu</td>\n",
       "      <td>VIRUDHUNAGAR</td>\n",
       "      <td>MUNIYASAMY, V.</td>\n",
       "      <td>0</td>\n",
       "      <td>MNM</td>\n",
       "      <td>MALE</td>\n",
       "      <td>Not Available</td>\n",
       "      <td>41.0</td>\n",
       "      <td>GENERAL</td>\n",
       "      <td>Not Available</td>\n",
       "      <td>56815</td>\n",
       "      <td>314</td>\n",
       "      <td>57129</td>\n",
       "      <td>3.848999</td>\n",
       "      <td>5.309752</td>\n",
       "      <td>1484256</td>\n",
       "    </tr>\n",
       "    <tr>\n",
       "      <th>2249</th>\n",
       "      <td>Kerala</td>\n",
       "      <td>WAYANAD</td>\n",
       "      <td>Thushar Vellappally</td>\n",
       "      <td>0</td>\n",
       "      <td>BDJS</td>\n",
       "      <td>MALE</td>\n",
       "      <td>Not Available</td>\n",
       "      <td>50.0</td>\n",
       "      <td>GENERAL</td>\n",
       "      <td>Not Available</td>\n",
       "      <td>78590</td>\n",
       "      <td>226</td>\n",
       "      <td>78816</td>\n",
       "      <td>5.796662</td>\n",
       "      <td>7.212569</td>\n",
       "      <td>1359679</td>\n",
       "    </tr>\n",
       "  </tbody>\n",
       "</table>\n",
       "</div>"
      ],
      "text/plain": [
       "               STATE     CONSTITUENCY                                 NAME  \\\n",
       "468            Bihar            BUXAR               Ramchandra Singh Yadav   \n",
       "532       Tamil Nadu      CHIDAMBARAM                          SIVAJOTHI M   \n",
       "612    Uttar Pradesh           DEORIA                  BINOD KUMAR JAISWAL   \n",
       "613    Uttar Pradesh           DEORIA                          NIYAZ AHMED   \n",
       "654       Tamil Nadu         DINDIGUL                       JOTHIMUTHU, K.   \n",
       "656       Tamil Nadu         DINDIGUL                  MANSOORALI KHAN, A.   \n",
       "688   Andhra Pradesh            ELURU                   PENTAPATI PULLARAO   \n",
       "972            Bihar       JAMUI (SC)                      UPENDRA RAVIDAS   \n",
       "1033   Uttar Pradesh       KAISERGANJ           Vinay Kumar Pandey 'Vinnu'   \n",
       "1052      Tamil Nadu     KALLAKURICHI                         Sharfudeen S   \n",
       "1126   Uttar Pradesh        KAUSHAMBI                     SHAILENDRA KUMAR   \n",
       "1309           Bihar        MADHUBANI                   BADRI KUMAR PURBEY   \n",
       "1681          Kerala          PONNANI             P.V. Anvar Puthan Veetil   \n",
       "1696      Puducherry       PUDUCHERRY                     N.SHARMILA BEGUM   \n",
       "1716           Bihar  PURVI CHAMPARAN                   AAKASH KUMAR SINGH   \n",
       "1938  Madhya Pradesh            SIDHI                  Dileep Kumar Shukla   \n",
       "1971      Tamil Nadu        SIVAGANGA                              V.PANDI   \n",
       "1978           Bihar            SIWAN  Deva Kant Mishra Alias Munna Bhaiya   \n",
       "2069      Tamil Nadu            THENI                   THANGA TAMILSELVAN   \n",
       "2188           Bihar         VAISHALI                          Rinkoo Devi   \n",
       "2223      Tamil Nadu     VIRUDHUNAGAR                       MUNIYASAMY, V.   \n",
       "2249          Kerala          WAYANAD                  Thushar Vellappally   \n",
       "\n",
       "      WINNER PARTY  GENDER  CRIMINALCASES   AGE CATEGORY      EDUCATION  \\\n",
       "468        0   IND    MALE  Not Available  42.0  GENERAL  Not Available   \n",
       "532        0   NTK    MALE  Not Available  35.0       SC  Not Available   \n",
       "612        0   BSP    MALE  Not Available  56.0  GENERAL  Not Available   \n",
       "613        0   INC    MALE  Not Available  57.0  GENERAL  Not Available   \n",
       "654        0   PMK    MALE  Not Available  48.0  GENERAL  Not Available   \n",
       "656        0   NTK    MALE  Not Available  56.0  GENERAL  Not Available   \n",
       "688        0   JnP    MALE  Not Available  71.0  GENERAL  Not Available   \n",
       "972        0   BSP    MALE  Not Available  40.0       SC  Not Available   \n",
       "1033       0   INC    MALE  Not Available  54.0  GENERAL  Not Available   \n",
       "1052       0   NTK    MALE  Not Available  40.0  GENERAL  Not Available   \n",
       "1126       0   IND    MALE  Not Available  44.0       SC  Not Available   \n",
       "1309       0  VSIP    MALE  Not Available  46.0  GENERAL  Not Available   \n",
       "1681       0   IND    MALE  Not Available  51.0  GENERAL  Not Available   \n",
       "1696       0   NTK  FEMALE  Not Available  30.0  GENERAL  Not Available   \n",
       "1716       0  BLSP    MALE  Not Available  27.0  GENERAL  Not Available   \n",
       "1938       0   IND    MALE  Not Available  34.0  GENERAL  Not Available   \n",
       "1971       0   IND    MALE  Not Available  43.0  GENERAL  Not Available   \n",
       "1978       0   IND    MALE  Not Available  43.0  GENERAL  Not Available   \n",
       "2069       0   IND    MALE  Not Available  58.0  GENERAL  Not Available   \n",
       "2188       0   IND  FEMALE  Not Available  37.0  GENERAL  Not Available   \n",
       "2223       0   MNM    MALE  Not Available  41.0  GENERAL  Not Available   \n",
       "2249       0  BDJS    MALE  Not Available  50.0  GENERAL  Not Available   \n",
       "\n",
       "      GENERALVOTES  POSTALVOTES  TOTALVOTES  \\\n",
       "468          10721            9       10730   \n",
       "532          37329          142       37471   \n",
       "612         327728         2985      330713   \n",
       "613          50749          307       51056   \n",
       "654         206782          769      207551   \n",
       "656          54574          383       54957   \n",
       "688          76481          346       76827   \n",
       "972          31504          107       31611   \n",
       "1033         37049           83       37132   \n",
       "1052         30103          143       30246   \n",
       "1126         26954           13       26967   \n",
       "1309        140705          198      140903   \n",
       "1681        328208          343      328551   \n",
       "1696         22842           15       22857   \n",
       "1716        281500         2639      284139   \n",
       "1938         15555            0       15555   \n",
       "1971        122325          209      122534   \n",
       "1978         36458            1       36459   \n",
       "2069        143173          877      144050   \n",
       "2188         16734            4       16738   \n",
       "2223         56815          314       57129   \n",
       "2249         78590          226       78816   \n",
       "\n",
       "      OVER TOTAL ELECTORS IN CONSTITUENCY  \\\n",
       "468                              0.586540   \n",
       "532                              2.531445   \n",
       "612                             18.852693   \n",
       "613                              2.910509   \n",
       "654                             13.460896   \n",
       "656                              3.564283   \n",
       "688                              4.816891   \n",
       "972                              1.839117   \n",
       "1033                             2.056097   \n",
       "1052                             1.978236   \n",
       "1126                             1.508964   \n",
       "1309                             7.859391   \n",
       "1681                            24.215085   \n",
       "1696                             2.348137   \n",
       "1716                            17.130512   \n",
       "1938                             0.842840   \n",
       "1971                             7.895135   \n",
       "1978                             2.026005   \n",
       "2069                             9.227822   \n",
       "2188                             0.964180   \n",
       "2223                             3.848999   \n",
       "2249                             5.796662   \n",
       "\n",
       "      OVER TOTAL VOTES POLLED IN CONSTITUENCY  TOTAL ELECTORS  \n",
       "468                                  1.087175         1829373  \n",
       "532                                  3.246331         1480222  \n",
       "612                                 32.563441         1754195  \n",
       "613                                  5.027196         1754195  \n",
       "654                                 17.877979         1541881  \n",
       "656                                  4.733873         1541881  \n",
       "688                                  5.766884         1594950  \n",
       "972                                  3.329012         1718814  \n",
       "1033                                 3.780019         1805946  \n",
       "1052                                 2.510177         1528938  \n",
       "1126                                 2.765741         1787120  \n",
       "1309                                14.605797         1792798  \n",
       "1681                                32.294278         1356803  \n",
       "1696                                 2.890017          973410  \n",
       "1716                                28.410065         1658672  \n",
       "1938                                 1.212672         1845547  \n",
       "1971                                11.294435         1552019  \n",
       "1978                                 3.701985         1799551  \n",
       "2069                                12.259491         1561040  \n",
       "2188                                 1.557384         1735983  \n",
       "2223                                 5.309752         1484256  \n",
       "2249                                 7.212569         1359679  "
      ]
     },
     "execution_count": 19,
     "metadata": {},
     "output_type": "execute_result"
    }
   ],
   "source": [
    "df_NOTA[df_NOTA['CRIMINALCASES'] == 'Not Available']"
   ]
  },
  {
   "cell_type": "code",
   "execution_count": 20,
   "metadata": {},
   "outputs": [],
   "source": [
    "df_NOTA['CRIMINALCASES'].replace(to_replace='Not Available', value=0, inplace=True)"
   ]
  },
  {
   "cell_type": "code",
   "execution_count": 21,
   "metadata": {},
   "outputs": [
    {
     "data": {
      "text/plain": [
       "0       52\n",
       "1        0\n",
       "2        3\n",
       "4        5\n",
       "5        0\n",
       "        ..\n",
       "2257     0\n",
       "2258     0\n",
       "2259    18\n",
       "2260     0\n",
       "2261     3\n",
       "Name: CRIMINALCASES, Length: 2018, dtype: object"
      ]
     },
     "execution_count": 21,
     "metadata": {},
     "output_type": "execute_result"
    }
   ],
   "source": [
    "df_NOTA['CRIMINALCASES'].fillna(0)"
   ]
  },
  {
   "cell_type": "code",
   "execution_count": 22,
   "metadata": {},
   "outputs": [],
   "source": [
    "df_NOTA['CRIMINALCASES'] = df_NOTA['CRIMINALCASES'].astype(int, errors='raise')\n",
    "df_NOTA['AGE'] = df_NOTA['AGE'].astype(int, errors='raise')"
   ]
  },
  {
   "cell_type": "code",
   "execution_count": 23,
   "metadata": {},
   "outputs": [
    {
     "data": {
      "text/plain": [
       "STATE                                       object\n",
       "CONSTITUENCY                                object\n",
       "NAME                                        object\n",
       "WINNER                                       int64\n",
       "PARTY                                       object\n",
       "GENDER                                      object\n",
       "CRIMINALCASES                                int32\n",
       "AGE                                          int32\n",
       "CATEGORY                                    object\n",
       "EDUCATION                                   object\n",
       "GENERALVOTES                                 int64\n",
       "POSTALVOTES                                  int64\n",
       "TOTALVOTES                                   int64\n",
       "OVER TOTAL ELECTORS IN CONSTITUENCY        float64\n",
       "OVER TOTAL VOTES POLLED IN CONSTITUENCY    float64\n",
       "TOTAL ELECTORS                               int64\n",
       "dtype: object"
      ]
     },
     "execution_count": 23,
     "metadata": {},
     "output_type": "execute_result"
    }
   ],
   "source": [
    "df_NOTA.dtypes"
   ]
  },
  {
   "cell_type": "code",
   "execution_count": 24,
   "metadata": {},
   "outputs": [],
   "source": [
    "# Converting Strings to Category\n",
    "for label, content in df_NOTA.items():\n",
    "    if pd.api.types.is_string_dtype(content):\n",
    "        df_NOTA[label] = content.astype(\"category\").cat.as_ordered()"
   ]
  },
  {
   "cell_type": "code",
   "execution_count": 25,
   "metadata": {},
   "outputs": [
    {
     "data": {
      "text/plain": [
       "STATE                                      category\n",
       "CONSTITUENCY                               category\n",
       "NAME                                       category\n",
       "WINNER                                        int64\n",
       "PARTY                                      category\n",
       "GENDER                                     category\n",
       "CRIMINALCASES                                 int32\n",
       "AGE                                           int32\n",
       "CATEGORY                                   category\n",
       "EDUCATION                                  category\n",
       "GENERALVOTES                                  int64\n",
       "POSTALVOTES                                   int64\n",
       "TOTALVOTES                                    int64\n",
       "OVER TOTAL ELECTORS IN CONSTITUENCY         float64\n",
       "OVER TOTAL VOTES POLLED IN CONSTITUENCY     float64\n",
       "TOTAL ELECTORS                                int64\n",
       "dtype: object"
      ]
     },
     "execution_count": 25,
     "metadata": {},
     "output_type": "execute_result"
    }
   ],
   "source": [
    "df_NOTA.dtypes"
   ]
  },
  {
   "cell_type": "code",
   "execution_count": 26,
   "metadata": {},
   "outputs": [
    {
     "data": {
      "text/html": [
       "<div>\n",
       "<style scoped>\n",
       "    .dataframe tbody tr th:only-of-type {\n",
       "        vertical-align: middle;\n",
       "    }\n",
       "\n",
       "    .dataframe tbody tr th {\n",
       "        vertical-align: top;\n",
       "    }\n",
       "\n",
       "    .dataframe thead th {\n",
       "        text-align: right;\n",
       "    }\n",
       "</style>\n",
       "<table border=\"1\" class=\"dataframe\">\n",
       "  <thead>\n",
       "    <tr style=\"text-align: right;\">\n",
       "      <th></th>\n",
       "      <th>STATE</th>\n",
       "      <th>CONSTITUENCY</th>\n",
       "      <th>NAME</th>\n",
       "      <th>WINNER</th>\n",
       "      <th>PARTY</th>\n",
       "      <th>GENDER</th>\n",
       "      <th>CRIMINALCASES</th>\n",
       "      <th>AGE</th>\n",
       "      <th>CATEGORY</th>\n",
       "      <th>EDUCATION</th>\n",
       "      <th>GENERALVOTES</th>\n",
       "      <th>POSTALVOTES</th>\n",
       "      <th>TOTALVOTES</th>\n",
       "      <th>OVER TOTAL ELECTORS IN CONSTITUENCY</th>\n",
       "      <th>OVER TOTAL VOTES POLLED IN CONSTITUENCY</th>\n",
       "      <th>TOTAL ELECTORS</th>\n",
       "    </tr>\n",
       "  </thead>\n",
       "  <tbody>\n",
       "    <tr>\n",
       "      <th>0</th>\n",
       "      <td>Telangana</td>\n",
       "      <td>ADILABAD</td>\n",
       "      <td>SOYAM BAPU RAO</td>\n",
       "      <td>1</td>\n",
       "      <td>BJP</td>\n",
       "      <td>MALE</td>\n",
       "      <td>52</td>\n",
       "      <td>52</td>\n",
       "      <td>ST</td>\n",
       "      <td>12th Pass</td>\n",
       "      <td>376892</td>\n",
       "      <td>482</td>\n",
       "      <td>377374</td>\n",
       "      <td>25.330684</td>\n",
       "      <td>35.468248</td>\n",
       "      <td>1489790</td>\n",
       "    </tr>\n",
       "    <tr>\n",
       "      <th>1</th>\n",
       "      <td>Telangana</td>\n",
       "      <td>ADILABAD</td>\n",
       "      <td>Godam Nagesh</td>\n",
       "      <td>0</td>\n",
       "      <td>TRS</td>\n",
       "      <td>MALE</td>\n",
       "      <td>0</td>\n",
       "      <td>54</td>\n",
       "      <td>ST</td>\n",
       "      <td>Post Graduate</td>\n",
       "      <td>318665</td>\n",
       "      <td>149</td>\n",
       "      <td>318814</td>\n",
       "      <td>21.399929</td>\n",
       "      <td>29.964370</td>\n",
       "      <td>1489790</td>\n",
       "    </tr>\n",
       "    <tr>\n",
       "      <th>2</th>\n",
       "      <td>Telangana</td>\n",
       "      <td>ADILABAD</td>\n",
       "      <td>RATHOD RAMESH</td>\n",
       "      <td>0</td>\n",
       "      <td>INC</td>\n",
       "      <td>MALE</td>\n",
       "      <td>3</td>\n",
       "      <td>52</td>\n",
       "      <td>ST</td>\n",
       "      <td>12th Pass</td>\n",
       "      <td>314057</td>\n",
       "      <td>181</td>\n",
       "      <td>314238</td>\n",
       "      <td>21.092771</td>\n",
       "      <td>29.534285</td>\n",
       "      <td>1489790</td>\n",
       "    </tr>\n",
       "    <tr>\n",
       "      <th>4</th>\n",
       "      <td>Uttar Pradesh</td>\n",
       "      <td>AGRA</td>\n",
       "      <td>Satyapal Singh Baghel</td>\n",
       "      <td>1</td>\n",
       "      <td>BJP</td>\n",
       "      <td>MALE</td>\n",
       "      <td>5</td>\n",
       "      <td>58</td>\n",
       "      <td>SC</td>\n",
       "      <td>Doctorate</td>\n",
       "      <td>644459</td>\n",
       "      <td>2416</td>\n",
       "      <td>646875</td>\n",
       "      <td>33.383823</td>\n",
       "      <td>56.464615</td>\n",
       "      <td>1937690</td>\n",
       "    </tr>\n",
       "    <tr>\n",
       "      <th>5</th>\n",
       "      <td>Uttar Pradesh</td>\n",
       "      <td>AGRA</td>\n",
       "      <td>Manoj Kumar Soni</td>\n",
       "      <td>0</td>\n",
       "      <td>BSP</td>\n",
       "      <td>MALE</td>\n",
       "      <td>0</td>\n",
       "      <td>47</td>\n",
       "      <td>SC</td>\n",
       "      <td>Post Graduate</td>\n",
       "      <td>434199</td>\n",
       "      <td>1130</td>\n",
       "      <td>435329</td>\n",
       "      <td>22.466390</td>\n",
       "      <td>37.999125</td>\n",
       "      <td>1937690</td>\n",
       "    </tr>\n",
       "    <tr>\n",
       "      <th>6</th>\n",
       "      <td>Uttar Pradesh</td>\n",
       "      <td>AGRA</td>\n",
       "      <td>Preeta Harit</td>\n",
       "      <td>0</td>\n",
       "      <td>INC</td>\n",
       "      <td>FEMALE</td>\n",
       "      <td>0</td>\n",
       "      <td>54</td>\n",
       "      <td>SC</td>\n",
       "      <td>Post Graduate</td>\n",
       "      <td>44877</td>\n",
       "      <td>272</td>\n",
       "      <td>45149</td>\n",
       "      <td>2.330042</td>\n",
       "      <td>3.940979</td>\n",
       "      <td>1937690</td>\n",
       "    </tr>\n",
       "    <tr>\n",
       "      <th>7</th>\n",
       "      <td>Maharashtra</td>\n",
       "      <td>AHMADNAGAR</td>\n",
       "      <td>Dr. SUJAY RADHAKRISHNA VIKHEPATIL</td>\n",
       "      <td>1</td>\n",
       "      <td>BJP</td>\n",
       "      <td>MALE</td>\n",
       "      <td>0</td>\n",
       "      <td>37</td>\n",
       "      <td>GENERAL</td>\n",
       "      <td>Doctorate</td>\n",
       "      <td>696961</td>\n",
       "      <td>7699</td>\n",
       "      <td>704660</td>\n",
       "      <td>37.856533</td>\n",
       "      <td>58.425159</td>\n",
       "      <td>1861396</td>\n",
       "    </tr>\n",
       "    <tr>\n",
       "      <th>8</th>\n",
       "      <td>Maharashtra</td>\n",
       "      <td>AHMADNAGAR</td>\n",
       "      <td>SANGRAM ARUNKAKA JAGTAP</td>\n",
       "      <td>0</td>\n",
       "      <td>NCP</td>\n",
       "      <td>MALE</td>\n",
       "      <td>1</td>\n",
       "      <td>34</td>\n",
       "      <td>GENERAL</td>\n",
       "      <td>Graduate</td>\n",
       "      <td>419364</td>\n",
       "      <td>3822</td>\n",
       "      <td>423186</td>\n",
       "      <td>22.734872</td>\n",
       "      <td>35.087431</td>\n",
       "      <td>1861396</td>\n",
       "    </tr>\n",
       "    <tr>\n",
       "      <th>9</th>\n",
       "      <td>Maharashtra</td>\n",
       "      <td>AHMADNAGAR</td>\n",
       "      <td>SUDHAKAR LAXMAN AVHAD</td>\n",
       "      <td>0</td>\n",
       "      <td>VBA</td>\n",
       "      <td>MALE</td>\n",
       "      <td>0</td>\n",
       "      <td>62</td>\n",
       "      <td>GENERAL</td>\n",
       "      <td>Graduate</td>\n",
       "      <td>31644</td>\n",
       "      <td>163</td>\n",
       "      <td>31807</td>\n",
       "      <td>1.708771</td>\n",
       "      <td>2.637200</td>\n",
       "      <td>1861396</td>\n",
       "    </tr>\n",
       "    <tr>\n",
       "      <th>10</th>\n",
       "      <td>Gujarat</td>\n",
       "      <td>AHMEDABAD EAST</td>\n",
       "      <td>Patel Hasmukhbhai Somabhai</td>\n",
       "      <td>1</td>\n",
       "      <td>BJP</td>\n",
       "      <td>MALE</td>\n",
       "      <td>0</td>\n",
       "      <td>58</td>\n",
       "      <td>GENERAL</td>\n",
       "      <td>Others</td>\n",
       "      <td>745810</td>\n",
       "      <td>4024</td>\n",
       "      <td>749834</td>\n",
       "      <td>41.384970</td>\n",
       "      <td>67.005462</td>\n",
       "      <td>1811851</td>\n",
       "    </tr>\n",
       "    <tr>\n",
       "      <th>11</th>\n",
       "      <td>Gujarat</td>\n",
       "      <td>AHMEDABAD EAST</td>\n",
       "      <td>Gitaben Patel</td>\n",
       "      <td>0</td>\n",
       "      <td>INC</td>\n",
       "      <td>FEMALE</td>\n",
       "      <td>6</td>\n",
       "      <td>38</td>\n",
       "      <td>GENERAL</td>\n",
       "      <td>10th Pass</td>\n",
       "      <td>312883</td>\n",
       "      <td>2621</td>\n",
       "      <td>315504</td>\n",
       "      <td>17.413352</td>\n",
       "      <td>28.193562</td>\n",
       "      <td>1811851</td>\n",
       "    </tr>\n",
       "    <tr>\n",
       "      <th>12</th>\n",
       "      <td>Gujarat</td>\n",
       "      <td>AHMEDABAD WEST</td>\n",
       "      <td>DR. KIRIT P. SOLANKI</td>\n",
       "      <td>1</td>\n",
       "      <td>BJP</td>\n",
       "      <td>MALE</td>\n",
       "      <td>0</td>\n",
       "      <td>69</td>\n",
       "      <td>SC</td>\n",
       "      <td>Post Graduate</td>\n",
       "      <td>638241</td>\n",
       "      <td>3381</td>\n",
       "      <td>641622</td>\n",
       "      <td>39.044323</td>\n",
       "      <td>64.211450</td>\n",
       "      <td>1643317</td>\n",
       "    </tr>\n",
       "    <tr>\n",
       "      <th>13</th>\n",
       "      <td>Gujarat</td>\n",
       "      <td>AHMEDABAD WEST</td>\n",
       "      <td>RAJU PARMAR</td>\n",
       "      <td>0</td>\n",
       "      <td>INC</td>\n",
       "      <td>MALE</td>\n",
       "      <td>0</td>\n",
       "      <td>68</td>\n",
       "      <td>SC</td>\n",
       "      <td>Graduate</td>\n",
       "      <td>317797</td>\n",
       "      <td>2279</td>\n",
       "      <td>320076</td>\n",
       "      <td>19.477435</td>\n",
       "      <td>32.032169</td>\n",
       "      <td>1643317</td>\n",
       "    </tr>\n",
       "    <tr>\n",
       "      <th>15</th>\n",
       "      <td>Gujarat</td>\n",
       "      <td>AHMEDABAD WEST</td>\n",
       "      <td>TRIBHOVANDAS KARSANDAS VAGHELA</td>\n",
       "      <td>0</td>\n",
       "      <td>BSP</td>\n",
       "      <td>MALE</td>\n",
       "      <td>0</td>\n",
       "      <td>66</td>\n",
       "      <td>SC</td>\n",
       "      <td>8th Pass</td>\n",
       "      <td>9909</td>\n",
       "      <td>119</td>\n",
       "      <td>10028</td>\n",
       "      <td>0.610229</td>\n",
       "      <td>1.003570</td>\n",
       "      <td>1643317</td>\n",
       "    </tr>\n",
       "    <tr>\n",
       "      <th>16</th>\n",
       "      <td>Rajasthan</td>\n",
       "      <td>AJMER</td>\n",
       "      <td>Bhagirath Chaudhary</td>\n",
       "      <td>1</td>\n",
       "      <td>BJP</td>\n",
       "      <td>MALE</td>\n",
       "      <td>0</td>\n",
       "      <td>64</td>\n",
       "      <td>GENERAL</td>\n",
       "      <td>12th Pass</td>\n",
       "      <td>811091</td>\n",
       "      <td>3985</td>\n",
       "      <td>815076</td>\n",
       "      <td>43.439536</td>\n",
       "      <td>64.522350</td>\n",
       "      <td>1876346</td>\n",
       "    </tr>\n",
       "    <tr>\n",
       "      <th>17</th>\n",
       "      <td>Rajasthan</td>\n",
       "      <td>AJMER</td>\n",
       "      <td>Riju Jhunjhunwala</td>\n",
       "      <td>0</td>\n",
       "      <td>INC</td>\n",
       "      <td>MALE</td>\n",
       "      <td>0</td>\n",
       "      <td>40</td>\n",
       "      <td>GENERAL</td>\n",
       "      <td>Graduate</td>\n",
       "      <td>397420</td>\n",
       "      <td>1232</td>\n",
       "      <td>398652</td>\n",
       "      <td>21.246188</td>\n",
       "      <td>31.557749</td>\n",
       "      <td>1876346</td>\n",
       "    </tr>\n",
       "    <tr>\n",
       "      <th>18</th>\n",
       "      <td>Rajasthan</td>\n",
       "      <td>AJMER</td>\n",
       "      <td>Durga Lal Regar</td>\n",
       "      <td>0</td>\n",
       "      <td>BSP</td>\n",
       "      <td>MALE</td>\n",
       "      <td>0</td>\n",
       "      <td>60</td>\n",
       "      <td>SC</td>\n",
       "      <td>Post Graduate</td>\n",
       "      <td>13547</td>\n",
       "      <td>71</td>\n",
       "      <td>13618</td>\n",
       "      <td>0.725772</td>\n",
       "      <td>1.078016</td>\n",
       "      <td>1876346</td>\n",
       "    </tr>\n",
       "    <tr>\n",
       "      <th>19</th>\n",
       "      <td>Rajasthan</td>\n",
       "      <td>AJMER</td>\n",
       "      <td>Vishram Babu</td>\n",
       "      <td>0</td>\n",
       "      <td>APoI</td>\n",
       "      <td>MALE</td>\n",
       "      <td>0</td>\n",
       "      <td>60</td>\n",
       "      <td>SC</td>\n",
       "      <td>Post Graduate</td>\n",
       "      <td>13036</td>\n",
       "      <td>5</td>\n",
       "      <td>13041</td>\n",
       "      <td>0.695021</td>\n",
       "      <td>1.032340</td>\n",
       "      <td>1876346</td>\n",
       "    </tr>\n",
       "    <tr>\n",
       "      <th>20</th>\n",
       "      <td>Uttar Pradesh</td>\n",
       "      <td>AKBARPUR</td>\n",
       "      <td>Devendra Singh 'Bhole'</td>\n",
       "      <td>1</td>\n",
       "      <td>BJP</td>\n",
       "      <td>MALE</td>\n",
       "      <td>0</td>\n",
       "      <td>64</td>\n",
       "      <td>GENERAL</td>\n",
       "      <td>10th Pass</td>\n",
       "      <td>577603</td>\n",
       "      <td>3679</td>\n",
       "      <td>581282</td>\n",
       "      <td>32.912920</td>\n",
       "      <td>56.620233</td>\n",
       "      <td>1766121</td>\n",
       "    </tr>\n",
       "    <tr>\n",
       "      <th>21</th>\n",
       "      <td>Uttar Pradesh</td>\n",
       "      <td>AKBARPUR</td>\n",
       "      <td>Nisha Sachan</td>\n",
       "      <td>0</td>\n",
       "      <td>BSP</td>\n",
       "      <td>FEMALE</td>\n",
       "      <td>0</td>\n",
       "      <td>46</td>\n",
       "      <td>GENERAL</td>\n",
       "      <td>Post Graduate</td>\n",
       "      <td>304553</td>\n",
       "      <td>1587</td>\n",
       "      <td>306140</td>\n",
       "      <td>17.334033</td>\n",
       "      <td>29.819809</td>\n",
       "      <td>1766121</td>\n",
       "    </tr>\n",
       "  </tbody>\n",
       "</table>\n",
       "</div>"
      ],
      "text/plain": [
       "            STATE    CONSTITUENCY                               NAME  WINNER  \\\n",
       "0       Telangana        ADILABAD                     SOYAM BAPU RAO       1   \n",
       "1       Telangana        ADILABAD                       Godam Nagesh       0   \n",
       "2       Telangana        ADILABAD                      RATHOD RAMESH       0   \n",
       "4   Uttar Pradesh            AGRA              Satyapal Singh Baghel       1   \n",
       "5   Uttar Pradesh            AGRA                   Manoj Kumar Soni       0   \n",
       "6   Uttar Pradesh            AGRA                       Preeta Harit       0   \n",
       "7     Maharashtra      AHMADNAGAR  Dr. SUJAY RADHAKRISHNA VIKHEPATIL       1   \n",
       "8     Maharashtra      AHMADNAGAR            SANGRAM ARUNKAKA JAGTAP       0   \n",
       "9     Maharashtra      AHMADNAGAR              SUDHAKAR LAXMAN AVHAD       0   \n",
       "10        Gujarat  AHMEDABAD EAST         Patel Hasmukhbhai Somabhai       1   \n",
       "11        Gujarat  AHMEDABAD EAST                      Gitaben Patel       0   \n",
       "12        Gujarat  AHMEDABAD WEST               DR. KIRIT P. SOLANKI       1   \n",
       "13        Gujarat  AHMEDABAD WEST                        RAJU PARMAR       0   \n",
       "15        Gujarat  AHMEDABAD WEST     TRIBHOVANDAS KARSANDAS VAGHELA       0   \n",
       "16      Rajasthan           AJMER                Bhagirath Chaudhary       1   \n",
       "17      Rajasthan           AJMER                  Riju Jhunjhunwala       0   \n",
       "18      Rajasthan           AJMER                    Durga Lal Regar       0   \n",
       "19      Rajasthan           AJMER                       Vishram Babu       0   \n",
       "20  Uttar Pradesh        AKBARPUR             Devendra Singh 'Bhole'       1   \n",
       "21  Uttar Pradesh        AKBARPUR                       Nisha Sachan       0   \n",
       "\n",
       "   PARTY  GENDER  CRIMINALCASES  AGE CATEGORY      EDUCATION  GENERALVOTES  \\\n",
       "0    BJP    MALE             52   52       ST      12th Pass        376892   \n",
       "1    TRS    MALE              0   54       ST  Post Graduate        318665   \n",
       "2    INC    MALE              3   52       ST      12th Pass        314057   \n",
       "4    BJP    MALE              5   58       SC      Doctorate        644459   \n",
       "5    BSP    MALE              0   47       SC  Post Graduate        434199   \n",
       "6    INC  FEMALE              0   54       SC  Post Graduate         44877   \n",
       "7    BJP    MALE              0   37  GENERAL      Doctorate        696961   \n",
       "8    NCP    MALE              1   34  GENERAL       Graduate        419364   \n",
       "9    VBA    MALE              0   62  GENERAL       Graduate         31644   \n",
       "10   BJP    MALE              0   58  GENERAL         Others        745810   \n",
       "11   INC  FEMALE              6   38  GENERAL      10th Pass        312883   \n",
       "12   BJP    MALE              0   69       SC  Post Graduate        638241   \n",
       "13   INC    MALE              0   68       SC       Graduate        317797   \n",
       "15   BSP    MALE              0   66       SC       8th Pass          9909   \n",
       "16   BJP    MALE              0   64  GENERAL      12th Pass        811091   \n",
       "17   INC    MALE              0   40  GENERAL       Graduate        397420   \n",
       "18   BSP    MALE              0   60       SC  Post Graduate         13547   \n",
       "19  APoI    MALE              0   60       SC  Post Graduate         13036   \n",
       "20   BJP    MALE              0   64  GENERAL      10th Pass        577603   \n",
       "21   BSP  FEMALE              0   46  GENERAL  Post Graduate        304553   \n",
       "\n",
       "    POSTALVOTES  TOTALVOTES  OVER TOTAL ELECTORS IN CONSTITUENCY  \\\n",
       "0           482      377374                            25.330684   \n",
       "1           149      318814                            21.399929   \n",
       "2           181      314238                            21.092771   \n",
       "4          2416      646875                            33.383823   \n",
       "5          1130      435329                            22.466390   \n",
       "6           272       45149                             2.330042   \n",
       "7          7699      704660                            37.856533   \n",
       "8          3822      423186                            22.734872   \n",
       "9           163       31807                             1.708771   \n",
       "10         4024      749834                            41.384970   \n",
       "11         2621      315504                            17.413352   \n",
       "12         3381      641622                            39.044323   \n",
       "13         2279      320076                            19.477435   \n",
       "15          119       10028                             0.610229   \n",
       "16         3985      815076                            43.439536   \n",
       "17         1232      398652                            21.246188   \n",
       "18           71       13618                             0.725772   \n",
       "19            5       13041                             0.695021   \n",
       "20         3679      581282                            32.912920   \n",
       "21         1587      306140                            17.334033   \n",
       "\n",
       "    OVER TOTAL VOTES POLLED IN CONSTITUENCY  TOTAL ELECTORS  \n",
       "0                                 35.468248         1489790  \n",
       "1                                 29.964370         1489790  \n",
       "2                                 29.534285         1489790  \n",
       "4                                 56.464615         1937690  \n",
       "5                                 37.999125         1937690  \n",
       "6                                  3.940979         1937690  \n",
       "7                                 58.425159         1861396  \n",
       "8                                 35.087431         1861396  \n",
       "9                                  2.637200         1861396  \n",
       "10                                67.005462         1811851  \n",
       "11                                28.193562         1811851  \n",
       "12                                64.211450         1643317  \n",
       "13                                32.032169         1643317  \n",
       "15                                 1.003570         1643317  \n",
       "16                                64.522350         1876346  \n",
       "17                                31.557749         1876346  \n",
       "18                                 1.078016         1876346  \n",
       "19                                 1.032340         1876346  \n",
       "20                                56.620233         1766121  \n",
       "21                                29.819809         1766121  "
      ]
     },
     "execution_count": 26,
     "metadata": {},
     "output_type": "execute_result"
    }
   ],
   "source": [
    "df_NOTA.head(20)"
   ]
  },
  {
   "cell_type": "code",
   "execution_count": 27,
   "metadata": {
    "scrolled": true
   },
   "outputs": [
    {
     "data": {
      "text/plain": [
       "Index(['STATE', 'CONSTITUENCY', 'NAME', 'WINNER', 'PARTY', 'GENDER',\n",
       "       'CRIMINALCASES', 'AGE', 'CATEGORY', 'EDUCATION', 'GENERALVOTES',\n",
       "       'POSTALVOTES', 'TOTALVOTES', 'OVER TOTAL ELECTORS IN CONSTITUENCY',\n",
       "       'OVER TOTAL VOTES POLLED IN CONSTITUENCY', 'TOTAL ELECTORS'],\n",
       "      dtype='object')"
      ]
     },
     "execution_count": 27,
     "metadata": {},
     "output_type": "execute_result"
    }
   ],
   "source": [
    "df_NOTA.columns"
   ]
  },
  {
   "cell_type": "code",
   "execution_count": 28,
   "metadata": {},
   "outputs": [
    {
     "data": {
      "text/plain": [
       "(2018, 16)"
      ]
     },
     "execution_count": 28,
     "metadata": {},
     "output_type": "execute_result"
    }
   ],
   "source": [
    "df_NOTA.shape"
   ]
  },
  {
   "cell_type": "markdown",
   "metadata": {},
   "source": [
    "## 6. Data Analysis"
   ]
  },
  {
   "cell_type": "markdown",
   "metadata": {},
   "source": [
    "### 6.1 State and Constituency by total electors"
   ]
  },
  {
   "cell_type": "code",
   "execution_count": 110,
   "metadata": {},
   "outputs": [
    {
     "data": {
      "application/vnd.plotly.v1+json": {
       "config": {
        "plotlyServerURL": "https://plot.ly"
       },
       "data": [
        {
         "branchvalues": "total",
         "customdata": [
          [
           null
          ],
          [
           null
          ],
          [
           null
          ],
          [
           null
          ],
          [
           null
          ],
          [
           null
          ],
          [
           null
          ],
          [
           null
          ],
          [
           null
          ],
          [
           null
          ],
          [
           null
          ],
          [
           null
          ],
          [
           null
          ],
          [
           null
          ],
          [
           null
          ],
          [
           null
          ],
          [
           null
          ],
          [
           null
          ],
          [
           null
          ],
          [
           null
          ],
          [
           null
          ],
          [
           null
          ],
          [
           null
          ],
          [
           null
          ],
          [
           null
          ],
          [
           null
          ],
          [
           null
          ],
          [
           null
          ],
          [
           null
          ],
          [
           null
          ],
          [
           null
          ],
          [
           1489790
          ],
          [
           null
          ],
          [
           null
          ],
          [
           null
          ],
          [
           null
          ],
          [
           null
          ],
          [
           null
          ],
          [
           null
          ],
          [
           null
          ],
          [
           null
          ],
          [
           null
          ],
          [
           null
          ],
          [
           null
          ],
          [
           null
          ],
          [
           null
          ],
          [
           null
          ],
          [
           null
          ],
          [
           null
          ],
          [
           null
          ],
          [
           null
          ],
          [
           null
          ],
          [
           null
          ],
          [
           null
          ],
          [
           null
          ],
          [
           null
          ],
          [
           null
          ],
          [
           null
          ],
          [
           null
          ],
          [
           null
          ],
          [
           null
          ],
          [
           null
          ],
          [
           null
          ],
          [
           null
          ],
          [
           null
          ],
          [
           null
          ],
          [
           null
          ],
          [
           null
          ],
          [
           null
          ],
          [
           1937690
          ],
          [
           null
          ],
          [
           null
          ],
          [
           null
          ],
          [
           null
          ],
          [
           null
          ],
          [
           null
          ],
          [
           null
          ],
          [
           null
          ],
          [
           null
          ],
          [
           null
          ],
          [
           null
          ],
          [
           null
          ],
          [
           null
          ],
          [
           null
          ],
          [
           null
          ],
          [
           null
          ],
          [
           null
          ],
          [
           null
          ],
          [
           null
          ],
          [
           null
          ],
          [
           null
          ],
          [
           1861396
          ],
          [
           null
          ],
          [
           null
          ],
          [
           null
          ],
          [
           null
          ],
          [
           null
          ],
          [
           null
          ],
          [
           null
          ],
          [
           null
          ],
          [
           null
          ],
          [
           null
          ],
          [
           null
          ],
          [
           null
          ],
          [
           null
          ],
          [
           null
          ],
          [
           null
          ],
          [
           null
          ],
          [
           null
          ],
          [
           null
          ],
          [
           null
          ],
          [
           null
          ],
          [
           null
          ],
          [
           null
          ],
          [
           null
          ],
          [
           null
          ],
          [
           null
          ],
          [
           null
          ],
          [
           1811851
          ],
          [
           null
          ],
          [
           null
          ],
          [
           null
          ],
          [
           null
          ],
          [
           null
          ],
          [
           null
          ],
          [
           null
          ],
          [
           null
          ],
          [
           null
          ],
          [
           null
          ],
          [
           null
          ],
          [
           null
          ],
          [
           null
          ],
          [
           null
          ],
          [
           null
          ],
          [
           null
          ],
          [
           null
          ],
          [
           null
          ],
          [
           null
          ],
          [
           null
          ],
          [
           null
          ],
          [
           null
          ],
          [
           null
          ],
          [
           null
          ],
          [
           null
          ],
          [
           null
          ],
          [
           null
          ],
          [
           null
          ],
          [
           null
          ],
          [
           null
          ],
          [
           null
          ],
          [
           null
          ],
          [
           null
          ],
          [
           null
          ],
          [
           null
          ],
          [
           1643317
          ],
          [
           null
          ],
          [
           null
          ],
          [
           null
          ],
          [
           null
          ],
          [
           null
          ],
          [
           null
          ],
          [
           null
          ],
          [
           null
          ],
          [
           null
          ],
          [
           null
          ],
          [
           null
          ],
          [
           null
          ],
          [
           null
          ],
          [
           null
          ],
          [
           null
          ],
          [
           null
          ],
          [
           null
          ],
          [
           null
          ],
          [
           null
          ],
          [
           null
          ],
          [
           null
          ],
          [
           null
          ],
          [
           null
          ],
          [
           null
          ],
          [
           null
          ],
          [
           null
          ],
          [
           null
          ],
          [
           null
          ],
          [
           null
          ],
          [
           null
          ],
          [
           null
          ],
          [
           null
          ],
          [
           null
          ],
          [
           null
          ],
          [
           null
          ],
          [
           null
          ],
          [
           null
          ],
          [
           null
          ],
          [
           null
          ],
          [
           null
          ],
          [
           null
          ],
          [
           null
          ],
          [
           null
          ],
          [
           null
          ],
          [
           null
          ],
          [
           null
          ],
          [
           null
          ],
          [
           null
          ],
          [
           null
          ],
          [
           null
          ],
          [
           null
          ],
          [
           null
          ],
          [
           null
          ],
          [
           1876346
          ],
          [
           null
          ],
          [
           null
          ],
          [
           null
          ],
          [
           null
          ],
          [
           null
          ],
          [
           null
          ],
          [
           null
          ],
          [
           null
          ],
          [
           null
          ],
          [
           null
          ],
          [
           null
          ],
          [
           null
          ],
          [
           null
          ],
          [
           null
          ],
          [
           null
          ],
          [
           null
          ],
          [
           null
          ],
          [
           null
          ],
          [
           null
          ],
          [
           null
          ],
          [
           null
          ],
          [
           null
          ],
          [
           null
          ],
          [
           null
          ],
          [
           null
          ],
          [
           null
          ],
          [
           null
          ],
          [
           null
          ],
          [
           null
          ],
          [
           null
          ],
          [
           null
          ],
          [
           null
          ],
          [
           null
          ],
          [
           null
          ],
          [
           null
          ],
          [
           null
          ],
          [
           null
          ],
          [
           null
          ],
          [
           null
          ],
          [
           null
          ],
          [
           1766121
          ],
          [
           null
          ],
          [
           null
          ],
          [
           null
          ],
          [
           null
          ],
          [
           null
          ],
          [
           null
          ],
          [
           null
          ],
          [
           null
          ],
          [
           null
          ],
          [
           null
          ],
          [
           null
          ],
          [
           null
          ],
          [
           null
          ],
          [
           null
          ],
          [
           null
          ],
          [
           null
          ],
          [
           null
          ],
          [
           null
          ],
          [
           null
          ],
          [
           null
          ],
          [
           null
          ],
          [
           1865169
          ],
          [
           null
          ],
          [
           null
          ],
          [
           null
          ],
          [
           null
          ],
          [
           null
          ],
          [
           null
          ],
          [
           null
          ],
          [
           null
          ],
          [
           null
          ],
          [
           null
          ],
          [
           null
          ],
          [
           null
          ],
          [
           null
          ],
          [
           null
          ],
          [
           null
          ],
          [
           null
          ],
          [
           null
          ],
          [
           null
          ],
          [
           null
          ],
          [
           null
          ],
          [
           null
          ],
          [
           null
          ],
          [
           null
          ],
          [
           null
          ],
          [
           null
          ],
          [
           null
          ],
          [
           null
          ],
          [
           null
          ],
          [
           null
          ],
          [
           null
          ],
          [
           null
          ],
          [
           null
          ],
          [
           1356701
          ],
          [
           null
          ],
          [
           null
          ],
          [
           null
          ],
          [
           null
          ],
          [
           null
          ],
          [
           null
          ],
          [
           null
          ],
          [
           null
          ],
          [
           null
          ],
          [
           null
          ],
          [
           null
          ],
          [
           null
          ],
          [
           null
          ],
          [
           null
          ],
          [
           null
          ],
          [
           null
          ],
          [
           null
          ],
          [
           null
          ],
          [
           null
          ],
          [
           null
          ],
          [
           null
          ],
          [
           null
          ],
          [
           null
          ],
          [
           null
          ],
          [
           null
          ],
          [
           null
          ],
          [
           null
          ],
          [
           null
          ],
          [
           null
          ],
          [
           null
          ],
          [
           null
          ],
          [
           null
          ],
          [
           null
          ],
          [
           null
          ],
          [
           null
          ],
          [
           1266794
          ],
          [
           null
          ],
          [
           null
          ],
          [
           null
          ],
          [
           null
          ],
          [
           null
          ],
          [
           null
          ],
          [
           null
          ],
          [
           null
          ],
          [
           null
          ],
          [
           null
          ],
          [
           null
          ],
          [
           null
          ],
          [
           null
          ],
          [
           null
          ],
          [
           null
          ],
          [
           null
          ],
          [
           null
          ],
          [
           null
          ],
          [
           null
          ],
          [
           null
          ],
          [
           null
          ],
          [
           null
          ],
          [
           null
          ],
          [
           null
          ],
          [
           null
          ],
          [
           null
          ],
          [
           null
          ],
          [
           null
          ],
          [
           null
          ],
          [
           null
          ],
          [
           null
          ],
          [
           null
          ],
          [
           null
          ],
          [
           null
          ],
          [
           null
          ],
          [
           null
          ],
          [
           null
          ],
          [
           null
          ],
          [
           null
          ],
          [
           null
          ],
          [
           null
          ],
          [
           null
          ],
          [
           null
          ],
          [
           null
          ],
          [
           null
          ],
          [
           null
          ],
          [
           null
          ],
          [
           null
          ],
          [
           null
          ],
          [
           null
          ],
          [
           null
          ],
          [
           null
          ],
          [
           1887127
          ],
          [
           null
          ],
          [
           null
          ],
          [
           null
          ],
          [
           null
          ],
          [
           null
          ],
          [
           null
          ],
          [
           null
          ],
          [
           null
          ],
          [
           null
          ],
          [
           null
          ],
          [
           null
          ],
          [
           null
          ],
          [
           null
          ],
          [
           null
          ],
          [
           null
          ],
          [
           null
          ],
          [
           null
          ],
          [
           null
          ],
          [
           null
          ],
          [
           null
          ],
          [
           null
          ],
          [
           null
          ],
          [
           null
          ],
          [
           null
          ],
          [
           null
          ],
          [
           null
          ],
          [
           null
          ],
          [
           null
          ],
          [
           null
          ],
          [
           null
          ],
          [
           null
          ],
          [
           null
          ],
          [
           null
          ],
          [
           null
          ],
          [
           null
          ],
          [
           null
          ],
          [
           null
          ],
          [
           1648383
          ],
          [
           null
          ],
          [
           null
          ],
          [
           null
          ],
          [
           null
          ],
          [
           null
          ],
          [
           null
          ],
          [
           null
          ],
          [
           null
          ],
          [
           null
          ],
          [
           null
          ],
          [
           null
          ],
          [
           null
          ],
          [
           null
          ],
          [
           null
          ],
          [
           null
          ],
          [
           null
          ],
          [
           null
          ],
          [
           null
          ],
          [
           null
          ],
          [
           null
          ],
          [
           null
          ],
          [
           null
          ],
          [
           null
          ],
          [
           null
          ],
          [
           null
          ],
          [
           null
          ],
          [
           null
          ],
          [
           null
          ],
          [
           null
          ],
          [
           null
          ],
          [
           null
          ],
          [
           null
          ],
          [
           null
          ],
          [
           1716160
          ],
          [
           null
          ],
          [
           null
          ],
          [
           null
          ],
          [
           null
          ],
          [
           null
          ],
          [
           null
          ],
          [
           null
          ],
          [
           null
          ],
          [
           null
          ],
          [
           null
          ],
          [
           null
          ],
          [
           null
          ],
          [
           null
          ],
          [
           null
          ],
          [
           null
          ],
          [
           null
          ],
          [
           null
          ],
          [
           null
          ],
          [
           null
          ],
          [
           null
          ],
          [
           null
          ],
          [
           null
          ],
          [
           null
          ],
          [
           null
          ],
          [
           null
          ],
          [
           null
          ],
          [
           null
          ],
          [
           null
          ],
          [
           null
          ],
          [
           null
          ],
          [
           null
          ],
          [
           null
          ],
          [
           null
          ],
          [
           null
          ],
          [
           null
          ],
          [
           null
          ],
          [
           1337808
          ],
          [
           null
          ],
          [
           null
          ],
          [
           null
          ],
          [
           null
          ],
          [
           null
          ],
          [
           null
          ],
          [
           null
          ],
          [
           null
          ],
          [
           null
          ],
          [
           null
          ],
          [
           null
          ],
          [
           null
          ],
          [
           null
          ],
          [
           null
          ],
          [
           null
          ],
          [
           null
          ],
          [
           null
          ],
          [
           null
          ],
          [
           null
          ],
          [
           null
          ],
          [
           null
          ],
          [
           null
          ],
          [
           null
          ],
          [
           null
          ],
          [
           null
          ],
          [
           null
          ],
          [
           null
          ],
          [
           null
          ],
          [
           null
          ],
          [
           1888524
          ],
          [
           null
          ],
          [
           null
          ],
          [
           null
          ],
          [
           null
          ],
          [
           null
          ],
          [
           null
          ],
          [
           null
          ],
          [
           null
          ],
          [
           1459556
          ],
          [
           null
          ],
          [
           null
          ],
          [
           null
          ],
          [
           null
          ],
          [
           null
          ],
          [
           null
          ],
          [
           null
          ],
          [
           null
          ],
          [
           null
          ],
          [
           null
          ],
          [
           null
          ],
          [
           null
          ],
          [
           null
          ],
          [
           null
          ],
          [
           null
          ],
          [
           null
          ],
          [
           null
          ],
          [
           null
          ],
          [
           null
          ],
          [
           null
          ],
          [
           null
          ],
          [
           null
          ],
          [
           null
          ],
          [
           null
          ],
          [
           null
          ],
          [
           null
          ],
          [
           null
          ],
          [
           null
          ],
          [
           null
          ],
          [
           null
          ],
          [
           null
          ],
          [
           null
          ],
          [
           null
          ],
          [
           null
          ],
          [
           null
          ],
          [
           null
          ],
          [
           null
          ],
          [
           null
          ],
          [
           null
          ],
          [
           null
          ],
          [
           null
          ],
          [
           null
          ],
          [
           null
          ],
          [
           null
          ],
          [
           null
          ],
          [
           1853711
          ],
          [
           null
          ],
          [
           null
          ],
          [
           null
          ],
          [
           null
          ],
          [
           null
          ],
          [
           null
          ],
          [
           null
          ],
          [
           null
          ],
          [
           null
          ],
          [
           null
          ],
          [
           null
          ],
          [
           null
          ],
          [
           null
          ],
          [
           null
          ],
          [
           null
          ],
          [
           null
          ],
          [
           null
          ],
          [
           null
          ],
          [
           null
          ],
          [
           null
          ],
          [
           null
          ],
          [
           null
          ],
          [
           null
          ],
          [
           null
          ],
          [
           null
          ],
          [
           null
          ],
          [
           null
          ],
          [
           null
          ],
          [
           null
          ],
          [
           null
          ],
          [
           null
          ],
          [
           null
          ],
          [
           null
          ],
          [
           null
          ],
          [
           null
          ],
          [
           null
          ],
          [
           null
          ],
          [
           null
          ],
          [
           null
          ],
          [
           null
          ],
          [
           null
          ],
          [
           null
          ],
          [
           null
          ],
          [
           null
          ],
          [
           null
          ],
          [
           null
          ],
          [
           null
          ],
          [
           null
          ],
          [
           null
          ],
          [
           null
          ],
          [
           null
          ],
          [
           null
          ],
          [
           null
          ],
          [
           null
          ],
          [
           null
          ],
          [
           null
          ],
          [
           null
          ],
          [
           1785657
          ],
          [
           null
          ],
          [
           null
          ],
          [
           null
          ],
          [
           null
          ],
          [
           null
          ],
          [
           null
          ],
          [
           null
          ],
          [
           null
          ],
          [
           null
          ],
          [
           null
          ],
          [
           null
          ],
          [
           null
          ],
          [
           null
          ],
          [
           null
          ],
          [
           null
          ],
          [
           null
          ],
          [
           null
          ],
          [
           null
          ],
          [
           null
          ],
          [
           null
          ],
          [
           null
          ],
          [
           null
          ],
          [
           null
          ],
          [
           null
          ],
          [
           null
          ],
          [
           null
          ],
          [
           null
          ],
          [
           null
          ],
          [
           null
          ],
          [
           null
          ],
          [
           null
          ],
          [
           null
          ],
          [
           null
          ],
          [
           null
          ],
          [
           null
          ],
          [
           1743515
          ],
          [
           null
          ],
          [
           null
          ],
          [
           null
          ],
          [
           null
          ],
          [
           null
          ],
          [
           null
          ],
          [
           null
          ],
          [
           null
          ],
          [
           null
          ],
          [
           null
          ],
          [
           null
          ],
          [
           null
          ],
          [
           null
          ],
          [
           null
          ],
          [
           null
          ],
          [
           null
          ],
          [
           null
          ],
          [
           null
          ],
          [
           null
          ],
          [
           null
          ],
          [
           null
          ],
          [
           1833091
          ],
          [
           null
          ],
          [
           null
          ],
          [
           null
          ],
          [
           null
          ],
          [
           null
          ],
          [
           null
          ],
          [
           null
          ],
          [
           null
          ],
          [
           null
          ],
          [
           null
          ],
          [
           null
          ],
          [
           null
          ],
          [
           null
          ],
          [
           null
          ],
          [
           null
          ],
          [
           null
          ],
          [
           null
          ],
          [
           null
          ],
          [
           null
          ],
          [
           null
          ],
          [
           null
          ],
          [
           null
          ],
          [
           null
          ],
          [
           null
          ],
          [
           null
          ],
          [
           null
          ],
          [
           1628451
          ],
          [
           null
          ],
          [
           null
          ],
          [
           null
          ],
          [
           null
          ],
          [
           null
          ],
          [
           null
          ],
          [
           null
          ],
          [
           null
          ],
          [
           null
          ],
          [
           null
          ],
          [
           null
          ],
          [
           null
          ],
          [
           null
          ],
          [
           null
          ],
          [
           null
          ],
          [
           null
          ],
          [
           null
          ],
          [
           null
          ],
          [
           null
          ],
          [
           null
          ],
          [
           null
          ],
          [
           null
          ],
          [
           null
          ],
          [
           null
          ],
          [
           null
          ],
          [
           null
          ],
          [
           null
          ],
          [
           null
          ],
          [
           null
          ],
          [
           null
          ],
          [
           null
          ],
          [
           null
          ],
          [
           null
          ],
          [
           null
          ],
          [
           null
          ],
          [
           null
          ],
          [
           null
          ],
          [
           null
          ],
          [
           null
          ],
          [
           null
          ],
          [
           null
          ],
          [
           null
          ],
          [
           null
          ],
          [
           null
          ],
          [
           null
          ],
          [
           null
          ],
          [
           null
          ],
          [
           null
          ],
          [
           null
          ],
          [
           null
          ],
          [
           null
          ],
          [
           null
          ],
          [
           1507875
          ],
          [
           null
          ],
          [
           null
          ],
          [
           null
          ],
          [
           null
          ],
          [
           null
          ],
          [
           null
          ],
          [
           null
          ],
          [
           null
          ],
          [
           null
          ],
          [
           null
          ],
          [
           null
          ],
          [
           null
          ],
          [
           null
          ],
          [
           null
          ],
          [
           null
          ],
          [
           null
          ],
          [
           null
          ],
          [
           null
          ],
          [
           null
          ],
          [
           null
          ],
          [
           null
          ],
          [
           null
          ],
          [
           null
          ],
          [
           null
          ],
          [
           null
          ],
          [
           null
          ],
          [
           null
          ],
          [
           null
          ],
          [
           null
          ],
          [
           null
          ],
          [
           null
          ],
          [
           null
          ],
          [
           null
          ],
          [
           null
          ],
          [
           null
          ],
          [
           null
          ],
          [
           null
          ],
          [
           null
          ],
          [
           null
          ],
          [
           null
          ],
          [
           null
          ],
          [
           1646435
          ],
          [
           null
          ],
          [
           null
          ],
          [
           null
          ],
          [
           1521363
          ],
          [
           null
          ],
          [
           null
          ],
          [
           null
          ],
          [
           null
          ],
          [
           null
          ],
          [
           null
          ],
          [
           null
          ],
          [
           null
          ],
          [
           null
          ],
          [
           null
          ],
          [
           null
          ],
          [
           null
          ],
          [
           null
          ],
          [
           null
          ],
          [
           null
          ],
          [
           null
          ],
          [
           null
          ],
          [
           null
          ],
          [
           null
          ],
          [
           null
          ],
          [
           null
          ],
          [
           null
          ],
          [
           null
          ],
          [
           null
          ],
          [
           null
          ],
          [
           null
          ],
          [
           null
          ],
          [
           null
          ],
          [
           null
          ],
          [
           null
          ],
          [
           null
          ],
          [
           null
          ],
          [
           null
          ],
          [
           null
          ],
          [
           null
          ],
          [
           null
          ],
          [
           null
          ],
          [
           null
          ],
          [
           null
          ],
          [
           null
          ],
          [
           null
          ],
          [
           null
          ],
          [
           null
          ],
          [
           null
          ],
          [
           1655870
          ],
          [
           null
          ],
          [
           null
          ],
          [
           null
          ],
          [
           null
          ],
          [
           null
          ],
          [
           null
          ],
          [
           null
          ],
          [
           null
          ],
          [
           null
          ],
          [
           null
          ],
          [
           null
          ],
          [
           null
          ],
          [
           null
          ],
          [
           null
          ],
          [
           null
          ],
          [
           null
          ],
          [
           null
          ],
          [
           null
          ],
          [
           null
          ],
          [
           null
          ],
          [
           null
          ],
          [
           null
          ],
          [
           null
          ],
          [
           null
          ],
          [
           null
          ],
          [
           null
          ],
          [
           null
          ],
          [
           null
          ],
          [
           null
          ],
          [
           null
          ],
          [
           null
          ],
          [
           null
          ],
          [
           null
          ],
          [
           null
          ],
          [
           null
          ],
          [
           null
          ],
          [
           null
          ],
          [
           null
          ],
          [
           null
          ],
          [
           null
          ],
          [
           null
          ],
          [
           null
          ],
          [
           null
          ],
          [
           null
          ],
          [
           null
          ],
          [
           null
          ],
          [
           null
          ],
          [
           null
          ],
          [
           null
          ],
          [
           null
          ],
          [
           null
          ],
          [
           null
          ],
          [
           1698876
          ],
          [
           null
          ],
          [
           null
          ],
          [
           null
          ],
          [
           null
          ],
          [
           null
          ],
          [
           null
          ],
          [
           null
          ],
          [
           null
          ],
          [
           null
          ],
          [
           1664160
          ],
          [
           null
          ],
          [
           null
          ],
          [
           null
          ],
          [
           null
          ],
          [
           null
          ],
          [
           null
          ],
          [
           null
          ],
          [
           null
          ],
          [
           null
          ],
          [
           null
          ],
          [
           null
          ],
          [
           null
          ],
          [
           null
          ],
          [
           null
          ],
          [
           null
          ],
          [
           null
          ],
          [
           null
          ],
          [
           null
          ],
          [
           null
          ],
          [
           null
          ],
          [
           null
          ],
          [
           null
          ],
          [
           null
          ],
          [
           null
          ],
          [
           null
          ],
          [
           null
          ],
          [
           null
          ],
          [
           null
          ],
          [
           null
          ],
          [
           null
          ],
          [
           null
          ],
          [
           null
          ],
          [
           null
          ],
          [
           null
          ],
          [
           null
          ],
          [
           null
          ],
          [
           null
          ],
          [
           null
          ],
          [
           null
          ],
          [
           null
          ],
          [
           null
          ],
          [
           null
          ],
          [
           null
          ],
          [
           null
          ],
          [
           null
          ],
          [
           null
          ],
          [
           null
          ],
          [
           1397779
          ],
          [
           null
          ],
          [
           null
          ],
          [
           null
          ],
          [
           null
          ],
          [
           null
          ],
          [
           null
          ],
          [
           null
          ],
          [
           null
          ],
          [
           null
          ],
          [
           null
          ],
          [
           null
          ],
          [
           null
          ],
          [
           null
          ],
          [
           null
          ],
          [
           null
          ],
          [
           null
          ],
          [
           null
          ],
          [
           null
          ],
          [
           null
          ],
          [
           null
          ],
          [
           null
          ],
          [
           null
          ],
          [
           318471
          ],
          [
           null
          ],
          [
           null
          ],
          [
           null
          ],
          [
           null
          ],
          [
           null
          ],
          [
           null
          ],
          [
           null
          ],
          [
           null
          ],
          [
           null
          ],
          [
           null
          ],
          [
           null
          ],
          [
           null
          ],
          [
           null
          ],
          [
           null
          ],
          [
           null
          ],
          [
           null
          ],
          [
           null
          ],
          [
           null
          ],
          [
           null
          ],
          [
           null
          ],
          [
           null
          ],
          [
           null
          ],
          [
           null
          ],
          [
           null
          ],
          [
           null
          ],
          [
           null
          ],
          [
           null
          ],
          [
           null
          ],
          [
           null
          ],
          [
           null
          ],
          [
           null
          ],
          [
           null
          ],
          [
           null
          ],
          [
           null
          ],
          [
           null
          ],
          [
           null
          ],
          [
           null
          ],
          [
           null
          ],
          [
           null
          ],
          [
           null
          ],
          [
           null
          ],
          [
           null
          ],
          [
           null
          ],
          [
           null
          ],
          [
           null
          ],
          [
           null
          ],
          [
           null
          ],
          [
           null
          ],
          [
           null
          ],
          [
           null
          ],
          [
           null
          ],
          [
           null
          ],
          [
           null
          ],
          [
           null
          ],
          [
           null
          ],
          [
           null
          ],
          [
           null
          ],
          [
           null
          ],
          [
           null
          ],
          [
           null
          ],
          [
           null
          ],
          [
           null
          ],
          [
           null
          ],
          [
           null
          ],
          [
           null
          ],
          [
           null
          ],
          [
           null
          ],
          [
           null
          ],
          [
           1785605
          ],
          [
           null
          ],
          [
           null
          ],
          [
           null
          ],
          [
           null
          ],
          [
           null
          ],
          [
           null
          ],
          [
           null
          ],
          [
           null
          ],
          [
           null
          ],
          [
           null
          ],
          [
           null
          ],
          [
           null
          ],
          [
           null
          ],
          [
           null
          ],
          [
           null
          ],
          [
           null
          ],
          [
           null
          ],
          [
           null
          ],
          [
           null
          ],
          [
           null
          ],
          [
           null
          ],
          [
           null
          ],
          [
           null
          ],
          [
           null
          ],
          [
           null
          ],
          [
           null
          ],
          [
           null
          ],
          [
           null
          ],
          [
           null
          ],
          [
           null
          ],
          [
           null
          ],
          [
           null
          ],
          [
           1500016
          ],
          [
           null
          ],
          [
           null
          ],
          [
           null
          ],
          [
           null
          ],
          [
           null
          ],
          [
           null
          ],
          [
           null
          ],
          [
           null
          ],
          [
           null
          ],
          [
           null
          ],
          [
           null
          ],
          [
           null
          ],
          [
           null
          ],
          [
           null
          ],
          [
           null
          ],
          [
           null
          ],
          [
           null
          ],
          [
           null
          ],
          [
           null
          ],
          [
           null
          ],
          [
           null
          ],
          [
           null
          ],
          [
           null
          ],
          [
           null
          ],
          [
           null
          ],
          [
           null
          ],
          [
           null
          ],
          [
           null
          ],
          [
           null
          ],
          [
           null
          ],
          [
           null
          ],
          [
           null
          ],
          [
           null
          ],
          [
           null
          ],
          [
           null
          ],
          [
           null
          ],
          [
           null
          ],
          [
           null
          ],
          [
           null
          ],
          [
           null
          ],
          [
           1764726
          ],
          [
           null
          ],
          [
           null
          ],
          [
           null
          ],
          [
           null
          ],
          [
           null
          ],
          [
           null
          ],
          [
           null
          ],
          [
           null
          ],
          [
           null
          ],
          [
           null
          ],
          [
           null
          ],
          [
           null
          ],
          [
           null
          ],
          [
           null
          ],
          [
           null
          ],
          [
           null
          ],
          [
           null
          ],
          [
           null
          ],
          [
           null
          ],
          [
           null
          ],
          [
           null
          ],
          [
           null
          ],
          [
           null
          ],
          [
           null
          ],
          [
           null
          ],
          [
           null
          ],
          [
           null
          ],
          [
           null
          ],
          [
           null
          ],
          [
           null
          ],
          [
           1449150
          ],
          [
           null
          ],
          [
           null
          ],
          [
           null
          ],
          [
           null
          ],
          [
           null
          ],
          [
           null
          ],
          [
           null
          ],
          [
           null
          ],
          [
           null
          ],
          [
           1805439
          ],
          [
           null
          ],
          [
           null
          ],
          [
           null
          ],
          [
           null
          ],
          [
           null
          ],
          [
           null
          ],
          [
           null
          ],
          [
           null
          ],
          [
           null
          ],
          [
           null
          ],
          [
           null
          ],
          [
           null
          ],
          [
           null
          ],
          [
           null
          ],
          [
           null
          ],
          [
           null
          ],
          [
           null
          ],
          [
           null
          ],
          [
           null
          ],
          [
           null
          ],
          [
           null
          ],
          [
           null
          ],
          [
           null
          ],
          [
           null
          ],
          [
           null
          ],
          [
           null
          ],
          [
           null
          ],
          [
           null
          ],
          [
           null
          ],
          [
           null
          ],
          [
           null
          ],
          [
           null
          ],
          [
           null
          ],
          [
           null
          ],
          [
           null
          ],
          [
           2089353
          ],
          [
           null
          ],
          [
           null
          ],
          [
           null
          ],
          [
           null
          ],
          [
           null
          ],
          [
           null
          ],
          [
           null
          ],
          [
           null
          ],
          [
           null
          ],
          [
           null
          ],
          [
           null
          ],
          [
           null
          ],
          [
           null
          ],
          [
           null
          ],
          [
           null
          ],
          [
           null
          ],
          [
           null
          ],
          [
           null
          ],
          [
           null
          ],
          [
           null
          ],
          [
           null
          ],
          [
           null
          ],
          [
           null
          ],
          [
           null
          ],
          [
           null
          ],
          [
           null
          ],
          [
           null
          ],
          [
           null
          ],
          [
           null
          ],
          [
           null
          ],
          [
           null
          ],
          [
           null
          ],
          [
           1451418
          ],
          [
           null
          ],
          [
           null
          ],
          [
           null
          ],
          [
           null
          ],
          [
           null
          ],
          [
           null
          ],
          [
           null
          ],
          [
           null
          ],
          [
           null
          ],
          [
           null
          ],
          [
           null
          ],
          [
           null
          ],
          [
           null
          ],
          [
           null
          ],
          [
           null
          ],
          [
           null
          ],
          [
           null
          ],
          [
           null
          ],
          [
           null
          ],
          [
           null
          ],
          [
           null
          ],
          [
           null
          ],
          [
           null
          ],
          [
           null
          ],
          [
           null
          ],
          [
           null
          ],
          [
           null
          ],
          [
           null
          ],
          [
           null
          ],
          [
           null
          ],
          [
           null
          ],
          [
           null
          ],
          [
           null
          ],
          [
           null
          ],
          [
           null
          ],
          [
           null
          ],
          [
           339788
          ],
          [
           null
          ],
          [
           null
          ],
          [
           null
          ],
          [
           null
          ],
          [
           null
          ],
          [
           null
          ],
          [
           null
          ],
          [
           null
          ],
          [
           null
          ],
          [
           null
          ],
          [
           null
          ],
          [
           null
          ],
          [
           null
          ],
          [
           null
          ],
          [
           null
          ],
          [
           null
          ],
          [
           null
          ],
          [
           null
          ],
          [
           null
          ],
          [
           null
          ],
          [
           null
          ],
          [
           null
          ],
          [
           null
          ],
          [
           null
          ],
          [
           null
          ],
          [
           null
          ],
          [
           null
          ],
          [
           null
          ],
          [
           null
          ],
          [
           null
          ],
          [
           null
          ],
          [
           null
          ],
          [
           null
          ],
          [
           null
          ],
          [
           null
          ],
          [
           463775
          ],
          [
           null
          ],
          [
           null
          ],
          [
           null
          ],
          [
           null
          ],
          [
           null
          ],
          [
           null
          ],
          [
           null
          ],
          [
           null
          ],
          [
           null
          ],
          [
           null
          ],
          [
           null
          ],
          [
           null
          ],
          [
           null
          ],
          [
           null
          ],
          [
           null
          ],
          [
           null
          ],
          [
           null
          ],
          [
           null
          ],
          [
           null
          ],
          [
           null
          ],
          [
           null
          ],
          [
           null
          ],
          [
           null
          ],
          [
           null
          ],
          [
           null
          ],
          [
           null
          ],
          [
           null
          ],
          [
           null
          ],
          [
           null
          ],
          [
           null
          ],
          [
           null
          ],
          [
           null
          ],
          [
           null
          ],
          [
           null
          ],
          [
           null
          ],
          [
           null
          ],
          [
           null
          ],
          [
           null
          ],
          [
           null
          ],
          [
           null
          ],
          [
           null
          ],
          [
           null
          ],
          [
           null
          ],
          [
           null
          ],
          [
           null
          ],
          [
           null
          ],
          [
           null
          ],
          [
           null
          ],
          [
           null
          ],
          [
           null
          ],
          [
           null
          ],
          [
           null
          ],
          [
           null
          ],
          [
           null
          ],
          [
           null
          ],
          [
           null
          ],
          [
           null
          ],
          [
           null
          ],
          [
           null
          ],
          [
           null
          ],
          [
           null
          ],
          [
           null
          ],
          [
           null
          ],
          [
           null
          ],
          [
           null
          ],
          [
           null
          ],
          [
           null
          ],
          [
           null
          ],
          [
           1615865
          ],
          [
           null
          ],
          [
           null
          ],
          [
           null
          ],
          [
           null
          ],
          [
           null
          ],
          [
           null
          ],
          [
           null
          ],
          [
           null
          ],
          [
           null
          ],
          [
           null
          ],
          [
           null
          ],
          [
           null
          ],
          [
           null
          ],
          [
           null
          ],
          [
           null
          ],
          [
           null
          ],
          [
           null
          ],
          [
           null
          ],
          [
           null
          ],
          [
           null
          ],
          [
           null
          ],
          [
           null
          ],
          [
           null
          ],
          [
           null
          ],
          [
           null
          ],
          [
           1541145
          ],
          [
           null
          ],
          [
           null
          ],
          [
           null
          ],
          [
           null
          ],
          [
           null
          ],
          [
           null
          ],
          [
           null
          ],
          [
           null
          ],
          [
           null
          ],
          [
           null
          ],
          [
           null
          ],
          [
           null
          ],
          [
           null
          ],
          [
           null
          ],
          [
           null
          ],
          [
           null
          ],
          [
           null
          ],
          [
           null
          ],
          [
           null
          ],
          [
           null
          ],
          [
           null
          ],
          [
           null
          ],
          [
           null
          ],
          [
           null
          ],
          [
           null
          ],
          [
           null
          ],
          [
           1350710
          ],
          [
           null
          ],
          [
           null
          ],
          [
           null
          ],
          [
           null
          ],
          [
           null
          ],
          [
           null
          ],
          [
           null
          ],
          [
           null
          ],
          [
           null
          ],
          [
           null
          ],
          [
           null
          ],
          [
           null
          ],
          [
           null
          ],
          [
           null
          ],
          [
           null
          ],
          [
           null
          ],
          [
           null
          ],
          [
           null
          ],
          [
           null
          ],
          [
           null
          ],
          [
           null
          ],
          [
           null
          ],
          [
           null
          ],
          [
           1742883
          ],
          [
           null
          ],
          [
           null
          ],
          [
           null
          ],
          [
           null
          ],
          [
           null
          ],
          [
           null
          ],
          [
           null
          ],
          [
           null
          ],
          [
           null
          ],
          [
           null
          ],
          [
           null
          ],
          [
           null
          ],
          [
           null
          ],
          [
           null
          ],
          [
           1886284
          ],
          [
           null
          ],
          [
           null
          ],
          [
           null
          ],
          [
           null
          ],
          [
           null
          ],
          [
           null
          ],
          [
           null
          ],
          [
           null
          ],
          [
           null
          ],
          [
           null
          ],
          [
           null
          ],
          [
           null
          ],
          [
           null
          ],
          [
           null
          ],
          [
           null
          ],
          [
           null
          ],
          [
           null
          ],
          [
           null
          ],
          [
           null
          ],
          [
           795945
          ],
          [
           null
          ],
          [
           null
          ],
          [
           null
          ],
          [
           null
          ],
          [
           null
          ],
          [
           null
          ],
          [
           null
          ],
          [
           null
          ],
          [
           null
          ],
          [
           null
          ],
          [
           null
          ],
          [
           null
          ],
          [
           null
          ],
          [
           null
          ],
          [
           null
          ],
          [
           null
          ],
          [
           null
          ],
          [
           null
          ],
          [
           null
          ],
          [
           null
          ],
          [
           null
          ],
          [
           null
          ],
          [
           null
          ],
          [
           null
          ],
          [
           null
          ],
          [
           null
          ],
          [
           null
          ],
          [
           null
          ],
          [
           null
          ],
          [
           null
          ],
          [
           null
          ],
          [
           null
          ],
          [
           null
          ],
          [
           null
          ],
          [
           null
          ],
          [
           null
          ],
          [
           null
          ],
          [
           null
          ],
          [
           null
          ],
          [
           null
          ],
          [
           null
          ],
          [
           null
          ],
          [
           null
          ],
          [
           null
          ],
          [
           null
          ],
          [
           null
          ],
          [
           null
          ],
          [
           null
          ],
          [
           null
          ],
          [
           null
          ],
          [
           null
          ],
          [
           null
          ],
          [
           null
          ],
          [
           null
          ],
          [
           null
          ],
          [
           null
          ],
          [
           null
          ],
          [
           null
          ],
          [
           null
          ],
          [
           null
          ],
          [
           null
          ],
          [
           null
          ],
          [
           null
          ],
          [
           null
          ],
          [
           null
          ],
          [
           1789168
          ],
          [
           null
          ],
          [
           null
          ],
          [
           null
          ],
          [
           null
          ],
          [
           null
          ],
          [
           null
          ],
          [
           null
          ],
          [
           null
          ],
          [
           null
          ],
          [
           null
          ],
          [
           null
          ],
          [
           null
          ],
          [
           null
          ],
          [
           null
          ],
          [
           null
          ],
          [
           null
          ],
          [
           null
          ],
          [
           null
          ],
          [
           null
          ],
          [
           null
          ],
          [
           null
          ],
          [
           null
          ],
          [
           null
          ],
          [
           null
          ],
          [
           null
          ],
          [
           null
          ],
          [
           null
          ],
          [
           null
          ],
          [
           null
          ],
          [
           null
          ],
          [
           null
          ],
          [
           null
          ],
          [
           null
          ],
          [
           null
          ],
          [
           null
          ],
          [
           1891576
          ],
          [
           null
          ],
          [
           null
          ],
          [
           null
          ],
          [
           null
          ],
          [
           null
          ],
          [
           null
          ],
          [
           null
          ],
          [
           null
          ],
          [
           null
          ],
          [
           null
          ],
          [
           null
          ],
          [
           null
          ],
          [
           null
          ],
          [
           null
          ],
          [
           null
          ],
          [
           null
          ],
          [
           null
          ],
          [
           1704010
          ],
          [
           null
          ],
          [
           null
          ],
          [
           null
          ],
          [
           null
          ],
          [
           null
          ],
          [
           null
          ],
          [
           null
          ],
          [
           null
          ],
          [
           null
          ],
          [
           null
          ],
          [
           null
          ],
          [
           null
          ],
          [
           null
          ],
          [
           null
          ],
          [
           null
          ],
          [
           null
          ],
          [
           null
          ],
          [
           null
          ],
          [
           null
          ],
          [
           null
          ],
          [
           null
          ],
          [
           null
          ],
          [
           null
          ],
          [
           null
          ],
          [
           null
          ],
          [
           null
          ],
          [
           null
          ],
          [
           null
          ],
          [
           null
          ],
          [
           null
          ],
          [
           null
          ],
          [
           null
          ],
          [
           null
          ],
          [
           null
          ],
          [
           null
          ],
          [
           null
          ],
          [
           null
          ],
          [
           null
          ],
          [
           null
          ],
          [
           null
          ],
          [
           null
          ],
          [
           null
          ],
          [
           null
          ],
          [
           null
          ],
          [
           null
          ],
          [
           null
          ],
          [
           null
          ],
          [
           null
          ],
          [
           null
          ],
          [
           null
          ],
          [
           null
          ],
          [
           null
          ],
          [
           null
          ],
          [
           1616476
          ],
          [
           null
          ],
          [
           null
          ],
          [
           null
          ],
          [
           null
          ],
          [
           null
          ],
          [
           null
          ],
          [
           null
          ],
          [
           null
          ],
          [
           null
          ],
          [
           null
          ],
          [
           null
          ],
          [
           null
          ],
          [
           null
          ],
          [
           null
          ],
          [
           null
          ],
          [
           null
          ],
          [
           null
          ],
          [
           null
          ],
          [
           null
          ],
          [
           null
          ],
          [
           null
          ],
          [
           null
          ],
          [
           null
          ],
          [
           null
          ],
          [
           null
          ],
          [
           null
          ],
          [
           null
          ],
          [
           null
          ],
          [
           null
          ],
          [
           null
          ],
          [
           null
          ],
          [
           null
          ],
          [
           null
          ],
          [
           null
          ],
          [
           null
          ],
          [
           null
          ],
          [
           null
          ],
          [
           1638378
          ],
          [
           null
          ],
          [
           null
          ],
          [
           null
          ],
          [
           null
          ],
          [
           null
          ],
          [
           null
          ],
          [
           null
          ],
          [
           null
          ],
          [
           null
          ],
          [
           null
          ],
          [
           null
          ],
          [
           null
          ],
          [
           null
          ],
          [
           null
          ],
          [
           null
          ],
          [
           null
          ],
          [
           null
          ],
          [
           null
          ],
          [
           null
          ],
          [
           null
          ],
          [
           null
          ],
          [
           null
          ],
          [
           null
          ],
          [
           null
          ],
          [
           null
          ],
          [
           null
          ],
          [
           null
          ],
          [
           null
          ],
          [
           null
          ],
          [
           null
          ],
          [
           null
          ],
          [
           null
          ],
          [
           null
          ],
          [
           1729908
          ],
          [
           null
          ],
          [
           null
          ],
          [
           null
          ],
          [
           null
          ],
          [
           null
          ],
          [
           null
          ],
          [
           null
          ],
          [
           null
          ],
          [
           null
          ],
          [
           null
          ],
          [
           null
          ],
          [
           null
          ],
          [
           null
          ],
          [
           null
          ],
          [
           null
          ],
          [
           null
          ],
          [
           null
          ],
          [
           null
          ],
          [
           null
          ],
          [
           null
          ],
          [
           1767725
          ],
          [
           null
          ],
          [
           null
          ],
          [
           null
          ],
          [
           null
          ],
          [
           null
          ],
          [
           null
          ],
          [
           null
          ],
          [
           null
          ],
          [
           null
          ],
          [
           null
          ],
          [
           null
          ],
          [
           null
          ],
          [
           null
          ],
          [
           null
          ],
          [
           null
          ],
          [
           null
          ],
          [
           null
          ],
          [
           null
          ],
          [
           null
          ],
          [
           null
          ],
          [
           null
          ],
          [
           null
          ],
          [
           null
          ],
          [
           null
          ],
          [
           null
          ],
          [
           null
          ],
          [
           null
          ],
          [
           null
          ],
          [
           null
          ],
          [
           null
          ],
          [
           null
          ],
          [
           null
          ],
          [
           null
          ],
          [
           null
          ],
          [
           null
          ],
          [
           null
          ],
          [
           null
          ],
          [
           null
          ],
          [
           null
          ],
          [
           null
          ],
          [
           null
          ],
          [
           null
          ],
          [
           1531781
          ],
          [
           null
          ],
          [
           null
          ],
          [
           null
          ],
          [
           null
          ],
          [
           null
          ],
          [
           null
          ],
          [
           null
          ],
          [
           null
          ],
          [
           null
          ],
          [
           null
          ],
          [
           null
          ],
          [
           null
          ],
          [
           null
          ],
          [
           null
          ],
          [
           null
          ],
          [
           null
          ],
          [
           null
          ],
          [
           null
          ],
          [
           null
          ],
          [
           null
          ],
          [
           null
          ],
          [
           null
          ],
          [
           null
          ],
          [
           null
          ],
          [
           null
          ],
          [
           null
          ],
          [
           null
          ],
          [
           null
          ],
          [
           null
          ],
          [
           null
          ],
          [
           null
          ],
          [
           null
          ],
          [
           null
          ],
          [
           null
          ],
          [
           null
          ],
          [
           null
          ],
          [
           null
          ],
          [
           null
          ],
          [
           null
          ],
          [
           null
          ],
          [
           null
          ],
          [
           null
          ],
          [
           null
          ],
          [
           1822625
          ],
          [
           null
          ],
          [
           null
          ],
          [
           null
          ],
          [
           null
          ],
          [
           null
          ],
          [
           null
          ],
          [
           null
          ],
          [
           null
          ],
          [
           null
          ],
          [
           null
          ],
          [
           null
          ],
          [
           null
          ],
          [
           null
          ],
          [
           null
          ],
          [
           null
          ],
          [
           null
          ],
          [
           null
          ],
          [
           null
          ],
          [
           null
          ],
          [
           null
          ],
          [
           null
          ],
          [
           null
          ],
          [
           null
          ],
          [
           null
          ],
          [
           null
          ],
          [
           null
          ],
          [
           null
          ],
          [
           null
          ],
          [
           null
          ],
          [
           null
          ],
          [
           null
          ],
          [
           null
          ],
          [
           null
          ],
          [
           null
          ],
          [
           null
          ],
          [
           null
          ],
          [
           null
          ],
          [
           1431704
          ],
          [
           null
          ],
          [
           null
          ],
          [
           null
          ],
          [
           null
          ],
          [
           null
          ],
          [
           null
          ],
          [
           null
          ],
          [
           null
          ],
          [
           null
          ],
          [
           null
          ],
          [
           1697384
          ],
          [
           null
          ],
          [
           null
          ],
          [
           null
          ],
          [
           null
          ],
          [
           null
          ],
          [
           null
          ],
          [
           null
          ],
          [
           null
          ],
          [
           null
          ],
          [
           null
          ],
          [
           null
          ],
          [
           null
          ],
          [
           null
          ],
          [
           null
          ],
          [
           null
          ],
          [
           null
          ],
          [
           null
          ],
          [
           null
          ],
          [
           null
          ],
          [
           null
          ],
          [
           null
          ],
          [
           null
          ],
          [
           null
          ],
          [
           null
          ],
          [
           null
          ],
          [
           null
          ],
          [
           null
          ],
          [
           null
          ],
          [
           null
          ],
          [
           null
          ],
          [
           null
          ],
          [
           null
          ],
          [
           null
          ],
          [
           null
          ],
          [
           null
          ],
          [
           null
          ],
          [
           null
          ],
          [
           null
          ],
          [
           null
          ],
          [
           null
          ],
          [
           null
          ],
          [
           null
          ],
          [
           null
          ],
          [
           null
          ],
          [
           null
          ],
          [
           null
          ],
          [
           null
          ],
          [
           null
          ],
          [
           null
          ],
          [
           null
          ],
          [
           null
          ],
          [
           null
          ],
          [
           null
          ],
          [
           null
          ],
          [
           null
          ],
          [
           null
          ],
          [
           null
          ],
          [
           null
          ],
          [
           1702024
          ],
          [
           null
          ],
          [
           null
          ],
          [
           null
          ],
          [
           null
          ],
          [
           null
          ],
          [
           null
          ],
          [
           null
          ],
          [
           null
          ],
          [
           null
          ],
          [
           null
          ],
          [
           null
          ],
          [
           null
          ],
          [
           null
          ],
          [
           null
          ],
          [
           null
          ],
          [
           null
          ],
          [
           null
          ],
          [
           2204817
          ],
          [
           null
          ],
          [
           null
          ],
          [
           null
          ],
          [
           null
          ],
          [
           null
          ],
          [
           null
          ],
          [
           null
          ],
          [
           null
          ],
          [
           null
          ],
          [
           null
          ],
          [
           null
          ],
          [
           null
          ],
          [
           null
          ],
          [
           null
          ],
          [
           null
          ],
          [
           null
          ],
          [
           null
          ],
          [
           null
          ],
          [
           null
          ],
          [
           null
          ],
          [
           null
          ],
          [
           null
          ],
          [
           null
          ],
          [
           null
          ],
          [
           null
          ],
          [
           null
          ],
          [
           null
          ],
          [
           null
          ],
          [
           null
          ],
          [
           null
          ],
          [
           null
          ],
          [
           null
          ],
          [
           null
          ],
          [
           null
          ],
          [
           null
          ],
          [
           2849250
          ],
          [
           null
          ],
          [
           null
          ],
          [
           null
          ],
          [
           null
          ],
          [
           null
          ],
          [
           null
          ],
          [
           null
          ],
          [
           null
          ],
          [
           null
          ],
          [
           null
          ],
          [
           null
          ],
          [
           null
          ],
          [
           null
          ],
          [
           null
          ],
          [
           null
          ],
          [
           null
          ],
          [
           null
          ],
          [
           null
          ],
          [
           null
          ],
          [
           null
          ],
          [
           null
          ],
          [
           null
          ],
          [
           null
          ],
          [
           null
          ],
          [
           null
          ],
          [
           null
          ],
          [
           null
          ],
          [
           null
          ],
          [
           null
          ],
          [
           null
          ],
          [
           null
          ],
          [
           null
          ],
          [
           null
          ],
          [
           null
          ],
          [
           null
          ],
          [
           2497458
          ],
          [
           null
          ],
          [
           null
          ],
          [
           null
          ],
          [
           null
          ],
          [
           null
          ],
          [
           null
          ],
          [
           null
          ],
          [
           null
          ],
          [
           null
          ],
          [
           null
          ],
          [
           null
          ],
          [
           null
          ],
          [
           null
          ],
          [
           null
          ],
          [
           null
          ],
          [
           null
          ],
          [
           null
          ],
          [
           null
          ],
          [
           null
          ],
          [
           null
          ],
          [
           null
          ],
          [
           null
          ],
          [
           null
          ],
          [
           null
          ],
          [
           null
          ],
          [
           null
          ],
          [
           null
          ],
          [
           null
          ],
          [
           null
          ],
          [
           null
          ],
          [
           null
          ],
          [
           null
          ],
          [
           null
          ],
          [
           null
          ],
          [
           null
          ],
          [
           2215489
          ],
          [
           null
          ],
          [
           null
          ],
          [
           null
          ],
          [
           null
          ],
          [
           null
          ],
          [
           null
          ],
          [
           null
          ],
          [
           null
          ],
          [
           null
          ],
          [
           null
          ],
          [
           null
          ],
          [
           null
          ],
          [
           null
          ],
          [
           null
          ],
          [
           null
          ],
          [
           null
          ],
          [
           null
          ],
          [
           null
          ],
          [
           null
          ],
          [
           null
          ],
          [
           null
          ],
          [
           null
          ],
          [
           null
          ],
          [
           null
          ],
          [
           null
          ],
          [
           null
          ],
          [
           null
          ],
          [
           null
          ],
          [
           null
          ],
          [
           null
          ],
          [
           null
          ],
          [
           null
          ],
          [
           null
          ],
          [
           null
          ],
          [
           null
          ],
          [
           null
          ],
          [
           null
          ],
          [
           null
          ],
          [
           null
          ],
          [
           null
          ],
          [
           null
          ],
          [
           null
          ],
          [
           null
          ],
          [
           null
          ],
          [
           null
          ],
          [
           null
          ],
          [
           null
          ],
          [
           null
          ],
          [
           null
          ],
          [
           null
          ],
          [
           null
          ],
          [
           null
          ],
          [
           null
          ],
          [
           null
          ],
          [
           null
          ],
          [
           1704632
          ],
          [
           null
          ],
          [
           null
          ],
          [
           null
          ],
          [
           null
          ],
          [
           1699394
          ],
          [
           null
          ],
          [
           null
          ],
          [
           null
          ],
          [
           null
          ],
          [
           null
          ],
          [
           null
          ],
          [
           null
          ],
          [
           null
          ],
          [
           null
          ],
          [
           null
          ],
          [
           null
          ],
          [
           null
          ],
          [
           null
          ],
          [
           null
          ],
          [
           null
          ],
          [
           null
          ],
          [
           null
          ],
          [
           null
          ],
          [
           null
          ],
          [
           null
          ],
          [
           null
          ],
          [
           null
          ],
          [
           null
          ],
          [
           null
          ],
          [
           null
          ],
          [
           null
          ],
          [
           null
          ],
          [
           null
          ],
          [
           null
          ],
          [
           null
          ],
          [
           null
          ],
          [
           null
          ],
          [
           null
          ],
          [
           null
          ],
          [
           null
          ],
          [
           null
          ],
          [
           null
          ],
          [
           null
          ],
          [
           null
          ],
          [
           null
          ],
          [
           null
          ],
          [
           null
          ],
          [
           null
          ],
          [
           null
          ],
          [
           null
          ],
          [
           null
          ],
          [
           null
          ],
          [
           null
          ],
          [
           null
          ],
          [
           null
          ],
          [
           null
          ],
          [
           null
          ],
          [
           null
          ],
          [
           null
          ],
          [
           null
          ],
          [
           null
          ],
          [
           null
          ],
          [
           null
          ],
          [
           null
          ],
          [
           null
          ],
          [
           null
          ],
          [
           null
          ],
          [
           null
          ],
          [
           null
          ],
          [
           null
          ],
          [
           null
          ],
          [
           1648906
          ],
          [
           null
          ],
          [
           null
          ],
          [
           null
          ],
          [
           null
          ],
          [
           null
          ],
          [
           null
          ],
          [
           null
          ],
          [
           null
          ],
          [
           null
          ],
          [
           null
          ],
          [
           null
          ],
          [
           null
          ],
          [
           null
          ],
          [
           null
          ],
          [
           null
          ],
          [
           null
          ],
          [
           null
          ],
          [
           null
          ],
          [
           null
          ],
          [
           null
          ],
          [
           null
          ],
          [
           null
          ],
          [
           null
          ],
          [
           null
          ],
          [
           null
          ],
          [
           null
          ],
          [
           null
          ],
          [
           null
          ],
          [
           null
          ],
          [
           null
          ],
          [
           null
          ],
          [
           null
          ],
          [
           null
          ],
          [
           1751258
          ],
          [
           null
          ],
          [
           null
          ],
          [
           null
          ],
          [
           null
          ],
          [
           null
          ],
          [
           null
          ],
          [
           null
          ],
          [
           null
          ],
          [
           null
          ],
          [
           null
          ],
          [
           null
          ],
          [
           null
          ],
          [
           null
          ],
          [
           null
          ],
          [
           null
          ],
          [
           null
          ],
          [
           null
          ],
          [
           null
          ],
          [
           null
          ],
          [
           null
          ],
          [
           null
          ],
          [
           null
          ],
          [
           null
          ],
          [
           null
          ],
          [
           null
          ],
          [
           null
          ],
          [
           null
          ],
          [
           null
          ],
          [
           null
          ],
          [
           null
          ],
          [
           1975368
          ],
          [
           null
          ],
          [
           null
          ],
          [
           null
          ],
          [
           null
          ],
          [
           null
          ],
          [
           null
          ],
          [
           null
          ],
          [
           null
          ],
          [
           1468671
          ],
          [
           null
          ],
          [
           null
          ],
          [
           null
          ],
          [
           null
          ],
          [
           null
          ],
          [
           null
          ],
          [
           null
          ],
          [
           null
          ],
          [
           null
          ],
          [
           null
          ],
          [
           null
          ],
          [
           null
          ],
          [
           null
          ],
          [
           null
          ],
          [
           null
          ],
          [
           null
          ],
          [
           null
          ],
          [
           null
          ],
          [
           null
          ],
          [
           null
          ],
          [
           null
          ],
          [
           null
          ],
          [
           null
          ],
          [
           null
          ],
          [
           null
          ],
          [
           null
          ],
          [
           null
          ],
          [
           null
          ],
          [
           null
          ],
          [
           null
          ],
          [
           null
          ],
          [
           null
          ],
          [
           null
          ],
          [
           null
          ],
          [
           null
          ],
          [
           null
          ],
          [
           null
          ],
          [
           null
          ],
          [
           null
          ],
          [
           null
          ],
          [
           null
          ],
          [
           null
          ],
          [
           null
          ],
          [
           null
          ],
          [
           null
          ],
          [
           null
          ],
          [
           null
          ],
          [
           null
          ],
          [
           null
          ],
          [
           null
          ],
          [
           null
          ],
          [
           null
          ],
          [
           null
          ],
          [
           null
          ],
          [
           null
          ],
          [
           null
          ],
          [
           null
          ],
          [
           null
          ],
          [
           null
          ],
          [
           null
          ],
          [
           null
          ],
          [
           null
          ],
          [
           null
          ],
          [
           null
          ],
          [
           null
          ],
          [
           null
          ],
          [
           null
          ],
          [
           1816830
          ],
          [
           null
          ],
          [
           null
          ],
          [
           null
          ],
          [
           null
          ],
          [
           null
          ],
          [
           null
          ],
          [
           null
          ],
          [
           null
          ],
          [
           null
          ],
          [
           null
          ],
          [
           null
          ],
          [
           null
          ],
          [
           null
          ],
          [
           null
          ],
          [
           null
          ],
          [
           null
          ],
          [
           null
          ],
          [
           null
          ],
          [
           null
          ],
          [
           null
          ],
          [
           null
          ],
          [
           2114663
          ],
          [
           null
          ],
          [
           null
          ],
          [
           null
          ],
          [
           null
          ],
          [
           null
          ],
          [
           null
          ],
          [
           null
          ],
          [
           null
          ],
          [
           null
          ],
          [
           null
          ],
          [
           null
          ],
          [
           null
          ],
          [
           null
          ],
          [
           null
          ],
          [
           null
          ],
          [
           null
          ],
          [
           null
          ],
          [
           null
          ],
          [
           null
          ],
          [
           null
          ],
          [
           null
          ],
          [
           null
          ],
          [
           null
          ],
          [
           null
          ],
          [
           null
          ],
          [
           null
          ],
          [
           null
          ],
          [
           null
          ],
          [
           null
          ],
          [
           1317738
          ],
          [
           null
          ],
          [
           null
          ],
          [
           null
          ],
          [
           null
          ],
          [
           null
          ],
          [
           null
          ],
          [
           null
          ],
          [
           null
          ],
          [
           null
          ],
          [
           null
          ],
          [
           null
          ],
          [
           null
          ],
          [
           null
          ],
          [
           null
          ],
          [
           null
          ],
          [
           null
          ],
          [
           null
          ],
          [
           null
          ],
          [
           null
          ],
          [
           null
          ],
          [
           null
          ],
          [
           null
          ],
          [
           null
          ],
          [
           null
          ],
          [
           null
          ],
          [
           null
          ],
          [
           null
          ],
          [
           null
          ],
          [
           null
          ],
          [
           null
          ],
          [
           null
          ],
          [
           null
          ],
          [
           null
          ],
          [
           null
          ],
          [
           null
          ],
          [
           null
          ],
          [
           null
          ],
          [
           null
          ],
          [
           null
          ],
          [
           null
          ],
          [
           null
          ],
          [
           null
          ],
          [
           null
          ],
          [
           null
          ],
          [
           null
          ],
          [
           null
          ],
          [
           null
          ],
          [
           null
          ],
          [
           null
          ],
          [
           null
          ],
          [
           null
          ],
          [
           null
          ],
          [
           null
          ],
          [
           null
          ],
          [
           null
          ],
          [
           null
          ],
          [
           null
          ],
          [
           1718252
          ],
          [
           null
          ],
          [
           null
          ],
          [
           null
          ],
          [
           null
          ],
          [
           null
          ],
          [
           null
          ],
          [
           null
          ],
          [
           null
          ],
          [
           null
          ],
          [
           null
          ],
          [
           null
          ],
          [
           null
          ],
          [
           null
          ],
          [
           null
          ],
          [
           null
          ],
          [
           null
          ],
          [
           null
          ],
          [
           null
          ],
          [
           null
          ],
          [
           null
          ],
          [
           null
          ],
          [
           null
          ],
          [
           null
          ],
          [
           null
          ],
          [
           null
          ],
          [
           null
          ],
          [
           null
          ],
          [
           null
          ],
          [
           null
          ],
          [
           null
          ],
          [
           null
          ],
          [
           null
          ],
          [
           null
          ],
          [
           null
          ],
          [
           null
          ],
          [
           1733578
          ],
          [
           null
          ],
          [
           null
          ],
          [
           null
          ],
          [
           null
          ],
          [
           null
          ],
          [
           null
          ],
          [
           null
          ],
          [
           null
          ],
          [
           null
          ],
          [
           null
          ],
          [
           null
          ],
          [
           null
          ],
          [
           null
          ],
          [
           null
          ],
          [
           null
          ],
          [
           null
          ],
          [
           null
          ],
          [
           null
          ],
          [
           null
          ],
          [
           null
          ],
          [
           null
          ],
          [
           null
          ],
          [
           null
          ],
          [
           null
          ],
          [
           null
          ],
          [
           null
          ],
          [
           null
          ],
          [
           null
          ],
          [
           null
          ],
          [
           null
          ],
          [
           null
          ],
          [
           null
          ],
          [
           null
          ],
          [
           null
          ],
          [
           null
          ],
          [
           1698089
          ],
          [
           null
          ],
          [
           null
          ],
          [
           null
          ],
          [
           null
          ],
          [
           null
          ],
          [
           null
          ],
          [
           null
          ],
          [
           null
          ],
          [
           null
          ],
          [
           null
          ],
          [
           1826526
          ],
          [
           null
          ],
          [
           null
          ],
          [
           null
          ],
          [
           null
          ],
          [
           null
          ],
          [
           null
          ],
          [
           null
          ],
          [
           null
          ],
          [
           null
          ],
          [
           null
          ],
          [
           null
          ],
          [
           null
          ],
          [
           null
          ],
          [
           null
          ],
          [
           null
          ],
          [
           null
          ],
          [
           null
          ],
          [
           null
          ],
          [
           null
          ],
          [
           null
          ],
          [
           null
          ],
          [
           null
          ],
          [
           null
          ],
          [
           null
          ],
          [
           null
          ],
          [
           null
          ],
          [
           null
          ],
          [
           null
          ],
          [
           null
          ],
          [
           null
          ],
          [
           null
          ],
          [
           null
          ],
          [
           null
          ],
          [
           null
          ],
          [
           null
          ],
          [
           null
          ],
          [
           null
          ],
          [
           null
          ],
          [
           null
          ],
          [
           null
          ],
          [
           null
          ],
          [
           null
          ],
          [
           null
          ],
          [
           null
          ],
          [
           null
          ],
          [
           null
          ],
          [
           null
          ],
          [
           null
          ],
          [
           null
          ],
          [
           null
          ],
          [
           null
          ],
          [
           null
          ],
          [
           null
          ],
          [
           null
          ],
          [
           null
          ],
          [
           null
          ],
          [
           null
          ],
          [
           null
          ],
          [
           1797655
          ],
          [
           null
          ],
          [
           null
          ],
          [
           null
          ],
          [
           null
          ],
          [
           null
          ],
          [
           null
          ],
          [
           null
          ],
          [
           null
          ],
          [
           null
          ],
          [
           null
          ],
          [
           null
          ],
          [
           null
          ],
          [
           null
          ],
          [
           null
          ],
          [
           null
          ],
          [
           null
          ],
          [
           null
          ],
          [
           null
          ],
          [
           null
          ],
          [
           null
          ],
          [
           null
          ],
          [
           null
          ],
          [
           null
          ],
          [
           null
          ],
          [
           null
          ],
          [
           null
          ],
          [
           null
          ],
          [
           1596290
          ],
          [
           null
          ],
          [
           null
          ],
          [
           null
          ],
          [
           null
          ],
          [
           null
          ],
          [
           null
          ],
          [
           null
          ],
          [
           null
          ],
          [
           null
          ],
          [
           null
          ],
          [
           null
          ],
          [
           null
          ],
          [
           null
          ],
          [
           null
          ],
          [
           null
          ],
          [
           null
          ],
          [
           null
          ],
          [
           null
          ],
          [
           null
          ],
          [
           null
          ],
          [
           null
          ],
          [
           null
          ],
          [
           null
          ],
          [
           null
          ],
          [
           null
          ],
          [
           null
          ],
          [
           null
          ],
          [
           null
          ],
          [
           null
          ],
          [
           null
          ],
          [
           null
          ],
          [
           null
          ],
          [
           null
          ],
          [
           null
          ],
          [
           null
          ],
          [
           null
          ],
          [
           null
          ],
          [
           null
          ],
          [
           1941231
          ],
          [
           null
          ],
          [
           null
          ],
          [
           null
          ],
          [
           null
          ],
          [
           null
          ],
          [
           null
          ],
          [
           null
          ],
          [
           null
          ],
          [
           null
          ],
          [
           null
          ],
          [
           1685149
          ],
          [
           null
          ],
          [
           null
          ],
          [
           null
          ],
          [
           null
          ],
          [
           null
          ],
          [
           null
          ],
          [
           null
          ],
          [
           null
          ],
          [
           null
          ],
          [
           null
          ],
          [
           null
          ],
          [
           null
          ],
          [
           null
          ],
          [
           null
          ],
          [
           null
          ],
          [
           null
          ],
          [
           null
          ],
          [
           null
          ],
          [
           null
          ],
          [
           null
          ],
          [
           null
          ],
          [
           null
          ],
          [
           null
          ],
          [
           null
          ],
          [
           null
          ],
          [
           null
          ],
          [
           null
          ],
          [
           null
          ],
          [
           null
          ],
          [
           null
          ],
          [
           null
          ],
          [
           null
          ],
          [
           null
          ],
          [
           null
          ],
          [
           null
          ],
          [
           null
          ],
          [
           null
          ],
          [
           null
          ],
          [
           null
          ],
          [
           null
          ],
          [
           null
          ],
          [
           null
          ],
          [
           null
          ],
          [
           null
          ],
          [
           null
          ],
          [
           null
          ],
          [
           null
          ],
          [
           null
          ],
          [
           null
          ],
          [
           null
          ],
          [
           null
          ],
          [
           null
          ],
          [
           null
          ],
          [
           null
          ],
          [
           null
          ],
          [
           null
          ],
          [
           null
          ],
          [
           null
          ],
          [
           null
          ],
          [
           null
          ],
          [
           null
          ],
          [
           null
          ],
          [
           null
          ],
          [
           null
          ],
          [
           null
          ],
          [
           null
          ],
          [
           null
          ],
          [
           1436431
          ],
          [
           null
          ],
          [
           null
          ],
          [
           null
          ],
          [
           null
          ],
          [
           null
          ],
          [
           null
          ],
          [
           null
          ],
          [
           null
          ],
          [
           null
          ],
          [
           null
          ],
          [
           null
          ],
          [
           null
          ],
          [
           null
          ],
          [
           null
          ],
          [
           null
          ],
          [
           null
          ],
          [
           null
          ],
          [
           null
          ],
          [
           null
          ],
          [
           null
          ],
          [
           null
          ],
          [
           null
          ],
          [
           null
          ],
          [
           null
          ],
          [
           null
          ],
          [
           null
          ],
          [
           null
          ],
          [
           null
          ],
          [
           null
          ],
          [
           null
          ],
          [
           null
          ],
          [
           null
          ],
          [
           null
          ],
          [
           null
          ],
          [
           null
          ],
          [
           1678357
          ],
          [
           null
          ],
          [
           null
          ],
          [
           null
          ],
          [
           null
          ],
          [
           null
          ],
          [
           null
          ],
          [
           1379122
          ],
          [
           null
          ],
          [
           null
          ],
          [
           null
          ],
          [
           null
          ],
          [
           null
          ],
          [
           null
          ],
          [
           null
          ],
          [
           null
          ],
          [
           null
          ],
          [
           null
          ],
          [
           null
          ],
          [
           null
          ],
          [
           null
          ],
          [
           null
          ],
          [
           null
          ],
          [
           null
          ],
          [
           null
          ],
          [
           null
          ],
          [
           null
          ],
          [
           null
          ],
          [
           null
          ],
          [
           null
          ],
          [
           null
          ],
          [
           null
          ],
          [
           null
          ],
          [
           null
          ],
          [
           null
          ],
          [
           null
          ],
          [
           null
          ],
          [
           null
          ],
          [
           null
          ],
          [
           null
          ],
          [
           null
          ],
          [
           null
          ],
          [
           null
          ],
          [
           null
          ],
          [
           null
          ],
          [
           null
          ],
          [
           null
          ],
          [
           null
          ],
          [
           null
          ],
          [
           null
          ],
          [
           null
          ],
          [
           null
          ],
          [
           null
          ],
          [
           null
          ],
          [
           null
          ],
          [
           null
          ],
          [
           null
          ],
          [
           null
          ],
          [
           null
          ],
          [
           null
          ],
          [
           null
          ],
          [
           null
          ],
          [
           null
          ],
          [
           null
          ],
          [
           null
          ],
          [
           null
          ],
          [
           null
          ],
          [
           null
          ],
          [
           null
          ],
          [
           null
          ],
          [
           1845223
          ],
          [
           null
          ],
          [
           null
          ],
          [
           null
          ],
          [
           null
          ],
          [
           null
          ],
          [
           null
          ],
          [
           null
          ],
          [
           null
          ],
          [
           null
          ],
          [
           null
          ],
          [
           null
          ],
          [
           null
          ],
          [
           null
          ],
          [
           null
          ],
          [
           null
          ],
          [
           null
          ],
          [
           null
          ],
          [
           null
          ],
          [
           null
          ],
          [
           null
          ],
          [
           null
          ],
          [
           null
          ],
          [
           null
          ],
          [
           null
          ],
          [
           null
          ],
          [
           null
          ],
          [
           null
          ],
          [
           null
          ],
          [
           null
          ],
          [
           1621671
          ],
          [
           null
          ],
          [
           null
          ],
          [
           null
          ],
          [
           null
          ],
          [
           null
          ],
          [
           null
          ],
          [
           null
          ],
          [
           null
          ],
          [
           null
          ],
          [
           null
          ],
          [
           null
          ],
          [
           null
          ],
          [
           null
          ],
          [
           null
          ],
          [
           null
          ],
          [
           null
          ],
          [
           null
          ],
          [
           null
          ],
          [
           null
          ],
          [
           null
          ],
          [
           null
          ],
          [
           null
          ],
          [
           null
          ],
          [
           null
          ],
          [
           null
          ],
          [
           null
          ],
          [
           null
          ],
          [
           2045405
          ],
          [
           null
          ],
          [
           null
          ],
          [
           null
          ],
          [
           null
          ],
          [
           null
          ],
          [
           null
          ],
          [
           null
          ],
          [
           null
          ],
          [
           null
          ],
          [
           null
          ],
          [
           null
          ],
          [
           null
          ],
          [
           null
          ],
          [
           null
          ],
          [
           null
          ],
          [
           null
          ],
          [
           null
          ],
          [
           null
          ],
          [
           null
          ],
          [
           null
          ],
          [
           1958382
          ],
          [
           null
          ],
          [
           null
          ],
          [
           null
          ],
          [
           null
          ],
          [
           null
          ],
          [
           null
          ],
          [
           null
          ],
          [
           null
          ],
          [
           null
          ],
          [
           null
          ],
          [
           null
          ],
          [
           null
          ],
          [
           null
          ],
          [
           null
          ],
          [
           null
          ],
          [
           null
          ],
          [
           null
          ],
          [
           null
          ],
          [
           null
          ],
          [
           null
          ],
          [
           null
          ],
          [
           null
          ],
          [
           null
          ],
          [
           null
          ],
          [