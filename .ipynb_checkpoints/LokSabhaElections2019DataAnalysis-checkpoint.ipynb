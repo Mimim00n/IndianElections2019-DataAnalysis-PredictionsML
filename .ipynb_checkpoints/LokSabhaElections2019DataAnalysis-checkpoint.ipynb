{
 "cells": [
  {
   "cell_type": "markdown",
   "metadata": {},
   "source": [
    "# Lok Sabha Election 2019: Data Analysis and Visualization using Python\n",
    "<hr>\n",
    "<img src=\"https://www.ft.com/__origami/service/image/v2/images/raw/http%3A%2F%2Fcom.ft.imagepublish.upp-prod-us.s3.amazonaws.com%2F5c2322c8-7deb-11e9-81d2-f785092ab560?fit=scale-down&source=next&width=700\" width=\"1000\">\n",
    "\n",
    "## 1. Table of contents\n",
    "\n",
    "1. Introduction\n",
    "2. Environment setup\n",
    "3. Gathering the data\n",
    "4. Exploring and visualizing the data\n",
    "    - Exit poll predictions and results\n",
    "    - Analysing the candidates\n",
    "    - Comparisons between states\n",
    "    - Analysing key constituencies and states\n",
    "    - Journey of two biggest parties from 1980 to 2019\n",
    "5. Conclusion\n",
    "<hr>"
   ]
  },
  {
   "cell_type": "markdown",
   "metadata": {},
   "source": [
    "## 1. Introduction\n",
    "<hr>"
   ]
  },
  {
   "cell_type": "markdown",
   "metadata": {},
   "source": [
    "<p> <img src=\"https://upload.wikimedia.org/wikipedia/commons/thumb/3/33/March_2020_Parliament_Lok_sabha.svg/1200px-March_2020_Parliament_Lok_sabha.svg.png\", style=\"float:left\", width=\"300\", height=\"180\"> The Lok Sabha is composed of representatives of the people chosen by direct election on the basis of the adult suffrage. The maximum strength of the House envisaged by the Constitution is 552, which is made up by election of upto 530 members to represent the States, upto 20 members to represent the Union Territories and not more than two members of the Anglo-Indian Community to be nominated by the Hon'ble President, if,  in his/her opinion, that community is not adequately represented in the House. The total elective membership is distributed among the States in such a way that the ratio between the number of seats allotted to each State and the population of the State is, so far as practicable, the same for all States.</p>\n",
    "<p> "
   ]
  },
  {
   "cell_type": "markdown",
   "metadata": {},
   "source": [
    "## 2. Environment setup\n",
    "<hr>"
   ]
  },
  {
   "cell_type": "code",
   "execution_count": 1,
   "metadata": {},
   "outputs": [
    {
     "data": {
      "text/html": [
       "        <script type=\"text/javascript\">\n",
       "        window.PlotlyConfig = {MathJaxConfig: 'local'};\n",
       "        if (window.MathJax) {MathJax.Hub.Config({SVG: {font: \"STIX-Web\"}});}\n",
       "        if (typeof require !== 'undefined') {\n",
       "        require.undef(\"plotly\");\n",
       "        requirejs.config({\n",
       "            paths: {\n",
       "                'plotly': ['https://cdn.plot.ly/plotly-latest.min']\n",
       "            }\n",
       "        });\n",
       "        require(['plotly'], function(Plotly) {\n",
       "            window._Plotly = Plotly;\n",
       "        });\n",
       "        }\n",
       "        </script>\n",
       "        "
      ]
     },
     "metadata": {},
     "output_type": "display_data"
    }
   ],
   "source": [
    "#Import all the packages necessary for the visualization of data\n",
    "import numpy as np\n",
    "import pandas as pd\n",
    "import matplotlib.pyplot as plt\n",
    "from plotly import tools\n",
    "import chart_studio.plotly as py\n",
    "import plotly.graph_objs as go\n",
    "import plotly.figure_factory as ff\n",
    "import plotly.express as px\n",
    "from plotly.subplots import make_subplots\n",
    "from plotly.offline import download_plotlyjs, init_notebook_mode\n",
    "%matplotlib inline\n",
    "init_notebook_mode(connected=True)"
   ]
  },
  {
   "cell_type": "markdown",
   "metadata": {},
   "source": [
    "## 3. Gathering the data\n",
    "<hr>"
   ]
  },
  {
   "cell_type": "code",
   "execution_count": 2,
   "metadata": {},
   "outputs": [],
   "source": [
    "#Exit poll data\n",
    "exitPoll2019df = pd.read_csv(\"data/2019ExitPolls.csv\")\n",
    "#Candidate data\n",
    "candidatedf = pd.read_csv(\"data/CANDIDATE_ANALYSED_LIST.csv\")\n",
    "#Criminal data\n",
    "criminaldf = pd.read_csv(\"data/PENDING_CRIMINAL_CASES_BY_STATE.csv\")\n",
    "#State data\n",
    "statedf = pd.read_csv(\"data/STATES_INDEX.csv\")\n",
    "#Seat data 1980 to 2019\n",
    "seats1980to2019 = pd.read_csv(\"data/1980to2019.csv\")\n",
    "#Amethi data 1980 to 2019\n",
    "amethi1980to2019 = pd.read_csv(\"data/amethi1980to2019.csv\")"
   ]
  },
  {
   "cell_type": "markdown",
   "metadata": {},
   "source": [
    "## 4. Exploring and visualizing the data\n",
    "<hr>"
   ]
  },
  {
   "cell_type": "markdown",
   "metadata": {},
   "source": [
    "### 4.1 Lok sabha election 2019: Exit poll predictions and results"
   ]
  },
  {
   "cell_type": "markdown",
   "metadata": {},
   "source": [
    "#### 4.1.1 Exit poll predictions\n",
    "\n",
    "> <p>From the exit polls itself, we can make an idea about who is going to win the Lok Sabha elections of 2019. The only question is by how many seats and whether NDA will be able to increase their seat share compared to the 2014 Lok Sabha elections. Let us look at what each agency and news channel has predicted in tabular form and bar graph. These were some of the headlines of leading news agencies after the exit poll results were published - <br>\n",
    "    <i>\"Modi Likely To Return To Power, With Polls Predicting NDA Majority\" - Bloomberg</i> <br>\n",
    "    <i>\"Exit polls predict another huge Modi win, forecast 277-352 for NDA\" - Times of India</i> \n",
    "  </p>"
   ]
  },
  {
   "cell_type": "code",
   "execution_count": 3,
   "metadata": {},
   "outputs": [
    {
     "data": {
      "application/vnd.plotly.v1+json": {
       "config": {
        "plotlyServerURL": "https://plot.ly"
       },
       "data": [
        {
         "cells": {
          "align": "left",
          "fill": {
           "color": "lavender"
          },
          "font": {
           "size": 14
          },
          "values": [
           [
            "NEWS18",
            "NEWS NATION",
            "REPUBLIC",
            "NEWSX-NETA",
            "INDIA TODAY",
            "REPUBLIC-JAN KI BAAT",
            "TIMES NOW"
           ],
           [
            336,
            286,
            287,
            242,
            352,
            305,
            306
           ],
           [
            82,
            122,
            128,
            164,
            92,
            124,
            132
           ],
           [
            124,
            134,
            127,
            136,
            82,
            113,
            104
           ]
          ]
         },
         "header": {
          "align": "left",
          "fill": {
           "color": "paleturquoise"
          },
          "font": {
           "size": 14
          },
          "values": [
           "Exit Poll Name",
           "NDA",
           "UPA",
           "Others"
          ]
         },
         "type": "table"
        }
       ],
       "layout": {
        "template": {
         "data": {
          "bar": [
           {
            "error_x": {
             "color": "#2a3f5f"
            },
            "error_y": {
             "color": "#2a3f5f"
            },
            "marker": {
             "line": {
              "color": "#E5ECF6",
              "width": 0.5
             }
            },
            "type": "bar"
           }
          ],
          "barpolar": [
           {
            "marker": {
             "line": {
              "color": "#E5ECF6",
              "width": 0.5
             }
            },
            "type": "barpolar"
           }
          ],
          "carpet": [
           {
            "aaxis": {
             "endlinecolor": "#2a3f5f",
             "gridcolor": "white",
             "linecolor": "white",
             "minorgridcolor": "white",
             "startlinecolor": "#2a3f5f"
            },
            "baxis": {
             "endlinecolor": "#2a3f5f",
             "gridcolor": "white",
             "linecolor": "white",
             "minorgridcolor": "white",
             "startlinecolor": "#2a3f5f"
            },
            "type": "carpet"
           }
          ],
          "choropleth": [
           {
            "colorbar": {
             "outlinewidth": 0,
             "ticks": ""
            },
            "type": "choropleth"
           }
          ],
          "contour": [
           {
            "colorbar": {
             "outlinewidth": 0,
             "ticks": ""
            },
            "colorscale": [
             [
              0,
              "#0d0887"
             ],
             [
              0.1111111111111111,
              "#46039f"
             ],
             [
              0.2222222222222222,
              "#7201a8"
             ],
             [
              0.3333333333333333,
              "#9c179e"
             ],
             [
              0.4444444444444444,
              "#bd3786"
             ],
             [
              0.5555555555555556,
              "#d8576b"
             ],
             [
              0.6666666666666666,
              "#ed7953"
             ],
             [
              0.7777777777777778,
              "#fb9f3a"
             ],
             [
              0.8888888888888888,
              "#fdca26"
             ],
             [
              1,
              "#f0f921"
             ]
            ],
            "type": "contour"
           }
          ],
          "contourcarpet": [
           {
            "colorbar": {
             "outlinewidth": 0,
             "ticks": ""
            },
            "type": "contourcarpet"
           }
          ],
          "heatmap": [
           {
            "colorbar": {
             "outlinewidth": 0,
             "ticks": ""
            },
            "colorscale": [
             [
              0,
              "#0d0887"
             ],
             [
              0.1111111111111111,
              "#46039f"
             ],
             [
              0.2222222222222222,
              "#7201a8"
             ],
             [
              0.3333333333333333,
              "#9c179e"
             ],
             [
              0.4444444444444444,
              "#bd3786"
             ],
             [
              0.5555555555555556,
              "#d8576b"
             ],
             [
              0.6666666666666666,
              "#ed7953"
             ],
             [
              0.7777777777777778,
              "#fb9f3a"
             ],
             [
              0.8888888888888888,
              "#fdca26"
             ],
             [
              1,
              "#f0f921"
             ]
            ],
            "type": "heatmap"
           }
          ],
          "heatmapgl": [
           {
            "colorbar": {
             "outlinewidth": 0,
             "ticks": ""
            },
            "colorscale": [
             [
              0,
              "#0d0887"
             ],
             [
              0.1111111111111111,
              "#46039f"
             ],
             [
              0.2222222222222222,
              "#7201a8"
             ],
             [
              0.3333333333333333,
              "#9c179e"
             ],
             [
              0.4444444444444444,
              "#bd3786"
             ],
             [
              0.5555555555555556,
              "#d8576b"
             ],
             [
              0.6666666666666666,
              "#ed7953"
             ],
             [
              0.7777777777777778,
              "#fb9f3a"
             ],
             [
              0.8888888888888888,
              "#fdca26"
             ],
             [
              1,
              "#f0f921"
             ]
            ],
            "type": "heatmapgl"
           }
          ],
          "histogram": [
           {
            "marker": {
             "colorbar": {
              "outlinewidth": 0,
              "ticks": ""
             }
            },
            "type": "histogram"
           }
          ],
          "histogram2d": [
           {
            "colorbar": {
             "outlinewidth": 0,
             "ticks": ""
            },
            "colorscale": [
             [
              0,
              "#0d0887"
             ],
             [
              0.1111111111111111,
              "#46039f"
             ],
             [
              0.2222222222222222,
              "#7201a8"
             ],
             [
              0.3333333333333333,
              "#9c179e"
             ],
             [
              0.4444444444444444,
              "#bd3786"
             ],
             [
              0.5555555555555556,
              "#d8576b"
             ],
             [
              0.6666666666666666,
              "#ed7953"
             ],
             [
              0.7777777777777778,
              "#fb9f3a"
             ],
             [
              0.8888888888888888,
              "#fdca26"
             ],
             [
              1,
              "#f0f921"
             ]
            ],
            "type": "histogram2d"
           }
          ],
          "histogram2dcontour": [
           {
            "colorbar": {
             "outlinewidth": 0,
             "ticks": ""
            },
            "colorscale": [
             [
              0,
              "#0d0887"
             ],
             [
              0.1111111111111111,
              "#46039f"
             ],
             [
              0.2222222222222222,
              "#7201a8"
             ],
             [
              0.3333333333333333,
              "#9c179e"
             ],
             [
              0.4444444444444444,
              "#bd3786"
             ],
             [
              0.5555555555555556,
              "#d8576b"
             ],
             [
              0.6666666666666666,
              "#ed7953"
             ],
             [
              0.7777777777777778,
              "#fb9f3a"
             ],
             [
              0.8888888888888888,
              "#fdca26"
             ],
             [
              1,
              "#f0f921"
             ]
            ],
            "type": "histogram2dcontour"
           }
          ],
          "mesh3d": [
           {
            "colorbar": {
             "outlinewidth": 0,
             "ticks": ""
            },
            "type": "mesh3d"
           }
          ],
          "parcoords": [
           {
            "line": {
             "colorbar": {
              "outlinewidth": 0,
              "ticks": ""
             }
            },
            "type": "parcoords"
           }
          ],
          "pie": [
           {
            "automargin": true,
            "type": "pie"
           }
          ],
          "scatter": [
           {
            "marker": {
             "colorbar": {
              "outlinewidth": 0,
              "ticks": ""
             }
            },
            "type": "scatter"
           }
          ],
          "scatter3d": [
           {
            "line": {
             "colorbar": {
              "outlinewidth": 0,
              "ticks": ""
             }
            },
            "marker": {
             "colorbar": {
              "outlinewidth": 0,
              "ticks": ""
             }
            },
            "type": "scatter3d"
           }
          ],
          "scattercarpet": [
           {
            "marker": {
             "colorbar": {
              "outlinewidth": 0,
              "ticks": ""
             }
            },
            "type": "scattercarpet"
           }
          ],
          "scattergeo": [
           {
            "marker": {
             "colorbar": {
              "outlinewidth": 0,
              "ticks": ""
             }
            },
            "type": "scattergeo"
           }
          ],
          "scattergl": [
           {
            "marker": {
             "colorbar": {
              "outlinewidth": 0,
              "ticks": ""
             }
            },
            "type": "scattergl"
           }
          ],
          "scattermapbox": [
           {
            "marker": {
             "colorbar": {
              "outlinewidth": 0,
              "ticks": ""
             }
            },
            "type": "scattermapbox"
           }
          ],
          "scatterpolar": [
           {
            "marker": {
             "colorbar": {
              "outlinewidth": 0,
              "ticks": ""
             }
            },
            "type": "scatterpolar"
           }
          ],
          "scatterpolargl": [
           {
            "marker": {
             "colorbar": {
              "outlinewidth": 0,
              "ticks": ""
             }
            },
            "type": "scatterpolargl"
           }
          ],
          "scatterternary": [
           {
            "marker": {
             "colorbar": {
              "outlinewidth": 0,
              "ticks": ""
             }
            },
            "type": "scatterternary"
           }
          ],
          "surface": [
           {
            "colorbar": {
             "outlinewidth": 0,
             "ticks": ""
            },
            "colorscale": [
             [
              0,
              "#0d0887"
             ],
             [
              0.1111111111111111,
              "#46039f"
             ],
             [
              0.2222222222222222,
              "#7201a8"
             ],
             [
              0.3333333333333333,
              "#9c179e"
             ],
             [
              0.4444444444444444,
              "#bd3786"
             ],
             [
              0.5555555555555556,
              "#d8576b"
             ],
             [
              0.6666666666666666,
              "#ed7953"
             ],
             [
              0.7777777777777778,
              "#fb9f3a"
             ],
             [
              0.8888888888888888,
              "#fdca26"
             ],
             [
              1,
              "#f0f921"
             ]
            ],
            "type": "surface"
           }
          ],
          "table": [
           {
            "cells": {
             "fill": {
              "color": "#EBF0F8"
             },
             "line": {
              "color": "white"
             }
            },
            "header": {
             "fill": {
              "color": "#C8D4E3"
             },
             "line": {
              "color": "white"
             }
            },
            "type": "table"
           }
          ]
         },
         "layout": {
          "annotationdefaults": {
           "arrowcolor": "#2a3f5f",
           "arrowhead": 0,
           "arrowwidth": 1
          },
          "coloraxis": {
           "colorbar": {
            "outlinewidth": 0,
            "ticks": ""
           }
          },
          "colorscale": {
           "diverging": [
            [
             0,
             "#8e0152"
            ],
            [
             0.1,
             "#c51b7d"
            ],
            [
             0.2,
             "#de77ae"
            ],
            [
             0.3,
             "#f1b6da"
            ],
            [
             0.4,
             "#fde0ef"
            ],
            [
             0.5,
             "#f7f7f7"
            ],
            [
             0.6,
             "#e6f5d0"
            ],
            [
             0.7,
             "#b8e186"
            ],
            [
             0.8,
             "#7fbc41"
            ],
            [
             0.9,
             "#4d9221"
            ],
            [
             1,
             "#276419"
            ]
           ],
           "sequential": [
            [
             0,
             "#0d0887"
            ],
            [
             0.1111111111111111,
             "#46039f"
            ],
            [
             0.2222222222222222,
             "#7201a8"
            ],
            [
             0.3333333333333333,
             "#9c179e"
            ],
            [
             0.4444444444444444,
             "#bd3786"
            ],
            [
             0.5555555555555556,
             "#d8576b"
            ],
            [
             0.6666666666666666,
             "#ed7953"
            ],
            [
             0.7777777777777778,
             "#fb9f3a"
            ],
            [
             0.8888888888888888,
             "#fdca26"
            ],
            [
             1,
             "#f0f921"
            ]
           ],
           "sequentialminus": [
            [
             0,
             "#0d0887"
            ],
            [
             0.1111111111111111,
             "#46039f"
            ],
            [
             0.2222222222222222,
             "#7201a8"
            ],
            [
             0.3333333333333333,
             "#9c179e"
            ],
            [
             0.4444444444444444,
             "#bd3786"
            ],
            [
             0.5555555555555556,
             "#d8576b"
            ],
            [
             0.6666666666666666,
             "#ed7953"
            ],
            [
             0.7777777777777778,
             "#fb9f3a"
            ],
            [
             0.8888888888888888,
             "#fdca26"
            ],
            [
             1,
             "#f0f921"
            ]
           ]
          },
          "colorway": [
           "#636efa",
           "#EF553B",
           "#00cc96",
           "#ab63fa",
           "#FFA15A",
           "#19d3f3",
           "#FF6692",
           "#B6E880",
           "#FF97FF",
           "#FECB52"
          ],
          "font": {
           "color": "#2a3f5f"
          },
          "geo": {
           "bgcolor": "white",
           "lakecolor": "white",
           "landcolor": "#E5ECF6",
           "showlakes": true,
           "showland": true,
           "subunitcolor": "white"
          },
          "hoverlabel": {
           "align": "left"
          },
          "hovermode": "closest",
          "mapbox": {
           "style": "light"
          },
          "paper_bgcolor": "white",
          "plot_bgcolor": "#E5ECF6",
          "polar": {
           "angularaxis": {
            "gridcolor": "white",
            "linecolor": "white",
            "ticks": ""
           },
           "bgcolor": "#E5ECF6",
           "radialaxis": {
            "gridcolor": "white",
            "linecolor": "white",
            "ticks": ""
           }
          },
          "scene": {
           "xaxis": {
            "backgroundcolor": "#E5ECF6",
            "gridcolor": "white",
            "gridwidth": 2,
            "linecolor": "white",
            "showbackground": true,
            "ticks": "",
            "zerolinecolor": "white"
           },
           "yaxis": {
            "backgroundcolor": "#E5ECF6",
            "gridcolor": "white",
            "gridwidth": 2,
            "linecolor": "white",
            "showbackground": true,
            "ticks": "",
            "zerolinecolor": "white"
           },
           "zaxis": {
            "backgroundcolor": "#E5ECF6",
            "gridcolor": "white",
            "gridwidth": 2,
            "linecolor": "white",
            "showbackground": true,
            "ticks": "",
            "zerolinecolor": "white"
           }
          },
          "shapedefaults": {
           "line": {
            "color": "#2a3f5f"
           }
          },
          "ternary": {
           "aaxis": {
            "gridcolor": "white",
            "linecolor": "white",
            "ticks": ""
           },
           "baxis": {
            "gridcolor": "white",
            "linecolor": "white",
            "ticks": ""
           },
           "bgcolor": "#E5ECF6",
           "caxis": {
            "gridcolor": "white",
            "linecolor": "white",
            "ticks": ""
           }
          },
          "title": {
           "x": 0.05
          },
          "xaxis": {
           "automargin": true,
           "gridcolor": "white",
           "linecolor": "white",
           "ticks": "",
           "title": {
            "standoff": 15
           },
           "zerolinecolor": "white",
           "zerolinewidth": 2
          },
          "yaxis": {
           "automargin": true,
           "gridcolor": "white",
           "linecolor": "white",
           "ticks": "",
           "title": {
            "standoff": 15
           },
           "zerolinecolor": "white",
           "zerolinewidth": 2
          }
         }
        }
       }
      },
      "text/html": [
       "<div>\n",
       "        \n",
       "        \n",
       "            <div id=\"913350d5-c8fd-48b3-828e-7d3f1ca9299e\" class=\"plotly-graph-div\" style=\"height:525px; width:100%;\"></div>\n",
       "            <script type=\"text/javascript\">\n",
       "                require([\"plotly\"], function(Plotly) {\n",
       "                    window.PLOTLYENV=window.PLOTLYENV || {};\n",
       "                    \n",
       "                if (document.getElementById(\"913350d5-c8fd-48b3-828e-7d3f1ca9299e\")) {\n",
       "                    Plotly.newPlot(\n",
       "                        '913350d5-c8fd-48b3-828e-7d3f1ca9299e',\n",
       "                        [{\"cells\": {\"align\": \"left\", \"fill\": {\"color\": \"lavender\"}, \"font\": {\"size\": 14}, \"values\": [[\"NEWS18\", \"NEWS NATION\", \"REPUBLIC\", \"NEWSX-NETA\", \"INDIA TODAY\", \"REPUBLIC-JAN KI BAAT\", \"TIMES NOW\"], [336, 286, 287, 242, 352, 305, 306], [82, 122, 128, 164, 92, 124, 132], [124, 134, 127, 136, 82, 113, 104]]}, \"header\": {\"align\": \"left\", \"fill\": {\"color\": \"paleturquoise\"}, \"font\": {\"size\": 14}, \"values\": [\"Exit Poll Name\", \"NDA\", \"UPA\", \"Others\"]}, \"type\": \"table\"}],\n",
       "                        {\"template\": {\"data\": {\"bar\": [{\"error_x\": {\"color\": \"#2a3f5f\"}, \"error_y\": {\"color\": \"#2a3f5f\"}, \"marker\": {\"line\": {\"color\": \"#E5ECF6\", \"width\": 0.5}}, \"type\": \"bar\"}], \"barpolar\": [{\"marker\": {\"line\": {\"color\": \"#E5ECF6\", \"width\": 0.5}}, \"type\": \"barpolar\"}], \"carpet\": [{\"aaxis\": {\"endlinecolor\": \"#2a3f5f\", \"gridcolor\": \"white\", \"linecolor\": \"white\", \"minorgridcolor\": \"white\", \"startlinecolor\": \"#2a3f5f\"}, \"baxis\": {\"endlinecolor\": \"#2a3f5f\", \"gridcolor\": \"white\", \"linecolor\": \"white\", \"minorgridcolor\": \"white\", \"startlinecolor\": \"#2a3f5f\"}, \"type\": \"carpet\"}], \"choropleth\": [{\"colorbar\": {\"outlinewidth\": 0, \"ticks\": \"\"}, \"type\": \"choropleth\"}], \"contour\": [{\"colorbar\": {\"outlinewidth\": 0, \"ticks\": \"\"}, \"colorscale\": [[0.0, \"#0d0887\"], [0.1111111111111111, \"#46039f\"], [0.2222222222222222, \"#7201a8\"], [0.3333333333333333, \"#9c179e\"], [0.4444444444444444, \"#bd3786\"], [0.5555555555555556, \"#d8576b\"], [0.6666666666666666, \"#ed7953\"], [0.7777777777777778, \"#fb9f3a\"], [0.8888888888888888, \"#fdca26\"], [1.0, \"#f0f921\"]], \"type\": \"contour\"}], \"contourcarpet\": [{\"colorbar\": {\"outlinewidth\": 0, \"ticks\": \"\"}, \"type\": \"contourcarpet\"}], \"heatmap\": [{\"colorbar\": {\"outlinewidth\": 0, \"ticks\": \"\"}, \"colorscale\": [[0.0, \"#0d0887\"], [0.1111111111111111, \"#46039f\"], [0.2222222222222222, \"#7201a8\"], [0.3333333333333333, \"#9c179e\"], [0.4444444444444444, \"#bd3786\"], [0.5555555555555556, \"#d8576b\"], [0.6666666666666666, \"#ed7953\"], [0.7777777777777778, \"#fb9f3a\"], [0.8888888888888888, \"#fdca26\"], [1.0, \"#f0f921\"]], \"type\": \"heatmap\"}], \"heatmapgl\": [{\"colorbar\": {\"outlinewidth\": 0, \"ticks\": \"\"}, \"colorscale\": [[0.0, \"#0d0887\"], [0.1111111111111111, \"#46039f\"], [0.2222222222222222, \"#7201a8\"], [0.3333333333333333, \"#9c179e\"], [0.4444444444444444, \"#bd3786\"], [0.5555555555555556, \"#d8576b\"], [0.6666666666666666, \"#ed7953\"], [0.7777777777777778, \"#fb9f3a\"], [0.8888888888888888, \"#fdca26\"], [1.0, \"#f0f921\"]], \"type\": \"heatmapgl\"}], \"histogram\": [{\"marker\": {\"colorbar\": {\"outlinewidth\": 0, \"ticks\": \"\"}}, \"type\": \"histogram\"}], \"histogram2d\": [{\"colorbar\": {\"outlinewidth\": 0, \"ticks\": \"\"}, \"colorscale\": [[0.0, \"#0d0887\"], [0.1111111111111111, \"#46039f\"], [0.2222222222222222, \"#7201a8\"], [0.3333333333333333, \"#9c179e\"], [0.4444444444444444, \"#bd3786\"], [0.5555555555555556, \"#d8576b\"], [0.6666666666666666, \"#ed7953\"], [0.7777777777777778, \"#fb9f3a\"], [0.8888888888888888, \"#fdca26\"], [1.0, \"#f0f921\"]], \"type\": \"histogram2d\"}], \"histogram2dcontour\": [{\"colorbar\": {\"outlinewidth\": 0, \"ticks\": \"\"}, \"colorscale\": [[0.0, \"#0d0887\"], [0.1111111111111111, \"#46039f\"], [0.2222222222222222, \"#7201a8\"], [0.3333333333333333, \"#9c179e\"], [0.4444444444444444, \"#bd3786\"], [0.5555555555555556, \"#d8576b\"], [0.6666666666666666, \"#ed7953\"], [0.7777777777777778, \"#fb9f3a\"], [0.8888888888888888, \"#fdca26\"], [1.0, \"#f0f921\"]], \"type\": \"histogram2dcontour\"}], \"mesh3d\": [{\"colorbar\": {\"outlinewidth\": 0, \"ticks\": \"\"}, \"type\": \"mesh3d\"}], \"parcoords\": [{\"line\": {\"colorbar\": {\"outlinewidth\": 0, \"ticks\": \"\"}}, \"type\": \"parcoords\"}], \"pie\": [{\"automargin\": true, \"type\": \"pie\"}], \"scatter\": [{\"marker\": {\"colorbar\": {\"outlinewidth\": 0, \"ticks\": \"\"}}, \"type\": \"scatter\"}], \"scatter3d\": [{\"line\": {\"colorbar\": {\"outlinewidth\": 0, \"ticks\": \"\"}}, \"marker\": {\"colorbar\": {\"outlinewidth\": 0, \"ticks\": \"\"}}, \"type\": \"scatter3d\"}], \"scattercarpet\": [{\"marker\": {\"colorbar\": {\"outlinewidth\": 0, \"ticks\": \"\"}}, \"type\": \"scattercarpet\"}], \"scattergeo\": [{\"marker\": {\"colorbar\": {\"outlinewidth\": 0, \"ticks\": \"\"}}, \"type\": \"scattergeo\"}], \"scattergl\": [{\"marker\": {\"colorbar\": {\"outlinewidth\": 0, \"ticks\": \"\"}}, \"type\": \"scattergl\"}], \"scattermapbox\": [{\"marker\": {\"colorbar\": {\"outlinewidth\": 0, \"ticks\": \"\"}}, \"type\": \"scattermapbox\"}], \"scatterpolar\": [{\"marker\": {\"colorbar\": {\"outlinewidth\": 0, \"ticks\": \"\"}}, \"type\": \"scatterpolar\"}], \"scatterpolargl\": [{\"marker\": {\"colorbar\": {\"outlinewidth\": 0, \"ticks\": \"\"}}, \"type\": \"scatterpolargl\"}], \"scatterternary\": [{\"marker\": {\"colorbar\": {\"outlinewidth\": 0, \"ticks\": \"\"}}, \"type\": \"scatterternary\"}], \"surface\": [{\"colorbar\": {\"outlinewidth\": 0, \"ticks\": \"\"}, \"colorscale\": [[0.0, \"#0d0887\"], [0.1111111111111111, \"#46039f\"], [0.2222222222222222, \"#7201a8\"], [0.3333333333333333, \"#9c179e\"], [0.4444444444444444, \"#bd3786\"], [0.5555555555555556, \"#d8576b\"], [0.6666666666666666, \"#ed7953\"], [0.7777777777777778, \"#fb9f3a\"], [0.8888888888888888, \"#fdca26\"], [1.0, \"#f0f921\"]], \"type\": \"surface\"}], \"table\": [{\"cells\": {\"fill\": {\"color\": \"#EBF0F8\"}, \"line\": {\"color\": \"white\"}}, \"header\": {\"fill\": {\"color\": \"#C8D4E3\"}, \"line\": {\"color\": \"white\"}}, \"type\": \"table\"}]}, \"layout\": {\"annotationdefaults\": {\"arrowcolor\": \"#2a3f5f\", \"arrowhead\": 0, \"arrowwidth\": 1}, \"coloraxis\": {\"colorbar\": {\"outlinewidth\": 0, \"ticks\": \"\"}}, \"colorscale\": {\"diverging\": [[0, \"#8e0152\"], [0.1, \"#c51b7d\"], [0.2, \"#de77ae\"], [0.3, \"#f1b6da\"], [0.4, \"#fde0ef\"], [0.5, \"#f7f7f7\"], [0.6, \"#e6f5d0\"], [0.7, \"#b8e186\"], [0.8, \"#7fbc41\"], [0.9, \"#4d9221\"], [1, \"#276419\"]], \"sequential\": [[0.0, \"#0d0887\"], [0.1111111111111111, \"#46039f\"], [0.2222222222222222, \"#7201a8\"], [0.3333333333333333, \"#9c179e\"], [0.4444444444444444, \"#bd3786\"], [0.5555555555555556, \"#d8576b\"], [0.6666666666666666, \"#ed7953\"], [0.7777777777777778, \"#fb9f3a\"], [0.8888888888888888, \"#fdca26\"], [1.0, \"#f0f921\"]], \"sequentialminus\": [[0.0, \"#0d0887\"], [0.1111111111111111, \"#46039f\"], [0.2222222222222222, \"#7201a8\"], [0.3333333333333333, \"#9c179e\"], [0.4444444444444444, \"#bd3786\"], [0.5555555555555556, \"#d8576b\"], [0.6666666666666666, \"#ed7953\"], [0.7777777777777778, \"#fb9f3a\"], [0.8888888888888888, \"#fdca26\"], [1.0, \"#f0f921\"]]}, \"colorway\": [\"#636efa\", \"#EF553B\", \"#00cc96\", \"#ab63fa\", \"#FFA15A\", \"#19d3f3\", \"#FF6692\", \"#B6E880\", \"#FF97FF\", \"#FECB52\"], \"font\": {\"color\": \"#2a3f5f\"}, \"geo\": {\"bgcolor\": \"white\", \"lakecolor\": \"white\", \"landcolor\": \"#E5ECF6\", \"showlakes\": true, \"showland\": true, \"subunitcolor\": \"white\"}, \"hoverlabel\": {\"align\": \"left\"}, \"hovermode\": \"closest\", \"mapbox\": {\"style\": \"light\"}, \"paper_bgcolor\": \"white\", \"plot_bgcolor\": \"#E5ECF6\", \"polar\": {\"angularaxis\": {\"gridcolor\": \"white\", \"linecolor\": \"white\", \"ticks\": \"\"}, \"bgcolor\": \"#E5ECF6\", \"radialaxis\": {\"gridcolor\": \"white\", \"linecolor\": \"white\", \"ticks\": \"\"}}, \"scene\": {\"xaxis\": {\"backgroundcolor\": \"#E5ECF6\", \"gridcolor\": \"white\", \"gridwidth\": 2, \"linecolor\": \"white\", \"showbackground\": true, \"ticks\": \"\", \"zerolinecolor\": \"white\"}, \"yaxis\": {\"backgroundcolor\": \"#E5ECF6\", \"gridcolor\": \"white\", \"gridwidth\": 2, \"linecolor\": \"white\", \"showbackground\": true, \"ticks\": \"\", \"zerolinecolor\": \"white\"}, \"zaxis\": {\"backgroundcolor\": \"#E5ECF6\", \"gridcolor\": \"white\", \"gridwidth\": 2, \"linecolor\": \"white\", \"showbackground\": true, \"ticks\": \"\", \"zerolinecolor\": \"white\"}}, \"shapedefaults\": {\"line\": {\"color\": \"#2a3f5f\"}}, \"ternary\": {\"aaxis\": {\"gridcolor\": \"white\", \"linecolor\": \"white\", \"ticks\": \"\"}, \"baxis\": {\"gridcolor\": \"white\", \"linecolor\": \"white\", \"ticks\": \"\"}, \"bgcolor\": \"#E5ECF6\", \"caxis\": {\"gridcolor\": \"white\", \"linecolor\": \"white\", \"ticks\": \"\"}}, \"title\": {\"x\": 0.05}, \"xaxis\": {\"automargin\": true, \"gridcolor\": \"white\", \"linecolor\": \"white\", \"ticks\": \"\", \"title\": {\"standoff\": 15}, \"zerolinecolor\": \"white\", \"zerolinewidth\": 2}, \"yaxis\": {\"automargin\": true, \"gridcolor\": \"white\", \"linecolor\": \"white\", \"ticks\": \"\", \"title\": {\"standoff\": 15}, \"zerolinecolor\": \"white\", \"zerolinewidth\": 2}}}},\n",
       "                        {\"responsive\": true}\n",
       "                    ).then(function(){\n",
       "                            \n",
       "var gd = document.getElementById('913350d5-c8fd-48b3-828e-7d3f1ca9299e');\n",
       "var x = new MutationObserver(function (mutations, observer) {{\n",
       "        var display = window.getComputedStyle(gd).display;\n",
       "        if (!display || display === 'none') {{\n",
       "            console.log([gd, 'removed!']);\n",
       "            Plotly.purge(gd);\n",
       "            observer.disconnect();\n",
       "        }}\n",
       "}});\n",
       "\n",
       "// Listen for the removal of the full notebook cells\n",
       "var notebookContainer = gd.closest('#notebook-container');\n",
       "if (notebookContainer) {{\n",
       "    x.observe(notebookContainer, {childList: true});\n",
       "}}\n",
       "\n",
       "// Listen for the clearing of the current output cell\n",
       "var outputEl = gd.closest('.output');\n",
       "if (outputEl) {{\n",
       "    x.observe(outputEl, {childList: true});\n",
       "}}\n",
       "\n",
       "                        })\n",
       "                };\n",
       "                });\n",
       "            </script>\n",
       "        </div>"
      ]
     },
     "metadata": {},
     "output_type": "display_data"
    }
   ],
   "source": [
    "#Visualize the data in the form of table using plotly.\n",
    "exitPoll2019Table = go.Figure(data=[go.Table(\n",
    "    header=dict(values=list([\"Exit Poll Name\", \"NDA\", \"UPA\", \"Others\"]),\n",
    "                fill_color='paleturquoise',\n",
    "                font=dict(size=14),\n",
    "                align='left'),\n",
    "    cells=dict(values=list([exitPoll2019df.ExitPollName, exitPoll2019df.NDA, exitPoll2019df.UPA, exitPoll2019df.Other]),\n",
    "               fill_color='lavender',\n",
    "               font=dict(size=14),\n",
    "               align='left'))\n",
    "])\n",
    "\n",
    "exitPoll2019Table.show()"
   ]
  },
  {
   "cell_type": "code",
   "execution_count": 4,
   "metadata": {},
   "outputs": [
    {
     "data": {
      "image/png": "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