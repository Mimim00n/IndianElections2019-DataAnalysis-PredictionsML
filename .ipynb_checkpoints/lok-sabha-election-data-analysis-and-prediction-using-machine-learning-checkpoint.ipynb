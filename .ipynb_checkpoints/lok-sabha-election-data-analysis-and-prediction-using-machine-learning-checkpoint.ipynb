
{
 "cells": [
  {
   "cell_type": "markdown",
   "metadata": {},
   "source": [
    "# Indian Election 2019: Data Analysis And Prediction Using Machine Learning\n",
    "\n",
    "<img src=\"https://www.ft.com/__origami/service/image/v2/images/raw/http%3A%2F%2Fcom.ft.imagepublish.upp-prod-us.s3.amazonaws.com%2F5c2322c8-7deb-11e9-81d2-f785092ab560?fit=scale-down&source=next&width=700\" width=\"1000\">\n",
    "\n",
    "## Table of contents\n",
    "\n",
    "1. Introduction\n",
    "2. Environment setup\n",
    "3. Gathering the data\n",
    "4. Features\n",
    "5. Exploratory Data Analysis (EDA)\n",
    "    - Lok sabha 2019: Election results\n",
    "    - Party-wise vote share\n",
    "    - Age distribution of candidates\n",
    "6. Preparing the data\n",
    "    - Resampling the data\n",
    "    - Scaling the data\n",
    "7. Machine learning model experimentation\n",
    "    - Experimenting with different machine learning models\n",
    "    - Manual hyperparameter tuning\n",
    "    - Hyperparameter tuning using GridSearchCV\n",
    "8. Evaluating the machine learning models\n",
    "    - Fitting the models with best parameters\n",
    "    - Classification report\n",
    "    - Confusion matrix\n",
    "    - Cross-validated metrics"
   ]
  },
  {
   "cell_type": "markdown",
   "metadata": {},
   "source": [
    "## 1. Introduction\n",
    "<br>\n",
    "<p> <img src=\"https://upload.wikimedia.org/wikipedia/commons/thumb/3/33/March_2020_Parliament_Lok_sabha.svg/1200px-March_2020_Parliament_Lok_sabha.svg.png\", style=\"float:left\", width=\"300\", height=\"180\"> The Lok Sabha is composed of representatives of the people chosen by direct election on the basis of the adult suffrage. The maximum strength of the House envisaged by the Constitution is 552, which is made up by election of upto 530 members to represent the States, upto 20 members to represent the Union Territories and not more than two members of the Anglo-Indian Community to be nominated by the Hon'ble President, if,  in his/her opinion, that community is not adequately represented in the House. The total elective membership is distributed among the States in such a way that the ratio between the number of seats allotted to each State and the population of the State is, so far as practicable, the same for all States.</p>\n",
    "<p> "
   ]
  },
  {
   "cell_type": "markdown",
   "metadata": {},
   "source": [
    "## 2. Environment setup"
   ]
  },
  {
   "cell_type": "code",
   "execution_count": 1,
   "metadata": {},
   "outputs": [
    {
     "data": {
      "text/html": [
       "        <script type=\"text/javascript\">\n",
       "        window.PlotlyConfig = {MathJaxConfig: 'local'};\n",
       "        if (window.MathJax) {MathJax.Hub.Config({SVG: {font: \"STIX-Web\"}});}\n",
       "        if (typeof require !== 'undefined') {\n",
       "        require.undef(\"plotly\");\n",
       "        requirejs.config({\n",
       "            paths: {\n",
       "                'plotly': ['https://cdn.plot.ly/plotly-latest.min']\n",
       "            }\n",
       "        });\n",
       "        require(['plotly'], function(Plotly) {\n",
       "            window._Plotly = Plotly;\n",
       "        });\n",
       "        }\n",
       "        </script>\n",
       "        "
      ]
     },
     "metadata": {},
     "output_type": "display_data"
    }
   ],
   "source": [
    "# Import numpy, pandas for data manipulation\n",
    "import numpy as np\n",
    "import pandas as pd\n",
    "\n",
    "# Import plotly, matplotlib and seaborn as visualization tools\n",
    "import matplotlib.pyplot as plt\n",
    "from plotly import tools\n",
    "import chart_studio.plotly as py\n",
    "import plotly.graph_objs as go\n",
    "import plotly.figure_factory as ff\n",
    "import plotly.express as px\n",
    "from plotly.subplots import make_subplots\n",
    "from plotly.offline import download_plotlyjs, init_notebook_mode\n",
    "import seaborn as sns\n",
    "\n",
    "# Import for resampling the data\n",
    "from sklearn.utils import resample\n",
    "\n",
    "# Import for scaling the data\n",
    "from sklearn.preprocessing import StandardScaler\n",
    "\n",
    "# Import machine learning models\n",
    "from sklearn.ensemble import RandomForestClassifier\n",
    "from sklearn.svm import SVC\n",
    "from sklearn.neighbors import KNeighborsClassifier\n",
    "\n",
    "# Import model evaluation metrics\n",
    "from sklearn.metrics import classification_report, confusion_matrix, roc_curve\n",
    "from sklearn.metrics import accuracy_score, precision_score, recall_score, f1_score\n",
    "from sklearn.model_selection import train_test_split, cross_val_score\n",
    "from sklearn.model_selection import RandomizedSearchCV, GridSearchCV\n",
    "\n",
    "# Plot should appear inside the jupyter notebook\n",
    "%matplotlib inline\n",
    "\n",
    "init_notebook_mode(connected=True)"
   ]
  },
  {
   "cell_type": "markdown",
   "metadata": {},
   "source": [
    "## 3. Gathering the data\n",
    "\n",
    "> The data for this project has been collected from Kaggle:\n",
    "https://www.kaggle.com/prakrutchauhan/indian-candidates-for-general-election-2019"
   ]
  },
  {
   "cell_type": "code",
   "execution_count": 2,
   "metadata": {},
   "outputs": [],
   "source": [
    "# Loading the dataset\n",
    "df = pd.read_csv(\"data/LS_2.0.csv\")"
   ]
  },
  {
   "cell_type": "code",
   "execution_count": 3,
   "metadata": {},
   "outputs": [
    {
     "data": {
      "text/html": [
       "<div>\n",
       "<style scoped>\n",
       "    .dataframe tbody tr th:only-of-type {\n",
       "        vertical-align: middle;\n",
       "    }\n",
       "\n",
       "    .dataframe tbody tr th {\n",
       "        vertical-align: top;\n",
       "    }\n",
       "\n",
       "    .dataframe thead th {\n",
       "        text-align: right;\n",
       "    }\n",
       "</style>\n",
       "<table border=\"1\" class=\"dataframe\">\n",
       "  <thead>\n",
       "    <tr style=\"text-align: right;\">\n",
       "      <th></th>\n",
       "      <th>STATE</th>\n",
       "      <th>CONSTITUENCY</th>\n",
       "      <th>NAME</th>\n",
       "      <th>WINNER</th>\n",
       "      <th>PARTY</th>\n",
       "      <th>SYMBOL</th>\n",
       "      <th>GENDER</th>\n",
       "      <th>CRIMINAL\\nCASES</th>\n",
       "      <th>AGE</th>\n",
       "      <th>CATEGORY</th>\n",
       "      <th>EDUCATION</th>\n",
       "      <th>ASSETS</th>\n",
       "      <th>LIABILITIES</th>\n",
       "      <th>GENERAL\\nVOTES</th>\n",
       "      <th>POSTAL\\nVOTES</th>\n",
       "      <th>TOTAL\\nVOTES</th>\n",
       "      <th>OVER TOTAL ELECTORS \\nIN CONSTITUENCY</th>\n",
       "      <th>OVER TOTAL VOTES POLLED \\nIN CONSTITUENCY</th>\n",
       "      <th>TOTAL ELECTORS</th>\n",
       "    </tr>\n",
       "  </thead>\n",
       "  <tbody>\n",
       "    <tr>\n",
       "      <th>0</th>\n",
       "      <td>Telangana</td>\n",
       "      <td>ADILABAD</td>\n",
       "      <td>SOYAM BAPU RAO</td>\n",
       "      <td>1</td>\n",
       "      <td>BJP</td>\n",
       "      <td>Lotus</td>\n",
       "      <td>MALE</td>\n",
       "      <td>52</td>\n",
       "      <td>52.0</td>\n",
       "      <td>ST</td>\n",
       "      <td>12th Pass</td>\n",
       "      <td>Rs 30,99,414\\n ~ 30 Lacs+</td>\n",
       "      <td>Rs 2,31,450\\n ~ 2 Lacs+</td>\n",
       "      <td>376892</td>\n",
       "      <td>482</td>\n",
       "      <td>377374</td>\n",
       "      <td>25.330684</td>\n",
       "      <td>35.468248</td>\n",
       "      <td>1489790</td>\n",
       "    </tr>\n",
       "    <tr>\n",
       "      <th>1</th>\n",
       "      <td>Telangana</td>\n",
       "      <td>ADILABAD</td>\n",
       "      <td>Godam Nagesh</td>\n",
       "      <td>0</td>\n",
       "      <td>TRS</td>\n",
       "      <td>Car</td>\n",
       "      <td>MALE</td>\n",
       "      <td>0</td>\n",
       "      <td>54.0</td>\n",
       "      <td>ST</td>\n",
       "      <td>Post Graduate</td>\n",
       "      <td>Rs 1,84,77,888\\n ~ 1 Crore+</td>\n",
       "      <td>Rs 8,47,000\\n ~ 8 Lacs+</td>\n",
       "      <td>318665</td>\n",
       "      <td>149</td>\n",
       "      <td>318814</td>\n",
       "      <td>21.399929</td>\n",
       "      <td>29.964370</td>\n",
       "      <td>1489790</td>\n",
       "    </tr>\n",
       "    <tr>\n",
       "      <th>2</th>\n",
       "      <td>Telangana</td>\n",
       "      <td>ADILABAD</td>\n",
       "      <td>RATHOD RAMESH</td>\n",
       "      <td>0</td>\n",
       "      <td>INC</td>\n",
       "      <td>Hand</td>\n",
       "      <td>MALE</td>\n",
       "      <td>3</td>\n",
       "      <td>52.0</td>\n",
       "      <td>ST</td>\n",
       "      <td>12th Pass</td>\n",
       "      <td>Rs 3,64,91,000\\n ~ 3 Crore+</td>\n",
       "      <td>Rs 1,53,00,000\\n ~ 1 Crore+</td>\n",
       "      <td>314057</td>\n",
       "      <td>181</td>\n",
       "      <td>314238</td>\n",
       "      <td>21.092771</td>\n",
       "      <td>29.534285</td>\n",
       "      <td>1489790</td>\n",
       "    </tr>\n",
       "    <tr>\n",
       "      <th>3</th>\n",
       "      <td>Telangana</td>\n",
       "      <td>ADILABAD</td>\n",
       "      <td>NOTA</td>\n",
       "      <td>0</td>\n",
       "      <td>NOTA</td>\n",
       "      <td>NaN</td>\n",
       "      <td>NaN</td>\n",
       "      <td>NaN</td>\n",
       "      <td>NaN</td>\n",
       "      <td>NaN</td>\n",
       "      <td>NaN</td>\n",
       "      <td>NaN</td>\n",
       "      <td>NaN</td>\n",
       "      <td>13030</td>\n",
       "      <td>6</td>\n",
       "      <td>13036</td>\n",
       "      <td>0.875023</td>\n",
       "      <td>1.225214</td>\n",
       "      <td>1489790</td>\n",
       "    </tr>\n",
       "    <tr>\n",
       "      <th>4</th>\n",
       "      <td>Uttar Pradesh</td>\n",
       "      <td>AGRA</td>\n",
       "      <td>Satyapal Singh Baghel</td>\n",
       "      <td>1</td>\n",
       "      <td>BJP</td>\n",
       "      <td>Lotus</td>\n",
       "      <td>MALE</td>\n",
       "      <td>5</td>\n",
       "      <td>58.0</td>\n",
       "      <td>SC</td>\n",
       "      <td>Doctorate</td>\n",
       "      <td>Rs 7,42,74,036\\n ~ 7 Crore+</td>\n",
       "      <td>Rs 86,06,522\\n ~ 86 Lacs+</td>\n",
       "      <td>644459</td>\n",
       "      <td>2416</td>\n",
       "      <td>646875</td>\n",
       "      <td>33.383823</td>\n",
       "      <td>56.464615</td>\n",
       "      <td>1937690</td>\n",
       "    </tr>\n",
       "  </tbody>\n",
       "</table>\n",
       "</div>"
      ],
      "text/plain": [
       "           STATE CONSTITUENCY                   NAME  WINNER PARTY SYMBOL  \\\n",
       "0      Telangana     ADILABAD         SOYAM BAPU RAO       1   BJP  Lotus   \n",
       "1      Telangana     ADILABAD           Godam Nagesh       0   TRS    Car   \n",
       "2      Telangana     ADILABAD          RATHOD RAMESH       0   INC   Hand   \n",
       "3      Telangana     ADILABAD                   NOTA       0  NOTA    NaN   \n",
       "4  Uttar Pradesh         AGRA  Satyapal Singh Baghel       1   BJP  Lotus   \n",
       "\n",
       "  GENDER CRIMINAL\\nCASES   AGE CATEGORY      EDUCATION  \\\n",
       "0   MALE              52  52.0       ST      12th Pass   \n",
       "1   MALE               0  54.0       ST  Post Graduate   \n",
       "2   MALE               3  52.0       ST      12th Pass   \n",
       "3    NaN             NaN   NaN      NaN            NaN   \n",
       "4   MALE               5  58.0       SC      Doctorate   \n",
       "\n",
       "                        ASSETS                  LIABILITIES  GENERAL\\nVOTES  \\\n",
       "0    Rs 30,99,414\\n ~ 30 Lacs+      Rs 2,31,450\\n ~ 2 Lacs+          376892   \n",
       "1  Rs 1,84,77,888\\n ~ 1 Crore+      Rs 8,47,000\\n ~ 8 Lacs+          318665   \n",
       "2  Rs 3,64,91,000\\n ~ 3 Crore+  Rs 1,53,00,000\\n ~ 1 Crore+          314057   \n",
       "3                          NaN                          NaN           13030   \n",
       "4  Rs 7,42,74,036\\n ~ 7 Crore+    Rs 86,06,522\\n ~ 86 Lacs+          644459   \n",
       "\n",
       "   POSTAL\\nVOTES  TOTAL\\nVOTES  OVER TOTAL ELECTORS \\nIN CONSTITUENCY  \\\n",
       "0            482        377374                              25.330684   \n",
       "1            149        318814                              21.399929   \n",
       "2            181        314238                              21.092771   \n",
       "3              6         13036                               0.875023   \n",
       "4           2416        646875                              33.383823   \n",
       "\n",
       "   OVER TOTAL VOTES POLLED \\nIN CONSTITUENCY  TOTAL ELECTORS  \n",
       "0                                  35.468248         1489790  \n",
       "1                                  29.964370         1489790  \n",
       "2                                  29.534285         1489790  \n",
       "3                                   1.225214         1489790  \n",
       "4                                  56.464615         1937690  "
      ]
     },
     "execution_count": 3,
     "metadata": {},
     "output_type": "execute_result"
    }
   ],
   "source": [
    "df.head()"
   ]
  },
  {
   "cell_type": "code",
   "execution_count": 4,
   "metadata": {},
   "outputs": [
    {
     "data": {
      "text/plain": [
       "(2263, 19)"
      ]
     },
     "execution_count": 4,
     "metadata": {},
     "output_type": "execute_result"
    }
   ],
   "source": [
    "df.shape"
   ]
  },
  {
   "cell_type": "code",
   "execution_count": 5,
   "metadata": {},
   "outputs": [
    {
     "data": {
      "text/plain": [
       "Index(['STATE', 'CONSTITUENCY', 'NAME', 'WINNER', 'PARTY', 'SYMBOL', 'GENDER',\n",
       "       'CRIMINAL\\nCASES', 'AGE', 'CATEGORY', 'EDUCATION', 'ASSETS',\n",
       "       'LIABILITIES', 'GENERAL\\nVOTES', 'POSTAL\\nVOTES', 'TOTAL\\nVOTES',\n",
       "       'OVER TOTAL ELECTORS \\nIN CONSTITUENCY',\n",
       "       'OVER TOTAL VOTES POLLED \\nIN CONSTITUENCY', 'TOTAL ELECTORS'],\n",
       "      dtype='object')"
      ]
     },
     "execution_count": 5,
     "metadata": {},
     "output_type": "execute_result"
    }
   ],
   "source": [
    "df.columns"
   ]
  },
  {
   "cell_type": "markdown",
   "metadata": {},
   "source": [
    "## 4. Features\n",
    "\n",
    "- STATE\n",
    "- CONSTITUENCY\n",
    "- NAME\n",
    "- WINNER\n",
    "- PARTY\n",
    "- SYMBOL\n",
    "- GENDER\n",
    "- CRIMINAL CASES\n",
    "- AGE\n",
    "- CATEGORY\n",
    "- EDUCATION\n",
    "- ASSETS\n",
    "- LIABILITIES\n",
    "- GENERAL VOTES \n",
    "- POSTAL VOTES\n",
    "- TOTAL VOTES\n",
    "- OVER TOTAL ELECTORS IN CONSTITUENCY\n",
    "- OVER TOTAL VOTES POLLED IN CONSTITUENCY\n",
    "- TOTAL ELECTORS"
   ]
  },
  {
   "cell_type": "markdown",
   "metadata": {},
   "source": [
    "## 5. Exploratory Data Analysis (EDA)"
   ]
  },
  {
   "cell_type": "code",
   "execution_count": 6,
   "metadata": {},
   "outputs": [],
   "source": [
    "# Replacing the column names having \\n with ' '\n",
    "df.columns = df.columns.str.replace('\\n',' ')"
   ]
  },
  {
   "cell_type": "code",
   "execution_count": 7,
   "metadata": {},
   "outputs": [
    {
     "data": {
      "text/html": [
       "<div>\n",
       "<style scoped>\n",
       "    .dataframe tbody tr th:only-of-type {\n",
       "        vertical-align: middle;\n",
       "    }\n",
       "\n",
       "    .dataframe tbody tr th {\n",
       "        vertical-align: top;\n",
       "    }\n",
       "\n",
       "    .dataframe thead th {\n",
       "        text-align: right;\n",
       "    }\n",
       "</style>\n",
       "<table border=\"1\" class=\"dataframe\">\n",
       "  <thead>\n",
       "    <tr style=\"text-align: right;\">\n",
       "      <th></th>\n",
       "      <th>STATE</th>\n",
       "      <th>CONSTITUENCY</th>\n",
       "      <th>NAME</th>\n",
       "      <th>WINNER</th>\n",
       "      <th>PARTY</th>\n",
       "      <th>SYMBOL</th>\n",
       "      <th>GENDER</th>\n",
       "      <th>CRIMINAL CASES</th>\n",
       "      <th>AGE</th>\n",
       "      <th>CATEGORY</th>\n",
       "      <th>EDUCATION</th>\n",
       "      <th>ASSETS</th>\n",
       "      <th>LIABILITIES</th>\n",
       "      <th>GENERAL VOTES</th>\n",
       "      <th>POSTAL VOTES</th>\n",
       "      <th>TOTAL VOTES</th>\n",
       "      <th>OVER TOTAL ELECTORS  IN CONSTITUENCY</th>\n",
       "      <th>OVER TOTAL VOTES POLLED  IN CONSTITUENCY</th>\n",
       "      <th>TOTAL ELECTORS</th>\n",
       "    </tr>\n",
       "  </thead>\n",
       "  <tbody>\n",
       "    <tr>\n",
       "      <th>0</th>\n",
       "      <td>Telangana</td>\n",
       "      <td>ADILABAD</td>\n",
       "      <td>SOYAM BAPU RAO</td>\n",
       "      <td>1</td>\n",
       "      <td>BJP</td>\n",
       "      <td>Lotus</td>\n",
       "      <td>MALE</td>\n",
       "      <td>52</td>\n",
       "      <td>52.0</td>\n",
       "      <td>ST</td>\n",
       "      <td>12th Pass</td>\n",
       "      <td>Rs 30,99,414\\n ~ 30 Lacs+</td>\n",
       "      <td>Rs 2,31,450\\n ~ 2 Lacs+</td>\n",
       "      <td>376892</td>\n",
       "      <td>482</td>\n",
       "      <td>377374</td>\n",
       "      <td>25.330684</td>\n",
       "      <td>35.468248</td>\n",
       "      <td>1489790</td>\n",
       "    </tr>\n",
       "    <tr>\n",
       "      <th>1</th>\n",
       "      <td>Telangana</td>\n",
       "      <td>ADILABAD</td>\n",
       "      <td>Godam Nagesh</td>\n",
       "      <td>0</td>\n",
       "      <td>TRS</td>\n",
       "      <td>Car</td>\n",
       "      <td>MALE</td>\n",
       "      <td>0</td>\n",
       "      <td>54.0</td>\n",
       "      <td>ST</td>\n",
       "      <td>Post Graduate</td>\n",
       "      <td>Rs 1,84,77,888\\n ~ 1 Crore+</td>\n",
       "      <td>Rs 8,47,000\\n ~ 8 Lacs+</td>\n",
       "      <td>318665</td>\n",
       "      <td>149</td>\n",
       "      <td>318814</td>\n",
       "      <td>21.399929</td>\n",
       "      <td>29.964370</td>\n",
       "      <td>1489790</td>\n",
       "    </tr>\n",
       "    <tr>\n",
       "      <th>2</th>\n",
       "      <td>Telangana</td>\n",
       "      <td>ADILABAD</td>\n",
       "      <td>RATHOD RAMESH</td>\n",
       "      <td>0</td>\n",
       "      <td>INC</td>\n",
       "      <td>Hand</td>\n",
       "      <td>MALE</td>\n",
       "      <td>3</td>\n",
       "      <td>52.0</td>\n",
       "      <td>ST</td>\n",
       "      <td>12th Pass</td>\n",
       "      <td>Rs 3,64,91,000\\n ~ 3 Crore+</td>\n",
       "      <td>Rs 1,53,00,000\\n ~ 1 Crore+</td>\n",
       "      <td>314057</td>\n",
       "      <td>181</td>\n",
       "      <td>314238</td>\n",
       "      <td>21.092771</td>\n",
       "      <td>29.534285</td>\n",
       "      <td>1489790</td>\n",
       "    </tr>\n",
       "    <tr>\n",
       "      <th>3</th>\n",
       "      <td>Telangana</td>\n",
       "      <td>ADILABAD</td>\n",
       "      <td>NOTA</td>\n",
       "      <td>0</td>\n",
       "      <td>NOTA</td>\n",
       "      <td>NaN</td>\n",
       "      <td>NaN</td>\n",
       "      <td>NaN</td>\n",
       "      <td>NaN</td>\n",
       "      <td>NaN</td>\n",
       "      <td>NaN</td>\n",
       "      <td>NaN</td>\n",
       "      <td>NaN</td>\n",
       "      <td>13030</td>\n",
       "      <td>6</td>\n",
       "      <td>13036</td>\n",
       "      <td>0.875023</td>\n",
       "      <td>1.225214</td>\n",
       "      <td>1489790</td>\n",
       "    </tr>\n",
       "    <tr>\n",
       "      <th>4</th>\n",
       "      <td>Uttar Pradesh</td>\n",
       "      <td>AGRA</td>\n",
       "      <td>Satyapal Singh Baghel</td>\n",
       "      <td>1</td>\n",
       "      <td>BJP</td>\n",
       "      <td>Lotus</td>\n",
       "      <td>MALE</td>\n",
       "      <td>5</td>\n",
       "      <td>58.0</td>\n",
       "      <td>SC</td>\n",
       "      <td>Doctorate</td>\n",
       "      <td>Rs 7,42,74,036\\n ~ 7 Crore+</td>\n",
       "      <td>Rs 86,06,522\\n ~ 86 Lacs+</td>\n",
       "      <td>644459</td>\n",
       "      <td>2416</td>\n",
       "      <td>646875</td>\n",
       "      <td>33.383823</td>\n",
       "      <td>56.464615</td>\n",
       "      <td>1937690</td>\n",
       "    </tr>\n",
       "  </tbody>\n",
       "</table>\n",
       "</div>"
      ],
      "text/plain": [
       "           STATE CONSTITUENCY                   NAME  WINNER PARTY SYMBOL  \\\n",
       "0      Telangana     ADILABAD         SOYAM BAPU RAO       1   BJP  Lotus   \n",
       "1      Telangana     ADILABAD           Godam Nagesh       0   TRS    Car   \n",
       "2      Telangana     ADILABAD          RATHOD RAMESH       0   INC   Hand   \n",
       "3      Telangana     ADILABAD                   NOTA       0  NOTA    NaN   \n",
       "4  Uttar Pradesh         AGRA  Satyapal Singh Baghel       1   BJP  Lotus   \n",
       "\n",
       "  GENDER CRIMINAL CASES   AGE CATEGORY      EDUCATION  \\\n",
       "0   MALE             52  52.0       ST      12th Pass   \n",
       "1   MALE              0  54.0       ST  Post Graduate   \n",
       "2   MALE              3  52.0       ST      12th Pass   \n",
       "3    NaN            NaN   NaN      NaN            NaN   \n",
       "4   MALE              5  58.0       SC      Doctorate   \n",
       "\n",
       "                        ASSETS                  LIABILITIES  GENERAL VOTES  \\\n",
       "0    Rs 30,99,414\\n ~ 30 Lacs+      Rs 2,31,450\\n ~ 2 Lacs+         376892   \n",
       "1  Rs 1,84,77,888\\n ~ 1 Crore+      Rs 8,47,000\\n ~ 8 Lacs+         318665   \n",
       "2  Rs 3,64,91,000\\n ~ 3 Crore+  Rs 1,53,00,000\\n ~ 1 Crore+         314057   \n",
       "3                          NaN                          NaN          13030   \n",
       "4  Rs 7,42,74,036\\n ~ 7 Crore+    Rs 86,06,522\\n ~ 86 Lacs+         644459   \n",
       "\n",
       "   POSTAL VOTES  TOTAL VOTES  OVER TOTAL ELECTORS  IN CONSTITUENCY  \\\n",
       "0           482       377374                             25.330684   \n",
       "1           149       318814                             21.399929   \n",
       "2           181       314238                             21.092771   \n",
       "3             6        13036                              0.875023   \n",
       "4          2416       646875                             33.383823   \n",
       "\n",
       "   OVER TOTAL VOTES POLLED  IN CONSTITUENCY  TOTAL ELECTORS  \n",
       "0                                 35.468248         1489790  \n",
       "1                                 29.964370         1489790  \n",
       "2                                 29.534285         1489790  \n",
       "3                                  1.225214         1489790  \n",
       "4                                 56.464615         1937690  "
      ]
     },
     "execution_count": 7,
     "metadata": {},
     "output_type": "execute_result"
    }
   ],
   "source": [
    "df.head()"
   ]
  },
  {
   "cell_type": "code",
   "execution_count": 8,
   "metadata": {},
   "outputs": [
    {
     "name": "stdout",
     "output_type": "stream",
     "text": [
      "<class 'pandas.core.frame.DataFrame'>\n",
      "RangeIndex: 2263 entries, 0 to 2262\n",
      "Data columns (total 19 columns):\n",
      " #   Column                                    Non-Null Count  Dtype  \n",
      "---  ------                                    --------------  -----  \n",
      " 0   STATE                                     2263 non-null   object \n",
      " 1   CONSTITUENCY                              2263 non-null   object \n",
      " 2   NAME                                      2263 non-null   object \n",
      " 3   WINNER                                    2263 non-null   int64  \n",
      " 4   PARTY                                     2263 non-null   object \n",
      " 5   SYMBOL                                    2018 non-null   object \n",
      " 6   GENDER                                    2018 non-null   object \n",
      " 7   CRIMINAL CASES                            2018 non-null   object \n",
      " 8   AGE                                       2018 non-null   float64\n",
      " 9   CATEGORY                                  2018 non-null   object \n",
      " 10  EDUCATION                                 2018 non-null   object \n",
      " 11  ASSETS                                    2018 non-null   object \n",
      " 12  LIABILITIES                               2018 non-null   object \n",
      " 13  GENERAL VOTES                             2263 non-null   int64  \n",
      " 14  POSTAL VOTES                              2263 non-null   int64  \n",
      " 15  TOTAL VOTES                               2263 non-null   int64  \n",
      " 16  OVER TOTAL ELECTORS  IN CONSTITUENCY      2263 non-null   float64\n",
      " 17  OVER TOTAL VOTES POLLED  IN CONSTITUENCY  2263 non-null   float64\n",
      " 18  TOTAL ELECTORS                            2263 non-null   int64  \n",
      "dtypes: float64(3), int64(5), object(11)\n",
      "memory usage: 336.0+ KB\n"
     ]
    }
   ],
   "source": [
    "df.info()"
   ]
  },
  {
   "cell_type": "code",
   "execution_count": 9,
   "metadata": {},
   "outputs": [
    {
     "data": {
      "text/html": [
       "<div>\n",
       "<style scoped>\n",
       "    .dataframe tbody tr th:only-of-type {\n",
       "        vertical-align: middle;\n",
       "    }\n",
       "\n",
       "    .dataframe tbody tr th {\n",
       "        vertical-align: top;\n",
       "    }\n",
       "\n",
       "    .dataframe thead th {\n",
       "        text-align: right;\n",
       "    }\n",
       "</style>\n",
       "<table border=\"1\" class=\"dataframe\">\n",
       "  <thead>\n",
       "    <tr style=\"text-align: right;\">\n",
       "      <th></th>\n",
       "      <th>WINNER</th>\n",
       "      <th>AGE</th>\n",
       "      <th>GENERAL VOTES</th>\n",
       "      <th>POSTAL VOTES</th>\n",
       "      <th>TOTAL VOTES</th>\n",
       "      <th>OVER TOTAL ELECTORS  IN CONSTITUENCY</th>\n",
       "      <th>OVER TOTAL VOTES POLLED  IN CONSTITUENCY</th>\n",
       "      <th>TOTAL ELECTORS</th>\n",
       "    </tr>\n",
       "  </thead>\n",
       "  <tbody>\n",
       "    <tr>\n",
       "      <th>count</th>\n",
       "      <td>2263.000000</td>\n",
       "      <td>2018.000000</td>\n",
       "      <td>2.263000e+03</td>\n",
       "      <td>2263.000000</td>\n",
       "      <td>2.263000e+03</td>\n",
       "      <td>2263.000000</td>\n",
       "      <td>2263.000000</td>\n",
       "      <td>2.263000e+03</td>\n",
       "    </tr>\n",
       "    <tr>\n",
       "      <th>mean</th>\n",
       "      <td>0.238179</td>\n",
       "      <td>52.273538</td>\n",
       "      <td>2.615991e+05</td>\n",
       "      <td>990.710561</td>\n",
       "      <td>2.625898e+05</td>\n",
       "      <td>15.811412</td>\n",
       "      <td>23.190525</td>\n",
       "      <td>1.658016e+06</td>\n",
       "    </tr>\n",
       "    <tr>\n",
       "      <th>std</th>\n",
       "      <td>0.426064</td>\n",
       "      <td>11.869373</td>\n",
       "      <td>2.549906e+05</td>\n",
       "      <td>1602.839174</td>\n",
       "      <td>2.559822e+05</td>\n",
       "      <td>14.962861</td>\n",
       "      <td>21.564758</td>\n",
       "      <td>3.145187e+05</td>\n",
       "    </tr>\n",
       "    <tr>\n",
       "      <th>min</th>\n",
       "      <td>0.000000</td>\n",
       "      <td>25.000000</td>\n",
       "      <td>1.339000e+03</td>\n",
       "      <td>0.000000</td>\n",
       "      <td>1.342000e+03</td>\n",
       "      <td>0.097941</td>\n",
       "      <td>1.000039</td>\n",
       "      <td>5.518900e+04</td>\n",
       "    </tr>\n",
       "    <tr>\n",
       "      <th>25%</th>\n",
       "      <td>0.000000</td>\n",
       "      <td>43.250000</td>\n",
       "      <td>2.103450e+04</td>\n",
       "      <td>57.000000</td>\n",
       "      <td>2.116250e+04</td>\n",
       "      <td>1.296518</td>\n",
       "      <td>1.899502</td>\n",
       "      <td>1.530014e+06</td>\n",
       "    </tr>\n",
       "    <tr>\n",
       "      <th>50%</th>\n",
       "      <td>0.000000</td>\n",
       "      <td>52.000000</td>\n",
       "      <td>1.539340e+05</td>\n",
       "      <td>316.000000</td>\n",
       "      <td>1.544890e+05</td>\n",
       "      <td>10.510553</td>\n",
       "      <td>16.221721</td>\n",
       "      <td>1.679030e+06</td>\n",
       "    </tr>\n",
       "    <tr>\n",
       "      <th>75%</th>\n",
       "      <td>0.000000</td>\n",
       "      <td>61.000000</td>\n",
       "      <td>4.858040e+05</td>\n",
       "      <td>1385.000000</td>\n",
       "      <td>4.872315e+05</td>\n",
       "      <td>29.468185</td>\n",
       "      <td>42.590233</td>\n",
       "      <td>1.816857e+06</td>\n",
       "    </tr>\n",
       "    <tr>\n",
       "      <th>max</th>\n",
       "      <td>1.000000</td>\n",
       "      <td>86.000000</td>\n",
       "      <td>1.066824e+06</td>\n",
       "      <td>19367.000000</td>\n",
       "      <td>1.068569e+06</td>\n",
       "      <td>51.951012</td>\n",
       "      <td>74.411856</td>\n",
       "      <td>3.150313e+06</td>\n",
       "    </tr>\n",
       "  </tbody>\n",
       "</table>\n",
       "</div>"
      ],
      "text/plain": [
       "            WINNER          AGE  GENERAL VOTES  POSTAL VOTES   TOTAL VOTES  \\\n",
       "count  2263.000000  2018.000000   2.263000e+03   2263.000000  2.263000e+03   \n",
       "mean      0.238179    52.273538   2.615991e+05    990.710561  2.625898e+05   \n",
       "std       0.426064    11.869373   2.549906e+05   1602.839174  2.559822e+05   \n",
       "min       0.000000    25.000000   1.339000e+03      0.000000  1.342000e+03   \n",
       "25%       0.000000    43.250000   2.103450e+04     57.000000  2.116250e+04   \n",
       "50%       0.000000    52.000000   1.539340e+05    316.000000  1.544890e+05   \n",
       "75%       0.000000    61.000000   4.858040e+05   1385.000000  4.872315e+05   \n",
       "max       1.000000    86.000000   1.066824e+06  19367.000000  1.068569e+06   \n",
       "\n",
       "       OVER TOTAL ELECTORS  IN CONSTITUENCY  \\\n",
       "count                           2263.000000   \n",
       "mean                              15.811412   \n",
       "std                               14.962861   \n",
       "min                                0.097941   \n",
       "25%                                1.296518   \n",
       "50%                               10.510553   \n",
       "75%                               29.468185   \n",
       "max                               51.951012   \n",
       "\n",
       "       OVER TOTAL VOTES POLLED  IN CONSTITUENCY  TOTAL ELECTORS  \n",
       "count                               2263.000000    2.263000e+03  \n",
       "mean                                  23.190525    1.658016e+06  \n",
       "std                                   21.564758    3.145187e+05  \n",
       "min                                    1.000039    5.518900e+04  \n",
       "25%                                    1.899502    1.530014e+06  \n",
       "50%                                   16.221721    1.679030e+06  \n",
       "75%                                   42.590233    1.816857e+06  \n",
       "max                                   74.411856    3.150313e+06  "
      ]
     },
     "execution_count": 9,
     "metadata": {},
     "output_type": "execute_result"
    }
   ],
   "source": [
    "df.describe()"
   ]
  },
  {
   "cell_type": "code",
   "execution_count": 10,
   "metadata": {},
   "outputs": [
    {
     "data": {
      "text/plain": [
       "STATE                                       0\n",
       "CONSTITUENCY                                0\n",
       "NAME                                        0\n",
       "WINNER                                      0\n",
       "PARTY                                       0\n",
       "SYMBOL                                      0\n",
       "GENDER                                      0\n",
       "CRIMINAL CASES                              0\n",
       "AGE                                         0\n",
       "CATEGORY                                    0\n",
       "EDUCATION                                   0\n",
       "ASSETS                                      0\n",
       "LIABILITIES                                 0\n",
       "GENERAL VOTES                               0\n",
       "POSTAL VOTES                                0\n",
       "TOTAL VOTES                                 0\n",
       "OVER TOTAL ELECTORS  IN CONSTITUENCY        0\n",
       "OVER TOTAL VOTES POLLED  IN CONSTITUENCY    0\n",
       "TOTAL ELECTORS                              0\n",
       "dtype: int64"
      ]
     },
     "execution_count": 10,
     "metadata": {},
     "output_type": "execute_result"
    }
   ],
   "source": [
    "# Checking to see if the dataset contains any null values. We need to exclude NOTA votes while checking it.\n",
    "df_NOTA = df[df['PARTY']!= 'NOTA']\n",
    "df_NOTA.isna().sum()"
   ]
  },
  {
   "cell_type": "code",
   "execution_count": 11,
   "metadata": {},
   "outputs": [
    {
     "data": {
      "text/plain": [
       "(2263, 19)"
      ]
     },
     "execution_count": 11,
     "metadata": {},
     "output_type": "execute_result"
    }
   ],
   "source": [
    "df.shape"
   ]
  },
  {
   "cell_type": "code",
   "execution_count": 12,
   "metadata": {},
   "outputs": [],
   "source": [
    "# Dropping irrelevant columns from the dataset\n",
    "df.drop(['SYMBOL', 'ASSETS', 'LIABILITIES'], axis=1, inplace=True)"
   ]
  },
  {
   "cell_type": "code",
   "execution_count": 13,
   "metadata": {},
   "outputs": [],
   "source": [
    "# We need to exclude NOTA in order to get proper predictions\n",
    "df = df[df['PARTY']!= 'NOTA']"
   ]
  },
  {
   "cell_type": "code",
   "execution_count": 14,
   "metadata": {},
   "outputs": [
    {
     "data": {
      "text/plain": [
       "array(['12th Pass', 'Post Graduate', 'Doctorate', 'Graduate', 'Others',\n",
       "       '10th Pass', '8th Pass', 'Graduate Professional', 'Literate',\n",
       "       'Illiterate', '5th Pass', 'Not Available', 'Post Graduate\\n'],\n",
       "      dtype=object)"
      ]
     },
     "execution_count": 14,
     "metadata": {},
     "output_type": "execute_result"
    }
   ],
   "source": [
    "df['EDUCATION'].unique()"
   ]
  },
  {
   "cell_type": "code",
   "execution_count": 15,
   "metadata": {},
   "outputs": [],
   "source": [
    "# Removing the \\n from 'Post Graduate\\n'\n",
    "df['EDUCATION'].replace(to_replace='Post Graduate\\n', value='Post Graduate', inplace=True)"
   ]
  },
  {
   "cell_type": "code",
   "execution_count": 16,
   "metadata": {},
   "outputs": [],
   "source": [
    "# 'Graduate Professional' are Graduates, so replacing 'Graduate Professional' with 'Graduate'\n",
    "df['EDUCATION'].replace(to_replace='Graduate Professional', value='Graduate', inplace=True)"
   ]
  },
  {
   "cell_type": "code",
   "execution_count": 17,
   "metadata": {},
   "outputs": [
    {
     "data": {
      "text/plain": [
       "array(['12th Pass', 'Post Graduate', 'Doctorate', 'Graduate', 'Others',\n",
       "       '10th Pass', '8th Pass', 'Literate', 'Illiterate', '5th Pass',\n",
       "       'Not Available'], dtype=object)"
      ]
     },
     "execution_count": 17,
     "metadata": {},
     "output_type": "execute_result"
    }
   ],
   "source": [
    "df['EDUCATION'].unique()"
   ]
  },
  {
   "cell_type": "code",
   "execution_count": 18,
   "metadata": {},
   "outputs": [],
   "source": [
    "df['AGE'] = df['AGE'].astype(int, errors='raise')"
   ]
  },
  {
   "cell_type": "code",
   "execution_count": 19,
   "metadata": {},
   "outputs": [
    {
     "data": {
      "text/plain": [
       "STATE                                        object\n",
       "CONSTITUENCY                                 object\n",
       "NAME                                         object\n",
       "WINNER                                        int64\n",
       "PARTY                                        object\n",
       "GENDER                                       object\n",
       "CRIMINAL CASES                               object\n",
       "AGE                                           int32\n",
       "CATEGORY                                     object\n",
       "EDUCATION                                    object\n",
       "GENERAL VOTES                                 int64\n",
       "POSTAL VOTES                                  int64\n",
       "TOTAL VOTES                                   int64\n",
       "OVER TOTAL ELECTORS  IN CONSTITUENCY        float64\n",
       "OVER TOTAL VOTES POLLED  IN CONSTITUENCY    float64\n",
       "TOTAL ELECTORS                                int64\n",
       "dtype: object"
      ]
     },
     "execution_count": 19,
     "metadata": {},
     "output_type": "execute_result"
    }
   ],
   "source": [
    "df.dtypes"
   ]
  },
  {
   "cell_type": "code",
   "execution_count": 20,
   "metadata": {},
   "outputs": [],
   "source": [
    "# Replace the 'Not Available' columns with 0\n",
    "df['CRIMINAL CASES'].replace(to_replace='Not Available', value=0, inplace=True)\n",
    "df['CRIMINAL CASES'] = df['CRIMINAL CASES'].fillna(0)\n",
    "df['CRIMINAL CASES'] = df['CRIMINAL CASES'].astype(int, errors='raise')"
   ]
  },
  {
   "cell_type": "code",
   "execution_count": 21,
   "metadata": {
    "scrolled": true
   },
   "outputs": [
    {
     "data": {
      "text/plain": [
       "STATE                                        object\n",
       "CONSTITUENCY                                 object\n",
       "NAME                                         object\n",
       "WINNER                                        int64\n",
       "PARTY                                        object\n",
       "GENDER                                       object\n",
       "CRIMINAL CASES                                int32\n",
       "AGE                                           int32\n",
       "CATEGORY                                     object\n",
       "EDUCATION                                    object\n",
       "GENERAL VOTES                                 int64\n",
       "POSTAL VOTES                                  int64\n",
       "TOTAL VOTES                                   int64\n",
       "OVER TOTAL ELECTORS  IN CONSTITUENCY        float64\n",
       "OVER TOTAL VOTES POLLED  IN CONSTITUENCY    float64\n",
       "TOTAL ELECTORS                                int64\n",
       "dtype: object"
      ]
     },
     "execution_count": 21,
     "metadata": {},
     "output_type": "execute_result"
    }
   ],
   "source": [
    "df.dtypes"
   ]
  },
  {
   "cell_type": "code",
   "execution_count": 22,
   "metadata": {},
   "outputs": [
    {
     "data": {
      "text/plain": [
       "(2018, 16)"
      ]
     },
     "execution_count": 22,
     "metadata": {},
     "output_type": "execute_result"
    }
   ],
   "source": [
    "df.shape"
   ]
  },
  {
   "cell_type": "markdown",
   "metadata": {},
   "source": [
    "### 5.1 Lok Sabha 2019: Election Results"
   ]
  },
  {
   "cell_type": "code",
   "execution_count": 23,
   "metadata": {},
   "outputs": [
    {
     "data": {
      "text/html": [
       "<div>\n",
       "<style scoped>\n",
       "    .dataframe tbody tr th:only-of-type {\n",
       "        vertical-align: middle;\n",
       "    }\n",
       "\n",
       "    .dataframe tbody tr th {\n",
       "        vertical-align: top;\n",
       "    }\n",
       "\n",
       "    .dataframe thead th {\n",
       "        text-align: right;\n",
       "    }\n",
       "</style>\n",
       "<table border=\"1\" class=\"dataframe\">\n",
       "  <thead>\n",
       "    <tr style=\"text-align: right;\">\n",
       "      <th></th>\n",
       "      <th>PARTY</th>\n",
       "      <th>WINNER</th>\n",
       "    </tr>\n",
       "  </thead>\n",
       "  <tbody>\n",
       "    <tr>\n",
       "      <th>0</th>\n",
       "      <td>BJP</td>\n",
       "      <td>300</td>\n",
       "    </tr>\n",
       "    <tr>\n",
       "      <th>1</th>\n",
       "      <td>INC</td>\n",
       "      <td>52</td>\n",
       "    </tr>\n",
       "    <tr>\n",
       "      <th>2</th>\n",
       "      <td>DMK</td>\n",
       "      <td>23</td>\n",
       "    </tr>\n",
       "    <tr>\n",
       "      <th>3</th>\n",
       "      <td>AITC</td>\n",
       "      <td>22</td>\n",
       "    </tr>\n",
       "    <tr>\n",
       "      <th>4</th>\n",
       "      <td>YSRCP</td>\n",
       "      <td>22</td>\n",
       "    </tr>\n",
       "    <tr>\n",
       "      <th>5</th>\n",
       "      <td>SHS</td>\n",
       "      <td>18</td>\n",
       "    </tr>\n",
       "    <tr>\n",
       "      <th>6</th>\n",
       "      <td>JD(U)</td>\n",
       "      <td>16</td>\n",
       "    </tr>\n",
       "    <tr>\n",
       "      <th>7</th>\n",
       "      <td>BJD</td>\n",
       "      <td>11</td>\n",
       "    </tr>\n",
       "    <tr>\n",
       "      <th>8</th>\n",
       "      <td>BSP</td>\n",
       "      <td>11</td>\n",
       "    </tr>\n",
       "    <tr>\n",
       "      <th>9</th>\n",
       "      <td>TRS</td>\n",
       "      <td>9</td>\n",
       "    </tr>\n",
       "    <tr>\n",
       "      <th>10</th>\n",
       "      <td>LJP</td>\n",
       "      <td>6</td>\n",
       "    </tr>\n",
       "    <tr>\n",
       "      <th>11</th>\n",
       "      <td>NCP</td>\n",
       "      <td>5</td>\n",
       "    </tr>\n",
       "    <tr>\n",
       "      <th>12</th>\n",
       "      <td>SP</td>\n",
       "      <td>5</td>\n",
       "    </tr>\n",
       "    <tr>\n",
       "      <th>13</th>\n",
       "      <td>CPI(M)</td>\n",
       "      <td>5</td>\n",
       "    </tr>\n",
       "    <tr>\n",
       "      <th>14</th>\n",
       "      <td>IND</td>\n",
       "      <td>4</td>\n",
       "    </tr>\n",
       "    <tr>\n",
       "      <th>15</th>\n",
       "      <td>IUML</td>\n",
       "      <td>3</td>\n",
       "    </tr>\n",
       "    <tr>\n",
       "      <th>16</th>\n",
       "      <td>TDP</td>\n",
       "      <td>3</td>\n",
       "    </tr>\n",
       "    <tr>\n",
       "      <th>17</th>\n",
       "      <td>JKN</td>\n",
       "      <td>3</td>\n",
       "    </tr>\n",
       "    <tr>\n",
       "      <th>18</th>\n",
       "      <td>ADAL</td>\n",
       "      <td>2</td>\n",
       "    </tr>\n",
       "    <tr>\n",
       "      <th>19</th>\n",
       "      <td>AIMIM</td>\n",
       "      <td>2</td>\n",
       "    </tr>\n",
       "    <tr>\n",
       "      <th>20</th>\n",
       "      <td>SAD</td>\n",
       "      <td>2</td>\n",
       "    </tr>\n",
       "    <tr>\n",
       "      <th>21</th>\n",
       "      <td>RLTP</td>\n",
       "      <td>1</td>\n",
       "    </tr>\n",
       "    <tr>\n",
       "      <th>22</th>\n",
       "      <td>SKM</td>\n",
       "      <td>1</td>\n",
       "    </tr>\n",
       "    <tr>\n",
       "      <th>23</th>\n",
       "      <td>VCK</td>\n",
       "      <td>1</td>\n",
       "    </tr>\n",
       "    <tr>\n",
       "      <th>24</th>\n",
       "      <td>RSP</td>\n",
       "      <td>1</td>\n",
       "    </tr>\n",
       "    <tr>\n",
       "      <th>25</th>\n",
       "      <td>AAP</td>\n",
       "      <td>1</td>\n",
       "    </tr>\n",
       "    <tr>\n",
       "      <th>26</th>\n",
       "      <td>NPF</td>\n",
       "      <td>1</td>\n",
       "    </tr>\n",
       "    <tr>\n",
       "      <th>27</th>\n",
       "      <td>NPEP</td>\n",
       "      <td>1</td>\n",
       "    </tr>\n",
       "    <tr>\n",
       "      <th>28</th>\n",
       "      <td>NDPP</td>\n",
       "      <td>1</td>\n",
       "    </tr>\n",
       "    <tr>\n",
       "      <th>29</th>\n",
       "      <td>MNF</td>\n",
       "      <td>1</td>\n",
       "    </tr>\n",
       "    <tr>\n",
       "      <th>30</th>\n",
       "      <td>KEC(M)</td>\n",
       "      <td>1</td>\n",
       "    </tr>\n",
       "    <tr>\n",
       "      <th>31</th>\n",
       "      <td>JD(S)</td>\n",
       "      <td>1</td>\n",
       "    </tr>\n",
       "    <tr>\n",
       "      <th>32</th>\n",
       "      <td>AJSUP</td>\n",
       "      <td>1</td>\n",
       "    </tr>\n",
       "    <tr>\n",
       "      <th>33</th>\n",
       "      <td>AIUDF</td>\n",
       "      <td>1</td>\n",
       "    </tr>\n",
       "    <tr>\n",
       "      <th>34</th>\n",
       "      <td>AIADMK</td>\n",
       "      <td>1</td>\n",
       "    </tr>\n",
       "    <tr>\n",
       "      <th>35</th>\n",
       "      <td>JMM</td>\n",
       "      <td>1</td>\n",
       "    </tr>\n",
       "  </tbody>\n",
       "</table>\n",
       "</div>"
      ],
      "text/plain": [
       "     PARTY  WINNER\n",
       "0      BJP     300\n",
       "1      INC      52\n",
       "2      DMK      23\n",
       "3     AITC      22\n",
       "4    YSRCP      22\n",
       "5      SHS      18\n",
       "6    JD(U)      16\n",
       "7      BJD      11\n",
       "8      BSP      11\n",
       "9      TRS       9\n",
       "10     LJP       6\n",
       "11     NCP       5\n",
       "12      SP       5\n",
       "13  CPI(M)       5\n",
       "14     IND       4\n",
       "15    IUML       3\n",
       "16     TDP       3\n",
       "17     JKN       3\n",
       "18    ADAL       2\n",
       "19   AIMIM       2\n",
       "20     SAD       2\n",
       "21    RLTP       1\n",
       "22     SKM       1\n",
       "23     VCK       1\n",
       "24     RSP       1\n",
       "25     AAP       1\n",
       "26     NPF       1\n",
       "27    NPEP       1\n",
       "28    NDPP       1\n",
       "29     MNF       1\n",
       "30  KEC(M)       1\n",
       "31   JD(S)       1\n",
       "32   AJSUP       1\n",
       "33   AIUDF       1\n",
       "34  AIADMK       1\n",
       "35     JMM       1"
      ]
     },
     "execution_count": 23,
     "metadata": {},
     "output_type": "execute_result"
    }
   ],
   "source": [
    "# Number of seats won by each party\n",
    "result = df[df['WINNER'] == 1].groupby('PARTY')['WINNER'].size()\n",
    "result_df = pd.DataFrame(data=result).sort_values(by=\"WINNER\", ascending=False)\n",
    "result_df.reset_index(level=0, inplace=True)\n",
    "result_df"
   ]
  },
  {
   "cell_type": "code",
   "execution_count": 24,
   "metadata": {},
   "outputs": [
    {
     "data": {
      "application/vnd.plotly.v1+json": {
       "config": {
        "plotlyServerURL": "https://plot.ly"
       },
       "data": [
        {
         "alignmentgroup": "True",
         "hovertemplate": "PARTY=%{x}<br>WINNER=%{marker.color}<extra></extra>",
         "legendgroup": "",
         "marker": {
          "color": [
           300,
           52,
           23,
           22,
           22,
           18,
           16,
           11,
           11,
           9,
           6,
           5,
           5,
           5,
           4,
           3,
           3,
           3,
           2,
           2,
           2,
           1,
           1,
           1,
           1,
           1,
           1,
           1,
           1,
           1,
           1,
           1,
           1,
           1,
           1,
           1
          ],
          "coloraxis": "coloraxis"
         },
         "name": "",
         "offsetgroup": "",
         "orientation": "v",
         "showlegend": false,
         "textposition": "auto",
         "type": "bar",
         "x": [
          "BJP",
          "INC",
          "DMK",
          "AITC",
          "YSRCP",
          "SHS",
          "JD(U)",
          "BJD",
          "BSP",
          "TRS",
          "LJP",
          "NCP",
          "SP",
          "CPI(M)",
          "IND",
          "IUML",
          "TDP",
          "JKN",
          "ADAL",
          "AIMIM",
          "SAD",
          "RLTP",
          "SKM",
          "VCK",
          "RSP",
          "AAP",
          "NPF",
          "NPEP",
          "NDPP",
          "MNF",
          "KEC(M)",
          "JD(S)",
          "AJSUP",
          "AIUDF",
          "AIADMK",
          "JMM"
         ],
         "xaxis": "x",
         "y": [
          300,
          52,
          23,
          22,
          22,
          18,
          16,
          11,
          11,
          9,
          6,
          5,
          5,
          5,
          4,
          3,
          3,
          3,
          2,
          2,
          2,
          1,
          1,
          1,
          1,
          1,
          1,
          1,
          1,
          1,
          1,
          1,
          1,
          1,
          1,
          1
         ],
         "yaxis": "y"
        }
       ],
       "layout": {
        "barmode": "relative",
        "coloraxis": {
         "colorbar": {
          "title": {
           "text": "WINNER"
          }
         },
         "colorscale": [
          [
           0,
           "#0d0887"
          ],
          [
           0.1111111111111111,
           "#46039f"
          ],
          [
           0.2222222222222222,
           "#7201a8"
          ],
          [
           0.3333333333333333,
           "#9c179e"
          ],
          [
           0.4444444444444444,
           "#bd3786"
          ],
          [
           0.5555555555555556,
           "#d8576b"
          ],
          [
           0.6666666666666666,
           "#ed7953"
          ],
          [
           0.7777777777777778,
           "#fb9f3a"
          ],
          [
           0.8888888888888888,
           "#fdca26"
          ],
          [
           1,
           "#f0f921"
          ]
         ]
        },
        "height": 500,
        "legend": {
         "tracegroupgap": 0
        },
        "margin": {
         "t": 60
        },
        "template": {
         "data": {
          "bar": [
           {
            "error_x": {
             "color": "#2a3f5f"
            },
            "error_y": {
             "color": "#2a3f5f"
            },
            "marker": {
             "line": {
              "color": "#E5ECF6",
              "width": 0.5
             }
            },
            "type": "bar"
           }
          ],
          "barpolar": [
           {
            "marker": {
             "line": {
              "color": "#E5ECF6",
              "width": 0.5
             }
            },
            "type": "barpolar"
           }
          ],
          "carpet": [
           {
            "aaxis": {
             "endlinecolor": "#2a3f5f",
             "gridcolor": "white",
             "linecolor": "white",
             "minorgridcolor": "white",
             "startlinecolor": "#2a3f5f"
            },
            "baxis": {
             "endlinecolor": "#2a3f5f",
             "gridcolor": "white",
             "linecolor": "white",
             "minorgridcolor": "white",
             "startlinecolor": "#2a3f5f"
            },
            "type": "carpet"
           }
          ],
          "choropleth": [
           {
            "colorbar": {
             "outlinewidth": 0,
             "ticks": ""
            },
            "type": "choropleth"
           }
          ],
          "contour": [
           {
            "colorbar": {
             "outlinewidth": 0,
             "ticks": ""
            },
            "colorscale": [
             [
              0,
              "#0d0887"
             ],
             [
              0.1111111111111111,
              "#46039f"
             ],
             [
              0.2222222222222222,
              "#7201a8"
             ],
             [
              0.3333333333333333,
              "#9c179e"
             ],
             [
              0.4444444444444444,
              "#bd3786"
             ],
             [
              0.5555555555555556,
              "#d8576b"
             ],
             [
              0.6666666666666666,
              "#ed7953"
             ],
             [
              0.7777777777777778,
              "#fb9f3a"
             ],
             [
              0.8888888888888888,
              "#fdca26"
             ],
             [
              1,
              "#f0f921"
             ]
            ],
            "type": "contour"
           }
          ],
          "contourcarpet": [
           {
            "colorbar": {
             "outlinewidth": 0,
             "ticks": ""
            },
            "type": "contourcarpet"
           }
          ],
          "heatmap": [
           {
            "colorbar": {
             "outlinewidth": 0,
             "ticks": ""
            },
            "colorscale": [
             [
              0,
              "#0d0887"
             ],
             [
              0.1111111111111111,
              "#46039f"
             ],
             [
              0.2222222222222222,
              "#7201a8"
             ],
             [
              0.3333333333333333,
              "#9c179e"
             ],
             [
              0.4444444444444444,
              "#bd3786"
             ],
             [
              0.5555555555555556,
              "#d8576b"
             ],
             [
              0.6666666666666666,
              "#ed7953"
             ],
             [
              0.7777777777777778,
              "#fb9f3a"
             ],
             [
              0.8888888888888888,
              "#fdca26"
             ],
             [
              1,
              "#f0f921"
             ]
            ],
            "type": "heatmap"
           }
          ],
          "heatmapgl": [
           {
            "colorbar": {
             "outlinewidth": 0,
             "ticks": ""
            },
            "colorscale": [
             [
              0,
              "#0d0887"
             ],
             [
              0.1111111111111111,
              "#46039f"
             ],
             [
              0.2222222222222222,
              "#7201a8"
             ],
             [
              0.3333333333333333,
              "#9c179e"
             ],
             [
              0.4444444444444444,
              "#bd3786"
             ],
             [
              0.5555555555555556,
              "#d8576b"
             ],
             [
              0.6666666666666666,
              "#ed7953"
             ],
             [
              0.7777777777777778,
              "#fb9f3a"
             ],
             [
              0.8888888888888888,
              "#fdca26"
             ],
             [
              1,
              "#f0f921"
             ]
            ],
            "type": "heatmapgl"
           }
          ],
          "histogram": [
           {
            "marker": {
             "colorbar": {
              "outlinewidth": 0,
              "ticks": ""
             }
            },
            "type": "histogram"
           }
          ],
          "histogram2d": [
           {
            "colorbar": {
             "outlinewidth": 0,
             "ticks": ""
            },
            "colorscale": [
             [
              0,
              "#0d0887"
             ],
             [
              0.1111111111111111,
              "#46039f"
             ],
             [
              0.2222222222222222,
              "#7201a8"
             ],
             [
              0.3333333333333333,
              "#9c179e"
             ],
             [
              0.4444444444444444,
              "#bd3786"
             ],
             [
              0.5555555555555556,
              "#d8576b"
             ],
             [
              0.6666666666666666,
              "#ed7953"
             ],
             [
              0.7777777777777778,
              "#fb9f3a"
             ],
             [
              0.8888888888888888,
              "#fdca26"
             ],
             [
              1,
              "#f0f921"
             ]
            ],
            "type": "histogram2d"
           }
          ],
          "histogram2dcontour": [
           {
            "colorbar": {
             "outlinewidth": 0,
             "ticks": ""
            },
            "colorscale": [
             [
              0,
              "#0d0887"
             ],
             [
              0.1111111111111111,
              "#46039f"
             ],
             [
              0.2222222222222222,
              "#7201a8"
             ],
             [
              0.3333333333333333,
              "#9c179e"
             ],
             [
              0.4444444444444444,
              "#bd3786"
             ],
             [
              0.5555555555555556,
              "#d8576b"
             ],
             [
              0.6666666666666666,
              "#ed7953"
             ],
             [
              0.7777777777777778,
              "#fb9f3a"
             ],
             [
              0.8888888888888888,
              "#fdca26"
             ],
             [
              1,
              "#f0f921"
             ]
            ],
            "type": "histogram2dcontour"
           }
          ],
          "mesh3d": [
           {
            "colorbar": {
             "outlinewidth": 0,
             "ticks": ""
            },
            "type": "mesh3d"
           }
          ],
          "parcoords": [
           {
            "line": {
             "colorbar": {
              "outlinewidth": 0,
              "ticks": ""
             }
            },
            "type": "parcoords"
           }
          ],
          "pie": [
           {
            "automargin": true,
            "type": "pie"
           }
          ],
          "scatter": [
           {
            "marker": {
             "colorbar": {
              "outlinewidth": 0,
              "ticks": ""
             }
            },
            "type": "scatter"
           }
          ],
          "scatter3d": [
           {
            "line": {
             "colorbar": {
              "outlinewidth": 0,
              "ticks": ""
             }
            },
            "marker": {
             "colorbar": {
              "outlinewidth": 0,
              "ticks": ""
             }
            },
            "type": "scatter3d"
           }
          ],
          "scattercarpet": [
           {
            "marker": {
             "colorbar": {
              "outlinewidth": 0,
              "ticks": ""
             }
            },
            "type": "scattercarpet"
           }
          ],
          "scattergeo": [
           {
            "marker": {
             "colorbar": {
              "outlinewidth": 0,
              "ticks": ""
             }
            },
            "type": "scattergeo"
           }
          ],
          "scattergl": [
           {
            "marker": {
             "colorbar": {
              "outlinewidth": 0,
              "ticks": ""
             }
            },
            "type": "scattergl"
           }
          ],
          "scattermapbox": [
           {
            "marker": {
             "colorbar": {
              "outlinewidth": 0,
              "ticks": ""
             }
            },
            "type": "scattermapbox"
           }
          ],
          "scatterpolar": [
           {
            "marker": {
             "colorbar": {
              "outlinewidth": 0,
              "ticks": ""
             }
            },
            "type": "scatterpolar"
           }
          ],
          "scatterpolargl": [
           {
            "marker": {
             "colorbar": {
              "outlinewidth": 0,
              "ticks": ""
             }
            },
            "type": "scatterpolargl"
           }
          ],
          "scatterternary": [
           {
            "marker": {
             "colorbar": {
              "outlinewidth": 0,
              "ticks": ""
             }
            },
            "type": "scatterternary"
           }
          ],
          "surface": [
           {
            "colorbar": {
             "outlinewidth": 0,
             "ticks": ""
            },
            "colorscale": [
             [
              0,
              "#0d0887"
             ],
             [
              0.1111111111111111,
              "#46039f"
             ],
             [
              0.2222222222222222,
              "#7201a8"
             ],
             [
              0.3333333333333333,
              "#9c179e"
             ],
             [
              0.4444444444444444,
              "#bd3786"
             ],
             [
              0.5555555555555556,
              "#d8576b"
             ],
             [
              0.6666666666666666,
              "#ed7953"
             ],
             [
              0.7777777777777778,
              "#fb9f3a"
             ],
             [
              0.8888888888888888,
              "#fdca26"
             ],
             [
              1,
              "#f0f921"
             ]
            ],
            "type": "surface"
           }
          ],
          "table": [
           {
            "cells": {
             "fill": {
              "color": "#EBF0F8"
             },
             "line": {
              "color": "white"
             }
            },
            "header": {
             "fill": {
              "color": "#C8D4E3"
             },
             "line": {
              "color": "white"
             }
            },
            "type": "table"
           }
          ]
         },
         "layout": {
          "annotationdefaults": {
           "arrowcolor": "#2a3f5f",
           "arrowhead": 0,
           "arrowwidth": 1
          },
          "coloraxis": {
           "colorbar": {
            "outlinewidth": 0,
            "ticks": ""
           }
          },
          "colorscale": {
           "diverging": [
            [
             0,
             "#8e0152"
            ],
            [
             0.1,
             "#c51b7d"
            ],
            [
             0.2,
             "#de77ae"
            ],
            [
             0.3,
             "#f1b6da"
            ],
            [
             0.4,
             "#fde0ef"
            ],
            [
             0.5,
             "#f7f7f7"
            ],
            [
             0.6,
             "#e6f5d0"
            ],
            [
             0.7,
             "#b8e186"
            ],
            [
             0.8,
             "#7fbc41"
            ],
            [
             0.9,
             "#4d9221"
            ],
            [
             1,
             "#276419"
            ]
           ],
           "sequential": [
            [
             0,
             "#0d0887"
            ],
            [
             0.1111111111111111,
             "#46039f"
            ],
            [
             0.2222222222222222,
             "#7201a8"
            ],
            [
             0.3333333333333333,
             "#9c179e"
            ],
            [
             0.4444444444444444,
             "#bd3786"
            ],
            [
             0.5555555555555556,
             "#d8576b"
            ],
            [
             0.6666666666666666,
             "#ed7953"
            ],
            [
             0.7777777777777778,
             "#fb9f3a"
            ],
            [
             0.8888888888888888,
             "#fdca26"
            ],
            [
             1,
             "#f0f921"
            ]
           ],
           "sequentialminus": [
            [
             0,
             "#0d0887"
            ],
            [
             0.1111111111111111,
             "#46039f"
            ],
            [
             0.2222222222222222,
             "#7201a8"
            ],
            [
             0.3333333333333333,
             "#9c179e"
            ],
            [
             0.4444444444444444,
             "#bd3786"
            ],
            [
             0.5555555555555556,
             "#d8576b"
            ],
            [
             0.6666666666666666,
             "#ed7953"
            ],
            [
             0.7777777777777778,
             "#fb9f3a"
            ],
            [
             0.8888888888888888,
             "#fdca26"
            ],
            [
             1,
             "#f0f921"
            ]
           ]
          },
          "colorway": [
           "#636efa",
           "#EF553B",
           "#00cc96",
           "#ab63fa",
           "#FFA15A",
           "#19d3f3",
           "#FF6692",
           "#B6E880",
           "#FF97FF",
           "#FECB52"
          ],
          "font": {
           "color": "#2a3f5f"
          },
          "geo": {
           "bgcolor": "white",
           "lakecolor": "white",
           "landcolor": "#E5ECF6",
           "showlakes": true,
           "showland": true,
           "subunitcolor": "white"
          },
          "hoverlabel": {
           "align": "left"
          },
          "hovermode": "closest",
          "mapbox": {
           "style": "light"
          },
          "paper_bgcolor": "white",
          "plot_bgcolor": "#E5ECF6",
          "polar": {
           "angularaxis": {
            "gridcolor": "white",
            "linecolor": "white",
            "ticks": ""
           },
           "bgcolor": "#E5ECF6",
           "radialaxis": {
            "gridcolor": "white",
            "linecolor": "white",
            "ticks": ""
           }
          },
          "scene": {
           "xaxis": {
            "backgroundcolor": "#E5ECF6",
            "gridcolor": "white",
            "gridwidth": 2,
            "linecolor": "white",
            "showbackground": true,
            "ticks": "",
            "zerolinecolor": "white"
           },
           "yaxis": {
            "backgroundcolor": "#E5ECF6",
            "gridcolor": "white",
            "gridwidth": 2,
            "linecolor": "white",
            "showbackground": true,
            "ticks": "",
            "zerolinecolor": "white"
           },
           "zaxis": {
            "backgroundcolor": "#E5ECF6",
            "gridcolor": "white",
            "gridwidth": 2,
            "linecolor": "white",
            "showbackground": true,
            "ticks": "",
            "zerolinecolor": "white"
           }
          },
          "shapedefaults": {
           "line": {
            "color": "#2a3f5f"
           }
          },
          "ternary": {
           "aaxis": {
            "gridcolor": "white",
            "linecolor": "white",
            "ticks": ""
           },
           "baxis": {
            "gridcolor": "white",
            "linecolor": "white",
            "ticks": ""
           },
           "bgcolor": "#E5ECF6",
           "caxis": {
            "gridcolor": "white",
            "linecolor": "white",
            "ticks": ""
           }
          },
          "title": {
           "x": 0.05
          },
          "xaxis": {
           "automargin": true,
           "gridcolor": "white",
           "linecolor": "white",
           "ticks": "",
           "title": {
            "standoff": 15
           },
           "zerolinecolor": "white",
           "zerolinewidth": 2
          },
          "yaxis": {
           "automargin": true,
           "gridcolor": "white",
           "linecolor": "white",
           "ticks": "",
           "title": {
            "standoff": 15
           },
           "zerolinecolor": "white",
           "zerolinewidth": 2
          }
         }
        },
        "xaxis": {
         "anchor": "y",
         "domain": [
          0,
          1
         ],
         "title": {
          "text": "PARTY"
         }
        },
        "yaxis": {
         "anchor": "x",
         "domain": [
          0,
          1
         ],
         "title": {
          "text": "WINNER"
         }
        }
       }
      },
      "text/html": [
       "<div>                            <div id=\"8851e9f9-b692-41c3-9a67-fab74cc82804\" class=\"plotly-graph-div\" style=\"height:500px; width:100%;\"></div>            <script type=\"text/javascript\">                require([\"plotly\"], function(Plotly) {                    window.PLOTLYENV=window.PLOTLYENV || {};                                    if (document.getElementById(\"8851e9f9-b692-41c3-9a67-fab74cc82804\")) {                    Plotly.newPlot(                        \"8851e9f9-b692-41c3-9a67-fab74cc82804\",                        [{\"alignmentgroup\": \"True\", \"hovertemplate\": \"PARTY=%{x}<br>WINNER=%{marker.color}<extra></extra>\", \"legendgroup\": \"\", \"marker\": {\"color\": [300, 52, 23, 22, 22, 18, 16, 11, 11, 9, 6, 5, 5, 5, 4, 3, 3, 3, 2, 2, 2, 1, 1, 1, 1, 1, 1, 1, 1, 1, 1, 1, 1, 1, 1, 1], \"coloraxis\": \"coloraxis\"}, \"name\": \"\", \"offsetgroup\": \"\", \"orientation\": \"v\", \"showlegend\": false, \"textposition\": \"auto\", \"type\": \"bar\", \"x\": [\"BJP\", \"INC\", \"DMK\", \"AITC\", \"YSRCP\", \"SHS\", \"JD(U)\", \"BJD\", \"BSP\", \"TRS\", \"LJP\", \"NCP\", \"SP\", \"CPI(M)\", \"IND\", \"IUML\", \"TDP\", \"JKN\", \"ADAL\", \"AIMIM\", \"SAD\", \"RLTP\", \"SKM\", \"VCK\", \"RSP\", \"AAP\", \"NPF\", \"NPEP\", \"NDPP\", \"MNF\", \"KEC(M)\", \"JD(S)\", \"AJSUP\", \"AIUDF\", \"AIADMK\", \"JMM\"], \"xaxis\": \"x\", \"y\": [300, 52, 23, 22, 22, 18, 16, 11, 11, 9, 6, 5, 5, 5, 4, 3, 3, 3, 2, 2, 2, 1, 1, 1, 1, 1, 1, 1, 1, 1, 1, 1, 1, 1, 1, 1], \"yaxis\": \"y\"}],                        {\"barmode\": \"relative\", \"coloraxis\": {\"colorbar\": {\"title\": {\"text\": \"WINNER\"}}, \"colorscale\": [[0.0, \"#0d0887\"], [0.1111111111111111, \"#46039f\"], [0.2222222222222222, \"#7201a8\"], [0.3333333333333333, \"#9c179e\"], [0.4444444444444444, \"#bd3786\"], [0.5555555555555556, \"#d8576b\"], [0.6666666666666666, \"#ed7953\"], [0.7777777777777778, \"#fb9f3a\"], [0.8888888888888888, \"#fdca26\"], [1.0, \"#f0f921\"]]}, \"height\": 500, \"legend\": {\"tracegroupgap\": 0}, \"margin\": {\"t\": 60}, \"template\": {\"data\": {\"bar\": [{\"error_x\": {\"color\": \"#2a3f5f\"}, \"error_y\": {\"color\": \"#2a3f5f\"}, \"marker\": {\"line\": {\"color\": \"#E5ECF6\", \"width\": 0.5}}, \"type\": \"bar\"}], \"barpolar\": [{\"marker\": {\"line\": {\"color\": \"#E5ECF6\", \"width\": 0.5}}, \"type\": \"barpolar\"}], \"carpet\": [{\"aaxis\": {\"endlinecolor\": \"#2a3f5f\", \"gridcolor\": \"white\", \"linecolor\": \"white\", \"minorgridcolor\": \"white\", \"startlinecolor\": \"#2a3f5f\"}, \"baxis\": {\"endlinecolor\": \"#2a3f5f\", \"gridcolor\": \"white\", \"linecolor\": \"white\", \"minorgridcolor\": \"white\", \"startlinecolor\": \"#2a3f5f\"}, \"type\": \"carpet\"}], \"choropleth\": [{\"colorbar\": {\"outlinewidth\": 0, \"ticks\": \"\"}, \"type\": \"choropleth\"}], \"contour\": [{\"colorbar\": {\"outlinewidth\": 0, \"ticks\": \"\"}, \"colorscale\": [[0.0, \"#0d0887\"], [0.1111111111111111, \"#46039f\"], [0.2222222222222222, \"#7201a8\"], [0.3333333333333333, \"#9c179e\"], [0.4444444444444444, \"#bd3786\"], [0.5555555555555556, \"#d8576b\"], [0.6666666666666666, \"#ed7953\"], [0.7777777777777778, \"#fb9f3a\"], [0.8888888888888888, \"#fdca26\"], [1.0, \"#f0f921\"]], \"type\": \"contour\"}], \"contourcarpet\": [{\"colorbar\": {\"outlinewidth\": 0, \"ticks\": \"\"}, \"type\": \"contourcarpet\"}], \"heatmap\": [{\"colorbar\": {\"outlinewidth\": 0, \"ticks\": \"\"}, \"colorscale\": [[0.0, \"#0d0887\"], [0.1111111111111111, \"#46039f\"], [0.2222222222222222, \"#7201a8\"], [0.3333333333333333, \"#9c179e\"], [0.4444444444444444, \"#bd3786\"], [0.5555555555555556, \"#d8576b\"], [0.6666666666666666, \"#ed7953\"], [0.7777777777777778, \"#fb9f3a\"], [0.8888888888888888, \"#fdca26\"], [1.0, \"#f0f921\"]], \"type\": \"heatmap\"}], \"heatmapgl\": [{\"colorbar\": {\"outlinewidth\": 0, \"ticks\": \"\"}, \"colorscale\": [[0.0, \"#0d0887\"], [0.1111111111111111, \"#46039f\"], [0.2222222222222222, \"#7201a8\"], [0.3333333333333333, \"#9c179e\"], [0.4444444444444444, \"#bd3786\"], [0.5555555555555556, \"#d8576b\"], [0.6666666666666666, \"#ed7953\"], [0.7777777777777778, \"#fb9f3a\"], [0.8888888888888888, \"#fdca26\"], [1.0, \"#f0f921\"]], \"type\": \"heatmapgl\"}], \"histogram\": [{\"marker\": {\"colorbar\": {\"outlinewidth\": 0, \"ticks\": \"\"}}, \"type\": \"histogram\"}], \"histogram2d\": [{\"colorbar\": {\"outlinewidth\": 0, \"ticks\": \"\"}, \"colorscale\": [[0.0, \"#0d0887\"], [0.1111111111111111, \"#46039f\"], [0.2222222222222222, \"#7201a8\"], [0.3333333333333333, \"#9c179e\"], [0.4444444444444444, \"#bd3786\"], [0.5555555555555556, \"#d8576b\"], [0.6666666666666666, \"#ed7953\"], [0.7777777777777778, \"#fb9f3a\"], [0.8888888888888888, \"#fdca26\"], [1.0, \"#f0f921\"]], \"type\": \"histogram2d\"}], \"histogram2dcontour\": [{\"colorbar\": {\"outlinewidth\": 0, \"ticks\": \"\"}, \"colorscale\": [[0.0, \"#0d0887\"], [0.1111111111111111, \"#46039f\"], [0.2222222222222222, \"#7201a8\"], [0.3333333333333333, \"#9c179e\"], [0.4444444444444444, \"#bd3786\"], [0.5555555555555556, \"#d8576b\"], [0.6666666666666666, \"#ed7953\"], [0.7777777777777778, \"#fb9f3a\"], [0.8888888888888888, \"#fdca26\"], [1.0, \"#f0f921\"]], \"type\": \"histogram2dcontour\"}], \"mesh3d\": [{\"colorbar\": {\"outlinewidth\": 0, \"ticks\": \"\"}, \"type\": \"mesh3d\"}], \"parcoords\": [{\"line\": {\"colorbar\": {\"outlinewidth\": 0, \"ticks\": \"\"}}, \"type\": \"parcoords\"}], \"pie\": [{\"automargin\": true, \"type\": \"pie\"}], \"scatter\": [{\"marker\": {\"colorbar\": {\"outlinewidth\": 0, \"ticks\": \"\"}}, \"type\": \"scatter\"}], \"scatter3d\": [{\"line\": {\"colorbar\": {\"outlinewidth\": 0, \"ticks\": \"\"}}, \"marker\": {\"colorbar\": {\"outlinewidth\": 0, \"ticks\": \"\"}}, \"type\": \"scatter3d\"}], \"scattercarpet\": [{\"marker\": {\"colorbar\": {\"outlinewidth\": 0, \"ticks\": \"\"}}, \"type\": \"scattercarpet\"}], \"scattergeo\": [{\"marker\": {\"colorbar\": {\"outlinewidth\": 0, \"ticks\": \"\"}}, \"type\": \"scattergeo\"}], \"scattergl\": [{\"marker\": {\"colorbar\": {\"outlinewidth\": 0, \"ticks\": \"\"}}, \"type\": \"scattergl\"}], \"scattermapbox\": [{\"marker\": {\"colorbar\": {\"outlinewidth\": 0, \"ticks\": \"\"}}, \"type\": \"scattermapbox\"}], \"scatterpolar\": [{\"marker\": {\"colorbar\": {\"outlinewidth\": 0, \"ticks\": \"\"}}, \"type\": \"scatterpolar\"}], \"scatterpolargl\": [{\"marker\": {\"colorbar\": {\"outlinewidth\": 0, \"ticks\": \"\"}}, \"type\": \"scatterpolargl\"}], \"scatterternary\": [{\"marker\": {\"colorbar\": {\"outlinewidth\": 0, \"ticks\": \"\"}}, \"type\": \"scatterternary\"}], \"surface\": [{\"colorbar\": {\"outlinewidth\": 0, \"ticks\": \"\"}, \"colorscale\": [[0.0, \"#0d0887\"], [0.1111111111111111, \"#46039f\"], [0.2222222222222222, \"#7201a8\"], [0.3333333333333333, \"#9c179e\"], [0.4444444444444444, \"#bd3786\"], [0.5555555555555556, \"#d8576b\"], [0.6666666666666666, \"#ed7953\"], [0.7777777777777778, \"#fb9f3a\"], [0.8888888888888888, \"#fdca26\"], [1.0, \"#f0f921\"]], \"type\": \"surface\"}], \"table\": [{\"cells\": {\"fill\": {\"color\": \"#EBF0F8\"}, \"line\": {\"color\": \"white\"}}, \"header\": {\"fill\": {\"color\": \"#C8D4E3\"}, \"line\": {\"color\": \"white\"}}, \"type\": \"table\"}]}, \"layout\": {\"annotationdefaults\": {\"arrowcolor\": \"#2a3f5f\", \"arrowhead\": 0, \"arrowwidth\": 1}, \"coloraxis\": {\"colorbar\": {\"outlinewidth\": 0, \"ticks\": \"\"}}, \"colorscale\": {\"diverging\": [[0, \"#8e0152\"], [0.1, \"#c51b7d\"], [0.2, \"#de77ae\"], [0.3, \"#f1b6da\"], [0.4, \"#fde0ef\"], [0.5, \"#f7f7f7\"], [0.6, \"#e6f5d0\"], [0.7, \"#b8e186\"], [0.8, \"#7fbc41\"], [0.9, \"#4d9221\"], [1, \"#276419\"]], \"sequential\": [[0.0, \"#0d0887\"], [0.1111111111111111, \"#46039f\"], [0.2222222222222222, \"#7201a8\"], [0.3333333333333333, \"#9c179e\"], [0.4444444444444444, \"#bd3786\"], [0.5555555555555556, \"#d8576b\"], [0.6666666666666666, \"#ed7953\"], [0.7777777777777778, \"#fb9f3a\"], [0.8888888888888888, \"#fdca26\"], [1.0, \"#f0f921\"]], \"sequentialminus\": [[0.0, \"#0d0887\"], [0.1111111111111111, \"#46039f\"], [0.2222222222222222, \"#7201a8\"], [0.3333333333333333, \"#9c179e\"], [0.4444444444444444, \"#bd3786\"], [0.5555555555555556, \"#d8576b\"], [0.6666666666666666, \"#ed7953\"], [0.7777777777777778, \"#fb9f3a\"], [0.8888888888888888, \"#fdca26\"], [1.0, \"#f0f921\"]]}, \"colorway\": [\"#636efa\", \"#EF553B\", \"#00cc96\", \"#ab63fa\", \"#FFA15A\", \"#19d3f3\", \"#FF6692\", \"#B6E880\", \"#FF97FF\", \"#FECB52\"], \"font\": {\"color\": \"#2a3f5f\"}, \"geo\": {\"bgcolor\": \"white\", \"lakecolor\": \"white\", \"landcolor\": \"#E5ECF6\", \"showlakes\": true, \"showland\": true, \"subunitcolor\": \"white\"}, \"hoverlabel\": {\"align\": \"left\"}, \"hovermode\": \"closest\", \"mapbox\": {\"style\": \"light\"}, \"paper_bgcolor\": \"white\", \"plot_bgcolor\": \"#E5ECF6\", \"polar\": {\"angularaxis\": {\"gridcolor\": \"white\", \"linecolor\": \"white\", \"ticks\": \"\"}, \"bgcolor\": \"#E5ECF6\", \"radialaxis\": {\"gridcolor\": \"white\", \"linecolor\": \"white\", \"ticks\": \"\"}}, \"scene\": {\"xaxis\": {\"backgroundcolor\": \"#E5ECF6\", \"gridcolor\": \"white\", \"gridwidth\": 2, \"linecolor\": \"white\", \"showbackground\": true, \"ticks\": \"\", \"zerolinecolor\": \"white\"}, \"yaxis\": {\"backgroundcolor\": \"#E5ECF6\", \"gridcolor\": \"white\", \"gridwidth\": 2, \"linecolor\": \"white\", \"showbackground\": true, \"ticks\": \"\", \"zerolinecolor\": \"white\"}, \"zaxis\": {\"backgroundcolor\": \"#E5ECF6\", \"gridcolor\": \"white\", \"gridwidth\": 2, \"linecolor\": \"white\", \"showbackground\": true, \"ticks\": \"\", \"zerolinecolor\": \"white\"}}, \"shapedefaults\": {\"line\": {\"color\": \"#2a3f5f\"}}, \"ternary\": {\"aaxis\": {\"gridcolor\": \"white\", \"linecolor\": \"white\", \"ticks\": \"\"}, \"baxis\": {\"gridcolor\": \"white\", \"linecolor\": \"white\", \"ticks\": \"\"}, \"bgcolor\": \"#E5ECF6\", \"caxis\": {\"gridcolor\": \"white\", \"linecolor\": \"white\", \"ticks\": \"\"}}, \"title\": {\"x\": 0.05}, \"xaxis\": {\"automargin\": true, \"gridcolor\": \"white\", \"linecolor\": \"white\", \"ticks\": \"\", \"title\": {\"standoff\": 15}, \"zerolinecolor\": \"white\", \"zerolinewidth\": 2}, \"yaxis\": {\"automargin\": true, \"gridcolor\": \"white\", \"linecolor\": \"white\", \"ticks\": \"\", \"title\": {\"standoff\": 15}, \"zerolinecolor\": \"white\", \"zerolinewidth\": 2}}}, \"xaxis\": {\"anchor\": \"y\", \"domain\": [0.0, 1.0], \"title\": {\"text\": \"PARTY\"}}, \"yaxis\": {\"anchor\": \"x\", \"domain\": [0.0, 1.0], \"title\": {\"text\": \"WINNER\"}}},                        {\"responsive\": true}                    ).then(function(){\n",
       "                            \n",
       "var gd = document.getElementById('8851e9f9-b692-41c3-9a67-fab74cc82804');\n",
       "var x = new MutationObserver(function (mutations, observer) {{\n",
       "        var display = window.getComputedStyle(gd).display;\n",
       "        if (!display || display === 'none') {{\n",
       "            console.log([gd, 'removed!']);\n",
       "            Plotly.purge(gd);\n",
       "            observer.disconnect();\n",
       "        }}\n",
       "}});\n",
       "\n",
       "// Listen for the removal of the full notebook cells\n",
       "var notebookContainer = gd.closest('#notebook-container');\n",
       "if (notebookContainer) {{\n",
       "    x.observe(notebookContainer, {childList: true});\n",
       "}}\n",
       "\n",
       "// Listen for the clearing of the current output cell\n",
       "var outputEl = gd.closest('.output');\n",
       "if (outputEl) {{\n",
       "    x.observe(outputEl, {childList: true});\n",
       "}}\n",
       "\n",
       "                        })                };                });            </script>        </div>"
      ]
     },
     "metadata": {},
     "output_type": "display_data"
    }
   ],
   "source": [
    "# Visualize the party-wise election results\n",
    "result_fig = px.bar(result_df, x=result_df['PARTY'], y=result_df[\"WINNER\"], color='WINNER', height=500)\n",
    "result_fig.show()"
   ]
  },
  {
   "cell_type": "markdown",
   "metadata": {},
   "source": [
    "### 5.2 Party-wise Vote Share"
   ]
  },
  {
   "cell_type": "code",
   "execution_count": 25,
   "metadata": {},
   "outputs": [
    {
     "data": {
      "text/html": [
       "<div>\n",
       "<style scoped>\n",
       "    .dataframe tbody tr th:only-of-type {\n",
       "        vertical-align: middle;\n",
       "    }\n",
       "\n",
       "    .dataframe tbody tr th {\n",
       "        vertical-align: top;\n",
       "    }\n",
       "\n",
       "    .dataframe thead th {\n",
       "        text-align: right;\n",
       "    }\n",
       "</style>\n",
       "<table border=\"1\" class=\"dataframe\">\n",
       "  <thead>\n",
       "    <tr style=\"text-align: right;\">\n",
       "      <th></th>\n",
       "      <th>PARTY</th>\n",
       "      <th>TOTAL VOTES</th>\n",
       "    </tr>\n",
       "  </thead>\n",
       "  <tbody>\n",
       "    <tr>\n",
       "      <th>0</th>\n",
       "      <td>BJP</td>\n",
       "      <td>228938556</td>\n",
       "    </tr>\n",
       "    <tr>\n",
       "      <th>1</th>\n",
       "      <td>INC</td>\n",
       "      <td>119418722</td>\n",
       "    </tr>\n",
       "    <tr>\n",
       "      <th>2</th>\n",
       "      <td>AITC</td>\n",
       "      <td>24832104</td>\n",
       "    </tr>\n",
       "    <tr>\n",
       "      <th>3</th>\n",
       "      <td>BSP</td>\n",
       "      <td>20808194</td>\n",
       "    </tr>\n",
       "    <tr>\n",
       "      <th>4</th>\n",
       "      <td>SP</td>\n",
       "      <td>15616282</td>\n",
       "    </tr>\n",
       "    <tr>\n",
       "      <th>...</th>\n",
       "      <td>...</td>\n",
       "      <td>...</td>\n",
       "    </tr>\n",
       "    <tr>\n",
       "      <th>127</th>\n",
       "      <td>AKBMP</td>\n",
       "      <td>10127</td>\n",
       "    </tr>\n",
       "    <tr>\n",
       "      <th>128</th>\n",
       "      <td>ABSKP</td>\n",
       "      <td>9912</td>\n",
       "    </tr>\n",
       "    <tr>\n",
       "      <th>129</th>\n",
       "      <td>BBMP</td>\n",
       "      <td>9894</td>\n",
       "    </tr>\n",
       "    <tr>\n",
       "      <th>130</th>\n",
       "      <td>BARESP</td>\n",
       "      <td>9565</td>\n",
       "    </tr>\n",
       "    <tr>\n",
       "      <th>131</th>\n",
       "      <td>ravp</td>\n",
       "      <td>9109</td>\n",
       "    </tr>\n",
       "  </tbody>\n",
       "</table>\n",
       "<p>132 rows × 2 columns</p>\n",
       "</div>"
      ],
      "text/plain": [
       "      PARTY  TOTAL VOTES\n",
       "0       BJP    228938556\n",
       "1       INC    119418722\n",
       "2      AITC     24832104\n",
       "3       BSP     20808194\n",
       "4        SP     15616282\n",
       "..      ...          ...\n",
       "127   AKBMP        10127\n",
       "128   ABSKP         9912\n",
       "129    BBMP         9894\n",
       "130  BARESP         9565\n",
       "131    ravp         9109\n",
       "\n",
       "[132 rows x 2 columns]"
      ]
     },
     "execution_count": 25,
     "metadata": {},
     "output_type": "execute_result"
    }
   ],
   "source": [
    "# Create a dataframe with total number of votes won by each party\n",
    "result = df[df['WINNER'] == 1].groupby('PARTY')['WINNER'].size()\n",
    "vote_Share = df.groupby('PARTY')['TOTAL VOTES'].sum()\n",
    "vote_Share_df = pd.DataFrame(data=vote_Share, index=vote_Share.index).sort_values(by=\"TOTAL VOTES\", ascending=False)\n",
    "vote_Share_df.reset_index(level=0, inplace=True)\n",
    "vote_Share_df"
   ]
  },
  {
   "cell_type": "code",
   "execution_count": 26,
   "metadata": {},
   "outputs": [
    {
     "data": {
      "application/vnd.plotly.v1+json": {
       "config": {
        "plotlyServerURL": "https://plot.ly"
       },
       "data": [
        {
         "labels": [
          "AITC",
          "BJP",
          "BSP",
          "INC",
          "Other",
          "SP"
         ],
         "marker": {
          "line": {
           "color": "#000000",
           "width": 1
          }
         },
         "type": "pie",
         "values": [
          24832104,
          228938556,
          20808194,
          119418722,
          180238181,
          15616282
         ]
        }
       ],
       "layout": {
        "template": {
         "data": {
          "bar": [
           {
            "error_x": {
             "color": "#2a3f5f"
            },
            "error_y": {
             "color": "#2a3f5f"
            },
            "marker": {
             "line": {
              "color": "#E5ECF6",
              "width": 0.5
             }
            },
            "type": "bar"
           }
          ],
          "barpolar": [
           {
            "marker": {
             "line": {
              "color": "#E5ECF6",
              "width": 0.5
             }
            },
            "type": "barpolar"
           }
          ],
          "carpet": [
           {
            "aaxis": {
             "endlinecolor": "#2a3f5f",
             "gridcolor": "white",
             "linecolor": "white",
             "minorgridcolor": "white",
             "startlinecolor": "#2a3f5f"
            },
            "baxis": {
             "endlinecolor": "#2a3f5f",
             "gridcolor": "white",
             "linecolor": "white",
             "minorgridcolor": "white",
             "startlinecolor": "#2a3f5f"
            },
            "type": "carpet"
           }
          ],
          "choropleth": [
           {
            "colorbar": {
             "outlinewidth": 0,
             "ticks": ""
            },
            "type": "choropleth"
           }
          ],
          "contour": [
           {
            "colorbar": {
             "outlinewidth": 0,
             "ticks": ""
            },
            "colorscale": [
             [
              0,
              "#0d0887"
             ],
             [
              0.1111111111111111,
              "#46039f"
             ],
             [
              0.2222222222222222,
              "#7201a8"
             ],
             [
              0.3333333333333333,
              "#9c179e"
             ],
             [
              0.4444444444444444,
              "#bd3786"
             ],
             [
              0.5555555555555556,
              "#d8576b"
             ],
             [
              0.6666666666666666,
              "#ed7953"
             ],
             [
              0.7777777777777778,
              "#fb9f3a"
             ],
             [
              0.8888888888888888,
              "#fdca26"
             ],
             [
              1,
              "#f0f921"
             ]
            ],
            "type": "contour"
           }
          ],
          "contourcarpet": [
           {
            "colorbar": {
             "outlinewidth": 0,
             "ticks": ""
            },
            "type": "contourcarpet"
           }
          ],
          "heatmap": [
           {
            "colorbar": {
             "outlinewidth": 0,
             "ticks": ""
            },
            "colorscale": [
             [
              0,
              "#0d0887"
             ],
             [
              0.1111111111111111,
              "#46039f"
             ],
             [
              0.2222222222222222,
              "#7201a8"
             ],
             [
              0.3333333333333333,
              "#9c179e"
             ],
             [
              0.4444444444444444,
              "#bd3786"
             ],
             [
              0.5555555555555556,
              "#d8576b"
             ],
             [
              0.6666666666666666,
              "#ed7953"
             ],
             [
              0.7777777777777778,
              "#fb9f3a"
             ],
             [
              0.8888888888888888,
              "#fdca26"
             ],
             [
              1,
              "#f0f921"
             ]
            ],
            "type": "heatmap"
           }
          ],
          "heatmapgl": [
           {
            "colorbar": {
             "outlinewidth": 0,
             "ticks": ""
            },
            "colorscale": [
             [
              0,
              "#0d0887"
             ],
             [
              0.1111111111111111,
              "#46039f"
             ],
             [
              0.2222222222222222,
              "#7201a8"
             ],
             [
              0.3333333333333333,
              "#9c179e"
             ],
             [
              0.4444444444444444,
              "#bd3786"
             ],
             [
              0.5555555555555556,
              "#d8576b"
             ],
             [
              0.6666666666666666,
              "#ed7953"
             ],
             [
              0.7777777777777778,
              "#fb9f3a"
             ],
             [
              0.8888888888888888,
              "#fdca26"
             ],
             [
              1,
              "#f0f921"
             ]
            ],
            "type": "heatmapgl"
           }
          ],
          "histogram": [
           {
            "marker": {
             "colorbar": {
              "outlinewidth": 0,
              "ticks": ""
             }
            },
            "type": "histogram"
           }
          ],
          "histogram2d": [
           {
            "colorbar": {
             "outlinewidth": 0,
             "ticks": ""
            },
            "colorscale": [
             [
              0,
              "#0d0887"
             ],
             [
              0.1111111111111111,
              "#46039f"
             ],
             [
              0.2222222222222222,
              "#7201a8"
             ],
             [
              0.3333333333333333,
              "#9c179e"
             ],
             [
              0.4444444444444444,
              "#bd3786"
             ],
             [
              0.5555555555555556,
              "#d8576b"
             ],
             [
              0.6666666666666666,
              "#ed7953"
             ],
             [
              0.7777777777777778,
              "#fb9f3a"
             ],
             [
              0.8888888888888888,
              "#fdca26"
             ],
             [
              1,
              "#f0f921"
             ]
            ],
            "type": "histogram2d"
           }
          ],
          "histogram2dcontour": [
           {
            "colorbar": {
             "outlinewidth": 0,
             "ticks": ""
            },
            "colorscale": [
             [
              0,
              "#0d0887"
             ],
             [
              0.1111111111111111,
              "#46039f"
             ],
             [
              0.2222222222222222,
              "#7201a8"
             ],
             [
              0.3333333333333333,
              "#9c179e"
             ],
             [
              0.4444444444444444,
              "#bd3786"
             ],
             [
              0.5555555555555556,
              "#d8576b"
             ],
             [
              0.6666666666666666,
              "#ed7953"
             ],
             [
              0.7777777777777778,
              "#fb9f3a"
             ],
             [
              0.8888888888888888,
              "#fdca26"
             ],
             [
              1,
              "#f0f921"
             ]
            ],
            "type": "histogram2dcontour"
           }
          ],
          "mesh3d": [
           {
            "colorbar": {
             "outlinewidth": 0,
             "ticks": ""
            },
            "type": "mesh3d"
           }
          ],
          "parcoords": [
           {
            "line": {
             "colorbar": {
              "outlinewidth": 0,
              "ticks": ""
             }
            },
            "type": "parcoords"
           }
          ],
          "pie": [
           {
            "automargin": true,
            "type": "pie"
           }
          ],
          "scatter": [
           {
            "marker": {
             "colorbar": {
              "outlinewidth": 0,
              "ticks": ""
             }
            },
            "type": "scatter"
           }
          ],
          "scatter3d": [
           {
            "line": {
             "colorbar": {
              "outlinewidth": 0,
              "ticks": ""
             }
            },
            "marker": {
             "colorbar": {
              "outlinewidth": 0,
              "ticks": ""
             }
            },
            "type": "scatter3d"
           }
          ],
          "scattercarpet": [
           {
            "marker": {
             "colorbar": {
              "outlinewidth": 0,
              "ticks": ""
             }
            },
            "type": "scattercarpet"
           }
          ],
          "scattergeo": [
           {
            "marker": {
             "colorbar": {
              "outlinewidth": 0,
              "ticks": ""
             }
            },
            "type": "scattergeo"
           }
          ],
          "scattergl": [
           {
            "marker": {
             "colorbar": {
              "outlinewidth": 0,
              "ticks": ""
             }
            },
            "type": "scattergl"
           }
          ],
          "scattermapbox": [
           {
            "marker": {
             "colorbar": {
              "outlinewidth": 0,
              "ticks": ""
             }
            },
            "type": "scattermapbox"
           }
          ],
          "scatterpolar": [
           {
            "marker": {
             "colorbar": {
              "outlinewidth": 0,
              "ticks": ""
             }
            },
            "type": "scatterpolar"
           }
          ],
          "scatterpolargl": [
           {
            "marker": {
             "colorbar": {
              "outlinewidth": 0,
              "ticks": ""
             }
            },
            "type": "scatterpolargl"
           }
          ],
          "scatterternary": [
           {
            "marker": {
             "colorbar": {
              "outlinewidth": 0,
              "ticks": ""
             }
            },
            "type": "scatterternary"
           }
          ],
          "surface": [
           {
            "colorbar": {
             "outlinewidth": 0,
             "ticks": ""
            },
            "colorscale": [
             [
              0,
              "#0d0887"
             ],
             [
              0.1111111111111111,
              "#46039f"
             ],
             [
              0.2222222222222222,
              "#7201a8"
             ],
             [
              0.3333333333333333,
              "#9c179e"
             ],
             [
              0.4444444444444444,
              "#bd3786"
             ],
             [
              0.5555555555555556,
              "#d8576b"
             ],
             [
              0.6666666666666666,
              "#ed7953"
             ],
             [
              0.7777777777777778,
              "#fb9f3a"
             ],
             [
              0.8888888888888888,
              "#fdca26"
             ],
             [
              1,
              "#f0f921"
             ]
            ],
            "type": "surface"
           }
          ],
          "table": [
           {
            "cells": {
             "fill": {
              "color": "#EBF0F8"
             },
             "line": {
              "color": "white"
             }
            },
            "header": {
             "fill": {
              "color": "#C8D4E3"
             },
             "line": {
              "color": "white"
             }
            },
            "type": "table"
           }
          ]
         },
         "layout": {
          "annotationdefaults": {
           "arrowcolor": "#2a3f5f",
           "arrowhead": 0,
           "arrowwidth": 1
          },
          "coloraxis": {
           "colorbar": {
            "outlinewidth": 0,
            "ticks": ""
           }
          },
          "colorscale": {
           "diverging": [
            [
             0,
             "#8e0152"
            ],
            [
             0.1,
             "#c51b7d"
            ],
            [
             0.2,
             "#de77ae"
            ],
            [
             0.3,
             "#f1b6da"
            ],
            [
             0.4,
             "#fde0ef"
            ],
            [
             0.5,
             "#f7f7f7"
            ],
            [
             0.6,
             "#e6f5d0"
            ],
            [
             0.7,
             "#b8e186"
            ],
            [
             0.8,
             "#7fbc41"
            ],
            [
             0.9,
             "#4d9221"
            ],
            [
             1,
             "#276419"
            ]
           ],
           "sequential": [
            [
             0,
             "#0d0887"
            ],
            [
             0.1111111111111111,
             "#46039f"
            ],
            [
             0.2222222222222222,
             "#7201a8"
            ],
            [
             0.3333333333333333,
             "#9c179e"
            ],
            [
             0.4444444444444444,
             "#bd3786"
            ],
            [
             0.5555555555555556,
             "#d8576b"
            ],
            [
             0.6666666666666666,
             "#ed7953"
            ],
            [
             0.7777777777777778,
             "#fb9f3a"
            ],
            [
             0.8888888888888888,
             "#fdca26"
            ],
            [
             1,
             "#f0f921"
            ]
           ],
           "sequentialminus": [
            [
             0,
             "#0d0887"
            ],
            [
             0.1111111111111111,
             "#46039f"
            ],
            [
             0.2222222222222222,
             "#7201a8"
            ],
            [
             0.3333333333333333,
             "#9c179e"
            ],
            [
             0.4444444444444444,
             "#bd3786"
            ],
            [
             0.5555555555555556,
             "#d8576b"
            ],
            [
             0.6666666666666666,
             "#ed7953"
            ],
            [
             0.7777777777777778,
             "#fb9f3a"
            ],
            [
             0.8888888888888888,
             "#fdca26"
            ],
            [
             1,
             "#f0f921"
            ]
           ]
          },
          "colorway": [
           "#636efa",
           "#EF553B",
           "#00cc96",
           "#ab63fa",
           "#FFA15A",
           "#19d3f3",
           "#FF6692",
           "#B6E880",
           "#FF97FF",
           "#FECB52"
          ],
          "font": {
           "color": "#2a3f5f"
          },
          "geo": {
           "bgcolor": "white",
           "lakecolor": "white",
           "landcolor": "#E5ECF6",
           "showlakes": true,
           "showland": true,
           "subunitcolor": "white"
          },
          "hoverlabel": {
           "align": "left"
          },
          "hovermode": "closest",
          "mapbox": {
           "style": "light"
          },
          "paper_bgcolor": "white",
          "plot_bgcolor": "#E5ECF6",
          "polar": {
           "angularaxis": {
            "gridcolor": "white",
            "linecolor": "white",
            "ticks": ""
           },
           "bgcolor": "#E5ECF6",
           "radialaxis": {
            "gridcolor": "white",
            "linecolor": "white",
            "ticks": ""
           }
          },
          "scene": {
           "xaxis": {
            "backgroundcolor": "#E5ECF6",
            "gridcolor": "white",
            "gridwidth": 2,
            "linecolor": "white",
            "showbackground": true,
            "ticks": "",
            "zerolinecolor": "white"
           },
           "yaxis": {
            "backgroundcolor": "#E5ECF6",
            "gridcolor": "white",
            "gridwidth": 2,
            "linecolor": "white",
            "showbackground": true,
            "ticks": "",
            "zerolinecolor": "white"
           },
           "zaxis": {
            "backgroundcolor": "#E5ECF6",
            "gridcolor": "white",
            "gridwidth": 2,
            "linecolor": "white",
            "showbackground": true,
            "ticks": "",
            "zerolinecolor": "white"
           }
          },
          "shapedefaults": {
           "line": {
            "color": "#2a3f5f"
           }
          },
          "ternary": {
           "aaxis": {
            "gridcolor": "white",
            "linecolor": "white",
            "ticks": ""
           },
           "baxis": {
            "gridcolor": "white",
            "linecolor": "white",
            "ticks": ""
           },
           "bgcolor": "#E5ECF6",
           "caxis": {
            "gridcolor": "white",
            "linecolor": "white",
            "ticks": ""
           }
          },
          "title": {
           "x": 0.05
          },
          "xaxis": {
           "automargin": true,
           "gridcolor": "white",
           "linecolor": "white",
           "ticks": "",
           "title": {
            "standoff": 15
           },
           "zerolinecolor": "white",
           "zerolinewidth": 2
          },
          "yaxis": {
           "automargin": true,
           "gridcolor": "white",
           "linecolor": "white",
           "ticks": "",
           "title": {
            "standoff": 15
           },
           "zerolinecolor": "white",
           "zerolinewidth": 2
          }
         }
        },
        "title": {
         "text": "Party-wise Vote Share"
        }
       }
      },
      "text/html": [
       "<div>                            <div id=\"ea1e587e-875f-43ef-ba36-920bed226e59\" class=\"plotly-graph-div\" style=\"height:525px; width:100%;\"></div>            <script type=\"text/javascript\">                require([\"plotly\"], function(Plotly) {                    window.PLOTLYENV=window.PLOTLYENV || {};                                    if (document.getElementById(\"ea1e587e-875f-43ef-ba36-920bed226e59\")) {                    Plotly.newPlot(                        \"ea1e587e-875f-43ef-ba36-920bed226e59\",                        [{\"labels\": [\"AITC\", \"BJP\", \"BSP\", \"INC\", \"Other\", \"SP\"], \"marker\": {\"line\": {\"color\": \"#000000\", \"width\": 1}}, \"type\": \"pie\", \"values\": [24832104, 228938556, 20808194, 119418722, 180238181, 15616282]}],                        {\"template\": {\"data\": {\"bar\": [{\"error_x\": {\"color\": \"#2a3f5f\"}, \"error_y\": {\"color\": \"#2a3f5f\"}, \"marker\": {\"line\": {\"color\": \"#E5ECF6\", \"width\": 0.5}}, \"type\": \"bar\"}], \"barpolar\": [{\"marker\": {\"line\": {\"color\": \"#E5ECF6\", \"width\": 0.5}}, \"type\": \"barpolar\"}], \"carpet\": [{\"aaxis\": {\"endlinecolor\": \"#2a3f5f\", \"gridcolor\": \"white\", \"linecolor\": \"white\", \"minorgridcolor\": \"white\", \"startlinecolor\": \"#2a3f5f\"}, \"baxis\": {\"endlinecolor\": \"#2a3f5f\", \"gridcolor\": \"white\", \"linecolor\": \"white\", \"minorgridcolor\": \"white\", \"startlinecolor\": \"#2a3f5f\"}, \"type\": \"carpet\"}], \"choropleth\": [{\"colorbar\": {\"outlinewidth\": 0, \"ticks\": \"\"}, \"type\": \"choropleth\"}], \"contour\": [{\"colorbar\": {\"outlinewidth\": 0, \"ticks\": \"\"}, \"colorscale\": [[0.0, \"#0d0887\"], [0.1111111111111111, \"#46039f\"], [0.2222222222222222, \"#7201a8\"], [0.3333333333333333, \"#9c179e\"], [0.4444444444444444, \"#bd3786\"], [0.5555555555555556, \"#d8576b\"], [0.6666666666666666, \"#ed7953\"], [0.7777777777777778, \"#fb9f3a\"], [0.8888888888888888, \"#fdca26\"], [1.0, \"#f0f921\"]], \"type\": \"contour\"}], \"contourcarpet\": [{\"colorbar\": {\"outlinewidth\": 0, \"ticks\": \"\"}, \"type\": \"contourcarpet\"}], \"heatmap\": [{\"colorbar\": {\"outlinewidth\": 0, \"ticks\": \"\"}, \"colorscale\": [[0.0, \"#0d0887\"], [0.1111111111111111, \"#46039f\"], [0.2222222222222222, \"#7201a8\"], [0.3333333333333333, \"#9c179e\"], [0.4444444444444444, \"#bd3786\"], [0.5555555555555556, \"#d8576b\"], [0.6666666666666666, \"#ed7953\"], [0.7777777777777778, \"#fb9f3a\"], [0.8888888888888888, \"#fdca26\"], [1.0, \"#f0f921\"]], \"type\": \"heatmap\"}], \"heatmapgl\": [{\"colorbar\": {\"outlinewidth\": 0, \"ticks\": \"\"}, \"colorscale\": [[0.0, \"#0d0887\"], [0.1111111111111111, \"#46039f\"], [0.2222222222222222, \"#7201a8\"], [0.3333333333333333, \"#9c179e\"], [0.4444444444444444, \"#bd3786\"], [0.5555555555555556, \"#d8576b\"], [0.6666666666666666, \"#ed7953\"], [0.7777777777777778, \"#fb9f3a\"], [0.8888888888888888, \"#fdca26\"], [1.0, \"#f0f921\"]], \"type\": \"heatmapgl\"}], \"histogram\": [{\"marker\": {\"colorbar\": {\"outlinewidth\": 0, \"ticks\": \"\"}}, \"type\": \"histogram\"}], \"histogram2d\": [{\"colorbar\": {\"outlinewidth\": 0, \"ticks\": \"\"}, \"colorscale\": [[0.0, \"#0d0887\"], [0.1111111111111111, \"#46039f\"], [0.2222222222222222, \"#7201a8\"], [0.3333333333333333, \"#9c179e\"], [0.4444444444444444, \"#bd3786\"], [0.5555555555555556, \"#d8576b\"], [0.6666666666666666, \"#ed7953\"], [0.7777777777777778, \"#fb9f3a\"], [0.8888888888888888, \"#fdca26\"], [1.0, \"#f0f921\"]], \"type\": \"histogram2d\"}], \"histogram2dcontour\": [{\"colorbar\": {\"outlinewidth\": 0, \"ticks\": \"\"}, \"colorscale\": [[0.0, \"#0d0887\"], [0.1111111111111111, \"#46039f\"], [0.2222222222222222, \"#7201a8\"], [0.3333333333333333, \"#9c179e\"], [0.4444444444444444, \"#bd3786\"], [0.5555555555555556, \"#d8576b\"], [0.6666666666666666, \"#ed7953\"], [0.7777777777777778, \"#fb9f3a\"], [0.8888888888888888, \"#fdca26\"], [1.0, \"#f0f921\"]], \"type\": \"histogram2dcontour\"}], \"mesh3d\": [{\"colorbar\": {\"outlinewidth\": 0, \"ticks\": \"\"}, \"type\": \"mesh3d\"}], \"parcoords\": [{\"line\": {\"colorbar\": {\"outlinewidth\": 0, \"ticks\": \"\"}}, \"type\": \"parcoords\"}], \"pie\": [{\"automargin\": true, \"type\": \"pie\"}], \"scatter\": [{\"marker\": {\"colorbar\": {\"outlinewidth\": 0, \"ticks\": \"\"}}, \"type\": \"scatter\"}], \"scatter3d\": [{\"line\": {\"colorbar\": {\"outlinewidth\": 0, \"ticks\": \"\"}}, \"marker\": {\"colorbar\": {\"outlinewidth\": 0, \"ticks\": \"\"}}, \"type\": \"scatter3d\"}], \"scattercarpet\": [{\"marker\": {\"colorbar\": {\"outlinewidth\": 0, \"ticks\": \"\"}}, \"type\": \"scattercarpet\"}], \"scattergeo\": [{\"marker\": {\"colorbar\": {\"outlinewidth\": 0, \"ticks\": \"\"}}, \"type\": \"scattergeo\"}], \"scattergl\": [{\"marker\": {\"colorbar\": {\"outlinewidth\": 0, \"ticks\": \"\"}}, \"type\": \"scattergl\"}], \"scattermapbox\": [{\"marker\": {\"colorbar\": {\"outlinewidth\": 0, \"ticks\": \"\"}}, \"type\": \"scattermapbox\"}], \"scatterpolar\": [{\"marker\": {\"colorbar\": {\"outlinewidth\": 0, \"ticks\": \"\"}}, \"type\": \"scatterpolar\"}], \"scatterpolargl\": [{\"marker\": {\"colorbar\": {\"outlinewidth\": 0, \"ticks\": \"\"}}, \"type\": \"scatterpolargl\"}], \"scatterternary\": [{\"marker\": {\"colorbar\": {\"outlinewidth\": 0, \"ticks\": \"\"}}, \"type\": \"scatterternary\"}], \"surface\": [{\"colorbar\": {\"outlinewidth\": 0, \"ticks\": \"\"}, \"colorscale\": [[0.0, \"#0d0887\"], [0.1111111111111111, \"#46039f\"], [0.2222222222222222, \"#7201a8\"], [0.3333333333333333, \"#9c179e\"], [0.4444444444444444, \"#bd3786\"], [0.5555555555555556, \"#d8576b\"], [0.6666666666666666, \"#ed7953\"], [0.7777777777777778, \"#fb9f3a\"], [0.8888888888888888, \"#fdca26\"], [1.0, \"#f0f921\"]], \"type\": \"surface\"}], \"table\": [{\"cells\": {\"fill\": {\"color\": \"#EBF0F8\"}, \"line\": {\"color\": \"white\"}}, \"header\": {\"fill\": {\"color\": \"#C8D4E3\"}, \"line\": {\"color\": \"white\"}}, \"type\": \"table\"}]}, \"layout\": {\"annotationdefaults\": {\"arrowcolor\": \"#2a3f5f\", \"arrowhead\": 0, \"arrowwidth\": 1}, \"coloraxis\": {\"colorbar\": {\"outlinewidth\": 0, \"ticks\": \"\"}}, \"colorscale\": {\"diverging\": [[0, \"#8e0152\"], [0.1, \"#c51b7d\"], [0.2, \"#de77ae\"], [0.3, \"#f1b6da\"], [0.4, \"#fde0ef\"], [0.5, \"#f7f7f7\"], [0.6, \"#e6f5d0\"], [0.7, \"#b8e186\"], [0.8, \"#7fbc41\"], [0.9, \"#4d9221\"], [1, \"#276419\"]], \"sequential\": [[0.0, \"#0d0887\"], [0.1111111111111111, \"#46039f\"], [0.2222222222222222, \"#7201a8\"], [0.3333333333333333, \"#9c179e\"], [0.4444444444444444, \"#bd3786\"], [0.5555555555555556, \"#d8576b\"], [0.6666666666666666, \"#ed7953\"], [0.7777777777777778, \"#fb9f3a\"], [0.8888888888888888, \"#fdca26\"], [1.0, \"#f0f921\"]], \"sequentialminus\": [[0.0, \"#0d0887\"], [0.1111111111111111, \"#46039f\"], [0.2222222222222222, \"#7201a8\"], [0.3333333333333333, \"#9c179e\"], [0.4444444444444444, \"#bd3786\"], [0.5555555555555556, \"#d8576b\"], [0.6666666666666666, \"#ed7953\"], [0.7777777777777778, \"#fb9f3a\"], [0.8888888888888888, \"#fdca26\"], [1.0, \"#f0f921\"]]}, \"colorway\": [\"#636efa\", \"#EF553B\", \"#00cc96\", \"#ab63fa\", \"#FFA15A\", \"#19d3f3\", \"#FF6692\", \"#B6E880\", \"#FF97FF\", \"#FECB52\"], \"font\": {\"color\": \"#2a3f5f\"}, \"geo\": {\"bgcolor\": \"white\", \"lakecolor\": \"white\", \"landcolor\": \"#E5ECF6\", \"showlakes\": true, \"showland\": true, \"subunitcolor\": \"white\"}, \"hoverlabel\": {\"align\": \"left\"}, \"hovermode\": \"closest\", \"mapbox\": {\"style\": \"light\"}, \"paper_bgcolor\": \"white\", \"plot_bgcolor\": \"#E5ECF6\", \"polar\": {\"angularaxis\": {\"gridcolor\": \"white\", \"linecolor\": \"white\", \"ticks\": \"\"}, \"bgcolor\": \"#E5ECF6\", \"radialaxis\": {\"gridcolor\": \"white\", \"linecolor\": \"white\", \"ticks\": \"\"}}, \"scene\": {\"xaxis\": {\"backgroundcolor\": \"#E5ECF6\", \"gridcolor\": \"white\", \"gridwidth\": 2, \"linecolor\": \"white\", \"showbackground\": true, \"ticks\": \"\", \"zerolinecolor\": \"white\"}, \"yaxis\": {\"backgroundcolor\": \"#E5ECF6\", \"gridcolor\": \"white\", \"gridwidth\": 2, \"linecolor\": \"white\", \"showbackground\": true, \"ticks\": \"\", \"zerolinecolor\": \"white\"}, \"zaxis\": {\"backgroundcolor\": \"#E5ECF6\", \"gridcolor\": \"white\", \"gridwidth\": 2, \"linecolor\": \"white\", \"showbackground\": true, \"ticks\": \"\", \"zerolinecolor\": \"white\"}}, \"shapedefaults\": {\"line\": {\"color\": \"#2a3f5f\"}}, \"ternary\": {\"aaxis\": {\"gridcolor\": \"white\", \"linecolor\": \"white\", \"ticks\": \"\"}, \"baxis\": {\"gridcolor\": \"white\", \"linecolor\": \"white\", \"ticks\": \"\"}, \"bgcolor\": \"#E5ECF6\", \"caxis\": {\"gridcolor\": \"white\", \"linecolor\": \"white\", \"ticks\": \"\"}}, \"title\": {\"x\": 0.05}, \"xaxis\": {\"automargin\": true, \"gridcolor\": \"white\", \"linecolor\": \"white\", \"ticks\": \"\", \"title\": {\"standoff\": 15}, \"zerolinecolor\": \"white\", \"zerolinewidth\": 2}, \"yaxis\": {\"automargin\": true, \"gridcolor\": \"white\", \"linecolor\": \"white\", \"ticks\": \"\", \"title\": {\"standoff\": 15}, \"zerolinecolor\": \"white\", \"zerolinewidth\": 2}}}, \"title\": {\"text\": \"Party-wise Vote Share\"}},                        {\"responsive\": true}                    ).then(function(){\n",
       "                            \n",
       "var gd = document.getElementById('ea1e587e-875f-43ef-ba36-920bed226e59');\n",
       "var x = new MutationObserver(function (mutations, observer) {{\n",
       "        var display = window.getComputedStyle(gd).display;\n",
       "        if (!display || display === 'none') {{\n",
       "            console.log([gd, 'removed!']);\n",
       "            Plotly.purge(gd);\n",
       "            observer.disconnect();\n",
       "        }}\n",
       "}});\n",
       "\n",
       "// Listen for the removal of the full notebook cells\n",
       "var notebookContainer = gd.closest('#notebook-container');\n",
       "if (notebookContainer) {{\n",
       "    x.observe(notebookContainer, {childList: true});\n",
       "}}\n",
       "\n",
       "// Listen for the clearing of the current output cell\n",
       "var outputEl = gd.closest('.output');\n",
       "if (outputEl) {{\n",
       "    x.observe(outputEl, {childList: true});\n",
       "}}\n",
       "\n",
       "                        })                };                });            </script>        </div>"
      ]
     },
     "metadata": {},
     "output_type": "display_data"
    }
   ],
   "source": [
    "# Sort out the top five parties according to the total number of votes\n",
    "vote_share_top5 = df.groupby('PARTY')['TOTAL VOTES'].sum().nlargest(5).index.tolist()\n",
    "\n",
    "# Create a method to label parties as 'Other' if they are not top five in total number of votes.\n",
    "def sort_party(data):\n",
    "    '''\n",
    "    Method to label parties as 'Other' if they are not top five in total number of votes.\n",
    "    data: input rows\n",
    "    '''\n",
    "    if data['PARTY'] not in vote_share_top5:\n",
    "        return 'Other'\n",
    "    else:\n",
    "        return data['PARTY']\n",
    "\n",
    "# Calling the method\n",
    "df['Party New'] = df.apply(sort_party, axis=1)\n",
    "\n",
    "# Visualize Party-wise vote share\n",
    "vote_count = df.groupby('Party New')['TOTAL VOTES'].sum()\n",
    "vote_count_fig = go.Figure(go.Pie(labels=vote_count.index, \n",
    "                                  values=vote_count.values, \n",
    "                                  marker=dict(line=dict(color=\"#000000\", \n",
    "                                                        width=1))))\n",
    "vote_count_fig.update_layout(title_text='Party-wise Vote Share')\n",
    "vote_count_fig.show()"
   ]
  },
  {
   "cell_type": "markdown",
   "metadata": {},
   "source": [
    "### 5.3 Age Distribution of candidates"
   ]
  },
  {
   "cell_type": "code",
   "execution_count": 27,
   "metadata": {},
   "outputs": [
    {
     "data": {
      "application/vnd.plotly.v1+json": {
       "config": {
        "plotlyServerURL": "https://plot.ly"
       },
       "data": [
        {
         "alignmentgroup": "True",
         "bingroup": "x",
         "hovertemplate": "AGE=%{x}<br>count=%{y}<extra></extra>",
         "legendgroup": "",
         "marker": {
          "color": "#636efa"
         },
         "name": "",
         "offsetgroup": "",
         "orientation": "v",
         "showlegend": false,
         "type": "histogram",
         "x": [
          52,
          54,
          52,
          58,
          47,
          54,
          37,
          34,
          62,
          58,
          38,
          69,
          68,
          66,
          64,
          40,
          60,
          60,
          64,
          46,
          58,
          60,
          64,
          60,
          54,
          52,
          64,
          32,
          44,
          61,
          46,
          51,
          62,
          43,
          52,
          42,
          44,
          69,
          63,
          49,
          77,
          46,
          60,
          41,
          35,
          47,
          31,
          46,
          28,
          59,
          67,
          56,
          55,
          61,
          38,
          71,
          36,
          43,
          48,
          33,
          71,
          47,
          56,
          64,
          42,
          47,
          46,
          67,
          58,
          55,
          43,
          58,
          35,
          52,
          43,
          56,
          65,
          54,
          65,
          53,
          69,
          62,
          51,
          48,
          45,
          29,
          58,
          65,
          60,
          59,
          53,
          60,
          45,
          52,
          46,
          61,
          49,
          43,
          50,
          57,
          64,
          71,
          55,
          43,
          40,
          61,
          33,
          55,
          59,
          41,
          46,
          63,
          55,
          37,
          41,
          52,
          50,
          66,
          36,
          81,
          70,
          26,
          72,
          49,
          54,
          46,
          61,
          37,
          54,
          69,
          47,
          38,
          68,
          47,
          51,
          56,
          42,
          45,
          48,
          65,
          59,
          37,
          62,
          70,
          47,
          47,
          63,
          56,
          49,
          53,
          50,
          34,
          55,
          67,
          41,
          56,
          62,
          42,
          43,
          35,
          58,
          46,
          49,
          76,
          68,
          61,
          39,
          45,
          40,
          34,
          40,
          66,
          68,
          38,
          63,
          40,
          63,
          55,
          55,
          38,
          66,
          73,
          60,
          38,
          66,
          53,
          68,
          62,
          64,
          51,
          46,
          62,
          56,
          51,
          39,
          52,
          50,
          40,
          70,
          75,
          39,
          49,
          33,
          59,
          74,
          59,
          37,
          55,
          39,
          53,
          66,
          46,
          52,
          59,
          43,
          28,
          64,
          37,
          51,
          55,
          28,
          58,
          65,
          61,
          44,
          46,
          38,
          50,
          65,
          72,
          67,
          40,
          42,
          62,
          62,
          65,
          43,
          31,
          26,
          42,
          65,
          64,
          65,
          51,
          68,
          34,
          49,
          34,
          43,
          71,
          67,
          54,
          59,
          55,
          65,
          48,
          60,
          68,
          61,
          57,
          67,
          73,
          50,
          39,
          61,
          61,
          58,
          37,
          49,
          53,
          70,
          63,
          61,
          59,
          69,
          51,
          45,
          55,
          39,
          44,
          66,
          44,
          65,
          57,
          68,
          47,
          44,
          28,
          42,
          51,
          70,
          38,
          46,
          42,
          55,
          38,
          29,
          40,
          45,
          65,
          50,
          42,
          52,
          41,
          33,
          54,
          36,
          48,
          62,
          57,
          66,
          32,
          59,
          27,
          63,
          69,
          67,
          65,
          68,
          44,
          52,
          55,
          31,
          44,
          44,
          59,
          59,
          42,
          49,
          42,
          41,
          43,
          50,
          64,
          37,
          68,
          56,
          39,
          59,
          56,
          61,
          37,
          73,
          40,
          55,
          50,
          62,
          52,
          40,
          42,
          45,
          28,
          67,
          58,
          62,
          69,
          27,
          64,
          43,
          30,
          46,
          55,
          60,
          46,
          54,
          44,
          49,
          71,
          49,
          63,
          71,
          50,
          57,
          65,
          66,
          42,
          33,
          36,
          53,
          55,
          59,
          65,
          55,
          47,
          51,
          51,
          47,
          49,
          63,
          54,
          51,
          49,
          38,
          39,
          72,
          67,
          57,
          45,
          45,
          49,
          63,
          53,
          61,
          47,
          44,
          42,
          50,
          58,
          58,
          58,
          57,
          66,
          75,
          50,
          34,
          42,
          66,
          71,
          59,
          71,
          58,
          42,
          62,
          43,
          52,
          32,
          66,
          70,
          78,
          44,
          64,
          74,
          52,
          43,
          64,
          48,
          55,
          62,
          52,
          40,
          36,
          43,
          66,
          41,
          52,
          41,
          54,
          31,
          48,
          49,
          65,
          62,
          33,
          44,
          56,
          31,
          40,
          26,
          55,
          54,
          59,
          58,
          44,
          57,
          56,
          45,
          47,
          53,
          48,
          56,
          46,
          55,
          35,
          49,
          76,
          79,
          65,
          48,
          55,
          72,
          49,
          62,
          64,
          68,
          67,
          60,
          45,
          43,
          68,
          42,
          58,
          41,
          57,
          68,
          61,
          55,
          36,
          68,
          33,
          66,
          61,
          38,
          48,
          69,
          49,
          40,
          44,
          62,
          63,
          67,
          56,
          46,
          40,
          35,
          33,
          31,
          52,
          58,
          64,
          51,
          52,
          34,
          57,
          63,
          44,
          42,
          59,
          57,
          34,
          49,
          67,
          58,
          64,
          33,
          71,
          65,
          46,
          49,
          71,
          54,
          36,
          67,
          51,
          69,
          56,
          57,
          35,
          65,
          43,
          69,
          58,
          65,
          38,
          61,
          41,
          50,
          57,
          30,
          43,
          56,
          52,
          45,
          63,
          42,
          58,
          59,
          77,
          63,
          52,
          50,
          66,
          45,
          46,
          31,
          43,
          48,
          49,
          48,
          67,
          52,
          48,
          42,
          56,
          52,
          40,
          44,
          70,
          53,
          68,
          37,
          37,
          71,
          53,
          67,
          37,
          39,
          72,
          60,
          45,
          44,
          45,
          59,
          61,
          25,
          37,
          50,
          37,
          48,
          46,
          59,
          71,
          55,
          35,
          51,
          65,
          72,
          52,
          43,
          43,
          41,
          58,
          70,
          54,
          35,
          45,
          64,
          55,
          68,
          62,
          62,
          43,
          78,
          61,
          78,
          61,
          50,
          54,
          66,
          65,
          66,
          44,
          35,
          52,
          62,
          63,
          52,
          68,
          44,
          68,
          32,
          64,
          56,
          56,
          49,
          54,
          55,
          48,
          66,
          44,
          59,
          54,
          61,
          48,
          63,
          74,
          55,
          50,
          67,
          52,
          53,
          59,
          42,
          30,
          55,
          73,
          49,
          61,
          27,
          46,
          48,
          38,
          53,
          49,
          52,
          36,
          56,
          63,
          33,
          67,
          76,
          34,
          65,
          59,
          59,
          46,
          36,
          78,
          53,
          70,
          64,
          50,
          52,
          47,
          53,
          46,
          82,
          36,
          53,
          52,
          62,
          61,
          41,
          29,
          40,
          46,
          44,
          51,
          58,
          64,
          60,
          77,
          43,
          48,
          41,
          53,
          52,
          50,
          53,
          59,
          65,
          37,
          49,
          69,
          60,
          58,
          71,
          56,
          50,
          66,
          49,
          32,
          33,
          47,
          41,
          44,
          45,
          42,
          68,
          64,
          43,
          61,
          55,
          46,
          59,
          70,
          60,
          28,
          60,
          29,
          61,
          68,
          71,
          38,
          51,
          56,
          52,
          72,
          55,
          74,
          73,
          42,
          34,
          50,
          63,
          41,
          60,
          48,
          56,
          60,
          44,
          46,
          31,
          26,
          58,
          45,
          70,
          54,
          57,
          54,
          39,
          68,
          70,
          49,
          68,
          42,
          64,
          60,
          44,
          61,
          49,
          67,
          46,
          46,
          37,
          49,
          49,
          57,
          58,
          67,
          59,
          69,
          40,
          59,
          56,
          63,
          78,
          30,
          37,
          68,
          54,
          55,
          56,
          68,
          60,
          60,
          54,
          38,
          38,
          68,
          61,
          44,
          49,
          41,
          45,
          61,
          50,
          72,
          82,
          40,
          69,
          60,
          46,
          56,
          55,
          40,
          63,
          50,
          65,
          50,
          65,
          42,
          44,
          51,
          62,
          62,
          61,
          56,
          56,
          44,
          60,
          56,
          62,
          37,
          56,
          40,
          51,
          60,
          32,
          58,
          48,
          59,
          53,
          65,
          52,
          42,
          60,
          65,
          42,
          48,
          53,
          43,
          67,
          64,
          50,
          48,
          48,
          63,
          51,
          29,
          65,
          45,
          53,
          54,
          59,
          47,
          56,
          48,
          48,
          54,
          58,
          64,
          51,
          38,
          50,
          44,
          42,
          36,
          55,
          48,
          40,
          52,
          34,
          61,
          48,
          48,
          64,
          62,
          66,
          54,
          55,
          49,
          62,
          58,
          52,
          60,
          43,
          42,
          36,
          41,
          57,
          44,
          51,
          69,
          40,
          40,
          32,
          52,
          54,
          35,
          44,
          36,
          26,
          51,
          55,
          66,
          37,
          67,
          45,
          61,
          52,
          39,
          41,
          68,
          67,
          41,
          55,
          70,
          69,
          70,
          71,
          74,
          61,
          77,
          46,
          38,
          65,
          64,
          56,
          63,
          45,
          48,
          43,
          49,
          31,
          44,
          46,
          66,
          37,
          47,
          59,
          52,
          38,
          51,
          62,
          31,
          41,
          56,
          43,
          73,
          53,
          52,
          42,
          65,
          61,
          52,
          51,
          68,
          49,
          57,
          61,
          44,
          52,
          37,
          55,
          65,
          25,
          49,
          43,
          48,
          65,
          65,
          33,
          52,
          40,
          31,
          27,
          35,
          44,
          38,
          49,
          39,
          39,
          62,
          64,
          54,
          47,
          46,
          61,
          66,
          45,
          60,
          43,
          55,
          39,
          33,
          54,
          58,
          60,
          29,
          71,
          68,
          50,
          57,
          40,
          50,
          54,
          54,
          55,
          42,
          50,
          61,
          46,
          28,
          50,
          69,
          56,
          50,
          26,
          44,
          71,
          54,
          47,
          37,
          61,
          58,
          53,
          44,
          70,
          55,
          50,
          57,
          58,
          55,
          57,
          64,
          38,
          40,
          33,
          63,
          61,
          67,
          45,
          27,
          65,
          52,
          45,
          45,
          44,
          56,
          75,
          66,
          64,
          68,
          66,
          55,
          39,
          58,
          67,
          37,
          50,
          44,
          40,
          57,
          70,
          52,
          67,
          42,
          48,
          58,
          49,
          66,
          59,
          57,
          26,
          50,
          65,
          55,
          33,
          37,
          54,
          61,
          53,
          51,
          51,
          43,
          36,
          64,
          44,
          43,
          45,
          29,
          57,
          59,
          59,
          52,
          57,
          53,
          41,
          26,
          47,
          67,
          68,
          56,
          43,
          48,
          69,
          32,
          58,
          70,
          70,
          50,
          68,
          44,
          42,
          50,
          78,
          43,
          67,
          71,
          51,
          57,
          49,
          46,
          63,
          57,
          30,
          39,
          49,
          36,
          42,
          52,
          38,
          39,
          55,
          33,
          45,
          37,
          38,
          49,
          54,
          55,
          36,
          55,
          41,
          51,
          47,
          67,
          51,
          66,
          33,
          60,
          59,
          38,
          71,
          73,
          79,
          60,
          67,
          30,
          54,
          48,
          72,
          54,
          63,
          59,
          39,
          47,
          69,
          51,
          50,
          59,
          43,
          60,
          32,
          48,
          59,
          58,
          57,
          43,
          40,
          59,
          45,
          55,
          31,
          36,
          45,
          67,
          55,
          70,
          66,
          63,
          80,
          46,
          42,
          63,
          55,
          29,
          47,
          56,
          53,
          64,
          74,
          64,
          39,
          27,
          46,
          54,
          41,
          47,
          47,
          53,
          46,
          54,
          49,
          61,
          33,
          54,
          67,
          50,
          64,
          68,
          60,
          68,
          37,
          54,
          41,
          64,
          52,
          44,
          53,
          62,
          41,
          59,
          36,
          54,
          59,
          49,
          60,
          60,
          67,
          32,
          61,
          59,
          61,
          65,
          48,
          48,
          38,
          52,
          46,
          46,
          50,
          50,
          75,
          54,
          46,
          67,
          43,
          68,
          47,
          79,
          51,
          41,
          65,
          48,
          38,
          50,
          46,
          42,
          34,
          57,
          69,
          56,
          64,
          46,
          78,
          50,
          41,
          70,
          40,
          42,
          62,
          46,
          40,
          43,
          57,
          59,
          62,
          75,
          38,
          63,
          41,
          36,
          25,
          61,
          66,
          68,
          43,
          53,
          45,
          47,
          47,
          41,
          55,
          56,
          69,
          62,
          56,
          47,
          47,
          57,
          71,
          46,
          60,
          46,
          61,
          60,
          33,
          33,
          55,
          63,
          61,
          45,
          54,
          70,
          44,
          57,
          54,
          57,
          60,
          42,
          31,
          61,
          33,
          58,
          60,
          57,
          69,
          33,
          35,
          75,
          52,
          64,
          57,
          48,
          58,
          71,
          59,
          48,
          45,
          61,
          38,
          64,
          47,
          36,
          53,
          33,
          67,
          70,
          60,
          67,
          51,
          55,
          43,
          55,
          59,
          55,
          66,
          43,
          41,
          61,
          47,
          81,
          38,
          43,
          66,
          52,
          59,
          57,
          70,
          53,
          59,
          46,
          65,
          61,
          49,
          35,
          47,
          39,
          59,
          36,
          56,
          64,
          43,
          49,
          48,
          48,
          68,
          51,
          47,
          40,
          28,
          65,
          33,
          51,
          63,
          55,
          34,
          43,
          65,
          69,
          59,
          68,
          52,
          39,
          37,
          52,
          54,
          41,
          39,
          39,
          58,
          42,
          46,
          64,
          62,
          62,
          42,
          49,
          74,
          68,
          68,
          47,
          64,
          73,
          42,
          60,
          52,
          42,
          36,
          77,
          55,
          36,
          58,
          62,
          58,
          38,
          39,
          43,
          49,
          47,
          40,
          35,
          49,
          72,
          51,
          61,
          40,
          36,
          57,
          57,
          44,
          48,
          45,
          57,
          51,
          68,
          29,
          72,
          30,
          68,
          62,
          35,
          59,
          45,
          51,
          43,
          66,
          32,
          29,
          49,
          34,
          56,
          58,
          73,
          69,
          27,
          30,
          42,
          34,
          55,
          72,
          51,
          62,
          53,
          37,
          64,
          67,
          61,
          50,
          48,
          64,
          61,
          58,
          43,
          42,
          58,
          57,
          53,
          36,
          45,
          55,
          55,
          42,
          68,
          42,
          48,
          58,
          50,
          67,
          61,
          48,
          36,
          63,
          56,
          32,
          65,
          51,
          60,
          45,
          48,
          76,
          45,
          44,
          39,
          59,
          38,
          37,
          30,
          64,
          57,
          56,
          53,
          61,
          29,
          58,
          56,
          25,
          56,
          56,
          60,
          67,
          77,
          62,
          68,
          28,
          65,
          38,
          62,
          74,
          28,
          32,
          31,
          59,
          39,
          62,
          34,
          36,
          49,
          66,
          67,
          64,
          28,
          55,
          64,
          56,
          41,
          51,
          32,
          67,
          46,
          38,
          51,
          65,
          47,
          67,
          44,
          48,
          49,
          44,
          28,
          57,
          57,
          55,
          62,
          54,
          61,
          58,
          64,
          46,
          37,
          25,
          40,
          32,
          47,
          61,
          62,
          86,
          64,
          78,
          54,
          38,
          36,
          45,
          68,
          43,
          74,
          46,
          30,
          54,
          60,
          58,
          61,
          44,
          53,
          55,
          72,
          44,
          40,
          63,
          74,
          35,
          48,
          53,
          44,
          63,
          56,
          66,
          62,
          58,
          32,
          58,
          44,
          32,
          50,
          31,
          65,
          27,
          42,
          48,
          47,
          69,
          52,
          73,
          44,
          51,
          30,
          31,
          51,
          51,
          54,
          52,
          48,
          78,
          46,
          52,
          56,
          64,
          39,
          69,
          58,
          32,
          38,
          64,
          36,
          49,
          52,
          54,
          63,
          41,
          63,
          39,
          48,
          63,
          34,
          67,
          61,
          63,
          30,
          42,
          33,
          58,
          48,
          46,
          35,
          57,
          29,
          25,
          31,
          31,
          51,
          43,
          37,
          49,
          50,
          58,
          47,
          33,
          48,
          55,
          48,
          58,
          53,
          45,
          47,
          61,
          43,
          27,
          46,
          59,
          33,
          46,
          54,
          43,
          46,
          47,
          63,
          77,
          64,
          62,
          72,
          28,
          44,
          57,
          30,
          33,
          52,
          73,
          52,
          56,
          62,
          42,
          44,
          60,
          32,
          52,
          53,
          53,
          83,
          58,
          41,
          43,
          77,
          49,
          46,
          41,
          59,
          62,
          43,
          67,
          42,
          58,
          39,
          60,
          48,
          73,
          46,
          52,
          26,
          50,
          32,
          27,
          41,
          58,
          45,
          50,
          79,
          35,
          36,
          42,
          50,
          31,
          73,
          68,
          60,
          59,
          44,
          66,
          32,
          32,
          44,
          41,
          60,
          68,
          57,
          46,
          47,
          68,
          52,
          62,
          44,
          63,
          53,
          39,
          70,
          58,
          59,
          51,
          69,
          66,
          35,
          42,
          43,
          48,
          63,
          66,
          76,
          51,
          57,
          52,
          55,
          59,
          58,
          64,
          60,
          65,
          47,
          56,
          69,
          70,
          60,
          33,
          53,
          54,
          47,
          55,
          41,
          53,
          63,
          60,
          64,
          52,
          44,
          71,
          56,
          46,
          65,
          50,
          45,
          59,
          47,
          41,
          44,
          61,
          75,
          30,
          43,
          50,
          60,
          76,
          50,
          58,
          62,
          42,
          78,
          86,
          74,
          38,
          53,
          55,
          54,
          59,
          65,
          51,
          53,
          62,
          54,
          59,
          60,
          62,
          52,
          50,
          43,
          53,
          56,
          49,
          31,
          51,
          42,
          64,
          41,
          47,
          56,
          57,
          56,
          58,
          40,
          63,
          61,
          61,
          51,
          39,
          62,
          66,
          43,
          56,
          44,
          48,
          72,
          26,
          36,
          37,
          46,
          46,
          62,
          32,
          42,
          54,
          35,
          38,
          69,
          54,
          54,
          68,
          47,
          49,
          65,
          43,
          51,
          53,
          48,
          66,
          48,
          58,
          58,
          66,
          55,
          30,
          48,
          64,
          44,
          47,
          45,
          41,
          36,
          52,
          29,
          53,
          58,
          48,
          57,
          67,
          39,
          52,
          51,
          56,
          65,
          45,
          37,
          65,
          53,
          63,
          37,
          48,
          50,
          50,
          41,
          64,
          47,
          46,
          64,
          37,
          64,
          28,
          43,
          63,
          49,
          47
         ],
         "xaxis": "x",
         "yaxis": "y"
        }
       ],
       "layout": {
        "barmode": "relative",
        "legend": {
         "tracegroupgap": 0
        },
        "margin": {
         "t": 60
        },
        "template": {
         "data": {
          "bar": [
           {
            "error_x": {
             "color": "#2a3f5f"
            },
            "error_y": {
             "color": "#2a3f5f"
            },
            "marker": {
             "line": {
              "color": "#E5ECF6",
              "width": 0.5
             }
            },
            "type": "bar"
           }
          ],
          "barpolar": [
           {
            "marker": {
             "line": {
              "color": "#E5ECF6",
              "width": 0.5
             }
            },
            "type": "barpolar"
           }
          ],
          "carpet": [
           {
            "aaxis": {
             "endlinecolor": "#2a3f5f",
             "gridcolor": "white",
             "linecolor": "white",
             "minorgridcolor": "white",
             "startlinecolor": "#2a3f5f"
            },
            "baxis": {
             "endlinecolor": "#2a3f5f",
             "gridcolor": "white",
             "linecolor": "white",
             "minorgridcolor": "white",
             "startlinecolor": "#2a3f5f"
            },
            "type": "carpet"
           }
          ],
          "choropleth": [
           {
            "colorbar": {
             "outlinewidth": 0,
             "ticks": ""
            },
            "type": "choropleth"
           }
          ],
          "contour": [
           {
            "colorbar": {
             "outlinewidth": 0,
             "ticks": ""
            },
            "colorscale": [
             [
              0,
              "#0d0887"
             ],
             [
              0.1111111111111111,
              "#46039f"
             ],
             [
              0.2222222222222222,
              "#7201a8"
             ],
             [
              0.3333333333333333,
              "#9c179e"
             ],
             [
              0.4444444444444444,
              "#bd3786"
             ],
             [
              0.5555555555555556,
              "#d8576b"
             ],
             [
              0.6666666666666666,
              "#ed7953"
             ],
             [
              0.7777777777777778,
              "#fb9f3a"
             ],
             [
              0.8888888888888888,
              "#fdca26"
             ],
             [
              1,
              "#f0f921"
             ]
            ],
            "type": "contour"
           }
          ],
          "contourcarpet": [
           {
            "colorbar": {
             "outlinewidth": 0,
             "ticks": ""
            },
            "type": "contourcarpet"
           }
          ],
          "heatmap": [
           {
            "colorbar": {
             "outlinewidth": 0,
             "ticks": ""
            },
            "colorscale": [
             [
              0,
              "#0d0887"
             ],
             [
              0.1111111111111111,
              "#46039f"
             ],
             [
              0.2222222222222222,
              "#7201a8"
             ],
             [
              0.3333333333333333,
              "#9c179e"
             ],
             [
              0.4444444444444444,
              "#bd3786"
             ],
             [
              0.5555555555555556,
              "#d8576b"
             ],
             [
              0.6666666666666666,
              "#ed7953"
             ],
             [
              0.7777777777777778,
              "#fb9f3a"
             ],
             [
              0.8888888888888888,
              "#fdca26"
             ],
             [
              1,
              "#f0f921"
             ]
            ],
            "type": "heatmap"
           }
          ],
          "heatmapgl": [
           {
            "colorbar": {
             "outlinewidth": 0,
             "ticks": ""
            },
            "colorscale": [
             [
              0,
              "#0d0887"
             ],
             [
              0.1111111111111111,
              "#46039f"
             ],
             [
              0.2222222222222222,
              "#7201a8"
             ],
             [
              0.3333333333333333,
              "#9c179e"
             ],
             [
              0.4444444444444444,
              "#bd3786"
             ],
             [
              0.5555555555555556,
              "#d8576b"
             ],
             [
              0.6666666666666666,
              "#ed7953"
             ],
             [
              0.7777777777777778,
              "#fb9f3a"
             ],
             [
              0.8888888888888888,
              "#fdca26"
             ],
             [
              1,
              "#f0f921"
             ]
            ],
            "type": "heatmapgl"
           }
          ],
          "histogram": [
           {
            "marker": {
             "colorbar": {
              "outlinewidth": 0,
              "ticks": ""
             }
            },
            "type": "histogram"
           }
          ],
          "histogram2d": [
           {
            "colorbar": {
             "outlinewidth": 0,
             "ticks": ""
            },
            "colorscale": [
             [
              0,
              "#0d0887"
             ],
             [
              0.1111111111111111,
              "#46039f"
             ],
             [
              0.2222222222222222,
              "#7201a8"
             ],
             [
              0.3333333333333333,
              "#9c179e"
             ],
             [
              0.4444444444444444,
              "#bd3786"
             ],
             [
              0.5555555555555556,
              "#d8576b"
             ],
             [
              0.6666666666666666,
              "#ed7953"
             ],
             [
              0.7777777777777778,
              "#fb9f3a"
             ],
             [
              0.8888888888888888,
              "#fdca26"
             ],
             [
              1,
              "#f0f921"
             ]
            ],
            "type": "histogram2d"
           }
          ],
          "histogram2dcontour": [
           {
            "colorbar": {
             "outlinewidth": 0,
             "ticks": ""
            },
            "colorscale": [
             [
              0,
              "#0d0887"
             ],
             [
              0.1111111111111111,
              "#46039f"
             ],
             [
              0.2222222222222222,
              "#7201a8"
             ],
             [
              0.3333333333333333,
              "#9c179e"
             ],
             [
              0.4444444444444444,
              "#bd3786"
             ],
             [
              0.5555555555555556,
              "#d8576b"
             ],
             [
              0.6666666666666666,
              "#ed7953"
             ],
             [
              0.7777777777777778,
              "#fb9f3a"
             ],
             [
              0.8888888888888888,
              "#fdca26"
             ],
             [
              1,
              "#f0f921"
             ]
            ],
            "type": "histogram2dcontour"
           }
          ],
          "mesh3d": [
           {
            "colorbar": {
             "outlinewidth": 0,
             "ticks": ""
            },
            "type": "mesh3d"
           }
          ],
          "parcoords": [
           {
            "line": {
             "colorbar": {
              "outlinewidth": 0,
              "ticks": ""
             }
            },
            "type": "parcoords"
           }
          ],
          "pie": [
           {
            "automargin": true,
            "type": "pie"
           }
          ],
          "scatter": [
           {
            "marker": {
             "colorbar": {
              "outlinewidth": 0,
              "ticks": ""
             }
            },
            "type": "scatter"
           }
          ],
          "scatter3d": [
           {
            "line": {
             "colorbar": {
              "outlinewidth": 0,
              "ticks": ""
             }
            },
            "marker": {
             "colorbar": {
              "outlinewidth": 0,
              "ticks": ""
             }
            },
            "type": "scatter3d"
           }
          ],
          "scattercarpet": [
           {
            "marker": {
             "colorbar": {
              "outlinewidth": 0,
              "ticks": ""
             }
            },
            "type": "scattercarpet"
           }
          ],
          "scattergeo": [
           {
            "marker": {
             "colorbar": {
              "outlinewidth": 0,
              "ticks": ""
             }
            },
            "type": "scattergeo"
           }
          ],
          "scattergl": [
           {
            "marker": {
             "colorbar": {
              "outlinewidth": 0,
              "ticks": ""
             }
            },
            "type": "scattergl"
           }
          ],
          "scattermapbox": [
           {
            "marker": {
             "colorbar": {
              "outlinewidth": 0,
              "ticks": ""
             }
            },
            "type": "scattermapbox"
           }
          ],
          "scatterpolar": [
           {
            "marker": {
             "colorbar": {
              "outlinewidth": 0,
              "ticks": ""
             }
            },
            "type": "scatterpolar"
           }
          ],
          "scatterpolargl": [
           {
            "marker": {
             "colorbar": {
              "outlinewidth": 0,
              "ticks": ""
             }
            },
            "type": "scatterpolargl"
           }
          ],
          "scatterternary": [
           {
            "marker": {
             "colorbar": {
              "outlinewidth": 0,
              "ticks": ""
             }
            },
            "type": "scatterternary"
           }
          ],
          "surface": [
           {
            "colorbar": {
             "outlinewidth": 0,
             "ticks": ""
            },
            "colorscale": [
             [
              0,
              "#0d0887"
             ],
             [
              0.1111111111111111,
              "#46039f"
             ],
             [
              0.2222222222222222,
              "#7201a8"
             ],
             [
              0.3333333333333333,
              "#9c179e"
             ],
             [
              0.4444444444444444,
              "#bd3786"
             ],
             [
              0.5555555555555556,
              "#d8576b"
             ],
             [
              0.6666666666666666,
              "#ed7953"
             ],
             [
              0.7777777777777778,
              "#fb9f3a"
             ],
             [
              0.8888888888888888,
              "#fdca26"
             ],
             [
              1,
              "#f0f921"
             ]
            ],
            "type": "surface"
           }
          ],
          "table": [
           {
            "cells": {
             "fill": {
              "color": "#EBF0F8"
             },
             "line": {
              "color": "white"
             }
            },
            "header": {
             "fill": {
              "color": "#C8D4E3"
             },
             "line": {
              "color": "white"
             }
            },
            "type": "table"
           }
          ]
         },
         "layout": {
          "annotationdefaults": {
           "arrowcolor": "#2a3f5f",
           "arrowhead": 0,
           "arrowwidth": 1
          },
          "coloraxis": {
           "colorbar": {
            "outlinewidth": 0,
            "ticks": ""
           }
          },
          "colorscale": {
           "diverging": [
            [
             0,
             "#8e0152"
            ],
            [
             0.1,
             "#c51b7d"
            ],
            [
             0.2,
             "#de77ae"
            ],
            [
             0.3,
             "#f1b6da"
            ],
            [
             0.4,
             "#fde0ef"
            ],
            [
             0.5,
             "#f7f7f7"
            ],
            [
             0.6,
             "#e6f5d0"
            ],
            [
             0.7,
             "#b8e186"
            ],
            [
             0.8,
             "#7fbc41"
            ],
            [
             0.9,
             "#4d9221"
            ],
            [
             1,
             "#276419"
            ]
           ],
           "sequential": [
            [
             0,
             "#0d0887"
            ],
            [
             0.1111111111111111,
             "#46039f"
            ],
            [
             0.2222222222222222,
             "#7201a8"
            ],
            [
             0.3333333333333333,
             "#9c179e"
            ],
            [
             0.4444444444444444,
             "#bd3786"
            ],
            [
             0.5555555555555556,
             "#d8576b"
            ],
            [
             0.6666666666666666,
             "#ed7953"
            ],
            [
             0.7777777777777778,
             "#fb9f3a"
            ],
            [
             0.8888888888888888,
             "#fdca26"
            ],
            [
             1,
             "#f0f921"
            ]
           ],
           "sequentialminus": [
            [
             0,
             "#0d0887"
            ],
            [
             0.1111111111111111,
             "#46039f"
            ],
            [
             0.2222222222222222,
             "#7201a8"
            ],
            [
             0.3333333333333333,
             "#9c179e"
            ],
            [
             0.4444444444444444,
             "#bd3786"
            ],
            [
             0.5555555555555556,
             "#d8576b"
            ],
            [
             0.6666666666666666,
             "#ed7953"
            ],
            [
             0.7777777777777778,
             "#fb9f3a"
            ],
            [
             0.8888888888888888,
             "#fdca26"
            ],
            [
             1,
             "#f0f921"
            ]
           ]
          },
          "colorway": [
           "#636efa",
           "#EF553B",
           "#00cc96",
           "#ab63fa",
           "#FFA15A",
           "#19d3f3",
           "#FF6692",
           "#B6E880",
           "#FF97FF",
           "#FECB52"
          ],
          "font": {
           "color": "#2a3f5f"
          },
          "geo": {
           "bgcolor": "white",
           "lakecolor": "white",
           "landcolor": "#E5ECF6",
           "showlakes": true,
           "showland": true,
           "subunitcolor": "white"
          },
          "hoverlabel": {
           "align": "left"
          },
          "hovermode": "closest",
          "mapbox": {
           "style": "light"
          },
          "paper_bgcolor": "white",
          "plot_bgcolor": "#E5ECF6",
          "polar": {
           "angularaxis": {
            "gridcolor": "white",
            "linecolor": "white",
            "ticks": ""
           },
           "bgcolor": "#E5ECF6",
           "radialaxis": {
            "gridcolor": "white",
            "linecolor": "white",
            "ticks": ""
           }
          },
          "scene": {
           "xaxis": {
            "backgroundcolor": "#E5ECF6",
            "gridcolor": "white",
            "gridwidth": 2,
            "linecolor": "white",
            "showbackground": true,
            "ticks": "",
            "zerolinecolor": "white"
           },
           "yaxis": {
            "backgroundcolor": "#E5ECF6",
            "gridcolor": "white",
            "gridwidth": 2,
            "linecolor": "white",
            "showbackground": true,
            "ticks": "",
            "zerolinecolor": "white"
           },
           "zaxis": {
            "backgroundcolor": "#E5ECF6",
            "gridcolor": "white",
            "gridwidth": 2,
            "linecolor": "white",
            "showbackground": true,
            "ticks": "",
            "zerolinecolor": "white"
           }
          },
          "shapedefaults": {
           "line": {
            "color": "#2a3f5f"
           }
          },
          "ternary": {
           "aaxis": {
            "gridcolor": "white",
            "linecolor": "white",
            "ticks": ""
           },
           "baxis": {
            "gridcolor": "white",
            "linecolor": "white",
            "ticks": ""
           },
           "bgcolor": "#E5ECF6",
           "caxis": {
            "gridcolor": "white",
            "linecolor": "white",
            "ticks": ""
           }
          },
          "title": {
           "x": 0.05
          },
          "xaxis": {
           "automargin": true,
           "gridcolor": "white",
           "linecolor": "white",
           "ticks": "",
           "title": {
            "standoff": 15
           },
           "zerolinecolor": "white",
           "zerolinewidth": 2
          },
          "yaxis": {
           "automargin": true,
           "gridcolor": "white",
           "linecolor": "white",
           "ticks": "",
           "title": {
            "standoff": 15
           },
           "zerolinecolor": "white",
           "zerolinewidth": 2
          }
         }
        },
        "title": {
         "text": "Age Distribution of Candidates"
        },
        "xaxis": {
         "anchor": "y",
         "domain": [
          0,
          1
         ],
         "title": {
          "text": "AGE"
         }
        },
        "yaxis": {
         "anchor": "x",
         "domain": [
          0,
          1
         ],
         "title": {
          "text": "count"
         }
        }
       }
      },
      "text/html": [
       "<div>                            <div id=\"85220a9e-3fb5-4860-bdcb-a4e4ccec8356\" class=\"plotly-graph-div\" style=\"height:525px; width:100%;\"></div>            <script type=\"text/javascript\">                require([\"plotly\"], function(Plotly) {                    window.PLOTLYENV=window.PLOTLYENV || {};                                    if (document.getElementById(\"85220a9e-3fb5-4860-bdcb-a4e4ccec8356\")) {                    Plotly.newPlot(                        \"85220a9e-3fb5-4860-bdcb-a4e4ccec8356\",                        [{\"alignmentgroup\": \"True\", \"bingroup\": \"x\", \"hovertemplate\": \"AGE=%{x}<br>count=%{y}<extra></extra>\", \"legendgroup\": \"\", \"marker\": {\"color\": \"#636efa\"}, \"name\": \"\", \"offsetgroup\": \"\", \"orientation\": \"v\", \"showlegend\": false, \"type\": \"histogram\", \"x\": [52, 54, 52, 58, 47, 54, 37, 34, 62, 58, 38, 69, 68, 66, 64, 40, 60, 60, 64, 46, 58, 60, 64, 60, 54, 52, 64, 32, 44, 61, 46, 51, 62, 43, 52, 42, 44, 69, 63, 49, 77, 46, 60, 41, 35, 47, 31, 46, 28, 59, 67, 56, 55, 61, 38, 71, 36, 43, 48, 33, 71, 47, 56, 64, 42, 47, 46, 67, 58, 55, 43, 58, 35, 52, 43, 56, 65, 54, 65, 53, 69, 62, 51, 48, 45, 29, 58, 65, 60, 59, 53, 60, 45, 52, 46, 61, 49, 43, 50, 57, 64, 71, 55, 43, 40, 61, 33, 55, 59, 41, 46, 63, 55, 37, 41, 52, 50, 66, 36, 81, 70, 26, 72, 49, 54, 46, 61, 37, 54, 69, 47, 38, 68, 47, 51, 56, 42, 45, 48, 65, 59, 37, 62, 70, 47, 47, 63, 56, 49, 53, 50, 34, 55, 67, 41, 56, 62, 42, 43, 35, 58, 46, 49, 76, 68, 61, 39, 45, 40, 34, 40, 66, 68, 38, 63, 40, 63, 55, 55, 38, 66, 73, 60, 38, 66, 53, 68, 62, 64, 51, 46, 62, 56, 51, 39, 52, 50, 40, 70, 75, 39, 49, 33, 59, 74, 59, 37, 55, 39, 53, 66, 46, 52, 59, 43, 28, 64, 37, 51, 55, 28, 58, 65, 61, 44, 46, 38, 50, 65, 72, 67, 40, 42, 62, 62, 65, 43, 31, 26, 42, 65, 64, 65, 51, 68, 34, 49, 34, 43, 71, 67, 54, 59, 55, 65, 48, 60, 68, 61, 57, 67, 73, 50, 39, 61, 61, 58, 37, 49, 53, 70, 63, 61, 59, 69, 51, 45, 55, 39, 44, 66, 44, 65, 57, 68, 47, 44, 28, 42, 51, 70, 38, 46, 42, 55, 38, 29, 40, 45, 65, 50, 42, 52, 41, 33, 54, 36, 48, 62, 57, 66, 32, 59, 27, 63, 69, 67, 65, 68, 44, 52, 55, 31, 44, 44, 59, 59, 42, 49, 42, 41, 43, 50, 64, 37, 68, 56, 39, 59, 56, 61, 37, 73, 40, 55, 50, 62, 52, 40, 42, 45, 28, 67, 58, 62, 69, 27, 64, 43, 30, 46, 55, 60, 46, 54, 44, 49, 71, 49, 63, 71, 50, 57, 65, 66, 42, 33, 36, 53, 55, 59, 65, 55, 47, 51, 51, 47, 49, 63, 54, 51, 49, 38, 39, 72, 67, 57, 45, 45, 49, 63, 53, 61, 47, 44, 42, 50, 58, 58, 58, 57, 66, 75, 50, 34, 42, 66, 71, 59, 71, 58, 42, 62, 43, 52, 32, 66, 70, 78, 44, 64, 74, 52, 43, 64, 48, 55, 62, 52, 40, 36, 43, 66, 41, 52, 41, 54, 31, 48, 49, 65, 62, 33, 44, 56, 31, 40, 26, 55, 54, 59, 58, 44, 57, 56, 45, 47, 53, 48, 56, 46, 55, 35, 49, 76, 79, 65, 48, 55, 72, 49, 62, 64, 68, 67, 60, 45, 43, 68, 42, 58, 41, 57, 68, 61, 55, 36, 68, 33, 66, 61, 38, 48, 69, 49, 40, 44, 62, 63, 67, 56, 46, 40, 35, 33, 31, 52, 58, 64, 51, 52, 34, 57, 63, 44, 42, 59, 57, 34, 49, 67, 58, 64, 33, 71, 65, 46, 49, 71, 54, 36, 67, 51, 69, 56, 57, 35, 65, 43, 69, 58, 65, 38, 61, 41, 50, 57, 30, 43, 56, 52, 45, 63, 42, 58, 59, 77, 63, 52, 50, 66, 45, 46, 31, 43, 48, 49, 48, 67, 52, 48, 42, 56, 52, 40, 44, 70, 53, 68, 37, 37, 71, 53, 67, 37, 39, 72, 60, 45, 44, 45, 59, 61, 25, 37, 50, 37, 48, 46, 59, 71, 55, 35, 51, 65, 72, 52, 43, 43, 41, 58, 70, 54, 35, 45, 64, 55, 68, 62, 62, 43, 78, 61, 78, 61, 50, 54, 66, 65, 66, 44, 35, 52, 62, 63, 52, 68, 44, 68, 32, 64, 56, 56, 49, 54, 55, 48, 66, 44, 59, 54, 61, 48, 63, 74, 55, 50, 67, 52, 53, 59, 42, 30, 55, 73, 49, 61, 27, 46, 48, 38, 53, 49, 52, 36, 56, 63, 33, 67, 76, 34, 65, 59, 59, 46, 36, 78, 53, 70, 64, 50, 52, 47, 53, 46, 82, 36, 53, 52, 62, 61, 41, 29, 40, 46, 44, 51, 58, 64, 60, 77, 43, 48, 41, 53, 52, 50, 53, 59, 65, 37, 49, 69, 60, 58, 71, 56, 50, 66, 49, 32, 33, 47, 41, 44, 45, 42, 68, 64, 43, 61, 55, 46, 59, 70, 60, 28, 60, 29, 61, 68, 71, 38, 51, 56, 52, 72, 55, 74, 73, 42, 34, 50, 63, 41, 60, 48, 56, 60, 44, 46, 31, 26, 58, 45, 70, 54, 57, 54, 39, 68, 70, 49, 68, 42, 64, 60, 44, 61, 49, 67, 46, 46, 37, 49, 49, 57, 58, 67, 59, 69, 40, 59, 56, 63, 78, 30, 37, 68, 54, 55, 56, 68, 60, 60, 54, 38, 38, 68, 61, 44, 49, 41, 45, 61, 50, 72, 82, 40, 69, 60, 46, 56, 55, 40, 63, 50, 65, 50, 65, 42, 44, 51, 62, 62, 61, 56, 56, 44, 60, 56, 62, 37, 56, 40, 51, 60, 32, 58, 48, 59, 53, 65, 52, 42, 60, 65, 42, 48, 53, 43, 67, 64, 50, 48, 48, 63, 51, 29, 65, 45, 53, 54, 59, 47, 56, 48, 48, 54, 58, 64, 51, 38, 50, 44, 42, 36, 55, 48, 40, 52, 34, 61, 48, 48, 64, 62, 66, 54, 55, 49, 62, 58, 52, 60, 43, 42, 36, 41, 57, 44, 51, 69, 40, 40, 32, 52, 54, 35, 44, 36, 26, 51, 55, 66, 37, 67, 45, 61, 52, 39, 41, 68, 67, 41, 55, 70, 69, 70, 71, 74, 61, 77, 46, 38, 65, 64, 56, 63, 45, 48, 43, 49, 31, 44, 46, 66, 37, 47, 59, 52, 38, 51, 62, 31, 41, 56, 43, 73, 53, 52, 42, 65, 61, 52, 51, 68, 49, 57, 61, 44, 52, 37, 55, 65, 25, 49, 43, 48, 65, 65, 33, 52, 40, 31, 27, 35, 44, 38, 49, 39, 39, 62, 64, 54, 47, 46, 61, 66, 45, 60, 43, 55, 39, 33, 54, 58, 60, 29, 71, 68, 50, 57, 40, 50, 54, 54, 55, 42, 50, 61, 46, 28, 50, 69, 56, 50, 26, 44, 71, 54, 47, 37, 61, 58, 53, 44, 70, 55, 50, 57, 58, 55, 57, 64, 38, 40, 33, 63, 61, 67, 45, 27, 65, 52, 45, 45, 44, 56, 75, 66, 64, 68, 66, 55, 39, 58, 67, 37, 50, 44, 40, 57, 70, 52, 67, 42, 48, 58, 49, 66, 59, 57, 26, 50, 65, 55, 33, 37, 54, 61, 53, 51, 51, 43, 36, 64, 44, 43, 45, 29, 57, 59, 59, 52, 57, 53, 41, 26, 47, 67, 68, 56, 43, 48, 69, 32, 58, 70, 70, 50, 68, 44, 42, 50, 78, 43, 67, 71, 51, 57, 49, 46, 63, 57, 30, 39, 49, 36, 42, 52, 38, 39, 55, 33, 45, 37, 38, 49, 54, 55, 36, 55, 41, 51, 47, 67, 51, 66, 33, 60, 59, 38, 71, 73, 79, 60, 67, 30, 54, 48, 72, 54, 63, 59, 39, 47, 69, 51, 50, 59, 43, 60, 32, 48, 59, 58, 57, 43, 40, 59, 45, 55, 31, 36, 45, 67, 55, 70, 66, 63, 80, 46, 42, 63, 55, 29, 47, 56, 53, 64, 74, 64, 39, 27, 46, 54, 41, 47, 47, 53, 46, 54, 49, 61, 33, 54, 67, 50, 64, 68, 60, 68, 37, 54, 41, 64, 52, 44, 53, 62, 41, 59, 36, 54, 59, 49, 60, 60, 67, 32, 61, 59, 61, 65, 48, 48, 38, 52, 46, 46, 50, 50, 75, 54, 46, 67, 43, 68, 47, 79, 51, 41, 65, 48, 38, 50, 46, 42, 34, 57, 69, 56, 64, 46, 78, 50, 41, 70, 40, 42, 62, 46, 40, 43, 57, 59, 62, 75, 38, 63, 41, 36, 25, 61, 66, 68, 43, 53, 45, 47, 47, 41, 55, 56, 69, 62, 56, 47, 47, 57, 71, 46, 60, 46, 61, 60, 33, 33, 55, 63, 61, 45, 54, 70, 44, 57, 54, 57, 60, 42, 31, 61, 33, 58, 60, 57, 69, 33, 35, 75, 52, 64, 57, 48, 58, 71, 59, 48, 45, 61, 38, 64, 47, 36, 53, 33, 67, 70, 60, 67, 51, 55, 43, 55, 59, 55, 66, 43, 41, 61, 47, 81, 38, 43, 66, 52, 59, 57, 70, 53, 59, 46, 65, 61, 49, 35, 47, 39, 59, 36, 56, 64, 43, 49, 48, 48, 68, 51, 47, 40, 28, 65, 33, 51, 63, 55, 34, 43, 65, 69, 59, 68, 52, 39, 37, 52, 54, 41, 39, 39, 58, 42, 46, 64, 62, 62, 42, 49, 74, 68, 68, 47, 64, 73, 42, 60, 52, 42, 36, 77, 55, 36, 58, 62, 58, 38, 39, 43, 49, 47, 40, 35, 49, 72, 51, 61, 40, 36, 57, 57, 44, 48, 45, 57, 51, 68, 29, 72, 30, 68, 62, 35, 59, 45, 51, 43, 66, 32, 29, 49, 34, 56, 58, 73, 69, 27, 30, 42, 34, 55, 72, 51, 62, 53, 37, 64, 67, 61, 50, 48, 64, 61, 58, 43, 42, 58, 57, 53, 36, 45, 55, 55, 42, 68, 42, 48, 58, 50, 67, 61, 48, 36, 63, 56, 32, 65, 51, 60, 45, 48, 76, 45, 44, 39, 59, 38, 37, 30, 64, 57, 56, 53, 61, 29, 58, 56, 25, 56, 56, 60, 67, 77, 62, 68, 28, 65, 38, 62, 74, 28, 32, 31, 59, 39, 62, 34, 36, 49, 66, 67, 64, 28, 55, 64, 56, 41, 51, 32, 67, 46, 38, 51, 65, 47, 67, 44, 48, 49, 44, 28, 57, 57, 55, 62, 54, 61, 58, 64, 46, 37, 25, 40, 32, 47, 61, 62, 86, 64, 78, 54, 38, 36, 45, 68, 43, 74, 46, 30, 54, 60, 58, 61, 44, 53, 55, 72, 44, 40, 63, 74, 35, 48, 53, 44, 63, 56, 66, 62, 58, 32, 58, 44, 32, 50, 31, 65, 27, 42, 48, 47, 69, 52, 73, 44, 51, 30, 31, 51, 51, 54, 52, 48, 78, 46, 52, 56, 64, 39, 69, 58, 32, 38, 64, 36, 49, 52, 54, 63, 41, 63, 39, 48, 63, 34, 67, 61, 63, 30, 42, 33, 58, 48, 46, 35, 57, 29, 25, 31, 31, 51, 43, 37, 49, 50, 58, 47, 33, 48, 55, 48, 58, 53, 45, 47, 61, 43, 27, 46, 59, 33, 46, 54, 43, 46, 47, 63, 77, 64, 62, 72, 28, 44, 57, 30, 33, 52, 73, 52, 56, 62, 42, 44, 60, 32, 52, 53, 53, 83, 58, 41, 43, 77, 49, 46, 41, 59, 62, 43, 67, 42, 58, 39, 60, 48, 73, 46, 52, 26, 50, 32, 27, 41, 58, 45, 50, 79, 35, 36, 42, 50, 31, 73, 68, 60, 59, 44, 66, 32, 32, 44, 41, 60, 68, 57, 46, 47, 68, 52, 62, 44, 63, 53, 39, 70, 58, 59, 51, 69, 66, 35, 42, 43, 48, 63, 66, 76, 51, 57, 52, 55, 59, 58, 64, 60, 65, 47, 56, 69, 70, 60, 33, 53, 54, 47, 55, 41, 53, 63, 60, 64, 52, 44, 71, 56, 46, 65, 50, 45, 59, 47, 41, 44, 61, 75, 30, 43, 50, 60, 76, 50, 58, 62, 42, 78, 86, 74, 38, 53, 55, 54, 59, 65, 51, 53, 62, 54, 59, 60, 62, 52, 50, 43, 53, 56, 49, 31, 51, 42, 64, 41, 47, 56, 57, 56, 58, 40, 63, 61, 61, 51, 39, 62, 66, 43, 56, 44, 48, 72, 26, 36, 37, 46, 46, 62, 32, 42, 54, 35, 38, 69, 54, 54, 68, 47, 49, 65, 43, 51, 53, 48, 66, 48, 58, 58, 66, 55, 30, 48, 64, 44, 47, 45, 41, 36, 52, 29, 53, 58, 48, 57, 67, 39, 52, 51, 56, 65, 45, 37, 65, 53, 63, 37, 48, 50, 50, 41, 64, 47, 46, 64, 37, 64, 28, 43, 63, 49, 47], \"xaxis\": \"x\", \"yaxis\": \"y\"}],                        {\"barmode\": \"relative\", \"legend\": {\"tracegroupgap\": 0}, \"margin\": {\"t\": 60}, \"template\": {\"data\": {\"bar\": [{\"error_x\": {\"color\": \"#2a3f5f\"}, \"error_y\": {\"color\": \"#2a3f5f\"}, \"marker\": {\"line\": {\"color\": \"#E5ECF6\", \"width\": 0.5}}, \"type\": \"bar\"}], \"barpolar\": [{\"marker\": {\"line\": {\"color\": \"#E5ECF6\", \"width\": 0.5}}, \"type\": \"barpolar\"}], \"carpet\": [{\"aaxis\": {\"endlinecolor\": \"#2a3f5f\", \"gridcolor\": \"white\", \"linecolor\": \"white\", \"minorgridcolor\": \"white\", \"startlinecolor\": \"#2a3f5f\"}, \"baxis\": {\"endlinecolor\": \"#2a3f5f\", \"gridcolor\": \"white\", \"linecolor\": \"white\", \"minorgridcolor\": \"white\", \"startlinecolor\": \"#2a3f5f\"}, \"type\": \"carpet\"}], \"choropleth\": [{\"colorbar\": {\"outlinewidth\": 0, \"ticks\": \"\"}, \"type\": \"choropleth\"}], \"contour\": [{\"colorbar\": {\"outlinewidth\": 0, \"ticks\": \"\"}, \"colorscale\": [[0.0, \"#0d0887\"], [0.1111111111111111, \"#46039f\"], [0.2222222222222222, \"#7201a8\"], [0.3333333333333333, \"#9c179e\"], [0.4444444444444444, \"#bd3786\"], [0.5555555555555556, \"#d8576b\"], [0.6666666666666666, \"#ed7953\"], [0.7777777777777778, \"#fb9f3a\"], [0.8888888888888888, \"#fdca26\"], [1.0, \"#f0f921\"]], \"type\": \"contour\"}], \"contourcarpet\": [{\"colorbar\": {\"outlinewidth\": 0, \"ticks\": \"\"}, \"type\": \"contourcarpet\"}], \"heatmap\": [{\"colorbar\": {\"outlinewidth\": 0, \"ticks\": \"\"}, \"colorscale\": [[0.0, \"#0d0887\"], [0.1111111111111111, \"#46039f\"], [0.2222222222222222, \"#7201a8\"], [0.3333333333333333, \"#9c179e\"], [0.4444444444444444, \"#bd3786\"], [0.5555555555555556, \"#d8576b\"], [0.6666666666666666, \"#ed7953\"], [0.7777777777777778, \"#fb9f3a\"], [0.8888888888888888, \"#fdca26\"], [1.0, \"#f0f921\"]], \"type\": \"heatmap\"}], \"heatmapgl\": [{\"colorbar\": {\"outlinewidth\": 0, \"ticks\": \"\"}, \"colorscale\": [[0.0, \"#0d0887\"], [0.1111111111111111, \"#46039f\"], [0.2222222222222222, \"#7201a8\"], [0.3333333333333333, \"#9c179e\"], [0.4444444444444444, \"#bd3786\"], [0.5555555555555556, \"#d8576b\"], [0.6666666666666666, \"#ed7953\"], [0.7777777777777778, \"#fb9f3a\"], [0.8888888888888888, \"#fdca26\"], [1.0, \"#f0f921\"]], \"type\": \"heatmapgl\"}], \"histogram\": [{\"marker\": {\"colorbar\": {\"outlinewidth\": 0, \"ticks\": \"\"}}, \"type\": \"histogram\"}], \"histogram2d\": [{\"colorbar\": {\"outlinewidth\": 0, \"ticks\": \"\"}, \"colorscale\": [[0.0, \"#0d0887\"], [0.1111111111111111, \"#46039f\"], [0.2222222222222222, \"#7201a8\"], [0.3333333333333333, \"#9c179e\"], [0.4444444444444444, \"#bd3786\"], [0.5555555555555556, \"#d8576b\"], [0.6666666666666666, \"#ed7953\"], [0.7777777777777778, \"#fb9f3a\"], [0.8888888888888888, \"#fdca26\"], [1.0, \"#f0f921\"]], \"type\": \"histogram2d\"}], \"histogram2dcontour\": [{\"colorbar\": {\"outlinewidth\": 0, \"ticks\": \"\"}, \"colorscale\": [[0.0, \"#0d0887\"], [0.1111111111111111, \"#46039f\"], [0.2222222222222222, \"#7201a8\"], [0.3333333333333333, \"#9c179e\"], [0.4444444444444444, \"#bd3786\"], [0.5555555555555556, \"#d8576b\"], [0.6666666666666666, \"#ed7953\"], [0.7777777777777778, \"#fb9f3a\"], [0.8888888888888888, \"#fdca26\"], [1.0, \"#f0f921\"]], \"type\": \"histogram2dcontour\"}], \"mesh3d\": [{\"colorbar\": {\"outlinewidth\": 0, \"ticks\": \"\"}, \"type\": \"mesh3d\"}], \"parcoords\": [{\"line\": {\"colorbar\": {\"outlinewidth\": 0, \"ticks\": \"\"}}, \"type\": \"parcoords\"}], \"pie\": [{\"automargin\": true, \"type\": \"pie\"}], \"scatter\": [{\"marker\": {\"colorbar\": {\"outlinewidth\": 0, \"ticks\": \"\"}}, \"type\": \"scatter\"}], \"scatter3d\": [{\"line\": {\"colorbar\": {\"outlinewidth\": 0, \"ticks\": \"\"}}, \"marker\": {\"colorbar\": {\"outlinewidth\": 0, \"ticks\": \"\"}}, \"type\": \"scatter3d\"}], \"scattercarpet\": [{\"marker\": {\"colorbar\": {\"outlinewidth\": 0, \"ticks\": \"\"}}, \"type\": \"scattercarpet\"}], \"scattergeo\": [{\"marker\": {\"colorbar\": {\"outlinewidth\": 0, \"ticks\": \"\"}}, \"type\": \"scattergeo\"}], \"scattergl\": [{\"marker\": {\"colorbar\": {\"outlinewidth\": 0, \"ticks\": \"\"}}, \"type\": \"scattergl\"}], \"scattermapbox\": [{\"marker\": {\"colorbar\": {\"outlinewidth\": 0, \"ticks\": \"\"}}, \"type\": \"scattermapbox\"}], \"scatterpolar\": [{\"marker\": {\"colorbar\": {\"outlinewidth\": 0, \"ticks\": \"\"}}, \"type\": \"scatterpolar\"}], \"scatterpolargl\": [{\"marker\": {\"colorbar\": {\"outlinewidth\": 0, \"ticks\": \"\"}}, \"type\": \"scatterpolargl\"}], \"scatterternary\": [{\"marker\": {\"colorbar\": {\"outlinewidth\": 0, \"ticks\": \"\"}}, \"type\": \"scatterternary\"}], \"surface\": [{\"colorbar\": {\"outlinewidth\": 0, \"ticks\": \"\"}, \"colorscale\": [[0.0, \"#0d0887\"], [0.1111111111111111, \"#46039f\"], [0.2222222222222222, \"#7201a8\"], [0.3333333333333333, \"#9c179e\"], [0.4444444444444444, \"#bd3786\"], [0.5555555555555556, \"#d8576b\"], [0.6666666666666666, \"#ed7953\"], [0.7777777777777778, \"#fb9f3a\"], [0.8888888888888888, \"#fdca26\"], [1.0, \"#f0f921\"]], \"type\": \"surface\"}], \"table\": [{\"cells\": {\"fill\": {\"color\": \"#EBF0F8\"}, \"line\": {\"color\": \"white\"}}, \"header\": {\"fill\": {\"color\": \"#C8D4E3\"}, \"line\": {\"color\": \"white\"}}, \"type\": \"table\"}]}, \"layout\": {\"annotationdefaults\": {\"arrowcolor\": \"#2a3f5f\", \"arrowhead\": 0, \"arrowwidth\": 1}, \"coloraxis\": {\"colorbar\": {\"outlinewidth\": 0, \"ticks\": \"\"}}, \"colorscale\": {\"diverging\": [[0, \"#8e0152\"], [0.1, \"#c51b7d\"], [0.2, \"#de77ae\"], [0.3, \"#f1b6da\"], [0.4, \"#fde0ef\"], [0.5, \"#f7f7f7\"], [0.6, \"#e6f5d0\"], [0.7, \"#b8e186\"], [0.8, \"#7fbc41\"], [0.9, \"#4d9221\"], [1, \"#276419\"]], \"sequential\": [[0.0, \"#0d0887\"], [0.1111111111111111, \"#46039f\"], [0.2222222222222222, \"#7201a8\"], [0.3333333333333333, \"#9c179e\"], [0.4444444444444444, \"#bd3786\"], [0.5555555555555556, \"#d8576b\"], [0.6666666666666666, \"#ed7953\"], [0.7777777777777778, \"#fb9f3a\"], [0.8888888888888888, \"#fdca26\"], [1.0, \"#f0f921\"]], \"sequentialminus\": [[0.0, \"#0d0887\"], [0.1111111111111111, \"#46039f\"], [0.2222222222222222, \"#7201a8\"], [0.3333333333333333, \"#9c179e\"], [0.4444444444444444, \"#bd3786\"], [0.5555555555555556, \"#d8576b\"], [0.6666666666666666, \"#ed7953\"], [0.7777777777777778, \"#fb9f3a\"], [0.8888888888888888, \"#fdca26\"], [1.0, \"#f0f921\"]]}, \"colorway\": [\"#636efa\", \"#EF553B\", \"#00cc96\", \"#ab63fa\", \"#FFA15A\", \"#19d3f3\", \"#FF6692\", \"#B6E880\", \"#FF97FF\", \"#FECB52\"], \"font\": {\"color\": \"#2a3f5f\"}, \"geo\": {\"bgcolor\": \"white\", \"lakecolor\": \"white\", \"landcolor\": \"#E5ECF6\", \"showlakes\": true, \"showland\": true, \"subunitcolor\": \"white\"}, \"hoverlabel\": {\"align\": \"left\"}, \"hovermode\": \"closest\", \"mapbox\": {\"style\": \"light\"}, \"paper_bgcolor\": \"white\", \"plot_bgcolor\": \"#E5ECF6\", \"polar\": {\"angularaxis\": {\"gridcolor\": \"white\", \"linecolor\": \"white\", \"ticks\": \"\"}, \"bgcolor\": \"#E5ECF6\", \"radialaxis\": {\"gridcolor\": \"white\", \"linecolor\": \"white\", \"ticks\": \"\"}}, \"scene\": {\"xaxis\": {\"backgroundcolor\": \"#E5ECF6\", \"gridcolor\": \"white\", \"gridwidth\": 2, \"linecolor\": \"white\", \"showbackground\": true, \"ticks\": \"\", \"zerolinecolor\": \"white\"}, \"yaxis\": {\"backgroundcolor\": \"#E5ECF6\", \"gridcolor\": \"white\", \"gridwidth\": 2, \"linecolor\": \"white\", \"showbackground\": true, \"ticks\": \"\", \"zerolinecolor\": \"white\"}, \"zaxis\": {\"backgroundcolor\": \"#E5ECF6\", \"gridcolor\": \"white\", \"gridwidth\": 2, \"linecolor\": \"white\", \"showbackground\": true, \"ticks\": \"\", \"zerolinecolor\": \"white\"}}, \"shapedefaults\": {\"line\": {\"color\": \"#2a3f5f\"}}, \"ternary\": {\"aaxis\": {\"gridcolor\": \"white\", \"linecolor\": \"white\", \"ticks\": \"\"}, \"baxis\": {\"gridcolor\": \"white\", \"linecolor\": \"white\", \"ticks\": \"\"}, \"bgcolor\": \"#E5ECF6\", \"caxis\": {\"gridcolor\": \"white\", \"linecolor\": \"white\", \"ticks\": \"\"}}, \"title\": {\"x\": 0.05}, \"xaxis\": {\"automargin\": true, \"gridcolor\": \"white\", \"linecolor\": \"white\", \"ticks\": \"\", \"title\": {\"standoff\": 15}, \"zerolinecolor\": \"white\", \"zerolinewidth\": 2}, \"yaxis\": {\"automargin\": true, \"gridcolor\": \"white\", \"linecolor\": \"white\", \"ticks\": \"\", \"title\": {\"standoff\": 15}, \"zerolinecolor\": \"white\", \"zerolinewidth\": 2}}}, \"title\": {\"text\": \"Age Distribution of Candidates\"}, \"xaxis\": {\"anchor\": \"y\", \"domain\": [0.0, 1.0], \"title\": {\"text\": \"AGE\"}}, \"yaxis\": {\"anchor\": \"x\", \"domain\": [0.0, 1.0], \"title\": {\"text\": \"count\"}}},                        {\"responsive\": true}                    ).then(function(){\n",
       "                            \n",
       "var gd = document.getElementById('85220a9e-3fb5-4860-bdcb-a4e4ccec8356');\n",
       "var x = new MutationObserver(function (mutations, observer) {{\n",
       "        var display = window.getComputedStyle(gd).display;\n",
       "        if (!display || display === 'none') {{\n",
       "            console.log([gd, 'removed!']);\n",
       "            Plotly.purge(gd);\n",
       "            observer.disconnect();\n",
       "        }}\n",
       "}});\n",
       "\n",
       "// Listen for the removal of the full notebook cells\n",
       "var notebookContainer = gd.closest('#notebook-container');\n",
       "if (notebookContainer) {{\n",
       "    x.observe(notebookContainer, {childList: true});\n",
       "}}\n",
       "\n",
       "// Listen for the clearing of the current output cell\n",
       "var outputEl = gd.closest('.output');\n",
       "if (outputEl) {{\n",
       "    x.observe(outputEl, {childList: true});\n",
       "}}\n",
       "\n",
       "                        })                };                });            </script>        </div>"
      ]
     },
     "metadata": {},
     "output_type": "display_data"
    }
   ],
   "source": [
    "# Visualize the age distribution of candidates\n",
    "age_distribution_fig = px.histogram(df, x=\"AGE\")\n",
    "age_distribution_fig.update_layout(title_text='Age Distribution of Candidates')\n",
    "age_distribution_fig.show()"
   ]
  },
  {
   "cell_type": "markdown",
   "metadata": {},
   "source": [
    "## 6. Preparing the data"
   ]
  },
  {
   "cell_type": "markdown",
   "metadata": {},
   "source": [
    "### 6.1 Resampling the dataset"
   ]
  },
  {
   "cell_type": "code",
   "execution_count": 28,
   "metadata": {},
   "outputs": [
    {
     "data": {
      "text/html": [
       "<div>\n",
       "<style scoped>\n",
       "    .dataframe tbody tr th:only-of-type {\n",
       "        vertical-align: middle;\n",
       "    }\n",
       "\n",
       "    .dataframe tbody tr th {\n",
       "        vertical-align: top;\n",
       "    }\n",
       "\n",
       "    .dataframe thead th {\n",
       "        text-align: right;\n",
       "    }\n",
       "</style>\n",
       "<table border=\"1\" class=\"dataframe\">\n",
       "  <thead>\n",
       "    <tr style=\"text-align: right;\">\n",
       "      <th></th>\n",
       "      <th>Result</th>\n",
       "      <th>Total</th>\n",
       "    </tr>\n",
       "  </thead>\n",
       "  <tbody>\n",
       "    <tr>\n",
       "      <th>0</th>\n",
       "      <td>0</td>\n",
       "      <td>1479</td>\n",
       "    </tr>\n",
       "    <tr>\n",
       "      <th>1</th>\n",
       "      <td>1</td>\n",
       "      <td>539</td>\n",
       "    </tr>\n",
       "  </tbody>\n",
       "</table>\n",
       "</div>"
      ],
      "text/plain": [
       "   Result  Total\n",
       "0       0   1479\n",
       "1       1    539"
      ]
     },
     "execution_count": 28,
     "metadata": {},
     "output_type": "execute_result"
    }
   ],
   "source": [
    "# Creating a dataframe of total counts of the winners and losers\n",
    "total_winner = df[df['WINNER'] == 1]\n",
    "total_loser = df[df['WINNER'] == 0]\n",
    "total_results = df['WINNER'].value_counts().reset_index()\n",
    "total_results.columns = ['Result', 'Total']\n",
    "total_results"
   ]
  },
  {
   "cell_type": "code",
   "execution_count": 29,
   "metadata": {},
   "outputs": [
    {
     "data": {
      "application/vnd.plotly.v1+json": {
       "config": {
        "plotlyServerURL": "https://plot.ly"
       },
       "data": [
        {
         "alignmentgroup": "True",
         "hovertemplate": "x=%{x}<br>Total=%{marker.color}<extra></extra>",
         "legendgroup": "",
         "marker": {
          "color": [
           1479,
           539
          ],
          "coloraxis": "coloraxis"
         },
         "name": "",
         "offsetgroup": "",
         "orientation": "v",
         "showlegend": false,
         "textposition": "auto",
         "type": "bar",
         "x": [
          "Loser",
          "Winner"
         ],
         "xaxis": "x",
         "y": [
          1479,
          539
         ],
         "yaxis": "y"
        }
       ],
       "layout": {
        "barmode": "relative",
        "coloraxis": {
         "colorbar": {
          "title": {
           "text": "Total"
          }
         },
         "colorscale": [
          [
           0,
           "#0d0887"
          ],
          [
           0.1111111111111111,
           "#46039f"
          ],
          [
           0.2222222222222222,
           "#7201a8"
          ],
          [
           0.3333333333333333,
           "#9c179e"
          ],
          [
           0.4444444444444444,
           "#bd3786"
          ],
          [
           0.5555555555555556,
           "#d8576b"
          ],
          [
           0.6666666666666666,
           "#ed7953"
          ],
          [
           0.7777777777777778,
           "#fb9f3a"
          ],
          [
           0.8888888888888888,
           "#fdca26"
          ],
          [
           1,
           "#f0f921"
          ]
         ]
        },
        "legend": {
         "tracegroupgap": 0
        },
        "margin": {
         "t": 60
        },
        "template": {
         "data": {
          "bar": [
           {
            "error_x": {
             "color": "#2a3f5f"
            },
            "error_y": {
             "color": "#2a3f5f"
            },
            "marker": {
             "line": {
              "color": "#E5ECF6",
              "width": 0.5
             }
            },
            "type": "bar"
           }
          ],
          "barpolar": [
           {
            "marker": {
             "line": {
              "color": "#E5ECF6",
              "width": 0.5
             }
            },
            "type": "barpolar"
           }
          ],
          "carpet": [
           {
            "aaxis": {
             "endlinecolor": "#2a3f5f",
             "gridcolor": "white",
             "linecolor": "white",
             "minorgridcolor": "white",
             "startlinecolor": "#2a3f5f"
            },
            "baxis": {
             "endlinecolor": "#2a3f5f",
             "gridcolor": "white",
             "linecolor": "white",
             "minorgridcolor": "white",
             "startlinecolor": "#2a3f5f"
            },
            "type": "carpet"
           }
          ],
          "choropleth": [
           {
            "colorbar": {
             "outlinewidth": 0,
             "ticks": ""
            },
            "type": "choropleth"
           }
          ],
          "contour": [
           {
            "colorbar": {
             "outlinewidth": 0,
             "ticks": ""
            },
            "colorscale": [
             [
              0,
              "#0d0887"
             ],
             [
              0.1111111111111111,
              "#46039f"
             ],
             [
              0.2222222222222222,
              "#7201a8"
             ],
             [
              0.3333333333333333,
              "#9c179e"
             ],
             [
              0.4444444444444444,
              "#bd3786"
             ],
             [
              0.5555555555555556,
              "#d8576b"
             ],
             [
              0.6666666666666666,
              "#ed7953"
             ],
             [
              0.7777777777777778,
              "#fb9f3a"
             ],
             [
              0.8888888888888888,
              "#fdca26"
             ],
             [
              1,
              "#f0f921"
             ]
            ],
            "type": "contour"
           }
          ],
          "contourcarpet": [
           {
            "colorbar": {
             "outlinewidth": 0,
             "ticks": ""
            },
            "type": "contourcarpet"
           }
          ],
          "heatmap": [
           {
            "colorbar": {
             "outlinewidth": 0,
             "ticks": ""
            },
            "colorscale": [
             [
              0,
              "#0d0887"
             ],
             [
              0.1111111111111111,
              "#46039f"
             ],
             [
              0.2222222222222222,
              "#7201a8"
             ],
             [
              0.3333333333333333,
              "#9c179e"
             ],
             [
              0.4444444444444444,
              "#bd3786"
             ],
             [
              0.5555555555555556,
              "#d8576b"
             ],
             [
              0.6666666666666666,
              "#ed7953"
             ],
             [
              0.7777777777777778,
              "#fb9f3a"
             ],
             [
              0.8888888888888888,
              "#fdca26"
             ],
             [
              1,
              "#f0f921"
             ]
            ],
            "type": "heatmap"
           }
          ],
          "heatmapgl": [
           {
            "colorbar": {
             "outlinewidth": 0,
             "ticks": ""
            },
            "colorscale": [
             [
              0,
              "#0d0887"
             ],
             [
              0.1111111111111111,
              "#46039f"
             ],
             [
              0.2222222222222222,
              "#7201a8"
             ],
             [
              0.3333333333333333,
              "#9c179e"
             ],
             [
              0.4444444444444444,
              "#bd3786"
             ],
             [
              0.5555555555555556,
              "#d8576b"
             ],
             [
              0.6666666666666666,
              "#ed7953"
             ],
             [
              0.7777777777777778,
              "#fb9f3a"
             ],
             [
              0.8888888888888888,
              "#fdca26"
             ],
             [
              1,
              "#f0f921"
             ]
            ],
            "type": "heatmapgl"
           }
          ],
          "histogram": [
           {
            "marker": {
             "colorbar": {
              "outlinewidth": 0,
              "ticks": ""
             }
            },
            "type": "histogram"
           }
          ],
          "histogram2d": [
           {
            "colorbar": {
             "outlinewidth": 0,
             "ticks": ""
            },
            "colorscale": [
             [
              0,
              "#0d0887"
             ],
             [
              0.1111111111111111,
              "#46039f"
             ],
             [
              0.2222222222222222,
              "#7201a8"
             ],
             [
              0.3333333333333333,
              "#9c179e"
             ],
             [
              0.4444444444444444,
              "#bd3786"
             ],
             [
              0.5555555555555556,
              "#d8576b"
             ],
             [
              0.6666666666666666,
              "#ed7953"
             ],
             [
              0.7777777777777778,
              "#fb9f3a"
             ],
             [
              0.8888888888888888,
              "#fdca26"
             ],
             [
              1,
              "#f0f921"
             ]
            ],
            "type": "histogram2d"
           }
          ],
          "histogram2dcontour": [
           {
            "colorbar": {
             "outlinewidth": 0,
             "ticks": ""
            },
            "colorscale": [
             [
              0,
              "#0d0887"
             ],
             [
              0.1111111111111111,
              "#46039f"
             ],
             [
              0.2222222222222222,
              "#7201a8"
             ],
             [
              0.3333333333333333,
              "#9c179e"
             ],
             [
              0.4444444444444444,
              "#bd3786"
             ],
             [
              0.5555555555555556,
              "#d8576b"
             ],
             [
              0.6666666666666666,
              "#ed7953"
             ],
             [
              0.7777777777777778,
              "#fb9f3a"
             ],
             [
              0.8888888888888888,
              "#fdca26"
             ],
             [
              1,
              "#f0f921"
             ]
            ],
            "type": "histogram2dcontour"
           }
          ],
          "mesh3d": [
           {
            "colorbar": {
             "outlinewidth": 0,
             "ticks": ""
            },
            "type": "mesh3d"
           }
          ],
          "parcoords": [
           {
            "line": {
             "colorbar": {
              "outlinewidth": 0,
              "ticks": ""
             }
            },
            "type": "parcoords"
           }
          ],
          "pie": [
           {
            "automargin": true,
            "type": "pie"
           }
          ],
          "scatter": [
           {
            "marker": {
             "colorbar": {
              "outlinewidth": 0,
              "ticks": ""
             }
            },
            "type": "scatter"
           }
          ],
          "scatter3d": [
           {
            "line": {
             "colorbar": {
              "outlinewidth": 0,
              "ticks": ""
             }
            },
            "marker": {
             "colorbar": {
              "outlinewidth": 0,
              "ticks": ""
             }
            },
            "type": "scatter3d"
           }
          ],
          "scattercarpet": [
           {
            "marker": {
             "colorbar": {
              "outlinewidth": 0,
              "ticks": ""
             }
            },
            "type": "scattercarpet"
           }
          ],
          "scattergeo": [
           {
            "marker": {
             "colorbar": {
              "outlinewidth": 0,
              "ticks": ""
             }
            },
            "type": "scattergeo"
           }
          ],
          "scattergl": [
           {
            "marker": {
             "colorbar": {
              "outlinewidth": 0,
              "ticks": ""
             }
            },
            "type": "scattergl"
           }
          ],
          "scattermapbox": [
           {
            "marker": {
             "colorbar": {
              "outlinewidth": 0,
              "ticks": ""
             }
            },
            "type": "scattermapbox"
           }
          ],
          "scatterpolar": [
           {
            "marker": {
             "colorbar": {
              "outlinewidth": 0,
              "ticks": ""
             }
            },
            "type": "scatterpolar"
           }
          ],
          "scatterpolargl": [
           {
            "marker": {
             "colorbar": {
              "outlinewidth": 0,
              "ticks": ""
             }
            },
            "type": "scatterpolargl"
           }
          ],
          "scatterternary": [
           {
            "marker": {
             "colorbar": {
              "outlinewidth": 0,
              "ticks": ""
             }
            },
            "type": "scatterternary"
           }
          ],
          "surface": [
           {
            "colorbar": {
             "outlinewidth": 0,
             "ticks": ""
            },
            "colorscale": [
             [
              0,
              "#0d0887"
             ],
             [
              0.1111111111111111,
              "#46039f"
             ],
             [
              0.2222222222222222,
              "#7201a8"
             ],
             [
              0.3333333333333333,
              "#9c179e"
             ],
             [
              0.4444444444444444,
              "#bd3786"
             ],
             [
              0.5555555555555556,
              "#d8576b"
             ],
             [
              0.6666666666666666,
              "#ed7953"
             ],
             [
              0.7777777777777778,
              "#fb9f3a"
             ],
             [
              0.8888888888888888,
              "#fdca26"
             ],
             [
              1,
              "#f0f921"
             ]
            ],
            "type": "surface"
           }
          ],
          "table": [
           {
            "cells": {
             "fill": {
              "color": "#EBF0F8"
             },
             "line": {
              "color": "white"
             }
            },
            "header": {
             "fill": {
              "color": "#C8D4E3"
             },
             "line": {
              "color": "white"
             }
            },
            "type": "table"
           }
          ]
         },
         "layout": {
          "annotationdefaults": {
           "arrowcolor": "#2a3f5f",
           "arrowhead": 0,
           "arrowwidth": 1
          },
          "coloraxis": {
           "colorbar": {
            "outlinewidth": 0,
            "ticks": ""
           }
          },
          "colorscale": {
           "diverging": [
            [
             0,
             "#8e0152"
            ],
            [
             0.1,
             "#c51b7d"
            ],
            [
             0.2,
             "#de77ae"
            ],
            [
             0.3,
             "#f1b6da"
            ],
            [
             0.4,
             "#fde0ef"
            ],
            [
             0.5,
             "#f7f7f7"
            ],
            [
             0.6,
             "#e6f5d0"
            ],
            [
             0.7,
             "#b8e186"
            ],
            [
             0.8,
             "#7fbc41"
            ],
            [
             0.9,
             "#4d9221"
            ],
            [
             1,
             "#276419"
            ]
           ],
           "sequential": [
            [
             0,
             "#0d0887"
            ],
            [
             0.1111111111111111,
             "#46039f"
            ],
            [
             0.2222222222222222,
             "#7201a8"
            ],
            [
             0.3333333333333333,
             "#9c179e"
            ],
            [
             0.4444444444444444,
             "#bd3786"
            ],
            [
             0.5555555555555556,
             "#d8576b"
            ],
            [
             0.6666666666666666,
             "#ed7953"
            ],
            [
             0.7777777777777778,
             "#fb9f3a"
            ],
            [
             0.8888888888888888,
             "#fdca26"
            ],
            [
             1,
             "#f0f921"
            ]
           ],
           "sequentialminus": [
            [
             0,
             "#0d0887"
            ],
            [
             0.1111111111111111,
             "#46039f"
            ],
            [
             0.2222222222222222,
             "#7201a8"
            ],
            [
             0.3333333333333333,
             "#9c179e"
            ],
            [
             0.4444444444444444,
             "#bd3786"
            ],
            [
             0.5555555555555556,
             "#d8576b"
            ],
            [
             0.6666666666666666,
             "#ed7953"
            ],
            [
             0.7777777777777778,
             "#fb9f3a"
            ],
            [
             0.8888888888888888,
             "#fdca26"
            ],
            [
             1,
             "#f0f921"
            ]
           ]
          },
          "colorway": [
           "#636efa",
           "#EF553B",
           "#00cc96",
           "#ab63fa",
           "#FFA15A",
           "#19d3f3",
           "#FF6692",
           "#B6E880",
           "#FF97FF",
           "#FECB52"
          ],
          "font": {
           "color": "#2a3f5f"
          },
          "geo": {
           "bgcolor": "white",
           "lakecolor": "white",
           "landcolor": "#E5ECF6",
           "showlakes": true,
           "showland": true,
           "subunitcolor": "white"
          },
          "hoverlabel": {
           "align": "left"
          },
          "hovermode": "closest",
          "mapbox": {
           "style": "light"
          },
          "paper_bgcolor": "white",
          "plot_bgcolor": "#E5ECF6",
          "polar": {
           "angularaxis": {
            "gridcolor": "white",
            "linecolor": "white",
            "ticks": ""
           },
           "bgcolor": "#E5ECF6",
           "radialaxis": {
            "gridcolor": "white",
            "linecolor": "white",
            "ticks": ""
           }
          },
          "scene": {
           "xaxis": {
            "backgroundcolor": "#E5ECF6",
            "gridcolor": "white",
            "gridwidth": 2,
            "linecolor": "white",
            "showbackground": true,
            "ticks": "",
            "zerolinecolor": "white"
           },
           "yaxis": {
            "backgroundcolor": "#E5ECF6",
            "gridcolor": "white",
            "gridwidth": 2,
            "linecolor": "white",
            "showbackground": true,
            "ticks": "",
            "zerolinecolor": "white"
           },
           "zaxis": {
            "backgroundcolor": "#E5ECF6",
            "gridcolor": "white",
            "gridwidth": 2,
            "linecolor": "white",
            "showbackground": true,
            "ticks": "",
            "zerolinecolor": "white"
           }
          },
          "shapedefaults": {
           "line": {
            "color": "#2a3f5f"
           }
          },
          "ternary": {
           "aaxis": {
            "gridcolor": "white",
            "linecolor": "white",
            "ticks": ""
           },
           "baxis": {
            "gridcolor": "white",
            "linecolor": "white",
            "ticks": ""
           },
           "bgcolor": "#E5ECF6",
           "caxis": {
            "gridcolor": "white",
            "linecolor": "white",
            "ticks": ""
           }
          },
          "title": {
           "x": 0.05
          },
          "xaxis": {
           "automargin": true,
           "gridcolor": "white",
           "linecolor": "white",
           "ticks": "",
           "title": {
            "standoff": 15
           },
           "zerolinecolor": "white",
           "zerolinewidth": 2
          },
          "yaxis": {
           "automargin": true,
           "gridcolor": "white",
           "linecolor": "white",
           "ticks": "",
           "title": {
            "standoff": 15
           },
           "zerolinecolor": "white",
           "zerolinewidth": 2
          }
         }
        },
        "title": {
         "text": "Winners vs Losers"
        },
        "xaxis": {
         "anchor": "y",
         "domain": [
          0,
          1
         ],
         "title": {
          "text": "x"
         }
        },
        "yaxis": {
         "anchor": "x",
         "domain": [
          0,
          1
         ],
         "title": {
          "text": "Total"
         }
        }
       }
      },
      "text/html": [
       "<div>                            <div id=\"a2949a98-cd23-4809-a5a8-6983966446f4\" class=\"plotly-graph-div\" style=\"height:525px; width:100%;\"></div>            <script type=\"text/javascript\">                require([\"plotly\"], function(Plotly) {                    window.PLOTLYENV=window.PLOTLYENV || {};                                    if (document.getElementById(\"a2949a98-cd23-4809-a5a8-6983966446f4\")) {                    Plotly.newPlot(                        \"a2949a98-cd23-4809-a5a8-6983966446f4\",                        [{\"alignmentgroup\": \"True\", \"hovertemplate\": \"x=%{x}<br>Total=%{marker.color}<extra></extra>\", \"legendgroup\": \"\", \"marker\": {\"color\": [1479, 539], \"coloraxis\": \"coloraxis\"}, \"name\": \"\", \"offsetgroup\": \"\", \"orientation\": \"v\", \"showlegend\": false, \"textposition\": \"auto\", \"type\": \"bar\", \"x\": [\"Loser\", \"Winner\"], \"xaxis\": \"x\", \"y\": [1479, 539], \"yaxis\": \"y\"}],                        {\"barmode\": \"relative\", \"coloraxis\": {\"colorbar\": {\"title\": {\"text\": \"Total\"}}, \"colorscale\": [[0.0, \"#0d0887\"], [0.1111111111111111, \"#46039f\"], [0.2222222222222222, \"#7201a8\"], [0.3333333333333333, \"#9c179e\"], [0.4444444444444444, \"#bd3786\"], [0.5555555555555556, \"#d8576b\"], [0.6666666666666666, \"#ed7953\"], [0.7777777777777778, \"#fb9f3a\"], [0.8888888888888888, \"#fdca26\"], [1.0, \"#f0f921\"]]}, \"legend\": {\"tracegroupgap\": 0}, \"margin\": {\"t\": 60}, \"template\": {\"data\": {\"bar\": [{\"error_x\": {\"color\": \"#2a3f5f\"}, \"error_y\": {\"color\": \"#2a3f5f\"}, \"marker\": {\"line\": {\"color\": \"#E5ECF6\", \"width\": 0.5}}, \"type\": \"bar\"}], \"barpolar\": [{\"marker\": {\"line\": {\"color\": \"#E5ECF6\", \"width\": 0.5}}, \"type\": \"barpolar\"}], \"carpet\": [{\"aaxis\": {\"endlinecolor\": \"#2a3f5f\", \"gridcolor\": \"white\", \"linecolor\": \"white\", \"minorgridcolor\": \"white\", \"startlinecolor\": \"#2a3f5f\"}, \"baxis\": {\"endlinecolor\": \"#2a3f5f\", \"gridcolor\": \"white\", \"linecolor\": \"white\", \"minorgridcolor\": \"white\", \"startlinecolor\": \"#2a3f5f\"}, \"type\": \"carpet\"}], \"choropleth\": [{\"colorbar\": {\"outlinewidth\": 0, \"ticks\": \"\"}, \"type\": \"choropleth\"}], \"contour\": [{\"colorbar\": {\"outlinewidth\": 0, \"ticks\": \"\"}, \"colorscale\": [[0.0, \"#0d0887\"], [0.1111111111111111, \"#46039f\"], [0.2222222222222222, \"#7201a8\"], [0.3333333333333333, \"#9c179e\"], [0.4444444444444444, \"#bd3786\"], [0.5555555555555556, \"#d8576b\"], [0.6666666666666666, \"#ed7953\"], [0.7777777777777778, \"#fb9f3a\"], [0.8888888888888888, \"#fdca26\"], [1.0, \"#f0f921\"]], \"type\": \"contour\"}], \"contourcarpet\": [{\"colorbar\": {\"outlinewidth\": 0, \"ticks\": \"\"}, \"type\": \"contourcarpet\"}], \"heatmap\": [{\"colorbar\": {\"outlinewidth\": 0, \"ticks\": \"\"}, \"colorscale\": [[0.0, \"#0d0887\"], [0.1111111111111111, \"#46039f\"], [0.2222222222222222, \"#7201a8\"], [0.3333333333333333, \"#9c179e\"], [0.4444444444444444, \"#bd3786\"], [0.5555555555555556, \"#d8576b\"], [0.6666666666666666, \"#ed7953\"], [0.7777777777777778, \"#fb9f3a\"], [0.8888888888888888, \"#fdca26\"], [1.0, \"#f0f921\"]], \"type\": \"heatmap\"}], \"heatmapgl\": [{\"colorbar\": {\"outlinewidth\": 0, \"ticks\": \"\"}, \"colorscale\": [[0.0, \"#0d0887\"], [0.1111111111111111, \"#46039f\"], [0.2222222222222222, \"#7201a8\"], [0.3333333333333333, \"#9c179e\"], [0.4444444444444444, \"#bd3786\"], [0.5555555555555556, \"#d8576b\"], [0.6666666666666666, \"#ed7953\"], [0.7777777777777778, \"#fb9f3a\"], [0.8888888888888888, \"#fdca26\"], [1.0, \"#f0f921\"]], \"type\": \"heatmapgl\"}], \"histogram\": [{\"marker\": {\"colorbar\": {\"outlinewidth\": 0, \"ticks\": \"\"}}, \"type\": \"histogram\"}], \"histogram2d\": [{\"colorbar\": {\"outlinewidth\": 0, \"ticks\": \"\"}, \"colorscale\": [[0.0, \"#0d0887\"], [0.1111111111111111, \"#46039f\"], [0.2222222222222222, \"#7201a8\"], [0.3333333333333333, \"#9c179e\"], [0.4444444444444444, \"#bd3786\"], [0.5555555555555556, \"#d8576b\"], [0.6666666666666666, \"#ed7953\"], [0.7777777777777778, \"#fb9f3a\"], [0.8888888888888888, \"#fdca26\"], [1.0, \"#f0f921\"]], \"type\": \"histogram2d\"}], \"histogram2dcontour\": [{\"colorbar\": {\"outlinewidth\": 0, \"ticks\": \"\"}, \"colorscale\": [[0.0, \"#0d0887\"], [0.1111111111111111, \"#46039f\"], [0.2222222222222222, \"#7201a8\"], [0.3333333333333333, \"#9c179e\"], [0.4444444444444444, \"#bd3786\"], [0.5555555555555556, \"#d8576b\"], [0.6666666666666666, \"#ed7953\"], [0.7777777777777778, \"#fb9f3a\"], [0.8888888888888888, \"#fdca26\"], [1.0, \"#f0f921\"]], \"type\": \"histogram2dcontour\"}], \"mesh3d\": [{\"colorbar\": {\"outlinewidth\": 0, \"ticks\": \"\"}, \"type\": \"mesh3d\"}], \"parcoords\": [{\"line\": {\"colorbar\": {\"outlinewidth\": 0, \"ticks\": \"\"}}, \"type\": \"parcoords\"}], \"pie\": [{\"automargin\": true, \"type\": \"pie\"}], \"scatter\": [{\"marker\": {\"colorbar\": {\"outlinewidth\": 0, \"ticks\": \"\"}}, \"type\": \"scatter\"}], \"scatter3d\": [{\"line\": {\"colorbar\": {\"outlinewidth\": 0, \"ticks\": \"\"}}, \"marker\": {\"colorbar\": {\"outlinewidth\": 0, \"ticks\": \"\"}}, \"type\": \"scatter3d\"}], \"scattercarpet\": [{\"marker\": {\"colorbar\": {\"outlinewidth\": 0, \"ticks\": \"\"}}, \"type\": \"scattercarpet\"}], \"scattergeo\": [{\"marker\": {\"colorbar\": {\"outlinewidth\": 0, \"ticks\": \"\"}}, \"type\": \"scattergeo\"}], \"scattergl\": [{\"marker\": {\"colorbar\": {\"outlinewidth\": 0, \"ticks\": \"\"}}, \"type\": \"scattergl\"}], \"scattermapbox\": [{\"marker\": {\"colorbar\": {\"outlinewidth\": 0, \"ticks\": \"\"}}, \"type\": \"scattermapbox\"}], \"scatterpolar\": [{\"marker\": {\"colorbar\": {\"outlinewidth\": 0, \"ticks\": \"\"}}, \"type\": \"scatterpolar\"}], \"scatterpolargl\": [{\"marker\": {\"colorbar\": {\"outlinewidth\": 0, \"ticks\": \"\"}}, \"type\": \"scatterpolargl\"}], \"scatterternary\": [{\"marker\": {\"colorbar\": {\"outlinewidth\": 0, \"ticks\": \"\"}}, \"type\": \"scatterternary\"}], \"surface\": [{\"colorbar\": {\"outlinewidth\": 0, \"ticks\": \"\"}, \"colorscale\": [[0.0, \"#0d0887\"], [0.1111111111111111, \"#46039f\"], [0.2222222222222222, \"#7201a8\"], [0.3333333333333333, \"#9c179e\"], [0.4444444444444444, \"#bd3786\"], [0.5555555555555556, \"#d8576b\"], [0.6666666666666666, \"#ed7953\"], [0.7777777777777778, \"#fb9f3a\"], [0.8888888888888888, \"#fdca26\"], [1.0, \"#f0f921\"]], \"type\": \"surface\"}], \"table\": [{\"cells\": {\"fill\": {\"color\": \"#EBF0F8\"}, \"line\": {\"color\": \"white\"}}, \"header\": {\"fill\": {\"color\": \"#C8D4E3\"}, \"line\": {\"color\": \"white\"}}, \"type\": \"table\"}]}, \"layout\": {\"annotationdefaults\": {\"arrowcolor\": \"#2a3f5f\", \"arrowhead\": 0, \"arrowwidth\": 1}, \"coloraxis\": {\"colorbar\": {\"outlinewidth\": 0, \"ticks\": \"\"}}, \"colorscale\": {\"diverging\": [[0, \"#8e0152\"], [0.1, \"#c51b7d\"], [0.2, \"#de77ae\"], [0.3, \"#f1b6da\"], [0.4, \"#fde0ef\"], [0.5, \"#f7f7f7\"], [0.6, \"#e6f5d0\"], [0.7, \"#b8e186\"], [0.8, \"#7fbc41\"], [0.9, \"#4d9221\"], [1, \"#276419\"]], \"sequential\": [[0.0, \"#0d0887\"], [0.1111111111111111, \"#46039f\"], [0.2222222222222222, \"#7201a8\"], [0.3333333333333333, \"#9c179e\"], [0.4444444444444444, \"#bd3786\"], [0.5555555555555556, \"#d8576b\"], [0.6666666666666666, \"#ed7953\"], [0.7777777777777778, \"#fb9f3a\"], [0.8888888888888888, \"#fdca26\"], [1.0, \"#f0f921\"]], \"sequentialminus\": [[0.0, \"#0d0887\"], [0.1111111111111111, \"#46039f\"], [0.2222222222222222, \"#7201a8\"], [0.3333333333333333, \"#9c179e\"], [0.4444444444444444, \"#bd3786\"], [0.5555555555555556, \"#d8576b\"], [0.6666666666666666, \"#ed7953\"], [0.7777777777777778, \"#fb9f3a\"], [0.8888888888888888, \"#fdca26\"], [1.0, \"#f0f921\"]]}, \"colorway\": [\"#636efa\", \"#EF553B\", \"#00cc96\", \"#ab63fa\", \"#FFA15A\", \"#19d3f3\", \"#FF6692\", \"#B6E880\", \"#FF97FF\", \"#FECB52\"], \"font\": {\"color\": \"#2a3f5f\"}, \"geo\": {\"bgcolor\": \"white\", \"lakecolor\": \"white\", \"landcolor\": \"#E5ECF6\", \"showlakes\": true, \"showland\": true, \"subunitcolor\": \"white\"}, \"hoverlabel\": {\"align\": \"left\"}, \"hovermode\": \"closest\", \"mapbox\": {\"style\": \"light\"}, \"paper_bgcolor\": \"white\", \"plot_bgcolor\": \"#E5ECF6\", \"polar\": {\"angularaxis\": {\"gridcolor\": \"white\", \"linecolor\": \"white\", \"ticks\": \"\"}, \"bgcolor\": \"#E5ECF6\", \"radialaxis\": {\"gridcolor\": \"white\", \"linecolor\": \"white\", \"ticks\": \"\"}}, \"scene\": {\"xaxis\": {\"backgroundcolor\": \"#E5ECF6\", \"gridcolor\": \"white\", \"gridwidth\": 2, \"linecolor\": \"white\", \"showbackground\": true, \"ticks\": \"\", \"zerolinecolor\": \"white\"}, \"yaxis\": {\"backgroundcolor\": \"#E5ECF6\", \"gridcolor\": \"white\", \"gridwidth\": 2, \"linecolor\": \"white\", \"showbackground\": true, \"ticks\": \"\", \"zerolinecolor\": \"white\"}, \"zaxis\": {\"backgroundcolor\": \"#E5ECF6\", \"gridcolor\": \"white\", \"gridwidth\": 2, \"linecolor\": \"white\", \"showbackground\": true, \"ticks\": \"\", \"zerolinecolor\": \"white\"}}, \"shapedefaults\": {\"line\": {\"color\": \"#2a3f5f\"}}, \"ternary\": {\"aaxis\": {\"gridcolor\": \"white\", \"linecolor\": \"white\", \"ticks\": \"\"}, \"baxis\": {\"gridcolor\": \"white\", \"linecolor\": \"white\", \"ticks\": \"\"}, \"bgcolor\": \"#E5ECF6\", \"caxis\": {\"gridcolor\": \"white\", \"linecolor\": \"white\", \"ticks\": \"\"}}, \"title\": {\"x\": 0.05}, \"xaxis\": {\"automargin\": true, \"gridcolor\": \"white\", \"linecolor\": \"white\", \"ticks\": \"\", \"title\": {\"standoff\": 15}, \"zerolinecolor\": \"white\", \"zerolinewidth\": 2}, \"yaxis\": {\"automargin\": true, \"gridcolor\": \"white\", \"linecolor\": \"white\", \"ticks\": \"\", \"title\": {\"standoff\": 15}, \"zerolinecolor\": \"white\", \"zerolinewidth\": 2}}}, \"title\": {\"text\": \"Winners vs Losers\"}, \"xaxis\": {\"anchor\": \"y\", \"domain\": [0.0, 1.0], \"title\": {\"text\": \"x\"}}, \"yaxis\": {\"anchor\": \"x\", \"domain\": [0.0, 1.0], \"title\": {\"text\": \"Total\"}}},                        {\"responsive\": true}                    ).then(function(){\n",
       "                            \n",
       "var gd = document.getElementById('a2949a98-cd23-4809-a5a8-6983966446f4');\n",
       "var x = new MutationObserver(function (mutations, observer) {{\n",
       "        var display = window.getComputedStyle(gd).display;\n",
       "        if (!display || display === 'none') {{\n",
       "            console.log([gd, 'removed!']);\n",
       "            Plotly.purge(gd);\n",
       "            observer.disconnect();\n",
       "        }}\n",
       "}});\n",
       "\n",
       "// Listen for the removal of the full notebook cells\n",
       "var notebookContainer = gd.closest('#notebook-container');\n",
       "if (notebookContainer) {{\n",
       "    x.observe(notebookContainer, {childList: true});\n",
       "}}\n",
       "\n",
       "// Listen for the clearing of the current output cell\n",
       "var outputEl = gd.closest('.output');\n",
       "if (outputEl) {{\n",
       "    x.observe(outputEl, {childList: true});\n",
       "}}\n",
       "\n",
       "                        })                };                });            </script>        </div>"
      ]
     },
     "metadata": {},
     "output_type": "display_data"
    }
   ],
   "source": [
    "# Visualize the counts of total winners and losers\n",
    "total_results_fig = px.bar(total_results, x=[\"Loser\", \"Winner\"], y=total_results['Total'], color='Total')\n",
    "total_results_fig.update_layout(title_text='Winners vs Losers')\n",
    "total_results_fig.show()"
   ]
  },
  {
   "cell_type": "markdown",
   "metadata": {},
   "source": [
    "The chart above clearly demonstrates an imbalance in Loser and Winner classes."
   ]
  },
  {
   "cell_type": "code",
   "execution_count": 30,
   "metadata": {},
   "outputs": [
    {
     "name": "stdout",
     "output_type": "stream",
     "text": [
      "539 1479\n"
     ]
    }
   ],
   "source": [
    "print(len(total_winner), len(total_loser))"
   ]
  },
  {
   "cell_type": "code",
   "execution_count": 31,
   "metadata": {},
   "outputs": [
    {
     "name": "stdout",
     "output_type": "stream",
     "text": [
      "1479 1479\n"
     ]
    }
   ],
   "source": [
    "# Upsampling the data to match both the classes\n",
    "df_winner_upsample = resample(total_winner, replace=True, n_samples = 1479, random_state=42)\n",
    "print(len(df_winner_upsample), len(total_loser))"
   ]
  },
  {
   "cell_type": "code",
   "execution_count": 32,
   "metadata": {},
   "outputs": [],
   "source": [
    "upsampled_dataset = pd.concat([total_loser, df_winner_upsample])"
   ]
  },
  {
   "cell_type": "markdown",
   "metadata": {},
   "source": [
    "### 6.2 Scaling the data"
   ]
  },
  {
   "cell_type": "code",
   "execution_count": 33,
   "metadata": {},
   "outputs": [
    {
     "data": {
      "text/plain": [
       "Index(['STATE', 'CONSTITUENCY', 'NAME', 'WINNER', 'PARTY', 'GENDER',\n",
       "       'CRIMINAL CASES', 'AGE', 'CATEGORY', 'EDUCATION', 'GENERAL VOTES',\n",
       "       'POSTAL VOTES', 'TOTAL VOTES', 'OVER TOTAL ELECTORS  IN CONSTITUENCY',\n",
       "       'OVER TOTAL VOTES POLLED  IN CONSTITUENCY', 'TOTAL ELECTORS',\n",
       "       'Party New'],\n",
       "      dtype='object')"
      ]
     },
     "execution_count": 33,
     "metadata": {},
     "output_type": "execute_result"
    }
   ],
   "source": [
    "upsampled_dataset.columns"
   ]
  },
  {
   "cell_type": "code",
   "execution_count": 34,
   "metadata": {},
   "outputs": [],
   "source": [
    "# This is the dataset which will be used for fitting Machine Learning models\n",
    "prediction_df = upsampled_dataset.drop(['Party New', 'NAME'], axis=1)"
   ]
  },
  {
   "cell_type": "code",
   "execution_count": 35,
   "metadata": {},
   "outputs": [
    {
     "data": {
      "text/html": [
       "<div>\n",
       "<style scoped>\n",
       "    .dataframe tbody tr th:only-of-type {\n",
       "        vertical-align: middle;\n",
       "    }\n",
       "\n",
       "    .dataframe tbody tr th {\n",
       "        vertical-align: top;\n",
       "    }\n",
       "\n",
       "    .dataframe thead th {\n",
       "        text-align: right;\n",
       "    }\n",
       "</style>\n",
       "<table border=\"1\" class=\"dataframe\">\n",
       "  <thead>\n",
       "    <tr style=\"text-align: right;\">\n",
       "      <th></th>\n",
       "      <th>STATE</th>\n",
       "      <th>CONSTITUENCY</th>\n",
       "      <th>WINNER</th>\n",
       "      <th>PARTY</th>\n",
       "      <th>GENDER</th>\n",
       "      <th>CRIMINAL CASES</th>\n",
       "      <th>AGE</th>\n",
       "      <th>CATEGORY</th>\n",
       "      <th>EDUCATION</th>\n",
       "      <th>GENERAL VOTES</th>\n",
       "      <th>POSTAL VOTES</th>\n",
       "      <th>TOTAL VOTES</th>\n",
       "      <th>OVER TOTAL ELECTORS  IN CONSTITUENCY</th>\n",
       "      <th>OVER TOTAL VOTES POLLED  IN CONSTITUENCY</th>\n",
       "      <th>TOTAL ELECTORS</th>\n",
       "    </tr>\n",
       "  </thead>\n",
       "  <tbody>\n",
       "    <tr>\n",
       "      <th>1</th>\n",
       "      <td>Telangana</td>\n",
       "      <td>ADILABAD</td>\n",
       "      <td>0</td>\n",
       "      <td>TRS</td>\n",
       "      <td>MALE</td>\n",
       "      <td>0</td>\n",
       "      <td>54</td>\n",
       "      <td>ST</td>\n",
       "      <td>Post Graduate</td>\n",
       "      <td>318665</td>\n",
       "      <td>149</td>\n",
       "      <td>318814</td>\n",
       "      <td>21.399929</td>\n",
       "      <td>29.964370</td>\n",
       "      <td>1489790</td>\n",
       "    </tr>\n",
       "    <tr>\n",
       "      <th>2</th>\n",
       "      <td>Telangana</td>\n",
       "      <td>ADILABAD</td>\n",
       "      <td>0</td>\n",
       "      <td>INC</td>\n",
       "      <td>MALE</td>\n",
       "      <td>3</td>\n",
       "      <td>52</td>\n",
       "      <td>ST</td>\n",
       "      <td>12th Pass</td>\n",
       "      <td>314057</td>\n",
       "      <td>181</td>\n",
       "      <td>314238</td>\n",
       "      <td>21.092771</td>\n",
       "      <td>29.534285</td>\n",
       "      <td>1489790</td>\n",
       "    </tr>\n",
       "    <tr>\n",
       "      <th>5</th>\n",
       "      <td>Uttar Pradesh</td>\n",
       "      <td>AGRA</td>\n",
       "      <td>0</td>\n",
       "      <td>BSP</td>\n",
       "      <td>MALE</td>\n",
       "      <td>0</td>\n",
       "      <td>47</td>\n",
       "      <td>SC</td>\n",
       "      <td>Post Graduate</td>\n",
       "      <td>434199</td>\n",
       "      <td>1130</td>\n",
       "      <td>435329</td>\n",
       "      <td>22.466390</td>\n",
       "      <td>37.999125</td>\n",
       "      <td>1937690</td>\n",
       "    </tr>\n",
       "    <tr>\n",
       "      <th>6</th>\n",
       "      <td>Uttar Pradesh</td>\n",
       "      <td>AGRA</td>\n",
       "      <td>0</td>\n",
       "      <td>INC</td>\n",
       "      <td>FEMALE</td>\n",
       "      <td>0</td>\n",
       "      <td>54</td>\n",
       "      <td>SC</td>\n",
       "      <td>Post Graduate</td>\n",
       "      <td>44877</td>\n",
       "      <td>272</td>\n",
       "      <td>45149</td>\n",
       "      <td>2.330042</td>\n",
       "      <td>3.940979</td>\n",
       "      <td>1937690</td>\n",
       "    </tr>\n",
       "    <tr>\n",
       "      <th>8</th>\n",
       "      <td>Maharashtra</td>\n",
       "      <td>AHMADNAGAR</td>\n",
       "      <td>0</td>\n",
       "      <td>NCP</td>\n",
       "      <td>MALE</td>\n",
       "      <td>1</td>\n",
       "      <td>34</td>\n",
       "      <td>GENERAL</td>\n",
       "      <td>Graduate</td>\n",
       "      <td>419364</td>\n",
       "      <td>3822</td>\n",
       "      <td>423186</td>\n",
       "      <td>22.734872</td>\n",
       "      <td>35.087431</td>\n",
       "      <td>1861396</td>\n",
       "    </tr>\n",
       "  </tbody>\n",
       "</table>\n",
       "</div>"
      ],
      "text/plain": [
       "           STATE CONSTITUENCY  WINNER PARTY  GENDER  CRIMINAL CASES  AGE  \\\n",
       "1      Telangana     ADILABAD       0   TRS    MALE               0   54   \n",
       "2      Telangana     ADILABAD       0   INC    MALE               3   52   \n",
       "5  Uttar Pradesh         AGRA       0   BSP    MALE               0   47   \n",
       "6  Uttar Pradesh         AGRA       0   INC  FEMALE               0   54   \n",
       "8    Maharashtra   AHMADNAGAR       0   NCP    MALE               1   34   \n",
       "\n",
       "  CATEGORY      EDUCATION  GENERAL VOTES  POSTAL VOTES  TOTAL VOTES  \\\n",
       "1       ST  Post Graduate         318665           149       318814   \n",
       "2       ST      12th Pass         314057           181       314238   \n",
       "5       SC  Post Graduate         434199          1130       435329   \n",
       "6       SC  Post Graduate          44877           272        45149   \n",
       "8  GENERAL       Graduate         419364          3822       423186   \n",
       "\n",
       "   OVER TOTAL ELECTORS  IN CONSTITUENCY  \\\n",
       "1                             21.399929   \n",
       "2                             21.092771   \n",
       "5                             22.466390   \n",
       "6                              2.330042   \n",
       "8                             22.734872   \n",
       "\n",
       "   OVER TOTAL VOTES POLLED  IN CONSTITUENCY  TOTAL ELECTORS  \n",
       "1                                 29.964370         1489790  \n",
       "2                                 29.534285         1489790  \n",
       "5                                 37.999125         1937690  \n",
       "6                                  3.940979         1937690  \n",
       "8                                 35.087431         1861396  "
      ]
     },
     "execution_count": 35,
     "metadata": {},
     "output_type": "execute_result"
    }
   ],
   "source": [
    "prediction_df.head()"
   ]
  },
  {
   "cell_type": "code",
   "execution_count": 36,
   "metadata": {},
   "outputs": [],
   "source": [
    "# Putting categorical and numerical column names in different variables\n",
    "categorical_features = [\"STATE\", 'CONSTITUENCY', 'PARTY', 'GENDER', 'CATEGORY', 'EDUCATION']\n",
    "numerical_features = ['CRIMINAL CASES','AGE','TOTAL VOTES','TOTAL ELECTORS']\n",
    "\n",
    "# Initializing the StandardScaler()\n",
    "standardScaler = StandardScaler()\n",
    "\n",
    "prediction_df1 = pd.get_dummies(prediction_df, columns = categorical_features)"
   ]
  },
  {
   "cell_type": "code",
   "execution_count": 37,
   "metadata": {},
   "outputs": [
    {
     "data": {
      "text/html": [
       "<div>\n",
       "<style scoped>\n",
       "    .dataframe tbody tr th:only-of-type {\n",
       "        vertical-align: middle;\n",
       "    }\n",
       "\n",
       "    .dataframe tbody tr th {\n",
       "        vertical-align: top;\n",
       "    }\n",
       "\n",
       "    .dataframe thead th {\n",
       "        text-align: right;\n",
       "    }\n",
       "</style>\n",
       "<table border=\"1\" class=\"dataframe\">\n",
       "  <thead>\n",
       "    <tr style=\"text-align: right;\">\n",
       "      <th></th>\n",
       "      <th>WINNER</th>\n",
       "      <th>CRIMINAL CASES</th>\n",
       "      <th>AGE</th>\n",
       "      <th>GENERAL VOTES</th>\n",
       "      <th>POSTAL VOTES</th>\n",
       "      <th>TOTAL VOTES</th>\n",
       "      <th>OVER TOTAL ELECTORS  IN CONSTITUENCY</th>\n",
       "      <th>OVER TOTAL VOTES POLLED  IN CONSTITUENCY</th>\n",
       "      <th>TOTAL ELECTORS</th>\n",
       "      <th>STATE_Andaman &amp; Nicobar Islands</th>\n",
       "      <th>...</th>\n",
       "      <th>EDUCATION_12th Pass</th>\n",
       "      <th>EDUCATION_5th Pass</th>\n",
       "      <th>EDUCATION_8th Pass</th>\n",
       "      <th>EDUCATION_Doctorate</th>\n",
       "      <th>EDUCATION_Graduate</th>\n",
       "      <th>EDUCATION_Illiterate</th>\n",
       "      <th>EDUCATION_Literate</th>\n",
       "      <th>EDUCATION_Not Available</th>\n",
       "      <th>EDUCATION_Others</th>\n",
       "      <th>EDUCATION_Post Graduate</th>\n",
       "    </tr>\n",
       "  </thead>\n",
       "  <tbody>\n",
       "    <tr>\n",
       "      <th>1</th>\n",
       "      <td>0</td>\n",
       "      <td>0</td>\n",
       "      <td>54</td>\n",
       "      <td>318665</td>\n",
       "      <td>149</td>\n",
       "      <td>318814</td>\n",
       "      <td>21.399929</td>\n",
       "      <td>29.964370</td>\n",
       "      <td>1489790</td>\n",
       "      <td>0</td>\n",
       "      <td>...</td>\n",
       "      <td>0</td>\n",
       "      <td>0</td>\n",
       "      <td>0</td>\n",
       "      <td>0</td>\n",
       "      <td>0</td>\n",
       "      <td>0</td>\n",
       "      <td>0</td>\n",
       "      <td>0</td>\n",
       "      <td>0</td>\n",
       "      <td>1</td>\n",
       "    </tr>\n",
       "    <tr>\n",
       "      <th>2</th>\n",
       "      <td>0</td>\n",
       "      <td>3</td>\n",
       "      <td>52</td>\n",
       "      <td>314057</td>\n",
       "      <td>181</td>\n",
       "      <td>314238</td>\n",
       "      <td>21.092771</td>\n",
       "      <td>29.534285</td>\n",
       "      <td>1489790</td>\n",
       "      <td>0</td>\n",
       "      <td>...</td>\n",
       "      <td>1</td>\n",
       "      <td>0</td>\n",
       "      <td>0</td>\n",
       "      <td>0</td>\n",
       "      <td>0</td>\n",
       "      <td>0</td>\n",
       "      <td>0</td>\n",
       "      <td>0</td>\n",
       "      <td>0</td>\n",
       "      <td>0</td>\n",
       "    </tr>\n",
       "    <tr>\n",
       "      <th>5</th>\n",
       "      <td>0</td>\n",
       "      <td>0</td>\n",
       "      <td>47</td>\n",
       "      <td>434199</td>\n",
       "      <td>1130</td>\n",
       "      <td>435329</td>\n",
       "      <td>22.466390</td>\n",
       "      <td>37.999125</td>\n",
       "      <td>1937690</td>\n",
       "      <td>0</td>\n",
       "      <td>...</td>\n",
       "      <td>0</td>\n",
       "      <td>0</td>\n",
       "      <td>0</td>\n",
       "      <td>0</td>\n",
       "      <td>0</td>\n",
       "      <td>0</td>\n",
       "      <td>0</td>\n",
       "      <td>0</td>\n",
       "      <td>0</td>\n",
       "      <td>1</td>\n",
       "    </tr>\n",
       "    <tr>\n",
       "      <th>6</th>\n",
       "      <td>0</td>\n",
       "      <td>0</td>\n",
       "      <td>54</td>\n",
       "      <td>44877</td>\n",
       "      <td>272</td>\n",
       "      <td>45149</td>\n",
       "      <td>2.330042</td>\n",
       "      <td>3.940979</td>\n",
       "      <td>1937690</td>\n",
       "      <td>0</td>\n",
       "      <td>...</td>\n",
       "      <td>0</td>\n",
       "      <td>0</td>\n",
       "      <td>0</td>\n",
       "      <td>0</td>\n",
       "      <td>0</td>\n",
       "      <td>0</td>\n",
       "      <td>0</td>\n",
       "      <td>0</td>\n",
       "      <td>0</td>\n",
       "      <td>1</td>\n",
       "    </tr>\n",
       "    <tr>\n",
       "      <th>8</th>\n",
       "      <td>0</td>\n",
       "      <td>1</td>\n",
       "      <td>34</td>\n",
       "      <td>419364</td>\n",
       "      <td>3822</td>\n",
       "      <td>423186</td>\n",
       "      <td>22.734872</td>\n",
       "      <td>35.087431</td>\n",
       "      <td>1861396</td>\n",
       "      <td>0</td>\n",
       "      <td>...</td>\n",
       "      <td>0</td>\n",
       "      <td>0</td>\n",
       "      <td>0</td>\n",
       "      <td>0</td>\n",
       "      <td>1</td>\n",
       "      <td>0</td>\n",
       "      <td>0</td>\n",
       "      <td>0</td>\n",
       "      <td>0</td>\n",
       "      <td>0</td>\n",
       "    </tr>\n",
       "  </tbody>\n",
       "</table>\n",
       "<p>5 rows × 732 columns</p>\n",
       "</div>"
      ],
      "text/plain": [
       "   WINNER  CRIMINAL CASES  AGE  GENERAL VOTES  POSTAL VOTES  TOTAL VOTES  \\\n",
       "1       0               0   54         318665           149       318814   \n",
       "2       0               3   52         314057           181       314238   \n",
       "5       0               0   47         434199          1130       435329   \n",
       "6       0               0   54          44877           272        45149   \n",
       "8       0               1   34         419364          3822       423186   \n",
       "\n",
       "   OVER TOTAL ELECTORS  IN CONSTITUENCY  \\\n",
       "1                             21.399929   \n",
       "2                             21.092771   \n",
       "5                             22.466390   \n",
       "6                              2.330042   \n",
       "8                             22.734872   \n",
       "\n",
       "   OVER TOTAL VOTES POLLED  IN CONSTITUENCY  TOTAL ELECTORS  \\\n",
       "1                                 29.964370         1489790   \n",
       "2                                 29.534285         1489790   \n",
       "5                                 37.999125         1937690   \n",
       "6                                  3.940979         1937690   \n",
       "8                                 35.087431         1861396   \n",
       "\n",
       "   STATE_Andaman & Nicobar Islands  ...  EDUCATION_12th Pass  \\\n",
       "1                                0  ...                    0   \n",
       "2                                0  ...                    1   \n",
       "5                                0  ...                    0   \n",
       "6                                0  ...                    0   \n",
       "8                                0  ...                    0   \n",
       "\n",
       "   EDUCATION_5th Pass  EDUCATION_8th Pass  EDUCATION_Doctorate  \\\n",
       "1                   0                   0                    0   \n",
       "2                   0                   0                    0   \n",
       "5                   0                   0                    0   \n",
       "6                   0                   0                    0   \n",
       "8                   0                   0                    0   \n",
       "\n",
       "   EDUCATION_Graduate  EDUCATION_Illiterate  EDUCATION_Literate  \\\n",
       "1                   0                     0                   0   \n",
       "2                   0                     0                   0   \n",
       "5                   0                     0                   0   \n",
       "6                   0                     0                   0   \n",
       "8                   1                     0                   0   \n",
       "\n",
       "   EDUCATION_Not Available  EDUCATION_Others  EDUCATION_Post Graduate  \n",
       "1                        0                 0                        1  \n",
       "2                        0                 0                        0  \n",
       "5                        0                 0                        1  \n",
       "6                        0                 0                        1  \n",
       "8                        0                 0                        0  \n",
       "\n",
       "[5 rows x 732 columns]"
      ]
     },
     "execution_count": 37,
     "metadata": {},
     "output_type": "execute_result"
    }
   ],
   "source": [
    "prediction_df1.head()"
   ]
  },
  {
   "cell_type": "code",
   "execution_count": 38,
   "metadata": {},
   "outputs": [],
   "source": [
    "prediction_df1[numerical_features] = standardScaler.fit_transform(prediction_df1[numerical_features])"
   ]
  },
  {
   "cell_type": "code",
   "execution_count": 39,
   "metadata": {},
   "outputs": [
    {
     "data": {
      "text/html": [
       "<div>\n",
       "<style scoped>\n",
       "    .dataframe tbody tr th:only-of-type {\n",
       "        vertical-align: middle;\n",
       "    }\n",
       "\n",
       "    .dataframe tbody tr th {\n",
       "        vertical-align: top;\n",
       "    }\n",
       "\n",
       "    .dataframe thead th {\n",
       "        text-align: right;\n",
       "    }\n",
       "</style>\n",
       "<table border=\"1\" class=\"dataframe\">\n",
       "  <thead>\n",
       "    <tr style=\"text-align: right;\">\n",
       "      <th></th>\n",
       "      <th>WINNER</th>\n",
       "      <th>CRIMINAL CASES</th>\n",
       "      <th>AGE</th>\n",
       "      <th>GENERAL VOTES</th>\n",
       "      <th>POSTAL VOTES</th>\n",
       "      <th>TOTAL VOTES</th>\n",
       "      <th>OVER TOTAL ELECTORS  IN CONSTITUENCY</th>\n",
       "      <th>OVER TOTAL VOTES POLLED  IN CONSTITUENCY</th>\n",
       "      <th>TOTAL ELECTORS</th>\n",
       "      <th>STATE_Andaman &amp; Nicobar Islands</th>\n",
       "      <th>...</th>\n",
       "      <th>EDUCATION_12th Pass</th>\n",
       "      <th>EDUCATION_5th Pass</th>\n",
       "      <th>EDUCATION_8th Pass</th>\n",
       "      <th>EDUCATION_Doctorate</th>\n",
       "      <th>EDUCATION_Graduate</th>\n",
       "      <th>EDUCATION_Illiterate</th>\n",
       "      <th>EDUCATION_Literate</th>\n",
       "      <th>EDUCATION_Not Available</th>\n",
       "      <th>EDUCATION_Others</th>\n",
       "      <th>EDUCATION_Post Graduate</th>\n",
       "    </tr>\n",
       "  </thead>\n",
       "  <tbody>\n",
       "    <tr>\n",
       "      <th>1</th>\n",
       "      <td>0</td>\n",
       "      <td>-0.186473</td>\n",
       "      <td>0.076764</td>\n",
       "      <td>318665</td>\n",
       "      <td>149</td>\n",
       "      <td>-0.257567</td>\n",
       "      <td>21.399929</td>\n",
       "      <td>29.964370</td>\n",
       "      <td>-0.541263</td>\n",
       "      <td>0</td>\n",
       "      <td>...</td>\n",
       "      <td>0</td>\n",
       "      <td>0</td>\n",
       "      <td>0</td>\n",
       "      <td>0</td>\n",
       "      <td>0</td>\n",
       "      <td>0</td>\n",
       "      <td>0</td>\n",
       "      <td>0</td>\n",
       "      <td>0</td>\n",
       "      <td>1</td>\n",
       "    </tr>\n",
       "    <tr>\n",
       "      <th>2</th>\n",
       "      <td>0</td>\n",
       "      <td>0.133659</td>\n",
       "      <td>-0.094673</td>\n",
       "      <td>314057</td>\n",
       "      <td>181</td>\n",
       "      <td>-0.274618</td>\n",
       "      <td>21.092771</td>\n",
       "      <td>29.534285</td>\n",
       "      <td>-0.541263</td>\n",
       "      <td>0</td>\n",
       "      <td>...</td>\n",
       "      <td>1</td>\n",
       "      <td>0</td>\n",
       "      <td>0</td>\n",
       "      <td>0</td>\n",
       "      <td>0</td>\n",
       "      <td>0</td>\n",
       "      <td>0</td>\n",
       "      <td>0</td>\n",
       "      <td>0</td>\n",
       "      <td>0</td>\n",
       "    </tr>\n",
       "    <tr>\n",
       "      <th>5</th>\n",
       "      <td>0</td>\n",
       "      <td>-0.186473</td>\n",
       "      <td>-0.523267</td>\n",
       "      <td>434199</td>\n",
       "      <td>1130</td>\n",
       "      <td>0.176567</td>\n",
       "      <td>22.466390</td>\n",
       "      <td>37.999125</td>\n",
       "      <td>0.868686</td>\n",
       "      <td>0</td>\n",
       "      <td>...</td>\n",
       "      <td>0</td>\n",
       "      <td>0</td>\n",
       "      <td>0</td>\n",
       "      <td>0</td>\n",
       "      <td>0</td>\n",
       "      <td>0</td>\n",
       "      <td>0</td>\n",
       "      <td>0</td>\n",
       "      <td>0</td>\n",
       "      <td>1</td>\n",
       "    </tr>\n",
       "    <tr>\n",
       "      <th>6</th>\n",
       "      <td>0</td>\n",
       "      <td>-0.186473</td>\n",
       "      <td>0.076764</td>\n",
       "      <td>44877</td>\n",
       "      <td>272</td>\n",
       "      <td>-1.277242</td>\n",
       "      <td>2.330042</td>\n",
       "      <td>3.940979</td>\n",
       "      <td>0.868686</td>\n",
       "      <td>0</td>\n",
       "      <td>...</td>\n",
       "      <td>0</td>\n",
       "      <td>0</td>\n",
       "      <td>0</td>\n",
       "      <td>0</td>\n",
       "      <td>0</td>\n",
       "      <td>0</td>\n",
       "      <td>0</td>\n",
       "      <td>0</td>\n",
       "      <td>0</td>\n",
       "      <td>1</td>\n",
       "    </tr>\n",
       "    <tr>\n",
       "      <th>8</th>\n",
       "      <td>0</td>\n",
       "      <td>-0.079762</td>\n",
       "      <td>-1.637611</td>\n",
       "      <td>419364</td>\n",
       "      <td>3822</td>\n",
       "      <td>0.131322</td>\n",
       "      <td>22.734872</td>\n",
       "      <td>35.087431</td>\n",
       "      <td>0.628519</td>\n",
       "      <td>0</td>\n",
       "      <td>...</td>\n",
       "      <td>0</td>\n",
       "      <td>0</td>\n",
       "      <td>0</td>\n",
       "      <td>0</td>\n",
       "      <td>1</td>\n",
       "      <td>0</td>\n",
       "      <td>0</td>\n",
       "      <td>0</td>\n",
       "      <td>0</td>\n",
       "      <td>0</td>\n",
       "    </tr>\n",
       "  </tbody>\n",
       "</table>\n",
       "<p>5 rows × 732 columns</p>\n",
       "</div>"
      ],
      "text/plain": [
       "   WINNER  CRIMINAL CASES       AGE  GENERAL VOTES  POSTAL VOTES  TOTAL VOTES  \\\n",
       "1       0       -0.186473  0.076764         318665           149    -0.257567   \n",
       "2       0        0.133659 -0.094673         314057           181    -0.274618   \n",
       "5       0       -0.186473 -0.523267         434199          1130     0.176567   \n",
       "6       0       -0.186473  0.076764          44877           272    -1.277242   \n",
       "8       0       -0.079762 -1.637611         419364          3822     0.131322   \n",
       "\n",
       "   OVER TOTAL ELECTORS  IN CONSTITUENCY  \\\n",
       "1                             21.399929   \n",
       "2                             21.092771   \n",
       "5                             22.466390   \n",
       "6                              2.330042   \n",
       "8                             22.734872   \n",
       "\n",
       "   OVER TOTAL VOTES POLLED  IN CONSTITUENCY  TOTAL ELECTORS  \\\n",
       "1                                 29.964370       -0.541263   \n",
       "2                                 29.534285       -0.541263   \n",
       "5                                 37.999125        0.868686   \n",
       "6                                  3.940979        0.868686   \n",
       "8                                 35.087431        0.628519   \n",
       "\n",
       "   STATE_Andaman & Nicobar Islands  ...  EDUCATION_12th Pass  \\\n",
       "1                                0  ...                    0   \n",
       "2                                0  ...                    1   \n",
       "5                                0  ...                    0   \n",
       "6                                0  ...                    0   \n",
       "8                                0  ...                    0   \n",
       "\n",
       "   EDUCATION_5th Pass  EDUCATION_8th Pass  EDUCATION_Doctorate  \\\n",
       "1                   0                   0                    0   \n",
       "2                   0                   0                    0   \n",
       "5                   0                   0                    0   \n",
       "6                   0                   0                    0   \n",
       "8                   0                   0                    0   \n",
       "\n",
       "   EDUCATION_Graduate  EDUCATION_Illiterate  EDUCATION_Literate  \\\n",
       "1                   0                     0                   0   \n",
       "2                   0                     0                   0   \n",
       "5                   0                     0                   0   \n",
       "6                   0                     0                   0   \n",
       "8                   1                     0                   0   \n",
       "\n",
       "   EDUCATION_Not Available  EDUCATION_Others  EDUCATION_Post Graduate  \n",
       "1                        0                 0                        1  \n",
       "2                        0                 0                        0  \n",
       "5                        0                 0                        1  \n",
       "6                        0                 0                        1  \n",
       "8                        0                 0                        0  \n",
       "\n",
       "[5 rows x 732 columns]"
      ]
     },
     "execution_count": 39,
     "metadata": {},
     "output_type": "execute_result"
    }
   ],
   "source": [
    "prediction_df1.head()"
   ]
  },
  {
   "cell_type": "markdown",
   "metadata": {},
   "source": [
    "## 7. Machine learning model experimentation"
   ]
  },
  {
   "cell_type": "code",
   "execution_count": 40,
   "metadata": {},
   "outputs": [],
   "source": [
    "np.random.seed(42)\n",
    "# Splitting the data into X and y\n",
    "X = prediction_df1.drop('WINNER', axis=1)\n",
    "y = prediction_df1['WINNER']\n",
    "X_train, X_test, y_train, y_test = train_test_split(X, y, test_size=0.2)"
   ]
  },
  {
   "cell_type": "markdown",
   "metadata": {},
   "source": [
    "### 7.1 Testing multiple machine learning models\n",
    "\n",
    "- Random Forest Classifier\n",
    "- Support Vector Machines\n",
    "- K-Nearest Neighbour"
   ]
  },
  {
   "cell_type": "code",
   "execution_count": 41,
   "metadata": {},
   "outputs": [],
   "source": [
    "models = {\"RandomForestClassifier\" : RandomForestClassifier(),\n",
    "          \"SupportVectorMachines\" : SVC(),\n",
    "          \"KNearestNeighbor\" : KNeighborsClassifier()}\n",
    "def fit_and_score(models, X_train, y_train, X_test, y_test):\n",
    "    '''\n",
    "    Fits and evaluates the machine learning models.\n",
    "    models : a dict of different Scikit-Learn machine learning models.\n",
    "    X_train : training data (no labels)\n",
    "    y_train : training lables\n",
    "    X_test : testing data (no labels)\n",
    "    y_test : testing lables\n",
    "    '''\n",
    "    np.random.seed(42)\n",
    "    model_scores = {}\n",
    "    for name, model in models.items():\n",
    "        model.fit(X_train, y_train)\n",
    "        model_scores[name] = model.score(X_test, y_test)\n",
    "    return model_scores"
   ]
  },
  {
   "cell_type": "code",
   "execution_count": 42,
   "metadata": {},
   "outputs": [
    {
     "data": {
      "text/html": [
       "<div>\n",
       "<style scoped>\n",
       "    .dataframe tbody tr th:only-of-type {\n",
       "        vertical-align: middle;\n",
       "    }\n",
       "\n",
       "    .dataframe tbody tr th {\n",
       "        vertical-align: top;\n",
       "    }\n",
       "\n",
       "    .dataframe thead th {\n",
       "        text-align: right;\n",
       "    }\n",
       "</style>\n",
       "<table border=\"1\" class=\"dataframe\">\n",
       "  <thead>\n",
       "    <tr style=\"text-align: right;\">\n",
       "      <th></th>\n",
       "      <th>Accuracy</th>\n",
       "    </tr>\n",
       "  </thead>\n",
       "  <tbody>\n",
       "    <tr>\n",
       "      <th>RandomForestClassifier</th>\n",
       "      <td>0.967905</td>\n",
       "    </tr>\n",
       "    <tr>\n",
       "      <th>SupportVectorMachines</th>\n",
       "      <td>0.854730</td>\n",
       "    </tr>\n",
       "    <tr>\n",
       "      <th>KNearestNeighbor</th>\n",
       "      <td>0.898649</td>\n",
       "    </tr>\n",
       "  </tbody>\n",
       "</table>\n",
       "</div>"
      ],
      "text/plain": [
       "                        Accuracy\n",
       "RandomForestClassifier  0.967905\n",
       "SupportVectorMachines   0.854730\n",
       "KNearestNeighbor        0.898649"
      ]
     },
     "execution_count": 42,
     "metadata": {},
     "output_type": "execute_result"
    }
   ],
   "source": [
    "model_scores = fit_and_score(models=models,\n",
    "                             X_train=X_train,\n",
    "                             y_train=y_train,\n",
    "                             X_test=X_test,\n",
    "                             y_test=y_test)\n",
    "model_scores_df = pd.DataFrame(model_scores, index=[\"Accuracy\"]).T\n",
    "model_scores_df"
   ]
  },
  {
   "cell_type": "code",
   "execution_count": 43,
   "metadata": {},
   "outputs": [
    {
     "data": {
      "application/vnd.plotly.v1+json": {
       "config": {
        "plotlyServerURL": "https://plot.ly"
       },
       "data": [
        {
         "alignmentgroup": "True",
         "hovertemplate": "x=%{x}<br>Accuracy=%{y}<extra></extra>",
         "legendgroup": "",
         "marker": {
          "color": "#636efa"
         },
         "name": "",
         "offsetgroup": "",
         "orientation": "v",
         "showlegend": false,
         "textposition": "auto",
         "type": "bar",
         "x": [
          "Random Forest Classifier",
          "Support Vector Machines",
          "K-Nearest Neighbor"
         ],
         "xaxis": "x",
         "y": [
          0.9679054054054054,
          0.8547297297297297,
          0.8986486486486487
         ],
         "yaxis": "y"
        }
       ],
       "layout": {
        "barmode": "relative",
        "legend": {
         "tracegroupgap": 0
        },
        "margin": {
         "t": 60
        },
        "template": {
         "data": {
          "bar": [
           {
            "error_x": {
             "color": "#2a3f5f"
            },
            "error_y": {
             "color": "#2a3f5f"
            },
            "marker": {
             "line": {
              "color": "#E5ECF6",
              "width": 0.5
             }
            },
            "type": "bar"
           }
          ],
          "barpolar": [
           {
            "marker": {
             "line": {
              "color": "#E5ECF6",
              "width": 0.5
             }
            },
            "type": "barpolar"
           }
          ],
          "carpet": [
           {
            "aaxis": {
             "endlinecolor": "#2a3f5f",
             "gridcolor": "white",
             "linecolor": "white",
             "minorgridcolor": "white",
             "startlinecolor": "#2a3f5f"
            },
            "baxis": {
             "endlinecolor": "#2a3f5f",
             "gridcolor": "white",
             "linecolor": "white",
             "minorgridcolor": "white",
             "startlinecolor": "#2a3f5f"
            },
            "type": "carpet"
           }
          ],
          "choropleth": [
           {
            "colorbar": {
             "outlinewidth": 0,
             "ticks": ""
            },
            "type": "choropleth"
           }
          ],
          "contour": [
           {
            "colorbar": {
             "outlinewidth": 0,
             "ticks": ""
            },
            "colorscale": [
             [
              0,
              "#0d0887"
             ],
             [
              0.1111111111111111,
              "#46039f"
             ],
             [
              0.2222222222222222,
              "#7201a8"
             ],
             [
              0.3333333333333333,
              "#9c179e"
             ],
             [
              0.4444444444444444,
              "#bd3786"
             ],
             [
              0.5555555555555556,
              "#d8576b"
             ],
             [
              0.6666666666666666,
              "#ed7953"
             ],
             [
              0.7777777777777778,
              "#fb9f3a"
             ],
             [
              0.8888888888888888,
              "#fdca26"
             ],
             [
              1,
              "#f0f921"
             ]
            ],
            "type": "contour"
           }
          ],
          "contourcarpet": [
           {
            "colorbar": {
             "outlinewidth": 0,
             "ticks": ""
            },
            "type": "contourcarpet"
           }
          ],
          "heatmap": [
           {
            "colorbar": {
             "outlinewidth": 0,
             "ticks": ""
            },
            "colorscale": [
             [
              0,
              "#0d0887"
             ],
             [
              0.1111111111111111,
              "#46039f"
             ],
             [
              0.2222222222222222,
              "#7201a8"
             ],
             [
              0.3333333333333333,
              "#9c179e"
             ],
             [
              0.4444444444444444,
              "#bd3786"
             ],
             [
              0.5555555555555556,
              "#d8576b"
             ],
             [
              0.6666666666666666,
              "#ed7953"
             ],
             [
              0.7777777777777778,
              "#fb9f3a"
             ],
             [
              0.8888888888888888,
              "#fdca26"
             ],
             [
              1,
              "#f0f921"
             ]
            ],
            "type": "heatmap"
           }
          ],
          "heatmapgl": [
           {
            "colorbar": {
             "outlinewidth": 0,
             "ticks": ""
            },
            "colorscale": [
             [
              0,
              "#0d0887"
             ],
             [
              0.1111111111111111,
              "#46039f"
             ],
             [
              0.2222222222222222,
              "#7201a8"
             ],
             [
              0.3333333333333333,
              "#9c179e"
             ],
             [
              0.4444444444444444,
              "#bd3786"
             ],
             [
              0.5555555555555556,
              "#d8576b"
             ],
             [
              0.6666666666666666,
              "#ed7953"
             ],
             [
              0.7777777777777778,
              "#fb9f3a"
             ],
             [
              0.8888888888888888,
              "#fdca26"
             ],
             [
              1,
              "#f0f921"
             ]
            ],
            "type": "heatmapgl"
           }
          ],
          "histogram": [
           {
            "marker": {
             "colorbar": {
              "outlinewidth": 0,
              "ticks": ""
             }
            },
            "type": "histogram"
           }
          ],
          "histogram2d": [
           {
            "colorbar": {
             "outlinewidth": 0,
             "ticks": ""
            },
            "colorscale": [
             [
              0,
              "#0d0887"
             ],
             [
              0.1111111111111111,
              "#46039f"
             ],
             [
              0.2222222222222222,
              "#7201a8"
             ],
             [
              0.3333333333333333,
              "#9c179e"
             ],
             [
              0.4444444444444444,
              "#bd3786"
             ],
             [
              0.5555555555555556,
              "#d8576b"
             ],
             [
              0.6666666666666666,
              "#ed7953"
             ],
             [
              0.7777777777777778,
              "#fb9f3a"
             ],
             [
              0.8888888888888888,
              "#fdca26"
             ],
             [
              1,
              "#f0f921"
             ]
            ],
            "type": "histogram2d"
           }
          ],
          "histogram2dcontour": [
           {
            "colorbar": {
             "outlinewidth": 0,
             "ticks": ""
            },
            "colorscale": [
             [
              0,
              "#0d0887"
             ],
             [
              0.1111111111111111,
              "#46039f"
             ],
             [
              0.2222222222222222,
              "#7201a8"
             ],
             [
              0.3333333333333333,
              "#9c179e"
             ],
             [
              0.4444444444444444,
              "#bd3786"
             ],
             [
              0.5555555555555556,
              "#d8576b"
             ],
             [
              0.6666666666666666,
              "#ed7953"
             ],
             [
              0.7777777777777778,
              "#fb9f3a"
             ],
             [
              0.8888888888888888,
              "#fdca26"
             ],
             [
              1,
              "#f0f921"
             ]
            ],
            "type": "histogram2dcontour"
           }
          ],
          "mesh3d": [
           {
            "colorbar": {
             "outlinewidth": 0,
             "ticks": ""
            },
            "type": "mesh3d"
           }
          ],
          "parcoords": [
           {
            "line": {
             "colorbar": {
              "outlinewidth": 0,
              "ticks": ""
             }
            },
            "type": "parcoords"
           }
          ],
          "pie": [
           {
            "automargin": true,
            "type": "pie"
           }
          ],
          "scatter": [
           {
            "marker": {
             "colorbar": {
              "outlinewidth": 0,
              "ticks": ""
             }
            },
            "type": "scatter"
           }
          ],
          "scatter3d": [
           {
            "line": {
             "colorbar": {
              "outlinewidth": 0,
              "ticks": ""
             }
            },
            "marker": {
             "colorbar": {
              "outlinewidth": 0,
              "ticks": ""
             }
            },
            "type": "scatter3d"
           }
          ],
          "scattercarpet": [
           {
            "marker": {
             "colorbar": {
              "outlinewidth": 0,
              "ticks": ""
             }
            },
            "type": "scattercarpet"
           }
          ],
          "scattergeo": [
           {
            "marker": {
             "colorbar": {
              "outlinewidth": 0,
              "ticks": ""
             }
            },
            "type": "scattergeo"
           }
          ],
          "scattergl": [
           {
            "marker": {
             "colorbar": {
              "outlinewidth": 0,
              "ticks": ""
             }
            },
            "type": "scattergl"
           }
          ],
          "scattermapbox": [
           {
            "marker": {
             "colorbar": {
              "outlinewidth": 0,
              "ticks": ""
             }
            },
            "type": "scattermapbox"
           }
          ],
          "scatterpolar": [
           {
            "marker": {
             "colorbar": {
              "outlinewidth": 0,
              "ticks": ""
             }
            },
            "type": "scatterpolar"
           }
          ],
          "scatterpolargl": [
           {
            "marker": {
             "colorbar": {
              "outlinewidth": 0,
              "ticks": ""
             }
            },
            "type": "scatterpolargl"
           }
          ],
          "scatterternary": [
           {
            "marker": {
             "colorbar": {
              "outlinewidth": 0,
              "ticks": ""
             }
            },
            "type": "scatterternary"
           }
          ],
          "surface": [
           {
            "colorbar": {
             "outlinewidth": 0,
             "ticks": ""
            },
            "colorscale": [
             [
              0,
              "#0d0887"
             ],
             [
              0.1111111111111111,
              "#46039f"
             ],
             [
              0.2222222222222222,
              "#7201a8"
             ],
             [
              0.3333333333333333,
              "#9c179e"
             ],
             [
              0.4444444444444444,
              "#bd3786"
             ],
             [
              0.5555555555555556,
              "#d8576b"
             ],
             [
              0.6666666666666666,
              "#ed7953"
             ],
             [
              0.7777777777777778,
              "#fb9f3a"
             ],
             [
              0.8888888888888888,
              "#fdca26"
             ],
             [
              1,
              "#f0f921"
             ]
            ],
            "type": "surface"
           }
          ],
          "table": [
           {
            "cells": {
             "fill": {
              "color": "#EBF0F8"
             },
             "line": {
              "color": "white"
             }
            },
            "header": {
             "fill": {
              "color": "#C8D4E3"
             },
             "line": {
              "color": "white"
             }
            },
            "type": "table"
           }
          ]
         },
         "layout": {
          "annotationdefaults": {
           "arrowcolor": "#2a3f5f",
           "arrowhead": 0,
           "arrowwidth": 1
          },
          "coloraxis": {
           "colorbar": {
            "outlinewidth": 0,
            "ticks": ""
           }
          },
          "colorscale": {
           "diverging": [
            [
             0,
             "#8e0152"
            ],
            [
             0.1,
             "#c51b7d"
            ],
            [
             0.2,
             "#de77ae"
            ],
            [
             0.3,
             "#f1b6da"
            ],
            [
             0.4,
             "#fde0ef"
            ],
            [
             0.5,
             "#f7f7f7"
            ],
            [
             0.6,
             "#e6f5d0"
            ],
            [
             0.7,
             "#b8e186"
            ],
            [
             0.8,
             "#7fbc41"
            ],
            [
             0.9,
             "#4d9221"
            ],
            [
             1,
             "#276419"
            ]
           ],
           "sequential": [
            [
             0,
             "#0d0887"
            ],
            [
             0.1111111111111111,
             "#46039f"
            ],
            [
             0.2222222222222222,
             "#7201a8"
            ],
            [
             0.3333333333333333,
             "#9c179e"
            ],
            [
             0.4444444444444444,
             "#bd3786"
            ],
            [
             0.5555555555555556,
             "#d8576b"
            ],
            [
             0.6666666666666666,
             "#ed7953"
            ],
            [
             0.7777777777777778,
             "#fb9f3a"
            ],
            [
             0.8888888888888888,
             "#fdca26"
            ],
            [
             1,
             "#f0f921"
            ]
           ],
           "sequentialminus": [
            [
             0,
             "#0d0887"
            ],
            [
             0.1111111111111111,
             "#46039f"
            ],
            [
             0.2222222222222222,
             "#7201a8"
            ],
            [
             0.3333333333333333,
             "#9c179e"
            ],
            [
             0.4444444444444444,
             "#bd3786"
            ],
            [
             0.5555555555555556,
             "#d8576b"
            ],
            [
             0.6666666666666666,
             "#ed7953"
            ],
            [
             0.7777777777777778,
             "#fb9f3a"
            ],
            [
             0.8888888888888888,
             "#fdca26"
            ],
            [
             1,
             "#f0f921"
            ]
           ]
          },
          "colorway": [
           "#636efa",
           "#EF553B",
           "#00cc96",
           "#ab63fa",
           "#FFA15A",
           "#19d3f3",
           "#FF6692",
           "#B6E880",
           "#FF97FF",
           "#FECB52"
          ],
          "font": {
           "color": "#2a3f5f"
          },
          "geo": {
           "bgcolor": "white",
           "lakecolor": "white",
           "landcolor": "#E5ECF6",
           "showlakes": true,
           "showland": true,
           "subunitcolor": "white"
          },
          "hoverlabel": {
           "align": "left"
          },
          "hovermode": "closest",
          "mapbox": {
           "style": "light"
          },
          "paper_bgcolor": "white",
          "plot_bgcolor": "#E5ECF6",
          "polar": {
           "angularaxis": {
            "gridcolor": "white",
            "linecolor": "white",
            "ticks": ""
           },
           "bgcolor": "#E5ECF6",
           "radialaxis": {
            "gridcolor": "white",
            "linecolor": "white",
            "ticks": ""
           }
          },
          "scene": {
           "xaxis": {
            "backgroundcolor": "#E5ECF6",
            "gridcolor": "white",
            "gridwidth": 2,
            "linecolor": "white",
            "showbackground": true,
            "ticks": "",
            "zerolinecolor": "white"
           },
           "yaxis": {
            "backgroundcolor": "#E5ECF6",
            "gridcolor": "white",
            "gridwidth": 2,
            "linecolor": "white",
            "showbackground": true,
            "ticks": "",
            "zerolinecolor": "white"
           },
           "zaxis": {
            "backgroundcolor": "#E5ECF6",
            "gridcolor": "white",
            "gridwidth": 2,
            "linecolor": "white",
            "showbackground": true,
            "ticks": "",
            "zerolinecolor": "white"
           }
          },
          "shapedefaults": {
           "line": {
            "color": "#2a3f5f"
           }
          },
          "ternary": {
           "aaxis": {
            "gridcolor": "white",
            "linecolor": "white",
            "ticks": ""
           },
           "baxis": {
            "gridcolor": "white",
            "linecolor": "white",
            "ticks": ""
           },
           "bgcolor": "#E5ECF6",
           "caxis": {
            "gridcolor": "white",
            "linecolor": "white",
            "ticks": ""
           }
          },
          "title": {
           "x": 0.05
          },
          "xaxis": {
           "automargin": true,
           "gridcolor": "white",
           "linecolor": "white",
           "ticks": "",
           "title": {
            "standoff": 15
           },
           "zerolinecolor": "white",
           "zerolinewidth": 2
          },
          "yaxis": {
           "automargin": true,
           "gridcolor": "white",
           "linecolor": "white",
           "ticks": "",
           "title": {
            "standoff": 15
           },
           "zerolinecolor": "white",
           "zerolinewidth": 2
          }
         }
        },
        "title": {
         "text": "Model Accuracy Comparison"
        },
        "xaxis": {
         "anchor": "y",
         "domain": [
          0,
          1
         ],
         "title": {
          "text": "x"
         }
        },
        "yaxis": {
         "anchor": "x",
         "domain": [
          0,
          1
         ],
         "title": {
          "text": "Accuracy"
         }
        }
       }
      },
      "text/html": [
       "<div>                            <div id=\"75a18a89-84fb-42d7-9347-86290ac43ac5\" class=\"plotly-graph-div\" style=\"height:525px; width:100%;\"></div>            <script type=\"text/javascript\">                require([\"plotly\"], function(Plotly) {                    window.PLOTLYENV=window.PLOTLYENV || {};                                    if (document.getElementById(\"75a18a89-84fb-42d7-9347-86290ac43ac5\")) {                    Plotly.newPlot(                        \"75a18a89-84fb-42d7-9347-86290ac43ac5\",                        [{\"alignmentgroup\": \"True\", \"hovertemplate\": \"x=%{x}<br>Accuracy=%{y}<extra></extra>\", \"legendgroup\": \"\", \"marker\": {\"color\": \"#636efa\"}, \"name\": \"\", \"offsetgroup\": \"\", \"orientation\": \"v\", \"showlegend\": false, \"textposition\": \"auto\", \"type\": \"bar\", \"x\": [\"Random Forest Classifier\", \"Support Vector Machines\", \"K-Nearest Neighbor\"], \"xaxis\": \"x\", \"y\": [0.9679054054054054, 0.8547297297297297, 0.8986486486486487], \"yaxis\": \"y\"}],                        {\"barmode\": \"relative\", \"legend\": {\"tracegroupgap\": 0}, \"margin\": {\"t\": 60}, \"template\": {\"data\": {\"bar\": [{\"error_x\": {\"color\": \"#2a3f5f\"}, \"error_y\": {\"color\": \"#2a3f5f\"}, \"marker\": {\"line\": {\"color\": \"#E5ECF6\", \"width\": 0.5}}, \"type\": \"bar\"}], \"barpolar\": [{\"marker\": {\"line\": {\"color\": \"#E5ECF6\", \"width\": 0.5}}, \"type\": \"barpolar\"}], \"carpet\": [{\"aaxis\": {\"endlinecolor\": \"#2a3f5f\", \"gridcolor\": \"white\", \"linecolor\": \"white\", \"minorgridcolor\": \"white\", \"startlinecolor\": \"#2a3f5f\"}, \"baxis\": {\"endlinecolor\": \"#2a3f5f\", \"gridcolor\": \"white\", \"linecolor\": \"white\", \"minorgridcolor\": \"white\", \"startlinecolor\": \"#2a3f5f\"}, \"type\": \"carpet\"}], \"choropleth\": [{\"colorbar\": {\"outlinewidth\": 0, \"ticks\": \"\"}, \"type\": \"choropleth\"}], \"contour\": [{\"colorbar\": {\"outlinewidth\": 0, \"ticks\": \"\"}, \"colorscale\": [[0.0, \"#0d0887\"], [0.1111111111111111, \"#46039f\"], [0.2222222222222222, \"#7201a8\"], [0.3333333333333333, \"#9c179e\"], [0.4444444444444444, \"#bd3786\"], [0.5555555555555556, \"#d8576b\"], [0.6666666666666666, \"#ed7953\"], [0.7777777777777778, \"#fb9f3a\"], [0.8888888888888888, \"#fdca26\"], [1.0, \"#f0f921\"]], \"type\": \"contour\"}], \"contourcarpet\": [{\"colorbar\": {\"outlinewidth\": 0, \"ticks\": \"\"}, \"type\": \"contourcarpet\"}], \"heatmap\": [{\"colorbar\": {\"outlinewidth\": 0, \"ticks\": \"\"}, \"colorscale\": [[0.0, \"#0d0887\"], [0.1111111111111111, \"#46039f\"], [0.2222222222222222, \"#7201a8\"], [0.3333333333333333, \"#9c179e\"], [0.4444444444444444, \"#bd3786\"], [0.5555555555555556, \"#d8576b\"], [0.6666666666666666, \"#ed7953\"], [0.7777777777777778, \"#fb9f3a\"], [0.8888888888888888, \"#fdca26\"], [1.0, \"#f0f921\"]], \"type\": \"heatmap\"}], \"heatmapgl\": [{\"colorbar\": {\"outlinewidth\": 0, \"ticks\": \"\"}, \"colorscale\": [[0.0, \"#0d0887\"], [0.1111111111111111, \"#46039f\"], [0.2222222222222222, \"#7201a8\"], [0.3333333333333333, \"#9c179e\"], [0.4444444444444444, \"#bd3786\"], [0.5555555555555556, \"#d8576b\"], [0.6666666666666666, \"#ed7953\"], [0.7777777777777778, \"#fb9f3a\"], [0.8888888888888888, \"#fdca26\"], [1.0, \"#f0f921\"]], \"type\": \"heatmapgl\"}], \"histogram\": [{\"marker\": {\"colorbar\": {\"outlinewidth\": 0, \"ticks\": \"\"}}, \"type\": \"histogram\"}], \"histogram2d\": [{\"colorbar\": {\"outlinewidth\": 0, \"ticks\": \"\"}, \"colorscale\": [[0.0, \"#0d0887\"], [0.1111111111111111, \"#46039f\"], [0.2222222222222222, \"#7201a8\"], [0.3333333333333333, \"#9c179e\"], [0.4444444444444444, \"#bd3786\"], [0.5555555555555556, \"#d8576b\"], [0.6666666666666666, \"#ed7953\"], [0.7777777777777778, \"#fb9f3a\"], [0.8888888888888888, \"#fdca26\"], [1.0, \"#f0f921\"]], \"type\": \"histogram2d\"}], \"histogram2dcontour\": [{\"colorbar\": {\"outlinewidth\": 0, \"ticks\": \"\"}, \"colorscale\": [[0.0, \"#0d0887\"], [0.1111111111111111, \"#46039f\"], [0.2222222222222222, \"#7201a8\"], [0.3333333333333333, \"#9c179e\"], [0.4444444444444444, \"#bd3786\"], [0.5555555555555556, \"#d8576b\"], [0.6666666666666666, \"#ed7953\"], [0.7777777777777778, \"#fb9f3a\"], [0.8888888888888888, \"#fdca26\"], [1.0, \"#f0f921\"]], \"type\": \"histogram2dcontour\"}], \"mesh3d\": [{\"colorbar\": {\"outlinewidth\": 0, \"ticks\": \"\"}, \"type\": \"mesh3d\"}], \"parcoords\": [{\"line\": {\"colorbar\": {\"outlinewidth\": 0, \"ticks\": \"\"}}, \"type\": \"parcoords\"}], \"pie\": [{\"automargin\": true, \"type\": \"pie\"}], \"scatter\": [{\"marker\": {\"colorbar\": {\"outlinewidth\": 0, \"ticks\": \"\"}}, \"type\": \"scatter\"}], \"scatter3d\": [{\"line\": {\"colorbar\": {\"outlinewidth\": 0, \"ticks\": \"\"}}, \"marker\": {\"colorbar\": {\"outlinewidth\": 0, \"ticks\": \"\"}}, \"type\": \"scatter3d\"}], \"scattercarpet\": [{\"marker\": {\"colorbar\": {\"outlinewidth\": 0, \"ticks\": \"\"}}, \"type\": \"scattercarpet\"}], \"scattergeo\": [{\"marker\": {\"colorbar\": {\"outlinewidth\": 0, \"ticks\": \"\"}}, \"type\": \"scattergeo\"}], \"scattergl\": [{\"marker\": {\"colorbar\": {\"outlinewidth\": 0, \"ticks\": \"\"}}, \"type\": \"scattergl\"}], \"scattermapbox\": [{\"marker\": {\"colorbar\": {\"outlinewidth\": 0, \"ticks\": \"\"}}, \"type\": \"scattermapbox\"}], \"scatterpolar\": [{\"marker\": {\"colorbar\": {\"outlinewidth\": 0, \"ticks\": \"\"}}, \"type\": \"scatterpolar\"}], \"scatterpolargl\": [{\"marker\": {\"colorbar\": {\"outlinewidth\": 0, \"ticks\": \"\"}}, \"type\": \"scatterpolargl\"}], \"scatterternary\": [{\"marker\": {\"colorbar\": {\"outlinewidth\": 0, \"ticks\": \"\"}}, \"type\": \"scatterternary\"}], \"surface\": [{\"colorbar\": {\"outlinewidth\": 0, \"ticks\": \"\"}, \"colorscale\": [[0.0, \"#0d0887\"], [0.1111111111111111, \"#46039f\"], [0.2222222222222222, \"#7201a8\"], [0.3333333333333333, \"#9c179e\"], [0.4444444444444444, \"#bd3786\"], [0.5555555555555556, \"#d8576b\"], [0.6666666666666666, \"#ed7953\"], [0.7777777777777778, \"#fb9f3a\"], [0.8888888888888888, \"#fdca26\"], [1.0, \"#f0f921\"]], \"type\": \"surface\"}], \"table\": [{\"cells\": {\"fill\": {\"color\": \"#EBF0F8\"}, \"line\": {\"color\": \"white\"}}, \"header\": {\"fill\": {\"color\": \"#C8D4E3\"}, \"line\": {\"color\": \"white\"}}, \"type\": \"table\"}]}, \"layout\": {\"annotationdefaults\": {\"arrowcolor\": \"#2a3f5f\", \"arrowhead\": 0, \"arrowwidth\": 1}, \"coloraxis\": {\"colorbar\": {\"outlinewidth\": 0, \"ticks\": \"\"}}, \"colorscale\": {\"diverging\": [[0, \"#8e0152\"], [0.1, \"#c51b7d\"], [0.2, \"#de77ae\"], [0.3, \"#f1b6da\"], [0.4, \"#fde0ef\"], [0.5, \"#f7f7f7\"], [0.6, \"#e6f5d0\"], [0.7, \"#b8e186\"], [0.8, \"#7fbc41\"], [0.9, \"#4d9221\"], [1, \"#276419\"]], \"sequential\": [[0.0, \"#0d0887\"], [0.1111111111111111, \"#46039f\"], [0.2222222222222222, \"#7201a8\"], [0.3333333333333333, \"#9c179e\"], [0.4444444444444444, \"#bd3786\"], [0.5555555555555556, \"#d8576b\"], [0.6666666666666666, \"#ed7953\"], [0.7777777777777778, \"#fb9f3a\"], [0.8888888888888888, \"#fdca26\"], [1.0, \"#f0f921\"]], \"sequentialminus\": [[0.0, \"#0d0887\"], [0.1111111111111111, \"#46039f\"], [0.2222222222222222, \"#7201a8\"], [0.3333333333333333, \"#9c179e\"], [0.4444444444444444, \"#bd3786\"], [0.5555555555555556, \"#d8576b\"], [0.6666666666666666, \"#ed7953\"], [0.7777777777777778, \"#fb9f3a\"], [0.8888888888888888, \"#fdca26\"], [1.0, \"#f0f921\"]]}, \"colorway\": [\"#636efa\", \"#EF553B\", \"#00cc96\", \"#ab63fa\", \"#FFA15A\", \"#19d3f3\", \"#FF6692\", \"#B6E880\", \"#FF97FF\", \"#FECB52\"], \"font\": {\"color\": \"#2a3f5f\"}, \"geo\": {\"bgcolor\": \"white\", \"lakecolor\": \"white\", \"landcolor\": \"#E5ECF6\", \"showlakes\": true, \"showland\": true, \"subunitcolor\": \"white\"}, \"hoverlabel\": {\"align\": \"left\"}, \"hovermode\": \"closest\", \"mapbox\": {\"style\": \"light\"}, \"paper_bgcolor\": \"white\", \"plot_bgcolor\": \"#E5ECF6\", \"polar\": {\"angularaxis\": {\"gridcolor\": \"white\", \"linecolor\": \"white\", \"ticks\": \"\"}, \"bgcolor\": \"#E5ECF6\", \"radialaxis\": {\"gridcolor\": \"white\", \"linecolor\": \"white\", \"ticks\": \"\"}}, \"scene\": {\"xaxis\": {\"backgroundcolor\": \"#E5ECF6\", \"gridcolor\": \"white\", \"gridwidth\": 2, \"linecolor\": \"white\", \"showbackground\": true, \"ticks\": \"\", \"zerolinecolor\": \"white\"}, \"yaxis\": {\"backgroundcolor\": \"#E5ECF6\", \"gridcolor\": \"white\", \"gridwidth\": 2, \"linecolor\": \"white\", \"showbackground\": true, \"ticks\": \"\", \"zerolinecolor\": \"white\"}, \"zaxis\": {\"backgroundcolor\": \"#E5ECF6\", \"gridcolor\": \"white\", \"gridwidth\": 2, \"linecolor\": \"white\", \"showbackground\": true, \"ticks\": \"\", \"zerolinecolor\": \"white\"}}, \"shapedefaults\": {\"line\": {\"color\": \"#2a3f5f\"}}, \"ternary\": {\"aaxis\": {\"gridcolor\": \"white\", \"linecolor\": \"white\", \"ticks\": \"\"}, \"baxis\": {\"gridcolor\": \"white\", \"linecolor\": \"white\", \"ticks\": \"\"}, \"bgcolor\": \"#E5ECF6\", \"caxis\": {\"gridcolor\": \"white\", \"linecolor\": \"white\", \"ticks\": \"\"}}, \"title\": {\"x\": 0.05}, \"xaxis\": {\"automargin\": true, \"gridcolor\": \"white\", \"linecolor\": \"white\", \"ticks\": \"\", \"title\": {\"standoff\": 15}, \"zerolinecolor\": \"white\", \"zerolinewidth\": 2}, \"yaxis\": {\"automargin\": true, \"gridcolor\": \"white\", \"linecolor\": \"white\", \"ticks\": \"\", \"title\": {\"standoff\": 15}, \"zerolinecolor\": \"white\", \"zerolinewidth\": 2}}}, \"title\": {\"text\": \"Model Accuracy Comparison\"}, \"xaxis\": {\"anchor\": \"y\", \"domain\": [0.0, 1.0], \"title\": {\"text\": \"x\"}}, \"yaxis\": {\"anchor\": \"x\", \"domain\": [0.0, 1.0], \"title\": {\"text\": \"Accuracy\"}}},                        {\"responsive\": true}                    ).then(function(){\n",
       "                            \n",
       "var gd = document.getElementById('75a18a89-84fb-42d7-9347-86290ac43ac5');\n",
       "var x = new MutationObserver(function (mutations, observer) {{\n",
       "        var display = window.getComputedStyle(gd).display;\n",
       "        if (!display || display === 'none') {{\n",
       "            console.log([gd, 'removed!']);\n",
       "            Plotly.purge(gd);\n",
       "            observer.disconnect();\n",
       "        }}\n",
       "}});\n",
       "\n",
       "// Listen for the removal of the full notebook cells\n",
       "var notebookContainer = gd.closest('#notebook-container');\n",
       "if (notebookContainer) {{\n",
       "    x.observe(notebookContainer, {childList: true});\n",
       "}}\n",
       "\n",
       "// Listen for the clearing of the current output cell\n",
       "var outputEl = gd.closest('.output');\n",
       "if (outputEl) {{\n",
       "    x.observe(outputEl, {childList: true});\n",
       "}}\n",
       "\n",
       "                        })                };                });            </script>        </div>"
      ]
     },
     "metadata": {},
     "output_type": "display_data"
    }
   ],
   "source": [
    "model_scores_df_fig = px.bar(model_scores_df, x=[\"Random Forest Classifier\", \"Support Vector Machines\", \"K-Nearest Neighbor\"], y=model_scores_df[\"Accuracy\"])\n",
    "model_scores_df_fig.update_layout(title_text='Model Accuracy Comparison')\n",
    "model_scores_df_fig.show()"
   ]
  },
  {
   "cell_type": "markdown",
   "metadata": {},
   "source": [
    "### 7.2 Manual Hyperparameter Tuning"
   ]
  },
  {
   "cell_type": "markdown",
   "metadata": {},
   "source": [
    "Tuning Random Forest Classifier"
   ]
  },
  {
   "cell_type": "code",
   "execution_count": 44,
   "metadata": {},
   "outputs": [],
   "source": [
    "train_scores_random_forest = []\n",
    "test_scores_random_forest = []\n",
    "# Setting up n_estimators testing parameter in the range(1,21)\n",
    "k_estimators = range(1, 21)\n",
    "\n",
    "# Initializing the Random Forest Classifier()\n",
    "random_forest = RandomForestClassifier()\n",
    "\n",
    "# Looping through different n_estimators to find out best accuracy\n",
    "for i in k_estimators:\n",
    "    random_forest.set_params(n_estimators=i, random_state=42)\n",
    "    random_forest.fit(X_train, y_train)\n",
    "    train_scores_random_forest.append(random_forest.score(X_train, y_train))\n",
    "    test_scores_random_forest.append(random_forest.score(X_test, y_test))"
   ]
  },
  {
   "cell_type": "code",
   "execution_count": 45,
   "metadata": {},
   "outputs": [
    {
     "name": "stdout",
     "output_type": "stream",
     "text": [
      "Maximum model score on the training data : 100.00%\n",
      "Maximum model score on the test data : 96.96%\n"
     ]
    },
    {
     "data": {
      "image/png": "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\n",
      "text/plain": [
       "<Figure size 800x400 with 1 Axes>"
      ]
     },
     "metadata": {
      "needs_background": "light"
     },
     "output_type": "display_data"
    }
   ],
   "source": [
    "fig = plt.figure(figsize=(8,4), dpi=100)\n",
    "plt.plot(k_estimators, train_scores_random_forest, label=\"Train Scores\")\n",
    "plt.plot(k_estimators, test_scores_random_forest, label=\"Test Scores\")\n",
    "plt.xticks(np.arange(1, 21))\n",
    "plt.xlabel(\"Number of n_estimators\")\n",
    "plt.ylabel(\"Model Score\")\n",
    "plt.legend()\n",
    "print(f\"Maximum model score on the training data : {max(train_scores_random_forest)*100:.2f}%\")\n",
    "print(f\"Maximum model score on the test data : {max(test_scores_random_forest)*100:.2f}%\")"
   ]
  },
  {
   "cell_type": "markdown",
   "metadata": {},
   "source": [
    "Tuning K-Nearest Neighbor Classifier"
   ]
  },
  {
   "cell_type": "code",
   "execution_count": 46,
   "metadata": {},
   "outputs": [],
   "source": [
    "train_scores_knn = []\n",
    "test_scores_knn = []\n",
    "# Setting up n_neighbors testing parameter in the range(1,21)\n",
    "k_neighbors = range(1, 21)\n",
    "\n",
    "# Initializing the K-Nearest Neighbor Classifier()\n",
    "knn = KNeighborsClassifier()\n",
    "\n",
    "# Looping through different n_estimators to find out best accuracy\n",
    "for i in k_neighbors:\n",
    "    knn.set_params(n_neighbors=i)\n",
    "    knn.fit(X_train, y_train)\n",
    "    train_scores_knn.append(knn.score(X_train, y_train))\n",
    "    test_scores_knn.append(knn.score(X_test, y_test))"
   ]
  },
  {
   "cell_type": "code",
   "execution_count": 47,
   "metadata": {},
   "outputs": [
    {
     "name": "stdout",
     "output_type": "stream",
     "text": [
      "Maximum model score on the training data : 100.00%\n",
      "Maximum model score on the test data : 92.57%\n"
     ]
    },
    {
     "data": {
      "image/png": "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\n",
      "text/plain": [
       "<Figure size 800x400 with 1 Axes>"
      ]
     },
     "metadata": {
      "needs_background": "light"
     },
     "output_type": "display_data"
    }
   ],
   "source": [
    "fig = plt.figure(figsize=(8,4), dpi=100)\n",
    "plt.plot(k_neighbors, train_scores_knn, label=\"Train Scores\")\n",
    "plt.plot(k_neighbors, test_scores_knn, label=\"Test Scores\")\n",
    "plt.xticks(np.arange(1, 21))\n",
    "plt.xlabel(\"Number of n_neighbors\")\n",
    "plt.ylabel(\"Model Score\")\n",
    "plt.legend()\n",
    "print(f\"Maximum model score on the training data : {max(train_scores_knn)*100:.2f}%\")\n",
    "print(f\"Maximum model score on the test data : {max(test_scores_knn)*100:.2f}%\")"
   ]
  },
  {
   "cell_type": "markdown",
   "metadata": {},
   "source": [
    "### 7.3 Hyperparameter tuning using GridSearchCV"
   ]
  },
  {
   "cell_type": "markdown",
   "metadata": {},
   "source": [
    "Tuning Random Forest Classifier"
   ]
  },
  {
   "cell_type": "code",
   "execution_count": 48,
   "metadata": {},
   "outputs": [
    {
     "name": "stdout",
     "output_type": "stream",
     "text": [
      "Fitting 10 folds for each of 91 candidates, totalling 910 fits\n"
     ]
    },
    {
     "name": "stderr",
     "output_type": "stream",